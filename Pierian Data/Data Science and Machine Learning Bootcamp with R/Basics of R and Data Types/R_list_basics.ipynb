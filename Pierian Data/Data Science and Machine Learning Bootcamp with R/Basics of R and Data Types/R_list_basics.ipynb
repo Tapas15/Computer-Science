{
 "cells": [
  {
   "cell_type": "markdown",
   "metadata": {},
   "source": [
    "### R Lists Basics"
   ]
  },
  {
   "cell_type": "markdown",
   "metadata": {},
   "source": [
    "WE've covered Vectors, Matrices.and Data frames. now we will learn about our last basic bulit -in data structure: the list."
   ]
  },
  {
   "cell_type": "markdown",
   "metadata": {},
   "source": [
    "List will allow us to sotre a variety of data structures under a single variable. This means we coudld store a vector, matrix dataframe, etc undera silgle list for example:"
   ]
  },
  {
   "cell_type": "code",
   "execution_count": 9,
   "metadata": {},
   "outputs": [],
   "source": [
    "# create avector\n",
    "v <- c(1,2,3,4,5)\n",
    "# create a mitrix\n",
    "m <- matrix(1:10,nrow=2)\n",
    "#Create a data frame\n",
    "df <- women"
   ]
  },
  {
   "cell_type": "code",
   "execution_count": 11,
   "metadata": {},
   "outputs": [
    {
     "data": {
      "text/html": [
       "<style>\n",
       ".list-inline {list-style: none; margin:0; padding: 0}\n",
       ".list-inline>li {display: inline-block}\n",
       ".list-inline>li:not(:last-child)::after {content: \"\\00b7\"; padding: 0 .5ex}\n",
       "</style>\n",
       "<ol class=list-inline><li>1</li><li>2</li><li>3</li><li>4</li><li>5</li></ol>\n"
      ],
      "text/latex": [
       "\\begin{enumerate*}\n",
       "\\item 1\n",
       "\\item 2\n",
       "\\item 3\n",
       "\\item 4\n",
       "\\item 5\n",
       "\\end{enumerate*}\n"
      ],
      "text/markdown": [
       "1. 1\n",
       "2. 2\n",
       "3. 3\n",
       "4. 4\n",
       "5. 5\n",
       "\n",
       "\n"
      ],
      "text/plain": [
       "[1] 1 2 3 4 5"
      ]
     },
     "metadata": {},
     "output_type": "display_data"
    }
   ],
   "source": [
    "v"
   ]
  },
  {
   "cell_type": "code",
   "execution_count": 14,
   "metadata": {},
   "outputs": [
    {
     "data": {
      "text/html": [
       "<table>\n",
       "<caption>A matrix: 2 × 5 of type int</caption>\n",
       "<tbody>\n",
       "\t<tr><td>1</td><td>3</td><td>5</td><td>7</td><td> 9</td></tr>\n",
       "\t<tr><td>2</td><td>4</td><td>6</td><td>8</td><td>10</td></tr>\n",
       "</tbody>\n",
       "</table>\n"
      ],
      "text/latex": [
       "A matrix: 2 × 5 of type int\n",
       "\\begin{tabular}{lllll}\n",
       "\t 1 & 3 & 5 & 7 &  9\\\\\n",
       "\t 2 & 4 & 6 & 8 & 10\\\\\n",
       "\\end{tabular}\n"
      ],
      "text/markdown": [
       "\n",
       "A matrix: 2 × 5 of type int\n",
       "\n",
       "| 1 | 3 | 5 | 7 |  9 |\n",
       "| 2 | 4 | 6 | 8 | 10 |\n",
       "\n"
      ],
      "text/plain": [
       "     [,1] [,2] [,3] [,4] [,5]\n",
       "[1,] 1    3    5    7     9  \n",
       "[2,] 2    4    6    8    10  "
      ]
     },
     "metadata": {},
     "output_type": "display_data"
    }
   ],
   "source": [
    "m"
   ]
  },
  {
   "cell_type": "code",
   "execution_count": 16,
   "metadata": {},
   "outputs": [
    {
     "data": {
      "text/html": [
       "<table>\n",
       "<caption>A data.frame: 15 × 2</caption>\n",
       "<thead>\n",
       "\t<tr><th scope=col>height</th><th scope=col>weight</th></tr>\n",
       "\t<tr><th scope=col>&lt;dbl&gt;</th><th scope=col>&lt;dbl&gt;</th></tr>\n",
       "</thead>\n",
       "<tbody>\n",
       "\t<tr><td>58</td><td>115</td></tr>\n",
       "\t<tr><td>59</td><td>117</td></tr>\n",
       "\t<tr><td>60</td><td>120</td></tr>\n",
       "\t<tr><td>61</td><td>123</td></tr>\n",
       "\t<tr><td>62</td><td>126</td></tr>\n",
       "\t<tr><td>63</td><td>129</td></tr>\n",
       "\t<tr><td>64</td><td>132</td></tr>\n",
       "\t<tr><td>65</td><td>135</td></tr>\n",
       "\t<tr><td>66</td><td>139</td></tr>\n",
       "\t<tr><td>67</td><td>142</td></tr>\n",
       "\t<tr><td>68</td><td>146</td></tr>\n",
       "\t<tr><td>69</td><td>150</td></tr>\n",
       "\t<tr><td>70</td><td>154</td></tr>\n",
       "\t<tr><td>71</td><td>159</td></tr>\n",
       "\t<tr><td>72</td><td>164</td></tr>\n",
       "</tbody>\n",
       "</table>\n"
      ],
      "text/latex": [
       "A data.frame: 15 × 2\n",
       "\\begin{tabular}{ll}\n",
       " height & weight\\\\\n",
       " <dbl> & <dbl>\\\\\n",
       "\\hline\n",
       "\t 58 & 115\\\\\n",
       "\t 59 & 117\\\\\n",
       "\t 60 & 120\\\\\n",
       "\t 61 & 123\\\\\n",
       "\t 62 & 126\\\\\n",
       "\t 63 & 129\\\\\n",
       "\t 64 & 132\\\\\n",
       "\t 65 & 135\\\\\n",
       "\t 66 & 139\\\\\n",
       "\t 67 & 142\\\\\n",
       "\t 68 & 146\\\\\n",
       "\t 69 & 150\\\\\n",
       "\t 70 & 154\\\\\n",
       "\t 71 & 159\\\\\n",
       "\t 72 & 164\\\\\n",
       "\\end{tabular}\n"
      ],
      "text/markdown": [
       "\n",
       "A data.frame: 15 × 2\n",
       "\n",
       "| height &lt;dbl&gt; | weight &lt;dbl&gt; |\n",
       "|---|---|\n",
       "| 58 | 115 |\n",
       "| 59 | 117 |\n",
       "| 60 | 120 |\n",
       "| 61 | 123 |\n",
       "| 62 | 126 |\n",
       "| 63 | 129 |\n",
       "| 64 | 132 |\n",
       "| 65 | 135 |\n",
       "| 66 | 139 |\n",
       "| 67 | 142 |\n",
       "| 68 | 146 |\n",
       "| 69 | 150 |\n",
       "| 70 | 154 |\n",
       "| 71 | 159 |\n",
       "| 72 | 164 |\n",
       "\n"
      ],
      "text/plain": [
       "   height weight\n",
       "1  58     115   \n",
       "2  59     117   \n",
       "3  60     120   \n",
       "4  61     123   \n",
       "5  62     126   \n",
       "6  63     129   \n",
       "7  64     132   \n",
       "8  65     135   \n",
       "9  66     139   \n",
       "10 67     142   \n",
       "11 68     146   \n",
       "12 69     150   \n",
       "13 70     154   \n",
       "14 71     159   \n",
       "15 72     164   "
      ]
     },
     "metadata": {},
     "output_type": "display_data"
    }
   ],
   "source": [
    "df"
   ]
  },
  {
   "cell_type": "markdown",
   "metadata": {},
   "source": [
    "### Using list()"
   ]
  },
  {
   "cell_type": "code",
   "execution_count": 19,
   "metadata": {},
   "outputs": [],
   "source": [
    "li  <- list(v,m,df)"
   ]
  },
  {
   "cell_type": "code",
   "execution_count": 21,
   "metadata": {},
   "outputs": [
    {
     "data": {
      "text/html": [
       "<ol>\n",
       "\t<li><style>\n",
       ".list-inline {list-style: none; margin:0; padding: 0}\n",
       ".list-inline>li {display: inline-block}\n",
       ".list-inline>li:not(:last-child)::after {content: \"\\00b7\"; padding: 0 .5ex}\n",
       "</style>\n",
       "<ol class=list-inline><li>1</li><li>2</li><li>3</li><li>4</li><li>5</li></ol>\n",
       "</li>\n",
       "\t<li><table>\n",
       "<caption>A matrix: 2 × 5 of type int</caption>\n",
       "<tbody>\n",
       "\t<tr><td>1</td><td>3</td><td>5</td><td>7</td><td> 9</td></tr>\n",
       "\t<tr><td>2</td><td>4</td><td>6</td><td>8</td><td>10</td></tr>\n",
       "</tbody>\n",
       "</table>\n",
       "</li>\n",
       "\t<li><table>\n",
       "<caption>A data.frame: 15 × 2</caption>\n",
       "<thead>\n",
       "\t<tr><th scope=col>height</th><th scope=col>weight</th></tr>\n",
       "\t<tr><th scope=col>&lt;dbl&gt;</th><th scope=col>&lt;dbl&gt;</th></tr>\n",
       "</thead>\n",
       "<tbody>\n",
       "\t<tr><td>58</td><td>115</td></tr>\n",
       "\t<tr><td>59</td><td>117</td></tr>\n",
       "\t<tr><td>60</td><td>120</td></tr>\n",
       "\t<tr><td>61</td><td>123</td></tr>\n",
       "\t<tr><td>62</td><td>126</td></tr>\n",
       "\t<tr><td>63</td><td>129</td></tr>\n",
       "\t<tr><td>64</td><td>132</td></tr>\n",
       "\t<tr><td>65</td><td>135</td></tr>\n",
       "\t<tr><td>66</td><td>139</td></tr>\n",
       "\t<tr><td>67</td><td>142</td></tr>\n",
       "\t<tr><td>68</td><td>146</td></tr>\n",
       "\t<tr><td>69</td><td>150</td></tr>\n",
       "\t<tr><td>70</td><td>154</td></tr>\n",
       "\t<tr><td>71</td><td>159</td></tr>\n",
       "\t<tr><td>72</td><td>164</td></tr>\n",
       "</tbody>\n",
       "</table>\n",
       "</li>\n",
       "</ol>\n"
      ],
      "text/latex": [
       "\\begin{enumerate}\n",
       "\\item \\begin{enumerate*}\n",
       "\\item 1\n",
       "\\item 2\n",
       "\\item 3\n",
       "\\item 4\n",
       "\\item 5\n",
       "\\end{enumerate*}\n",
       "\n",
       "\\item A matrix: 2 × 5 of type int\n",
       "\\begin{tabular}{lllll}\n",
       "\t 1 & 3 & 5 & 7 &  9\\\\\n",
       "\t 2 & 4 & 6 & 8 & 10\\\\\n",
       "\\end{tabular}\n",
       "\n",
       "\\item A data.frame: 15 × 2\n",
       "\\begin{tabular}{ll}\n",
       " height & weight\\\\\n",
       " <dbl> & <dbl>\\\\\n",
       "\\hline\n",
       "\t 58 & 115\\\\\n",
       "\t 59 & 117\\\\\n",
       "\t 60 & 120\\\\\n",
       "\t 61 & 123\\\\\n",
       "\t 62 & 126\\\\\n",
       "\t 63 & 129\\\\\n",
       "\t 64 & 132\\\\\n",
       "\t 65 & 135\\\\\n",
       "\t 66 & 139\\\\\n",
       "\t 67 & 142\\\\\n",
       "\t 68 & 146\\\\\n",
       "\t 69 & 150\\\\\n",
       "\t 70 & 154\\\\\n",
       "\t 71 & 159\\\\\n",
       "\t 72 & 164\\\\\n",
       "\\end{tabular}\n",
       "\n",
       "\\end{enumerate}\n"
      ],
      "text/markdown": [
       "1. 1. 1\n",
       "2. 2\n",
       "3. 3\n",
       "4. 4\n",
       "5. 5\n",
       "\n",
       "\n",
       "\n",
       "2. \n",
       "A matrix: 2 × 5 of type int\n",
       "\n",
       "| 1 | 3 | 5 | 7 |  9 |\n",
       "| 2 | 4 | 6 | 8 | 10 |\n",
       "\n",
       "\n",
       "3. \n",
       "A data.frame: 15 × 2\n",
       "\n",
       "| height &lt;dbl&gt; | weight &lt;dbl&gt; |\n",
       "|---|---|\n",
       "| 58 | 115 |\n",
       "| 59 | 117 |\n",
       "| 60 | 120 |\n",
       "| 61 | 123 |\n",
       "| 62 | 126 |\n",
       "| 63 | 129 |\n",
       "| 64 | 132 |\n",
       "| 65 | 135 |\n",
       "| 66 | 139 |\n",
       "| 67 | 142 |\n",
       "| 68 | 146 |\n",
       "| 69 | 150 |\n",
       "| 70 | 154 |\n",
       "| 71 | 159 |\n",
       "| 72 | 164 |\n",
       "\n",
       "\n",
       "\n",
       "\n"
      ],
      "text/plain": [
       "[[1]]\n",
       "[1] 1 2 3 4 5\n",
       "\n",
       "[[2]]\n",
       "     [,1] [,2] [,3] [,4] [,5]\n",
       "[1,]    1    3    5    7    9\n",
       "[2,]    2    4    6    8   10\n",
       "\n",
       "[[3]]\n",
       "   height weight\n",
       "1      58    115\n",
       "2      59    117\n",
       "3      60    120\n",
       "4      61    123\n",
       "5      62    126\n",
       "6      63    129\n",
       "7      64    132\n",
       "8      65    135\n",
       "9      66    139\n",
       "10     67    142\n",
       "11     68    146\n",
       "12     69    150\n",
       "13     70    154\n",
       "14     71    159\n",
       "15     72    164\n"
      ]
     },
     "metadata": {},
     "output_type": "display_data"
    }
   ],
   "source": [
    "li"
   ]
  },
  {
   "cell_type": "markdown",
   "metadata": {},
   "source": [
    "You will notice that the list() assigned numbers to each of the ojects in the list ,but we can also addign names in the folowing manner:"
   ]
  },
  {
   "cell_type": "code",
   "execution_count": 27,
   "metadata": {},
   "outputs": [],
   "source": [
    "li  <- list(sample_vec =v, sample_mat =m, sample_df = df)"
   ]
  },
  {
   "cell_type": "code",
   "execution_count": 30,
   "metadata": {},
   "outputs": [
    {
     "data": {
      "text/html": [
       "<dl>\n",
       "\t<dt>$sample_vec</dt>\n",
       "\t\t<dd><style>\n",
       ".list-inline {list-style: none; margin:0; padding: 0}\n",
       ".list-inline>li {display: inline-block}\n",
       ".list-inline>li:not(:last-child)::after {content: \"\\00b7\"; padding: 0 .5ex}\n",
       "</style>\n",
       "<ol class=list-inline><li>1</li><li>2</li><li>3</li><li>4</li><li>5</li></ol>\n",
       "</dd>\n",
       "\t<dt>$sample_mat</dt>\n",
       "\t\t<dd><table>\n",
       "<caption>A matrix: 2 × 5 of type int</caption>\n",
       "<tbody>\n",
       "\t<tr><td>1</td><td>3</td><td>5</td><td>7</td><td> 9</td></tr>\n",
       "\t<tr><td>2</td><td>4</td><td>6</td><td>8</td><td>10</td></tr>\n",
       "</tbody>\n",
       "</table>\n",
       "</dd>\n",
       "\t<dt>$sample_df</dt>\n",
       "\t\t<dd><table>\n",
       "<caption>A data.frame: 15 × 2</caption>\n",
       "<thead>\n",
       "\t<tr><th scope=col>height</th><th scope=col>weight</th></tr>\n",
       "\t<tr><th scope=col>&lt;dbl&gt;</th><th scope=col>&lt;dbl&gt;</th></tr>\n",
       "</thead>\n",
       "<tbody>\n",
       "\t<tr><td>58</td><td>115</td></tr>\n",
       "\t<tr><td>59</td><td>117</td></tr>\n",
       "\t<tr><td>60</td><td>120</td></tr>\n",
       "\t<tr><td>61</td><td>123</td></tr>\n",
       "\t<tr><td>62</td><td>126</td></tr>\n",
       "\t<tr><td>63</td><td>129</td></tr>\n",
       "\t<tr><td>64</td><td>132</td></tr>\n",
       "\t<tr><td>65</td><td>135</td></tr>\n",
       "\t<tr><td>66</td><td>139</td></tr>\n",
       "\t<tr><td>67</td><td>142</td></tr>\n",
       "\t<tr><td>68</td><td>146</td></tr>\n",
       "\t<tr><td>69</td><td>150</td></tr>\n",
       "\t<tr><td>70</td><td>154</td></tr>\n",
       "\t<tr><td>71</td><td>159</td></tr>\n",
       "\t<tr><td>72</td><td>164</td></tr>\n",
       "</tbody>\n",
       "</table>\n",
       "</dd>\n",
       "</dl>\n"
      ],
      "text/latex": [
       "\\begin{description}\n",
       "\\item[\\$sample\\_vec] \\begin{enumerate*}\n",
       "\\item 1\n",
       "\\item 2\n",
       "\\item 3\n",
       "\\item 4\n",
       "\\item 5\n",
       "\\end{enumerate*}\n",
       "\n",
       "\\item[\\$sample\\_mat] A matrix: 2 × 5 of type int\n",
       "\\begin{tabular}{lllll}\n",
       "\t 1 & 3 & 5 & 7 &  9\\\\\n",
       "\t 2 & 4 & 6 & 8 & 10\\\\\n",
       "\\end{tabular}\n",
       "\n",
       "\\item[\\$sample\\_df] A data.frame: 15 × 2\n",
       "\\begin{tabular}{ll}\n",
       " height & weight\\\\\n",
       " <dbl> & <dbl>\\\\\n",
       "\\hline\n",
       "\t 58 & 115\\\\\n",
       "\t 59 & 117\\\\\n",
       "\t 60 & 120\\\\\n",
       "\t 61 & 123\\\\\n",
       "\t 62 & 126\\\\\n",
       "\t 63 & 129\\\\\n",
       "\t 64 & 132\\\\\n",
       "\t 65 & 135\\\\\n",
       "\t 66 & 139\\\\\n",
       "\t 67 & 142\\\\\n",
       "\t 68 & 146\\\\\n",
       "\t 69 & 150\\\\\n",
       "\t 70 & 154\\\\\n",
       "\t 71 & 159\\\\\n",
       "\t 72 & 164\\\\\n",
       "\\end{tabular}\n",
       "\n",
       "\\end{description}\n"
      ],
      "text/markdown": [
       "$sample_vec\n",
       ":   1. 1\n",
       "2. 2\n",
       "3. 3\n",
       "4. 4\n",
       "5. 5\n",
       "\n",
       "\n",
       "\n",
       "$sample_mat\n",
       ":   \n",
       "A matrix: 2 × 5 of type int\n",
       "\n",
       "| 1 | 3 | 5 | 7 |  9 |\n",
       "| 2 | 4 | 6 | 8 | 10 |\n",
       "\n",
       "\n",
       "$sample_df\n",
       ":   \n",
       "A data.frame: 15 × 2\n",
       "\n",
       "| height &lt;dbl&gt; | weight &lt;dbl&gt; |\n",
       "|---|---|\n",
       "| 58 | 115 |\n",
       "| 59 | 117 |\n",
       "| 60 | 120 |\n",
       "| 61 | 123 |\n",
       "| 62 | 126 |\n",
       "| 63 | 129 |\n",
       "| 64 | 132 |\n",
       "| 65 | 135 |\n",
       "| 66 | 139 |\n",
       "| 67 | 142 |\n",
       "| 68 | 146 |\n",
       "| 69 | 150 |\n",
       "| 70 | 154 |\n",
       "| 71 | 159 |\n",
       "| 72 | 164 |\n",
       "\n",
       "\n",
       "\n",
       "\n"
      ],
      "text/plain": [
       "$sample_vec\n",
       "[1] 1 2 3 4 5\n",
       "\n",
       "$sample_mat\n",
       "     [,1] [,2] [,3] [,4] [,5]\n",
       "[1,]    1    3    5    7    9\n",
       "[2,]    2    4    6    8   10\n",
       "\n",
       "$sample_df\n",
       "   height weight\n",
       "1      58    115\n",
       "2      59    117\n",
       "3      60    120\n",
       "4      61    123\n",
       "5      62    126\n",
       "6      63    129\n",
       "7      64    132\n",
       "8      65    135\n",
       "9      66    139\n",
       "10     67    142\n",
       "11     68    146\n",
       "12     69    150\n",
       "13     70    154\n",
       "14     71    159\n",
       "15     72    164\n"
      ]
     },
     "metadata": {},
     "output_type": "display_data"
    }
   ],
   "source": [
    "#ignore the \"error in vapply\", this won't occur in Rstudio!\n",
    "li"
   ]
  },
  {
   "cell_type": "markdown",
   "metadata": {},
   "source": [
    "#### Selecting ibjects from a list "
   ]
  },
  {
   "cell_type": "markdown",
   "metadata": {},
   "source": [
    "You can use bracket notation to show objects ina list and double brackets to actually grab the objects form the list for ecample:"
   ]
  },
  {
   "cell_type": "code",
   "execution_count": 36,
   "metadata": {},
   "outputs": [
    {
     "data": {
      "text/html": [
       "<strong>$sample_vec</strong> = <style>\n",
       ".list-inline {list-style: none; margin:0; padding: 0}\n",
       ".list-inline>li {display: inline-block}\n",
       ".list-inline>li:not(:last-child)::after {content: \"\\00b7\"; padding: 0 .5ex}\n",
       "</style>\n",
       "<ol class=list-inline><li>1</li><li>2</li><li>3</li><li>4</li><li>5</li></ol>\n"
      ],
      "text/latex": [
       "\\textbf{\\$sample\\_vec} = \\begin{enumerate*}\n",
       "\\item 1\n",
       "\\item 2\n",
       "\\item 3\n",
       "\\item 4\n",
       "\\item 5\n",
       "\\end{enumerate*}\n"
      ],
      "text/markdown": [
       "**$sample_vec** = 1. 1\n",
       "2. 2\n",
       "3. 3\n",
       "4. 4\n",
       "5. 5\n",
       "\n",
       "\n"
      ],
      "text/plain": [
       "$sample_vec\n",
       "[1] 1 2 3 4 5\n"
      ]
     },
     "metadata": {},
     "output_type": "display_data"
    }
   ],
   "source": [
    "# Single brackets \n",
    "li[1] # by index"
   ]
  },
  {
   "cell_type": "code",
   "execution_count": 39,
   "metadata": {},
   "outputs": [
    {
     "data": {
      "text/html": [
       "<strong>$sample_vec</strong> = <style>\n",
       ".list-inline {list-style: none; margin:0; padding: 0}\n",
       ".list-inline>li {display: inline-block}\n",
       ".list-inline>li:not(:last-child)::after {content: \"\\00b7\"; padding: 0 .5ex}\n",
       "</style>\n",
       "<ol class=list-inline><li>1</li><li>2</li><li>3</li><li>4</li><li>5</li></ol>\n"
      ],
      "text/latex": [
       "\\textbf{\\$sample\\_vec} = \\begin{enumerate*}\n",
       "\\item 1\n",
       "\\item 2\n",
       "\\item 3\n",
       "\\item 4\n",
       "\\item 5\n",
       "\\end{enumerate*}\n"
      ],
      "text/markdown": [
       "**$sample_vec** = 1. 1\n",
       "2. 2\n",
       "3. 3\n",
       "4. 4\n",
       "5. 5\n",
       "\n",
       "\n"
      ],
      "text/plain": [
       "$sample_vec\n",
       "[1] 1 2 3 4 5\n"
      ]
     },
     "metadata": {},
     "output_type": "display_data"
    }
   ],
   "source": [
    "# By name \n",
    "li['sample_vec']"
   ]
  },
  {
   "cell_type": "code",
   "execution_count": 40,
   "metadata": {},
   "outputs": [
    {
     "data": {
      "text/html": [
       "'list'"
      ],
      "text/latex": [
       "'list'"
      ],
      "text/markdown": [
       "'list'"
      ],
      "text/plain": [
       "[1] \"list\""
      ]
     },
     "metadata": {},
     "output_type": "display_data"
    }
   ],
   "source": [
    "#notice the type!\n",
    "class(li['smaple_vec'])"
   ]
  },
  {
   "cell_type": "code",
   "execution_count": 41,
   "metadata": {},
   "outputs": [
    {
     "data": {
      "text/html": [
       "<style>\n",
       ".list-inline {list-style: none; margin:0; padding: 0}\n",
       ".list-inline>li {display: inline-block}\n",
       ".list-inline>li:not(:last-child)::after {content: \"\\00b7\"; padding: 0 .5ex}\n",
       "</style>\n",
       "<ol class=list-inline><li>1</li><li>2</li><li>3</li><li>4</li><li>5</li></ol>\n"
      ],
      "text/latex": [
       "\\begin{enumerate*}\n",
       "\\item 1\n",
       "\\item 2\n",
       "\\item 3\n",
       "\\item 4\n",
       "\\item 5\n",
       "\\end{enumerate*}\n"
      ],
      "text/markdown": [
       "1. 1\n",
       "2. 2\n",
       "3. 3\n",
       "4. 4\n",
       "5. 5\n",
       "\n",
       "\n"
      ],
      "text/plain": [
       "[1] 1 2 3 4 5"
      ]
     },
     "metadata": {},
     "output_type": "display_data"
    }
   ],
   "source": [
    "#Use double brackets toactually grab the items\n",
    "li[['sample_vec']]"
   ]
  },
  {
   "cell_type": "code",
   "execution_count": 43,
   "metadata": {},
   "outputs": [
    {
     "data": {
      "text/html": [
       "<style>\n",
       ".list-inline {list-style: none; margin:0; padding: 0}\n",
       ".list-inline>li {display: inline-block}\n",
       ".list-inline>li:not(:last-child)::after {content: \"\\00b7\"; padding: 0 .5ex}\n",
       "</style>\n",
       "<ol class=list-inline><li>1</li><li>2</li><li>3</li><li>4</li><li>5</li></ol>\n"
      ],
      "text/latex": [
       "\\begin{enumerate*}\n",
       "\\item 1\n",
       "\\item 2\n",
       "\\item 3\n",
       "\\item 4\n",
       "\\item 5\n",
       "\\end{enumerate*}\n"
      ],
      "text/markdown": [
       "1. 1\n",
       "2. 2\n",
       "3. 3\n",
       "4. 4\n",
       "5. 5\n",
       "\n",
       "\n"
      ],
      "text/plain": [
       "[1] 1 2 3 4 5"
      ]
     },
     "metadata": {},
     "output_type": "display_data"
    }
   ],
   "source": [
    "#Can also use $ notation \n",
    "li$sample_vec"
   ]
  },
  {
   "cell_type": "markdown",
   "metadata": {},
   "source": [
    "You cna also index on top of this once you've selected the objects form the list for exampl:"
   ]
  },
  {
   "cell_type": "code",
   "execution_count": 48,
   "metadata": {},
   "outputs": [
    {
     "data": {
      "text/html": [
       "1"
      ],
      "text/latex": [
       "1"
      ],
      "text/markdown": [
       "1"
      ],
      "text/plain": [
       "[1] 1"
      ]
     },
     "metadata": {},
     "output_type": "display_data"
    }
   ],
   "source": [
    "li[['sample_vec']][1]"
   ]
  },
  {
   "cell_type": "code",
   "execution_count": 50,
   "metadata": {},
   "outputs": [
    {
     "data": {
      "text/html": [
       "<table>\n",
       "<caption>A matrix: 2 × 5 of type int</caption>\n",
       "<tbody>\n",
       "\t<tr><td>1</td><td>3</td><td>5</td><td>7</td><td> 9</td></tr>\n",
       "\t<tr><td>2</td><td>4</td><td>6</td><td>8</td><td>10</td></tr>\n",
       "</tbody>\n",
       "</table>\n"
      ],
      "text/latex": [
       "A matrix: 2 × 5 of type int\n",
       "\\begin{tabular}{lllll}\n",
       "\t 1 & 3 & 5 & 7 &  9\\\\\n",
       "\t 2 & 4 & 6 & 8 & 10\\\\\n",
       "\\end{tabular}\n"
      ],
      "text/markdown": [
       "\n",
       "A matrix: 2 × 5 of type int\n",
       "\n",
       "| 1 | 3 | 5 | 7 |  9 |\n",
       "| 2 | 4 | 6 | 8 | 10 |\n",
       "\n"
      ],
      "text/plain": [
       "     [,1] [,2] [,3] [,4] [,5]\n",
       "[1,] 1    3    5    7     9  \n",
       "[2,] 2    4    6    8    10  "
      ]
     },
     "metadata": {},
     "output_type": "display_data"
    }
   ],
   "source": [
    "li[['sample_mat']]"
   ]
  },
  {
   "cell_type": "code",
   "execution_count": 52,
   "metadata": {},
   "outputs": [
    {
     "data": {
      "text/html": [
       "<table>\n",
       "<caption>A matrix: 2 × 2 of type int</caption>\n",
       "<tbody>\n",
       "\t<tr><td>1</td><td>3</td></tr>\n",
       "\t<tr><td>2</td><td>4</td></tr>\n",
       "</tbody>\n",
       "</table>\n"
      ],
      "text/latex": [
       "A matrix: 2 × 2 of type int\n",
       "\\begin{tabular}{ll}\n",
       "\t 1 & 3\\\\\n",
       "\t 2 & 4\\\\\n",
       "\\end{tabular}\n"
      ],
      "text/markdown": [
       "\n",
       "A matrix: 2 × 2 of type int\n",
       "\n",
       "| 1 | 3 |\n",
       "| 2 | 4 |\n",
       "\n"
      ],
      "text/plain": [
       "     [,1] [,2]\n",
       "[1,] 1    3   \n",
       "[2,] 2    4   "
      ]
     },
     "metadata": {},
     "output_type": "display_data"
    }
   ],
   "source": [
    "li[['sample_mat']][1:2,1:2]"
   ]
  },
  {
   "cell_type": "code",
   "execution_count": 56,
   "metadata": {},
   "outputs": [
    {
     "data": {
      "text/html": [
       "<table>\n",
       "<caption>A data.frame: 15 × 1</caption>\n",
       "<thead>\n",
       "\t<tr><th scope=col>height</th></tr>\n",
       "\t<tr><th scope=col>&lt;dbl&gt;</th></tr>\n",
       "</thead>\n",
       "<tbody>\n",
       "\t<tr><td>58</td></tr>\n",
       "\t<tr><td>59</td></tr>\n",
       "\t<tr><td>60</td></tr>\n",
       "\t<tr><td>61</td></tr>\n",
       "\t<tr><td>62</td></tr>\n",
       "\t<tr><td>63</td></tr>\n",
       "\t<tr><td>64</td></tr>\n",
       "\t<tr><td>65</td></tr>\n",
       "\t<tr><td>66</td></tr>\n",
       "\t<tr><td>67</td></tr>\n",
       "\t<tr><td>68</td></tr>\n",
       "\t<tr><td>69</td></tr>\n",
       "\t<tr><td>70</td></tr>\n",
       "\t<tr><td>71</td></tr>\n",
       "\t<tr><td>72</td></tr>\n",
       "</tbody>\n",
       "</table>\n"
      ],
      "text/latex": [
       "A data.frame: 15 × 1\n",
       "\\begin{tabular}{l}\n",
       " height\\\\\n",
       " <dbl>\\\\\n",
       "\\hline\n",
       "\t 58\\\\\n",
       "\t 59\\\\\n",
       "\t 60\\\\\n",
       "\t 61\\\\\n",
       "\t 62\\\\\n",
       "\t 63\\\\\n",
       "\t 64\\\\\n",
       "\t 65\\\\\n",
       "\t 66\\\\\n",
       "\t 67\\\\\n",
       "\t 68\\\\\n",
       "\t 69\\\\\n",
       "\t 70\\\\\n",
       "\t 71\\\\\n",
       "\t 72\\\\\n",
       "\\end{tabular}\n"
      ],
      "text/markdown": [
       "\n",
       "A data.frame: 15 × 1\n",
       "\n",
       "| height &lt;dbl&gt; |\n",
       "|---|\n",
       "| 58 |\n",
       "| 59 |\n",
       "| 60 |\n",
       "| 61 |\n",
       "| 62 |\n",
       "| 63 |\n",
       "| 64 |\n",
       "| 65 |\n",
       "| 66 |\n",
       "| 67 |\n",
       "| 68 |\n",
       "| 69 |\n",
       "| 70 |\n",
       "| 71 |\n",
       "| 72 |\n",
       "\n"
      ],
      "text/plain": [
       "   height\n",
       "1  58    \n",
       "2  59    \n",
       "3  60    \n",
       "4  61    \n",
       "5  62    \n",
       "6  63    \n",
       "7  64    \n",
       "8  65    \n",
       "9  66    \n",
       "10 67    \n",
       "11 68    \n",
       "12 69    \n",
       "13 70    \n",
       "14 71    \n",
       "15 72    "
      ]
     },
     "metadata": {},
     "output_type": "display_data"
    }
   ],
   "source": [
    "li[['sample_df']]['height']"
   ]
  },
  {
   "cell_type": "markdown",
   "metadata": {},
   "source": [
    "### Combining lists"
   ]
  },
  {
   "cell_type": "markdown",
   "metadata": {},
   "source": [
    "lists can hold others list You can also combine its using the cimbine function c():"
   ]
  },
  {
   "cell_type": "code",
   "execution_count": 61,
   "metadata": {},
   "outputs": [],
   "source": [
    "double_list  <- c(li,li)"
   ]
  },
  {
   "cell_type": "code",
   "execution_count": 62,
   "metadata": {},
   "outputs": [
    {
     "data": {
      "text/html": [
       "<dl>\n",
       "\t<dt>$sample_vec</dt>\n",
       "\t\t<dd><style>\n",
       ".list-inline {list-style: none; margin:0; padding: 0}\n",
       ".list-inline>li {display: inline-block}\n",
       ".list-inline>li:not(:last-child)::after {content: \"\\00b7\"; padding: 0 .5ex}\n",
       "</style>\n",
       "<ol class=list-inline><li>1</li><li>2</li><li>3</li><li>4</li><li>5</li></ol>\n",
       "</dd>\n",
       "\t<dt>$sample_mat</dt>\n",
       "\t\t<dd><table>\n",
       "<caption>A matrix: 2 × 5 of type int</caption>\n",
       "<tbody>\n",
       "\t<tr><td>1</td><td>3</td><td>5</td><td>7</td><td> 9</td></tr>\n",
       "\t<tr><td>2</td><td>4</td><td>6</td><td>8</td><td>10</td></tr>\n",
       "</tbody>\n",
       "</table>\n",
       "</dd>\n",
       "\t<dt>$sample_df</dt>\n",
       "\t\t<dd><table>\n",
       "<caption>A data.frame: 15 × 2</caption>\n",
       "<thead>\n",
       "\t<tr><th scope=col>height</th><th scope=col>weight</th></tr>\n",
       "\t<tr><th scope=col>&lt;dbl&gt;</th><th scope=col>&lt;dbl&gt;</th></tr>\n",
       "</thead>\n",
       "<tbody>\n",
       "\t<tr><td>58</td><td>115</td></tr>\n",
       "\t<tr><td>59</td><td>117</td></tr>\n",
       "\t<tr><td>60</td><td>120</td></tr>\n",
       "\t<tr><td>61</td><td>123</td></tr>\n",
       "\t<tr><td>62</td><td>126</td></tr>\n",
       "\t<tr><td>63</td><td>129</td></tr>\n",
       "\t<tr><td>64</td><td>132</td></tr>\n",
       "\t<tr><td>65</td><td>135</td></tr>\n",
       "\t<tr><td>66</td><td>139</td></tr>\n",
       "\t<tr><td>67</td><td>142</td></tr>\n",
       "\t<tr><td>68</td><td>146</td></tr>\n",
       "\t<tr><td>69</td><td>150</td></tr>\n",
       "\t<tr><td>70</td><td>154</td></tr>\n",
       "\t<tr><td>71</td><td>159</td></tr>\n",
       "\t<tr><td>72</td><td>164</td></tr>\n",
       "</tbody>\n",
       "</table>\n",
       "</dd>\n",
       "\t<dt>$sample_vec</dt>\n",
       "\t\t<dd><style>\n",
       ".list-inline {list-style: none; margin:0; padding: 0}\n",
       ".list-inline>li {display: inline-block}\n",
       ".list-inline>li:not(:last-child)::after {content: \"\\00b7\"; padding: 0 .5ex}\n",
       "</style>\n",
       "<ol class=list-inline><li>1</li><li>2</li><li>3</li><li>4</li><li>5</li></ol>\n",
       "</dd>\n",
       "\t<dt>$sample_mat</dt>\n",
       "\t\t<dd><table>\n",
       "<caption>A matrix: 2 × 5 of type int</caption>\n",
       "<tbody>\n",
       "\t<tr><td>1</td><td>3</td><td>5</td><td>7</td><td> 9</td></tr>\n",
       "\t<tr><td>2</td><td>4</td><td>6</td><td>8</td><td>10</td></tr>\n",
       "</tbody>\n",
       "</table>\n",
       "</dd>\n",
       "\t<dt>$sample_df</dt>\n",
       "\t\t<dd><table>\n",
       "<caption>A data.frame: 15 × 2</caption>\n",
       "<thead>\n",
       "\t<tr><th scope=col>height</th><th scope=col>weight</th></tr>\n",
       "\t<tr><th scope=col>&lt;dbl&gt;</th><th scope=col>&lt;dbl&gt;</th></tr>\n",
       "</thead>\n",
       "<tbody>\n",
       "\t<tr><td>58</td><td>115</td></tr>\n",
       "\t<tr><td>59</td><td>117</td></tr>\n",
       "\t<tr><td>60</td><td>120</td></tr>\n",
       "\t<tr><td>61</td><td>123</td></tr>\n",
       "\t<tr><td>62</td><td>126</td></tr>\n",
       "\t<tr><td>63</td><td>129</td></tr>\n",
       "\t<tr><td>64</td><td>132</td></tr>\n",
       "\t<tr><td>65</td><td>135</td></tr>\n",
       "\t<tr><td>66</td><td>139</td></tr>\n",
       "\t<tr><td>67</td><td>142</td></tr>\n",
       "\t<tr><td>68</td><td>146</td></tr>\n",
       "\t<tr><td>69</td><td>150</td></tr>\n",
       "\t<tr><td>70</td><td>154</td></tr>\n",
       "\t<tr><td>71</td><td>159</td></tr>\n",
       "\t<tr><td>72</td><td>164</td></tr>\n",
       "</tbody>\n",
       "</table>\n",
       "</dd>\n",
       "</dl>\n"
      ],
      "text/latex": [
       "\\begin{description}\n",
       "\\item[\\$sample\\_vec] \\begin{enumerate*}\n",
       "\\item 1\n",
       "\\item 2\n",
       "\\item 3\n",
       "\\item 4\n",
       "\\item 5\n",
       "\\end{enumerate*}\n",
       "\n",
       "\\item[\\$sample\\_mat] A matrix: 2 × 5 of type int\n",
       "\\begin{tabular}{lllll}\n",
       "\t 1 & 3 & 5 & 7 &  9\\\\\n",
       "\t 2 & 4 & 6 & 8 & 10\\\\\n",
       "\\end{tabular}\n",
       "\n",
       "\\item[\\$sample\\_df] A data.frame: 15 × 2\n",
       "\\begin{tabular}{ll}\n",
       " height & weight\\\\\n",
       " <dbl> & <dbl>\\\\\n",
       "\\hline\n",
       "\t 58 & 115\\\\\n",
       "\t 59 & 117\\\\\n",
       "\t 60 & 120\\\\\n",
       "\t 61 & 123\\\\\n",
       "\t 62 & 126\\\\\n",
       "\t 63 & 129\\\\\n",
       "\t 64 & 132\\\\\n",
       "\t 65 & 135\\\\\n",
       "\t 66 & 139\\\\\n",
       "\t 67 & 142\\\\\n",
       "\t 68 & 146\\\\\n",
       "\t 69 & 150\\\\\n",
       "\t 70 & 154\\\\\n",
       "\t 71 & 159\\\\\n",
       "\t 72 & 164\\\\\n",
       "\\end{tabular}\n",
       "\n",
       "\\item[\\$sample\\_vec] \\begin{enumerate*}\n",
       "\\item 1\n",
       "\\item 2\n",
       "\\item 3\n",
       "\\item 4\n",
       "\\item 5\n",
       "\\end{enumerate*}\n",
       "\n",
       "\\item[\\$sample\\_mat] A matrix: 2 × 5 of type int\n",
       "\\begin{tabular}{lllll}\n",
       "\t 1 & 3 & 5 & 7 &  9\\\\\n",
       "\t 2 & 4 & 6 & 8 & 10\\\\\n",
       "\\end{tabular}\n",
       "\n",
       "\\item[\\$sample\\_df] A data.frame: 15 × 2\n",
       "\\begin{tabular}{ll}\n",
       " height & weight\\\\\n",
       " <dbl> & <dbl>\\\\\n",
       "\\hline\n",
       "\t 58 & 115\\\\\n",
       "\t 59 & 117\\\\\n",
       "\t 60 & 120\\\\\n",
       "\t 61 & 123\\\\\n",
       "\t 62 & 126\\\\\n",
       "\t 63 & 129\\\\\n",
       "\t 64 & 132\\\\\n",
       "\t 65 & 135\\\\\n",
       "\t 66 & 139\\\\\n",
       "\t 67 & 142\\\\\n",
       "\t 68 & 146\\\\\n",
       "\t 69 & 150\\\\\n",
       "\t 70 & 154\\\\\n",
       "\t 71 & 159\\\\\n",
       "\t 72 & 164\\\\\n",
       "\\end{tabular}\n",
       "\n",
       "\\end{description}\n"
      ],
      "text/markdown": [
       "$sample_vec\n",
       ":   1. 1\n",
       "2. 2\n",
       "3. 3\n",
       "4. 4\n",
       "5. 5\n",
       "\n",
       "\n",
       "\n",
       "$sample_mat\n",
       ":   \n",
       "A matrix: 2 × 5 of type int\n",
       "\n",
       "| 1 | 3 | 5 | 7 |  9 |\n",
       "| 2 | 4 | 6 | 8 | 10 |\n",
       "\n",
       "\n",
       "$sample_df\n",
       ":   \n",
       "A data.frame: 15 × 2\n",
       "\n",
       "| height &lt;dbl&gt; | weight &lt;dbl&gt; |\n",
       "|---|---|\n",
       "| 58 | 115 |\n",
       "| 59 | 117 |\n",
       "| 60 | 120 |\n",
       "| 61 | 123 |\n",
       "| 62 | 126 |\n",
       "| 63 | 129 |\n",
       "| 64 | 132 |\n",
       "| 65 | 135 |\n",
       "| 66 | 139 |\n",
       "| 67 | 142 |\n",
       "| 68 | 146 |\n",
       "| 69 | 150 |\n",
       "| 70 | 154 |\n",
       "| 71 | 159 |\n",
       "| 72 | 164 |\n",
       "\n",
       "\n",
       "$sample_vec\n",
       ":   1. 1\n",
       "2. 2\n",
       "3. 3\n",
       "4. 4\n",
       "5. 5\n",
       "\n",
       "\n",
       "\n",
       "$sample_mat\n",
       ":   \n",
       "A matrix: 2 × 5 of type int\n",
       "\n",
       "| 1 | 3 | 5 | 7 |  9 |\n",
       "| 2 | 4 | 6 | 8 | 10 |\n",
       "\n",
       "\n",
       "$sample_df\n",
       ":   \n",
       "A data.frame: 15 × 2\n",
       "\n",
       "| height &lt;dbl&gt; | weight &lt;dbl&gt; |\n",
       "|---|---|\n",
       "| 58 | 115 |\n",
       "| 59 | 117 |\n",
       "| 60 | 120 |\n",
       "| 61 | 123 |\n",
       "| 62 | 126 |\n",
       "| 63 | 129 |\n",
       "| 64 | 132 |\n",
       "| 65 | 135 |\n",
       "| 66 | 139 |\n",
       "| 67 | 142 |\n",
       "| 68 | 146 |\n",
       "| 69 | 150 |\n",
       "| 70 | 154 |\n",
       "| 71 | 159 |\n",
       "| 72 | 164 |\n",
       "\n",
       "\n",
       "\n",
       "\n"
      ],
      "text/plain": [
       "$sample_vec\n",
       "[1] 1 2 3 4 5\n",
       "\n",
       "$sample_mat\n",
       "     [,1] [,2] [,3] [,4] [,5]\n",
       "[1,]    1    3    5    7    9\n",
       "[2,]    2    4    6    8   10\n",
       "\n",
       "$sample_df\n",
       "   height weight\n",
       "1      58    115\n",
       "2      59    117\n",
       "3      60    120\n",
       "4      61    123\n",
       "5      62    126\n",
       "6      63    129\n",
       "7      64    132\n",
       "8      65    135\n",
       "9      66    139\n",
       "10     67    142\n",
       "11     68    146\n",
       "12     69    150\n",
       "13     70    154\n",
       "14     71    159\n",
       "15     72    164\n",
       "\n",
       "$sample_vec\n",
       "[1] 1 2 3 4 5\n",
       "\n",
       "$sample_mat\n",
       "     [,1] [,2] [,3] [,4] [,5]\n",
       "[1,]    1    3    5    7    9\n",
       "[2,]    2    4    6    8   10\n",
       "\n",
       "$sample_df\n",
       "   height weight\n",
       "1      58    115\n",
       "2      59    117\n",
       "3      60    120\n",
       "4      61    123\n",
       "5      62    126\n",
       "6      63    129\n",
       "7      64    132\n",
       "8      65    135\n",
       "9      66    139\n",
       "10     67    142\n",
       "11     68    146\n",
       "12     69    150\n",
       "13     70    154\n",
       "14     71    159\n",
       "15     72    164\n"
      ]
     },
     "metadata": {},
     "output_type": "display_data"
    }
   ],
   "source": [
    "double_list"
   ]
  },
  {
   "cell_type": "code",
   "execution_count": 64,
   "metadata": {},
   "outputs": [
    {
     "name": "stdout",
     "output_type": "stream",
     "text": [
      "List of 6\n",
      " $ sample_vec: num [1:5] 1 2 3 4 5\n",
      " $ sample_mat: int [1:2, 1:5] 1 2 3 4 5 6 7 8 9 10\n",
      " $ sample_df :'data.frame':\t15 obs. of  2 variables:\n",
      "  ..$ height: num [1:15] 58 59 60 61 62 63 64 65 66 67 ...\n",
      "  ..$ weight: num [1:15] 115 117 120 123 126 129 132 135 139 142 ...\n",
      " $ sample_vec: num [1:5] 1 2 3 4 5\n",
      " $ sample_mat: int [1:2, 1:5] 1 2 3 4 5 6 7 8 9 10\n",
      " $ sample_df :'data.frame':\t15 obs. of  2 variables:\n",
      "  ..$ height: num [1:15] 58 59 60 61 62 63 64 65 66 67 ...\n",
      "  ..$ weight: num [1:15] 115 117 120 123 126 129 132 135 139 142 ...\n"
     ]
    }
   ],
   "source": [
    "str(double_list)"
   ]
  },
  {
   "cell_type": "markdown",
   "metadata": {},
   "source": [
    "### Creating Matrix"
   ]
  },
  {
   "cell_type": "markdown",
   "metadata": {},
   "source": [
    "We've learned about vectors which allow us to store indexed elements. A matrix will allow us to have a 2-dimensional data structure which contains elements consisting of the same data type.<br>\n",
    "\n",
    "Before we talk about the Matrix, we should show a quick tip for quickly creating sequential numeric vectors, you can use the colon notation from slicing to create sequential vectors:"
   ]
  },
  {
   "cell_type": "code",
   "execution_count": 82,
   "metadata": {},
   "outputs": [
    {
     "data": {
      "text/html": [
       "<style>\n",
       ".list-inline {list-style: none; margin:0; padding: 0}\n",
       ".list-inline>li {display: inline-block}\n",
       ".list-inline>li:not(:last-child)::after {content: \"\\00b7\"; padding: 0 .5ex}\n",
       "</style>\n",
       "<ol class=list-inline><li>1</li><li>2</li><li>3</li><li>4</li><li>5</li><li>6</li><li>7</li><li>8</li><li>9</li><li>10</li></ol>\n"
      ],
      "text/latex": [
       "\\begin{enumerate*}\n",
       "\\item 1\n",
       "\\item 2\n",
       "\\item 3\n",
       "\\item 4\n",
       "\\item 5\n",
       "\\item 6\n",
       "\\item 7\n",
       "\\item 8\n",
       "\\item 9\n",
       "\\item 10\n",
       "\\end{enumerate*}\n"
      ],
      "text/markdown": [
       "1. 1\n",
       "2. 2\n",
       "3. 3\n",
       "4. 4\n",
       "5. 5\n",
       "6. 6\n",
       "7. 7\n",
       "8. 8\n",
       "9. 9\n",
       "10. 10\n",
       "\n",
       "\n"
      ],
      "text/plain": [
       " [1]  1  2  3  4  5  6  7  8  9 10"
      ]
     },
     "metadata": {},
     "output_type": "display_data"
    }
   ],
   "source": [
    "1:10"
   ]
  },
  {
   "cell_type": "code",
   "execution_count": 4,
   "metadata": {},
   "outputs": [
    {
     "data": {
      "text/html": [
       "<style>\n",
       ".list-inline {list-style: none; margin:0; padding: 0}\n",
       ".list-inline>li {display: inline-block}\n",
       ".list-inline>li:not(:last-child)::after {content: \"\\00b7\"; padding: 0 .5ex}\n",
       "</style>\n",
       "<ol class=list-inline><li>1</li><li>2</li><li>3</li><li>4</li><li>5</li><li>6</li><li>7</li><li>8</li><li>9</li><li>10</li></ol>\n"
      ],
      "text/latex": [
       "\\begin{enumerate*}\n",
       "\\item 1\n",
       "\\item 2\n",
       "\\item 3\n",
       "\\item 4\n",
       "\\item 5\n",
       "\\item 6\n",
       "\\item 7\n",
       "\\item 8\n",
       "\\item 9\n",
       "\\item 10\n",
       "\\end{enumerate*}\n"
      ],
      "text/markdown": [
       "1. 1\n",
       "2. 2\n",
       "3. 3\n",
       "4. 4\n",
       "5. 5\n",
       "6. 6\n",
       "7. 7\n",
       "8. 8\n",
       "9. 9\n",
       "10. 10\n",
       "\n",
       "\n"
      ],
      "text/plain": [
       " [1]  1  2  3  4  5  6  7  8  9 10"
      ]
     },
     "metadata": {},
     "output_type": "display_data"
    }
   ],
   "source": [
    "v  <- 1:10\n",
    "v"
   ]
  },
  {
   "cell_type": "markdown",
   "metadata": {},
   "source": [
    "Great.Now,to create a matrix in R, you use the matrix() function. We can pass"
   ]
  },
  {
   "cell_type": "code",
   "execution_count": 6,
   "metadata": {},
   "outputs": [
    {
     "data": {
      "text/html": [
       "<table>\n",
       "<caption>A matrix: 10 × 1 of type int</caption>\n",
       "<tbody>\n",
       "\t<tr><td> 1</td></tr>\n",
       "\t<tr><td> 2</td></tr>\n",
       "\t<tr><td> 3</td></tr>\n",
       "\t<tr><td> 4</td></tr>\n",
       "\t<tr><td> 5</td></tr>\n",
       "\t<tr><td> 6</td></tr>\n",
       "\t<tr><td> 7</td></tr>\n",
       "\t<tr><td> 8</td></tr>\n",
       "\t<tr><td> 9</td></tr>\n",
       "\t<tr><td>10</td></tr>\n",
       "</tbody>\n",
       "</table>\n"
      ],
      "text/latex": [
       "A matrix: 10 × 1 of type int\n",
       "\\begin{tabular}{l}\n",
       "\t  1\\\\\n",
       "\t  2\\\\\n",
       "\t  3\\\\\n",
       "\t  4\\\\\n",
       "\t  5\\\\\n",
       "\t  6\\\\\n",
       "\t  7\\\\\n",
       "\t  8\\\\\n",
       "\t  9\\\\\n",
       "\t 10\\\\\n",
       "\\end{tabular}\n"
      ],
      "text/markdown": [
       "\n",
       "A matrix: 10 × 1 of type int\n",
       "\n",
       "|  1 |\n",
       "|  2 |\n",
       "|  3 |\n",
       "|  4 |\n",
       "|  5 |\n",
       "|  6 |\n",
       "|  7 |\n",
       "|  8 |\n",
       "|  9 |\n",
       "| 10 |\n",
       "\n"
      ],
      "text/plain": [
       "      [,1]\n",
       " [1,]  1  \n",
       " [2,]  2  \n",
       " [3,]  3  \n",
       " [4,]  4  \n",
       " [5,]  5  \n",
       " [6,]  6  \n",
       " [7,]  7  \n",
       " [8,]  8  \n",
       " [9,]  9  \n",
       "[10,] 10  "
      ]
     },
     "metadata": {},
     "output_type": "display_data"
    }
   ],
   "source": [
    "matrix(v)"
   ]
  },
  {
   "cell_type": "markdown",
   "metadata": {},
   "source": [
    "Notice how the output is displayed. Here we have a two-dimensional matrix which is 10 rows by 1 column. Now what if we want to specify the number of rows? We can pass the parameter/argument into the matrix function called nrow which stands for number of rows:"
   ]
  },
  {
   "cell_type": "code",
   "execution_count": 8,
   "metadata": {},
   "outputs": [
    {
     "data": {
      "text/html": [
       "<table>\n",
       "<caption>A matrix: 2 × 5 of type int</caption>\n",
       "<tbody>\n",
       "\t<tr><td>1</td><td>3</td><td>5</td><td>7</td><td> 9</td></tr>\n",
       "\t<tr><td>2</td><td>4</td><td>6</td><td>8</td><td>10</td></tr>\n",
       "</tbody>\n",
       "</table>\n"
      ],
      "text/latex": [
       "A matrix: 2 × 5 of type int\n",
       "\\begin{tabular}{lllll}\n",
       "\t 1 & 3 & 5 & 7 &  9\\\\\n",
       "\t 2 & 4 & 6 & 8 & 10\\\\\n",
       "\\end{tabular}\n"
      ],
      "text/markdown": [
       "\n",
       "A matrix: 2 × 5 of type int\n",
       "\n",
       "| 1 | 3 | 5 | 7 |  9 |\n",
       "| 2 | 4 | 6 | 8 | 10 |\n",
       "\n"
      ],
      "text/plain": [
       "     [,1] [,2] [,3] [,4] [,5]\n",
       "[1,] 1    3    5    7     9  \n",
       "[2,] 2    4    6    8    10  "
      ]
     },
     "metadata": {},
     "output_type": "display_data"
    }
   ],
   "source": [
    "matrix(v,nrow=2)"
   ]
  },
  {
   "cell_type": "markdown",
   "metadata": {},
   "source": [
    "Now we have a 2 by 5 matrix. Notice that the nrow argument allows this to happen. But how do we decide the fill order? We could have filed columns first (as we did above) or filled out the rows first insequential order. The byrow argument allows you to specify whether or not you want to fill out the matrix by rows or by columns. For example:"
   ]
  },
  {
   "cell_type": "code",
   "execution_count": 10,
   "metadata": {},
   "outputs": [
    {
     "data": {
      "text/html": [
       "<table>\n",
       "<caption>A matrix: 4 × 3 of type int</caption>\n",
       "<tbody>\n",
       "\t<tr><td>1</td><td>5</td><td> 9</td></tr>\n",
       "\t<tr><td>2</td><td>6</td><td>10</td></tr>\n",
       "\t<tr><td>3</td><td>7</td><td>11</td></tr>\n",
       "\t<tr><td>4</td><td>8</td><td>12</td></tr>\n",
       "</tbody>\n",
       "</table>\n"
      ],
      "text/latex": [
       "A matrix: 4 × 3 of type int\n",
       "\\begin{tabular}{lll}\n",
       "\t 1 & 5 &  9\\\\\n",
       "\t 2 & 6 & 10\\\\\n",
       "\t 3 & 7 & 11\\\\\n",
       "\t 4 & 8 & 12\\\\\n",
       "\\end{tabular}\n"
      ],
      "text/markdown": [
       "\n",
       "A matrix: 4 × 3 of type int\n",
       "\n",
       "| 1 | 5 |  9 |\n",
       "| 2 | 6 | 10 |\n",
       "| 3 | 7 | 11 |\n",
       "| 4 | 8 | 12 |\n",
       "\n"
      ],
      "text/plain": [
       "     [,1] [,2] [,3]\n",
       "[1,] 1    5     9  \n",
       "[2,] 2    6    10  \n",
       "[3,] 3    7    11  \n",
       "[4,] 4    8    12  "
      ]
     },
     "metadata": {},
     "output_type": "display_data"
    }
   ],
   "source": [
    "matrix(1:12,byrow = FALSE,nrow = 4)"
   ]
  },
  {
   "cell_type": "code",
   "execution_count": 11,
   "metadata": {},
   "outputs": [
    {
     "data": {
      "text/html": [
       "<table>\n",
       "<caption>A matrix: 4 × 3 of type int</caption>\n",
       "<tbody>\n",
       "\t<tr><td> 1</td><td> 2</td><td> 3</td></tr>\n",
       "\t<tr><td> 4</td><td> 5</td><td> 6</td></tr>\n",
       "\t<tr><td> 7</td><td> 8</td><td> 9</td></tr>\n",
       "\t<tr><td>10</td><td>11</td><td>12</td></tr>\n",
       "</tbody>\n",
       "</table>\n"
      ],
      "text/latex": [
       "A matrix: 4 × 3 of type int\n",
       "\\begin{tabular}{lll}\n",
       "\t  1 &  2 &  3\\\\\n",
       "\t  4 &  5 &  6\\\\\n",
       "\t  7 &  8 &  9\\\\\n",
       "\t 10 & 11 & 12\\\\\n",
       "\\end{tabular}\n"
      ],
      "text/markdown": [
       "\n",
       "A matrix: 4 × 3 of type int\n",
       "\n",
       "|  1 |  2 |  3 |\n",
       "|  4 |  5 |  6 |\n",
       "|  7 |  8 |  9 |\n",
       "| 10 | 11 | 12 |\n",
       "\n"
      ],
      "text/plain": [
       "     [,1] [,2] [,3]\n",
       "[1,]  1    2    3  \n",
       "[2,]  4    5    6  \n",
       "[3,]  7    8    9  \n",
       "[4,] 10   11   12  "
      ]
     },
     "metadata": {},
     "output_type": "display_data"
    }
   ],
   "source": [
    "matrix(1:12,byrow = TRUE , nrow = 4)"
   ]
  },
  {
   "cell_type": "code",
   "execution_count": 12,
   "metadata": {},
   "outputs": [
    {
     "data": {
      "text/html": [
       "<style>\n",
       ".list-inline {list-style: none; margin:0; padding: 0}\n",
       ".list-inline>li {display: inline-block}\n",
       ".list-inline>li:not(:last-child)::after {content: \"\\00b7\"; padding: 0 .5ex}\n",
       "</style>\n",
       "<ol class=list-inline><li>1</li><li>2</li><li>3</li><li>4</li><li>5</li><li>6</li><li>7</li><li>8</li><li>9</li><li>10</li></ol>\n"
      ],
      "text/latex": [
       "\\begin{enumerate*}\n",
       "\\item 1\n",
       "\\item 2\n",
       "\\item 3\n",
       "\\item 4\n",
       "\\item 5\n",
       "\\item 6\n",
       "\\item 7\n",
       "\\item 8\n",
       "\\item 9\n",
       "\\item 10\n",
       "\\end{enumerate*}\n"
      ],
      "text/markdown": [
       "1. 1\n",
       "2. 2\n",
       "3. 3\n",
       "4. 4\n",
       "5. 5\n",
       "6. 6\n",
       "7. 7\n",
       "8. 8\n",
       "9. 9\n",
       "10. 10\n",
       "\n",
       "\n"
      ],
      "text/plain": [
       " [1]  1  2  3  4  5  6  7  8  9 10"
      ]
     },
     "metadata": {},
     "output_type": "display_data"
    }
   ],
   "source": [
    "v"
   ]
  },
  {
   "cell_type": "markdown",
   "metadata": {},
   "source": [
    "### Creating Mattices from Vectors"
   ]
  },
  {
   "cell_type": "markdown",
   "metadata": {},
   "source": [
    "We can combine vectors to later input them into a matrix. For example imagine the following vectors below of stock prices:"
   ]
  },
  {
   "cell_type": "code",
   "execution_count": 47,
   "metadata": {},
   "outputs": [],
   "source": [
    "#not real prices \n",
    "goog  <- c(450,451,452,445,468)\n",
    "msft  <- c(230,231,232,236,228)"
   ]
  },
  {
   "cell_type": "code",
   "execution_count": 48,
   "metadata": {},
   "outputs": [],
   "source": [
    "stocks  <- c(goog,msft)"
   ]
  },
  {
   "cell_type": "code",
   "execution_count": 49,
   "metadata": {},
   "outputs": [],
   "source": [
    "stock.matrix  <- matrix(stocks,byrow= TRUE,nrow =2)"
   ]
  },
  {
   "cell_type": "code",
   "execution_count": 50,
   "metadata": {},
   "outputs": [
    {
     "data": {
      "text/html": [
       "<table>\n",
       "<caption>A matrix: 2 × 5 of type dbl</caption>\n",
       "<tbody>\n",
       "\t<tr><td>450</td><td>451</td><td>452</td><td>445</td><td>468</td></tr>\n",
       "\t<tr><td>230</td><td>231</td><td>232</td><td>236</td><td>228</td></tr>\n",
       "</tbody>\n",
       "</table>\n"
      ],
      "text/latex": [
       "A matrix: 2 × 5 of type dbl\n",
       "\\begin{tabular}{lllll}\n",
       "\t 450 & 451 & 452 & 445 & 468\\\\\n",
       "\t 230 & 231 & 232 & 236 & 228\\\\\n",
       "\\end{tabular}\n"
      ],
      "text/markdown": [
       "\n",
       "A matrix: 2 × 5 of type dbl\n",
       "\n",
       "| 450 | 451 | 452 | 445 | 468 |\n",
       "| 230 | 231 | 232 | 236 | 228 |\n",
       "\n"
      ],
      "text/plain": [
       "     [,1] [,2] [,3] [,4] [,5]\n",
       "[1,] 450  451  452  445  468 \n",
       "[2,] 230  231  232  236  228 "
      ]
     },
     "metadata": {},
     "output_type": "display_data"
    }
   ],
   "source": [
    "stock.matrix"
   ]
  },
  {
   "cell_type": "markdown",
   "metadata": {},
   "source": [
    "### Naming Matices"
   ]
  },
  {
   "cell_type": "markdown",
   "metadata": {},
   "source": [
    "Now that we have our matrix, it would be nice to name the rows and columns for reference. We can do this similarly to the names() function for vectors, but in this case we define colnames() and rownames(). So let's name our stock matrix:"
   ]
  },
  {
   "cell_type": "code",
   "execution_count": 51,
   "metadata": {},
   "outputs": [],
   "source": [
    "days <- c('Mon','Tue','Wed','Thu','Fri')\n",
    "st.names  <- c('GOOG',\"MSFT\")"
   ]
  },
  {
   "cell_type": "code",
   "execution_count": 56,
   "metadata": {},
   "outputs": [],
   "source": [
    "colnames(stock.matrix) <- days\n",
    "rownames(stock.matrix) <- st.names"
   ]
  },
  {
   "cell_type": "code",
   "execution_count": 57,
   "metadata": {},
   "outputs": [
    {
     "data": {
      "text/html": [
       "<table>\n",
       "<caption>A matrix: 2 × 5 of type dbl</caption>\n",
       "<thead>\n",
       "\t<tr><th></th><th scope=col>Mon</th><th scope=col>Tue</th><th scope=col>Wed</th><th scope=col>Thu</th><th scope=col>Fri</th></tr>\n",
       "</thead>\n",
       "<tbody>\n",
       "\t<tr><th scope=row>GOOG</th><td>450</td><td>451</td><td>452</td><td>445</td><td>468</td></tr>\n",
       "\t<tr><th scope=row>MSFT</th><td>230</td><td>231</td><td>232</td><td>236</td><td>228</td></tr>\n",
       "</tbody>\n",
       "</table>\n"
      ],
      "text/latex": [
       "A matrix: 2 × 5 of type dbl\n",
       "\\begin{tabular}{r|lllll}\n",
       "  & Mon & Tue & Wed & Thu & Fri\\\\\n",
       "\\hline\n",
       "\tGOOG & 450 & 451 & 452 & 445 & 468\\\\\n",
       "\tMSFT & 230 & 231 & 232 & 236 & 228\\\\\n",
       "\\end{tabular}\n"
      ],
      "text/markdown": [
       "\n",
       "A matrix: 2 × 5 of type dbl\n",
       "\n",
       "| <!--/--> | Mon | Tue | Wed | Thu | Fri |\n",
       "|---|---|---|---|---|---|\n",
       "| GOOG | 450 | 451 | 452 | 445 | 468 |\n",
       "| MSFT | 230 | 231 | 232 | 236 | 228 |\n",
       "\n"
      ],
      "text/plain": [
       "     Mon Tue Wed Thu Fri\n",
       "GOOG 450 451 452 445 468\n",
       "MSFT 230 231 232 236 228"
      ]
     },
     "metadata": {},
     "output_type": "display_data"
    }
   ],
   "source": [
    "stock.matrix"
   ]
  },
  {
   "cell_type": "markdown",
   "metadata": {},
   "source": [
    "Looking good! Now we are starting to really build up something powerful here, you should begin to be reminded of a spreadsheet!<br>\n",
    "\n",
    "That's is for the basics of creating a matrix! In the next lecture we will be building off this matrix of stock prices, so keep the code for future reference!"
   ]
  },
  {
   "cell_type": "code",
   "execution_count": null,
   "metadata": {},
   "outputs": [],
   "source": [
    "Factor and catagorical Matrices "
   ]
  }
 ],
 "metadata": {
  "kernelspec": {
   "display_name": "R",
   "language": "R",
   "name": "ir"
  },
  "language_info": {
   "codemirror_mode": "r",
   "file_extension": ".r",
   "mimetype": "text/x-r-source",
   "name": "R",
   "pygments_lexer": "r",
   "version": "3.6.2"
  }
 },
 "nbformat": 4,
 "nbformat_minor": 4
}
