{
 "cells": [
  {
   "cell_type": "markdown",
   "metadata": {},
   "source": [
    "# Sorting Algorithm practice "
   ]
  },
  {
   "cell_type": "code",
   "execution_count": 7,
   "metadata": {},
   "outputs": [
    {
     "name": "stdout",
     "output_type": "stream",
     "text": [
      "Element is present at index 3\n",
      "And the element is  10\n"
     ]
    }
   ],
   "source": [
    "# binary search algoritm\n",
    "#define binary search inx and arr in present in else -1\n",
    "def binaray_search(arr,low,high,x):\n",
    "    \n",
    "    #check the base \n",
    "    if high >= low:\n",
    "        #it is like a single line to make division\n",
    "        mid = (high + low)//2\n",
    "        \n",
    "        #if element is prsent at the middle itself \n",
    "        #find that element and return middle and finished\n",
    "        if arr[mid] == x:\n",
    "            return mid\n",
    "        \n",
    "        #if element is smaller than mid, then it can only be present in left binary\n",
    "        elif arr[mid] > x:\n",
    "            return binaray_search(arr,low,mid-1,x)\n",
    "        else:\n",
    "            return binaray_search(arr,mid+1,high,x)\n",
    "    else:\n",
    "        #element is not presnent \n",
    "        return -1\n",
    "    \n",
    "    \n",
    "\n",
    "arr = [2,3,4,10,40]\n",
    "x = 10\n",
    "\n",
    "#Functional call\n",
    "result =  binaray_search(arr,0,len(arr)-1,x)\n",
    "\n",
    "if result != -1:\n",
    "    print(\"Element is present at index\", str(result))\n",
    "    print(\"And the element is \" , str(x))\n",
    "else:\n",
    "    print(\"element is not present in array\")\n",
    "\n",
    "\n"
   ]
  },
  {
   "cell_type": "code",
   "execution_count": 14,
   "metadata": {},
   "outputs": [
    {
     "name": "stdout",
     "output_type": "stream",
     "text": [
      "Element is present at index number 5\n",
      "The element is  10\n"
     ]
    }
   ],
   "source": [
    "#define binary search algorithme and do the search\n",
    "\n",
    "def binary_search(arr,low,high,x):\n",
    "    \n",
    "    if high >= low: # if element is greater than low go to middle \n",
    "        mid = (high+low)//2 #the element is at middle\n",
    "        \n",
    "        #if element is at middle grab the index\n",
    "        if arr[mid] == x:\n",
    "            return mid\n",
    "        elif arr[mid] < x:\n",
    "            return binary_search(arr,mid+1,high,x)\n",
    "        else:\n",
    "            return binary_search(arr,low,mid-1,x)\n",
    "    else:\n",
    "        #element is not present\n",
    "        return -1\n",
    "            \n",
    "# defined arrary and low end and high end and argument x is taken\n",
    "# check the base \n",
    "\n",
    "\n",
    "\n",
    "# declaring the array to find out suitable result \n",
    "arr = [1,2,3,4,16,10,8]\n",
    "x = 10\n",
    "\n",
    "#will develope funcional argument and store in the result \n",
    "#we doing a binary search in array from index 0 and lenth of each element deduct each -1 and x \n",
    "result = binary_search(arr,0,len(arr)-1, x)\n",
    "\n",
    "if result != -1: \n",
    "# it means we deducting each element and if it is not equal to -1 that element then it is definately that element x \n",
    "    print(\"Element is present at index number\",str(result))\n",
    "    print(\"The element is \", str(x))\n",
    "else:\n",
    "    print(\"element is not present in array\")\n",
    "    \n",
    "    "
   ]
  },
  {
   "cell_type": "code",
   "execution_count": null,
   "metadata": {},
   "outputs": [],
   "source": []
  }
 ],
 "metadata": {
  "kernelspec": {
   "display_name": "Python 3",
   "language": "python",
   "name": "python3"
  },
  "language_info": {
   "codemirror_mode": {
    "name": "ipython",
    "version": 3
   },
   "file_extension": ".py",
   "mimetype": "text/x-python",
   "name": "python",
   "nbconvert_exporter": "python",
   "pygments_lexer": "ipython3",
   "version": "3.6.5"
  }
 },
 "nbformat": 4,
 "nbformat_minor": 2
}
