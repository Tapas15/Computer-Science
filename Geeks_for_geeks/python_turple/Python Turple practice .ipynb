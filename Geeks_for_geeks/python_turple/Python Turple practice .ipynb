{
 "cells": [
  {
   "cell_type": "markdown",
   "metadata": {},
   "source": [
    "# Basic Turple program practice "
   ]
  },
  {
   "cell_type": "markdown",
   "metadata": {},
   "source": [
    "What is trple ?\n",
    "<br>Tuple is a collection of Python objects much like a list. The sequence of values stored in a tuple can be of any type, and they are indexed by integers.\n",
    "<br>Values of a tuple are syntactically separated by ‘commas’. Although it is not necessary, it is more common to define a tuple by closing the sequence of values in parentheses.\n",
    "The size of a Tuple means the amount of memory (in bytes) taken by a Tuple object. In this article, we will learn various ways to get the size of a python Tuple."
   ]
  },
  {
   "cell_type": "markdown",
   "metadata": {},
   "source": [
    "1.Using getsizeof() function:\n",
    "\n",
    "<br>The getsizeof() function belongs to the python’s sys module. It has been implemented in the below example."
   ]
  },
  {
   "cell_type": "code",
   "execution_count": 1,
   "metadata": {},
   "outputs": [
    {
     "name": "stdout",
     "output_type": "stream",
     "text": [
      "Size of Turple :96bytes\n",
      "Size of Turple :96bytes\n",
      "Size of Turple :80bytes\n"
     ]
    }
   ],
   "source": [
    "import sys \n",
    "#sample turple \n",
    "turple1 =(\"A\",1,\"B\",2,\"C\",3)\n",
    "turple2 =(\"Geek1\", \"Tapas\",\"Geeks2\",\"Manas\",\"Geeks3\",\"Tully\")\n",
    "turple3 =((1,\"lion\"),(2,\"Tiger\"),(3,\"Fox\"),(4,\"Wolf\"))\n",
    "\n",
    "#printing the turple \n",
    "print(\"Size of Turple :\" + str(sys.getsizeof(turple1))+\"bytes\")\n",
    "print(\"Size of Turple :\" + str(sys.getsizeof(turple2))+\"bytes\")\n",
    "print(\"Size of Turple :\" + str(sys.getsizeof(turple3))+\"bytes\")"
   ]
  },
  {
   "cell_type": "markdown",
   "metadata": {},
   "source": [
    "Python – Maximum and Minimum K elements in Tuple\n",
    "Last Updated : 26 May, 2020\n",
    "<br>Sometimes, while dealing with tuples, we can have problem in which we need to extract only extreme K elements, i.e maximum and minimum K elements in Tuple. This problem can have applications across domains such as web development and Data Science. Let’s discuss certain ways in which this problem can be solved.\n",
    "<br>\n",
    "Method #1 : Using sorted() + loop\n",
    "The combination of above functionalities can be used to solve this problem. In this, we perform the sort operation using sorted(), and the problem of extraction of max and min K elements using loop."
   ]
  },
  {
   "cell_type": "code",
   "execution_count": 2,
   "metadata": {},
   "outputs": [
    {
     "name": "stdout",
     "output_type": "stream",
     "text": [
      "The Origional turple is :(5, 20, 3, 7, 6, 8)\n",
      "The extracted values : (3, 5, 8, 20)\n"
     ]
    }
   ],
   "source": [
    "#code to demonstrrate mazimum an minmum elemet in turple\n",
    "#value initilaztion\n",
    "test_tup = (5,20,3,7,6,8)\n",
    "#print the value\n",
    "print(\"The Origional turple is :\" +str(test_tup))\n",
    "\n",
    "#initilization K\n",
    "K = 2\n",
    "\n",
    "#Maximum and minimmum of k\n",
    "#using sorted and+ loop\n",
    "\n",
    "res = []\n",
    "test_tup = list(test_tup)\n",
    "temp =  sorted(test_tup)\n",
    "\n",
    "for idx,val in enumerate(temp):\n",
    "    if idx < K or idx >= len(temp) -K:\n",
    "        res.append(val)\n",
    "res = tuple(res)\n",
    "#printing resutl\n",
    "# printing result  \n",
    "print(\"The extracted values : \" + str(res)) \n",
    "    \n"
   ]
  },
  {
   "cell_type": "markdown",
   "metadata": {},
   "source": [
    "Method #2 : Using list slicing + sorted()\n",
    "<br>The combination of above functions can be used to solve this problem. In this, we perform the task of max, min extraction using slicing rather than brute force loop logic."
   ]
  },
  {
   "cell_type": "code",
   "execution_count": 3,
   "metadata": {},
   "outputs": [
    {
     "name": "stdout",
     "output_type": "stream",
     "text": [
      "The original tuple is : (5, 20, 3, 7, 6, 8)\n",
      "The extracted values : (3, 5, 8, 20)\n"
     ]
    }
   ],
   "source": [
    "# Python3 code to demonstrate working of  \n",
    "# Maximum and Minimum K elements in Tuple \n",
    "# Using slicing + sorted() \n",
    "  \n",
    "# initializing tuple \n",
    "test_tup = (5, 20, 3, 7, 6, 8) \n",
    "  \n",
    "# printing original tuple \n",
    "print(\"The original tuple is : \" + str(test_tup)) \n",
    "  \n",
    "# initializing K  \n",
    "K = 2\n",
    "  \n",
    "# Maximum and Minimum K elements in Tuple \n",
    "# Using slicing + sorted() \n",
    "test_tup = list(test_tup) \n",
    "temp = sorted(test_tup) \n",
    "res = tuple(temp[:K] + temp[-K:]) \n",
    "  \n",
    "# printing result  \n",
    "print(\"The extracted values : \" + str(res))  "
   ]
  },
  {
   "cell_type": "code",
   "execution_count": 4,
   "metadata": {},
   "outputs": [
    {
     "name": "stdout",
     "output_type": "stream",
     "text": [
      "[(1, 1), (2, 8), (5, 125), (6, 216)]\n"
     ]
    }
   ],
   "source": [
    "#A python program to create a list of turple\n",
    "list1 = [1,2,5,6]\n",
    "res = [(val, pow(val, 3)) for val in list1]\n",
    "\n",
    "#print the result\n",
    "print(res)"
   ]
  },
  {
   "cell_type": "markdown",
   "metadata": {},
   "source": [
    "Python – Adding Tuple to List and vice – versa\n",
    "Last Updated : 10 Jul, 2020\n",
    "<br>Sometimes, while working with Python containers, we can have a problem in which we need to perform addition of one container with another. This kind of problem can have occurrence in many data domains across Computer Science and Programming. Let’s discuss certain ways in which this task can be performed.\n",
    "\n",
    "<br>Method 1 : Using += operator [list + tuple]\n",
    "This operator can be used to join a list with a tuple. Internally its working is similar to that of list.extend(), which can have any iterable as its argument, tuple in this case."
   ]
  },
  {
   "cell_type": "code",
   "execution_count": 5,
   "metadata": {},
   "outputs": [
    {
     "name": "stdout",
     "output_type": "stream",
     "text": [
      "The orignal list is[5, 6, 7]\n",
      "The container after addition : [5, 6, 7, 9, 10]\n"
     ]
    }
   ],
   "source": [
    "#initilazing the list \n",
    "test_list = [5,6,7]\n",
    "#printing the list \n",
    "print(\"The orignal list is\" +str(test_list))\n",
    "#initilazing list \n",
    "test_tup = (9,10)\n",
    "\n",
    "#Adding turple to list and viceversa \n",
    "#suing += operator \n",
    "\n",
    "test_list += test_tup\n",
    "\n",
    "# printing result  \n",
    "print(\"The container after addition : \" + str(test_list))  "
   ]
  },
  {
   "cell_type": "code",
   "execution_count": 6,
   "metadata": {},
   "outputs": [
    {
     "name": "stdout",
     "output_type": "stream",
     "text": [
      "The original list is : [5, 6, 7]\n",
      "The container after addition : (9, 10, 5, 6, 7)\n"
     ]
    }
   ],
   "source": [
    "# Python3 code to demonstrate working of  \n",
    "# Adding Tuple to List and vice - versa \n",
    "# Using tuple(), data type conversion [tuple + list] \n",
    "  \n",
    "# initializing list \n",
    "test_list = [5, 6, 7] \n",
    "  \n",
    "# printing original list \n",
    "print(\"The original list is : \" + str(test_list)) \n",
    "  \n",
    "# initializing tuple  \n",
    "test_tup = (9, 10) \n",
    "  \n",
    "# Adding Tuple to List and vice - versa \n",
    "# Using tuple(), data type conversion [tuple + list] \n",
    "res = tuple(list(test_tup) + test_list) \n",
    "  \n",
    "# printing result  \n",
    "print(\"The container after addition : \" + str(res)) "
   ]
  },
  {
   "cell_type": "markdown",
   "metadata": {},
   "source": [
    "Python – Sum of tuple elements\n",
    "Last Updated : 19 Feb, 2020\n",
    "<br>Sometimes, while programming, we have a problem in which we might need to perform summation among tuple elements. This is an essential utility as we come across summation operation many times and tuples are immutable and hence required to be dealt with. Let’s discuss certain ways in which this task can be performed.\n",
    "\n",
    "<br>Method #1 : Using list() + sum()\n",
    "The above functions can be combined to perform this task. We can employ sum() to accumulate the result of summation logic. The list() function is used to perform interconversions."
   ]
  },
  {
   "cell_type": "code",
   "execution_count": 7,
   "metadata": {},
   "outputs": [
    {
     "name": "stdout",
     "output_type": "stream",
     "text": [
      "printing the orignal turple is (7, 8, 9, 1, 10, 7)\n",
      "The summmation of turple elements are :42\n"
     ]
    }
   ],
   "source": [
    "#initilizating turple \n",
    "test_tup = (7,8,9,1,10,7)\n",
    "\n",
    "print(\"printing the orignal turple is \"+ str(test_tup))\n",
    "#turple element inversion\n",
    "#using lsit()+ sum\n",
    "res = sum(list(test_tup))\n",
    "\n",
    "#printing result\n",
    "print(\"The summmation of turple elements are :\" +str(res))"
   ]
  },
  {
   "cell_type": "code",
   "execution_count": 8,
   "metadata": {},
   "outputs": [
    {
     "name": "stdout",
     "output_type": "stream",
     "text": [
      "The original tuple is : ([7, 8], [9, 1], [10, 7])\n",
      "The summation of tuple elements are : 42\n"
     ]
    }
   ],
   "source": [
    "# Python 3 code to demonstrate working of  \n",
    "# Tuple elements inversions \n",
    "# Using map() + list() + sum() \n",
    "  \n",
    "# initializing tup  \n",
    "test_tup = ([7, 8], [9, 1], [10, 7])  \n",
    "  \n",
    "# printing original tuple \n",
    "print(\"The original tuple is : \" + str(test_tup))  \n",
    "  \n",
    "# Tuple elements inversions \n",
    "# Using map() + list() + sum() \n",
    "res =      sum(list(map(sum,list(test_tup))))\n",
    "  \n",
    "# printing result  \n",
    "print(\"The summation of tuple elements are : \" + str(res))  \n"
   ]
  },
  {
   "cell_type": "markdown",
   "metadata": {},
   "source": [
    "Python – Modulo of tuple elements\n",
    "Last Updated : 27 Dec, 2019\n",
    "#Sometimes, while working with records, we can have a problem in which we may need to perform modulo of tuples. This problem can occur in day-day programming. Let’s discuss certain ways in which this task can be performed.\n",
    "\n",
    "#Method #1 : Using zip() + generator expression\n",
    "The combination of above functions can be used to perform this task. In this, we perform the task of modulo using generator expression and mapping index of each tuple is done by zip()."
   ]
  },
  {
   "cell_type": "code",
   "execution_count": 9,
   "metadata": {},
   "outputs": [
    {
     "name": "stdout",
     "output_type": "stream",
     "text": [
      "The original tuple 1 : (10, 4, 5, 6)\n",
      "The original tuple 2 : (5, 6, 7, 5)\n",
      "The modulus tuple : (0, 4, 5, 1)\n"
     ]
    }
   ],
   "source": [
    "# Python3 code to demonstrate working of \n",
    "# Tuple modulo \n",
    "# using zip() + generator expression \n",
    "  \n",
    "# initialize tuples \n",
    "test_tup1 = (10, 4, 5, 6) \n",
    "test_tup2 = (5, 6, 7, 5) \n",
    "  \n",
    "# printing original tuples \n",
    "print(\"The original tuple 1 : \" + str(test_tup1)) \n",
    "print(\"The original tuple 2 : \" + str(test_tup2)) \n",
    "  \n",
    "# Tuple modulo \n",
    "# using zip() + generator expression\n",
    "res = tuple(ele1 % ele2 for ele1,ele2 in zip(test_tup1,test_tup2))\n",
    "\n",
    "  \n",
    "# printing result \n",
    "print(\"The modulus tuple : \" + str(res)) "
   ]
  },
  {
   "cell_type": "markdown",
   "metadata": {},
   "source": [
    "Method #2 : Using map() + mod\n",
    "The combination of above functionalities can also perform this task. In this, we perform the task of extending logic of modulus using mod and mapping is done by map()."
   ]
  },
  {
   "cell_type": "code",
   "execution_count": 10,
   "metadata": {},
   "outputs": [
    {
     "name": "stdout",
     "output_type": "stream",
     "text": [
      "The original tuple 1 : (10, 4, 5, 6)\n",
      "The original tuple 2 : (5, 6, 7, 5)\n",
      "The modulus tuple : (0, 4, 5, 1)\n"
     ]
    }
   ],
   "source": [
    "# Python3 code to demonstrate working of \n",
    "# Tuple modulo \n",
    "# using map() + mod \n",
    "from operator import mod \n",
    "  \n",
    "# initialize tuples \n",
    "test_tup1 = (10, 4, 5, 6) \n",
    "test_tup2 = (5, 6, 7, 5) \n",
    "  \n",
    "# printing original tuples \n",
    "print(\"The original tuple 1 : \" + str(test_tup1)) \n",
    "print(\"The original tuple 2 : \" + str(test_tup2)) \n",
    "  \n",
    "# Tuple modulo \n",
    "# using map() + mod \n",
    "res = tuple(map(mod, test_tup1, test_tup2)) \n",
    "  \n",
    "# printing result \n",
    "print(\"The modulus tuple : \" + str(res)) "
   ]
  },
  {
   "cell_type": "markdown",
   "metadata": {},
   "source": [
    "Python – Row-wise element Addition in Tuple Matrix\n",
    "Last Updated : 30 Dec, 2020\n",
    "<br>Sometimes, while working with Python tuples, we can have a problem in which we need to perform Row-wise custom elements addition in Tuple matrix. This kind of problem can have application in data domains. Let’s discuss certain ways in which this task can be performed.\n",
    "\n",
    "<br>Method #1 : Using enumerate() + nested list comprehension\n",
    "The combination of above methods can be used to solve this problem. In this, we perform the task of adding elements using nested list comprehension and index iteration by enumerate()."
   ]
  },
  {
   "cell_type": "code",
   "execution_count": 11,
   "metadata": {},
   "outputs": [
    {
     "name": "stdout",
     "output_type": "stream",
     "text": [
      "The original list is : [[('Gfg', 3), ('is', 3)], [('best', 1)], [('for', 5), ('geeks', 1)]]\n",
      "The matrix after row elements addition : [[('Gfg', 3, 6), ('is', 3, 6)], [('best', 1, 7)], [('for', 5, 8), ('geeks', 1, 8)]]\n"
     ]
    }
   ],
   "source": [
    "# Python3 code to demonstrate working of  \n",
    "# Row-wise element Addition in Tuple Matrix \n",
    "# Using enumerate() + list comprehension \n",
    "  \n",
    "# initializing list \n",
    "test_list = [[('Gfg', 3), ('is', 3)],[('best', 1)], [('for', 5), ('geeks', 1)]]\n",
    "\n",
    "# printing original list \n",
    "print(\"The original list is : \" + str(test_list)) \n",
    "\n",
    "# initializing Custom eles \n",
    "cus_eles = [6, 7, 8]\n",
    "# Row-wise element Addition in Tuple Matrix \n",
    "# Using enumerate() + list comprehension \n",
    "#res = [[sub + (cus_eles[idx],)for sub in val]for idx, val in enumerate(test_list)]\n",
    "res = [[sub + (cus_eles[idx],)for sub in val]for idx ,val in enumerate(test_list)]\n",
    "# printing result  \n",
    "print(\"The matrix after row elements addition : \" + str(res))  "
   ]
  },
  {
   "cell_type": "markdown",
   "metadata": {},
   "source": [
    "Method #2 : Using zip() + list comprehension\n",
    "The combination of above functions can be used to solve this problem. In this, we perform the task of combining new row elements with respective rows using zip(), rather than enumerate()."
   ]
  },
  {
   "cell_type": "code",
   "execution_count": 12,
   "metadata": {},
   "outputs": [
    {
     "name": "stdout",
     "output_type": "stream",
     "text": [
      "The original list is : [[('Gfg', 3), ('is', 3)], [('best', 1)], [('for', 5), ('geeks', 1)]]\n",
      "The matrix after row elements addition : [[('Gfg', 3), ('is', 3), (('Gfg', 3), 6), (('is', 3), 6)], [('best', 1), (('best', 1), 7)], [('for', 5), ('geeks', 1), (('for', 5), 8), (('geeks', 1), 8)]]\n"
     ]
    }
   ],
   "source": [
    "# Python3 code to demonstrate working of  \n",
    "# Row-wise element Addition in Tuple Matrix \n",
    "# Using zip() + list comprehension \n",
    "  \n",
    "# initializing list \n",
    "test_list = [[('Gfg', 3), ('is', 3)], [('best', 1)], [('for', 5), ('geeks', 1)]] \n",
    "  \n",
    "# printing original list \n",
    "print(\"The original list is : \" + str(test_list)) \n",
    "  \n",
    "# initializing Custom eles \n",
    "cus_eles = [6, 7, 8] \n",
    "  \n",
    "# Row-wise element Addition in Tuple Matrix \n",
    "# Using zip() + list comprehension \n",
    "res = [key + [(idx, val) for idx in key] for key,  val in zip(test_list, cus_eles)] \n",
    "#res = [[(idx,val) for idx in key]for key, val in zip(test_list,cus_eles)]\n",
    "# printing result  \n",
    "print(\"The matrix after row elements addition : \" + str(res))  "
   ]
  },
  {
   "cell_type": "markdown",
   "metadata": {},
   "source": [
    "Python | Update each element in tuple list\n",
    "Last Updated : 21 Nov, 2019\n",
    "Sometimes, while working with data, we can have a problem in which we need to perform update operations on tuples. This can have applications across many domains such as web development. Let’s discuss certain ways in which this task can be performed.\n",
    "\n",
    "<vr>Method #1 : Using list comprehension\n",
    "This is shorthand to brute function that can be applied to perform this task. In this, we iterate for each element of each tuple to perform bulk update of data."
   ]
  },
  {
   "cell_type": "code",
   "execution_count": 13,
   "metadata": {},
   "outputs": [
    {
     "name": "stdout",
     "output_type": "stream",
     "text": [
      "The original list : [(1, 3, 4), (2, 4, 6), (3, 8, 1)]\n",
      "List after bulk update : [(5, 7, 8), (6, 8, 10), (7, 12, 5)]\n"
     ]
    }
   ],
   "source": [
    "# Python3 code to demonstrate working of \n",
    "# Update each element in tuple list \n",
    "# Using list comprehension \n",
    "  \n",
    "# initialize list \n",
    "test_list = [(1, 3, 4), (2, 4, 6), (3, 8, 1)] \n",
    "  \n",
    "# printing original list  \n",
    "print(\"The original list : \" + str(test_list)) \n",
    "  \n",
    "# initialize add element \n",
    "add_ele = 4\n",
    "  \n",
    "# Update each element in tuple list \n",
    "# Using list comprehension \n",
    "#res = [tuple(j + add_ele for j in sub ) for sub in test_list] \n",
    "res = [tuple(i + add_ele for i in sub) for sub in test_list]\n",
    "# printing result \n",
    "print(\"List after bulk update : \" + str(res)) "
   ]
  },
  {
   "cell_type": "markdown",
   "metadata": {},
   "source": [
    "Method #2 : Using map() + lambda + list comprehension\n",
    "The combination of above functions can be used to perform this task. In this, we just iterate for all elements using map() and extend logic of update using lambda function."
   ]
  },
  {
   "cell_type": "code",
   "execution_count": 14,
   "metadata": {},
   "outputs": [
    {
     "name": "stdout",
     "output_type": "stream",
     "text": [
      "The original list : [(1, 3, 4), (2, 4, 6), (3, 8, 1)]\n",
      "List after bulk update : [(5, 7, 8), (6, 8, 10), (7, 12, 5)]\n"
     ]
    }
   ],
   "source": [
    "# Python3 code to demonstrate working of \n",
    "# Update each element in tuple list \n",
    "# Using list comprehension + map() + lambda \n",
    "  \n",
    "# initialize list \n",
    "test_list = [(1, 3, 4), (2, 4, 6), (3, 8, 1)] \n",
    "  \n",
    "# printing original list  \n",
    "print(\"The original list : \" + str(test_list)) \n",
    "  \n",
    "# initialize add element \n",
    "add_ele = 4\n",
    "  \n",
    "# Update each element in tuple list \n",
    "# Using list comprehension + map() + lambda \n",
    "res = [tuple(map(lambda ele: ele + add_ele ,sub))for sub in test_list]\n",
    "\n",
    "# printing result \n",
    "print(\"List after bulk update : \" + str(res)) "
   ]
  },
  {
   "cell_type": "markdown",
   "metadata": {},
   "source": [
    "Python | Multiply Adjacent elements\n",
    "Last Updated : 21 Nov, 2019\n",
    "Sometimes, while working with data, we can have a problem in which we need to find cumulative result. This can be of any type, product or summation. Here we are gonna discuss about adjacent element multiplication. Let’s discuss certain ways in which this task can be performed.\n",
    "\n",
    "<br>Method #1 : Using zip() + generator expression + tuple()\n",
    "The combination of above functionalities can be used to perform this task. In this, we use generator expression to provide multiplication logic and simultaneous element pairing is done by zip(). The result is converted to tuple form using tuple()."
   ]
  },
  {
   "cell_type": "code",
   "execution_count": 15,
   "metadata": {},
   "outputs": [
    {
     "name": "stdout",
     "output_type": "stream",
     "text": [
      "The original tuple : (1, 5, 7, 8, 10)\n",
      "(1, 5, 7, 8, 10) (5, 7, 8, 10)\n",
      "(5, 35, 56, 80)\n",
      "Resultant tuple after multiplication : [(5, 7, 8), (6, 8, 10), (7, 12, 5)]\n"
     ]
    }
   ],
   "source": [
    "# Python3 code to demonstrate working of \n",
    "# Adjacent element multiplication \n",
    "# using zip() + generator expression + tuple \n",
    "  \n",
    "# initialize tuple \n",
    "test_tup = (1, 5, 7, 8, 10) \n",
    "  \n",
    "# printing original tuple \n",
    "print(\"The original tuple : \" + str(test_tup)) \n",
    "  \n",
    "# Adjacent element multiplication \n",
    "# using zip() + generator expression + tuple \n",
    "#res = tuple(i * j for i, j in zip(test_tup, test_tup[1:])) \n",
    "print(test_tup,test_tup[1:])\n",
    "print(tuple(i* j for i ,j in zip(test_tup,test_tup[1:])))\n",
    "           \n",
    "# printing result \n",
    "print(\"Resultant tuple after multiplication : \" + str(res)) "
   ]
  },
  {
   "cell_type": "markdown",
   "metadata": {},
   "source": [
    "Method #2 : Using tuple() + map() + lambda\n",
    "<br>The combination of above functions can also help to perform this task. In this, we perform multiplication and binding logic using lambda function. The map() is used to iterate to each element and at end result is converted by tuple()."
   ]
  },
  {
   "cell_type": "code",
   "execution_count": 16,
   "metadata": {},
   "outputs": [
    {
     "name": "stdout",
     "output_type": "stream",
     "text": [
      "The original tuple : (1, 5, 7, 8, 10)\n",
      "(5, 35, 56, 80)\n",
      "Resultant tuple after multiplication : [(5, 7, 8), (6, 8, 10), (7, 12, 5)]\n"
     ]
    }
   ],
   "source": [
    "# Python3 code to demonstrate working of \n",
    "# Adjacent element multiplication \n",
    "# using tuple() + map() + lambda \n",
    "  \n",
    "# initialize tuple \n",
    "test_tup = (1, 5, 7, 8, 10) \n",
    "  \n",
    "# printing original tuple \n",
    "print(\"The original tuple : \" + str(test_tup)) \n",
    "  \n",
    "# Adjacent element multiplication \n",
    "# using tuple() + map() + lambda \n",
    "#res = tuple(map(lambda i, j : i * j, test_tup[1:], test_tup[:-1])) \n",
    "print(tuple(map(lambda i ,j: i*j, test_tup[1:],test_tup[:-1])))\n",
    "  \n",
    "# printing result \n",
    "print(\"Resultant tuple after multiplication : \" + str(res)) "
   ]
  },
  {
   "cell_type": "markdown",
   "metadata": {},
   "source": [
    "Python – All pair combinations of 2 tuples\n",
    "Last Updated : 03 Jul, 2020\n",
    "<br>Sometimes, while working with Python tuples data, we can have a problem in which we need to extract all possible combination of 2 argument tuples. This kind of application can come in Data Science or gaming domains. Let’s discuss certain ways in which this task can be performed.\n",
    "<br>Python – All pair combinations of 2 tuples\n",
    "Last Updated : 03 Jul, 2020\n",
    "Sometimes, while working with Python tuples data, we can have a problem in which we need to extract all possible combination of 2 argument tuples. This kind of application can come in Data Science or gaming domains. Let’s discuss certain ways in which this task can be performed."
   ]
  },
  {
   "cell_type": "code",
   "execution_count": 17,
   "metadata": {},
   "outputs": [
    {
     "name": "stdout",
     "output_type": "stream",
     "text": [
      "The original list is : [(5, 6), (5, 7), (6, 8), (6, 10), (7, 13)]\n",
      "The extracted elements : [[5, 6, 7], [6, 8, 10], [7, 13]]\n",
      "The extrachte list of elemnts  [(5, 6, 7), (6, 8, 10), (7, 13)]\n"
     ]
    }
   ],
   "source": [
    "# Python3 code to demonstrate working of \n",
    "# Join Tuples if similar initial element \n",
    "# Using loop \n",
    "\n",
    "# initializing list \n",
    "test_list = [(5, 6), (5, 7), (6, 8), (6, 10), (7, 13)] \n",
    "\n",
    "# printing original list \n",
    "print(\"The original list is : \" + str(test_list)) \n",
    "\n",
    "# Join Tuples if similar initial element \n",
    "# Using loop \n",
    "res = [] \n",
    "for sub in test_list:\n",
    "    if res and res[-1][0] == sub[0]:\n",
    "        res[-1].extend(sub[1:])\n",
    "    else:\n",
    "        res.append([ele for ele in sub])\n",
    "    \n",
    "rest = list(map(tuple,res))\n",
    "\n",
    "# printing result \n",
    "print(\"The extracted elements : \" + str(res)) \n",
    "print(\"The extrachte list of elemnts \", str(rest))\n"
   ]
  },
  {
   "cell_type": "code",
   "execution_count": 15,
   "metadata": {},
   "outputs": [
    {
     "name": "stdout",
     "output_type": "stream",
     "text": [
      "The original list is : [(5, 6), (5, 7), (6, 8), (6, 10), (7, 13)]\n",
      "defaultdict(<class 'list'>, {5: [6, 7], 6: [8, 10], 7: [13]})\n",
      "The extracted elements : [(5, 6, 7), (6, 8, 10), (7, 13)]\n"
     ]
    }
   ],
   "source": [
    "# Python3 code to demonstrate working of \n",
    "# Join Tuples if similar initial element \n",
    "# Using defaultdict() + loop \n",
    "from collections import defaultdict \n",
    "\n",
    "# initializing list \n",
    "test_list = [(5, 6), (5, 7), (6, 8), (6, 10), (7, 13)] \n",
    "\n",
    "# printing original list \n",
    "print(\"The original list is : \" + str(test_list)) \n",
    "\n",
    "# Join Tuples if similar initial element \n",
    "# Using defaultdict() + loop \n",
    "#mapp = defaultdict(list) \n",
    "#for key, val in test_list: \n",
    "#\tmapp[key].append(val) \n",
    "#res = [(key, *val) for key, val in mapp.items()] \n",
    "\n",
    "maps = defaultdict(list)\n",
    "for key,val in test_list:\n",
    "    maps[key].append(val)\n",
    "print(maps)\n",
    "res = [(key,*val)for key,val in maps.items()]\n",
    "# printing result \n",
    "print(\"The extracted elements : \" + str(res)) \n"
   ]
  },
  {
   "cell_type": "markdown",
   "metadata": {},
   "source": [
    "Python – All pair combinations of 2 tuples\n",
    "Last Updated : 03 Jul, 2020\n",
    "<br>Sometimes, while working with Python tuples data, we can have a problem in which we need to extract all possible combination of 2 argument tuples. This kind of application can come in Data Science or gaming domains. Let’s discuss certain ways in which this task can be performed.\n",
    "\n",
    "<br>Method #1 : Using list comprehension\n",
    "This is one of the ways in which this task can be performed. In this, we perform task of forming one index combination in one pass, in other pass change the index, and add to the initial result list."
   ]
  },
  {
   "cell_type": "code",
   "execution_count": 19,
   "metadata": {},
   "outputs": [
    {
     "name": "stdout",
     "output_type": "stream",
     "text": [
      "The original tuple 1 : (4, 5)\n",
      "The original tuple 2 : (7, 8)\n",
      "The filtered tuple : [(4, 7), (4, 8), (5, 7), (5, 8)]\n"
     ]
    }
   ],
   "source": [
    "# Python3 code to demonstrate working of \n",
    "# All pair combinations of 2 tuples \n",
    "# Using list comprehension \n",
    "\n",
    "# initializing tuples \n",
    "test_tuple1 = (4, 5) \n",
    "test_tuple2 = (7, 8) \n",
    "\n",
    "# printing original tuples \n",
    "print(\"The original tuple 1 : \" + str(test_tuple1)) \n",
    "print(\"The original tuple 2 : \" + str(test_tuple2)) \n",
    "\n",
    "# All pair combinations of 2 tuples \n",
    "# Using list comprehension \n",
    "#res = [(a, b) for a in test_tuple1 for b in test_tuple2] \n",
    "#res = res + [(a, b) for a in test_tuple2 for b in test_tuple1] \n",
    "res = [(a,b)for a in test_tuple1 for b in test_tuple2]\n",
    "# printing result \n",
    "print(\"The filtered tuple : \" + str(res)) \n"
   ]
  },
  {
   "cell_type": "code",
   "execution_count": null,
   "metadata": {},
   "outputs": [],
   "source": []
  }
 ],
 "metadata": {
  "kernelspec": {
   "display_name": "Python 3",
   "language": "python",
   "name": "python3"
  },
  "language_info": {
   "codemirror_mode": {
    "name": "ipython",
    "version": 3
   },
   "file_extension": ".py",
   "mimetype": "text/x-python",
   "name": "python",
   "nbconvert_exporter": "python",
   "pygments_lexer": "ipython3",
   "version": "3.6.5"
  }
 },
 "nbformat": 4,
 "nbformat_minor": 2
}
