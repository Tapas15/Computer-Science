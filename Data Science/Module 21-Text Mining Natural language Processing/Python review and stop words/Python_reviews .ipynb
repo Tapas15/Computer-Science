{
 "cells": [
  {
   "cell_type": "markdown",
   "metadata": {},
   "source": [
    "# Amazon reiews\n",
    "\n",
    "Samgsung Galaxy mobile[Samgsung](https://www.amazon.in/Samsung-Galaxy-Ocean-128GB-Storage/dp/B07HGGYWL6/ref=cm_cr_arp_d_product_top?ie=UTF8)<br>\n",
    "[Youtube link](https://www.youtube.com/watch?v=B0Rnx9wgwKg)\n",
    "\n",
    "64MP + 8MP + 5MP + 5MP rear camera | 32MP front facing camera<br>\n",
    "16.21 centimeters (6.4-inch) FHD+ capacitive touchscreen with 2340 x 1080 pixels resolution, 404 ppi pixel density and 16M color support<br>\n",
    "Memory, Storage & SIM: 6GB RAM | 128GB storage expandable up to 512GB | Dual SIM with dual standby (4G+4G)<br>\n",
    "Android v10.0 operating system with 2.3GHz + 1.7GHz Exynos 9611 Octa core processor<br>\n",
    "6000mAH lithium-ion battery<br>\n",
    "1 year manufacturer warranty for device and 6 months manufacturer warranty for in-box accessories including batteries from the date of purchase. For any product related quries contact smasung customer care number - 1800407267864<br>\n",
    "Box also includes: Travel Adapter, USB Cable, Ejection Pin, User Manual<br>\n",
    "Fast face unlock and fingerprint sensor | Dual SIM (nano+nano) with dual standby and dual VoLTE , Dedicated Sim slot;Widevine L1 certification for HD streaming | Dolby ATMOS 360 surround sound"
   ]
  },
  {
   "cell_type": "markdown",
   "metadata": {},
   "source": [
    "![ark](https://images-na.ssl-images-amazon.com/images/I/71-Su4Wr0HL._SL1500_.jpg)"
   ]
  },
  {
   "cell_type": "code",
   "execution_count": 1,
   "metadata": {},
   "outputs": [],
   "source": [
    "import requests   # Importing requests to extract content from a url\n",
    "from bs4 import BeautifulSoup as bs # Beautifulsoup is for web scrapping...used to scrap specific content \n",
    "import re \n",
    "iphone_reviews=[]"
   ]
  },
  {
   "cell_type": "code",
   "execution_count": 2,
   "metadata": {},
   "outputs": [],
   "source": [
    "### Extracting reviews from Amazon website ################\n",
    "for i in range(1,100):\n",
    "  ip=[]  \n",
    "  url=\"https://www.amazon.in/Samsung-Galaxy-Ocean-128GB-Storage/product-reviews/B07HGGYWL6/ref=cm_cr_arp_d_paging_btm_next_2?ie=UTF8&reviewerType=all_reviews&pageNumber=\"+str(i)\n",
    "  response = requests.get(url)\n",
    "  soup = bs(response.content,\"html.parser\")# creating soup object to iterate over the extracted content \n",
    "  reviews = soup.findAll(\"span\",attrs={\"class\",\"a-size-base review-text review-text-content\"})# Extracting the content under specific tags  \n",
    "  for i in range(len(reviews)):\n",
    "    ip.append(reviews[i].text)  \n",
    "  iphone_reviews=iphone_reviews+ip  # adding the reviews of one page to empty list which in future contains all the reviews"
   ]
  },
  {
   "cell_type": "code",
   "execution_count": 3,
   "metadata": {},
   "outputs": [],
   "source": [
    "# writng reviews in a text file \n",
    "with open(\"samgsung_galaxy.txt\",\"w\",encoding='utf8') as output:\n",
    "    output.write(str(iphone_reviews))"
   ]
  },
  {
   "cell_type": "markdown",
   "metadata": {},
   "source": [
    "# SnapDeal Reviews\n",
    "Veirdo brings you awesome collection of grindled T-shirt for you to step out in sytle. Made of Premium Rich Cotton fabric, these T-shirt provided utmost comfort during normal and low temperatures. This T-shirt is Regular Fit with superior quality fabric, with two pockets.Pair it with Jeans, Casual Trousers, Chino and Sneakers for a perfect Casual or Retro Party look.\n",
    "[Priduct link](https://www.snapdeal.com/product/veirdo-green-half-sleeve-tshirt/639827458615)"
   ]
  },
  {
   "cell_type": "markdown",
   "metadata": {},
   "source": [
    "![image](https://n2.sdlcdn.com/imgs/i/m/x/Veirdo-100-Percent-Cotton-Green-SDL302071272-1-eed47.jpeg)"
   ]
  },
  {
   "cell_type": "code",
   "execution_count": 4,
   "metadata": {},
   "outputs": [],
   "source": [
    "########### Extracting reviews from snapdeal website ##############\n",
    "\n",
    "iphone_snapdeal=[]\n",
    "url1 = \"https://www.snapdeal.com/product/veirdo-green-half-sleeve-tshirt/639827458615/reviews?page=\"\n",
    "url2 = \"&sortBy=HELPFUL\"\n",
    "### Extracting reviews from Amazon website ################\n",
    "for i in range(1,10):\n",
    "  ip=[]  \n",
    "  base_url = url1+str(i)+url2\n",
    "  response = requests.get(base_url)\n",
    "  soup = bs(response.content,\"html.parser\")# creating soup object to iterate over the extracted content \n",
    "  temp = soup.findAll(\"div\",attrs={\"class\",\"user-review\"})# Extracting the content under specific tags  \n",
    "  for j in range(len(temp)):\n",
    "    ip.append(temp[j].find(\"p\").text)\n",
    "  iphone_snapdeal=iphone_snapdeal+ip  # adding the reviews of one page to empty list which in future contains all the reviews\n"
   ]
  },
  {
   "cell_type": "code",
   "execution_count": 5,
   "metadata": {},
   "outputs": [],
   "source": [
    "### Removing repeated reviews \n",
    "iphone_snapdeal = list(set(iphone_snapdeal))\n"
   ]
  },
  {
   "cell_type": "code",
   "execution_count": 6,
   "metadata": {},
   "outputs": [],
   "source": [
    "# Writing reviews into text file \n",
    "with open(\"tshirt_snapdeal.txt\",\"w\",encoding=\"utf-8\") as snp:\n",
    "    snp.write(str(iphone_snapdeal))"
   ]
  },
  {
   "cell_type": "code",
   "execution_count": null,
   "metadata": {},
   "outputs": [],
   "source": []
  }
 ],
 "metadata": {
  "kernelspec": {
   "display_name": "Python 3",
   "language": "python",
   "name": "python3"
  },
  "language_info": {
   "codemirror_mode": {
    "name": "ipython",
    "version": 3
   },
   "file_extension": ".py",
   "mimetype": "text/x-python",
   "name": "python",
   "nbconvert_exporter": "python",
   "pygments_lexer": "ipython3",
   "version": "3.7.4"
  }
 },
 "nbformat": 4,
 "nbformat_minor": 2
}
