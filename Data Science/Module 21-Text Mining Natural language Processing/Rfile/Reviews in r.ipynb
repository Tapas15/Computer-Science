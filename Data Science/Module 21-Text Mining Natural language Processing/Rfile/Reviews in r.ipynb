{
 "cells": [
  {
   "cell_type": "markdown",
   "metadata": {},
   "source": [
    "# Module 21"
   ]
  },
  {
   "cell_type": "markdown",
   "metadata": {},
   "source": [
    "# Amazon Reviews \n",
    "\n",
    "Module no 21 # Writing Review of \n",
    "boAt Rockerz 600 Bluetooth Headphone with Luxurious Sound, Plush Earcushions, Foldable Ergonomic Design and Up to 8H Playtime (Black)\n",
    "\n",
    "Module no 21 Amazon Review of product link -[boAt Rockerz 600 Bluetooth Headphone](https://www.amazon.in/boAt-Rockerz-600-Bluetooth-Headphones/dp/B01HI5KQHQ/ref=sr_1_1?crid=1YNUJBN53NB2P&dchild=1&keywords=boat+rockerz+600+bluetooth+headphones&qid=1592997289&s=musical-instruments&sprefix=boAt+rockerz+6%2Cmi%2C428&sr=8-1)\n",
    "\n",
    "[Youtube viddo review linke](https://www.youtube.com/watch?v=36oB_Gwtyig)"
   ]
  },
  {
   "cell_type": "markdown",
   "metadata": {},
   "source": [
    "![boAt](https://images-na.ssl-images-amazon.com/images/I/61H0sXxrFRL._SL1500_.jpg)"
   ]
  },
  {
   "cell_type": "code",
   "execution_count": 2,
   "metadata": {},
   "outputs": [],
   "source": [
    "#library(\"IRdisplay\")    required packages for making image view \n",
    "#display_jpeg(file=\"rok.jpg\")"
   ]
  },
  {
   "cell_type": "markdown",
   "metadata": {},
   "source": [
    "### Required packages "
   ]
  },
  {
   "cell_type": "code",
   "execution_count": 3,
   "metadata": {},
   "outputs": [
    {
     "name": "stderr",
     "output_type": "stream",
     "text": [
      "Loading required package: xml2\n",
      "\n",
      "\n",
      "Attaching package: 'XML'\n",
      "\n",
      "\n",
      "The following object is masked from 'package:rvest':\n",
      "\n",
      "    xml\n",
      "\n",
      "\n"
     ]
    }
   ],
   "source": [
    "library(rvest)\n",
    "library(XML)\n",
    "library(magrittr)\n",
    "library(stringr)\n",
    "library(xlsx)"
   ]
  },
  {
   "cell_type": "code",
   "execution_count": 5,
   "metadata": {},
   "outputs": [],
   "source": [
    "aurl <- \"https://www.amazon.in/boAt-Rockerz-600-Bluetooth-Headphones/product-reviews/B01HI5KQHQ/ref=cm_cr_arp_d_paging_btm_3?ie=UTF8&pageNumber=\"\n",
    "amazon_reviews <- NULL\n",
    "for (i in 1:30){\n",
    "  murl <- read_html(as.character(paste(aurl,i,sep=\"\")))\n",
    "  rev <- murl %>%\n",
    "  html_nodes(\".review-text\") %>%\n",
    "  html_text()\n",
    "  amazon_reviews <- c(amazon_reviews,rev)\n",
    "}\n",
    "remove_line <- str_replace_all(amazon_reviews,'\\n','') # removing lines\n",
    "\n"
   ]
  },
  {
   "cell_type": "code",
   "execution_count": 6,
   "metadata": {},
   "outputs": [],
   "source": [
    "write.xlsx(remove_line,'myheadphone.xlsx') # writing into excel files "
   ]
  },
  {
   "cell_type": "code",
   "execution_count": 7,
   "metadata": {},
   "outputs": [],
   "source": [
    "write.table(remove_line,'myheadphone.txt') # writing into text file "
   ]
  },
  {
   "cell_type": "markdown",
   "metadata": {},
   "source": [
    "# Amazon Apple iphone review\n",
    "6.1-inch Liquid Retina HD LCD display<br>\n",
    "Water and dust resistant (2 meters for up to 30 minutes, IP68)<br>\n",
    "Dual-camera system with 12MP Ultra Wide and Wide cameras; Night mode, Portrait mode, and 4K video up to 60fps<br>\n",
    "12MP TrueDepth front camera with Portrait mode, 4K video, and Slo-Mo<br>\n",
    "Face ID for secure authentication and Apple Pay<br>\n",
    "A13 Bionic chip with third-generation Neural Engine<br>\n",
    "Fast-charge capable<br>\n",
    "Wireless charging<br>\n",
    "Manufacturer Detail: Apple Inc, One Apple Park Way, Cupertino, CA 95014, USA<br>\n",
    "Packer Detail: Designed by Apple in California, Assembled in China<br>\n",
    "Importer Details: Apple India Private Limited No. 24, 19th Floor, Concorde Tower C, UB City, Vittal Mallya Road, Bangalore - 560001\n",
    "\n",
    "[Apple iPhone 11 (64GB) - Black](https://www.amazon.in/Apple-iPhone-11-64GB-Black/dp/B07XVMDRZY/ref=sr_1_1?dchild=1&keywords=iphone&qid=1593000419&sr=8-1)"
   ]
  },
  {
   "cell_type": "markdown",
   "metadata": {},
   "source": [
    "![Apple](https://images-na.ssl-images-amazon.com/images/I/51kGDXeFZKL._SL1024_.jpg)"
   ]
  },
  {
   "cell_type": "code",
   "execution_count": 8,
   "metadata": {},
   "outputs": [],
   "source": [
    "url <- \"https://www.amazon.in/Apple-iPhone-11-64GB-Black/product-reviews/B07XVMDRZY/ref=cm_cr_arp_d_paging_btm_next_2?ie=UTF8&reviewerType=all_reviews&pageNumber=\"\n",
    "amazon_reviews <- NULL\n",
    "for (i in 1:40){\n",
    "  murl <- read_html(as.character(paste(url,i,sep=\"\")))\n",
    "  rev <- murl %>%\n",
    "  html_nodes(\".review-text\") %>%\n",
    "  html_text()\n",
    "  amazon_reviews <- c(amazon_reviews,rev)\n",
    "}\n",
    "remove_lines <- str_replace_all(amazon_reviews,'\\n','') # removing lines\n",
    "\n"
   ]
  },
  {
   "cell_type": "code",
   "execution_count": 9,
   "metadata": {},
   "outputs": [],
   "source": [
    "write.xlsx(remove_lines,'Apple_iphone.xlsx') # writing into excel files "
   ]
  },
  {
   "cell_type": "markdown",
   "metadata": {},
   "source": [
    "# SnapDeal Revirws \n",
    "Stylish and latest fashion black jeans from Urbano Fashion will keep you looking fabulous all day. The colour of the jeans is such that it can be paired with any shirts, t-shirts and tees. It can be used for casual, formal and party wear.\n",
    "[Urbano Fashion Black Slim Jeans](https://www.snapdeal.com/product/urbano-fashion-blue-slim-fit/669187938877)"
   ]
  },
  {
   "cell_type": "markdown",
   "metadata": {},
   "source": [
    "![snap](https://n1.sdlcdn.com/imgs/c/h/8/BlackjeansEPS1_26082016-3aa9d.jpg)"
   ]
  },
  {
   "cell_type": "code",
   "execution_count": 10,
   "metadata": {},
   "outputs": [],
   "source": [
    "# Snapdeal reviews #############################\n",
    "surl_1 <- \"https://www.snapdeal.com/product/urbano-fashion-blue-slim-fit/669187938877/reviews?page=\"\n",
    "surl_2 <- \"3&sortBy=HELPFUL#defRevPDP\"\n",
    "snapdeal_reviews <- NULL\n",
    "for (i in 1:30){\n",
    "  surl <- read_html(as.character(paste(surl_1,surl_2,sep=as.character(i))))\n",
    "  srev <- surl %>%\n",
    "    html_nodes(\"#defaultReviewsCard p\") %>%\n",
    "    html_text()\n",
    "  snapdeal_reviews <- c(snapdeal_reviews,srev)\n",
    "}\n"
   ]
  },
  {
   "cell_type": "code",
   "execution_count": 12,
   "metadata": {},
   "outputs": [],
   "source": [
    "write.table(snapdeal_reviews,\"Slim_jeans.txt\")"
   ]
  },
  {
   "cell_type": "code",
   "execution_count": 13,
   "metadata": {},
   "outputs": [],
   "source": [
    "write.xlsx(snapdeal_reviews,\"slim_jeans.xlsx\")"
   ]
  },
  {
   "cell_type": "markdown",
   "metadata": {},
   "source": [
    "# Veirdo 100 Percent Cotton Green Color Block T-Shirt\n",
    "\n",
    "Veirdo brings you awesome collection of grindled T-shirt for you to step out in sytle. Made of Premium Rich Cotton fabric, these T-shirt provided utmost comfort during normal and low temperatures. This T-shirt is Regular Fit with superior quality fabric, with two pockets.Pair it with Jeans, Casual Trousers, Chino and Sneakers for a perfect Casual or Retro Party look.\n",
    "[Veirdo 100 Percent Cotton Green Color Block T-Shirt](https://www.snapdeal.com/product/veirdo-green-half-sleeve-tshirt/639827458615)"
   ]
  },
  {
   "cell_type": "markdown",
   "metadata": {},
   "source": [
    "![Veidro](https://n2.sdlcdn.com/imgs/i/m/x/Veirdo-100-Percent-Cotton-Green-SDL302071272-1-eed47.jpeg)"
   ]
  },
  {
   "cell_type": "code",
   "execution_count": 7,
   "metadata": {},
   "outputs": [],
   "source": [
    "# Snapdeal reviews #############################\n",
    "sur <- \"https://www.snapdeal.com/product/urbano-fashion-blue-slim-fit/669187938877/reviews?page=\"\n",
    "surl <- \"3&sortBy=HELPFUL#defRevPDP\"\n",
    "snapdeal_reviews <- NULL\n",
    "for (i in 1:30){\n",
    "  surl <- read_html(as.character(paste(sur,surl,sep=as.character(i))))\n",
    "  srev <- surl %>%\n",
    "    html_nodes(\"#defaultReviewsCard p\") %>%\n",
    "    html_text()\n",
    "  snapdeal_reviews1 <- c(snapdeal_reviews,srev)\n",
    "}\n"
   ]
  },
  {
   "cell_type": "code",
   "execution_count": 8,
   "metadata": {},
   "outputs": [],
   "source": [
    "write.table(snapdeal_reviews1,\"Tshirt.txt\")"
   ]
  },
  {
   "cell_type": "code",
   "execution_count": 9,
   "metadata": {},
   "outputs": [],
   "source": [
    "write.xlsx(snapdeal_reviews1,\"Tshirt.xlsx\")"
   ]
  },
  {
   "cell_type": "code",
   "execution_count": null,
   "metadata": {},
   "outputs": [],
   "source": []
  }
 ],
 "metadata": {
  "kernelspec": {
   "display_name": "R",
   "language": "R",
   "name": "ir"
  },
  "language_info": {
   "codemirror_mode": "r",
   "file_extension": ".r",
   "mimetype": "text/x-r-source",
   "name": "R",
   "pygments_lexer": "r",
   "version": "3.6.3"
  }
 },
 "nbformat": 4,
 "nbformat_minor": 2
}
