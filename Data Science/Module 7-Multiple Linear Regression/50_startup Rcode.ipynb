{
 "cells": [
  {
   "cell_type": "markdown",
   "metadata": {},
   "source": [
    "# Assignment module no 7 in R 50_startup"
   ]
  },
  {
   "cell_type": "markdown",
   "metadata": {},
   "source": [
    "50 startup data there is no significcant information about this data, assuming that it is a 50 startup firm in newyourk city which has many divisions Research & Developement Administrative and marketing , Profit and state(catagorical variable)"
   ]
  },
  {
   "cell_type": "code",
   "execution_count": 1,
   "metadata": {},
   "outputs": [],
   "source": [
    "# lets reading our csv file copy into a df \n",
    "df  <- read.csv('50_Startups.csv')"
   ]
  },
  {
   "cell_type": "code",
   "execution_count": 2,
   "metadata": {},
   "outputs": [
    {
     "data": {
      "text/html": [
       "<table>\n",
       "<caption>A data.frame: 6 × 5</caption>\n",
       "<thead>\n",
       "\t<tr><th></th><th scope=col>R.D.Spend</th><th scope=col>Administration</th><th scope=col>Marketing.Spend</th><th scope=col>State</th><th scope=col>Profit</th></tr>\n",
       "\t<tr><th></th><th scope=col>&lt;dbl&gt;</th><th scope=col>&lt;dbl&gt;</th><th scope=col>&lt;dbl&gt;</th><th scope=col>&lt;fct&gt;</th><th scope=col>&lt;dbl&gt;</th></tr>\n",
       "</thead>\n",
       "<tbody>\n",
       "\t<tr><th scope=row>1</th><td>165349.2</td><td>136897.80</td><td>471784.1</td><td>New York  </td><td>192261.8</td></tr>\n",
       "\t<tr><th scope=row>2</th><td>162597.7</td><td>151377.59</td><td>443898.5</td><td>California</td><td>191792.1</td></tr>\n",
       "\t<tr><th scope=row>3</th><td>153441.5</td><td>101145.55</td><td>407934.5</td><td>Florida   </td><td>191050.4</td></tr>\n",
       "\t<tr><th scope=row>4</th><td>144372.4</td><td>118671.85</td><td>383199.6</td><td>New York  </td><td>182902.0</td></tr>\n",
       "\t<tr><th scope=row>5</th><td>142107.3</td><td> 91391.77</td><td>366168.4</td><td>Florida   </td><td>166187.9</td></tr>\n",
       "\t<tr><th scope=row>6</th><td>131876.9</td><td> 99814.71</td><td>362861.4</td><td>New York  </td><td>156991.1</td></tr>\n",
       "</tbody>\n",
       "</table>\n"
      ],
      "text/latex": [
       "A data.frame: 6 × 5\n",
       "\\begin{tabular}{r|lllll}\n",
       "  & R.D.Spend & Administration & Marketing.Spend & State & Profit\\\\\n",
       "  & <dbl> & <dbl> & <dbl> & <fct> & <dbl>\\\\\n",
       "\\hline\n",
       "\t1 & 165349.2 & 136897.80 & 471784.1 & New York   & 192261.8\\\\\n",
       "\t2 & 162597.7 & 151377.59 & 443898.5 & California & 191792.1\\\\\n",
       "\t3 & 153441.5 & 101145.55 & 407934.5 & Florida    & 191050.4\\\\\n",
       "\t4 & 144372.4 & 118671.85 & 383199.6 & New York   & 182902.0\\\\\n",
       "\t5 & 142107.3 &  91391.77 & 366168.4 & Florida    & 166187.9\\\\\n",
       "\t6 & 131876.9 &  99814.71 & 362861.4 & New York   & 156991.1\\\\\n",
       "\\end{tabular}\n"
      ],
      "text/markdown": [
       "\n",
       "A data.frame: 6 × 5\n",
       "\n",
       "| <!--/--> | R.D.Spend &lt;dbl&gt; | Administration &lt;dbl&gt; | Marketing.Spend &lt;dbl&gt; | State &lt;fct&gt; | Profit &lt;dbl&gt; |\n",
       "|---|---|---|---|---|---|\n",
       "| 1 | 165349.2 | 136897.80 | 471784.1 | New York   | 192261.8 |\n",
       "| 2 | 162597.7 | 151377.59 | 443898.5 | California | 191792.1 |\n",
       "| 3 | 153441.5 | 101145.55 | 407934.5 | Florida    | 191050.4 |\n",
       "| 4 | 144372.4 | 118671.85 | 383199.6 | New York   | 182902.0 |\n",
       "| 5 | 142107.3 |  91391.77 | 366168.4 | Florida    | 166187.9 |\n",
       "| 6 | 131876.9 |  99814.71 | 362861.4 | New York   | 156991.1 |\n",
       "\n"
      ],
      "text/plain": [
       "  R.D.Spend Administration Marketing.Spend State      Profit  \n",
       "1 165349.2  136897.80      471784.1        New York   192261.8\n",
       "2 162597.7  151377.59      443898.5        California 191792.1\n",
       "3 153441.5  101145.55      407934.5        Florida    191050.4\n",
       "4 144372.4  118671.85      383199.6        New York   182902.0\n",
       "5 142107.3   91391.77      366168.4        Florida    166187.9\n",
       "6 131876.9   99814.71      362861.4        New York   156991.1"
      ]
     },
     "metadata": {},
     "output_type": "display_data"
    }
   ],
   "source": [
    "head(df) # "
   ]
  },
  {
   "cell_type": "code",
   "execution_count": 3,
   "metadata": {},
   "outputs": [
    {
     "data": {
      "text/plain": [
       "   R.D.Spend      Administration   Marketing.Spend         State   \n",
       " Min.   :     0   Min.   : 51283   Min.   :     0   California:17  \n",
       " 1st Qu.: 39936   1st Qu.:103731   1st Qu.:129300   Florida   :16  \n",
       " Median : 73051   Median :122700   Median :212716   New York  :17  \n",
       " Mean   : 73722   Mean   :121345   Mean   :211025                  \n",
       " 3rd Qu.:101603   3rd Qu.:144842   3rd Qu.:299469                  \n",
       " Max.   :165349   Max.   :182646   Max.   :471784                  \n",
       "     Profit      \n",
       " Min.   : 14681  \n",
       " 1st Qu.: 90139  \n",
       " Median :107978  \n",
       " Mean   :112013  \n",
       " 3rd Qu.:139766  \n",
       " Max.   :192262  "
      ]
     },
     "metadata": {},
     "output_type": "display_data"
    }
   ],
   "source": [
    "summary(df)"
   ]
  },
  {
   "cell_type": "markdown",
   "metadata": {},
   "source": [
    "## Playing with attribute  and data cleaning "
   ]
  },
  {
   "cell_type": "code",
   "execution_count": 4,
   "metadata": {},
   "outputs": [
    {
     "name": "stdout",
     "output_type": "stream",
     "text": [
      "'data.frame':\t50 obs. of  5 variables:\n",
      " $ R.D.Spend      : num  165349 162598 153442 144372 142107 ...\n",
      " $ Administration : num  136898 151378 101146 118672 91392 ...\n",
      " $ Marketing.Spend: num  471784 443899 407935 383200 366168 ...\n",
      " $ State          : Factor w/ 3 levels \"California\",\"Florida\",..: 3 1 2 3 2 3 1 2 3 1 ...\n",
      " $ Profit         : num  192262 191792 191050 182902 166188 ...\n"
     ]
    }
   ],
   "source": [
    "str(df) # we see State data a factorial data not numerical data "
   ]
  },
  {
   "cell_type": "code",
   "execution_count": 5,
   "metadata": {},
   "outputs": [],
   "source": [
    "num_col  <- sapply(df,is.numeric)"
   ]
  },
  {
   "cell_type": "code",
   "execution_count": 6,
   "metadata": {},
   "outputs": [
    {
     "data": {
      "text/html": [
       "<style>\n",
       ".dl-inline {width: auto; margin:0; padding: 0}\n",
       ".dl-inline>dt, .dl-inline>dd {float: none; width: auto; display: inline-block}\n",
       ".dl-inline>dt::after {content: \":\\0020\"; padding-right: .5ex}\n",
       ".dl-inline>dt:not(:first-of-type) {padding-left: .5ex}\n",
       "</style><dl class=dl-inline><dt>R.D.Spend</dt><dd>TRUE</dd><dt>Administration</dt><dd>TRUE</dd><dt>Marketing.Spend</dt><dd>TRUE</dd><dt>State</dt><dd>FALSE</dd><dt>Profit</dt><dd>TRUE</dd></dl>\n"
      ],
      "text/latex": [
       "\\begin{description*}\n",
       "\\item[R.D.Spend] TRUE\n",
       "\\item[Administration] TRUE\n",
       "\\item[Marketing.Spend] TRUE\n",
       "\\item[State] FALSE\n",
       "\\item[Profit] TRUE\n",
       "\\end{description*}\n"
      ],
      "text/markdown": [
       "R.D.Spend\n",
       ":   TRUEAdministration\n",
       ":   TRUEMarketing.Spend\n",
       ":   TRUEState\n",
       ":   FALSEProfit\n",
       ":   TRUE\n",
       "\n"
      ],
      "text/plain": [
       "      R.D.Spend  Administration Marketing.Spend           State          Profit \n",
       "           TRUE            TRUE            TRUE           FALSE            TRUE "
      ]
     },
     "metadata": {},
     "output_type": "display_data"
    }
   ],
   "source": [
    "num_col"
   ]
  },
  {
   "cell_type": "code",
   "execution_count": 7,
   "metadata": {},
   "outputs": [
    {
     "name": "stdout",
     "output_type": "stream",
     "text": [
      "      R.D.Spend  Administration Marketing.Spend           State          Profit \n",
      "           TRUE            TRUE            TRUE           FALSE            TRUE \n"
     ]
    }
   ],
   "source": [
    "print(num_col)"
   ]
  },
  {
   "cell_type": "code",
   "execution_count": 8,
   "metadata": {},
   "outputs": [
    {
     "name": "stderr",
     "output_type": "stream",
     "text": [
      "Warning message:\n",
      "\"package 'dplyr' was built under R version 3.6.3\"\n",
      "\n",
      "Attaching package: 'dplyr'\n",
      "\n",
      "\n",
      "The following objects are masked from 'package:stats':\n",
      "\n",
      "    filter, lag\n",
      "\n",
      "\n",
      "The following objects are masked from 'package:base':\n",
      "\n",
      "    intersect, setdiff, setequal, union\n",
      "\n",
      "\n"
     ]
    }
   ],
   "source": [
    "library(dplyr)"
   ]
  },
  {
   "cell_type": "code",
   "execution_count": 9,
   "metadata": {},
   "outputs": [
    {
     "name": "stdout",
     "output_type": "stream",
     "text": [
      "Rows: 50\n",
      "Columns: 5\n",
      "$ R.D.Spend       \u001b[3m\u001b[90m<dbl>\u001b[39m\u001b[23m 165349.20, 162597.70, 153441.51, 144372.41, 142107....\n",
      "$ Administration  \u001b[3m\u001b[90m<dbl>\u001b[39m\u001b[23m 136897.80, 151377.59, 101145.55, 118671.85, 91391.7...\n",
      "$ Marketing.Spend \u001b[3m\u001b[90m<dbl>\u001b[39m\u001b[23m 471784.1, 443898.5, 407934.5, 383199.6, 366168.4, 3...\n",
      "$ State           \u001b[3m\u001b[90m<fct>\u001b[39m\u001b[23m New York, California, Florida, New York, Florida, N...\n",
      "$ Profit          \u001b[3m\u001b[90m<dbl>\u001b[39m\u001b[23m 192261.8, 191792.1, 191050.4, 182902.0, 166187.9, 1...\n"
     ]
    }
   ],
   "source": [
    "glimpse(df) # same as structure type it gives dbl means double type and fct is factorial data "
   ]
  },
  {
   "cell_type": "code",
   "execution_count": 10,
   "metadata": {},
   "outputs": [
    {
     "data": {
      "text/html": [
       "'list'"
      ],
      "text/latex": [
       "'list'"
      ],
      "text/markdown": [
       "'list'"
      ],
      "text/plain": [
       "[1] \"list\""
      ]
     },
     "metadata": {},
     "output_type": "display_data"
    }
   ],
   "source": [
    "typeof(df) # structure of the data type is list form "
   ]
  },
  {
   "cell_type": "code",
   "execution_count": 11,
   "metadata": {},
   "outputs": [],
   "source": [
    "df1 = df[-4] # after removing factor column from the data we get all numerical data "
   ]
  },
  {
   "cell_type": "code",
   "execution_count": 12,
   "metadata": {},
   "outputs": [
    {
     "data": {
      "text/html": [
       "<table>\n",
       "<caption>A data.frame: 6 × 4</caption>\n",
       "<thead>\n",
       "\t<tr><th></th><th scope=col>R.D.Spend</th><th scope=col>Administration</th><th scope=col>Marketing.Spend</th><th scope=col>Profit</th></tr>\n",
       "\t<tr><th></th><th scope=col>&lt;dbl&gt;</th><th scope=col>&lt;dbl&gt;</th><th scope=col>&lt;dbl&gt;</th><th scope=col>&lt;dbl&gt;</th></tr>\n",
       "</thead>\n",
       "<tbody>\n",
       "\t<tr><th scope=row>1</th><td>165349.2</td><td>136897.80</td><td>471784.1</td><td>192261.8</td></tr>\n",
       "\t<tr><th scope=row>2</th><td>162597.7</td><td>151377.59</td><td>443898.5</td><td>191792.1</td></tr>\n",
       "\t<tr><th scope=row>3</th><td>153441.5</td><td>101145.55</td><td>407934.5</td><td>191050.4</td></tr>\n",
       "\t<tr><th scope=row>4</th><td>144372.4</td><td>118671.85</td><td>383199.6</td><td>182902.0</td></tr>\n",
       "\t<tr><th scope=row>5</th><td>142107.3</td><td> 91391.77</td><td>366168.4</td><td>166187.9</td></tr>\n",
       "\t<tr><th scope=row>6</th><td>131876.9</td><td> 99814.71</td><td>362861.4</td><td>156991.1</td></tr>\n",
       "</tbody>\n",
       "</table>\n"
      ],
      "text/latex": [
       "A data.frame: 6 × 4\n",
       "\\begin{tabular}{r|llll}\n",
       "  & R.D.Spend & Administration & Marketing.Spend & Profit\\\\\n",
       "  & <dbl> & <dbl> & <dbl> & <dbl>\\\\\n",
       "\\hline\n",
       "\t1 & 165349.2 & 136897.80 & 471784.1 & 192261.8\\\\\n",
       "\t2 & 162597.7 & 151377.59 & 443898.5 & 191792.1\\\\\n",
       "\t3 & 153441.5 & 101145.55 & 407934.5 & 191050.4\\\\\n",
       "\t4 & 144372.4 & 118671.85 & 383199.6 & 182902.0\\\\\n",
       "\t5 & 142107.3 &  91391.77 & 366168.4 & 166187.9\\\\\n",
       "\t6 & 131876.9 &  99814.71 & 362861.4 & 156991.1\\\\\n",
       "\\end{tabular}\n"
      ],
      "text/markdown": [
       "\n",
       "A data.frame: 6 × 4\n",
       "\n",
       "| <!--/--> | R.D.Spend &lt;dbl&gt; | Administration &lt;dbl&gt; | Marketing.Spend &lt;dbl&gt; | Profit &lt;dbl&gt; |\n",
       "|---|---|---|---|---|\n",
       "| 1 | 165349.2 | 136897.80 | 471784.1 | 192261.8 |\n",
       "| 2 | 162597.7 | 151377.59 | 443898.5 | 191792.1 |\n",
       "| 3 | 153441.5 | 101145.55 | 407934.5 | 191050.4 |\n",
       "| 4 | 144372.4 | 118671.85 | 383199.6 | 182902.0 |\n",
       "| 5 | 142107.3 |  91391.77 | 366168.4 | 166187.9 |\n",
       "| 6 | 131876.9 |  99814.71 | 362861.4 | 156991.1 |\n",
       "\n"
      ],
      "text/plain": [
       "  R.D.Spend Administration Marketing.Spend Profit  \n",
       "1 165349.2  136897.80      471784.1        192261.8\n",
       "2 162597.7  151377.59      443898.5        191792.1\n",
       "3 153441.5  101145.55      407934.5        191050.4\n",
       "4 144372.4  118671.85      383199.6        182902.0\n",
       "5 142107.3   91391.77      366168.4        166187.9\n",
       "6 131876.9   99814.71      362861.4        156991.1"
      ]
     },
     "metadata": {},
     "output_type": "display_data"
    }
   ],
   "source": [
    "head(df1)"
   ]
  },
  {
   "cell_type": "code",
   "execution_count": 13,
   "metadata": {},
   "outputs": [
    {
     "data": {
      "text/html": [
       "FALSE"
      ],
      "text/latex": [
       "FALSE"
      ],
      "text/markdown": [
       "FALSE"
      ],
      "text/plain": [
       "[1] FALSE"
      ]
     },
     "metadata": {},
     "output_type": "display_data"
    }
   ],
   "source": [
    "anyNA(df1)# this means there is no na value present "
   ]
  },
  {
   "cell_type": "code",
   "execution_count": 14,
   "metadata": {},
   "outputs": [
    {
     "data": {
      "text/html": [
       "<table>\n",
       "<caption>A matrix: 4 × 4 of type dbl</caption>\n",
       "<thead>\n",
       "\t<tr><th></th><th scope=col>R.D.Spend</th><th scope=col>Administration</th><th scope=col>Marketing.Spend</th><th scope=col>Profit</th></tr>\n",
       "</thead>\n",
       "<tbody>\n",
       "\t<tr><th scope=row>R.D.Spend</th><td>2107017150</td><td> 311173891</td><td> 4065495345</td><td>1800006570</td></tr>\n",
       "\t<tr><th scope=row>Administration</th><td> 311173891</td><td> 784997271</td><td> -110169009</td><td> 226667336</td></tr>\n",
       "\t<tr><th scope=row>Marketing.Spend</th><td>4065495345</td><td>-110169009</td><td>14954920097</td><td>3685778607</td></tr>\n",
       "\t<tr><th scope=row>Profit</th><td>1800006570</td><td> 226667336</td><td> 3685778607</td><td>1624588173</td></tr>\n",
       "</tbody>\n",
       "</table>\n"
      ],
      "text/latex": [
       "A matrix: 4 × 4 of type dbl\n",
       "\\begin{tabular}{r|llll}\n",
       "  & R.D.Spend & Administration & Marketing.Spend & Profit\\\\\n",
       "\\hline\n",
       "\tR.D.Spend & 2107017150 &  311173891 &  4065495345 & 1800006570\\\\\n",
       "\tAdministration &  311173891 &  784997271 &  -110169009 &  226667336\\\\\n",
       "\tMarketing.Spend & 4065495345 & -110169009 & 14954920097 & 3685778607\\\\\n",
       "\tProfit & 1800006570 &  226667336 &  3685778607 & 1624588173\\\\\n",
       "\\end{tabular}\n"
      ],
      "text/markdown": [
       "\n",
       "A matrix: 4 × 4 of type dbl\n",
       "\n",
       "| <!--/--> | R.D.Spend | Administration | Marketing.Spend | Profit |\n",
       "|---|---|---|---|---|\n",
       "| R.D.Spend | 2107017150 |  311173891 |  4065495345 | 1800006570 |\n",
       "| Administration |  311173891 |  784997271 |  -110169009 |  226667336 |\n",
       "| Marketing.Spend | 4065495345 | -110169009 | 14954920097 | 3685778607 |\n",
       "| Profit | 1800006570 |  226667336 |  3685778607 | 1624588173 |\n",
       "\n"
      ],
      "text/plain": [
       "                R.D.Spend  Administration Marketing.Spend Profit    \n",
       "R.D.Spend       2107017150  311173891      4065495345     1800006570\n",
       "Administration   311173891  784997271      -110169009      226667336\n",
       "Marketing.Spend 4065495345 -110169009     14954920097     3685778607\n",
       "Profit          1800006570  226667336      3685778607     1624588173"
      ]
     },
     "metadata": {},
     "output_type": "display_data"
    }
   ],
   "source": [
    "var(df1) # variation in our data frame"
   ]
  },
  {
   "cell_type": "code",
   "execution_count": 15,
   "metadata": {},
   "outputs": [],
   "source": [
    "corr.data  <- cor(df[,num_col]) # correaltion of data "
   ]
  },
  {
   "cell_type": "code",
   "execution_count": 16,
   "metadata": {},
   "outputs": [
    {
     "name": "stdout",
     "output_type": "stream",
     "text": [
      "                R.D.Spend Administration Marketing.Spend    Profit\n",
      "R.D.Spend       1.0000000     0.24195525      0.72424813 0.9729005\n",
      "Administration  0.2419552     1.00000000     -0.03215388 0.2007166\n",
      "Marketing.Spend 0.7242481    -0.03215388      1.00000000 0.7477657\n",
      "Profit          0.9729005     0.20071657      0.74776572 1.0000000\n"
     ]
    }
   ],
   "source": [
    "print(corr.data) # correaltion of data printed "
   ]
  },
  {
   "cell_type": "code",
   "execution_count": 17,
   "metadata": {},
   "outputs": [
    {
     "name": "stderr",
     "output_type": "stream",
     "text": [
      "Warning message:\n",
      "\"package 'corrgram' was built under R version 3.6.3\"\n",
      "Registered S3 method overwritten by 'seriation':\n",
      "  method         from \n",
      "  reorder.hclust gclus\n",
      "\n",
      "Warning message:\n",
      "\"package 'corrplot' was built under R version 3.6.3\"\n",
      "corrplot 0.84 loaded\n",
      "\n"
     ]
    }
   ],
   "source": [
    "library(corrgram)\n",
    "library(corrplot)"
   ]
  },
  {
   "cell_type": "markdown",
   "metadata": {},
   "source": [
    "# Pre Processory exploratory data annalysis"
   ]
  },
  {
   "cell_type": "code",
   "execution_count": 18,
   "metadata": {},
   "outputs": [
    {
     "name": "stdout",
     "output_type": "stream",
     "text": [
      "                R.D.Spend Administration Marketing.Spend    Profit\n",
      "R.D.Spend       1.0000000     0.24195525      0.72424813 0.9729005\n",
      "Administration  0.2419552     1.00000000     -0.03215388 0.2007166\n",
      "Marketing.Spend 0.7242481    -0.03215388      1.00000000 0.7477657\n",
      "Profit          0.9729005     0.20071657      0.74776572 1.0000000\n"
     ]
    },
    {
     "data": {
      "image/png": "[encoded data removed]",
      "text/plain": [
       "Plot with title \"\""
      ]
     },
     "metadata": {
      "image/png": {
       "height": 420,
       "width": 420
      }
     },
     "output_type": "display_data"
    }
   ],
   "source": [
    "print(corrplot(corr.data,method = 'color'))"
   ]
  },
  {
   "cell_type": "markdown",
   "metadata": {},
   "source": [
    "Blue indicate the positive and white and red indicate the negative , we can see the corelation digonal of R.D spent it means it has corelation with many other features "
   ]
  },
  {
   "cell_type": "code",
   "execution_count": 19,
   "metadata": {},
   "outputs": [
    {
     "name": "stdout",
     "output_type": "stream",
     "text": [
      "                R.D.Spend Administration Marketing.Spend    Profit\n",
      "R.D.Spend       1.0000000     0.24195525      0.72424813 0.9729005\n",
      "Administration  0.2419552     1.00000000     -0.03215388 0.2007166\n",
      "Marketing.Spend 0.7242481    -0.03215388      1.00000000 0.7477657\n",
      "Profit          0.9729005     0.20071657      0.74776572 1.0000000\n"
     ]
    },
    {
     "data": {
      "image/png": "[encoded data removed]",
      "text/plain": [
       "plot without title"
      ]
     },
     "metadata": {
      "image/png": {
       "height": 420,
       "width": 420
      }
     },
     "output_type": "display_data"
    }
   ],
   "source": [
    "print(corrgram(corr.data))"
   ]
  },
  {
   "cell_type": "code",
   "execution_count": 20,
   "metadata": {},
   "outputs": [
    {
     "data": {
      "image/png": "[encoded data removed]",
      "text/plain": [
       "plot without title"
      ]
     },
     "metadata": {
      "image/png": {
       "height": 420,
       "width": 420
      }
     },
     "output_type": "display_data"
    }
   ],
   "source": [
    "corrgram(df,order=TRUE,lower.panel = panel.shade,upper.panel = panel.pie,text.panel = panel.txt)"
   ]
  },
  {
   "cell_type": "markdown",
   "metadata": {},
   "source": [
    "We have to find out realtoinship Profit with orher variable , Profit with marketing we find 74% positive correaltion exitst,Profit with research spending 97% exists , Profit with Administration 20% exists  "
   ]
  },
  {
   "cell_type": "code",
   "execution_count": 21,
   "metadata": {},
   "outputs": [
    {
     "data": {
      "image/png": "[encoded data removed]",
      "text/plain": [
       "plot without title"
      ]
     },
     "metadata": {
      "image/png": {
       "height": 420,
       "width": 420
      }
     },
     "output_type": "display_data"
    }
   ],
   "source": [
    "panel.cor <- function(x, y, digits=2, prefix=\"\", cex.cor)\n",
    "{\n",
    "  usr <- par(\"usr\"); on.exit(par(usr))\n",
    "  par(usr = c(0, 1, 0, 1))\n",
    "  r = (cor(x, y))\n",
    "  txt <- format(c(r, 0.123456789), digits=digits)[1]\n",
    "  txt <- paste(prefix, txt, sep=\"\")\n",
    "  if(missing(cex.cor)) cex <- 0.4/strwidth(txt)\n",
    "  text(0.5, 0.5, txt, cex = cex)\n",
    "}\n",
    "pairs(df, upper.panel=panel.cor,main=\"Scatter Plot Matrix with Correlation Coefficients\")\n",
    "#we "
   ]
  },
  {
   "cell_type": "markdown",
   "metadata": {},
   "source": [
    "What is the underline interpretation of the above annalysis is if we spend in Research and Developemnet , as compard to Marketing spendding and Adminitration we will get more profit "
   ]
  },
  {
   "cell_type": "markdown",
   "metadata": {},
   "source": [
    "Quesion no 1 : Prepare a prediction model of the data , Question no 2 Do make transform the data for better results , Question no 3- Make a table containing R^2 value for each model "
   ]
  },
  {
   "cell_type": "markdown",
   "metadata": {},
   "source": [
    "Question nuber 1 : preparation of model for better prediction of our data we need to see which type of data is and which model is suitable for our data it is a numerical data "
   ]
  },
  {
   "cell_type": "markdown",
   "metadata": {},
   "source": [
    "### First check normality of our data"
   ]
  },
  {
   "cell_type": "code",
   "execution_count": 22,
   "metadata": {},
   "outputs": [],
   "source": [
    "attach(df)"
   ]
  },
  {
   "cell_type": "code",
   "execution_count": 23,
   "metadata": {},
   "outputs": [
    {
     "data": {
      "image/png": "[encoded data removed]",
      "text/plain": [
       "Plot with title \"Normal Q-Q Plot\""
      ]
     },
     "metadata": {
      "image/png": {
       "height": 420,
       "width": 420
      }
     },
     "output_type": "display_data"
    }
   ],
   "source": [
    "qqnorm(df$R.D.Spend)\n",
    "qqline(df$R.D.Spend)"
   ]
  },
  {
   "cell_type": "markdown",
   "metadata": {},
   "source": [
    "it looks like Research spend normal but absolutely not normal\n"
   ]
  },
  {
   "cell_type": "code",
   "execution_count": 24,
   "metadata": {},
   "outputs": [
    {
     "data": {
      "image/png": "[encoded data removed]",
      "text/plain": [
       "Plot with title \"Normal Q-Q Plot\""
      ]
     },
     "metadata": {
      "image/png": {
       "height": 420,
       "width": 420
      }
     },
     "output_type": "display_data"
    }
   ],
   "source": [
    "qqnorm(df$Administration)\n",
    "qqline(df$Administration)"
   ]
  },
  {
   "cell_type": "code",
   "execution_count": 25,
   "metadata": {},
   "outputs": [
    {
     "data": {
      "image/png": "[encoded data removed]",
      "text/plain": [
       "Plot with title \"Normal Q-Q Plot\""
      ]
     },
     "metadata": {
      "image/png": {
       "height": 420,
       "width": 420
      }
     },
     "output_type": "display_data"
    }
   ],
   "source": [
    "qqnorm(df$Marketing.Spend)\n",
    "qqline(df$Marketing.Spend)"
   ]
  },
  {
   "cell_type": "code",
   "execution_count": 26,
   "metadata": {},
   "outputs": [
    {
     "data": {
      "image/png": "[encoded data removed]",
      "text/plain": [
       "Plot with title \"Normal Q-Q Plot\""
      ]
     },
     "metadata": {
      "image/png": {
       "height": 420,
       "width": 420
      }
     },
     "output_type": "display_data"
    }
   ],
   "source": [
    "qqnorm(df$Profit)\n",
    "qqline(df$Profit)"
   ]
  },
  {
   "cell_type": "markdown",
   "metadata": {},
   "source": [
    "### XY plotting to gaining more out of the data Visualization prospective "
   ]
  },
  {
   "cell_type": "code",
   "execution_count": 27,
   "metadata": {},
   "outputs": [
    {
     "data": {
      "image/png": "[encoded data removed]",
      "text/plain": [
       "plot without title"
      ]
     },
     "metadata": {
      "image/png": {
       "height": 420,
       "width": 420
      }
     },
     "output_type": "display_data"
    }
   ],
   "source": [
    "plot(R.D.Spend,Administration) # it shows appros no relation between reserch spend with administaraion"
   ]
  },
  {
   "cell_type": "code",
   "execution_count": 28,
   "metadata": {},
   "outputs": [
    {
     "data": {
      "image/png": "[encoded data removed]",
      "text/plain": [
       "plot without title"
      ]
     },
     "metadata": {
      "image/png": {
       "height": 420,
       "width": 420
      }
     },
     "output_type": "display_data"
    }
   ],
   "source": [
    "plot(R.D.Spend,Profit) # we can see the linear relationship between research spend and profit"
   ]
  },
  {
   "cell_type": "code",
   "execution_count": 29,
   "metadata": {},
   "outputs": [
    {
     "data": {
      "image/png": "[encoded data removed]",
      "text/plain": [
       "plot without title"
      ]
     },
     "metadata": {
      "image/png": {
       "height": 420,
       "width": 420
      }
     },
     "output_type": "display_data"
    }
   ],
   "source": [
    "plot(Marketing.Spend,Administration) # simply we also clearly find no clear pattern in marketing spend and Administration"
   ]
  },
  {
   "cell_type": "code",
   "execution_count": 30,
   "metadata": {},
   "outputs": [
    {
     "data": {
      "image/png": "[encoded data removed]",
      "text/plain": [
       "plot without title"
      ]
     },
     "metadata": {
      "image/png": {
       "height": 420,
       "width": 420
      }
     },
     "output_type": "display_data"
    }
   ],
   "source": [
    "plot(Marketing.Spend,Profit) # ther is some relation exist between marketing spend and profit"
   ]
  },
  {
   "cell_type": "code",
   "execution_count": 31,
   "metadata": {},
   "outputs": [
    {
     "data": {
      "image/png": "[encoded data removed]",
      "text/plain": [
       "plot without title"
      ]
     },
     "metadata": {
      "image/png": {
       "height": 420,
       "width": 420
      }
     },
     "output_type": "display_data"
    }
   ],
   "source": [
    "plot(Administration,Profit) # not so clearly visible profit realtionship with Administration "
   ]
  },
  {
   "cell_type": "markdown",
   "metadata": {},
   "source": [
    "# Lets Split our data into Train and test "
   ]
  },
  {
   "cell_type": "code",
   "execution_count": 32,
   "metadata": {},
   "outputs": [
    {
     "data": {
      "text/html": [
       "'list'"
      ],
      "text/latex": [
       "'list'"
      ],
      "text/markdown": [
       "'list'"
      ],
      "text/plain": [
       "[1] \"list\""
      ]
     },
     "metadata": {},
     "output_type": "display_data"
    }
   ],
   "source": [
    "typeof(df) # the type of data frame"
   ]
  },
  {
   "cell_type": "markdown",
   "metadata": {},
   "source": [
    "We want states in our data so lets create dummy variable "
   ]
  },
  {
   "cell_type": "code",
   "execution_count": 33,
   "metadata": {},
   "outputs": [
    {
     "data": {
      "text/html": [
       "<table>\n",
       "<caption>A data.frame: 6 × 1</caption>\n",
       "<thead>\n",
       "\t<tr><th></th><th scope=col>State</th></tr>\n",
       "\t<tr><th></th><th scope=col>&lt;fct&gt;</th></tr>\n",
       "</thead>\n",
       "<tbody>\n",
       "\t<tr><th scope=row>1</th><td>New York  </td></tr>\n",
       "\t<tr><th scope=row>2</th><td>California</td></tr>\n",
       "\t<tr><th scope=row>3</th><td>Florida   </td></tr>\n",
       "\t<tr><th scope=row>4</th><td>New York  </td></tr>\n",
       "\t<tr><th scope=row>5</th><td>Florida   </td></tr>\n",
       "\t<tr><th scope=row>6</th><td>New York  </td></tr>\n",
       "</tbody>\n",
       "</table>\n"
      ],
      "text/latex": [
       "A data.frame: 6 × 1\n",
       "\\begin{tabular}{r|l}\n",
       "  & State\\\\\n",
       "  & <fct>\\\\\n",
       "\\hline\n",
       "\t1 & New York  \\\\\n",
       "\t2 & California\\\\\n",
       "\t3 & Florida   \\\\\n",
       "\t4 & New York  \\\\\n",
       "\t5 & Florida   \\\\\n",
       "\t6 & New York  \\\\\n",
       "\\end{tabular}\n"
      ],
      "text/markdown": [
       "\n",
       "A data.frame: 6 × 1\n",
       "\n",
       "| <!--/--> | State &lt;fct&gt; |\n",
       "|---|---|\n",
       "| 1 | New York   |\n",
       "| 2 | California |\n",
       "| 3 | Florida    |\n",
       "| 4 | New York   |\n",
       "| 5 | Florida    |\n",
       "| 6 | New York   |\n",
       "\n"
      ],
      "text/plain": [
       "  State     \n",
       "1 New York  \n",
       "2 California\n",
       "3 Florida   \n",
       "4 New York  \n",
       "5 Florida   \n",
       "6 New York  "
      ]
     },
     "metadata": {},
     "output_type": "display_data"
    }
   ],
   "source": [
    "head(df[4]) # head of our dataframe includes repetetive states "
   ]
  },
  {
   "cell_type": "code",
   "execution_count": 34,
   "metadata": {},
   "outputs": [],
   "source": [
    "state_factor  <- as.factor(df$State) # state factorial data"
   ]
  },
  {
   "cell_type": "code",
   "execution_count": 35,
   "metadata": {
    "scrolled": true
   },
   "outputs": [
    {
     "name": "stdout",
     "output_type": "stream",
     "text": [
      "[1] New York   California Florida    New York   Florida    New York  \n",
      "Levels: California Florida New York\n"
     ]
    }
   ],
   "source": [
    "print(head(state_factor)) # we can find the levels below"
   ]
  },
  {
   "cell_type": "code",
   "execution_count": 36,
   "metadata": {},
   "outputs": [
    {
     "name": "stderr",
     "output_type": "stream",
     "text": [
      "Warning message:\n",
      "\"package 'ggplot2' was built under R version 3.6.3\"\n"
     ]
    }
   ],
   "source": [
    "library(ggplot2)"
   ]
  },
  {
   "cell_type": "code",
   "execution_count": 37,
   "metadata": {},
   "outputs": [
    {
     "data": {
      "image/png": "[encoded data removed]",
      "text/plain": [
       "plot without title"
      ]
     },
     "metadata": {
      "image/png": {
       "height": 420,
       "width": 420
      }
     },
     "output_type": "display_data"
    }
   ],
   "source": [
    "barplot(prop.table(table(state_factor))) # details of state catagorical data visualization "
   ]
  },
  {
   "cell_type": "markdown",
   "metadata": {},
   "source": [
    "# Train Test Splited data set"
   ]
  },
  {
   "cell_type": "code",
   "execution_count": 41,
   "metadata": {},
   "outputs": [
    {
     "name": "stderr",
     "output_type": "stream",
     "text": [
      "The following objects are masked from df (pos = 4):\n",
      "\n",
      "    Administration, Marketing.Spend, Profit, R.D.Spend, State\n",
      "\n",
      "\n"
     ]
    }
   ],
   "source": [
    "attach(df)"
   ]
  },
  {
   "cell_type": "code",
   "execution_count": 42,
   "metadata": {},
   "outputs": [
    {
     "name": "stderr",
     "output_type": "stream",
     "text": [
      "Warning message:\n",
      "\"package 'caTools' was built under R version 3.6.3\"\n"
     ]
    }
   ],
   "source": [
    "library(caTools)"
   ]
  },
  {
   "cell_type": "code",
   "execution_count": 43,
   "metadata": {},
   "outputs": [],
   "source": [
    "set.seed(012)\n",
    "split = sample.split(df$Profit,SplitRatio = 0.8)"
   ]
  },
  {
   "cell_type": "code",
   "execution_count": 44,
   "metadata": {},
   "outputs": [],
   "source": [
    "\n",
    "x_train = subset(df,split == TRUE)"
   ]
  },
  {
   "cell_type": "code",
   "execution_count": 45,
   "metadata": {},
   "outputs": [],
   "source": [
    "x_test = subset(df,split == FALSE)"
   ]
  },
  {
   "cell_type": "code",
   "execution_count": 46,
   "metadata": {},
   "outputs": [
    {
     "data": {
      "text/html": [
       "<table>\n",
       "<caption>A data.frame: 6 × 5</caption>\n",
       "<thead>\n",
       "\t<tr><th></th><th scope=col>R.D.Spend</th><th scope=col>Administration</th><th scope=col>Marketing.Spend</th><th scope=col>State</th><th scope=col>Profit</th></tr>\n",
       "\t<tr><th></th><th scope=col>&lt;dbl&gt;</th><th scope=col>&lt;dbl&gt;</th><th scope=col>&lt;dbl&gt;</th><th scope=col>&lt;fct&gt;</th><th scope=col>&lt;dbl&gt;</th></tr>\n",
       "</thead>\n",
       "<tbody>\n",
       "\t<tr><th scope=row>2</th><td>162597.70</td><td>151377.59</td><td>443898.53</td><td>California</td><td>191792.06</td></tr>\n",
       "\t<tr><th scope=row>3</th><td>153441.51</td><td>101145.55</td><td>407934.54</td><td>Florida   </td><td>191050.39</td></tr>\n",
       "\t<tr><th scope=row>12</th><td>100671.96</td><td> 91790.61</td><td>249744.55</td><td>California</td><td>144259.40</td></tr>\n",
       "\t<tr><th scope=row>32</th><td> 61136.38</td><td>152701.92</td><td> 88218.23</td><td>New York  </td><td> 97483.56</td></tr>\n",
       "\t<tr><th scope=row>33</th><td> 63408.86</td><td>129219.61</td><td> 46085.25</td><td>California</td><td> 97427.84</td></tr>\n",
       "\t<tr><th scope=row>34</th><td> 55493.95</td><td>103057.49</td><td>214634.81</td><td>Florida   </td><td> 96778.92</td></tr>\n",
       "</tbody>\n",
       "</table>\n"
      ],
      "text/latex": [
       "A data.frame: 6 × 5\n",
       "\\begin{tabular}{r|lllll}\n",
       "  & R.D.Spend & Administration & Marketing.Spend & State & Profit\\\\\n",
       "  & <dbl> & <dbl> & <dbl> & <fct> & <dbl>\\\\\n",
       "\\hline\n",
       "\t2 & 162597.70 & 151377.59 & 443898.53 & California & 191792.06\\\\\n",
       "\t3 & 153441.51 & 101145.55 & 407934.54 & Florida    & 191050.39\\\\\n",
       "\t12 & 100671.96 &  91790.61 & 249744.55 & California & 144259.40\\\\\n",
       "\t32 &  61136.38 & 152701.92 &  88218.23 & New York   &  97483.56\\\\\n",
       "\t33 &  63408.86 & 129219.61 &  46085.25 & California &  97427.84\\\\\n",
       "\t34 &  55493.95 & 103057.49 & 214634.81 & Florida    &  96778.92\\\\\n",
       "\\end{tabular}\n"
      ],
      "text/markdown": [
       "\n",
       "A data.frame: 6 × 5\n",
       "\n",
       "| <!--/--> | R.D.Spend &lt;dbl&gt; | Administration &lt;dbl&gt; | Marketing.Spend &lt;dbl&gt; | State &lt;fct&gt; | Profit &lt;dbl&gt; |\n",
       "|---|---|---|---|---|---|\n",
       "| 2 | 162597.70 | 151377.59 | 443898.53 | California | 191792.06 |\n",
       "| 3 | 153441.51 | 101145.55 | 407934.54 | Florida    | 191050.39 |\n",
       "| 12 | 100671.96 |  91790.61 | 249744.55 | California | 144259.40 |\n",
       "| 32 |  61136.38 | 152701.92 |  88218.23 | New York   |  97483.56 |\n",
       "| 33 |  63408.86 | 129219.61 |  46085.25 | California |  97427.84 |\n",
       "| 34 |  55493.95 | 103057.49 | 214634.81 | Florida    |  96778.92 |\n",
       "\n"
      ],
      "text/plain": [
       "   R.D.Spend Administration Marketing.Spend State      Profit   \n",
       "2  162597.70 151377.59      443898.53       California 191792.06\n",
       "3  153441.51 101145.55      407934.54       Florida    191050.39\n",
       "12 100671.96  91790.61      249744.55       California 144259.40\n",
       "32  61136.38 152701.92       88218.23       New York    97483.56\n",
       "33  63408.86 129219.61       46085.25       California  97427.84\n",
       "34  55493.95 103057.49      214634.81       Florida     96778.92"
      ]
     },
     "metadata": {},
     "output_type": "display_data"
    }
   ],
   "source": [
    "head(x_test)"
   ]
  },
  {
   "cell_type": "code",
   "execution_count": 55,
   "metadata": {},
   "outputs": [],
   "source": [
    "lm = lm(Profit~R.D.Spend+Administration+Marketing.Spend+State,data=x_train) # including state"
   ]
  },
  {
   "cell_type": "code",
   "execution_count": 58,
   "metadata": {},
   "outputs": [
    {
     "name": "stdout",
     "output_type": "stream",
     "text": [
      "\n",
      "Call:\n",
      "lm(formula = Profit ~ R.D.Spend + Administration + Marketing.Spend + \n",
      "    State, data = x_train)\n",
      "\n",
      "Residuals:\n",
      "   Min     1Q Median     3Q    Max \n",
      "-33339  -4335   -405   6677  16119 \n",
      "\n",
      "Coefficients:\n",
      "                 Estimate Std. Error t value Pr(>|t|)    \n",
      "(Intercept)     4.614e+04  9.213e+03   5.008 1.68e-05 ***\n",
      "R.D.Spend       7.895e-01  5.432e-02  14.535 3.75e-16 ***\n",
      "Administration  6.146e-03  6.848e-02   0.090    0.929    \n",
      "Marketing.Spend 2.580e-02  1.995e-02   1.294    0.205    \n",
      "StateFlorida    1.079e+03  4.256e+03   0.253    0.801    \n",
      "StateNew York   1.069e+03  4.185e+03   0.255    0.800    \n",
      "---\n",
      "Signif. codes:  0 '***' 0.001 '**' 0.01 '*' 0.05 '.' 0.1 ' ' 1\n",
      "\n",
      "Residual standard error: 10370 on 34 degrees of freedom\n",
      "Multiple R-squared:  0.9398,\tAdjusted R-squared:  0.9309 \n",
      "F-statistic: 106.2 on 5 and 34 DF,  p-value: < 2.2e-16\n",
      "\n"
     ]
    }
   ],
   "source": [
    "print(summary(lm)) # likely our adjusted R^2 is showing good results "
   ]
  },
  {
   "cell_type": "code",
   "execution_count": 59,
   "metadata": {},
   "outputs": [],
   "source": [
    "profit.predict  <- predict(lm,x_test)"
   ]
  },
  {
   "cell_type": "code",
   "execution_count": 60,
   "metadata": {},
   "outputs": [
    {
     "name": "stdout",
     "output_type": "stream",
     "text": [
      "   Predicted    Actual\n",
      "2  186895.81 191792.06\n",
      "3  179508.92 191050.39\n",
      "12 132627.78 144259.40\n",
      "32  98688.54  97483.56\n",
      "33  98182.57  97427.84\n",
      "34  97200.77  96778.92\n",
      "36  89359.93  96479.51\n",
      "38  86329.83  89949.14\n",
      "43  69211.52  71498.49\n",
      "45  65328.78  65200.33\n"
     ]
    }
   ],
   "source": [
    "result  <- cbind(profit.predict,x_test$Profit)\n",
    "colnames(result) <- c('Predicted','Actual')\n",
    "result  <-  as.data.frame(result)\n",
    "print(result)"
   ]
  },
  {
   "cell_type": "code",
   "execution_count": 66,
   "metadata": {},
   "outputs": [
    {
     "name": "stderr",
     "output_type": "stream",
     "text": [
      "Warning message:\n",
      "\"package 'car' was built under R version 3.6.3\"\n",
      "Loading required package: carData\n",
      "\n",
      "Warning message:\n",
      "\"package 'carData' was built under R version 3.6.3\"\n",
      "\n",
      "Attaching package: 'car'\n",
      "\n",
      "\n",
      "The following object is masked from 'package:dplyr':\n",
      "\n",
      "    recode\n",
      "\n",
      "\n"
     ]
    }
   ],
   "source": [
    "library(car)"
   ]
  },
  {
   "cell_type": "code",
   "execution_count": 62,
   "metadata": {},
   "outputs": [
    {
     "data": {
      "image/png": "[encoded data removed]",
      "text/plain": [
       "Plot with title \"\""
      ]
     },
     "metadata": {
      "image/png": {
       "height": 420,
       "width": 420
      }
     },
     "output_type": "display_data"
    }
   ],
   "source": [
    "par(mfcol = c(2,2))\n",
    "plot(lm)"
   ]
  },
  {
   "cell_type": "code",
   "execution_count": 67,
   "metadata": {},
   "outputs": [
    {
     "data": {
      "text/html": [
       "<style>\n",
       ".dl-inline {width: auto; margin:0; padding: 0}\n",
       ".dl-inline>dt, .dl-inline>dd {float: none; width: auto; display: inline-block}\n",
       ".dl-inline>dt::after {content: \":\\0020\"; padding-right: .5ex}\n",
       ".dl-inline>dt:not(:first-of-type) {padding-left: .5ex}\n",
       "</style><dl class=dl-inline><dt>46</dt><dd>36</dd><dt>50</dt><dd>40</dd></dl>\n"
      ],
      "text/latex": [
       "\\begin{description*}\n",
       "\\item[46] 36\n",
       "\\item[50] 40\n",
       "\\end{description*}\n"
      ],
      "text/markdown": [
       "46\n",
       ":   3650\n",
       ":   40\n",
       "\n"
      ],
      "text/plain": [
       "46 50 \n",
       "36 40 "
      ]
     },
     "metadata": {},
     "output_type": "display_data"
    },
    {
     "data": {
      "image/png": "[encoded data removed]",
      "text/plain": [
       "plot without title"
      ]
     },
     "metadata": {
      "image/png": {
       "height": 420,
       "width": 420
      }
     },
     "output_type": "display_data"
    }
   ],
   "source": [
    "qqPlot(lm,identify.n=6) # at this point 50 is the outlier "
   ]
  },
  {
   "cell_type": "code",
   "execution_count": 70,
   "metadata": {},
   "outputs": [
    {
     "data": {
      "image/png": "[encoded data removed]",
      "text/plain": [
       "plot without title"
      ]
     },
     "metadata": {
      "image/png": {
       "height": 420,
       "width": 420
      }
     },
     "output_type": "display_data"
    }
   ],
   "source": [
    "influenceIndexPlot(lm)"
   ]
  },
  {
   "cell_type": "code",
   "execution_count": 71,
   "metadata": {},
   "outputs": [
    {
     "data": {
      "text/html": [
       "<table>\n",
       "<caption>A data.frame: 4 × 3</caption>\n",
       "<thead>\n",
       "\t<tr><th></th><th scope=col>StudRes</th><th scope=col>Hat</th><th scope=col>CookD</th></tr>\n",
       "\t<tr><th></th><th scope=col>&lt;dbl&gt;</th><th scope=col>&lt;dbl&gt;</th><th scope=col>&lt;dbl&gt;</th></tr>\n",
       "</thead>\n",
       "<tbody>\n",
       "\t<tr><th scope=row>15</th><td>-1.7974596</td><td>0.1247483</td><td>0.07202261</td></tr>\n",
       "\t<tr><th scope=row>47</th><td>-0.8129249</td><td>0.2894302</td><td>0.04531485</td></tr>\n",
       "\t<tr><th scope=row>49</th><td>-1.4778493</td><td>0.3357658</td><td>0.17781053</td></tr>\n",
       "\t<tr><th scope=row>50</th><td>-4.2560535</td><td>0.1420517</td><td>0.33249660</td></tr>\n",
       "</tbody>\n",
       "</table>\n"
      ],
      "text/latex": [
       "A data.frame: 4 × 3\n",
       "\\begin{tabular}{r|lll}\n",
       "  & StudRes & Hat & CookD\\\\\n",
       "  & <dbl> & <dbl> & <dbl>\\\\\n",
       "\\hline\n",
       "\t15 & -1.7974596 & 0.1247483 & 0.07202261\\\\\n",
       "\t47 & -0.8129249 & 0.2894302 & 0.04531485\\\\\n",
       "\t49 & -1.4778493 & 0.3357658 & 0.17781053\\\\\n",
       "\t50 & -4.2560535 & 0.1420517 & 0.33249660\\\\\n",
       "\\end{tabular}\n"
      ],
      "text/markdown": [
       "\n",
       "A data.frame: 4 × 3\n",
       "\n",
       "| <!--/--> | StudRes &lt;dbl&gt; | Hat &lt;dbl&gt; | CookD &lt;dbl&gt; |\n",
       "|---|---|---|---|\n",
       "| 15 | -1.7974596 | 0.1247483 | 0.07202261 |\n",
       "| 47 | -0.8129249 | 0.2894302 | 0.04531485 |\n",
       "| 49 | -1.4778493 | 0.3357658 | 0.17781053 |\n",
       "| 50 | -4.2560535 | 0.1420517 | 0.33249660 |\n",
       "\n"
      ],
      "text/plain": [
       "   StudRes    Hat       CookD     \n",
       "15 -1.7974596 0.1247483 0.07202261\n",
       "47 -0.8129249 0.2894302 0.04531485\n",
       "49 -1.4778493 0.3357658 0.17781053\n",
       "50 -4.2560535 0.1420517 0.33249660"
      ]
     },
     "metadata": {},
     "output_type": "display_data"
    },
    {
     "data": {
      "image/png": "[encoded data removed]",
      "text/plain": [
       "plot without title"
      ]
     },
     "metadata": {
      "image/png": {
       "height": 420,
       "width": 420
      }
     },
     "output_type": "display_data"
    }
   ],
   "source": [
    "influencePlot(lm)"
   ]
  },
  {
   "cell_type": "markdown",
   "metadata": {},
   "source": [
    "likely as we can see 50 is the largest influencive value that has to be removed from our model"
   ]
  },
  {
   "cell_type": "code",
   "execution_count": 76,
   "metadata": {},
   "outputs": [],
   "source": [
    "lm1 = lm(Profit~R.D.Spend+Administration+Marketing.Spend+State,data=df[-50,]) # including state"
   ]
  },
  {
   "cell_type": "code",
   "execution_count": 77,
   "metadata": {},
   "outputs": [
    {
     "name": "stdout",
     "output_type": "stream",
     "text": [
      "\n",
      "Call:\n",
      "lm(formula = Profit ~ R.D.Spend + Administration + Marketing.Spend + \n",
      "    State, data = df[-50, ])\n",
      "\n",
      "Residuals:\n",
      "   Min     1Q Median     3Q    Max \n",
      "-16374  -4572  -1225   5304  15402 \n",
      "\n",
      "Coefficients:\n",
      "                  Estimate Std. Error t value Pr(>|t|)    \n",
      "(Intercept)      5.338e+04  5.794e+03   9.212 9.79e-12 ***\n",
      "R.D.Spend        7.836e-01  3.907e-02  20.056  < 2e-16 ***\n",
      "Administration  -2.202e-02  4.363e-02  -0.505   0.6163    \n",
      "Marketing.Spend  2.582e-02  1.432e-02   1.804   0.0783 .  \n",
      "StateFlorida    -1.564e+03  2.842e+03  -0.550   0.5849    \n",
      "StateNew York   -1.954e+03  2.752e+03  -0.710   0.4815    \n",
      "---\n",
      "Signif. codes:  0 '***' 0.001 '**' 0.01 '*' 0.05 '.' 0.1 ' ' 1\n",
      "\n",
      "Residual standard error: 7881 on 43 degrees of freedom\n",
      "Multiple R-squared:  0.9618,\tAdjusted R-squared:  0.9574 \n",
      "F-statistic: 216.6 on 5 and 43 DF,  p-value: < 2.2e-16\n",
      "\n"
     ]
    }
   ],
   "source": [
    "print(summary(lm1)) # after removing the index 50th item our model become 95% better "
   ]
  },
  {
   "cell_type": "code",
   "execution_count": 78,
   "metadata": {},
   "outputs": [
    {
     "data": {
      "text/html": [
       "<table>\n",
       "<caption>A data.frame: 4 × 3</caption>\n",
       "<thead>\n",
       "\t<tr><th></th><th scope=col>StudRes</th><th scope=col>Hat</th><th scope=col>CookD</th></tr>\n",
       "\t<tr><th></th><th scope=col>&lt;dbl&gt;</th><th scope=col>&lt;dbl&gt;</th><th scope=col>&lt;dbl&gt;</th></tr>\n",
       "</thead>\n",
       "<tbody>\n",
       "\t<tr><th scope=row>15</th><td>-2.304678</td><td>0.1058707</td><td>0.09526777</td></tr>\n",
       "\t<tr><th scope=row>46</th><td> 2.186189</td><td>0.1307280</td><td>0.11011606</td></tr>\n",
       "\t<tr><th scope=row>47</th><td>-1.265545</td><td>0.2677173</td><td>0.09624265</td></tr>\n",
       "\t<tr><th scope=row>49</th><td>-2.325499</td><td>0.2579038</td><td>0.28411621</td></tr>\n",
       "</tbody>\n",
       "</table>\n"
      ],
      "text/latex": [
       "A data.frame: 4 × 3\n",
       "\\begin{tabular}{r|lll}\n",
       "  & StudRes & Hat & CookD\\\\\n",
       "  & <dbl> & <dbl> & <dbl>\\\\\n",
       "\\hline\n",
       "\t15 & -2.304678 & 0.1058707 & 0.09526777\\\\\n",
       "\t46 &  2.186189 & 0.1307280 & 0.11011606\\\\\n",
       "\t47 & -1.265545 & 0.2677173 & 0.09624265\\\\\n",
       "\t49 & -2.325499 & 0.2579038 & 0.28411621\\\\\n",
       "\\end{tabular}\n"
      ],
      "text/markdown": [
       "\n",
       "A data.frame: 4 × 3\n",
       "\n",
       "| <!--/--> | StudRes &lt;dbl&gt; | Hat &lt;dbl&gt; | CookD &lt;dbl&gt; |\n",
       "|---|---|---|---|\n",
       "| 15 | -2.304678 | 0.1058707 | 0.09526777 |\n",
       "| 46 |  2.186189 | 0.1307280 | 0.11011606 |\n",
       "| 47 | -1.265545 | 0.2677173 | 0.09624265 |\n",
       "| 49 | -2.325499 | 0.2579038 | 0.28411621 |\n",
       "\n"
      ],
      "text/plain": [
       "   StudRes   Hat       CookD     \n",
       "15 -2.304678 0.1058707 0.09526777\n",
       "46  2.186189 0.1307280 0.11011606\n",
       "47 -1.265545 0.2677173 0.09624265\n",
       "49 -2.325499 0.2579038 0.28411621"
      ]
     },
     "metadata": {},
     "output_type": "display_data"
    },
    {
     "data": {
      "image/png": "[encoded data removed]",
      "text/plain": [
       "plot without title"
      ]
     },
     "metadata": {
      "image/png": {
       "height": 420,
       "width": 420
      }
     },
     "output_type": "display_data"
    }
   ],
   "source": [
    "influencePlot(lm1)"
   ]
  },
  {
   "cell_type": "markdown",
   "metadata": {},
   "source": [
    "### We can further proceed with train test and lots of model building and remodelling our data as we want until finding a better model"
   ]
  },
  {
   "cell_type": "code",
   "execution_count": null,
   "metadata": {},
   "outputs": [],
   "source": []
  }
 ],
 "metadata": {
  "kernelspec": {
   "display_name": "R",
   "language": "R",
   "name": "ir"
  },
  "language_info": {
   "codemirror_mode": "r",
   "file_extension": ".r",
   "mimetype": "text/x-r-source",
   "name": "R",
   "pygments_lexer": "r",
   "version": "3.6.2"
  }
 },
 "nbformat": 4,
 "nbformat_minor": 4
}
