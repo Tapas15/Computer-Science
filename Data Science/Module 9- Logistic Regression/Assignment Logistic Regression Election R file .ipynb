{
 "cells": [
  {
   "cell_type": "markdown",
   "metadata": {},
   "source": [
    "# Assignment Logistic Regression Module 9 \"Election.csv\""
   ]
  },
  {
   "cell_type": "markdown",
   "metadata": {},
   "source": [
    "### Description of the data "
   ]
  },
  {
   "cell_type": "markdown",
   "metadata": {},
   "source": [
    "Suppose we are interested in the factors that influence whether a political candidate wins an election.The outcome (response) variable is binary (0/1); win or lose. \n",
    "The predictor variables of interest are the amount of money spent on the campaign, \n",
    "the amount of time spent campaigning negatively and whether or not the candidate is an incumbent."
   ]
  },
  {
   "cell_type": "code",
   "execution_count": 1,
   "metadata": {},
   "outputs": [],
   "source": [
    "df <- read.csv(\"election_data.csv\")"
   ]
  },
  {
   "cell_type": "code",
   "execution_count": 2,
   "metadata": {},
   "outputs": [
    {
     "data": {
      "text/html": [
       "<style>\n",
       ".list-inline {list-style: none; margin:0; padding: 0}\n",
       ".list-inline>li {display: inline-block}\n",
       ".list-inline>li:not(:last-child)::after {content: \"\\00b7\"; padding: 0 .5ex}\n",
       "</style>\n",
       "<ol class=list-inline><li>11</li><li>5</li></ol>\n"
      ],
      "text/latex": [
       "\\begin{enumerate*}\n",
       "\\item 11\n",
       "\\item 5\n",
       "\\end{enumerate*}\n"
      ],
      "text/markdown": [
       "1. 11\n",
       "2. 5\n",
       "\n",
       "\n"
      ],
      "text/plain": [
       "[1] 11  5"
      ]
     },
     "metadata": {},
     "output_type": "display_data"
    }
   ],
   "source": [
    "dim(df)"
   ]
  },
  {
   "cell_type": "code",
   "execution_count": 3,
   "metadata": {},
   "outputs": [
    {
     "data": {
      "text/html": [
       "<table>\n",
       "<caption>A data.frame: 11 × 5</caption>\n",
       "<thead>\n",
       "\t<tr><th scope=col>Election.id</th><th scope=col>Result</th><th scope=col>Year</th><th scope=col>Amount.Spent</th><th scope=col>Popularity.Rank</th></tr>\n",
       "\t<tr><th scope=col>&lt;int&gt;</th><th scope=col>&lt;int&gt;</th><th scope=col>&lt;int&gt;</th><th scope=col>&lt;dbl&gt;</th><th scope=col>&lt;int&gt;</th></tr>\n",
       "</thead>\n",
       "<tbody>\n",
       "\t<tr><td> NA</td><td>NA</td><td>NA</td><td>  NA</td><td>NA</td></tr>\n",
       "\t<tr><td>122</td><td> 0</td><td>32</td><td>3.81</td><td> 3</td></tr>\n",
       "\t<tr><td>315</td><td> 1</td><td>48</td><td>6.32</td><td> 2</td></tr>\n",
       "\t<tr><td>201</td><td> 1</td><td>51</td><td>3.67</td><td> 1</td></tr>\n",
       "\t<tr><td>965</td><td> 0</td><td>40</td><td>2.93</td><td> 4</td></tr>\n",
       "\t<tr><td>410</td><td> 1</td><td>52</td><td>3.60</td><td> 1</td></tr>\n",
       "\t<tr><td>150</td><td> 0</td><td>35</td><td>4.20</td><td> 4</td></tr>\n",
       "\t<tr><td>743</td><td> 1</td><td>39</td><td>5.66</td><td> 2</td></tr>\n",
       "\t<tr><td>612</td><td> 1</td><td>42</td><td>4.32</td><td> 3</td></tr>\n",
       "\t<tr><td>206</td><td> 1</td><td>44</td><td>3.26</td><td> 3</td></tr>\n",
       "\t<tr><td>792</td><td> 0</td><td>50</td><td>4.52</td><td> 4</td></tr>\n",
       "</tbody>\n",
       "</table>\n"
      ],
      "text/latex": [
       "A data.frame: 11 × 5\n",
       "\\begin{tabular}{lllll}\n",
       " Election.id & Result & Year & Amount.Spent & Popularity.Rank\\\\\n",
       " <int> & <int> & <int> & <dbl> & <int>\\\\\n",
       "\\hline\n",
       "\t  NA & NA & NA &   NA & NA\\\\\n",
       "\t 122 &  0 & 32 & 3.81 &  3\\\\\n",
       "\t 315 &  1 & 48 & 6.32 &  2\\\\\n",
       "\t 201 &  1 & 51 & 3.67 &  1\\\\\n",
       "\t 965 &  0 & 40 & 2.93 &  4\\\\\n",
       "\t 410 &  1 & 52 & 3.60 &  1\\\\\n",
       "\t 150 &  0 & 35 & 4.20 &  4\\\\\n",
       "\t 743 &  1 & 39 & 5.66 &  2\\\\\n",
       "\t 612 &  1 & 42 & 4.32 &  3\\\\\n",
       "\t 206 &  1 & 44 & 3.26 &  3\\\\\n",
       "\t 792 &  0 & 50 & 4.52 &  4\\\\\n",
       "\\end{tabular}\n"
      ],
      "text/markdown": [
       "\n",
       "A data.frame: 11 × 5\n",
       "\n",
       "| Election.id &lt;int&gt; | Result &lt;int&gt; | Year &lt;int&gt; | Amount.Spent &lt;dbl&gt; | Popularity.Rank &lt;int&gt; |\n",
       "|---|---|---|---|---|\n",
       "|  NA | NA | NA |   NA | NA |\n",
       "| 122 |  0 | 32 | 3.81 |  3 |\n",
       "| 315 |  1 | 48 | 6.32 |  2 |\n",
       "| 201 |  1 | 51 | 3.67 |  1 |\n",
       "| 965 |  0 | 40 | 2.93 |  4 |\n",
       "| 410 |  1 | 52 | 3.60 |  1 |\n",
       "| 150 |  0 | 35 | 4.20 |  4 |\n",
       "| 743 |  1 | 39 | 5.66 |  2 |\n",
       "| 612 |  1 | 42 | 4.32 |  3 |\n",
       "| 206 |  1 | 44 | 3.26 |  3 |\n",
       "| 792 |  0 | 50 | 4.52 |  4 |\n",
       "\n"
      ],
      "text/plain": [
       "   Election.id Result Year Amount.Spent Popularity.Rank\n",
       "1   NA         NA     NA     NA         NA             \n",
       "2  122          0     32   3.81          3             \n",
       "3  315          1     48   6.32          2             \n",
       "4  201          1     51   3.67          1             \n",
       "5  965          0     40   2.93          4             \n",
       "6  410          1     52   3.60          1             \n",
       "7  150          0     35   4.20          4             \n",
       "8  743          1     39   5.66          2             \n",
       "9  612          1     42   4.32          3             \n",
       "10 206          1     44   3.26          3             \n",
       "11 792          0     50   4.52          4             "
      ]
     },
     "metadata": {},
     "output_type": "display_data"
    }
   ],
   "source": [
    "df"
   ]
  },
  {
   "cell_type": "code",
   "execution_count": 4,
   "metadata": {},
   "outputs": [
    {
     "name": "stderr",
     "output_type": "stream",
     "text": [
      "Warning message:\n",
      "\"package 'dplyr' was built under R version 3.6.3\"\n",
      "\n",
      "Attaching package: 'dplyr'\n",
      "\n",
      "\n",
      "The following objects are masked from 'package:stats':\n",
      "\n",
      "    filter, lag\n",
      "\n",
      "\n",
      "The following objects are masked from 'package:base':\n",
      "\n",
      "    intersect, setdiff, setequal, union\n",
      "\n",
      "\n"
     ]
    }
   ],
   "source": [
    "library(dplyr)"
   ]
  },
  {
   "cell_type": "code",
   "execution_count": 5,
   "metadata": {},
   "outputs": [
    {
     "name": "stdout",
     "output_type": "stream",
     "text": [
      "Rows: 11\n",
      "Columns: 5\n",
      "$ Election.id     \u001b[3m\u001b[90m<int>\u001b[39m\u001b[23m NA, 122, 315, 201, 965, 410, 150, 743, 612, 206, 792\n",
      "$ Result          \u001b[3m\u001b[90m<int>\u001b[39m\u001b[23m NA, 0, 1, 1, 0, 1, 0, 1, 1, 1, 0\n",
      "$ Year            \u001b[3m\u001b[90m<int>\u001b[39m\u001b[23m NA, 32, 48, 51, 40, 52, 35, 39, 42, 44, 50\n",
      "$ Amount.Spent    \u001b[3m\u001b[90m<dbl>\u001b[39m\u001b[23m NA, 3.81, 6.32, 3.67, 2.93, 3.60, 4.20, 5.66, 4.32,...\n",
      "$ Popularity.Rank \u001b[3m\u001b[90m<int>\u001b[39m\u001b[23m NA, 3, 2, 1, 4, 1, 4, 2, 3, 3, 4\n"
     ]
    }
   ],
   "source": [
    "glimpse(df) # first row is na"
   ]
  },
  {
   "cell_type": "code",
   "execution_count": 9,
   "metadata": {},
   "outputs": [
    {
     "data": {
      "text/html": [
       "0"
      ],
      "text/latex": [
       "0"
      ],
      "text/markdown": [
       "0"
      ],
      "text/plain": [
       "[1] 0"
      ]
     },
     "metadata": {},
     "output_type": "display_data"
    }
   ],
   "source": [
    "sum(is.na(df)) # there is 5 missing NA value lets remove it "
   ]
  },
  {
   "cell_type": "code",
   "execution_count": 8,
   "metadata": {},
   "outputs": [],
   "source": [
    "df  <- na.omit(df) # na ommitted "
   ]
  },
  {
   "cell_type": "code",
   "execution_count": 10,
   "metadata": {},
   "outputs": [
    {
     "data": {
      "text/html": [
       "<style>\n",
       ".list-inline {list-style: none; margin:0; padding: 0}\n",
       ".list-inline>li {display: inline-block}\n",
       ".list-inline>li:not(:last-child)::after {content: \"\\00b7\"; padding: 0 .5ex}\n",
       "</style>\n",
       "<ol class=list-inline><li>10</li><li>5</li></ol>\n"
      ],
      "text/latex": [
       "\\begin{enumerate*}\n",
       "\\item 10\n",
       "\\item 5\n",
       "\\end{enumerate*}\n"
      ],
      "text/markdown": [
       "1. 10\n",
       "2. 5\n",
       "\n",
       "\n"
      ],
      "text/plain": [
       "[1] 10  5"
      ]
     },
     "metadata": {},
     "output_type": "display_data"
    }
   ],
   "source": [
    "dim(df)# its ommited row of NA value"
   ]
  },
  {
   "cell_type": "code",
   "execution_count": 11,
   "metadata": {},
   "outputs": [
    {
     "data": {
      "text/html": [
       "<table>\n",
       "<caption>A data.frame: 10 × 5</caption>\n",
       "<thead>\n",
       "\t<tr><th></th><th scope=col>Election.id</th><th scope=col>Result</th><th scope=col>Year</th><th scope=col>Amount.Spent</th><th scope=col>Popularity.Rank</th></tr>\n",
       "\t<tr><th></th><th scope=col>&lt;int&gt;</th><th scope=col>&lt;int&gt;</th><th scope=col>&lt;int&gt;</th><th scope=col>&lt;dbl&gt;</th><th scope=col>&lt;int&gt;</th></tr>\n",
       "</thead>\n",
       "<tbody>\n",
       "\t<tr><th scope=row>2</th><td>122</td><td>0</td><td>32</td><td>3.81</td><td>3</td></tr>\n",
       "\t<tr><th scope=row>3</th><td>315</td><td>1</td><td>48</td><td>6.32</td><td>2</td></tr>\n",
       "\t<tr><th scope=row>4</th><td>201</td><td>1</td><td>51</td><td>3.67</td><td>1</td></tr>\n",
       "\t<tr><th scope=row>5</th><td>965</td><td>0</td><td>40</td><td>2.93</td><td>4</td></tr>\n",
       "\t<tr><th scope=row>6</th><td>410</td><td>1</td><td>52</td><td>3.60</td><td>1</td></tr>\n",
       "\t<tr><th scope=row>7</th><td>150</td><td>0</td><td>35</td><td>4.20</td><td>4</td></tr>\n",
       "\t<tr><th scope=row>8</th><td>743</td><td>1</td><td>39</td><td>5.66</td><td>2</td></tr>\n",
       "\t<tr><th scope=row>9</th><td>612</td><td>1</td><td>42</td><td>4.32</td><td>3</td></tr>\n",
       "\t<tr><th scope=row>10</th><td>206</td><td>1</td><td>44</td><td>3.26</td><td>3</td></tr>\n",
       "\t<tr><th scope=row>11</th><td>792</td><td>0</td><td>50</td><td>4.52</td><td>4</td></tr>\n",
       "</tbody>\n",
       "</table>\n"
      ],
      "text/latex": [
       "A data.frame: 10 × 5\n",
       "\\begin{tabular}{r|lllll}\n",
       "  & Election.id & Result & Year & Amount.Spent & Popularity.Rank\\\\\n",
       "  & <int> & <int> & <int> & <dbl> & <int>\\\\\n",
       "\\hline\n",
       "\t2 & 122 & 0 & 32 & 3.81 & 3\\\\\n",
       "\t3 & 315 & 1 & 48 & 6.32 & 2\\\\\n",
       "\t4 & 201 & 1 & 51 & 3.67 & 1\\\\\n",
       "\t5 & 965 & 0 & 40 & 2.93 & 4\\\\\n",
       "\t6 & 410 & 1 & 52 & 3.60 & 1\\\\\n",
       "\t7 & 150 & 0 & 35 & 4.20 & 4\\\\\n",
       "\t8 & 743 & 1 & 39 & 5.66 & 2\\\\\n",
       "\t9 & 612 & 1 & 42 & 4.32 & 3\\\\\n",
       "\t10 & 206 & 1 & 44 & 3.26 & 3\\\\\n",
       "\t11 & 792 & 0 & 50 & 4.52 & 4\\\\\n",
       "\\end{tabular}\n"
      ],
      "text/markdown": [
       "\n",
       "A data.frame: 10 × 5\n",
       "\n",
       "| <!--/--> | Election.id &lt;int&gt; | Result &lt;int&gt; | Year &lt;int&gt; | Amount.Spent &lt;dbl&gt; | Popularity.Rank &lt;int&gt; |\n",
       "|---|---|---|---|---|---|\n",
       "| 2 | 122 | 0 | 32 | 3.81 | 3 |\n",
       "| 3 | 315 | 1 | 48 | 6.32 | 2 |\n",
       "| 4 | 201 | 1 | 51 | 3.67 | 1 |\n",
       "| 5 | 965 | 0 | 40 | 2.93 | 4 |\n",
       "| 6 | 410 | 1 | 52 | 3.60 | 1 |\n",
       "| 7 | 150 | 0 | 35 | 4.20 | 4 |\n",
       "| 8 | 743 | 1 | 39 | 5.66 | 2 |\n",
       "| 9 | 612 | 1 | 42 | 4.32 | 3 |\n",
       "| 10 | 206 | 1 | 44 | 3.26 | 3 |\n",
       "| 11 | 792 | 0 | 50 | 4.52 | 4 |\n",
       "\n"
      ],
      "text/plain": [
       "   Election.id Result Year Amount.Spent Popularity.Rank\n",
       "2  122         0      32   3.81         3              \n",
       "3  315         1      48   6.32         2              \n",
       "4  201         1      51   3.67         1              \n",
       "5  965         0      40   2.93         4              \n",
       "6  410         1      52   3.60         1              \n",
       "7  150         0      35   4.20         4              \n",
       "8  743         1      39   5.66         2              \n",
       "9  612         1      42   4.32         3              \n",
       "10 206         1      44   3.26         3              \n",
       "11 792         0      50   4.52         4              "
      ]
     },
     "metadata": {},
     "output_type": "display_data"
    }
   ],
   "source": [
    "df# clearly visible , our data set is small "
   ]
  },
  {
   "cell_type": "markdown",
   "metadata": {},
   "source": [
    "## Model making "
   ]
  },
  {
   "cell_type": "code",
   "execution_count": 12,
   "metadata": {},
   "outputs": [],
   "source": [
    "attach(df)"
   ]
  },
  {
   "cell_type": "code",
   "execution_count": 15,
   "metadata": {},
   "outputs": [
    {
     "name": "stderr",
     "output_type": "stream",
     "text": [
      "Warning message:\n",
      "\"glm.fit: fitted probabilities numerically 0 or 1 occurred\"\n"
     ]
    }
   ],
   "source": [
    "model  <- glm(Result~.,data=df,family = binomial)"
   ]
  },
  {
   "cell_type": "code",
   "execution_count": 16,
   "metadata": {},
   "outputs": [
    {
     "name": "stdout",
     "output_type": "stream",
     "text": [
      "\n",
      "Call:\n",
      "glm(formula = Result ~ ., family = binomial, data = df)\n",
      "\n",
      "Deviance Residuals: \n",
      "         2           3           4           5           6           7  \n",
      "-1.007e-05   2.110e-08   2.110e-08  -6.461e-06   2.110e-08  -2.110e-08  \n",
      "         8           9          10          11  \n",
      " 2.110e-08   1.445e-05   7.061e-06  -9.419e-06  \n",
      "\n",
      "Coefficients:\n",
      "                  Estimate Std. Error z value Pr(>|z|)\n",
      "(Intercept)      1.557e+02  5.375e+05   0.000        1\n",
      "Election.id      4.709e-02  2.247e+02   0.000        1\n",
      "Year             3.056e+00  1.038e+04   0.000        1\n",
      "Amount.Spent    -1.362e+01  9.118e+04   0.000        1\n",
      "Popularity.Rank -7.702e+01  1.319e+05  -0.001        1\n",
      "\n",
      "(Dispersion parameter for binomial family taken to be 1)\n",
      "\n",
      "    Null deviance: 1.3460e+01  on 9  degrees of freedom\n",
      "Residual deviance: 4.9054e-10  on 5  degrees of freedom\n",
      "AIC: 10\n",
      "\n",
      "Number of Fisher Scoring iterations: 25\n",
      "\n"
     ]
    }
   ],
   "source": [
    "print(summary(model))"
   ]
  },
  {
   "cell_type": "code",
   "execution_count": 17,
   "metadata": {},
   "outputs": [
    {
     "data": {
      "image/png": "[encoded data removed]",
      "text/plain": [
       "Plot with title \"\""
      ]
     },
     "metadata": {
      "image/png": {
       "height": 420,
       "width": 420
      }
     },
     "output_type": "display_data"
    },
    {
     "data": {
      "image/png": "[encoded data removed]",
      "text/plain": [
       "Plot with title \"\""
      ]
     },
     "metadata": {
      "image/png": {
       "height": 420,
       "width": 420
      }
     },
     "output_type": "display_data"
    },
    {
     "name": "stderr",
     "output_type": "stream",
     "text": [
      "Warning message in sqrt(crit * p * (1 - hh)/hh):\n",
      "\"NaNs produced\"\n",
      "Warning message in sqrt(crit * p * (1 - hh)/hh):\n",
      "\"NaNs produced\"\n"
     ]
    },
    {
     "data": {
      "image/png": "[encoded data removed]",
      "text/plain": [
       "Plot with title \"\""
      ]
     },
     "metadata": {
      "image/png": {
       "height": 420,
       "width": 420
      }
     },
     "output_type": "display_data"
    },
    {
     "data": {
      "image/png": "[encoded data removed]",
      "text/plain": [
       "Plot with title \"\""
      ]
     },
     "metadata": {
      "image/png": {
       "height": 420,
       "width": 420
      }
     },
     "output_type": "display_data"
    }
   ],
   "source": [
    "plot(model)"
   ]
  },
  {
   "cell_type": "code",
   "execution_count": 18,
   "metadata": {},
   "outputs": [
    {
     "name": "stderr",
     "output_type": "stream",
     "text": [
      "Warning message:\n",
      "\"package 'caTools' was built under R version 3.6.3\"\n"
     ]
    }
   ],
   "source": [
    "library(caTools)# will use for split our data \n",
    "set.seed(101)\n",
    "\n",
    "split = sample.split(df$Result, SplitRatio = 0.70)\n",
    "\n",
    "final.train = subset(df, split == TRUE)\n",
    "final.test = subset(df, split == FALSE)"
   ]
  },
  {
   "cell_type": "markdown",
   "metadata": {},
   "source": [
    "### Lets Check our probablity and prediction accuracy"
   ]
  },
  {
   "cell_type": "code",
   "execution_count": 19,
   "metadata": {},
   "outputs": [],
   "source": [
    "fitted.probabilities <- predict(model,newdata=final.test,type='response')"
   ]
  },
  {
   "cell_type": "code",
   "execution_count": 21,
   "metadata": {},
   "outputs": [
    {
     "data": {
      "text/html": [
       "<style>\n",
       ".dl-inline {width: auto; margin:0; padding: 0}\n",
       ".dl-inline>dt, .dl-inline>dd {float: none; width: auto; display: inline-block}\n",
       ".dl-inline>dt::after {content: \":\\0020\"; padding-right: .5ex}\n",
       ".dl-inline>dt:not(:first-of-type) {padding-left: .5ex}\n",
       "</style><dl class=dl-inline><dt>6</dt><dd>1</dd><dt>7</dt><dd>2.22044604925031e-16</dd><dt>9</dt><dd>0.99999999989563</dd></dl>\n"
      ],
      "text/latex": [
       "\\begin{description*}\n",
       "\\item[6] 1\n",
       "\\item[7] 2.22044604925031e-16\n",
       "\\item[9] 0.99999999989563\n",
       "\\end{description*}\n"
      ],
      "text/markdown": [
       "6\n",
       ":   17\n",
       ":   2.22044604925031e-169\n",
       ":   0.99999999989563\n",
       "\n"
      ],
      "text/plain": [
       "           6            7            9 \n",
       "1.000000e+00 2.220446e-16 1.000000e+00 "
      ]
     },
     "metadata": {},
     "output_type": "display_data"
    }
   ],
   "source": [
    "head(fitted.probabilities)"
   ]
  },
  {
   "cell_type": "code",
   "execution_count": 22,
   "metadata": {},
   "outputs": [],
   "source": [
    "fitted.results <- ifelse(fitted.probabilities > 0.5,1,0)\n",
    "yes_no  <- ifelse(fitted.probabilities > 0.5, \"Yes\",\"No\")"
   ]
  },
  {
   "cell_type": "code",
   "execution_count": 23,
   "metadata": {},
   "outputs": [
    {
     "data": {
      "text/html": [
       "<style>\n",
       ".dl-inline {width: auto; margin:0; padding: 0}\n",
       ".dl-inline>dt, .dl-inline>dd {float: none; width: auto; display: inline-block}\n",
       ".dl-inline>dt::after {content: \":\\0020\"; padding-right: .5ex}\n",
       ".dl-inline>dt:not(:first-of-type) {padding-left: .5ex}\n",
       "</style><dl class=dl-inline><dt>6</dt><dd>1</dd><dt>7</dt><dd>0</dd><dt>9</dt><dd>1</dd></dl>\n"
      ],
      "text/latex": [
       "\\begin{description*}\n",
       "\\item[6] 1\n",
       "\\item[7] 0\n",
       "\\item[9] 1\n",
       "\\end{description*}\n"
      ],
      "text/markdown": [
       "6\n",
       ":   17\n",
       ":   09\n",
       ":   1\n",
       "\n"
      ],
      "text/plain": [
       "6 7 9 \n",
       "1 0 1 "
      ]
     },
     "metadata": {},
     "output_type": "display_data"
    }
   ],
   "source": [
    "head(fitted.results) # will give result 0 or 1"
   ]
  },
  {
   "cell_type": "code",
   "execution_count": 24,
   "metadata": {},
   "outputs": [],
   "source": [
    "misClasificError <- mean(fitted.results != final.test$Result)"
   ]
  },
  {
   "cell_type": "markdown",
   "metadata": {},
   "source": [
    "### Accuracy sencitivity and pecificity"
   ]
  },
  {
   "cell_type": "code",
   "execution_count": 32,
   "metadata": {},
   "outputs": [
    {
     "name": "stdout",
     "output_type": "stream",
     "text": [
      "[1] \"Accuracy 1\"\n"
     ]
    }
   ],
   "source": [
    "print(paste('Accuracy',1-misClasificError)) # accuracy of our model is not so good means 100%"
   ]
  },
  {
   "cell_type": "code",
   "execution_count": 35,
   "metadata": {},
   "outputs": [
    {
     "data": {
      "text/plain": [
       "                actual_values\n",
       "predicted_values 0 1\n",
       "               0 4 0\n",
       "               1 0 6"
      ]
     },
     "metadata": {},
     "output_type": "display_data"
    }
   ],
   "source": [
    "threshold=0.5\n",
    "predicted_values<-ifelse(predict(model,type=\"response\")>threshold,1,0)\n",
    "actual_values<-model$y\n",
    "conf_matrix<-table(predicted_values,actual_values)\n",
    "conf_matrix"
   ]
  },
  {
   "cell_type": "code",
   "execution_count": 36,
   "metadata": {},
   "outputs": [
    {
     "name": "stderr",
     "output_type": "stream",
     "text": [
      "Warning message:\n",
      "\"package 'caret' was built under R version 3.6.3\"\n",
      "Loading required package: lattice\n",
      "\n",
      "Loading required package: ggplot2\n",
      "\n",
      "Warning message:\n",
      "\"package 'ggplot2' was built under R version 3.6.3\"\n"
     ]
    }
   ],
   "source": [
    "library('caret')"
   ]
  },
  {
   "cell_type": "code",
   "execution_count": 37,
   "metadata": {},
   "outputs": [
    {
     "data": {
      "text/html": [
       "1"
      ],
      "text/latex": [
       "1"
      ],
      "text/markdown": [
       "1"
      ],
      "text/plain": [
       "[1] 1"
      ]
     },
     "metadata": {},
     "output_type": "display_data"
    }
   ],
   "source": [
    "sensitivity(conf_matrix)"
   ]
  },
  {
   "cell_type": "code",
   "execution_count": 38,
   "metadata": {},
   "outputs": [
    {
     "data": {
      "text/html": [
       "1"
      ],
      "text/latex": [
       "1"
      ],
      "text/markdown": [
       "1"
      ],
      "text/plain": [
       "[1] 1"
      ]
     },
     "metadata": {},
     "output_type": "display_data"
    }
   ],
   "source": [
    "specificity(conf_matrix)"
   ]
  },
  {
   "cell_type": "markdown",
   "metadata": {},
   "source": [
    "## Roc Curve"
   ]
  },
  {
   "cell_type": "code",
   "execution_count": 39,
   "metadata": {},
   "outputs": [
    {
     "name": "stderr",
     "output_type": "stream",
     "text": [
      "Warning message:\n",
      "\"package 'Epi' was built under R version 3.6.3\"\n"
     ]
    }
   ],
   "source": [
    "library(Epi)"
   ]
  },
  {
   "cell_type": "code",
   "execution_count": 40,
   "metadata": {},
   "outputs": [
    {
     "data": {
      "image/png": "[encoded data removed]",
      "text/plain": [
       "plot without title"
      ]
     },
     "metadata": {
      "image/png": {
       "height": 420,
       "width": 420
      }
     },
     "output_type": "display_data"
    },
    {
     "data": {
      "image/png": "[encoded data removed]",
      "text/plain": [
       "plot without title"
      ]
     },
     "metadata": {
      "image/png": {
       "height": 420,
       "width": 420
      }
     },
     "output_type": "display_data"
    }
   ],
   "source": [
    "ROC(fitted.probabilities,fitted.results)"
   ]
  },
  {
   "cell_type": "code",
   "execution_count": 42,
   "metadata": {},
   "outputs": [
    {
     "data": {
      "text/html": [
       "<style>\n",
       ".dl-inline {width: auto; margin:0; padding: 0}\n",
       ".dl-inline>dt, .dl-inline>dd {float: none; width: auto; display: inline-block}\n",
       ".dl-inline>dt::after {content: \":\\0020\"; padding-right: .5ex}\n",
       ".dl-inline>dt:not(:first-of-type) {padding-left: .5ex}\n",
       "</style><dl class=dl-inline><dt>(Intercept)</dt><dd>4.26703115716205e+67</dd><dt>Election.id</dt><dd>1.04821846315883</dd><dt>Year</dt><dd>21.2416341825118</dd><dt>Amount.Spent</dt><dd>1.21353601287553e-06</dd><dt>Popularity.Rank</dt><dd>3.5475731999399e-34</dd></dl>\n"
      ],
      "text/latex": [
       "\\begin{description*}\n",
       "\\item[(Intercept)] 4.26703115716205e+67\n",
       "\\item[Election.id] 1.04821846315883\n",
       "\\item[Year] 21.2416341825118\n",
       "\\item[Amount.Spent] 1.21353601287553e-06\n",
       "\\item[Popularity.Rank] 3.5475731999399e-34\n",
       "\\end{description*}\n"
      ],
      "text/markdown": [
       "(Intercept)\n",
       ":   4.26703115716205e+67Election.id\n",
       ":   1.04821846315883Year\n",
       ":   21.2416341825118Amount.Spent\n",
       ":   1.21353601287553e-06Popularity.Rank\n",
       ":   3.5475731999399e-34\n",
       "\n"
      ],
      "text/plain": [
       "    (Intercept)     Election.id            Year    Amount.Spent Popularity.Rank \n",
       "   4.267031e+67    1.048218e+00    2.124163e+01    1.213536e-06    3.547573e-34 "
      ]
     },
     "metadata": {},
     "output_type": "display_data"
    }
   ],
   "source": [
    "#lets check coefficient of our model\n",
    "exp(coef(model))"
   ]
  },
  {
   "cell_type": "code",
   "execution_count": null,
   "metadata": {},
   "outputs": [],
   "source": []
  }
 ],
 "metadata": {
  "kernelspec": {
   "display_name": "R",
   "language": "R",
   "name": "ir"
  },
  "language_info": {
   "codemirror_mode": "r",
   "file_extension": ".r",
   "mimetype": "text/x-r-source",
   "name": "R",
   "pygments_lexer": "r",
   "version": "3.6.2"
  }
 },
 "nbformat": 4,
 "nbformat_minor": 4
}
