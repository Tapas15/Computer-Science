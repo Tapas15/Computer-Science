{
 "cells": [
  {
   "cell_type": "markdown",
   "metadata": {},
   "source": [
    "## Assignment Logistic Regression Module 9 \"bank_data.csv\""
   ]
  },
  {
   "cell_type": "code",
   "execution_count": 2,
   "metadata": {},
   "outputs": [],
   "source": [
    "df  <- read.csv(\"bank_data.csv\")"
   ]
  },
  {
   "cell_type": "code",
   "execution_count": 4,
   "metadata": {},
   "outputs": [
    {
     "data": {
      "text/html": [
       "<style>\n",
       ".list-inline {list-style: none; margin:0; padding: 0}\n",
       ".list-inline>li {display: inline-block}\n",
       ".list-inline>li:not(:last-child)::after {content: \"\\00b7\"; padding: 0 .5ex}\n",
       "</style>\n",
       "<ol class=list-inline><li>45211</li><li>32</li></ol>\n"
      ],
      "text/latex": [
       "\\begin{enumerate*}\n",
       "\\item 45211\n",
       "\\item 32\n",
       "\\end{enumerate*}\n"
      ],
      "text/markdown": [
       "1. 45211\n",
       "2. 32\n",
       "\n",
       "\n"
      ],
      "text/plain": [
       "[1] 45211    32"
      ]
     },
     "metadata": {},
     "output_type": "display_data"
    }
   ],
   "source": [
    "dim(df) # it contains 32 columns and 45211 rows "
   ]
  },
  {
   "cell_type": "markdown",
   "metadata": {},
   "source": [
    "### Descriptin of Data "
   ]
  },
  {
   "cell_type": "markdown",
   "metadata": {},
   "source": [
    "Output variable -> y\n",
    "<br>y -> Whether the client has subscribed a term deposit or not \n",
    "<br>it is a Binomial (\"yes\" or \"no\") type investigation"
   ]
  },
  {
   "cell_type": "markdown",
   "metadata": {},
   "source": [
    "### Lets Examine the data "
   ]
  },
  {
   "cell_type": "code",
   "execution_count": 7,
   "metadata": {},
   "outputs": [
    {
     "name": "stderr",
     "output_type": "stream",
     "text": [
      "Warning message:\n",
      "\"package 'dplyr' was built under R version 3.6.3\"\n",
      "\n",
      "Attaching package: 'dplyr'\n",
      "\n",
      "\n",
      "The following objects are masked from 'package:stats':\n",
      "\n",
      "    filter, lag\n",
      "\n",
      "\n",
      "The following objects are masked from 'package:base':\n",
      "\n",
      "    intersect, setdiff, setequal, union\n",
      "\n",
      "\n"
     ]
    }
   ],
   "source": [
    "library(dplyr)"
   ]
  },
  {
   "cell_type": "code",
   "execution_count": 8,
   "metadata": {},
   "outputs": [
    {
     "name": "stdout",
     "output_type": "stream",
     "text": [
      "Rows: 45,211\n",
      "Columns: 32\n",
      "$ age             \u001b[3m\u001b[90m<int>\u001b[39m\u001b[23m 58, 44, 33, 47, 33, 35, 28, 42, 58, 43, 41, 29, 53,...\n",
      "$ default         \u001b[3m\u001b[90m<int>\u001b[39m\u001b[23m 0, 0, 0, 0, 0, 0, 0, 1, 0, 0, 0, 0, 0, 0, 0, 0, 0, ...\n",
      "$ balance         \u001b[3m\u001b[90m<int>\u001b[39m\u001b[23m 2143, 29, 2, 1506, 1, 231, 447, 2, 121, 593, 270, 3...\n",
      "$ housing         \u001b[3m\u001b[90m<int>\u001b[39m\u001b[23m 1, 1, 1, 1, 0, 1, 1, 1, 1, 1, 1, 1, 1, 1, 1, 1, 1, ...\n",
      "$ loan            \u001b[3m\u001b[90m<int>\u001b[39m\u001b[23m 0, 0, 1, 0, 0, 0, 1, 0, 0, 0, 0, 0, 0, 0, 0, 0, 0, ...\n",
      "$ duration        \u001b[3m\u001b[90m<int>\u001b[39m\u001b[23m 261, 151, 76, 92, 198, 139, 217, 380, 50, 55, 222, ...\n",
      "$ campaign        \u001b[3m\u001b[90m<int>\u001b[39m\u001b[23m 1, 1, 1, 1, 1, 1, 1, 1, 1, 1, 1, 1, 1, 1, 1, 1, 1, ...\n",
      "$ pdays           \u001b[3m\u001b[90m<int>\u001b[39m\u001b[23m -1, -1, -1, -1, -1, -1, -1, -1, -1, -1, -1, -1, -1,...\n",
      "$ previous        \u001b[3m\u001b[90m<int>\u001b[39m\u001b[23m 0, 0, 0, 0, 0, 0, 0, 0, 0, 0, 0, 0, 0, 0, 0, 0, 0, ...\n",
      "$ poutfailure     \u001b[3m\u001b[90m<int>\u001b[39m\u001b[23m 0, 0, 0, 0, 0, 0, 0, 0, 0, 0, 0, 0, 0, 0, 0, 0, 0, ...\n",
      "$ poutother       \u001b[3m\u001b[90m<int>\u001b[39m\u001b[23m 0, 0, 0, 0, 0, 0, 0, 0, 0, 0, 0, 0, 0, 0, 0, 0, 0, ...\n",
      "$ poutsuccess     \u001b[3m\u001b[90m<int>\u001b[39m\u001b[23m 0, 0, 0, 0, 0, 0, 0, 0, 0, 0, 0, 0, 0, 0, 0, 0, 0, ...\n",
      "$ poutunknown     \u001b[3m\u001b[90m<int>\u001b[39m\u001b[23m 1, 1, 1, 1, 1, 1, 1, 1, 1, 1, 1, 1, 1, 1, 1, 1, 1, ...\n",
      "$ con_cellular    \u001b[3m\u001b[90m<int>\u001b[39m\u001b[23m 0, 0, 0, 0, 0, 0, 0, 0, 0, 0, 0, 0, 0, 0, 0, 0, 0, ...\n",
      "$ con_telephone   \u001b[3m\u001b[90m<int>\u001b[39m\u001b[23m 0, 0, 0, 0, 0, 0, 0, 0, 0, 0, 0, 0, 0, 0, 0, 0, 0, ...\n",
      "$ con_unknown     \u001b[3m\u001b[90m<int>\u001b[39m\u001b[23m 1, 1, 1, 1, 1, 1, 1, 1, 1, 1, 1, 1, 1, 1, 1, 1, 1, ...\n",
      "$ divorced        \u001b[3m\u001b[90m<int>\u001b[39m\u001b[23m 0, 0, 0, 0, 0, 0, 0, 1, 0, 0, 1, 0, 0, 0, 0, 0, 0, ...\n",
      "$ married         \u001b[3m\u001b[90m<int>\u001b[39m\u001b[23m 1, 0, 1, 1, 0, 1, 0, 0, 1, 0, 0, 0, 1, 1, 1, 1, 0, ...\n",
      "$ single          \u001b[3m\u001b[90m<int>\u001b[39m\u001b[23m 0, 1, 0, 0, 1, 0, 1, 0, 0, 1, 0, 1, 0, 0, 0, 0, 1, ...\n",
      "$ joadmin.        \u001b[3m\u001b[90m<int>\u001b[39m\u001b[23m 0, 0, 0, 0, 0, 0, 0, 0, 0, 0, 1, 1, 0, 0, 0, 0, 1, ...\n",
      "$ joblue.collar   \u001b[3m\u001b[90m<int>\u001b[39m\u001b[23m 0, 0, 0, 1, 0, 0, 0, 0, 0, 0, 0, 0, 0, 0, 0, 0, 0, ...\n",
      "$ joentrepreneur  \u001b[3m\u001b[90m<int>\u001b[39m\u001b[23m 0, 0, 1, 0, 0, 0, 0, 1, 0, 0, 0, 0, 0, 0, 0, 0, 0, ...\n",
      "$ johousemaid     \u001b[3m\u001b[90m<int>\u001b[39m\u001b[23m 0, 0, 0, 0, 0, 0, 0, 0, 0, 0, 0, 0, 0, 0, 0, 0, 0, ...\n",
      "$ jomanagement    \u001b[3m\u001b[90m<int>\u001b[39m\u001b[23m 1, 0, 0, 0, 0, 1, 1, 0, 0, 0, 0, 0, 0, 0, 0, 0, 0, ...\n",
      "$ joretired       \u001b[3m\u001b[90m<int>\u001b[39m\u001b[23m 0, 0, 0, 0, 0, 0, 0, 0, 1, 0, 0, 0, 0, 0, 0, 1, 0, ...\n",
      "$ joself.employed \u001b[3m\u001b[90m<int>\u001b[39m\u001b[23m 0, 0, 0, 0, 0, 0, 0, 0, 0, 0, 0, 0, 0, 0, 0, 0, 0, ...\n",
      "$ joservices      \u001b[3m\u001b[90m<int>\u001b[39m\u001b[23m 0, 0, 0, 0, 0, 0, 0, 0, 0, 0, 0, 0, 0, 0, 1, 0, 0, ...\n",
      "$ jostudent       \u001b[3m\u001b[90m<int>\u001b[39m\u001b[23m 0, 0, 0, 0, 0, 0, 0, 0, 0, 0, 0, 0, 0, 0, 0, 0, 0, ...\n",
      "$ jotechnician    \u001b[3m\u001b[90m<int>\u001b[39m\u001b[23m 0, 1, 0, 0, 0, 0, 0, 0, 0, 1, 0, 0, 1, 1, 0, 0, 0, ...\n",
      "$ jounemployed    \u001b[3m\u001b[90m<int>\u001b[39m\u001b[23m 0, 0, 0, 0, 0, 0, 0, 0, 0, 0, 0, 0, 0, 0, 0, 0, 0, ...\n",
      "$ jounknown       \u001b[3m\u001b[90m<int>\u001b[39m\u001b[23m 0, 0, 0, 0, 1, 0, 0, 0, 0, 0, 0, 0, 0, 0, 0, 0, 0, ...\n",
      "$ y               \u001b[3m\u001b[90m<int>\u001b[39m\u001b[23m 0, 0, 0, 0, 0, 0, 0, 0, 0, 0, 0, 0, 0, 0, 0, 0, 0, ...\n"
     ]
    }
   ],
   "source": [
    "glimpse(df) # from this view we can see type and inside idea of dataframe"
   ]
  },
  {
   "cell_type": "code",
   "execution_count": 9,
   "metadata": {},
   "outputs": [
    {
     "data": {
      "text/html": [
       "'list'"
      ],
      "text/latex": [
       "'list'"
      ],
      "text/markdown": [
       "'list'"
      ],
      "text/plain": [
       "[1] \"list\""
      ]
     },
     "metadata": {},
     "output_type": "display_data"
    }
   ],
   "source": [
    "typeof(df) # list type data frame we have  Y is the response variable "
   ]
  },
  {
   "cell_type": "markdown",
   "metadata": {},
   "source": [
    "### Data Pre processing and cleaning"
   ]
  },
  {
   "cell_type": "code",
   "execution_count": 10,
   "metadata": {},
   "outputs": [
    {
     "name": "stderr",
     "output_type": "stream",
     "text": [
      "Warning message:\n",
      "\"package 'Hmisc' was built under R version 3.6.3\"\n",
      "Loading required package: lattice\n",
      "\n",
      "Loading required package: survival\n",
      "\n",
      "Loading required package: Formula\n",
      "\n",
      "Loading required package: ggplot2\n",
      "\n",
      "Warning message:\n",
      "\"package 'ggplot2' was built under R version 3.6.3\"\n",
      "\n",
      "Attaching package: 'Hmisc'\n",
      "\n",
      "\n",
      "The following objects are masked from 'package:dplyr':\n",
      "\n",
      "    src, summarize\n",
      "\n",
      "\n",
      "The following objects are masked from 'package:base':\n",
      "\n",
      "    format.pval, units\n",
      "\n",
      "\n"
     ]
    }
   ],
   "source": [
    "library(\"Hmisc\")"
   ]
  },
  {
   "cell_type": "code",
   "execution_count": 12,
   "metadata": {},
   "outputs": [
    {
     "data": {
      "text/plain": [
       "df \n",
       "\n",
       " 32  Variables      45211  Observations\n",
       "--------------------------------------------------------------------------------\n",
       "age \n",
       "       n  missing distinct     Info     Mean      Gmd      .05      .10 \n",
       "   45211        0       77    0.999    40.94    11.87       27       29 \n",
       "     .25      .50      .75      .90      .95 \n",
       "      33       39       48       56       59 \n",
       "\n",
       "lowest : 18 19 20 21 22, highest: 90 92 93 94 95\n",
       "--------------------------------------------------------------------------------\n",
       "default \n",
       "       n  missing distinct     Info      Sum     Mean      Gmd \n",
       "   45211        0        2    0.053      815  0.01803   0.0354 \n",
       "\n",
       "--------------------------------------------------------------------------------\n",
       "balance \n",
       "       n  missing distinct     Info     Mean      Gmd      .05      .10 \n",
       "   45211        0     7168        1     1362     2054     -172        0 \n",
       "     .25      .50      .75      .90      .95 \n",
       "      72      448     1428     3574     5768 \n",
       "\n",
       "lowest :  -8019  -6847  -4057  -3372  -3313, highest:  66721  71188  81204  98417 102127\n",
       "--------------------------------------------------------------------------------\n",
       "housing \n",
       "       n  missing distinct     Info      Sum     Mean      Gmd \n",
       "   45211        0        2    0.741    25130   0.5558   0.4938 \n",
       "\n",
       "--------------------------------------------------------------------------------\n",
       "loan \n",
       "       n  missing distinct     Info      Sum     Mean      Gmd \n",
       "   45211        0        2    0.404     7244   0.1602   0.2691 \n",
       "\n",
       "--------------------------------------------------------------------------------\n",
       "duration \n",
       "       n  missing distinct     Info     Mean      Gmd      .05      .10 \n",
       "   45211        0     1573        1    258.2    235.4       35       58 \n",
       "     .25      .50      .75      .90      .95 \n",
       "     103      180      319      548      751 \n",
       "\n",
       "lowest :    0    1    2    3    4, highest: 3366 3422 3785 3881 4918\n",
       "--------------------------------------------------------------------------------\n",
       "campaign \n",
       "       n  missing distinct     Info     Mean      Gmd      .05      .10 \n",
       "   45211        0       48    0.918    2.764    2.383        1        1 \n",
       "     .25      .50      .75      .90      .95 \n",
       "       1        2        3        5        8 \n",
       "\n",
       "lowest :  1  2  3  4  5, highest: 50 51 55 58 63\n",
       "--------------------------------------------------------------------------------\n",
       "pdays \n",
       "       n  missing distinct     Info     Mean      Gmd      .05      .10 \n",
       "   45211        0      559    0.454     40.2    71.61       -1       -1 \n",
       "     .25      .50      .75      .90      .95 \n",
       "      -1       -1       -1      185      317 \n",
       "\n",
       "lowest :  -1   1   2   3   4, highest: 838 842 850 854 871\n",
       "--------------------------------------------------------------------------------\n",
       "previous \n",
       "       n  missing distinct     Info     Mean      Gmd      .05      .10 \n",
       "   45211        0       41    0.454   0.5803    1.044        0        0 \n",
       "     .25      .50      .75      .90      .95 \n",
       "       0        0        0        2        3 \n",
       "\n",
       "lowest :   0   1   2   3   4, highest:  41  51  55  58 275\n",
       "--------------------------------------------------------------------------------\n",
       "poutfailure \n",
       "       n  missing distinct     Info      Sum     Mean      Gmd \n",
       "   45211        0        2     0.29     4901   0.1084   0.1933 \n",
       "\n",
       "--------------------------------------------------------------------------------\n",
       "poutother \n",
       "       n  missing distinct     Info      Sum     Mean      Gmd \n",
       "   45211        0        2    0.117     1840   0.0407  0.07809 \n",
       "\n",
       "--------------------------------------------------------------------------------\n",
       "poutsuccess \n",
       "       n  missing distinct     Info      Sum     Mean      Gmd \n",
       "   45211        0        2    0.097     1511  0.03342  0.06461 \n",
       "\n",
       "--------------------------------------------------------------------------------\n",
       "poutunknown \n",
       "       n  missing distinct     Info      Sum     Mean      Gmd \n",
       "   45211        0        2    0.448    36959   0.8175   0.2984 \n",
       "\n",
       "--------------------------------------------------------------------------------\n",
       "con_cellular \n",
       "       n  missing distinct     Info      Sum     Mean      Gmd \n",
       "   45211        0        2    0.685    29285   0.6477   0.4564 \n",
       "\n",
       "--------------------------------------------------------------------------------\n",
       "con_telephone \n",
       "       n  missing distinct     Info      Sum     Mean      Gmd \n",
       "   45211        0        2     0.18     2906  0.06428   0.1203 \n",
       "\n",
       "--------------------------------------------------------------------------------\n",
       "con_unknown \n",
       "       n  missing distinct     Info      Sum     Mean      Gmd \n",
       "   45211        0        2    0.615    13020    0.288   0.4101 \n",
       "\n",
       "--------------------------------------------------------------------------------\n",
       "divorced \n",
       "       n  missing distinct     Info      Sum     Mean      Gmd \n",
       "   45211        0        2    0.306     5207   0.1152   0.2038 \n",
       "\n",
       "--------------------------------------------------------------------------------\n",
       "married \n",
       "       n  missing distinct     Info      Sum     Mean      Gmd \n",
       "   45211        0        2    0.719    27214   0.6019   0.4792 \n",
       "\n",
       "--------------------------------------------------------------------------------\n",
       "single \n",
       "       n  missing distinct     Info      Sum     Mean      Gmd \n",
       "   45211        0        2    0.609    12790   0.2829   0.4057 \n",
       "\n",
       "--------------------------------------------------------------------------------\n",
       "joadmin. \n",
       "       n  missing distinct     Info      Sum     Mean      Gmd \n",
       "   45211        0        2    0.304     5171   0.1144   0.2026 \n",
       "\n",
       "--------------------------------------------------------------------------------\n",
       "joblue.collar \n",
       "       n  missing distinct     Info      Sum     Mean      Gmd \n",
       "   45211        0        2    0.507     9732   0.2153   0.3379 \n",
       "\n",
       "--------------------------------------------------------------------------------\n",
       "joentrepreneur \n",
       "       n  missing distinct     Info      Sum     Mean      Gmd \n",
       "   45211        0        2    0.095     1487  0.03289  0.06362 \n",
       "\n",
       "--------------------------------------------------------------------------------\n",
       "johousemaid \n",
       "       n  missing distinct     Info      Sum     Mean      Gmd \n",
       "   45211        0        2     0.08     1240  0.02743  0.05335 \n",
       "\n",
       "--------------------------------------------------------------------------------\n",
       "jomanagement \n",
       "       n  missing distinct     Info      Sum     Mean      Gmd \n",
       "   45211        0        2    0.496     9458   0.2092   0.3309 \n",
       "\n",
       "--------------------------------------------------------------------------------\n",
       "joretired \n",
       "       n  missing distinct     Info      Sum     Mean      Gmd \n",
       "   45211        0        2    0.143     2264  0.05008  0.09514 \n",
       "\n",
       "--------------------------------------------------------------------------------\n",
       "joself.employed \n",
       "       n  missing distinct     Info      Sum     Mean      Gmd \n",
       "   45211        0        2    0.101     1579  0.03493  0.06741 \n",
       "\n",
       "--------------------------------------------------------------------------------\n",
       "joservices \n",
       "       n  missing distinct     Info      Sum     Mean      Gmd \n",
       "   45211        0        2     0.25     4154  0.09188   0.1669 \n",
       "\n",
       "--------------------------------------------------------------------------------\n",
       "jostudent \n",
       "       n  missing distinct     Info      Sum     Mean      Gmd \n",
       "   45211        0        2    0.061      938  0.02075  0.04063 \n",
       "\n",
       "--------------------------------------------------------------------------------\n",
       "jotechnician \n",
       "       n  missing distinct     Info      Sum     Mean      Gmd \n",
       "   45211        0        2    0.419     7597    0.168   0.2796 \n",
       "\n",
       "--------------------------------------------------------------------------------\n",
       "jounemployed \n",
       "       n  missing distinct     Info      Sum     Mean      Gmd \n",
       "   45211        0        2    0.084     1303  0.02882  0.05598 \n",
       "\n",
       "--------------------------------------------------------------------------------\n",
       "jounknown \n",
       "       n  missing distinct     Info      Sum     Mean      Gmd \n",
       "   45211        0        2    0.019      288  0.00637  0.01266 \n",
       "\n",
       "--------------------------------------------------------------------------------\n",
       "y \n",
       "       n  missing distinct     Info      Sum     Mean      Gmd \n",
       "   45211        0        2     0.31     5289    0.117   0.2066 \n",
       "\n",
       "--------------------------------------------------------------------------------"
      ]
     },
     "metadata": {},
     "output_type": "display_data"
    }
   ],
   "source": [
    "describe(df) # it seems some missing value ,remove missing value "
   ]
  },
  {
   "cell_type": "code",
   "execution_count": 13,
   "metadata": {},
   "outputs": [
    {
     "data": {
      "text/html": [
       "0"
      ],
      "text/latex": [
       "0"
      ],
      "text/markdown": [
       "0"
      ],
      "text/plain": [
       "[1] 0"
      ]
     },
     "metadata": {},
     "output_type": "display_data"
    }
   ],
   "source": [
    "sum(is.na(df)) # there is no missing value it indicates "
   ]
  },
  {
   "cell_type": "markdown",
   "metadata": {},
   "source": [
    "## Brief modeling making"
   ]
  },
  {
   "cell_type": "code",
   "execution_count": 20,
   "metadata": {},
   "outputs": [],
   "source": [
    "model  <- glm((y >0)~.,data = df,family = binomial)"
   ]
  },
  {
   "cell_type": "code",
   "execution_count": 21,
   "metadata": {},
   "outputs": [
    {
     "name": "stdout",
     "output_type": "stream",
     "text": [
      "\n",
      "Call:\n",
      "glm(formula = (y > 0) ~ ., family = binomial, data = df)\n",
      "\n",
      "Deviance Residuals: \n",
      "    Min       1Q   Median       3Q      Max  \n",
      "-5.6748  -0.4060  -0.2731  -0.1625   3.4400  \n",
      "\n",
      "Coefficients: (4 not defined because of singularities)\n",
      "                  Estimate Std. Error z value Pr(>|z|)    \n",
      "(Intercept)     -3.855e+00  2.447e-01 -15.754  < 2e-16 ***\n",
      "age              3.567e-04  2.123e-03   0.168 0.866617    \n",
      "default         -1.822e-01  1.613e-01  -1.130 0.258582    \n",
      "balance          1.872e-05  4.848e-06   3.860 0.000113 ***\n",
      "housing         -7.756e-01  3.953e-02 -19.618  < 2e-16 ***\n",
      "loan            -5.720e-01  5.811e-02  -9.843  < 2e-16 ***\n",
      "duration         4.048e-03  6.264e-05  64.619  < 2e-16 ***\n",
      "campaign        -1.093e-01  9.905e-03 -11.037  < 2e-16 ***\n",
      "pdays            1.441e-04  3.006e-04   0.479 0.631590    \n",
      "previous         1.042e-02  6.435e-03   1.620 0.105281    \n",
      "poutfailure      2.563e-01  9.038e-02   2.835 0.004576 ** \n",
      "poutother        4.985e-01  1.028e-01   4.849 1.24e-06 ***\n",
      "poutsuccess      2.565e+00  8.318e-02  30.836  < 2e-16 ***\n",
      "poutunknown             NA         NA      NA       NA    \n",
      "con_cellular     1.166e+00  5.762e-02  20.232  < 2e-16 ***\n",
      "con_telephone    1.067e+00  8.825e-02  12.093  < 2e-16 ***\n",
      "con_unknown             NA         NA      NA       NA    \n",
      "divorced        -1.762e-01  6.530e-02  -2.697 0.006986 ** \n",
      "married         -3.394e-01  4.448e-02  -7.631 2.32e-14 ***\n",
      "single                  NA         NA      NA       NA    \n",
      "joadmin.         2.965e-01  2.263e-01   1.310 0.190041    \n",
      "joblue.collar   -1.671e-01  2.256e-01  -0.741 0.458886    \n",
      "joentrepreneur  -1.073e-01  2.463e-01  -0.436 0.663056    \n",
      "johousemaid     -2.776e-01  2.495e-01  -1.113 0.265815    \n",
      "jomanagement     2.380e-01  2.232e-01   1.067 0.286143    \n",
      "joretired        6.315e-01  2.301e-01   2.745 0.006052 ** \n",
      "joself.employed  1.962e-02  2.392e-01   0.082 0.934620    \n",
      "joservices      -3.688e-02  2.301e-01  -0.160 0.872676    \n",
      "jostudent        8.087e-01  2.395e-01   3.377 0.000734 ***\n",
      "jotechnician     6.383e-02  2.247e-01   0.284 0.776342    \n",
      "jounemployed     8.167e-02  2.397e-01   0.341 0.733322    \n",
      "jounknown               NA         NA      NA       NA    \n",
      "---\n",
      "Signif. codes:  0 '***' 0.001 '**' 0.01 '*' 0.05 '.' 0.1 ' ' 1\n",
      "\n",
      "(Dispersion parameter for binomial family taken to be 1)\n",
      "\n",
      "    Null deviance: 32631  on 45210  degrees of freedom\n",
      "Residual deviance: 22640  on 45183  degrees of freedom\n",
      "AIC: 22696\n",
      "\n",
      "Number of Fisher Scoring iterations: 6\n",
      "\n"
     ]
    }
   ],
   "source": [
    "print(summary(model))# lets remove variable with NA"
   ]
  },
  {
   "cell_type": "code",
   "execution_count": 22,
   "metadata": {},
   "outputs": [
    {
     "name": "stderr",
     "output_type": "stream",
     "text": [
      "The following objects are masked from df (pos = 3):\n",
      "\n",
      "    age, balance, campaign, con_cellular, con_telephone, con_unknown,\n",
      "    default, divorced, duration, housing, joadmin., joblue.collar,\n",
      "    joentrepreneur, johousemaid, jomanagement, joretired,\n",
      "    joself.employed, joservices, jostudent, jotechnician, jounemployed,\n",
      "    jounknown, loan, married, pdays, poutfailure, poutother,\n",
      "    poutsuccess, poutunknown, previous, single, y\n",
      "\n",
      "\n"
     ]
    }
   ],
   "source": [
    "attach(df)"
   ]
  },
  {
   "cell_type": "code",
   "execution_count": 28,
   "metadata": {},
   "outputs": [],
   "source": [
    "final  <- glm((y >0)~.-poutunknown-con_unknown-single-jounknown ,data = df,family = binomial)"
   ]
  },
  {
   "cell_type": "code",
   "execution_count": 29,
   "metadata": {},
   "outputs": [
    {
     "name": "stdout",
     "output_type": "stream",
     "text": [
      "\n",
      "Call:\n",
      "glm(formula = (y > 0) ~ . - poutunknown - con_unknown - single - \n",
      "    jounknown, family = binomial, data = df)\n",
      "\n",
      "Deviance Residuals: \n",
      "    Min       1Q   Median       3Q      Max  \n",
      "-5.6748  -0.4060  -0.2731  -0.1625   3.4400  \n",
      "\n",
      "Coefficients:\n",
      "                  Estimate Std. Error z value Pr(>|z|)    \n",
      "(Intercept)     -3.855e+00  2.447e-01 -15.754  < 2e-16 ***\n",
      "age              3.567e-04  2.123e-03   0.168 0.866617    \n",
      "default         -1.822e-01  1.613e-01  -1.130 0.258582    \n",
      "balance          1.872e-05  4.848e-06   3.860 0.000113 ***\n",
      "housing         -7.756e-01  3.953e-02 -19.618  < 2e-16 ***\n",
      "loan            -5.720e-01  5.811e-02  -9.843  < 2e-16 ***\n",
      "duration         4.048e-03  6.264e-05  64.619  < 2e-16 ***\n",
      "campaign        -1.093e-01  9.905e-03 -11.037  < 2e-16 ***\n",
      "pdays            1.441e-04  3.006e-04   0.479 0.631590    \n",
      "previous         1.042e-02  6.435e-03   1.620 0.105281    \n",
      "poutfailure      2.563e-01  9.038e-02   2.835 0.004576 ** \n",
      "poutother        4.985e-01  1.028e-01   4.849 1.24e-06 ***\n",
      "poutsuccess      2.565e+00  8.318e-02  30.836  < 2e-16 ***\n",
      "con_cellular     1.166e+00  5.762e-02  20.232  < 2e-16 ***\n",
      "con_telephone    1.067e+00  8.825e-02  12.093  < 2e-16 ***\n",
      "divorced        -1.762e-01  6.530e-02  -2.697 0.006986 ** \n",
      "married         -3.394e-01  4.448e-02  -7.631 2.32e-14 ***\n",
      "joadmin.         2.965e-01  2.263e-01   1.310 0.190041    \n",
      "joblue.collar   -1.671e-01  2.256e-01  -0.741 0.458886    \n",
      "joentrepreneur  -1.073e-01  2.463e-01  -0.436 0.663056    \n",
      "johousemaid     -2.776e-01  2.495e-01  -1.113 0.265815    \n",
      "jomanagement     2.380e-01  2.232e-01   1.067 0.286143    \n",
      "joretired        6.315e-01  2.301e-01   2.745 0.006052 ** \n",
      "joself.employed  1.962e-02  2.392e-01   0.082 0.934620    \n",
      "joservices      -3.688e-02  2.301e-01  -0.160 0.872676    \n",
      "jostudent        8.087e-01  2.395e-01   3.377 0.000734 ***\n",
      "jotechnician     6.383e-02  2.247e-01   0.284 0.776342    \n",
      "jounemployed     8.167e-02  2.397e-01   0.341 0.733322    \n",
      "---\n",
      "Signif. codes:  0 '***' 0.001 '**' 0.01 '*' 0.05 '.' 0.1 ' ' 1\n",
      "\n",
      "(Dispersion parameter for binomial family taken to be 1)\n",
      "\n",
      "    Null deviance: 32631  on 45210  degrees of freedom\n",
      "Residual deviance: 22640  on 45183  degrees of freedom\n",
      "AIC: 22696\n",
      "\n",
      "Number of Fisher Scoring iterations: 6\n",
      "\n"
     ]
    }
   ],
   "source": [
    "print(summary(final))"
   ]
  },
  {
   "cell_type": "code",
   "execution_count": 30,
   "metadata": {},
   "outputs": [
    {
     "data": {
      "text/html": [
       "<style>\n",
       ".dl-inline {width: auto; margin:0; padding: 0}\n",
       ".dl-inline>dt, .dl-inline>dd {float: none; width: auto; display: inline-block}\n",
       ".dl-inline>dt::after {content: \":\\0020\"; padding-right: .5ex}\n",
       ".dl-inline>dt:not(:first-of-type) {padding-left: .5ex}\n",
       "</style><dl class=dl-inline><dt>(Intercept)</dt><dd>0.0211816655138256</dd><dt>age</dt><dd>1.00035671636596</dd><dt>default</dt><dd>0.833399095102891</dd><dt>balance</dt><dd>1.00001871690757</dd><dt>housing</dt><dd>0.46043207957365</dd><dt>loan</dt><dd>0.564407588068169</dd><dt>duration</dt><dd>1.00405573276501</dd><dt>campaign</dt><dd>0.896437281766818</dd><dt>pdays</dt><dd>1.00014414920488</dd><dt>previous</dt><dd>1.01047742902606</dd><dt>poutfailure</dt><dd>1.29208604778787</dd><dt>poutother</dt><dd>1.64624413267964</dd><dt>poutsuccess</dt><dd>12.9977820709523</dd><dt>con_cellular</dt><dd>3.20841568636087</dd><dt>con_telephone</dt><dd>2.90721485630303</dd><dt>divorced</dt><dd>0.838486307272283</dd><dt>married</dt><dd>0.712187505144161</dd><dt>joadmin.</dt><dd>1.34516468215483</dd><dt>joblue.collar</dt><dd>0.846125770132817</dd><dt>joentrepreneur</dt><dd>0.898248153553541</dd><dt>johousemaid</dt><dd>0.757576822596176</dd><dt>jomanagement</dt><dd>1.26874376156686</dd><dt>joretired</dt><dd>1.88051971861863</dd><dt>joself.employed</dt><dd>1.01981818232974</dd><dt>joservices</dt><dd>0.963788773515402</dd><dt>jostudent</dt><dd>2.24502192066462</dd><dt>jotechnician</dt><dd>1.0659078840298</dd><dt>jounemployed</dt><dd>1.08509560946073</dd></dl>\n"
      ],
      "text/latex": [
       "\\begin{description*}\n",
       "\\item[(Intercept)] 0.0211816655138256\n",
       "\\item[age] 1.00035671636596\n",
       "\\item[default] 0.833399095102891\n",
       "\\item[balance] 1.00001871690757\n",
       "\\item[housing] 0.46043207957365\n",
       "\\item[loan] 0.564407588068169\n",
       "\\item[duration] 1.00405573276501\n",
       "\\item[campaign] 0.896437281766818\n",
       "\\item[pdays] 1.00014414920488\n",
       "\\item[previous] 1.01047742902606\n",
       "\\item[poutfailure] 1.29208604778787\n",
       "\\item[poutother] 1.64624413267964\n",
       "\\item[poutsuccess] 12.9977820709523\n",
       "\\item[con\\textbackslash{}\\_cellular] 3.20841568636087\n",
       "\\item[con\\textbackslash{}\\_telephone] 2.90721485630303\n",
       "\\item[divorced] 0.838486307272283\n",
       "\\item[married] 0.712187505144161\n",
       "\\item[joadmin.] 1.34516468215483\n",
       "\\item[joblue.collar] 0.846125770132817\n",
       "\\item[joentrepreneur] 0.898248153553541\n",
       "\\item[johousemaid] 0.757576822596176\n",
       "\\item[jomanagement] 1.26874376156686\n",
       "\\item[joretired] 1.88051971861863\n",
       "\\item[joself.employed] 1.01981818232974\n",
       "\\item[joservices] 0.963788773515402\n",
       "\\item[jostudent] 2.24502192066462\n",
       "\\item[jotechnician] 1.0659078840298\n",
       "\\item[jounemployed] 1.08509560946073\n",
       "\\end{description*}\n"
      ],
      "text/markdown": [
       "(Intercept)\n",
       ":   0.0211816655138256age\n",
       ":   1.00035671636596default\n",
       ":   0.833399095102891balance\n",
       ":   1.00001871690757housing\n",
       ":   0.46043207957365loan\n",
       ":   0.564407588068169duration\n",
       ":   1.00405573276501campaign\n",
       ":   0.896437281766818pdays\n",
       ":   1.00014414920488previous\n",
       ":   1.01047742902606poutfailure\n",
       ":   1.29208604778787poutother\n",
       ":   1.64624413267964poutsuccess\n",
       ":   12.9977820709523con_cellular\n",
       ":   3.20841568636087con_telephone\n",
       ":   2.90721485630303divorced\n",
       ":   0.838486307272283married\n",
       ":   0.712187505144161joadmin.\n",
       ":   1.34516468215483joblue.collar\n",
       ":   0.846125770132817joentrepreneur\n",
       ":   0.898248153553541johousemaid\n",
       ":   0.757576822596176jomanagement\n",
       ":   1.26874376156686joretired\n",
       ":   1.88051971861863joself.employed\n",
       ":   1.01981818232974joservices\n",
       ":   0.963788773515402jostudent\n",
       ":   2.24502192066462jotechnician\n",
       ":   1.0659078840298jounemployed\n",
       ":   1.08509560946073\n",
       "\n"
      ],
      "text/plain": [
       "    (Intercept)             age         default         balance         housing \n",
       "     0.02118167      1.00035672      0.83339910      1.00001872      0.46043208 \n",
       "           loan        duration        campaign           pdays        previous \n",
       "     0.56440759      1.00405573      0.89643728      1.00014415      1.01047743 \n",
       "    poutfailure       poutother     poutsuccess    con_cellular   con_telephone \n",
       "     1.29208605      1.64624413     12.99778207      3.20841569      2.90721486 \n",
       "       divorced         married        joadmin.   joblue.collar  joentrepreneur \n",
       "     0.83848631      0.71218751      1.34516468      0.84612577      0.89824815 \n",
       "    johousemaid    jomanagement       joretired joself.employed      joservices \n",
       "     0.75757682      1.26874376      1.88051972      1.01981818      0.96378877 \n",
       "      jostudent    jotechnician    jounemployed \n",
       "     2.24502192      1.06590788      1.08509561 "
      ]
     },
     "metadata": {},
     "output_type": "display_data"
    }
   ],
   "source": [
    "exp(coef(final)) # view of data current state"
   ]
  },
  {
   "cell_type": "markdown",
   "metadata": {},
   "source": [
    "### lets make our model train test split of data"
   ]
  },
  {
   "cell_type": "code",
   "execution_count": 32,
   "metadata": {},
   "outputs": [],
   "source": [
    "library(caTools)# will use for split our data \n",
    "set.seed(101)\n",
    "\n",
    "split = sample.split(df$y, SplitRatio = 0.70)\n",
    "\n",
    "final.train = subset(df, split == TRUE)\n",
    "final.test = subset(df, split == FALSE)"
   ]
  },
  {
   "cell_type": "code",
   "execution_count": 33,
   "metadata": {},
   "outputs": [],
   "source": [
    "final  <- glm((y >0)~.-poutunknown-con_unknown-single-jounknown ,data = df,family = binomial)"
   ]
  },
  {
   "cell_type": "code",
   "execution_count": 34,
   "metadata": {},
   "outputs": [
    {
     "name": "stdout",
     "output_type": "stream",
     "text": [
      "\n",
      "Call:  glm(formula = (y > 0) ~ . - poutunknown - con_unknown - single - \n",
      "    jounknown, family = binomial, data = df)\n",
      "\n",
      "Coefficients:\n",
      "    (Intercept)              age          default          balance  \n",
      "     -3.855e+00        3.567e-04       -1.822e-01        1.872e-05  \n",
      "        housing             loan         duration         campaign  \n",
      "     -7.756e-01       -5.720e-01        4.048e-03       -1.093e-01  \n",
      "          pdays         previous      poutfailure        poutother  \n",
      "      1.441e-04        1.042e-02        2.563e-01        4.985e-01  \n",
      "    poutsuccess     con_cellular    con_telephone         divorced  \n",
      "      2.565e+00        1.166e+00        1.067e+00       -1.762e-01  \n",
      "        married         joadmin.    joblue.collar   joentrepreneur  \n",
      "     -3.394e-01        2.965e-01       -1.671e-01       -1.073e-01  \n",
      "    johousemaid     jomanagement        joretired  joself.employed  \n",
      "     -2.776e-01        2.380e-01        6.315e-01        1.962e-02  \n",
      "     joservices        jostudent     jotechnician     jounemployed  \n",
      "     -3.688e-02        8.087e-01        6.383e-02        8.167e-02  \n",
      "\n",
      "Degrees of Freedom: 45210 Total (i.e. Null);  45183 Residual\n",
      "Null Deviance:\t    32630 \n",
      "Residual Deviance: 22640 \tAIC: 22700\n"
     ]
    }
   ],
   "source": [
    "print(final)"
   ]
  },
  {
   "cell_type": "code",
   "execution_count": 35,
   "metadata": {},
   "outputs": [
    {
     "data": {
      "image/png": "[encoded data removed]",
      "text/plain": [
       "Plot with title \"\""
      ]
     },
     "metadata": {
      "image/png": {
       "height": 420,
       "width": 420
      }
     },
     "output_type": "display_data"
    },
    {
     "data": {
      "image/png": "[encoded data removed]",
      "text/plain": [
       "Plot with title \"\""
      ]
     },
     "metadata": {
      "image/png": {
       "height": 420,
       "width": 420
      }
     },
     "output_type": "display_data"
    },
    {
     "data": {
      "image/png": "[encoded data removed]",
      "text/plain": [
       "Plot with title \"\""
      ]
     },
     "metadata": {
      "image/png": {
       "height": 420,
       "width": 420
      }
     },
     "output_type": "display_data"
    },
    {
     "data": {
      "image/png": "[encoded data removed]",
      "text/plain": [
       "Plot with title \"\""
      ]
     },
     "metadata": {
      "image/png": {
       "height": 420,
       "width": 420
      }
     },
     "output_type": "display_data"
    }
   ],
   "source": [
    "plot(final) # plotting view of data model we made"
   ]
  },
  {
   "cell_type": "markdown",
   "metadata": {},
   "source": [
    "### Lets Check our probablity and prediction accuracy"
   ]
  },
  {
   "cell_type": "code",
   "execution_count": 36,
   "metadata": {},
   "outputs": [],
   "source": [
    "fitted.probabilities <- predict(final,newdata=final.test,type='response')"
   ]
  },
  {
   "cell_type": "code",
   "execution_count": 37,
   "metadata": {},
   "outputs": [
    {
     "data": {
      "image/png": "[encoded data removed]",
      "text/plain": [
       "plot without title"
      ]
     },
     "metadata": {
      "image/png": {
       "height": 420,
       "width": 420
      }
     },
     "output_type": "display_data"
    }
   ],
   "source": [
    "plot(fitted.probabilities) # like we can see our probabliteis values "
   ]
  },
  {
   "cell_type": "code",
   "execution_count": 38,
   "metadata": {},
   "outputs": [
    {
     "data": {
      "text/html": [
       "<style>\n",
       ".dl-inline {width: auto; margin:0; padding: 0}\n",
       ".dl-inline>dt, .dl-inline>dd {float: none; width: auto; display: inline-block}\n",
       ".dl-inline>dt::after {content: \":\\0020\"; padding-right: .5ex}\n",
       ".dl-inline>dt:not(:first-of-type) {padding-left: .5ex}\n",
       "</style><dl class=dl-inline><dt>3</dt><dd>0.00432519875328853</dd><dt>11</dt><dd>0.0241013035068483</dd><dt>12</dt><dd>0.0204119873279405</dd><dt>13</dt><dd>0.051971980462455</dd><dt>14</dt><dd>0.00896094678608847</dd><dt>17</dt><dd>0.0174602626084017</dd></dl>\n"
      ],
      "text/latex": [
       "\\begin{description*}\n",
       "\\item[3] 0.00432519875328853\n",
       "\\item[11] 0.0241013035068483\n",
       "\\item[12] 0.0204119873279405\n",
       "\\item[13] 0.051971980462455\n",
       "\\item[14] 0.00896094678608847\n",
       "\\item[17] 0.0174602626084017\n",
       "\\end{description*}\n"
      ],
      "text/markdown": [
       "3\n",
       ":   0.0043251987532885311\n",
       ":   0.024101303506848312\n",
       ":   0.020411987327940513\n",
       ":   0.05197198046245514\n",
       ":   0.0089609467860884717\n",
       ":   0.0174602626084017\n",
       "\n"
      ],
      "text/plain": [
       "          3          11          12          13          14          17 \n",
       "0.004325199 0.024101304 0.020411987 0.051971980 0.008960947 0.017460263 "
      ]
     },
     "metadata": {},
     "output_type": "display_data"
    }
   ],
   "source": [
    "head(fitted.probabilities)"
   ]
  },
  {
   "cell_type": "code",
   "execution_count": 40,
   "metadata": {},
   "outputs": [],
   "source": [
    "fitted.results <- ifelse(fitted.probabilities > 0.5,1,0)\n",
    "yes_no  <- ifelse(fitted.probabilities > 0.5, \"Yes\",\"No\")"
   ]
  },
  {
   "cell_type": "code",
   "execution_count": 41,
   "metadata": {},
   "outputs": [
    {
     "data": {
      "text/html": [
       "<style>\n",
       ".dl-inline {width: auto; margin:0; padding: 0}\n",
       ".dl-inline>dt, .dl-inline>dd {float: none; width: auto; display: inline-block}\n",
       ".dl-inline>dt::after {content: \":\\0020\"; padding-right: .5ex}\n",
       ".dl-inline>dt:not(:first-of-type) {padding-left: .5ex}\n",
       "</style><dl class=dl-inline><dt>3</dt><dd>0</dd><dt>11</dt><dd>0</dd><dt>12</dt><dd>0</dd><dt>13</dt><dd>0</dd><dt>14</dt><dd>0</dd><dt>17</dt><dd>0</dd></dl>\n"
      ],
      "text/latex": [
       "\\begin{description*}\n",
       "\\item[3] 0\n",
       "\\item[11] 0\n",
       "\\item[12] 0\n",
       "\\item[13] 0\n",
       "\\item[14] 0\n",
       "\\item[17] 0\n",
       "\\end{description*}\n"
      ],
      "text/markdown": [
       "3\n",
       ":   011\n",
       ":   012\n",
       ":   013\n",
       ":   014\n",
       ":   017\n",
       ":   0\n",
       "\n"
      ],
      "text/plain": [
       " 3 11 12 13 14 17 \n",
       " 0  0  0  0  0  0 "
      ]
     },
     "metadata": {},
     "output_type": "display_data"
    }
   ],
   "source": [
    "head(fitted.results) # will give result 0 or 1"
   ]
  },
  {
   "cell_type": "code",
   "execution_count": 44,
   "metadata": {},
   "outputs": [],
   "source": [
    "misClasificError <- mean(fitted.results != final.test$y)"
   ]
  },
  {
   "cell_type": "markdown",
   "metadata": {},
   "source": [
    "### Accuracy sencitivity and pecificity"
   ]
  },
  {
   "cell_type": "code",
   "execution_count": 45,
   "metadata": {},
   "outputs": [
    {
     "name": "stdout",
     "output_type": "stream",
     "text": [
      "[1] \"Accuracy 0.901503981126511\"\n"
     ]
    }
   ],
   "source": [
    "print(paste('Accuracy',1-misClasificError)) # accuracy of our model is with 90% accuracy "
   ]
  },
  {
   "cell_type": "code",
   "execution_count": 47,
   "metadata": {},
   "outputs": [
    {
     "data": {
      "text/plain": [
       "                actual_values\n",
       "predicted_values     0     1\n",
       "               0 39013  3587\n",
       "               1   909  1702"
      ]
     },
     "metadata": {},
     "output_type": "display_data"
    }
   ],
   "source": [
    "threshold=0.5\n",
    "predicted_values<-ifelse(predict(final,type=\"response\")>threshold,1,0)\n",
    "actual_values<-final$y\n",
    "conf_matrix<-table(predicted_values,actual_values)\n",
    "conf_matrix"
   ]
  },
  {
   "cell_type": "code",
   "execution_count": 48,
   "metadata": {},
   "outputs": [
    {
     "name": "stderr",
     "output_type": "stream",
     "text": [
      "Warning message:\n",
      "\"package 'caret' was built under R version 3.6.3\"\n",
      "\n",
      "Attaching package: 'caret'\n",
      "\n",
      "\n",
      "The following object is masked from 'package:survival':\n",
      "\n",
      "    cluster\n",
      "\n",
      "\n"
     ]
    }
   ],
   "source": [
    "library('caret')"
   ]
  },
  {
   "cell_type": "code",
   "execution_count": 49,
   "metadata": {},
   "outputs": [
    {
     "data": {
      "text/html": [
       "0.977230599669355"
      ],
      "text/latex": [
       "0.977230599669355"
      ],
      "text/markdown": [
       "0.977230599669355"
      ],
      "text/plain": [
       "[1] 0.9772306"
      ]
     },
     "metadata": {},
     "output_type": "display_data"
    }
   ],
   "source": [
    "sensitivity(conf_matrix)"
   ]
  },
  {
   "cell_type": "code",
   "execution_count": 50,
   "metadata": {},
   "outputs": [
    {
     "data": {
      "text/html": [
       "0.321799962185668"
      ],
      "text/latex": [
       "0.321799962185668"
      ],
      "text/markdown": [
       "0.321799962185668"
      ],
      "text/plain": [
       "[1] 0.3218"
      ]
     },
     "metadata": {},
     "output_type": "display_data"
    }
   ],
   "source": [
    "specificity(conf_matrix)"
   ]
  },
  {
   "cell_type": "markdown",
   "metadata": {},
   "source": [
    "### Roc Curve "
   ]
  },
  {
   "cell_type": "code",
   "execution_count": 51,
   "metadata": {},
   "outputs": [
    {
     "name": "stderr",
     "output_type": "stream",
     "text": [
      "Warning message:\n",
      "\"package 'Epi' was built under R version 3.6.3\"\n"
     ]
    }
   ],
   "source": [
    "library(Epi)"
   ]
  },
  {
   "cell_type": "code",
   "execution_count": 52,
   "metadata": {},
   "outputs": [
    {
     "name": "stderr",
     "output_type": "stream",
     "text": [
      "Warning message:\n",
      "\"glm.fit: algorithm did not converge\"\n",
      "Warning message:\n",
      "\"glm.fit: fitted probabilities numerically 0 or 1 occurred\"\n"
     ]
    },
    {
     "data": {
      "image/png": "[encoded data removed]",
      "text/plain": [
       "plot without title"
      ]
     },
     "metadata": {
      "image/png": {
       "height": 420,
       "width": 420
      }
     },
     "output_type": "display_data"
    },
    {
     "data": {
      "image/png": "[encoded data removed]",
      "text/plain": [
       "plot without title"
      ]
     },
     "metadata": {
      "image/png": {
       "height": 420,
       "width": 420
      }
     },
     "output_type": "display_data"
    }
   ],
   "source": [
    "ROC(fitted.probabilities,fitted.results)"
   ]
  },
  {
   "cell_type": "code",
   "execution_count": 54,
   "metadata": {},
   "outputs": [
    {
     "data": {
      "text/html": [
       "<style>\n",
       ".dl-inline {width: auto; margin:0; padding: 0}\n",
       ".dl-inline>dt, .dl-inline>dd {float: none; width: auto; display: inline-block}\n",
       ".dl-inline>dt::after {content: \":\\0020\"; padding-right: .5ex}\n",
       ".dl-inline>dt:not(:first-of-type) {padding-left: .5ex}\n",
       "</style><dl class=dl-inline><dt>(Intercept)</dt><dd>0.0211816655138256</dd><dt>age</dt><dd>1.00035671636596</dd><dt>default</dt><dd>0.833399095102891</dd><dt>balance</dt><dd>1.00001871690757</dd><dt>housing</dt><dd>0.46043207957365</dd><dt>loan</dt><dd>0.564407588068169</dd><dt>duration</dt><dd>1.00405573276501</dd><dt>campaign</dt><dd>0.896437281766818</dd><dt>pdays</dt><dd>1.00014414920488</dd><dt>previous</dt><dd>1.01047742902606</dd><dt>poutfailure</dt><dd>1.29208604778787</dd><dt>poutother</dt><dd>1.64624413267964</dd><dt>poutsuccess</dt><dd>12.9977820709523</dd><dt>con_cellular</dt><dd>3.20841568636087</dd><dt>con_telephone</dt><dd>2.90721485630303</dd><dt>divorced</dt><dd>0.838486307272283</dd><dt>married</dt><dd>0.712187505144161</dd><dt>joadmin.</dt><dd>1.34516468215483</dd><dt>joblue.collar</dt><dd>0.846125770132817</dd><dt>joentrepreneur</dt><dd>0.898248153553541</dd><dt>johousemaid</dt><dd>0.757576822596176</dd><dt>jomanagement</dt><dd>1.26874376156686</dd><dt>joretired</dt><dd>1.88051971861863</dd><dt>joself.employed</dt><dd>1.01981818232974</dd><dt>joservices</dt><dd>0.963788773515402</dd><dt>jostudent</dt><dd>2.24502192066462</dd><dt>jotechnician</dt><dd>1.0659078840298</dd><dt>jounemployed</dt><dd>1.08509560946073</dd></dl>\n"
      ],
      "text/latex": [
       "\\begin{description*}\n",
       "\\item[(Intercept)] 0.0211816655138256\n",
       "\\item[age] 1.00035671636596\n",
       "\\item[default] 0.833399095102891\n",
       "\\item[balance] 1.00001871690757\n",
       "\\item[housing] 0.46043207957365\n",
       "\\item[loan] 0.564407588068169\n",
       "\\item[duration] 1.00405573276501\n",
       "\\item[campaign] 0.896437281766818\n",
       "\\item[pdays] 1.00014414920488\n",
       "\\item[previous] 1.01047742902606\n",
       "\\item[poutfailure] 1.29208604778787\n",
       "\\item[poutother] 1.64624413267964\n",
       "\\item[poutsuccess] 12.9977820709523\n",
       "\\item[con\\textbackslash{}\\_cellular] 3.20841568636087\n",
       "\\item[con\\textbackslash{}\\_telephone] 2.90721485630303\n",
       "\\item[divorced] 0.838486307272283\n",
       "\\item[married] 0.712187505144161\n",
       "\\item[joadmin.] 1.34516468215483\n",
       "\\item[joblue.collar] 0.846125770132817\n",
       "\\item[joentrepreneur] 0.898248153553541\n",
       "\\item[johousemaid] 0.757576822596176\n",
       "\\item[jomanagement] 1.26874376156686\n",
       "\\item[joretired] 1.88051971861863\n",
       "\\item[joself.employed] 1.01981818232974\n",
       "\\item[joservices] 0.963788773515402\n",
       "\\item[jostudent] 2.24502192066462\n",
       "\\item[jotechnician] 1.0659078840298\n",
       "\\item[jounemployed] 1.08509560946073\n",
       "\\end{description*}\n"
      ],
      "text/markdown": [
       "(Intercept)\n",
       ":   0.0211816655138256age\n",
       ":   1.00035671636596default\n",
       ":   0.833399095102891balance\n",
       ":   1.00001871690757housing\n",
       ":   0.46043207957365loan\n",
       ":   0.564407588068169duration\n",
       ":   1.00405573276501campaign\n",
       ":   0.896437281766818pdays\n",
       ":   1.00014414920488previous\n",
       ":   1.01047742902606poutfailure\n",
       ":   1.29208604778787poutother\n",
       ":   1.64624413267964poutsuccess\n",
       ":   12.9977820709523con_cellular\n",
       ":   3.20841568636087con_telephone\n",
       ":   2.90721485630303divorced\n",
       ":   0.838486307272283married\n",
       ":   0.712187505144161joadmin.\n",
       ":   1.34516468215483joblue.collar\n",
       ":   0.846125770132817joentrepreneur\n",
       ":   0.898248153553541johousemaid\n",
       ":   0.757576822596176jomanagement\n",
       ":   1.26874376156686joretired\n",
       ":   1.88051971861863joself.employed\n",
       ":   1.01981818232974joservices\n",
       ":   0.963788773515402jostudent\n",
       ":   2.24502192066462jotechnician\n",
       ":   1.0659078840298jounemployed\n",
       ":   1.08509560946073\n",
       "\n"
      ],
      "text/plain": [
       "    (Intercept)             age         default         balance         housing \n",
       "     0.02118167      1.00035672      0.83339910      1.00001872      0.46043208 \n",
       "           loan        duration        campaign           pdays        previous \n",
       "     0.56440759      1.00405573      0.89643728      1.00014415      1.01047743 \n",
       "    poutfailure       poutother     poutsuccess    con_cellular   con_telephone \n",
       "     1.29208605      1.64624413     12.99778207      3.20841569      2.90721486 \n",
       "       divorced         married        joadmin.   joblue.collar  joentrepreneur \n",
       "     0.83848631      0.71218751      1.34516468      0.84612577      0.89824815 \n",
       "    johousemaid    jomanagement       joretired joself.employed      joservices \n",
       "     0.75757682      1.26874376      1.88051972      1.01981818      0.96378877 \n",
       "      jostudent    jotechnician    jounemployed \n",
       "     2.24502192      1.06590788      1.08509561 "
      ]
     },
     "metadata": {},
     "output_type": "display_data"
    }
   ],
   "source": [
    "#lets check coefficient of our model\n",
    "exp(coef(final))"
   ]
  },
  {
   "cell_type": "code",
   "execution_count": null,
   "metadata": {},
   "outputs": [],
   "source": []
  }
 ],
 "metadata": {
  "kernelspec": {
   "display_name": "R",
   "language": "R",
   "name": "ir"
  },
  "language_info": {
   "codemirror_mode": "r",
   "file_extension": ".r",
   "mimetype": "text/x-r-source",
   "name": "R",
   "pygments_lexer": "r",
   "version": "3.6.2"
  }
 },
 "nbformat": 4,
 "nbformat_minor": 4
}
