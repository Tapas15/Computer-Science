{
 "cells": [
  {
   "cell_type": "code",
   "execution_count": 1,
   "metadata": {},
   "outputs": [],
   "source": [
    "#Assignment module 6 Simple linear regression Year_exp data \n",
    "\n",
    "# lets import files Salary and calories \n",
    "sal <- read.csv(file.choose())"
   ]
  },
  {
   "cell_type": "code",
   "execution_count": 9,
   "metadata": {},
   "outputs": [
    {
     "data": {
      "text/html": [
       "<table>\n",
       "<caption>A data.frame: 10 × 2</caption>\n",
       "<thead>\n",
       "\t<tr><th></th><th scope=col>Year_exp</th><th scope=col>Salary</th></tr>\n",
       "\t<tr><th></th><th scope=col>&lt;dbl&gt;</th><th scope=col>&lt;dbl&gt;</th></tr>\n",
       "</thead>\n",
       "<tbody>\n",
       "\t<tr><th scope=row>1</th><td>1.1</td><td>39343</td></tr>\n",
       "\t<tr><th scope=row>2</th><td>1.3</td><td>46205</td></tr>\n",
       "\t<tr><th scope=row>3</th><td>1.5</td><td>37731</td></tr>\n",
       "\t<tr><th scope=row>4</th><td>2.0</td><td>43525</td></tr>\n",
       "\t<tr><th scope=row>5</th><td>2.2</td><td>39891</td></tr>\n",
       "\t<tr><th scope=row>6</th><td>2.9</td><td>56642</td></tr>\n",
       "\t<tr><th scope=row>7</th><td>3.0</td><td>60150</td></tr>\n",
       "\t<tr><th scope=row>8</th><td>3.2</td><td>54445</td></tr>\n",
       "\t<tr><th scope=row>9</th><td>3.2</td><td>64445</td></tr>\n",
       "\t<tr><th scope=row>10</th><td>3.7</td><td>57189</td></tr>\n",
       "</tbody>\n",
       "</table>\n"
      ],
      "text/latex": [
       "A data.frame: 10 × 2\n",
       "\\begin{tabular}{r|ll}\n",
       "  & Year\\_exp & Salary\\\\\n",
       "  & <dbl> & <dbl>\\\\\n",
       "\\hline\n",
       "\t1 & 1.1 & 39343\\\\\n",
       "\t2 & 1.3 & 46205\\\\\n",
       "\t3 & 1.5 & 37731\\\\\n",
       "\t4 & 2.0 & 43525\\\\\n",
       "\t5 & 2.2 & 39891\\\\\n",
       "\t6 & 2.9 & 56642\\\\\n",
       "\t7 & 3.0 & 60150\\\\\n",
       "\t8 & 3.2 & 54445\\\\\n",
       "\t9 & 3.2 & 64445\\\\\n",
       "\t10 & 3.7 & 57189\\\\\n",
       "\\end{tabular}\n"
      ],
      "text/markdown": [
       "\n",
       "A data.frame: 10 × 2\n",
       "\n",
       "| <!--/--> | Year_exp &lt;dbl&gt; | Salary &lt;dbl&gt; |\n",
       "|---|---|---|\n",
       "| 1 | 1.1 | 39343 |\n",
       "| 2 | 1.3 | 46205 |\n",
       "| 3 | 1.5 | 37731 |\n",
       "| 4 | 2.0 | 43525 |\n",
       "| 5 | 2.2 | 39891 |\n",
       "| 6 | 2.9 | 56642 |\n",
       "| 7 | 3.0 | 60150 |\n",
       "| 8 | 3.2 | 54445 |\n",
       "| 9 | 3.2 | 64445 |\n",
       "| 10 | 3.7 | 57189 |\n",
       "\n"
      ],
      "text/plain": [
       "   Year_exp Salary\n",
       "1  1.1      39343 \n",
       "2  1.3      46205 \n",
       "3  1.5      37731 \n",
       "4  2.0      43525 \n",
       "5  2.2      39891 \n",
       "6  2.9      56642 \n",
       "7  3.0      60150 \n",
       "8  3.2      54445 \n",
       "9  3.2      64445 \n",
       "10 3.7      57189 "
      ]
     },
     "metadata": {},
     "output_type": "display_data"
    }
   ],
   "source": [
    "sal[0:10,]"
   ]
  },
  {
   "cell_type": "markdown",
   "metadata": {},
   "source": [
    " ########################################### DATA pre processing #############################################################"
   ]
  },
  {
   "cell_type": "code",
   "execution_count": 4,
   "metadata": {},
   "outputs": [
    {
     "name": "stdout",
     "output_type": "stream",
     "text": [
      "'data.frame':\t30 obs. of  2 variables:\n",
      " $ YearsExperience: num  1.1 1.3 1.5 2 2.2 2.9 3 3.2 3.2 3.7 ...\n",
      " $ Salary         : num  39343 46205 37731 43525 39891 ...\n"
     ]
    },
    {
     "data": {
      "text/plain": [
       " YearsExperience      Salary      \n",
       " Min.   : 1.100   Min.   : 37731  \n",
       " 1st Qu.: 3.200   1st Qu.: 56721  \n",
       " Median : 4.700   Median : 65237  \n",
       " Mean   : 5.313   Mean   : 76003  \n",
       " 3rd Qu.: 7.700   3rd Qu.:100545  \n",
       " Max.   :10.500   Max.   :122391  "
      ]
     },
     "metadata": {},
     "output_type": "display_data"
    }
   ],
   "source": [
    "# structure of data frame , it is the data relating to yearofExperience  and salaries \n",
    "str(sal) # data type is integer \n",
    "attach(sal)\n",
    "summary(sal)\n"
   ]
  },
  {
   "cell_type": "code",
   "execution_count": 6,
   "metadata": {},
   "outputs": [
    {
     "data": {
      "text/html": [
       "<style>\n",
       ".list-inline {list-style: none; margin:0; padding: 0}\n",
       ".list-inline>li {display: inline-block}\n",
       ".list-inline>li:not(:last-child)::after {content: \"\\00b7\"; padding: 0 .5ex}\n",
       "</style>\n",
       "<ol class=list-inline><li>'YearsExperience'</li><li>'Salary'</li></ol>\n"
      ],
      "text/latex": [
       "\\begin{enumerate*}\n",
       "\\item 'YearsExperience'\n",
       "\\item 'Salary'\n",
       "\\end{enumerate*}\n"
      ],
      "text/markdown": [
       "1. 'YearsExperience'\n",
       "2. 'Salary'\n",
       "\n",
       "\n"
      ],
      "text/plain": [
       "[1] \"YearsExperience\" \"Salary\"         "
      ]
     },
     "metadata": {},
     "output_type": "display_data"
    }
   ],
   "source": [
    "colnames(sal) # Viewing and checking column names "
   ]
  },
  {
   "cell_type": "code",
   "execution_count": 11,
   "metadata": {},
   "outputs": [
    {
     "data": {
      "text/html": [
       "<table>\n",
       "<caption>A data.frame: 10 × 2</caption>\n",
       "<thead>\n",
       "\t<tr><th></th><th scope=col>Year_exp</th><th scope=col>Salary</th></tr>\n",
       "\t<tr><th></th><th scope=col>&lt;dbl&gt;</th><th scope=col>&lt;dbl&gt;</th></tr>\n",
       "</thead>\n",
       "<tbody>\n",
       "\t<tr><th scope=row>1</th><td>1.1</td><td>39343</td></tr>\n",
       "\t<tr><th scope=row>2</th><td>1.3</td><td>46205</td></tr>\n",
       "\t<tr><th scope=row>3</th><td>1.5</td><td>37731</td></tr>\n",
       "\t<tr><th scope=row>4</th><td>2.0</td><td>43525</td></tr>\n",
       "\t<tr><th scope=row>5</th><td>2.2</td><td>39891</td></tr>\n",
       "\t<tr><th scope=row>6</th><td>2.9</td><td>56642</td></tr>\n",
       "\t<tr><th scope=row>7</th><td>3.0</td><td>60150</td></tr>\n",
       "\t<tr><th scope=row>8</th><td>3.2</td><td>54445</td></tr>\n",
       "\t<tr><th scope=row>9</th><td>3.2</td><td>64445</td></tr>\n",
       "\t<tr><th scope=row>10</th><td>3.7</td><td>57189</td></tr>\n",
       "</tbody>\n",
       "</table>\n"
      ],
      "text/latex": [
       "A data.frame: 10 × 2\n",
       "\\begin{tabular}{r|ll}\n",
       "  & Year\\_exp & Salary\\\\\n",
       "  & <dbl> & <dbl>\\\\\n",
       "\\hline\n",
       "\t1 & 1.1 & 39343\\\\\n",
       "\t2 & 1.3 & 46205\\\\\n",
       "\t3 & 1.5 & 37731\\\\\n",
       "\t4 & 2.0 & 43525\\\\\n",
       "\t5 & 2.2 & 39891\\\\\n",
       "\t6 & 2.9 & 56642\\\\\n",
       "\t7 & 3.0 & 60150\\\\\n",
       "\t8 & 3.2 & 54445\\\\\n",
       "\t9 & 3.2 & 64445\\\\\n",
       "\t10 & 3.7 & 57189\\\\\n",
       "\\end{tabular}\n"
      ],
      "text/markdown": [
       "\n",
       "A data.frame: 10 × 2\n",
       "\n",
       "| <!--/--> | Year_exp &lt;dbl&gt; | Salary &lt;dbl&gt; |\n",
       "|---|---|---|\n",
       "| 1 | 1.1 | 39343 |\n",
       "| 2 | 1.3 | 46205 |\n",
       "| 3 | 1.5 | 37731 |\n",
       "| 4 | 2.0 | 43525 |\n",
       "| 5 | 2.2 | 39891 |\n",
       "| 6 | 2.9 | 56642 |\n",
       "| 7 | 3.0 | 60150 |\n",
       "| 8 | 3.2 | 54445 |\n",
       "| 9 | 3.2 | 64445 |\n",
       "| 10 | 3.7 | 57189 |\n",
       "\n"
      ],
      "text/plain": [
       "   Year_exp Salary\n",
       "1  1.1      39343 \n",
       "2  1.3      46205 \n",
       "3  1.5      37731 \n",
       "4  2.0      43525 \n",
       "5  2.2      39891 \n",
       "6  2.9      56642 \n",
       "7  3.0      60150 \n",
       "8  3.2      54445 \n",
       "9  3.2      64445 \n",
       "10 3.7      57189 "
      ]
     },
     "metadata": {},
     "output_type": "display_data"
    },
    {
     "name": "stderr",
     "output_type": "stream",
     "text": [
      "The following objects are masked from sal (pos = 3):\n",
      "\n",
      "    Salary, Year_exp\n",
      "\n",
      "\n",
      "The following object is masked from sal (pos = 4):\n",
      "\n",
      "    Salary\n",
      "\n",
      "\n"
     ]
    }
   ],
   "source": [
    "# Rename column where names is \"Sepal.Length\"\n",
    "names(sal)[names(sal) == 'YearsExperience'] <- \"Year_exp\" # renaming column name for convinience\n",
    "names(sal)[names(sal) == 'Salary'] <- \"Salary\"\n",
    "sal[0:10,]\n",
    "attach(sal) # afte changing attaching value"
   ]
  },
  {
   "cell_type": "code",
   "execution_count": 8,
   "metadata": {},
   "outputs": [
    {
     "data": {
      "text/html": [
       "<style>\n",
       ".list-inline {list-style: none; margin:0; padding: 0}\n",
       ".list-inline>li {display: inline-block}\n",
       ".list-inline>li:not(:last-child)::after {content: \"\\00b7\"; padding: 0 .5ex}\n",
       "</style>\n",
       "<ol class=list-inline><li>39343</li><li>46205</li><li>37731</li><li>43525</li><li>39891</li><li>56642</li><li>60150</li><li>54445</li><li>64445</li><li>57189</li><li>63218</li><li>55794</li><li>56957</li><li>57081</li><li>61111</li><li>67938</li><li>66029</li><li>83088</li><li>81363</li><li>93940</li><li>91738</li><li>98273</li><li>101302</li><li>113812</li><li>109431</li><li>105582</li><li>116969</li><li>112635</li><li>122391</li><li>121872</li></ol>\n"
      ],
      "text/latex": [
       "\\begin{enumerate*}\n",
       "\\item 39343\n",
       "\\item 46205\n",
       "\\item 37731\n",
       "\\item 43525\n",
       "\\item 39891\n",
       "\\item 56642\n",
       "\\item 60150\n",
       "\\item 54445\n",
       "\\item 64445\n",
       "\\item 57189\n",
       "\\item 63218\n",
       "\\item 55794\n",
       "\\item 56957\n",
       "\\item 57081\n",
       "\\item 61111\n",
       "\\item 67938\n",
       "\\item 66029\n",
       "\\item 83088\n",
       "\\item 81363\n",
       "\\item 93940\n",
       "\\item 91738\n",
       "\\item 98273\n",
       "\\item 101302\n",
       "\\item 113812\n",
       "\\item 109431\n",
       "\\item 105582\n",
       "\\item 116969\n",
       "\\item 112635\n",
       "\\item 122391\n",
       "\\item 121872\n",
       "\\end{enumerate*}\n"
      ],
      "text/markdown": [
       "1. 39343\n",
       "2. 46205\n",
       "3. 37731\n",
       "4. 43525\n",
       "5. 39891\n",
       "6. 56642\n",
       "7. 60150\n",
       "8. 54445\n",
       "9. 64445\n",
       "10. 57189\n",
       "11. 63218\n",
       "12. 55794\n",
       "13. 56957\n",
       "14. 57081\n",
       "15. 61111\n",
       "16. 67938\n",
       "17. 66029\n",
       "18. 83088\n",
       "19. 81363\n",
       "20. 93940\n",
       "21. 91738\n",
       "22. 98273\n",
       "23. 101302\n",
       "24. 113812\n",
       "25. 109431\n",
       "26. 105582\n",
       "27. 116969\n",
       "28. 112635\n",
       "29. 122391\n",
       "30. 121872\n",
       "\n",
       "\n"
      ],
      "text/plain": [
       " [1]  39343  46205  37731  43525  39891  56642  60150  54445  64445  57189\n",
       "[11]  63218  55794  56957  57081  61111  67938  66029  83088  81363  93940\n",
       "[21]  91738  98273 101302 113812 109431 105582 116969 112635 122391 121872"
      ]
     },
     "metadata": {},
     "output_type": "display_data"
    },
    {
     "data": {
      "text/html": [
       "<style>\n",
       ".list-inline {list-style: none; margin:0; padding: 0}\n",
       ".list-inline>li {display: inline-block}\n",
       ".list-inline>li:not(:last-child)::after {content: \"\\00b7\"; padding: 0 .5ex}\n",
       "</style>\n",
       "<ol class=list-inline><li>1.1</li><li>1.3</li><li>1.5</li><li>2</li><li>2.2</li><li>2.9</li><li>3</li><li>3.2</li><li>3.2</li><li>3.7</li><li>3.9</li><li>4</li><li>4</li><li>4.1</li><li>4.5</li><li>4.9</li><li>5.1</li><li>5.3</li><li>5.9</li><li>6</li><li>6.8</li><li>7.1</li><li>7.9</li><li>8.2</li><li>8.7</li><li>9</li><li>9.5</li><li>9.6</li><li>10.3</li><li>10.5</li></ol>\n"
      ],
      "text/latex": [
       "\\begin{enumerate*}\n",
       "\\item 1.1\n",
       "\\item 1.3\n",
       "\\item 1.5\n",
       "\\item 2\n",
       "\\item 2.2\n",
       "\\item 2.9\n",
       "\\item 3\n",
       "\\item 3.2\n",
       "\\item 3.2\n",
       "\\item 3.7\n",
       "\\item 3.9\n",
       "\\item 4\n",
       "\\item 4\n",
       "\\item 4.1\n",
       "\\item 4.5\n",
       "\\item 4.9\n",
       "\\item 5.1\n",
       "\\item 5.3\n",
       "\\item 5.9\n",
       "\\item 6\n",
       "\\item 6.8\n",
       "\\item 7.1\n",
       "\\item 7.9\n",
       "\\item 8.2\n",
       "\\item 8.7\n",
       "\\item 9\n",
       "\\item 9.5\n",
       "\\item 9.6\n",
       "\\item 10.3\n",
       "\\item 10.5\n",
       "\\end{enumerate*}\n"
      ],
      "text/markdown": [
       "1. 1.1\n",
       "2. 1.3\n",
       "3. 1.5\n",
       "4. 2\n",
       "5. 2.2\n",
       "6. 2.9\n",
       "7. 3\n",
       "8. 3.2\n",
       "9. 3.2\n",
       "10. 3.7\n",
       "11. 3.9\n",
       "12. 4\n",
       "13. 4\n",
       "14. 4.1\n",
       "15. 4.5\n",
       "16. 4.9\n",
       "17. 5.1\n",
       "18. 5.3\n",
       "19. 5.9\n",
       "20. 6\n",
       "21. 6.8\n",
       "22. 7.1\n",
       "23. 7.9\n",
       "24. 8.2\n",
       "25. 8.7\n",
       "26. 9\n",
       "27. 9.5\n",
       "28. 9.6\n",
       "29. 10.3\n",
       "30. 10.5\n",
       "\n",
       "\n"
      ],
      "text/plain": [
       " [1]  1.1  1.3  1.5  2.0  2.2  2.9  3.0  3.2  3.2  3.7  3.9  4.0  4.0  4.1  4.5\n",
       "[16]  4.9  5.1  5.3  5.9  6.0  6.8  7.1  7.9  8.2  8.7  9.0  9.5  9.6 10.3 10.5"
      ]
     },
     "metadata": {},
     "output_type": "display_data"
    }
   ],
   "source": [
    "Salary # fine its working \n",
    "Year_exp # fine its working "
   ]
  },
  {
   "cell_type": "code",
   "execution_count": 13,
   "metadata": {},
   "outputs": [
    {
     "data": {
      "text/html": [
       "0.336161882559292"
      ],
      "text/latex": [
       "0.336161882559292"
      ],
      "text/markdown": [
       "0.336161882559292"
      ],
      "text/plain": [
       "[1] 0.3361619"
      ]
     },
     "metadata": {},
     "output_type": "display_data"
    },
    {
     "data": {
      "text/html": [
       "0.360312325252556"
      ],
      "text/latex": [
       "0.360312325252556"
      ],
      "text/markdown": [
       "0.360312325252556"
      ],
      "text/plain": [
       "[1] 0.3603123"
      ]
     },
     "metadata": {},
     "output_type": "display_data"
    },
    {
     "data": {
      "image/png": "[encoded data removed]",
      "text/plain": [
       "plot without title"
      ]
     },
     "metadata": {
      "image/png": {
       "height": 420,
       "width": 420
      },
      "text/plain": {
       "height": 420,
       "width": 420
      }
     },
     "output_type": "display_data"
    },
    {
     "data": {
      "image/png": "[encoded data removed]",
      "text/plain": [
       "plot without title"
      ]
     },
     "metadata": {
      "image/png": {
       "height": 420,
       "width": 420
      },
      "text/plain": {
       "height": 420,
       "width": 420
      }
     },
     "output_type": "display_data"
    }
   ],
   "source": [
    "# priliminary investigation for outliers \n",
    "boxplot(sal)\n",
    "# as there is no outliers we can see \n",
    "library(moments) # both aer positive skewness \n",
    "skewness(Salary)\n",
    "skewness(Year_exp)\n",
    "\n",
    "plot(Year_exp,Salary)"
   ]
  },
  {
   "cell_type": "code",
   "execution_count": 14,
   "metadata": {},
   "outputs": [
    {
     "data": {
      "text/html": [
       "<style>\n",
       ".list-inline {list-style: none; margin:0; padding: 0}\n",
       ".list-inline>li {display: inline-block}\n",
       ".list-inline>li:not(:last-child)::after {content: \"\\00b7\"; padding: 0 .5ex}\n",
       "</style>\n",
       "<ol class=list-inline><li>30</li><li>2</li></ol>\n"
      ],
      "text/latex": [
       "\\begin{enumerate*}\n",
       "\\item 30\n",
       "\\item 2\n",
       "\\end{enumerate*}\n"
      ],
      "text/markdown": [
       "1. 30\n",
       "2. 2\n",
       "\n",
       "\n"
      ],
      "text/plain": [
       "[1] 30  2"
      ]
     },
     "metadata": {},
     "output_type": "display_data"
    },
    {
     "name": "stdout",
     "output_type": "stream",
     "text": [
      "'data.frame':\t30 obs. of  2 variables:\n",
      " $ Year_exp: num  1.1 1.3 1.5 2 2.2 2.9 3 3.2 3.2 3.7 ...\n",
      " $ Salary  : num  39343 46205 37731 43525 39891 ...\n"
     ]
    },
    {
     "data": {
      "text/html": [
       "0"
      ],
      "text/latex": [
       "0"
      ],
      "text/markdown": [
       "0"
      ],
      "text/plain": [
       "[1] 0"
      ]
     },
     "metadata": {},
     "output_type": "display_data"
    },
    {
     "data": {
      "text/html": [
       "76003"
      ],
      "text/latex": [
       "76003"
      ],
      "text/markdown": [
       "76003"
      ],
      "text/plain": [
       "[1] 76003"
      ]
     },
     "metadata": {},
     "output_type": "display_data"
    },
    {
     "data": {
      "text/html": [
       "5.31333333333333"
      ],
      "text/latex": [
       "5.31333333333333"
      ],
      "text/markdown": [
       "5.31333333333333"
      ],
      "text/plain": [
       "[1] 5.313333"
      ]
     },
     "metadata": {},
     "output_type": "display_data"
    }
   ],
   "source": [
    "# Pre porcessing data checking for NA values \n",
    "dim(sal)\n",
    "str(sal)  # data frame \n",
    "sum(is.na(sal)==T) # as there is no NA value if 0 there is no na value exist\n",
    "\n",
    "mean(Salary) # checking if perfectly mean is coming or not \n",
    "mean(Year_exp) # mean is proof there is no NA value"
   ]
  },
  {
   "cell_type": "code",
   "execution_count": 15,
   "metadata": {},
   "outputs": [
    {
     "data": {
      "image/png": "[encoded data removed]",
      "text/plain": [
       "Plot with title \"Normal Q-Q Plot\""
      ]
     },
     "metadata": {
      "image/png": {
       "height": 420,
       "width": 420
      },
      "text/plain": {
       "height": 420,
       "width": 420
      }
     },
     "output_type": "display_data"
    },
    {
     "data": {
      "text/html": [
       "0.97824161848876"
      ],
      "text/latex": [
       "0.97824161848876"
      ],
      "text/markdown": [
       "0.97824161848876"
      ],
      "text/plain": [
       "[1] 0.9782416"
      ]
     },
     "metadata": {},
     "output_type": "display_data"
    },
    {
     "data": {
      "image/png": "[encoded data removed]",
      "text/plain": [
       "Plot with title \"Normal Q-Q Plot\""
      ]
     },
     "metadata": {
      "image/png": {
       "height": 420,
       "width": 420
      },
      "text/plain": {
       "height": 420,
       "width": 420
      }
     },
     "output_type": "display_data"
    }
   ],
   "source": [
    "# Just checking how normally data is distributed\n",
    "qqnorm(Salary)\n",
    "qqline(Salary)\n",
    "qqnorm(Year_exp)\n",
    "qqline(Year_exp)\n",
    "cor(Salary,Year_exp) # correlation is0.97824161848876"
   ]
  },
  {
   "cell_type": "code",
   "execution_count": 16,
   "metadata": {},
   "outputs": [
    {
     "name": "stderr",
     "output_type": "stream",
     "text": [
      "The following objects are masked from sal (pos = 5):\n",
      "\n",
      "    Salary, Year_exp\n",
      "\n",
      "\n",
      "The following objects are masked from sal (pos = 6):\n",
      "\n",
      "    Salary, Year_exp\n",
      "\n",
      "\n",
      "The following object is masked from sal (pos = 7):\n",
      "\n",
      "    Salary\n",
      "\n",
      "\n"
     ]
    },
    {
     "data": {
      "text/html": [
       "15"
      ],
      "text/latex": [
       "15"
      ],
      "text/markdown": [
       "15"
      ],
      "text/plain": [
       "[1] 15"
      ]
     },
     "metadata": {},
     "output_type": "display_data"
    }
   ],
   "source": [
    "#sample split data into train test 50:50 ratio as dat ais less\n",
    "library(ISLR)\n",
    "attach(sal)\n",
    "smp_siz = floor(0.50*nrow(sal))  # creates a value for dividing the data into train and test. In this case the value is defined as 75% of the number of rows in the dataset\n",
    "smp_siz  # shows the value of the sample size"
   ]
  },
  {
   "cell_type": "code",
   "execution_count": 17,
   "metadata": {},
   "outputs": [],
   "source": [
    "set.seed(123)   # set seed to ensure you always have same random numbers generated\n",
    "train_ind = sample(seq_len(nrow(sal)),size = smp_siz)  # Randomly identifies therows equal to sample size ( defined in previous instruction) from  all the rows of Smarket dataset and stores the row number in train_ind\n",
    "train =sal[train_ind,] #creates the training dataset with row numbers stored in train_ind\n",
    "test=sal[-train_ind,]  # creates the test dataset excluding the row numbers mentioned in train_ind"
   ]
  },
  {
   "cell_type": "code",
   "execution_count": 18,
   "metadata": {},
   "outputs": [
    {
     "data": {
      "text/html": [
       "<table>\n",
       "<caption>A data.frame: 15 × 2</caption>\n",
       "<thead>\n",
       "\t<tr><th></th><th scope=col>Year_exp</th><th scope=col>Salary</th></tr>\n",
       "\t<tr><th></th><th scope=col>&lt;dbl&gt;</th><th scope=col>&lt;dbl&gt;</th></tr>\n",
       "</thead>\n",
       "<tbody>\n",
       "\t<tr><th scope=row>1</th><td> 1.1</td><td> 39343</td></tr>\n",
       "\t<tr><th scope=row>2</th><td> 1.3</td><td> 46205</td></tr>\n",
       "\t<tr><th scope=row>4</th><td> 2.0</td><td> 43525</td></tr>\n",
       "\t<tr><th scope=row>6</th><td> 2.9</td><td> 56642</td></tr>\n",
       "\t<tr><th scope=row>7</th><td> 3.0</td><td> 60150</td></tr>\n",
       "\t<tr><th scope=row>12</th><td> 4.0</td><td> 55794</td></tr>\n",
       "\t<tr><th scope=row>13</th><td> 4.0</td><td> 56957</td></tr>\n",
       "\t<tr><th scope=row>16</th><td> 4.9</td><td> 67938</td></tr>\n",
       "\t<tr><th scope=row>17</th><td> 5.1</td><td> 66029</td></tr>\n",
       "\t<tr><th scope=row>21</th><td> 6.8</td><td> 91738</td></tr>\n",
       "\t<tr><th scope=row>23</th><td> 7.9</td><td>101302</td></tr>\n",
       "\t<tr><th scope=row>25</th><td> 8.7</td><td>109431</td></tr>\n",
       "\t<tr><th scope=row>26</th><td> 9.0</td><td>105582</td></tr>\n",
       "\t<tr><th scope=row>29</th><td>10.3</td><td>122391</td></tr>\n",
       "\t<tr><th scope=row>30</th><td>10.5</td><td>121872</td></tr>\n",
       "</tbody>\n",
       "</table>\n"
      ],
      "text/latex": [
       "A data.frame: 15 × 2\n",
       "\\begin{tabular}{r|ll}\n",
       "  & Year\\_exp & Salary\\\\\n",
       "  & <dbl> & <dbl>\\\\\n",
       "\\hline\n",
       "\t1 &  1.1 &  39343\\\\\n",
       "\t2 &  1.3 &  46205\\\\\n",
       "\t4 &  2.0 &  43525\\\\\n",
       "\t6 &  2.9 &  56642\\\\\n",
       "\t7 &  3.0 &  60150\\\\\n",
       "\t12 &  4.0 &  55794\\\\\n",
       "\t13 &  4.0 &  56957\\\\\n",
       "\t16 &  4.9 &  67938\\\\\n",
       "\t17 &  5.1 &  66029\\\\\n",
       "\t21 &  6.8 &  91738\\\\\n",
       "\t23 &  7.9 & 101302\\\\\n",
       "\t25 &  8.7 & 109431\\\\\n",
       "\t26 &  9.0 & 105582\\\\\n",
       "\t29 & 10.3 & 122391\\\\\n",
       "\t30 & 10.5 & 121872\\\\\n",
       "\\end{tabular}\n"
      ],
      "text/markdown": [
       "\n",
       "A data.frame: 15 × 2\n",
       "\n",
       "| <!--/--> | Year_exp &lt;dbl&gt; | Salary &lt;dbl&gt; |\n",
       "|---|---|---|\n",
       "| 1 |  1.1 |  39343 |\n",
       "| 2 |  1.3 |  46205 |\n",
       "| 4 |  2.0 |  43525 |\n",
       "| 6 |  2.9 |  56642 |\n",
       "| 7 |  3.0 |  60150 |\n",
       "| 12 |  4.0 |  55794 |\n",
       "| 13 |  4.0 |  56957 |\n",
       "| 16 |  4.9 |  67938 |\n",
       "| 17 |  5.1 |  66029 |\n",
       "| 21 |  6.8 |  91738 |\n",
       "| 23 |  7.9 | 101302 |\n",
       "| 25 |  8.7 | 109431 |\n",
       "| 26 |  9.0 | 105582 |\n",
       "| 29 | 10.3 | 122391 |\n",
       "| 30 | 10.5 | 121872 |\n",
       "\n"
      ],
      "text/plain": [
       "   Year_exp Salary\n",
       "1   1.1      39343\n",
       "2   1.3      46205\n",
       "4   2.0      43525\n",
       "6   2.9      56642\n",
       "7   3.0      60150\n",
       "12  4.0      55794\n",
       "13  4.0      56957\n",
       "16  4.9      67938\n",
       "17  5.1      66029\n",
       "21  6.8      91738\n",
       "23  7.9     101302\n",
       "25  8.7     109431\n",
       "26  9.0     105582\n",
       "29 10.3     122391\n",
       "30 10.5     121872"
      ]
     },
     "metadata": {},
     "output_type": "display_data"
    },
    {
     "data": {
      "text/html": [
       "<table>\n",
       "<caption>A data.frame: 15 × 2</caption>\n",
       "<thead>\n",
       "\t<tr><th></th><th scope=col>Year_exp</th><th scope=col>Salary</th></tr>\n",
       "\t<tr><th></th><th scope=col>&lt;dbl&gt;</th><th scope=col>&lt;dbl&gt;</th></tr>\n",
       "</thead>\n",
       "<tbody>\n",
       "\t<tr><th scope=row>15</th><td>4.5</td><td> 61111</td></tr>\n",
       "\t<tr><th scope=row>19</th><td>5.9</td><td> 81363</td></tr>\n",
       "\t<tr><th scope=row>14</th><td>4.1</td><td> 57081</td></tr>\n",
       "\t<tr><th scope=row>3</th><td>1.5</td><td> 37731</td></tr>\n",
       "\t<tr><th scope=row>10</th><td>3.7</td><td> 57189</td></tr>\n",
       "\t<tr><th scope=row>18</th><td>5.3</td><td> 83088</td></tr>\n",
       "\t<tr><th scope=row>22</th><td>7.1</td><td> 98273</td></tr>\n",
       "\t<tr><th scope=row>11</th><td>3.9</td><td> 63218</td></tr>\n",
       "\t<tr><th scope=row>5</th><td>2.2</td><td> 39891</td></tr>\n",
       "\t<tr><th scope=row>20</th><td>6.0</td><td> 93940</td></tr>\n",
       "\t<tr><th scope=row>28</th><td>9.6</td><td>112635</td></tr>\n",
       "\t<tr><th scope=row>24</th><td>8.2</td><td>113812</td></tr>\n",
       "\t<tr><th scope=row>9</th><td>3.2</td><td> 64445</td></tr>\n",
       "\t<tr><th scope=row>27</th><td>9.5</td><td>116969</td></tr>\n",
       "\t<tr><th scope=row>8</th><td>3.2</td><td> 54445</td></tr>\n",
       "</tbody>\n",
       "</table>\n"
      ],
      "text/latex": [
       "A data.frame: 15 × 2\n",
       "\\begin{tabular}{r|ll}\n",
       "  & Year\\_exp & Salary\\\\\n",
       "  & <dbl> & <dbl>\\\\\n",
       "\\hline\n",
       "\t15 & 4.5 &  61111\\\\\n",
       "\t19 & 5.9 &  81363\\\\\n",
       "\t14 & 4.1 &  57081\\\\\n",
       "\t3 & 1.5 &  37731\\\\\n",
       "\t10 & 3.7 &  57189\\\\\n",
       "\t18 & 5.3 &  83088\\\\\n",
       "\t22 & 7.1 &  98273\\\\\n",
       "\t11 & 3.9 &  63218\\\\\n",
       "\t5 & 2.2 &  39891\\\\\n",
       "\t20 & 6.0 &  93940\\\\\n",
       "\t28 & 9.6 & 112635\\\\\n",
       "\t24 & 8.2 & 113812\\\\\n",
       "\t9 & 3.2 &  64445\\\\\n",
       "\t27 & 9.5 & 116969\\\\\n",
       "\t8 & 3.2 &  54445\\\\\n",
       "\\end{tabular}\n"
      ],
      "text/markdown": [
       "\n",
       "A data.frame: 15 × 2\n",
       "\n",
       "| <!--/--> | Year_exp &lt;dbl&gt; | Salary &lt;dbl&gt; |\n",
       "|---|---|---|\n",
       "| 15 | 4.5 |  61111 |\n",
       "| 19 | 5.9 |  81363 |\n",
       "| 14 | 4.1 |  57081 |\n",
       "| 3 | 1.5 |  37731 |\n",
       "| 10 | 3.7 |  57189 |\n",
       "| 18 | 5.3 |  83088 |\n",
       "| 22 | 7.1 |  98273 |\n",
       "| 11 | 3.9 |  63218 |\n",
       "| 5 | 2.2 |  39891 |\n",
       "| 20 | 6.0 |  93940 |\n",
       "| 28 | 9.6 | 112635 |\n",
       "| 24 | 8.2 | 113812 |\n",
       "| 9 | 3.2 |  64445 |\n",
       "| 27 | 9.5 | 116969 |\n",
       "| 8 | 3.2 |  54445 |\n",
       "\n"
      ],
      "text/plain": [
       "   Year_exp Salary\n",
       "15 4.5       61111\n",
       "19 5.9       81363\n",
       "14 4.1       57081\n",
       "3  1.5       37731\n",
       "10 3.7       57189\n",
       "18 5.3       83088\n",
       "22 7.1       98273\n",
       "11 3.9       63218\n",
       "5  2.2       39891\n",
       "20 6.0       93940\n",
       "28 9.6      112635\n",
       "24 8.2      113812\n",
       "9  3.2       64445\n",
       "27 9.5      116969\n",
       "8  3.2       54445"
      ]
     },
     "metadata": {},
     "output_type": "display_data"
    }
   ],
   "source": [
    "test\n",
    "\n",
    "train"
   ]
  },
  {
   "cell_type": "code",
   "execution_count": 19,
   "metadata": {},
   "outputs": [
    {
     "data": {
      "text/html": [
       "5592.04360876066"
      ],
      "text/latex": [
       "5592.04360876066"
      ],
      "text/markdown": [
       "5592.04360876066"
      ],
      "text/plain": [
       "[1] 5592.044"
      ]
     },
     "metadata": {},
     "output_type": "display_data"
    },
    {
     "data": {
      "image/png": "[encoded data removed]",
      "text/plain": [
       "plot without title"
      ]
     },
     "metadata": {
      "image/png": {
       "height": 420,
       "width": 420
      },
      "text/plain": {
       "height": 420,
       "width": 420
      }
     },
     "output_type": "display_data"
    }
   ],
   "source": [
    "# we trying to fit a linear regression line  by plotting linear mosal \n",
    "lm <- lm(Salary~Year_exp,data=sal) # linear mosal\n",
    "rmse <- sqrt(mean(lm$residuals^2))\n",
    "rmse # rmse is too high value \n",
    "plot( Year_exp,Salary) # scatter plot X is Waist and y is AT\n",
    "abline(lm(Salary~Year_exp,data = sal),col = 'red') # made a regression line "
   ]
  },
  {
   "cell_type": "code",
   "execution_count": 20,
   "metadata": {},
   "outputs": [
    {
     "data": {
      "image/png": "[encoded data removed]",
      "text/plain": [
       "Plot with title \"Normal Q-Q Plot\""
      ]
     },
     "metadata": {
      "image/png": {
       "height": 420,
       "width": 420
      },
      "text/plain": {
       "height": 420,
       "width": 420
      }
     },
     "output_type": "display_data"
    },
    {
     "data": {
      "image/png": "[encoded data removed]",
      "text/plain": [
       "Plot with title \"Normal Q-Q Plot\""
      ]
     },
     "metadata": {
      "image/png": {
       "height": 420,
       "width": 420
      },
      "text/plain": {
       "height": 420,
       "width": 420
      }
     },
     "output_type": "display_data"
    },
    {
     "data": {
      "image/png": "[encoded data removed]",
      "text/plain": [
       "Plot with title \"Normal Q-Q Plot\""
      ]
     },
     "metadata": {
      "image/png": {
       "height": 420,
       "width": 420
      },
      "text/plain": {
       "height": 420,
       "width": 420
      }
     },
     "output_type": "display_data"
    },
    {
     "data": {
      "image/png": "[encoded data removed]",
      "text/plain": [
       "Plot with title \"Normal Q-Q Plot\""
      ]
     },
     "metadata": {
      "image/png": {
       "height": 420,
       "width": 420
      },
      "text/plain": {
       "height": 420,
       "width": 420
      }
     },
     "output_type": "display_data"
    },
    {
     "data": {
      "image/png": "[encoded data removed]",
      "text/plain": [
       "Plot with title \"Normal Q-Q Plot\""
      ]
     },
     "metadata": {
      "image/png": {
       "height": 420,
       "width": 420
      },
      "text/plain": {
       "height": 420,
       "width": 420
      }
     },
     "output_type": "display_data"
    },
    {
     "data": {
      "image/png": "[encoded data removed]",
      "text/plain": [
       "Plot with title \"Normal Q-Q Plot\""
      ]
     },
     "metadata": {
      "image/png": {
       "height": 420,
       "width": 420
      },
      "text/plain": {
       "height": 420,
       "width": 420
      }
     },
     "output_type": "display_data"
    },
    {
     "data": {
      "image/png": "[encoded data removed]",
      "text/plain": [
       "Plot with title \"Normal Q-Q Plot\""
      ]
     },
     "metadata": {
      "image/png": {
       "height": 420,
       "width": 420
      },
      "text/plain": {
       "height": 420,
       "width": 420
      }
     },
     "output_type": "display_data"
    }
   ],
   "source": [
    "# Dignosis of mosal in qqnorm mothod\n",
    "\n",
    "qqnorm(resid(lm))# checking linearity residuals of linear mosal\n",
    "qqline(resid(lm)) # trying to fitting a line on the mosal made\n",
    "qqnorm(fitted(lm)) # checking fittled \n",
    "qqline(fitted(lm)) # linear mosal fitting line\n",
    "qqnorm(fitted.values(lm))# checking fitted values\n",
    "qqline(fitted.values(lm))# checking fitted values\n",
    "qqnorm(residuals(lm))# checking residials \n",
    "qqline(residuals(lm))# fitting line on residuals\n",
    "qqnorm(effects(lm)) # effects of lm in quantiles\n",
    "qqline(effects(lm)) # fitting line on effects\n",
    "qqnorm(df.residual(lm)) # checking digree of freedom\n",
    "qqnorm(coefficients(lm))# checking cofficnent point on lm. "
   ]
  },
  {
   "cell_type": "code",
   "execution_count": 21,
   "metadata": {},
   "outputs": [
    {
     "data": {
      "image/png": "[encoded data removed]",
      "text/plain": [
       "Plot with title \"\""
      ]
     },
     "metadata": {
      "image/png": {
       "height": 420,
       "width": 420
      },
      "text/plain": {
       "height": 420,
       "width": 420
      }
     },
     "output_type": "display_data"
    }
   ],
   "source": [
    "# dignostic plot togeather all need to increase size \n",
    "par(mfrow = c(2, 2))\n",
    "plot(lm)"
   ]
  },
  {
   "cell_type": "code",
   "execution_count": 27,
   "metadata": {},
   "outputs": [
    {
     "name": "stdout",
     "output_type": "stream",
     "text": [
      "Potentially influential observations of\n",
      "\t lm(formula = Salary ~ Year_exp, data = sal) :\n",
      "\n",
      "   dfb.1_ dfb.Yr_x dffit cov.r   cook.d hat  \n",
      "29  0.03  -0.05    -0.05  1.25_*  0.00   0.14\n",
      "30  0.14  -0.21    -0.24  1.23_*  0.03   0.15\n"
     ]
    },
    {
     "data": {
      "image/png": "[encoded data removed]",
      "text/plain": [
       "plot without title"
      ]
     },
     "metadata": {
      "image/png": {
       "height": 420,
       "width": 420
      },
      "text/plain": {
       "height": 420,
       "width": 420
      }
     },
     "output_type": "display_data"
    }
   ],
   "source": [
    "#dignostic plot togeather with outliers with autopilot\n",
    "#install.packages(\"ggfortify\")\n",
    "# second method of dignostic plot ggplot 2 \n",
    "library(\"ggplot2\")\n",
    "library(\"tidyverse\")\n",
    "library(\"modelr\")\n",
    "library(\"broom\")\n",
    "library(\"ggfortify\")\n",
    "autoplot(lm)\n",
    "summary(influence.measures(lm)) # we can have influence measure of cookr and hat value"
   ]
  },
  {
   "cell_type": "code",
   "execution_count": 30,
   "metadata": {},
   "outputs": [
    {
     "data": {
      "text/plain": [
       "\n",
       "Call:\n",
       "lm(formula = Salary ~ Year_exp, data = sal)\n",
       "\n",
       "Residuals:\n",
       "    Min      1Q  Median      3Q     Max \n",
       "-7958.0 -4088.5  -459.9  3372.6 11448.0 \n",
       "\n",
       "Coefficients:\n",
       "            Estimate Std. Error t value Pr(>|t|)    \n",
       "(Intercept)  25792.2     2273.1   11.35 5.51e-12 ***\n",
       "Year_exp      9450.0      378.8   24.95  < 2e-16 ***\n",
       "---\n",
       "Signif. codes:  0 '***' 0.001 '**' 0.01 '*' 0.05 '.' 0.1 ' ' 1\n",
       "\n",
       "Residual standard error: 5788 on 28 degrees of freedom\n",
       "Multiple R-squared:  0.957,\tAdjusted R-squared:  0.9554 \n",
       "F-statistic: 622.5 on 1 and 28 DF,  p-value: < 2.2e-16\n"
      ]
     },
     "metadata": {},
     "output_type": "display_data"
    },
    {
     "data": {
      "image/png": "[encoded data removed]",
      "text/plain": [
       "plot without title"
      ]
     },
     "metadata": {
      "image/png": {
       "height": 420,
       "width": 420
      },
      "text/plain": {
       "height": 420,
       "width": 420
      }
     },
     "output_type": "display_data"
    }
   ],
   "source": [
    "# adding regression line with ggplot2 A scattar plot \n",
    "ggplot(sal,aes(x=Year_exp,y=Salary)) +geom_point()+geom_abline(intercept =  25792.2  ,slope =  9450.0  ,color ='red',size =.65 )# visualizsing geoom point \n",
    "\n",
    "summary(lm)\n"
   ]
  },
  {
   "cell_type": "code",
   "execution_count": 31,
   "metadata": {},
   "outputs": [
    {
     "data": {
      "text/plain": [
       "\n",
       "\tShapiro-Wilk normality test\n",
       "\n",
       "data:  Salary\n",
       "W = 0.91032, p-value = 0.01516\n"
      ]
     },
     "metadata": {},
     "output_type": "display_data"
    },
    {
     "data": {
      "text/plain": [
       "\n",
       "\tShapiro-Wilk normality test\n",
       "\n",
       "data:  Year_exp\n",
       "W = 0.94206, p-value = 0.1034\n"
      ]
     },
     "metadata": {},
     "output_type": "display_data"
    }
   ],
   "source": [
    "#normality test\n",
    "shapiro.test(Salary) # weight is not normal \n",
    "shapiro.test(Year_exp) # salories follows normal pattern"
   ]
  },
  {
   "cell_type": "code",
   "execution_count": 32,
   "metadata": {},
   "outputs": [
    {
     "data": {
      "text/html": [
       "5592.04360876066"
      ],
      "text/latex": [
       "5592.04360876066"
      ],
      "text/markdown": [
       "5592.04360876066"
      ],
      "text/plain": [
       "[1] 5592.044"
      ]
     },
     "metadata": {},
     "output_type": "display_data"
    },
    {
     "data": {
      "text/plain": [
       "\n",
       "Call:\n",
       "lm(formula = Salary ~ Year_exp, data = train)\n",
       "\n",
       "Residuals:\n",
       "    Min      1Q  Median      3Q     Max \n",
       "-8354.6 -4073.0  -738.6  4650.4  9966.3 \n",
       "\n",
       "Coefficients:\n",
       "            Estimate Std. Error t value Pr(>|t|)    \n",
       "(Intercept)  22280.5     3838.1   5.805 6.12e-05 ***\n",
       "Year_exp     10282.2      669.8  15.350 1.04e-09 ***\n",
       "---\n",
       "Signif. codes:  0 '***' 0.001 '**' 0.01 '*' 0.05 '.' 0.1 ' ' 1\n",
       "\n",
       "Residual standard error: 6281 on 13 degrees of freedom\n",
       "Multiple R-squared:  0.9477,\tAdjusted R-squared:  0.9437 \n",
       "F-statistic: 235.6 on 1 and 13 DF,  p-value: 1.038e-09\n"
      ]
     },
     "metadata": {},
     "output_type": "display_data"
    },
    {
     "data": {
      "image/png": "[encoded data removed]",
      "text/plain": [
       "plot without title"
      ]
     },
     "metadata": {
      "image/png": {
       "height": 420,
       "width": 420
      },
      "text/plain": {
       "height": 420,
       "width": 420
      }
     },
     "output_type": "display_data"
    }
   ],
   "source": [
    "# lets make a linear mosal With training data set and test it \n",
    "# we trying to fit a linear regression line  by plotting linear mosal \n",
    "lm_train <- lm(Salary~Year_exp,data=train) # linear mosal\n",
    "rmse_train <- sqrt(mean(lm$residuals^2))\n",
    "rmse_train # priliminary mosal gives rmse 32 which is error is higher \n",
    "plot(Year_exp, Salary) # scatter plot X is Waist and y is AT\n",
    "abline(lm(Salary~Year_exp,data = train),col = 'red') # made a regression line \n",
    "summary(lm_train)"
   ]
  },
  {
   "cell_type": "code",
   "execution_count": 4,
   "metadata": {
    "scrolled": true
   },
   "outputs": [
    {
     "data": {
      "text/html": [
       "63409.3"
      ],
      "text/latex": [
       "63409.3"
      ],
      "text/markdown": [
       "63409.3"
      ],
      "text/plain": [
       "[1] 63409.3"
      ]
     },
     "metadata": {},
     "output_type": "display_data"
    }
   ],
   "source": [
    "Y = 22280.5 + 10282.2 *4\n",
    "Y"
   ]
  },
  {
   "cell_type": "code",
   "execution_count": 33,
   "metadata": {},
   "outputs": [
    {
     "data": {
      "text/html": [
       "<table>\n",
       "<caption>A matrix: 2 × 2 of type dbl</caption>\n",
       "<thead>\n",
       "\t<tr><th></th><th scope=col>2.5 %</th><th scope=col>97.5 %</th></tr>\n",
       "</thead>\n",
       "<tbody>\n",
       "\t<tr><th scope=row>(Intercept)</th><td>13988.770</td><td>30572.26</td></tr>\n",
       "\t<tr><th scope=row>Year_exp</th><td> 8835.117</td><td>11729.28</td></tr>\n",
       "</tbody>\n",
       "</table>\n"
      ],
      "text/latex": [
       "A matrix: 2 × 2 of type dbl\n",
       "\\begin{tabular}{r|ll}\n",
       "  & 2.5 \\% & 97.5 \\%\\\\\n",
       "\\hline\n",
       "\t(Intercept) & 13988.770 & 30572.26\\\\\n",
       "\tYear\\_exp &  8835.117 & 11729.28\\\\\n",
       "\\end{tabular}\n"
      ],
      "text/markdown": [
       "\n",
       "A matrix: 2 × 2 of type dbl\n",
       "\n",
       "| <!--/--> | 2.5 % | 97.5 % |\n",
       "|---|---|---|\n",
       "| (Intercept) | 13988.770 | 30572.26 |\n",
       "| Year_exp |  8835.117 | 11729.28 |\n",
       "\n"
      ],
      "text/plain": [
       "            2.5 %     97.5 %  \n",
       "(Intercept) 13988.770 30572.26\n",
       "Year_exp     8835.117 11729.28"
      ]
     },
     "metadata": {},
     "output_type": "display_data"
    },
    {
     "data": {
      "text/html": [
       "<table>\n",
       "<caption>A matrix: 15 × 3 of type dbl</caption>\n",
       "<thead>\n",
       "\t<tr><th></th><th scope=col>fit</th><th scope=col>lwr</th><th scope=col>upr</th></tr>\n",
       "</thead>\n",
       "<tbody>\n",
       "\t<tr><th scope=row>15</th><td> 68550.41</td><td> 64905.99</td><td> 72194.83</td></tr>\n",
       "\t<tr><th scope=row>19</th><td> 82945.49</td><td> 79295.70</td><td> 86595.27</td></tr>\n",
       "\t<tr><th scope=row>14</th><td> 64437.53</td><td> 60593.27</td><td> 68281.79</td></tr>\n",
       "\t<tr><th scope=row>3</th><td> 37703.81</td><td> 31313.24</td><td> 44094.39</td></tr>\n",
       "\t<tr><th scope=row>10</th><td> 60324.65</td><td> 56208.22</td><td> 64441.08</td></tr>\n",
       "\t<tr><th scope=row>18</th><td> 76776.17</td><td> 73269.17</td><td> 80283.16</td></tr>\n",
       "\t<tr><th scope=row>22</th><td> 95284.12</td><td> 90824.55</td><td> 99743.70</td></tr>\n",
       "\t<tr><th scope=row>11</th><td> 62381.09</td><td> 58408.95</td><td> 66353.23</td></tr>\n",
       "\t<tr><th scope=row>5</th><td> 44901.35</td><td> 39330.18</td><td> 50472.52</td></tr>\n",
       "\t<tr><th scope=row>20</th><td> 83973.71</td><td> 80280.77</td><td> 87666.65</td></tr>\n",
       "\t<tr><th scope=row>28</th><td>120989.62</td><td>113713.71</td><td>128265.53</td></tr>\n",
       "\t<tr><th scope=row>24</th><td>106594.54</td><td>101008.36</td><td>112180.73</td></tr>\n",
       "\t<tr><th scope=row>9</th><td> 55183.55</td><td> 50645.31</td><td> 59721.79</td></tr>\n",
       "\t<tr><th scope=row>27</th><td>119961.40</td><td>112811.98</td><td>127110.82</td></tr>\n",
       "\t<tr><th scope=row>8</th><td> 55183.55</td><td> 50645.31</td><td> 59721.79</td></tr>\n",
       "</tbody>\n",
       "</table>\n"
      ],
      "text/latex": [
       "A matrix: 15 × 3 of type dbl\n",
       "\\begin{tabular}{r|lll}\n",
       "  & fit & lwr & upr\\\\\n",
       "\\hline\n",
       "\t15 &  68550.41 &  64905.99 &  72194.83\\\\\n",
       "\t19 &  82945.49 &  79295.70 &  86595.27\\\\\n",
       "\t14 &  64437.53 &  60593.27 &  68281.79\\\\\n",
       "\t3 &  37703.81 &  31313.24 &  44094.39\\\\\n",
       "\t10 &  60324.65 &  56208.22 &  64441.08\\\\\n",
       "\t18 &  76776.17 &  73269.17 &  80283.16\\\\\n",
       "\t22 &  95284.12 &  90824.55 &  99743.70\\\\\n",
       "\t11 &  62381.09 &  58408.95 &  66353.23\\\\\n",
       "\t5 &  44901.35 &  39330.18 &  50472.52\\\\\n",
       "\t20 &  83973.71 &  80280.77 &  87666.65\\\\\n",
       "\t28 & 120989.62 & 113713.71 & 128265.53\\\\\n",
       "\t24 & 106594.54 & 101008.36 & 112180.73\\\\\n",
       "\t9 &  55183.55 &  50645.31 &  59721.79\\\\\n",
       "\t27 & 119961.40 & 112811.98 & 127110.82\\\\\n",
       "\t8 &  55183.55 &  50645.31 &  59721.79\\\\\n",
       "\\end{tabular}\n"
      ],
      "text/markdown": [
       "\n",
       "A matrix: 15 × 3 of type dbl\n",
       "\n",
       "| <!--/--> | fit | lwr | upr |\n",
       "|---|---|---|---|\n",
       "| 15 |  68550.41 |  64905.99 |  72194.83 |\n",
       "| 19 |  82945.49 |  79295.70 |  86595.27 |\n",
       "| 14 |  64437.53 |  60593.27 |  68281.79 |\n",
       "| 3 |  37703.81 |  31313.24 |  44094.39 |\n",
       "| 10 |  60324.65 |  56208.22 |  64441.08 |\n",
       "| 18 |  76776.17 |  73269.17 |  80283.16 |\n",
       "| 22 |  95284.12 |  90824.55 |  99743.70 |\n",
       "| 11 |  62381.09 |  58408.95 |  66353.23 |\n",
       "| 5 |  44901.35 |  39330.18 |  50472.52 |\n",
       "| 20 |  83973.71 |  80280.77 |  87666.65 |\n",
       "| 28 | 120989.62 | 113713.71 | 128265.53 |\n",
       "| 24 | 106594.54 | 101008.36 | 112180.73 |\n",
       "| 9 |  55183.55 |  50645.31 |  59721.79 |\n",
       "| 27 | 119961.40 | 112811.98 | 127110.82 |\n",
       "| 8 |  55183.55 |  50645.31 |  59721.79 |\n",
       "\n"
      ],
      "text/plain": [
       "   fit       lwr       upr      \n",
       "15  68550.41  64905.99  72194.83\n",
       "19  82945.49  79295.70  86595.27\n",
       "14  64437.53  60593.27  68281.79\n",
       "3   37703.81  31313.24  44094.39\n",
       "10  60324.65  56208.22  64441.08\n",
       "18  76776.17  73269.17  80283.16\n",
       "22  95284.12  90824.55  99743.70\n",
       "11  62381.09  58408.95  66353.23\n",
       "5   44901.35  39330.18  50472.52\n",
       "20  83973.71  80280.77  87666.65\n",
       "28 120989.62 113713.71 128265.53\n",
       "24 106594.54 101008.36 112180.73\n",
       "9   55183.55  50645.31  59721.79\n",
       "27 119961.40 112811.98 127110.82\n",
       "8   55183.55  50645.31  59721.79"
      ]
     },
     "metadata": {},
     "output_type": "display_data"
    },
    {
     "data": {
      "text/html": [
       "<table>\n",
       "<caption>A matrix: 15 × 3 of type dbl</caption>\n",
       "<thead>\n",
       "\t<tr><th></th><th scope=col>fit</th><th scope=col>lwr</th><th scope=col>upr</th></tr>\n",
       "</thead>\n",
       "<tbody>\n",
       "\t<tr><th scope=row>15</th><td>Inf</td><td>Inf</td><td>Inf</td></tr>\n",
       "\t<tr><th scope=row>19</th><td>Inf</td><td>Inf</td><td>Inf</td></tr>\n",
       "\t<tr><th scope=row>14</th><td>Inf</td><td>Inf</td><td>Inf</td></tr>\n",
       "\t<tr><th scope=row>3</th><td>Inf</td><td>Inf</td><td>Inf</td></tr>\n",
       "\t<tr><th scope=row>10</th><td>Inf</td><td>Inf</td><td>Inf</td></tr>\n",
       "\t<tr><th scope=row>18</th><td>Inf</td><td>Inf</td><td>Inf</td></tr>\n",
       "\t<tr><th scope=row>22</th><td>Inf</td><td>Inf</td><td>Inf</td></tr>\n",
       "\t<tr><th scope=row>11</th><td>Inf</td><td>Inf</td><td>Inf</td></tr>\n",
       "\t<tr><th scope=row>5</th><td>Inf</td><td>Inf</td><td>Inf</td></tr>\n",
       "\t<tr><th scope=row>20</th><td>Inf</td><td>Inf</td><td>Inf</td></tr>\n",
       "\t<tr><th scope=row>28</th><td>Inf</td><td>Inf</td><td>Inf</td></tr>\n",
       "\t<tr><th scope=row>24</th><td>Inf</td><td>Inf</td><td>Inf</td></tr>\n",
       "\t<tr><th scope=row>9</th><td>Inf</td><td>Inf</td><td>Inf</td></tr>\n",
       "\t<tr><th scope=row>27</th><td>Inf</td><td>Inf</td><td>Inf</td></tr>\n",
       "\t<tr><th scope=row>8</th><td>Inf</td><td>Inf</td><td>Inf</td></tr>\n",
       "</tbody>\n",
       "</table>\n"
      ],
      "text/latex": [
       "A matrix: 15 × 3 of type dbl\n",
       "\\begin{tabular}{r|lll}\n",
       "  & fit & lwr & upr\\\\\n",
       "\\hline\n",
       "\t15 & Inf & Inf & Inf\\\\\n",
       "\t19 & Inf & Inf & Inf\\\\\n",
       "\t14 & Inf & Inf & Inf\\\\\n",
       "\t3 & Inf & Inf & Inf\\\\\n",
       "\t10 & Inf & Inf & Inf\\\\\n",
       "\t18 & Inf & Inf & Inf\\\\\n",
       "\t22 & Inf & Inf & Inf\\\\\n",
       "\t11 & Inf & Inf & Inf\\\\\n",
       "\t5 & Inf & Inf & Inf\\\\\n",
       "\t20 & Inf & Inf & Inf\\\\\n",
       "\t28 & Inf & Inf & Inf\\\\\n",
       "\t24 & Inf & Inf & Inf\\\\\n",
       "\t9 & Inf & Inf & Inf\\\\\n",
       "\t27 & Inf & Inf & Inf\\\\\n",
       "\t8 & Inf & Inf & Inf\\\\\n",
       "\\end{tabular}\n"
      ],
      "text/markdown": [
       "\n",
       "A matrix: 15 × 3 of type dbl\n",
       "\n",
       "| <!--/--> | fit | lwr | upr |\n",
       "|---|---|---|---|\n",
       "| 15 | Inf | Inf | Inf |\n",
       "| 19 | Inf | Inf | Inf |\n",
       "| 14 | Inf | Inf | Inf |\n",
       "| 3 | Inf | Inf | Inf |\n",
       "| 10 | Inf | Inf | Inf |\n",
       "| 18 | Inf | Inf | Inf |\n",
       "| 22 | Inf | Inf | Inf |\n",
       "| 11 | Inf | Inf | Inf |\n",
       "| 5 | Inf | Inf | Inf |\n",
       "| 20 | Inf | Inf | Inf |\n",
       "| 28 | Inf | Inf | Inf |\n",
       "| 24 | Inf | Inf | Inf |\n",
       "| 9 | Inf | Inf | Inf |\n",
       "| 27 | Inf | Inf | Inf |\n",
       "| 8 | Inf | Inf | Inf |\n",
       "\n"
      ],
      "text/plain": [
       "   fit lwr upr\n",
       "15 Inf Inf Inf\n",
       "19 Inf Inf Inf\n",
       "14 Inf Inf Inf\n",
       "3  Inf Inf Inf\n",
       "10 Inf Inf Inf\n",
       "18 Inf Inf Inf\n",
       "22 Inf Inf Inf\n",
       "11 Inf Inf Inf\n",
       "5  Inf Inf Inf\n",
       "20 Inf Inf Inf\n",
       "28 Inf Inf Inf\n",
       "24 Inf Inf Inf\n",
       "9  Inf Inf Inf\n",
       "27 Inf Inf Inf\n",
       "8  Inf Inf Inf"
      ]
     },
     "metadata": {},
     "output_type": "display_data"
    },
    {
     "name": "stderr",
     "output_type": "stream",
     "text": [
      "Warning message in lm_ex_ploy - Salary:\n",
      "\"longer object length is not a multiple of shorter object length\"\n"
     ]
    },
    {
     "data": {
      "text/html": [
       "<table>\n",
       "<caption>A matrix: 15 × 3 of type dbl</caption>\n",
       "<thead>\n",
       "\t<tr><th></th><th scope=col>fit</th><th scope=col>lwr</th><th scope=col>upr</th></tr>\n",
       "</thead>\n",
       "<tbody>\n",
       "\t<tr><th scope=row>15</th><td>Inf</td><td>Inf</td><td>Inf</td></tr>\n",
       "\t<tr><th scope=row>19</th><td>Inf</td><td>Inf</td><td>Inf</td></tr>\n",
       "\t<tr><th scope=row>14</th><td>Inf</td><td>Inf</td><td>Inf</td></tr>\n",
       "\t<tr><th scope=row>3</th><td>Inf</td><td>Inf</td><td>Inf</td></tr>\n",
       "\t<tr><th scope=row>10</th><td>Inf</td><td>Inf</td><td>Inf</td></tr>\n",
       "\t<tr><th scope=row>18</th><td>Inf</td><td>Inf</td><td>Inf</td></tr>\n",
       "\t<tr><th scope=row>22</th><td>Inf</td><td>Inf</td><td>Inf</td></tr>\n",
       "\t<tr><th scope=row>11</th><td>Inf</td><td>Inf</td><td>Inf</td></tr>\n",
       "\t<tr><th scope=row>5</th><td>Inf</td><td>Inf</td><td>Inf</td></tr>\n",
       "\t<tr><th scope=row>20</th><td>Inf</td><td>Inf</td><td>Inf</td></tr>\n",
       "\t<tr><th scope=row>28</th><td>Inf</td><td>Inf</td><td>Inf</td></tr>\n",
       "\t<tr><th scope=row>24</th><td>Inf</td><td>Inf</td><td>Inf</td></tr>\n",
       "\t<tr><th scope=row>9</th><td>Inf</td><td>Inf</td><td>Inf</td></tr>\n",
       "\t<tr><th scope=row>27</th><td>Inf</td><td>Inf</td><td>Inf</td></tr>\n",
       "\t<tr><th scope=row>8</th><td>Inf</td><td>Inf</td><td>Inf</td></tr>\n",
       "</tbody>\n",
       "</table>\n"
      ],
      "text/latex": [
       "A matrix: 15 × 3 of type dbl\n",
       "\\begin{tabular}{r|lll}\n",
       "  & fit & lwr & upr\\\\\n",
       "\\hline\n",
       "\t15 & Inf & Inf & Inf\\\\\n",
       "\t19 & Inf & Inf & Inf\\\\\n",
       "\t14 & Inf & Inf & Inf\\\\\n",
       "\t3 & Inf & Inf & Inf\\\\\n",
       "\t10 & Inf & Inf & Inf\\\\\n",
       "\t18 & Inf & Inf & Inf\\\\\n",
       "\t22 & Inf & Inf & Inf\\\\\n",
       "\t11 & Inf & Inf & Inf\\\\\n",
       "\t5 & Inf & Inf & Inf\\\\\n",
       "\t20 & Inf & Inf & Inf\\\\\n",
       "\t28 & Inf & Inf & Inf\\\\\n",
       "\t24 & Inf & Inf & Inf\\\\\n",
       "\t9 & Inf & Inf & Inf\\\\\n",
       "\t27 & Inf & Inf & Inf\\\\\n",
       "\t8 & Inf & Inf & Inf\\\\\n",
       "\\end{tabular}\n"
      ],
      "text/markdown": [
       "\n",
       "A matrix: 15 × 3 of type dbl\n",
       "\n",
       "| <!--/--> | fit | lwr | upr |\n",
       "|---|---|---|---|\n",
       "| 15 | Inf | Inf | Inf |\n",
       "| 19 | Inf | Inf | Inf |\n",
       "| 14 | Inf | Inf | Inf |\n",
       "| 3 | Inf | Inf | Inf |\n",
       "| 10 | Inf | Inf | Inf |\n",
       "| 18 | Inf | Inf | Inf |\n",
       "| 22 | Inf | Inf | Inf |\n",
       "| 11 | Inf | Inf | Inf |\n",
       "| 5 | Inf | Inf | Inf |\n",
       "| 20 | Inf | Inf | Inf |\n",
       "| 28 | Inf | Inf | Inf |\n",
       "| 24 | Inf | Inf | Inf |\n",
       "| 9 | Inf | Inf | Inf |\n",
       "| 27 | Inf | Inf | Inf |\n",
       "| 8 | Inf | Inf | Inf |\n",
       "\n"
      ],
      "text/plain": [
       "   fit lwr upr\n",
       "15 Inf Inf Inf\n",
       "19 Inf Inf Inf\n",
       "14 Inf Inf Inf\n",
       "3  Inf Inf Inf\n",
       "10 Inf Inf Inf\n",
       "18 Inf Inf Inf\n",
       "22 Inf Inf Inf\n",
       "11 Inf Inf Inf\n",
       "5  Inf Inf Inf\n",
       "20 Inf Inf Inf\n",
       "28 Inf Inf Inf\n",
       "24 Inf Inf Inf\n",
       "9  Inf Inf Inf\n",
       "27 Inf Inf Inf\n",
       "8  Inf Inf Inf"
      ]
     },
     "metadata": {},
     "output_type": "display_data"
    },
    {
     "data": {
      "text/html": [
       "Inf"
      ],
      "text/latex": [
       "Inf"
      ],
      "text/markdown": [
       "Inf"
      ],
      "text/plain": [
       "[1] Inf"
      ]
     },
     "metadata": {},
     "output_type": "display_data"
    },
    {
     "data": {
      "text/html": [
       "<style>\n",
       ".dl-inline {width: auto; margin:0; padding: 0}\n",
       ".dl-inline>dt, .dl-inline>dd {float: none; width: auto; display: inline-block}\n",
       ".dl-inline>dt::after {content: \":\\0020\"; padding-right: .5ex}\n",
       ".dl-inline>dt:not(:first-of-type) {padding-left: .5ex}\n",
       "</style><dl class=dl-inline><dt>15</dt><dd>-7439.4091922301</dd><dt>19</dt><dd>-1582.4867848424</dd><dt>14</dt><dd>-7356.52988005519</dd><dt>3</dt><dd>27.1856490818436</dd><dt>10</dt><dd>-3135.65056788027</dd><dt>18</dt><dd>6311.83218342002</dd><dt>22</dt><dd>2988.87527863284</dd><dt>11</dt><dd>836.909776032269</dd><dt>5</dt><dd>-5010.35314722429</dd><dt>20</dt><dd>9966.29338711389</dd><dt>28</dt><dd>-8354.62042246046</dd><dt>24</dt><dd>7217.4571701518</dd><dt>9</dt><dd>9261.44857233839</dd><dt>27</dt><dd>-2992.40059441673</dd><dt>8</dt><dd>-738.551427661611</dd></dl>\n"
      ],
      "text/latex": [
       "\\begin{description*}\n",
       "\\item[15] -7439.4091922301\n",
       "\\item[19] -1582.4867848424\n",
       "\\item[14] -7356.52988005519\n",
       "\\item[3] 27.1856490818436\n",
       "\\item[10] -3135.65056788027\n",
       "\\item[18] 6311.83218342002\n",
       "\\item[22] 2988.87527863284\n",
       "\\item[11] 836.909776032269\n",
       "\\item[5] -5010.35314722429\n",
       "\\item[20] 9966.29338711389\n",
       "\\item[28] -8354.62042246046\n",
       "\\item[24] 7217.4571701518\n",
       "\\item[9] 9261.44857233839\n",
       "\\item[27] -2992.40059441673\n",
       "\\item[8] -738.551427661611\n",
       "\\end{description*}\n"
      ],
      "text/markdown": [
       "15\n",
       ":   -7439.409192230119\n",
       ":   -1582.486784842414\n",
       ":   -7356.529880055193\n",
       ":   27.185649081843610\n",
       ":   -3135.6505678802718\n",
       ":   6311.8321834200222\n",
       ":   2988.8752786328411\n",
       ":   836.9097760322695\n",
       ":   -5010.3531472242920\n",
       ":   9966.2933871138928\n",
       ":   -8354.6204224604624\n",
       ":   7217.45717015189\n",
       ":   9261.4485723383927\n",
       ":   -2992.400594416738\n",
       ":   -738.551427661611\n",
       "\n"
      ],
      "text/plain": [
       "         15          19          14           3          10          18 \n",
       "-7439.40919 -1582.48678 -7356.52988    27.18565 -3135.65057  6311.83218 \n",
       "         22          11           5          20          28          24 \n",
       " 2988.87528   836.90978 -5010.35315  9966.29339 -8354.62042  7217.45717 \n",
       "          9          27           8 \n",
       " 9261.44857 -2992.40059  -738.55143 "
      ]
     },
     "metadata": {},
     "output_type": "display_data"
    }
   ],
   "source": [
    "confint(lm_train,level=0.95)\n",
    "lm_res  <-  predict(lm_train, interval = \"confidence\")\n",
    "lm_res\n",
    "lm_ex_ploy  <- exp(lm_res)\n",
    "lm_ex_ploy\n",
    "err_ploy  <- lm_ex_ploy-Salary\n",
    "err_ploy\n",
    "rmse  <- sqrt(mean(err_ploy^2))\n",
    "rmse\n",
    "residual  <-  lm_train$residuals\n",
    "residual"
   ]
  },
  {
   "cell_type": "code",
   "execution_count": 34,
   "metadata": {},
   "outputs": [
    {
     "data": {
      "text/html": [
       "<style>\n",
       ".dl-inline {width: auto; margin:0; padding: 0}\n",
       ".dl-inline>dt, .dl-inline>dd {float: none; width: auto; display: inline-block}\n",
       ".dl-inline>dt::after {content: \":\\0020\"; padding-right: .5ex}\n",
       ".dl-inline>dt:not(:first-of-type) {padding-left: .5ex}\n",
       "</style><dl class=dl-inline><dt>1</dt><dd>33590.9350387433</dd><dt>2</dt><dd>35647.3746948307</dd><dt>4</dt><dd>42844.9134911368</dd><dt>6</dt><dd>52098.8919435304</dd><dt>7</dt><dd>53127.1117715742</dd><dt>12</dt><dd>63409.3100520115</dd><dt>13</dt><dd>63409.3100520115</dd><dt>16</dt><dd>72663.2885044051</dd><dt>17</dt><dd>74719.7281604925</dd><dt>21</dt><dd>92199.465237236</dd><dt>23</dt><dd>103509.883345717</dd><dt>25</dt><dd>111735.641970067</dd><dt>26</dt><dd>114820.301454198</dd><dt>29</dt><dd>128187.159218767</dd><dt>30</dt><dd>130243.598874854</dd></dl>\n"
      ],
      "text/latex": [
       "\\begin{description*}\n",
       "\\item[1] 33590.9350387433\n",
       "\\item[2] 35647.3746948307\n",
       "\\item[4] 42844.9134911368\n",
       "\\item[6] 52098.8919435304\n",
       "\\item[7] 53127.1117715742\n",
       "\\item[12] 63409.3100520115\n",
       "\\item[13] 63409.3100520115\n",
       "\\item[16] 72663.2885044051\n",
       "\\item[17] 74719.7281604925\n",
       "\\item[21] 92199.465237236\n",
       "\\item[23] 103509.883345717\n",
       "\\item[25] 111735.641970067\n",
       "\\item[26] 114820.301454198\n",
       "\\item[29] 128187.159218767\n",
       "\\item[30] 130243.598874854\n",
       "\\end{description*}\n"
      ],
      "text/markdown": [
       "1\n",
       ":   33590.93503874332\n",
       ":   35647.37469483074\n",
       ":   42844.91349113686\n",
       ":   52098.89194353047\n",
       ":   53127.111771574212\n",
       ":   63409.310052011513\n",
       ":   63409.310052011516\n",
       ":   72663.288504405117\n",
       ":   74719.728160492521\n",
       ":   92199.46523723623\n",
       ":   103509.88334571725\n",
       ":   111735.64197006726\n",
       ":   114820.30145419829\n",
       ":   128187.15921876730\n",
       ":   130243.598874854\n",
       "\n"
      ],
      "text/plain": [
       "        1         2         4         6         7        12        13        16 \n",
       " 33590.94  35647.37  42844.91  52098.89  53127.11  63409.31  63409.31  72663.29 \n",
       "       17        21        23        25        26        29        30 \n",
       " 74719.73  92199.47 103509.88 111735.64 114820.30 128187.16 130243.60 "
      ]
     },
     "metadata": {},
     "output_type": "display_data"
    },
    {
     "data": {
      "text/html": [
       "<style>\n",
       ".dl-inline {width: auto; margin:0; padding: 0}\n",
       ".dl-inline>dt, .dl-inline>dd {float: none; width: auto; display: inline-block}\n",
       ".dl-inline>dt::after {content: \":\\0020\"; padding-right: .5ex}\n",
       ".dl-inline>dt:not(:first-of-type) {padding-left: .5ex}\n",
       "</style><dl class=dl-inline><dt>1</dt><dd>33590.9350387433</dd><dt>2</dt><dd>35647.3746948307</dd><dt>4</dt><dd>42844.9134911368</dd><dt>6</dt><dd>52098.8919435304</dd><dt>7</dt><dd>53127.1117715742</dd><dt>12</dt><dd>63409.3100520115</dd><dt>13</dt><dd>63409.3100520115</dd><dt>16</dt><dd>72663.2885044051</dd><dt>17</dt><dd>74719.7281604925</dd><dt>21</dt><dd>92199.465237236</dd><dt>23</dt><dd>103509.883345717</dd><dt>25</dt><dd>111735.641970067</dd><dt>26</dt><dd>114820.301454198</dd><dt>29</dt><dd>128187.159218767</dd><dt>30</dt><dd>130243.598874854</dd></dl>\n"
      ],
      "text/latex": [
       "\\begin{description*}\n",
       "\\item[1] 33590.9350387433\n",
       "\\item[2] 35647.3746948307\n",
       "\\item[4] 42844.9134911368\n",
       "\\item[6] 52098.8919435304\n",
       "\\item[7] 53127.1117715742\n",
       "\\item[12] 63409.3100520115\n",
       "\\item[13] 63409.3100520115\n",
       "\\item[16] 72663.2885044051\n",
       "\\item[17] 74719.7281604925\n",
       "\\item[21] 92199.465237236\n",
       "\\item[23] 103509.883345717\n",
       "\\item[25] 111735.641970067\n",
       "\\item[26] 114820.301454198\n",
       "\\item[29] 128187.159218767\n",
       "\\item[30] 130243.598874854\n",
       "\\end{description*}\n"
      ],
      "text/markdown": [
       "1\n",
       ":   33590.93503874332\n",
       ":   35647.37469483074\n",
       ":   42844.91349113686\n",
       ":   52098.89194353047\n",
       ":   53127.111771574212\n",
       ":   63409.310052011513\n",
       ":   63409.310052011516\n",
       ":   72663.288504405117\n",
       ":   74719.728160492521\n",
       ":   92199.46523723623\n",
       ":   103509.88334571725\n",
       ":   111735.64197006726\n",
       ":   114820.30145419829\n",
       ":   128187.15921876730\n",
       ":   130243.598874854\n",
       "\n"
      ],
      "text/plain": [
       "        1         2         4         6         7        12        13        16 \n",
       " 33590.94  35647.37  42844.91  52098.89  53127.11  63409.31  63409.31  72663.29 \n",
       "       17        21        23        25        26        29        30 \n",
       " 74719.73  92199.47 103509.88 111735.64 114820.30 128187.16 130243.60 "
      ]
     },
     "metadata": {},
     "output_type": "display_data"
    },
    {
     "data": {
      "image/png": "[encoded data removed]",
      "text/plain": [
       "plot without title"
      ]
     },
     "metadata": {
      "image/png": {
       "height": 420,
       "width": 420
      },
      "text/plain": {
       "height": 420,
       "width": 420
      }
     },
     "output_type": "display_data"
    }
   ],
   "source": [
    "pred1  <- predict(lm_train,test) # prediction points and visualizaton below\n",
    "pred1\n",
    "\n",
    "plot(pred1) # our prediction is working lets validate it \n",
    "# lets check 10 value of pred\n",
    "pred  <- predict(lm_train,test) # predicting 10 values \n",
    "pred # after prediction we are checking 10 values "
   ]
  },
  {
   "cell_type": "code",
   "execution_count": 35,
   "metadata": {},
   "outputs": [
    {
     "name": "stderr",
     "output_type": "stream",
     "text": [
      "\n",
      "Attaching package: 'caret'\n",
      "\n",
      "\n",
      "The following object is masked from 'package:purrr':\n",
      "\n",
      "    lift\n",
      "\n",
      "\n"
     ]
    },
    {
     "name": "stdout",
     "output_type": "stream",
     "text": [
      "+ Fold01: intercept=TRUE \n",
      "- Fold01: intercept=TRUE \n",
      "+ Fold02: intercept=TRUE \n",
      "- Fold02: intercept=TRUE \n",
      "+ Fold03: intercept=TRUE \n",
      "- Fold03: intercept=TRUE \n",
      "+ Fold04: intercept=TRUE \n",
      "- Fold04: intercept=TRUE \n",
      "+ Fold05: intercept=TRUE \n",
      "- Fold05: intercept=TRUE \n",
      "+ Fold06: intercept=TRUE \n",
      "- Fold06: intercept=TRUE \n",
      "+ Fold07: intercept=TRUE \n",
      "- Fold07: intercept=TRUE \n",
      "+ Fold08: intercept=TRUE \n",
      "- Fold08: intercept=TRUE \n",
      "+ Fold09: intercept=TRUE \n",
      "- Fold09: intercept=TRUE \n",
      "+ Fold10: intercept=TRUE \n",
      "- Fold10: intercept=TRUE \n",
      "Aggregating results\n",
      "Fitting final model on full training set\n"
     ]
    },
    {
     "data": {
      "text/html": [
       "<style>\n",
       ".dl-inline {width: auto; margin:0; padding: 0}\n",
       ".dl-inline>dt, .dl-inline>dd {float: none; width: auto; display: inline-block}\n",
       ".dl-inline>dt::after {content: \":\\0020\"; padding-right: .5ex}\n",
       ".dl-inline>dt:not(:first-of-type) {padding-left: .5ex}\n",
       "</style><dl class=dl-inline><dt>1</dt><dd>36187.1587522693</dd><dt>2</dt><dd>38077.1512165603</dd><dt>3</dt><dd>39967.1436808513</dd><dt>4</dt><dd>44692.1248415788</dd><dt>5</dt><dd>46582.1173058698</dd><dt>6</dt><dd>53197.0909308884</dd><dt>7</dt><dd>54142.0871630339</dd><dt>8</dt><dd>56032.0796273249</dd><dt>9</dt><dd>56032.0796273249</dd><dt>10</dt><dd>60757.0607880525</dd></dl>\n"
      ],
      "text/latex": [
       "\\begin{description*}\n",
       "\\item[1] 36187.1587522693\n",
       "\\item[2] 38077.1512165603\n",
       "\\item[3] 39967.1436808513\n",
       "\\item[4] 44692.1248415788\n",
       "\\item[5] 46582.1173058698\n",
       "\\item[6] 53197.0909308884\n",
       "\\item[7] 54142.0871630339\n",
       "\\item[8] 56032.0796273249\n",
       "\\item[9] 56032.0796273249\n",
       "\\item[10] 60757.0607880525\n",
       "\\end{description*}\n"
      ],
      "text/markdown": [
       "1\n",
       ":   36187.15875226932\n",
       ":   38077.15121656033\n",
       ":   39967.14368085134\n",
       ":   44692.12484157885\n",
       ":   46582.11730586986\n",
       ":   53197.09093088847\n",
       ":   54142.08716303398\n",
       ":   56032.07962732499\n",
       ":   56032.079627324910\n",
       ":   60757.0607880525\n",
       "\n"
      ],
      "text/plain": [
       "       1        2        3        4        5        6        7        8 \n",
       "36187.16 38077.15 39967.14 44692.12 46582.12 53197.09 54142.09 56032.08 \n",
       "       9       10 \n",
       "56032.08 60757.06 "
      ]
     },
     "metadata": {},
     "output_type": "display_data"
    },
    {
     "data": {
      "text/html": [
       "<table>\n",
       "<caption>A data.frame: 10 × 2</caption>\n",
       "<thead>\n",
       "\t<tr><th></th><th scope=col>Year_exp</th><th scope=col>Salary</th></tr>\n",
       "\t<tr><th></th><th scope=col>&lt;dbl&gt;</th><th scope=col>&lt;dbl&gt;</th></tr>\n",
       "</thead>\n",
       "<tbody>\n",
       "\t<tr><th scope=row>1</th><td>1.1</td><td>39343</td></tr>\n",
       "\t<tr><th scope=row>2</th><td>1.3</td><td>46205</td></tr>\n",
       "\t<tr><th scope=row>3</th><td>1.5</td><td>37731</td></tr>\n",
       "\t<tr><th scope=row>4</th><td>2.0</td><td>43525</td></tr>\n",
       "\t<tr><th scope=row>5</th><td>2.2</td><td>39891</td></tr>\n",
       "\t<tr><th scope=row>6</th><td>2.9</td><td>56642</td></tr>\n",
       "\t<tr><th scope=row>7</th><td>3.0</td><td>60150</td></tr>\n",
       "\t<tr><th scope=row>8</th><td>3.2</td><td>54445</td></tr>\n",
       "\t<tr><th scope=row>9</th><td>3.2</td><td>64445</td></tr>\n",
       "\t<tr><th scope=row>10</th><td>3.7</td><td>57189</td></tr>\n",
       "</tbody>\n",
       "</table>\n"
      ],
      "text/latex": [
       "A data.frame: 10 × 2\n",
       "\\begin{tabular}{r|ll}\n",
       "  & Year\\_exp & Salary\\\\\n",
       "  & <dbl> & <dbl>\\\\\n",
       "\\hline\n",
       "\t1 & 1.1 & 39343\\\\\n",
       "\t2 & 1.3 & 46205\\\\\n",
       "\t3 & 1.5 & 37731\\\\\n",
       "\t4 & 2.0 & 43525\\\\\n",
       "\t5 & 2.2 & 39891\\\\\n",
       "\t6 & 2.9 & 56642\\\\\n",
       "\t7 & 3.0 & 60150\\\\\n",
       "\t8 & 3.2 & 54445\\\\\n",
       "\t9 & 3.2 & 64445\\\\\n",
       "\t10 & 3.7 & 57189\\\\\n",
       "\\end{tabular}\n"
      ],
      "text/markdown": [
       "\n",
       "A data.frame: 10 × 2\n",
       "\n",
       "| <!--/--> | Year_exp &lt;dbl&gt; | Salary &lt;dbl&gt; |\n",
       "|---|---|---|\n",
       "| 1 | 1.1 | 39343 |\n",
       "| 2 | 1.3 | 46205 |\n",
       "| 3 | 1.5 | 37731 |\n",
       "| 4 | 2.0 | 43525 |\n",
       "| 5 | 2.2 | 39891 |\n",
       "| 6 | 2.9 | 56642 |\n",
       "| 7 | 3.0 | 60150 |\n",
       "| 8 | 3.2 | 54445 |\n",
       "| 9 | 3.2 | 64445 |\n",
       "| 10 | 3.7 | 57189 |\n",
       "\n"
      ],
      "text/plain": [
       "   Year_exp Salary\n",
       "1  1.1      39343 \n",
       "2  1.3      46205 \n",
       "3  1.5      37731 \n",
       "4  2.0      43525 \n",
       "5  2.2      39891 \n",
       "6  2.9      56642 \n",
       "7  3.0      60150 \n",
       "8  3.2      54445 \n",
       "9  3.2      64445 \n",
       "10 3.7      57189 "
      ]
     },
     "metadata": {},
     "output_type": "display_data"
    },
    {
     "data": {
      "text/html": [
       "5110.22850236858"
      ],
      "text/latex": [
       "5110.22850236858"
      ],
      "text/markdown": [
       "5110.22850236858"
      ],
      "text/plain": [
       "[1] 5110.229"
      ]
     },
     "metadata": {},
     "output_type": "display_data"
    },
    {
     "data": {
      "text/plain": [
       "Linear Regression \n",
       "\n",
       "30 samples\n",
       " 1 predictor\n",
       "\n",
       "No pre-processing\n",
       "Resampling: Cross-Validated (10 fold) \n",
       "Summary of sample sizes: 26, 26, 28, 28, 28, 27, ... \n",
       "Resampling results:\n",
       "\n",
       "  RMSE      Rsquared   MAE     \n",
       "  5782.132  0.9750127  5068.726\n",
       "\n",
       "Tuning parameter 'intercept' was held constant at a value of TRUE"
      ]
     },
     "metadata": {},
     "output_type": "display_data"
    },
    {
     "data": {
      "text/plain": [
       "\n",
       "Call:\n",
       "lm(formula = .outcome ~ ., data = dat)\n",
       "\n",
       "Residuals:\n",
       "    Min      1Q  Median      3Q     Max \n",
       "-7958.0 -4088.5  -459.9  3372.6 11448.0 \n",
       "\n",
       "Coefficients:\n",
       "            Estimate Std. Error t value Pr(>|t|)    \n",
       "(Intercept)  25792.2     2273.1   11.35 5.51e-12 ***\n",
       "Year_exp      9450.0      378.8   24.95  < 2e-16 ***\n",
       "---\n",
       "Signif. codes:  0 '***' 0.001 '**' 0.01 '*' 0.05 '.' 0.1 ' ' 1\n",
       "\n",
       "Residual standard error: 5788 on 28 degrees of freedom\n",
       "Multiple R-squared:  0.957,\tAdjusted R-squared:  0.9554 \n",
       "F-statistic: 622.5 on 1 and 28 DF,  p-value: < 2.2e-16\n"
      ]
     },
     "metadata": {},
     "output_type": "display_data"
    }
   ],
   "source": [
    "# K-10 Fold valdation mosal is ready\n",
    "library(lattice)\n",
    "library(caret) \n",
    "\n",
    "# Fit linear regression mosal\n",
    "Kfoldmosal <- train(Salary ~ Year_exp, sal,\n",
    "                    method = \"lm\",\n",
    "                    trControl = trainControl(\n",
    "                      method = \"cv\", number = 10,\n",
    "                      verboseIter = TRUE\n",
    "                    )\n",
    ") \n",
    "\n",
    "predicted <- predict(Kfoldmosal,sal[0:10,]) \n",
    "predicted\n",
    "sal[0:10,]#he row predicted it worked AT is predicted \n",
    "#Evaluate error\n",
    "actual <- sal[0:10, \"Salary\"]\n",
    "err <-  sqrt(mean((predicted - actual)^2)) \n",
    "err\n",
    "\n",
    " #print the mosal\n",
    "Kfoldmosal\n",
    "\n",
    "summary(Kfoldmosal) # p value is too low so we rejecting this mosal"
   ]
  },
  {
   "cell_type": "code",
   "execution_count": 36,
   "metadata": {},
   "outputs": [
    {
     "data": {
      "text/html": [
       "<style>\n",
       ".dl-inline {width: auto; margin:0; padding: 0}\n",
       ".dl-inline>dt, .dl-inline>dd {float: none; width: auto; display: inline-block}\n",
       ".dl-inline>dt::after {content: \":\\0020\"; padding-right: .5ex}\n",
       ".dl-inline>dt:not(:first-of-type) {padding-left: .5ex}\n",
       "</style><dl class=dl-inline><dt>15</dt><dd>68317.0306452165</dd><dt>19</dt><dd>81546.9778952536</dd><dt>14</dt><dd>64537.0457166345</dd><dt>3</dt><dd>39967.1436808513</dd><dt>10</dt><dd>60757.0607880525</dd><dt>18</dt><dd>75877.0005023806</dd><dt>22</dt><dd>92886.9326809997</dd><dt>11</dt><dd>62647.0532523435</dd><dt>5</dt><dd>46582.1173058698</dd><dt>20</dt><dd>82491.9741273991</dd><dt>28</dt><dd>116511.838484637</dd><dt>24</dt><dd>103281.8912346</dd><dt>9</dt><dd>56032.0796273249</dd><dt>27</dt><dd>115566.842252492</dd><dt>8</dt><dd>56032.0796273249</dd></dl>\n"
      ],
      "text/latex": [
       "\\begin{description*}\n",
       "\\item[15] 68317.0306452165\n",
       "\\item[19] 81546.9778952536\n",
       "\\item[14] 64537.0457166345\n",
       "\\item[3] 39967.1436808513\n",
       "\\item[10] 60757.0607880525\n",
       "\\item[18] 75877.0005023806\n",
       "\\item[22] 92886.9326809997\n",
       "\\item[11] 62647.0532523435\n",
       "\\item[5] 46582.1173058698\n",
       "\\item[20] 82491.9741273991\n",
       "\\item[28] 116511.838484637\n",
       "\\item[24] 103281.8912346\n",
       "\\item[9] 56032.0796273249\n",
       "\\item[27] 115566.842252492\n",
       "\\item[8] 56032.0796273249\n",
       "\\end{description*}\n"
      ],
      "text/markdown": [
       "15\n",
       ":   68317.030645216519\n",
       ":   81546.977895253614\n",
       ":   64537.04571663453\n",
       ":   39967.143680851310\n",
       ":   60757.060788052518\n",
       ":   75877.000502380622\n",
       ":   92886.932680999711\n",
       ":   62647.05325234355\n",
       ":   46582.117305869820\n",
       ":   82491.974127399128\n",
       ":   116511.83848463724\n",
       ":   103281.89123469\n",
       ":   56032.079627324927\n",
       ":   115566.8422524928\n",
       ":   56032.0796273249\n",
       "\n"
      ],
      "text/plain": [
       "       15        19        14         3        10        18        22        11 \n",
       " 68317.03  81546.98  64537.05  39967.14  60757.06  75877.00  92886.93  62647.05 \n",
       "        5        20        28        24         9        27         8 \n",
       " 46582.12  82491.97 116511.84 103281.89  56032.08 115566.84  56032.08 "
      ]
     },
     "metadata": {},
     "output_type": "display_data"
    },
    {
     "data": {
      "text/html": [
       "<style>\n",
       ".dl-inline {width: auto; margin:0; padding: 0}\n",
       ".dl-inline>dt, .dl-inline>dd {float: none; width: auto; display: inline-block}\n",
       ".dl-inline>dt::after {content: \":\\0020\"; padding-right: .5ex}\n",
       ".dl-inline>dt:not(:first-of-type) {padding-left: .5ex}\n",
       "</style><dl class=dl-inline><dt>1</dt><dd>36187.1587522693</dd><dt>2</dt><dd>38077.1512165603</dd><dt>4</dt><dd>44692.1248415788</dd><dt>6</dt><dd>53197.0909308884</dd><dt>7</dt><dd>54142.0871630339</dd><dt>12</dt><dd>63592.049484489</dd><dt>13</dt><dd>63592.049484489</dd><dt>16</dt><dd>72097.0155737986</dd><dt>17</dt><dd>73987.0080380896</dd><dt>21</dt><dd>90051.9439845632</dd><dt>23</dt><dd>100446.902538164</dd><dt>25</dt><dd>108006.872395328</dd><dt>26</dt><dd>110841.861091764</dd><dt>29</dt><dd>123126.812109656</dd><dt>30</dt><dd>125016.804573947</dd></dl>\n"
      ],
      "text/latex": [
       "\\begin{description*}\n",
       "\\item[1] 36187.1587522693\n",
       "\\item[2] 38077.1512165603\n",
       "\\item[4] 44692.1248415788\n",
       "\\item[6] 53197.0909308884\n",
       "\\item[7] 54142.0871630339\n",
       "\\item[12] 63592.049484489\n",
       "\\item[13] 63592.049484489\n",
       "\\item[16] 72097.0155737986\n",
       "\\item[17] 73987.0080380896\n",
       "\\item[21] 90051.9439845632\n",
       "\\item[23] 100446.902538164\n",
       "\\item[25] 108006.872395328\n",
       "\\item[26] 110841.861091764\n",
       "\\item[29] 123126.812109656\n",
       "\\item[30] 125016.804573947\n",
       "\\end{description*}\n"
      ],
      "text/markdown": [
       "1\n",
       ":   36187.15875226932\n",
       ":   38077.15121656034\n",
       ":   44692.12484157886\n",
       ":   53197.09093088847\n",
       ":   54142.087163033912\n",
       ":   63592.04948448913\n",
       ":   63592.04948448916\n",
       ":   72097.015573798617\n",
       ":   73987.008038089621\n",
       ":   90051.943984563223\n",
       ":   100446.90253816425\n",
       ":   108006.87239532826\n",
       ":   110841.86109176429\n",
       ":   123126.81210965630\n",
       ":   125016.804573947\n",
       "\n"
      ],
      "text/plain": [
       "        1         2         4         6         7        12        13        16 \n",
       " 36187.16  38077.15  44692.12  53197.09  54142.09  63592.05  63592.05  72097.02 \n",
       "       17        21        23        25        26        29        30 \n",
       " 73987.01  90051.94 100446.90 108006.87 110841.86 123126.81 125016.80 "
      ]
     },
     "metadata": {},
     "output_type": "display_data"
    }
   ],
   "source": [
    "pred_train  <- predict(Kfoldmosal,train)\n",
    "pred_train # the predicted values of train data \n",
    "\n",
    "pred_test  <- predict(Kfoldmosal,test)\n",
    "pred_test # the predicted values of test data \n",
    "\n"
   ]
  },
  {
   "cell_type": "code",
   "execution_count": 37,
   "metadata": {},
   "outputs": [
    {
     "data": {
      "text/html": [
       "0.97824161848876"
      ],
      "text/latex": [
       "0.97824161848876"
      ],
      "text/markdown": [
       "0.97824161848876"
      ],
      "text/plain": [
       "[1] 0.9782416"
      ]
     },
     "metadata": {},
     "output_type": "display_data"
    },
    {
     "data": {
      "text/plain": [
       "\n",
       "Call:\n",
       "lm(formula = Salary ~ Year_exp)\n",
       "\n",
       "Residuals:\n",
       "    Min      1Q  Median      3Q     Max \n",
       "-7958.0 -4088.5  -459.9  3372.6 11448.0 \n",
       "\n",
       "Coefficients:\n",
       "            Estimate Std. Error t value Pr(>|t|)    \n",
       "(Intercept)  25792.2     2273.1   11.35 5.51e-12 ***\n",
       "Year_exp      9450.0      378.8   24.95  < 2e-16 ***\n",
       "---\n",
       "Signif. codes:  0 '***' 0.001 '**' 0.01 '*' 0.05 '.' 0.1 ' ' 1\n",
       "\n",
       "Residual standard error: 5788 on 28 degrees of freedom\n",
       "Multiple R-squared:  0.957,\tAdjusted R-squared:  0.9554 \n",
       "F-statistic: 622.5 on 1 and 28 DF,  p-value: < 2.2e-16\n"
      ]
     },
     "metadata": {},
     "output_type": "display_data"
    },
    {
     "data": {
      "image/png": "[encoded data removed]",
      "text/plain": [
       "plot without title"
      ]
     },
     "metadata": {
      "image/png": {
       "height": 420,
       "width": 420
      },
      "text/plain": {
       "height": 420,
       "width": 420
      }
     },
     "output_type": "display_data"
    },
    {
     "data": {
      "image/png": "[encoded data removed]",
      "text/plain": [
       "Plot with title \"Normal Q-Q Plot\""
      ]
     },
     "metadata": {
      "image/png": {
       "height": 420,
       "width": 420
      },
      "text/plain": {
       "height": 420,
       "width": 420
      }
     },
     "output_type": "display_data"
    },
    {
     "data": {
      "text/html": [
       "5592.04360876066"
      ],
      "text/latex": [
       "5592.04360876066"
      ],
      "text/markdown": [
       "5592.04360876066"
      ],
      "text/plain": [
       "[1] 5592.044"
      ]
     },
     "metadata": {},
     "output_type": "display_data"
    },
    {
     "data": {
      "text/plain": [
       "   Min. 1st Qu.  Median    Mean 3rd Qu.    Max. \n",
       "   5592    5592    5592    5592    5592    5592 "
      ]
     },
     "metadata": {},
     "output_type": "display_data"
    },
    {
     "data": {
      "image/png": "[encoded data removed]",
      "text/plain": [
       "Plot with title \"Normal Q-Q Plot\""
      ]
     },
     "metadata": {
      "image/png": {
       "height": 420,
       "width": 420
      },
      "text/plain": {
       "height": 420,
       "width": 420
      }
     },
     "output_type": "display_data"
    },
    {
     "data": {
      "text/html": [
       "0.965384441250438"
      ],
      "text/latex": [
       "0.965384441250438"
      ],
      "text/markdown": [
       "0.965384441250438"
      ],
      "text/plain": [
       "[1] 0.9653844"
      ]
     },
     "metadata": {},
     "output_type": "display_data"
    },
    {
     "data": {
      "text/plain": [
       "\n",
       "Call:\n",
       "lm(formula = log(Salary) ~ Year_exp)\n",
       "\n",
       "Residuals:\n",
       "     Min       1Q   Median       3Q      Max \n",
       "-0.18949 -0.06946 -0.01068  0.06932  0.19029 \n",
       "\n",
       "Coefficients:\n",
       "             Estimate Std. Error t value Pr(>|t|)    \n",
       "(Intercept) 10.507402   0.038443  273.33   <2e-16 ***\n",
       "Year_exp     0.125453   0.006406   19.59   <2e-16 ***\n",
       "---\n",
       "Signif. codes:  0 '***' 0.001 '**' 0.01 '*' 0.05 '.' 0.1 ' ' 1\n",
       "\n",
       "Residual standard error: 0.09789 on 28 degrees of freedom\n",
       "Multiple R-squared:  0.932,\tAdjusted R-squared:  0.9295 \n",
       "F-statistic: 383.6 on 1 and 28 DF,  p-value: < 2.2e-16\n"
      ]
     },
     "metadata": {},
     "output_type": "display_data"
    },
    {
     "data": {
      "image/png": "[encoded data removed]",
      "text/plain": [
       "plot without title"
      ]
     },
     "metadata": {
      "image/png": {
       "height": 420,
       "width": 420
      },
      "text/plain": {
       "height": 420,
       "width": 420
      }
     },
     "output_type": "display_data"
    }
   ],
   "source": [
    "# Log mosal-1 # exponentioal mosal\n",
    "plot( Salary,Year_exp) \n",
    "cor(Salary,Year_exp)# cor relation little bit improved \n",
    "lm_Year_exp <- lm(Salary ~ Year_exp) # log transformation\n",
    "summary(lm_Year_exp) # after transformatin r square improved but not significant\n",
    "\n",
    "qqnorm(resid(lm_Year_exp)) # checking residual value its not a linear\n",
    "qqline(resid(lm_Year_exp)) # checking residual value its not a linear\n",
    "qqnorm(fitted.values(lm_Year_exp)) # still it is not fitted values\n",
    "qqline(fitted.values(lm_Year_exp)) # still it is not fitted values\n",
    "\n",
    "rmse_Year_exp <- sqrt(mean(lm_Year_exp$residuals^2))\n",
    "rmse_Year_exp # rmse not imporved , residual errors is large\n",
    "summary(rmse_Year_exp) # rmse need to imporved \n",
    "\n"
   ]
  },
  {
   "cell_type": "code",
   "execution_count": 38,
   "metadata": {},
   "outputs": [
    {
     "data": {
      "text/html": [
       "0.965384441250438"
      ],
      "text/latex": [
       "0.965384441250438"
      ],
      "text/markdown": [
       "0.965384441250438"
      ],
      "text/plain": [
       "[1] 0.9653844"
      ]
     },
     "metadata": {},
     "output_type": "display_data"
    },
    {
     "data": {
      "text/plain": [
       "\n",
       "Call:\n",
       "lm(formula = log(Salary) ~ Year_exp)\n",
       "\n",
       "Residuals:\n",
       "     Min       1Q   Median       3Q      Max \n",
       "-0.18949 -0.06946 -0.01068  0.06932  0.19029 \n",
       "\n",
       "Coefficients:\n",
       "             Estimate Std. Error t value Pr(>|t|)    \n",
       "(Intercept) 10.507402   0.038443  273.33   <2e-16 ***\n",
       "Year_exp     0.125453   0.006406   19.59   <2e-16 ***\n",
       "---\n",
       "Signif. codes:  0 '***' 0.001 '**' 0.01 '*' 0.05 '.' 0.1 ' ' 1\n",
       "\n",
       "Residual standard error: 0.09789 on 28 degrees of freedom\n",
       "Multiple R-squared:  0.932,\tAdjusted R-squared:  0.9295 \n",
       "F-statistic: 383.6 on 1 and 28 DF,  p-value: < 2.2e-16\n"
      ]
     },
     "metadata": {},
     "output_type": "display_data"
    },
    {
     "data": {
      "image/png": "[encoded data removed]",
      "text/plain": [
       "plot without title"
      ]
     },
     "metadata": {
      "image/png": {
       "height": 420,
       "width": 420
      },
      "text/plain": {
       "height": 420,
       "width": 420
      }
     },
     "output_type": "display_data"
    },
    {
     "data": {
      "image/png": "[encoded data removed]",
      "text/plain": [
       "Plot with title \"Normal Q-Q Plot\""
      ]
     },
     "metadata": {
      "image/png": {
       "height": 420,
       "width": 420
      },
      "text/plain": {
       "height": 420,
       "width": 420
      }
     },
     "output_type": "display_data"
    },
    {
     "data": {
      "text/html": [
       "0.0945743684728076"
      ],
      "text/latex": [
       "0.0945743684728076"
      ],
      "text/markdown": [
       "0.0945743684728076"
      ],
      "text/plain": [
       "[1] 0.09457437"
      ]
     },
     "metadata": {},
     "output_type": "display_data"
    },
    {
     "data": {
      "text/plain": [
       "   Min. 1st Qu.  Median    Mean 3rd Qu.    Max. \n",
       "0.09457 0.09457 0.09457 0.09457 0.09457 0.09457 "
      ]
     },
     "metadata": {},
     "output_type": "display_data"
    },
    {
     "data": {
      "image/png": "[encoded data removed]",
      "text/plain": [
       "Plot with title \"Normal Q-Q Plot\""
      ]
     },
     "metadata": {
      "image/png": {
       "height": 420,
       "width": 420
      },
      "text/plain": {
       "height": 420,
       "width": 420
      }
     },
     "output_type": "display_data"
    }
   ],
   "source": [
    "# log transformation  Exponential mosal 2 \n",
    "# Log mosal-2 \n",
    "plot(log(Salary), Year_exp) \n",
    "cor(log(Salary), Year_exp)\n",
    "lm_Log_Salary <-lm(log(Salary) ~ Year_exp) # log transformation\n",
    "\n",
    "summary(lm_Log_Salary) # after transformatin r square little bit improved but not find mosal\n",
    "\n",
    "qqnorm(resid(lm_Log_Salary)) # checking residual value its not a linear\n",
    "qqline(resid(lm_Log_Salary)) # checking residual value its not a linear\n",
    "qqnorm(fitted.values(lm_Log_Salary)) # still it is not fitted values\n",
    "qqline(fitted.values(lm_Log_Salary)) # still it is not fitted values\n",
    "\n",
    "rmse_Salary <- sqrt(mean(lm_Log_Salary$residuals^2))\n",
    "rmse_Salary # rmse  imporved \n",
    "summary(rmse_Salary)"
   ]
  },
  {
   "cell_type": "code",
   "execution_count": 42,
   "metadata": {},
   "outputs": [
    {
     "data": {
      "text/html": [
       "0.924061081788264"
      ],
      "text/latex": [
       "0.924061081788264"
      ],
      "text/markdown": [
       "0.924061081788264"
      ],
      "text/plain": [
       "[1] 0.9240611"
      ]
     },
     "metadata": {},
     "output_type": "display_data"
    },
    {
     "data": {
      "text/plain": [
       "\n",
       "Call:\n",
       "lm(formula = Salary ~ log(Year_exp))\n",
       "\n",
       "Residuals:\n",
       "     Min       1Q   Median       3Q      Max \n",
       "-15392.6  -7523.0    559.7   6336.1  20629.8 \n",
       "\n",
       "Coefficients:\n",
       "              Estimate Std. Error t value Pr(>|t|)    \n",
       "(Intercept)      14928       5156   2.895  0.00727 ** \n",
       "log(Year_exp)    40582       3172  12.792 3.25e-13 ***\n",
       "---\n",
       "Signif. codes:  0 '***' 0.001 '**' 0.01 '*' 0.05 '.' 0.1 ' ' 1\n",
       "\n",
       "Residual standard error: 10660 on 28 degrees of freedom\n",
       "Multiple R-squared:  0.8539,\tAdjusted R-squared:  0.8487 \n",
       "F-statistic: 163.6 on 1 and 28 DF,  p-value: 3.25e-13\n"
      ]
     },
     "metadata": {},
     "output_type": "display_data"
    },
    {
     "data": {
      "image/png": "[encoded data removed]",
      "text/plain": [
       "plot without title"
      ]
     },
     "metadata": {
      "image/png": {
       "height": 420,
       "width": 420
      },
      "text/plain": {
       "height": 420,
       "width": 420
      }
     },
     "output_type": "display_data"
    },
    {
     "data": {
      "image/png": "[encoded data removed]",
      "text/plain": [
       "Plot with title \"Normal Q-Q Plot\""
      ]
     },
     "metadata": {
      "image/png": {
       "height": 420,
       "width": 420
      },
      "text/plain": {
       "height": 420,
       "width": 420
      }
     },
     "output_type": "display_data"
    },
    {
     "data": {
      "text/html": [
       "10302.8937062283"
      ],
      "text/latex": [
       "10302.8937062283"
      ],
      "text/markdown": [
       "10302.8937062283"
      ],
      "text/plain": [
       "[1] 10302.89"
      ]
     },
     "metadata": {},
     "output_type": "display_data"
    },
    {
     "data": {
      "text/plain": [
       "   Min. 1st Qu.  Median    Mean 3rd Qu.    Max. \n",
       "  10303   10303   10303   10303   10303   10303 "
      ]
     },
     "metadata": {},
     "output_type": "display_data"
    },
    {
     "data": {
      "image/png": "[encoded data removed]",
      "text/plain": [
       "Plot with title \"Normal Q-Q Plot\""
      ]
     },
     "metadata": {
      "image/png": {
       "height": 420,
       "width": 420
      },
      "text/plain": {
       "height": 420,
       "width": 420
      }
     },
     "output_type": "display_data"
    }
   ],
   "source": [
    "# Log mosal-3 # exponentioal mosal\n",
    "plot( Salary,log(Year_exp)) \n",
    "cor(Salary,log(Year_exp))# cor relation little bit improved \n",
    "lm_log_Year_exp <- lm(Salary ~ log(Year_exp)) # log transformation\n",
    "summary(lm_log_Year_exp) # after transformatin r square improved but not significant\n",
    "\n",
    "qqnorm(resid(lm_log_Year_exp)) # checking residual value its not a linear\n",
    "qqline(resid(lm_log_Year_exp)) # checking residual value its not a linear\n",
    "qqnorm(fitted.values(lm_log_Year_exp)) # still it is not fitted values\n",
    "qqline(fitted.values(lm_log_Year_exp)) # still it is not fitted values\n",
    "\n",
    "rmse_log_Year_exp <- sqrt(mean(lm_log_Year_exp$residuals^2))\n",
    "rmse_log_Year_exp # rmse not imporved , residual errors is large\n",
    "summary(rmse_log_Year_exp) # rmse need to imporved \n",
    "\n"
   ]
  },
  {
   "cell_type": "code",
   "execution_count": 41,
   "metadata": {},
   "outputs": [
    {
     "data": {
      "text/html": [
       "0.95142791244619"
      ],
      "text/latex": [
       "0.95142791244619"
      ],
      "text/markdown": [
       "0.95142791244619"
      ],
      "text/plain": [
       "[1] 0.9514279"
      ]
     },
     "metadata": {},
     "output_type": "display_data"
    },
    {
     "data": {
      "text/plain": [
       "\n",
       "Call:\n",
       "lm(formula = log(Salary) ~ log(Year_exp))\n",
       "\n",
       "Residuals:\n",
       "     Min       1Q   Median       3Q      Max \n",
       "-0.17784 -0.09046  0.01958  0.06484  0.26533 \n",
       "\n",
       "Coefficients:\n",
       "              Estimate Std. Error t value Pr(>|t|)    \n",
       "(Intercept)   10.32804    0.05587  184.87  < 2e-16 ***\n",
       "log(Year_exp)  0.56209    0.03437   16.35  7.4e-16 ***\n",
       "---\n",
       "Signif. codes:  0 '***' 0.001 '**' 0.01 '*' 0.05 '.' 0.1 ' ' 1\n",
       "\n",
       "Residual standard error: 0.1155 on 28 degrees of freedom\n",
       "Multiple R-squared:  0.9052,\tAdjusted R-squared:  0.9018 \n",
       "F-statistic: 267.4 on 1 and 28 DF,  p-value: 7.395e-16\n"
      ]
     },
     "metadata": {},
     "output_type": "display_data"
    },
    {
     "data": {
      "image/png": "[encoded data removed]",
      "text/plain": [
       "plot without title"
      ]
     },
     "metadata": {
      "image/png": {
       "height": 420,
       "width": 420
      },
      "text/plain": {
       "height": 420,
       "width": 420
      }
     },
     "output_type": "display_data"
    },
    {
     "data": {
      "image/png": "[encoded data removed]",
      "text/plain": [
       "Plot with title \"Normal Q-Q Plot\""
      ]
     },
     "metadata": {
      "image/png": {
       "height": 420,
       "width": 420
      },
      "text/plain": {
       "height": 420,
       "width": 420
      }
     },
     "output_type": "display_data"
    },
    {
     "data": {
      "text/html": [
       "0.111630703305047"
      ],
      "text/latex": [
       "0.111630703305047"
      ],
      "text/markdown": [
       "0.111630703305047"
      ],
      "text/plain": [
       "[1] 0.1116307"
      ]
     },
     "metadata": {},
     "output_type": "display_data"
    },
    {
     "data": {
      "text/plain": [
       "   Min. 1st Qu.  Median    Mean 3rd Qu.    Max. \n",
       " 0.1116  0.1116  0.1116  0.1116  0.1116  0.1116 "
      ]
     },
     "metadata": {},
     "output_type": "display_data"
    },
    {
     "data": {
      "image/png": "[encoded data removed]",
      "text/plain": [
       "Plot with title \"Normal Q-Q Plot\""
      ]
     },
     "metadata": {
      "image/png": {
       "height": 420,
       "width": 420
      },
      "text/plain": {
       "height": 420,
       "width": 420
      }
     },
     "output_type": "display_data"
    }
   ],
   "source": [
    "# Log mosal-3 # exponentioal mosal\n",
    "plot( log(Salary),log(Year_exp)) \n",
    "cor(log(Salary),log(Year_exp))# cor relation little bit improved \n",
    "lm_log_mosal <- lm(log(Salary) ~ log(Year_exp)) # log transformation\n",
    "summary(lm_log_mosal) # after transformatin r square improved but not significant\n",
    "#confint(lm_log_mosal,level =0.95)\n",
    "\n",
    "qqnorm(resid(lm_log_mosal)) # checking residual value its not a linear\n",
    "qqline(resid(lm_log_mosal)) # checking residual value its not a linear\n",
    "qqnorm(fitted.values(lm_log_mosal)) # still it is not fitted values\n",
    "qqline(fitted.values(lm_log_mosal)) # still it is not fitted values\n",
    "\n",
    "rmse_log_mosal <- sqrt(mean(lm_log_mosal$residuals^2))\n",
    "rmse_log_mosal # rmse not imporved , residual errors is large\n",
    "summary(rmse_log_mosal) # rmse need to imporved "
   ]
  },
  {
   "cell_type": "code",
   "execution_count": 49,
   "metadata": {},
   "outputs": [
    {
     "data": {
      "text/html": [
       "0.921130222058085"
      ],
      "text/latex": [
       "0.921130222058085"
      ],
      "text/markdown": [
       "0.921130222058085"
      ],
      "text/plain": [
       "[1] 0.9211302"
      ]
     },
     "metadata": {},
     "output_type": "display_data"
    },
    {
     "data": {
      "text/plain": [
       "\n",
       "Call:\n",
       "lm(formula = log(Salary) ~ Year_exp + I(Year_exp * Year_exp))\n",
       "\n",
       "Residuals:\n",
       "      Min        1Q    Median        3Q       Max \n",
       "-0.156176 -0.052355 -0.000915  0.048548  0.156817 \n",
       "\n",
       "Coefficients:\n",
       "                        Estimate Std. Error t value Pr(>|t|)    \n",
       "(Intercept)            10.336852   0.066962 154.368  < 2e-16 ***\n",
       "Year_exp                0.202382   0.026625   7.601 3.55e-08 ***\n",
       "I(Year_exp * Year_exp) -0.006614   0.002236  -2.957  0.00638 ** \n",
       "---\n",
       "Signif. codes:  0 '***' 0.001 '**' 0.01 '*' 0.05 '.' 0.1 ' ' 1\n",
       "\n",
       "Residual standard error: 0.08664 on 27 degrees of freedom\n",
       "Multiple R-squared:  0.9486,\tAdjusted R-squared:  0.9448 \n",
       "F-statistic: 249.2 on 2 and 27 DF,  p-value: < 2.2e-16\n"
      ]
     },
     "metadata": {},
     "output_type": "display_data"
    },
    {
     "data": {
      "text/html": [
       "<table>\n",
       "<caption>A matrix: 3 × 2 of type dbl</caption>\n",
       "<thead>\n",
       "\t<tr><th></th><th scope=col>2.5 %</th><th scope=col>97.5 %</th></tr>\n",
       "</thead>\n",
       "<tbody>\n",
       "\t<tr><th scope=row>(Intercept)</th><td>10.19945640</td><td>10.474246649</td></tr>\n",
       "\t<tr><th scope=row>Year_exp</th><td> 0.14775127</td><td> 0.257011990</td></tr>\n",
       "\t<tr><th scope=row>I(Year_exp * Year_exp)</th><td>-0.01120239</td><td>-0.002024692</td></tr>\n",
       "</tbody>\n",
       "</table>\n"
      ],
      "text/latex": [
       "A matrix: 3 × 2 of type dbl\n",
       "\\begin{tabular}{r|ll}\n",
       "  & 2.5 \\% & 97.5 \\%\\\\\n",
       "\\hline\n",
       "\t(Intercept) & 10.19945640 & 10.474246649\\\\\n",
       "\tYear\\_exp &  0.14775127 &  0.257011990\\\\\n",
       "\tI(Year\\_exp * Year\\_exp) & -0.01120239 & -0.002024692\\\\\n",
       "\\end{tabular}\n"
      ],
      "text/markdown": [
       "\n",
       "A matrix: 3 × 2 of type dbl\n",
       "\n",
       "| <!--/--> | 2.5 % | 97.5 % |\n",
       "|---|---|---|\n",
       "| (Intercept) | 10.19945640 | 10.474246649 |\n",
       "| Year_exp |  0.14775127 |  0.257011990 |\n",
       "| I(Year_exp * Year_exp) | -0.01120239 | -0.002024692 |\n",
       "\n"
      ],
      "text/plain": [
       "                       2.5 %       97.5 %      \n",
       "(Intercept)            10.19945640 10.474246649\n",
       "Year_exp                0.14775127  0.257011990\n",
       "I(Year_exp * Year_exp) -0.01120239 -0.002024692"
      ]
     },
     "metadata": {},
     "output_type": "display_data"
    },
    {
     "data": {
      "text/html": [
       "<table>\n",
       "<caption>A matrix: 30 × 3 of type dbl</caption>\n",
       "<thead>\n",
       "\t<tr><th></th><th scope=col>fit</th><th scope=col>lwr</th><th scope=col>upr</th></tr>\n",
       "</thead>\n",
       "<tbody>\n",
       "\t<tr><th scope=row>1</th><td> 38233.56</td><td> 35020.89</td><td> 41740.94</td></tr>\n",
       "\t<tr><th scope=row>2</th><td> 39686.67</td><td> 36624.43</td><td> 43004.96</td></tr>\n",
       "\t<tr><th scope=row>3</th><td> 41173.23</td><td> 38260.61</td><td> 44307.57</td></tr>\n",
       "\t<tr><th scope=row>4</th><td> 45033.44</td><td> 42469.84</td><td> 47751.79</td></tr>\n",
       "\t<tr><th scope=row>5</th><td> 46633.83</td><td> 44189.17</td><td> 49213.74</td></tr>\n",
       "\t<tr><th scope=row>6</th><td> 52477.43</td><td> 50270.40</td><td> 54781.34</td></tr>\n",
       "\t<tr><th scope=row>7</th><td> 53341.75</td><td> 51139.37</td><td> 55638.97</td></tr>\n",
       "\t<tr><th scope=row>8</th><td> 55091.47</td><td> 52873.98</td><td> 57401.95</td></tr>\n",
       "\t<tr><th scope=row>9</th><td> 55091.47</td><td> 52873.98</td><td> 57401.95</td></tr>\n",
       "\t<tr><th scope=row>10</th><td> 59582.92</td><td> 57195.29</td><td> 62070.22</td></tr>\n",
       "\t<tr><th scope=row>11</th><td> 61423.51</td><td> 58924.44</td><td> 64028.57</td></tr>\n",
       "\t<tr><th scope=row>12</th><td> 62352.65</td><td> 59790.94</td><td> 65024.11</td></tr>\n",
       "\t<tr><th scope=row>13</th><td> 62352.65</td><td> 59790.94</td><td> 65024.11</td></tr>\n",
       "\t<tr><th scope=row>14</th><td> 63287.47</td><td> 60659.35</td><td> 66029.45</td></tr>\n",
       "\t<tr><th scope=row>15</th><td> 67080.23</td><td> 64160.55</td><td> 70132.78</td></tr>\n",
       "\t<tr><th scope=row>16</th><td> 70949.98</td><td> 67722.28</td><td> 74331.52</td></tr>\n",
       "\t<tr><th scope=row>17</th><td> 72909.90</td><td> 69530.70</td><td> 76453.32</td></tr>\n",
       "\t<tr><th scope=row>18</th><td> 74884.32</td><td> 71358.98</td><td> 78583.83</td></tr>\n",
       "\t<tr><th scope=row>19</th><td> 80877.08</td><td> 76965.04</td><td> 84987.98</td></tr>\n",
       "\t<tr><th scope=row>20</th><td> 81883.59</td><td> 77916.43</td><td> 86052.74</td></tr>\n",
       "\t<tr><th scope=row>21</th><td> 89970.45</td><td> 85664.69</td><td> 94492.62</td></tr>\n",
       "\t<tr><th scope=row>22</th><td> 93001.65</td><td> 88605.32</td><td> 97616.12</td></tr>\n",
       "\t<tr><th scope=row>23</th><td>101004.00</td><td> 96328.56</td><td>105906.36</td></tr>\n",
       "\t<tr><th scope=row>24</th><td>103952.20</td><td> 99086.80</td><td>109056.50</td></tr>\n",
       "\t<tr><th scope=row>25</th><td>108770.22</td><td>103355.82</td><td>114468.26</td></tr>\n",
       "\t<tr><th scope=row>26</th><td>111590.30</td><td>105656.64</td><td>117857.20</td></tr>\n",
       "\t<tr><th scope=row>27</th><td>116146.20</td><td>108967.71</td><td>123797.59</td></tr>\n",
       "\t<tr><th scope=row>28</th><td>117033.01</td><td>109546.06</td><td>125031.66</td></tr>\n",
       "\t<tr><th scope=row>29</th><td>122976.90</td><td>112784.50</td><td>134090.40</td></tr>\n",
       "\t<tr><th scope=row>30</th><td>124581.55</td><td>113448.35</td><td>136807.31</td></tr>\n",
       "</tbody>\n",
       "</table>\n"
      ],
      "text/latex": [
       "A matrix: 30 × 3 of type dbl\n",
       "\\begin{tabular}{r|lll}\n",
       "  & fit & lwr & upr\\\\\n",
       "\\hline\n",
       "\t1 &  38233.56 &  35020.89 &  41740.94\\\\\n",
       "\t2 &  39686.67 &  36624.43 &  43004.96\\\\\n",
       "\t3 &  41173.23 &  38260.61 &  44307.57\\\\\n",
       "\t4 &  45033.44 &  42469.84 &  47751.79\\\\\n",
       "\t5 &  46633.83 &  44189.17 &  49213.74\\\\\n",
       "\t6 &  52477.43 &  50270.40 &  54781.34\\\\\n",
       "\t7 &  53341.75 &  51139.37 &  55638.97\\\\\n",
       "\t8 &  55091.47 &  52873.98 &  57401.95\\\\\n",
       "\t9 &  55091.47 &  52873.98 &  57401.95\\\\\n",
       "\t10 &  59582.92 &  57195.29 &  62070.22\\\\\n",
       "\t11 &  61423.51 &  58924.44 &  64028.57\\\\\n",
       "\t12 &  62352.65 &  59790.94 &  65024.11\\\\\n",
       "\t13 &  62352.65 &  59790.94 &  65024.11\\\\\n",
       "\t14 &  63287.47 &  60659.35 &  66029.45\\\\\n",
       "\t15 &  67080.23 &  64160.55 &  70132.78\\\\\n",
       "\t16 &  70949.98 &  67722.28 &  74331.52\\\\\n",
       "\t17 &  72909.90 &  69530.70 &  76453.32\\\\\n",
       "\t18 &  74884.32 &  71358.98 &  78583.83\\\\\n",
       "\t19 &  80877.08 &  76965.04 &  84987.98\\\\\n",
       "\t20 &  81883.59 &  77916.43 &  86052.74\\\\\n",
       "\t21 &  89970.45 &  85664.69 &  94492.62\\\\\n",
       "\t22 &  93001.65 &  88605.32 &  97616.12\\\\\n",
       "\t23 & 101004.00 &  96328.56 & 105906.36\\\\\n",
       "\t24 & 103952.20 &  99086.80 & 109056.50\\\\\n",
       "\t25 & 108770.22 & 103355.82 & 114468.26\\\\\n",
       "\t26 & 111590.30 & 105656.64 & 117857.20\\\\\n",
       "\t27 & 116146.20 & 108967.71 & 123797.59\\\\\n",
       "\t28 & 117033.01 & 109546.06 & 125031.66\\\\\n",
       "\t29 & 122976.90 & 112784.50 & 134090.40\\\\\n",
       "\t30 & 124581.55 & 113448.35 & 136807.31\\\\\n",
       "\\end{tabular}\n"
      ],
      "text/markdown": [
       "\n",
       "A matrix: 30 × 3 of type dbl\n",
       "\n",
       "| <!--/--> | fit | lwr | upr |\n",
       "|---|---|---|---|\n",
       "| 1 |  38233.56 |  35020.89 |  41740.94 |\n",
       "| 2 |  39686.67 |  36624.43 |  43004.96 |\n",
       "| 3 |  41173.23 |  38260.61 |  44307.57 |\n",
       "| 4 |  45033.44 |  42469.84 |  47751.79 |\n",
       "| 5 |  46633.83 |  44189.17 |  49213.74 |\n",
       "| 6 |  52477.43 |  50270.40 |  54781.34 |\n",
       "| 7 |  53341.75 |  51139.37 |  55638.97 |\n",
       "| 8 |  55091.47 |  52873.98 |  57401.95 |\n",
       "| 9 |  55091.47 |  52873.98 |  57401.95 |\n",
       "| 10 |  59582.92 |  57195.29 |  62070.22 |\n",
       "| 11 |  61423.51 |  58924.44 |  64028.57 |\n",
       "| 12 |  62352.65 |  59790.94 |  65024.11 |\n",
       "| 13 |  62352.65 |  59790.94 |  65024.11 |\n",
       "| 14 |  63287.47 |  60659.35 |  66029.45 |\n",
       "| 15 |  67080.23 |  64160.55 |  70132.78 |\n",
       "| 16 |  70949.98 |  67722.28 |  74331.52 |\n",
       "| 17 |  72909.90 |  69530.70 |  76453.32 |\n",
       "| 18 |  74884.32 |  71358.98 |  78583.83 |\n",
       "| 19 |  80877.08 |  76965.04 |  84987.98 |\n",
       "| 20 |  81883.59 |  77916.43 |  86052.74 |\n",
       "| 21 |  89970.45 |  85664.69 |  94492.62 |\n",
       "| 22 |  93001.65 |  88605.32 |  97616.12 |\n",
       "| 23 | 101004.00 |  96328.56 | 105906.36 |\n",
       "| 24 | 103952.20 |  99086.80 | 109056.50 |\n",
       "| 25 | 108770.22 | 103355.82 | 114468.26 |\n",
       "| 26 | 111590.30 | 105656.64 | 117857.20 |\n",
       "| 27 | 116146.20 | 108967.71 | 123797.59 |\n",
       "| 28 | 117033.01 | 109546.06 | 125031.66 |\n",
       "| 29 | 122976.90 | 112784.50 | 134090.40 |\n",
       "| 30 | 124581.55 | 113448.35 | 136807.31 |\n",
       "\n"
      ],
      "text/plain": [
       "   fit       lwr       upr      \n",
       "1   38233.56  35020.89  41740.94\n",
       "2   39686.67  36624.43  43004.96\n",
       "3   41173.23  38260.61  44307.57\n",
       "4   45033.44  42469.84  47751.79\n",
       "5   46633.83  44189.17  49213.74\n",
       "6   52477.43  50270.40  54781.34\n",
       "7   53341.75  51139.37  55638.97\n",
       "8   55091.47  52873.98  57401.95\n",
       "9   55091.47  52873.98  57401.95\n",
       "10  59582.92  57195.29  62070.22\n",
       "11  61423.51  58924.44  64028.57\n",
       "12  62352.65  59790.94  65024.11\n",
       "13  62352.65  59790.94  65024.11\n",
       "14  63287.47  60659.35  66029.45\n",
       "15  67080.23  64160.55  70132.78\n",
       "16  70949.98  67722.28  74331.52\n",
       "17  72909.90  69530.70  76453.32\n",
       "18  74884.32  71358.98  78583.83\n",
       "19  80877.08  76965.04  84987.98\n",
       "20  81883.59  77916.43  86052.74\n",
       "21  89970.45  85664.69  94492.62\n",
       "22  93001.65  88605.32  97616.12\n",
       "23 101004.00  96328.56 105906.36\n",
       "24 103952.20  99086.80 109056.50\n",
       "25 108770.22 103355.82 114468.26\n",
       "26 111590.30 105656.64 117857.20\n",
       "27 116146.20 108967.71 123797.59\n",
       "28 117033.01 109546.06 125031.66\n",
       "29 122976.90 112784.50 134090.40\n",
       "30 124581.55 113448.35 136807.31"
      ]
     },
     "metadata": {},
     "output_type": "display_data"
    },
    {
     "data": {
      "text/html": [
       "<table>\n",
       "<caption>A matrix: 30 × 3 of type dbl</caption>\n",
       "<thead>\n",
       "\t<tr><th></th><th scope=col>fit</th><th scope=col>lwr</th><th scope=col>upr</th></tr>\n",
       "</thead>\n",
       "<tbody>\n",
       "\t<tr><th scope=row>1</th><td> 1109.4403</td><td> 4322.10830</td><td> -2397.9442</td></tr>\n",
       "\t<tr><th scope=row>2</th><td> 6518.3253</td><td> 9580.57073</td><td>  3200.0390</td></tr>\n",
       "\t<tr><th scope=row>3</th><td>-3442.2275</td><td> -529.61227</td><td> -6576.5675</td></tr>\n",
       "\t<tr><th scope=row>4</th><td>-1508.4410</td><td> 1055.15936</td><td> -4226.7875</td></tr>\n",
       "\t<tr><th scope=row>5</th><td>-6742.8326</td><td>-4298.16681</td><td> -9322.7440</td></tr>\n",
       "\t<tr><th scope=row>6</th><td> 4164.5737</td><td> 6371.59586</td><td>  1860.6566</td></tr>\n",
       "\t<tr><th scope=row>7</th><td> 6808.2527</td><td> 9010.62977</td><td>  4511.0276</td></tr>\n",
       "\t<tr><th scope=row>8</th><td> -646.4655</td><td> 1571.01794</td><td> -2956.9480</td></tr>\n",
       "\t<tr><th scope=row>9</th><td> 9353.5345</td><td>11571.01794</td><td>  7043.0520</td></tr>\n",
       "\t<tr><th scope=row>10</th><td>-2393.9175</td><td>   -6.28687</td><td> -4881.2204</td></tr>\n",
       "\t<tr><th scope=row>11</th><td> 1794.4901</td><td> 4293.55825</td><td>  -810.5670</td></tr>\n",
       "\t<tr><th scope=row>12</th><td>-6558.6470</td><td>-3996.94142</td><td> -9230.1073</td></tr>\n",
       "\t<tr><th scope=row>13</th><td>-5395.6470</td><td>-2833.94142</td><td> -8067.1073</td></tr>\n",
       "\t<tr><th scope=row>14</th><td>-6206.4673</td><td>-3578.34781</td><td> -8948.4524</td></tr>\n",
       "\t<tr><th scope=row>15</th><td>-5969.2320</td><td>-3049.54564</td><td> -9021.7814</td></tr>\n",
       "\t<tr><th scope=row>16</th><td>-3011.9810</td><td>  215.72280</td><td> -6393.5200</td></tr>\n",
       "\t<tr><th scope=row>17</th><td>-6880.8963</td><td>-3501.70129</td><td>-10424.3203</td></tr>\n",
       "\t<tr><th scope=row>18</th><td> 8203.6784</td><td>11729.02443</td><td>  4504.1698</td></tr>\n",
       "\t<tr><th scope=row>19</th><td>  485.9151</td><td> 4397.96371</td><td> -3624.9786</td></tr>\n",
       "\t<tr><th scope=row>20</th><td>12056.4119</td><td>16023.56902</td><td>  7887.2647</td></tr>\n",
       "\t<tr><th scope=row>21</th><td> 1767.5544</td><td> 6073.30800</td><td> -2754.6187</td></tr>\n",
       "\t<tr><th scope=row>22</th><td> 5271.3476</td><td> 9667.68411</td><td>   656.8778</td></tr>\n",
       "\t<tr><th scope=row>23</th><td>  298.0039</td><td> 4973.44210</td><td> -4604.3631</td></tr>\n",
       "\t<tr><th scope=row>24</th><td> 9859.8007</td><td>14725.20096</td><td>  4755.4976</td></tr>\n",
       "\t<tr><th scope=row>25</th><td>  660.7814</td><td> 6075.18262</td><td> -5037.2589</td></tr>\n",
       "\t<tr><th scope=row>26</th><td>-6008.3037</td><td>  -74.63947</td><td>-12275.2017</td></tr>\n",
       "\t<tr><th scope=row>27</th><td>  822.8016</td><td> 8001.29411</td><td> -6828.5903</td></tr>\n",
       "\t<tr><th scope=row>28</th><td>-4398.0098</td><td> 3088.94496</td><td>-12396.6625</td></tr>\n",
       "\t<tr><th scope=row>29</th><td> -585.9028</td><td> 9606.50471</td><td>-11699.4047</td></tr>\n",
       "\t<tr><th scope=row>30</th><td>-2709.5540</td><td> 8423.65302</td><td>-14935.3138</td></tr>\n",
       "</tbody>\n",
       "</table>\n"
      ],
      "text/latex": [
       "A matrix: 30 × 3 of type dbl\n",
       "\\begin{tabular}{r|lll}\n",
       "  & fit & lwr & upr\\\\\n",
       "\\hline\n",
       "\t1 &  1109.4403 &  4322.10830 &  -2397.9442\\\\\n",
       "\t2 &  6518.3253 &  9580.57073 &   3200.0390\\\\\n",
       "\t3 & -3442.2275 &  -529.61227 &  -6576.5675\\\\\n",
       "\t4 & -1508.4410 &  1055.15936 &  -4226.7875\\\\\n",
       "\t5 & -6742.8326 & -4298.16681 &  -9322.7440\\\\\n",
       "\t6 &  4164.5737 &  6371.59586 &   1860.6566\\\\\n",
       "\t7 &  6808.2527 &  9010.62977 &   4511.0276\\\\\n",
       "\t8 &  -646.4655 &  1571.01794 &  -2956.9480\\\\\n",
       "\t9 &  9353.5345 & 11571.01794 &   7043.0520\\\\\n",
       "\t10 & -2393.9175 &    -6.28687 &  -4881.2204\\\\\n",
       "\t11 &  1794.4901 &  4293.55825 &   -810.5670\\\\\n",
       "\t12 & -6558.6470 & -3996.94142 &  -9230.1073\\\\\n",
       "\t13 & -5395.6470 & -2833.94142 &  -8067.1073\\\\\n",
       "\t14 & -6206.4673 & -3578.34781 &  -8948.4524\\\\\n",
       "\t15 & -5969.2320 & -3049.54564 &  -9021.7814\\\\\n",
       "\t16 & -3011.9810 &   215.72280 &  -6393.5200\\\\\n",
       "\t17 & -6880.8963 & -3501.70129 & -10424.3203\\\\\n",
       "\t18 &  8203.6784 & 11729.02443 &   4504.1698\\\\\n",
       "\t19 &   485.9151 &  4397.96371 &  -3624.9786\\\\\n",
       "\t20 & 12056.4119 & 16023.56902 &   7887.2647\\\\\n",
       "\t21 &  1767.5544 &  6073.30800 &  -2754.6187\\\\\n",
       "\t22 &  5271.3476 &  9667.68411 &    656.8778\\\\\n",
       "\t23 &   298.0039 &  4973.44210 &  -4604.3631\\\\\n",
       "\t24 &  9859.8007 & 14725.20096 &   4755.4976\\\\\n",
       "\t25 &   660.7814 &  6075.18262 &  -5037.2589\\\\\n",
       "\t26 & -6008.3037 &   -74.63947 & -12275.2017\\\\\n",
       "\t27 &   822.8016 &  8001.29411 &  -6828.5903\\\\\n",
       "\t28 & -4398.0098 &  3088.94496 & -12396.6625\\\\\n",
       "\t29 &  -585.9028 &  9606.50471 & -11699.4047\\\\\n",
       "\t30 & -2709.5540 &  8423.65302 & -14935.3138\\\\\n",
       "\\end{tabular}\n"
      ],
      "text/markdown": [
       "\n",
       "A matrix: 30 × 3 of type dbl\n",
       "\n",
       "| <!--/--> | fit | lwr | upr |\n",
       "|---|---|---|---|\n",
       "| 1 |  1109.4403 |  4322.10830 |  -2397.9442 |\n",
       "| 2 |  6518.3253 |  9580.57073 |   3200.0390 |\n",
       "| 3 | -3442.2275 |  -529.61227 |  -6576.5675 |\n",
       "| 4 | -1508.4410 |  1055.15936 |  -4226.7875 |\n",
       "| 5 | -6742.8326 | -4298.16681 |  -9322.7440 |\n",
       "| 6 |  4164.5737 |  6371.59586 |   1860.6566 |\n",
       "| 7 |  6808.2527 |  9010.62977 |   4511.0276 |\n",
       "| 8 |  -646.4655 |  1571.01794 |  -2956.9480 |\n",
       "| 9 |  9353.5345 | 11571.01794 |   7043.0520 |\n",
       "| 10 | -2393.9175 |    -6.28687 |  -4881.2204 |\n",
       "| 11 |  1794.4901 |  4293.55825 |   -810.5670 |\n",
       "| 12 | -6558.6470 | -3996.94142 |  -9230.1073 |\n",
       "| 13 | -5395.6470 | -2833.94142 |  -8067.1073 |\n",
       "| 14 | -6206.4673 | -3578.34781 |  -8948.4524 |\n",
       "| 15 | -5969.2320 | -3049.54564 |  -9021.7814 |\n",
       "| 16 | -3011.9810 |   215.72280 |  -6393.5200 |\n",
       "| 17 | -6880.8963 | -3501.70129 | -10424.3203 |\n",
       "| 18 |  8203.6784 | 11729.02443 |   4504.1698 |\n",
       "| 19 |   485.9151 |  4397.96371 |  -3624.9786 |\n",
       "| 20 | 12056.4119 | 16023.56902 |   7887.2647 |\n",
       "| 21 |  1767.5544 |  6073.30800 |  -2754.6187 |\n",
       "| 22 |  5271.3476 |  9667.68411 |    656.8778 |\n",
       "| 23 |   298.0039 |  4973.44210 |  -4604.3631 |\n",
       "| 24 |  9859.8007 | 14725.20096 |   4755.4976 |\n",
       "| 25 |   660.7814 |  6075.18262 |  -5037.2589 |\n",
       "| 26 | -6008.3037 |   -74.63947 | -12275.2017 |\n",
       "| 27 |   822.8016 |  8001.29411 |  -6828.5903 |\n",
       "| 28 | -4398.0098 |  3088.94496 | -12396.6625 |\n",
       "| 29 |  -585.9028 |  9606.50471 | -11699.4047 |\n",
       "| 30 | -2709.5540 |  8423.65302 | -14935.3138 |\n",
       "\n"
      ],
      "text/plain": [
       "   fit        lwr         upr        \n",
       "1   1109.4403  4322.10830  -2397.9442\n",
       "2   6518.3253  9580.57073   3200.0390\n",
       "3  -3442.2275  -529.61227  -6576.5675\n",
       "4  -1508.4410  1055.15936  -4226.7875\n",
       "5  -6742.8326 -4298.16681  -9322.7440\n",
       "6   4164.5737  6371.59586   1860.6566\n",
       "7   6808.2527  9010.62977   4511.0276\n",
       "8   -646.4655  1571.01794  -2956.9480\n",
       "9   9353.5345 11571.01794   7043.0520\n",
       "10 -2393.9175    -6.28687  -4881.2204\n",
       "11  1794.4901  4293.55825   -810.5670\n",
       "12 -6558.6470 -3996.94142  -9230.1073\n",
       "13 -5395.6470 -2833.94142  -8067.1073\n",
       "14 -6206.4673 -3578.34781  -8948.4524\n",
       "15 -5969.2320 -3049.54564  -9021.7814\n",
       "16 -3011.9810   215.72280  -6393.5200\n",
       "17 -6880.8963 -3501.70129 -10424.3203\n",
       "18  8203.6784 11729.02443   4504.1698\n",
       "19   485.9151  4397.96371  -3624.9786\n",
       "20 12056.4119 16023.56902   7887.2647\n",
       "21  1767.5544  6073.30800  -2754.6187\n",
       "22  5271.3476  9667.68411    656.8778\n",
       "23   298.0039  4973.44210  -4604.3631\n",
       "24  9859.8007 14725.20096   4755.4976\n",
       "25   660.7814  6075.18262  -5037.2589\n",
       "26 -6008.3037   -74.63947 -12275.2017\n",
       "27   822.8016  8001.29411  -6828.5903\n",
       "28 -4398.0098  3088.94496 -12396.6625\n",
       "29  -585.9028  9606.50471 -11699.4047\n",
       "30 -2709.5540  8423.65302 -14935.3138"
      ]
     },
     "metadata": {},
     "output_type": "display_data"
    },
    {
     "data": {
      "text/html": [
       "6676.88363289415"
      ],
      "text/latex": [
       "6676.88363289415"
      ],
      "text/markdown": [
       "6676.88363289415"
      ],
      "text/plain": [
       "[1] 6676.884"
      ]
     },
     "metadata": {},
     "output_type": "display_data"
    },
    {
     "data": {
      "image/png": "[encoded data removed]",
      "text/plain": [
       "plot without title"
      ]
     },
     "metadata": {
      "image/png": {
       "height": 420,
       "width": 420
      },
      "text/plain": {
       "height": 420,
       "width": 420
      }
     },
     "output_type": "display_data"
    }
   ],
   "source": [
    "# Polynomial transformation 4\n",
    "plot(log(Salary) , Year_exp + I(Year_exp * Year_exp))\n",
    "cor(log(Salary) ,Year_exp + I(Year_exp * Year_exp)) #0.921130222058085 corelation exists\n",
    "lm_3 <- lm(log(Salary) ~ Year_exp + I(Year_exp * Year_exp))\n",
    "summary(lm_3)\n",
    "\n",
    "confint(lm_3,level=0.95)# confidence interval\n",
    "\n",
    "log_res <- predict(lm_3,interval=\"confidence\") #predicted confidence\n",
    "atpoly <- exp(log_res) # expontial values at play \n",
    "atpoly\n",
    "err_poly <- Salary - atpoly  # error deducted from y\n",
    "err_poly\n",
    "\n",
    "rmse3 <- sqrt(mean(err_poly^2)) # rmse\n",
    "rmse3\n"
   ]
  },
  {
   "cell_type": "code",
   "execution_count": null,
   "metadata": {},
   "outputs": [],
   "source": []
  }
 ],
 "metadata": {
  "kernelspec": {
   "display_name": "R",
   "language": "R",
   "name": "ir"
  },
  "language_info": {
   "codemirror_mode": "r",
   "file_extension": ".r",
   "mimetype": "text/x-r-source",
   "name": "R",
   "pygments_lexer": "r",
   "version": "3.6.3"
  }
 },
 "nbformat": 4,
 "nbformat_minor": 2
}
