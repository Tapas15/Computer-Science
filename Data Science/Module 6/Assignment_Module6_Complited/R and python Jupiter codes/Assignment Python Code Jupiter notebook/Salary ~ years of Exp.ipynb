{
 "cells": [
  {
   "cell_type": "code",
   "execution_count": 4,
   "metadata": {},
   "outputs": [
    {
     "data": {
      "text/html": [
       "<div>\n",
       "<style scoped>\n",
       "    .dataframe tbody tr th:only-of-type {\n",
       "        vertical-align: middle;\n",
       "    }\n",
       "\n",
       "    .dataframe tbody tr th {\n",
       "        vertical-align: top;\n",
       "    }\n",
       "\n",
       "    .dataframe thead th {\n",
       "        text-align: right;\n",
       "    }\n",
       "</style>\n",
       "<table border=\"1\" class=\"dataframe\">\n",
       "  <thead>\n",
       "    <tr style=\"text-align: right;\">\n",
       "      <th></th>\n",
       "      <th>YearsExperience</th>\n",
       "      <th>Salary</th>\n",
       "    </tr>\n",
       "  </thead>\n",
       "  <tbody>\n",
       "    <tr>\n",
       "      <td>0</td>\n",
       "      <td>1.1</td>\n",
       "      <td>39343.0</td>\n",
       "    </tr>\n",
       "    <tr>\n",
       "      <td>1</td>\n",
       "      <td>1.3</td>\n",
       "      <td>46205.0</td>\n",
       "    </tr>\n",
       "    <tr>\n",
       "      <td>2</td>\n",
       "      <td>1.5</td>\n",
       "      <td>37731.0</td>\n",
       "    </tr>\n",
       "    <tr>\n",
       "      <td>3</td>\n",
       "      <td>2.0</td>\n",
       "      <td>43525.0</td>\n",
       "    </tr>\n",
       "    <tr>\n",
       "      <td>4</td>\n",
       "      <td>2.2</td>\n",
       "      <td>39891.0</td>\n",
       "    </tr>\n",
       "  </tbody>\n",
       "</table>\n",
       "</div>"
      ],
      "text/plain": [
       "   YearsExperience   Salary\n",
       "0              1.1  39343.0\n",
       "1              1.3  46205.0\n",
       "2              1.5  37731.0\n",
       "3              2.0  43525.0\n",
       "4              2.2  39891.0"
      ]
     },
     "execution_count": 4,
     "metadata": {},
     "output_type": "execute_result"
    }
   ],
   "source": [
    "import pandas as pd # for manupulationg of file \n",
    "import matplotlib.pyplot as plt\n",
    "Salary_Data= pd.read_csv(\"D:/R and python practice/Module 6/assignment/DataSets (7)/Salary_Data.csv\")\n",
    "Salary_Data.head(5)\n"
   ]
  },
  {
   "cell_type": "code",
   "execution_count": 6,
   "metadata": {},
   "outputs": [
    {
     "data": {
      "text/plain": [
       "{'whiskers': [<matplotlib.lines.Line2D at 0x1f54ab82b48>,\n",
       "  <matplotlib.lines.Line2D at 0x1f54ab82c88>,\n",
       "  <matplotlib.lines.Line2D at 0x1f54ab91f48>,\n",
       "  <matplotlib.lines.Line2D at 0x1f54ab8ab88>,\n",
       "  <matplotlib.lines.Line2D at 0x1f54aba5a88>,\n",
       "  <matplotlib.lines.Line2D at 0x1f54aba9a48>,\n",
       "  <matplotlib.lines.Line2D at 0x1f54abb2348>,\n",
       "  <matplotlib.lines.Line2D at 0x1f54abb82c8>,\n",
       "  <matplotlib.lines.Line2D at 0x1f54abc99c8>,\n",
       "  <matplotlib.lines.Line2D at 0x1f54aba9988>,\n",
       "  <matplotlib.lines.Line2D at 0x1f54abdaf48>,\n",
       "  <matplotlib.lines.Line2D at 0x1f54abda308>,\n",
       "  <matplotlib.lines.Line2D at 0x1f54abf1488>,\n",
       "  <matplotlib.lines.Line2D at 0x1f54abeb8c8>,\n",
       "  <matplotlib.lines.Line2D at 0x1f54ac01b88>,\n",
       "  <matplotlib.lines.Line2D at 0x1f54abfce08>,\n",
       "  <matplotlib.lines.Line2D at 0x1f54abc9948>,\n",
       "  <matplotlib.lines.Line2D at 0x1f54ac12388>,\n",
       "  <matplotlib.lines.Line2D at 0x1f54ac283c8>,\n",
       "  <matplotlib.lines.Line2D at 0x1f54ac22848>,\n",
       "  <matplotlib.lines.Line2D at 0x1f54ac3a8c8>,\n",
       "  <matplotlib.lines.Line2D at 0x1f54ac34d08>,\n",
       "  <matplotlib.lines.Line2D at 0x1f54ac4bfc8>,\n",
       "  <matplotlib.lines.Line2D at 0x1f54ac4b288>,\n",
       "  <matplotlib.lines.Line2D at 0x1f54ac63388>,\n",
       "  <matplotlib.lines.Line2D at 0x1f54ac5a7c8>,\n",
       "  <matplotlib.lines.Line2D at 0x1f54ac718c8>,\n",
       "  <matplotlib.lines.Line2D at 0x1f54ac6cd08>,\n",
       "  <matplotlib.lines.Line2D at 0x1f54ac82fc8>,\n",
       "  <matplotlib.lines.Line2D at 0x1f54ab94e88>,\n",
       "  <matplotlib.lines.Line2D at 0x1f54ac90f08>,\n",
       "  <matplotlib.lines.Line2D at 0x1f54ac90fc8>,\n",
       "  <matplotlib.lines.Line2D at 0x1f54aca6bc8>,\n",
       "  <matplotlib.lines.Line2D at 0x1f54aca6d08>,\n",
       "  <matplotlib.lines.Line2D at 0x1f54acb5cc8>,\n",
       "  <matplotlib.lines.Line2D at 0x1f54acb5e88>,\n",
       "  <matplotlib.lines.Line2D at 0x1f54accc388>,\n",
       "  <matplotlib.lines.Line2D at 0x1f54acc67c8>,\n",
       "  <matplotlib.lines.Line2D at 0x1f54acdc8c8>,\n",
       "  <matplotlib.lines.Line2D at 0x1f54acd8d08>,\n",
       "  <matplotlib.lines.Line2D at 0x1f54acedfc8>,\n",
       "  <matplotlib.lines.Line2D at 0x1f54aced288>,\n",
       "  <matplotlib.lines.Line2D at 0x1f54ad03388>,\n",
       "  <matplotlib.lines.Line2D at 0x1f54acff7c8>,\n",
       "  <matplotlib.lines.Line2D at 0x1f54ad158c8>,\n",
       "  <matplotlib.lines.Line2D at 0x1f54ad0dd08>,\n",
       "  <matplotlib.lines.Line2D at 0x1f54ad26fc8>,\n",
       "  <matplotlib.lines.Line2D at 0x1f54ad26288>,\n",
       "  <matplotlib.lines.Line2D at 0x1f54ad3d388>,\n",
       "  <matplotlib.lines.Line2D at 0x1f54ad377c8>,\n",
       "  <matplotlib.lines.Line2D at 0x1f54ad4d8c8>,\n",
       "  <matplotlib.lines.Line2D at 0x1f54ad47d08>,\n",
       "  <matplotlib.lines.Line2D at 0x1f54ad5efc8>,\n",
       "  <matplotlib.lines.Line2D at 0x1f54ad5e288>,\n",
       "  <matplotlib.lines.Line2D at 0x1f54ad73388>,\n",
       "  <matplotlib.lines.Line2D at 0x1f54ad6d7c8>,\n",
       "  <matplotlib.lines.Line2D at 0x1f54ad828c8>,\n",
       "  <matplotlib.lines.Line2D at 0x1f54ad7fd08>,\n",
       "  <matplotlib.lines.Line2D at 0x1f54ad93fc8>,\n",
       "  <matplotlib.lines.Line2D at 0x1f54ad93288>],\n",
       " 'caps': [<matplotlib.lines.Line2D at 0x1f54ab87c88>,\n",
       "  <matplotlib.lines.Line2D at 0x1f54ab87dc8>,\n",
       "  <matplotlib.lines.Line2D at 0x1f54ab94f08>,\n",
       "  <matplotlib.lines.Line2D at 0x1f54ab99f08>,\n",
       "  <matplotlib.lines.Line2D at 0x1f54aba9c48>,\n",
       "  <matplotlib.lines.Line2D at 0x1f54abadb48>,\n",
       "  <matplotlib.lines.Line2D at 0x1f54abb8cc8>,\n",
       "  <matplotlib.lines.Line2D at 0x1f54abb8748>,\n",
       "  <matplotlib.lines.Line2D at 0x1f54abcf288>,\n",
       "  <matplotlib.lines.Line2D at 0x1f54abada88>,\n",
       "  <matplotlib.lines.Line2D at 0x1f54abdefc8>,\n",
       "  <matplotlib.lines.Line2D at 0x1f54abde808>,\n",
       "  <matplotlib.lines.Line2D at 0x1f54abf1e08>,\n",
       "  <matplotlib.lines.Line2D at 0x1f54abf1d48>,\n",
       "  <matplotlib.lines.Line2D at 0x1f54ac062c8>,\n",
       "  <matplotlib.lines.Line2D at 0x1f54ac01d08>,\n",
       "  <matplotlib.lines.Line2D at 0x1f54ac18f48>,\n",
       "  <matplotlib.lines.Line2D at 0x1f54ac187c8>,\n",
       "  <matplotlib.lines.Line2D at 0x1f54ac28c48>,\n",
       "  <matplotlib.lines.Line2D at 0x1f54ac286c8>,\n",
       "  <matplotlib.lines.Line2D at 0x1f54ac401c8>,\n",
       "  <matplotlib.lines.Line2D at 0x1f54ac3ac08>,\n",
       "  <matplotlib.lines.Line2D at 0x1f54ac51708>,\n",
       "  <matplotlib.lines.Line2D at 0x1f54ac51e88>,\n",
       "  <matplotlib.lines.Line2D at 0x1f54ac63c48>,\n",
       "  <matplotlib.lines.Line2D at 0x1f54ac636c8>,\n",
       "  <matplotlib.lines.Line2D at 0x1f54ac771c8>,\n",
       "  <matplotlib.lines.Line2D at 0x1f54ac71c08>,\n",
       "  <matplotlib.lines.Line2D at 0x1f54aba5808>,\n",
       "  <matplotlib.lines.Line2D at 0x1f54ab76748>,\n",
       "  <matplotlib.lines.Line2D at 0x1f54ac96a08>,\n",
       "  <matplotlib.lines.Line2D at 0x1f54ac9c9c8>,\n",
       "  <matplotlib.lines.Line2D at 0x1f54acabc88>,\n",
       "  <matplotlib.lines.Line2D at 0x1f54acabdc8>,\n",
       "  <matplotlib.lines.Line2D at 0x1f54acb0648>,\n",
       "  <matplotlib.lines.Line2D at 0x1f54acbb5c8>,\n",
       "  <matplotlib.lines.Line2D at 0x1f54acccc48>,\n",
       "  <matplotlib.lines.Line2D at 0x1f54accc6c8>,\n",
       "  <matplotlib.lines.Line2D at 0x1f54acdcc08>,\n",
       "  <matplotlib.lines.Line2D at 0x1f54ace21c8>,\n",
       "  <matplotlib.lines.Line2D at 0x1f54acf5708>,\n",
       "  <matplotlib.lines.Line2D at 0x1f54acf5e88>,\n",
       "  <matplotlib.lines.Line2D at 0x1f54ad03d08>,\n",
       "  <matplotlib.lines.Line2D at 0x1f54ad03c48>,\n",
       "  <matplotlib.lines.Line2D at 0x1f54ad15c08>,\n",
       "  <matplotlib.lines.Line2D at 0x1f54ad1b1c8>,\n",
       "  <matplotlib.lines.Line2D at 0x1f54ad2bf88>,\n",
       "  <matplotlib.lines.Line2D at 0x1f54ad2b708>,\n",
       "  <matplotlib.lines.Line2D at 0x1f54ad3dc48>,\n",
       "  <matplotlib.lines.Line2D at 0x1f54ad3d6c8>,\n",
       "  <matplotlib.lines.Line2D at 0x1f54ad511c8>,\n",
       "  <matplotlib.lines.Line2D at 0x1f54ad4dc08>,\n",
       "  <matplotlib.lines.Line2D at 0x1f54aca9f88>,\n",
       "  <matplotlib.lines.Line2D at 0x1f54aca9708>,\n",
       "  <matplotlib.lines.Line2D at 0x1f54ad73c48>,\n",
       "  <matplotlib.lines.Line2D at 0x1f54ad736c8>,\n",
       "  <matplotlib.lines.Line2D at 0x1f54ad82c08>,\n",
       "  <matplotlib.lines.Line2D at 0x1f54ad891c8>,\n",
       "  <matplotlib.lines.Line2D at 0x1f54ad9a708>,\n",
       "  <matplotlib.lines.Line2D at 0x1f54ad9ae88>],\n",
       " 'boxes': [<matplotlib.lines.Line2D at 0x1f54ab82108>,\n",
       "  <matplotlib.lines.Line2D at 0x1f54aa33808>,\n",
       "  <matplotlib.lines.Line2D at 0x1f54ab916c8>,\n",
       "  <matplotlib.lines.Line2D at 0x1f54aba5208>,\n",
       "  <matplotlib.lines.Line2D at 0x1f54abb2d88>,\n",
       "  <matplotlib.lines.Line2D at 0x1f54abdae48>,\n",
       "  <matplotlib.lines.Line2D at 0x1f54abda908>,\n",
       "  <matplotlib.lines.Line2D at 0x1f54abfcbc8>,\n",
       "  <matplotlib.lines.Line2D at 0x1f54abc3b48>,\n",
       "  <matplotlib.lines.Line2D at 0x1f54abc9308>,\n",
       "  <matplotlib.lines.Line2D at 0x1f54ac34ac8>,\n",
       "  <matplotlib.lines.Line2D at 0x1f54ac3a288>,\n",
       "  <matplotlib.lines.Line2D at 0x1f54ac4b7c8>,\n",
       "  <matplotlib.lines.Line2D at 0x1f54ac6cac8>,\n",
       "  <matplotlib.lines.Line2D at 0x1f54ac71288>,\n",
       "  <matplotlib.lines.Line2D at 0x1f54ac827c8>,\n",
       "  <matplotlib.lines.Line2D at 0x1f54ac8cfc8>,\n",
       "  <matplotlib.lines.Line2D at 0x1f54aca0b48>,\n",
       "  <matplotlib.lines.Line2D at 0x1f54acb5688>,\n",
       "  <matplotlib.lines.Line2D at 0x1f54acd8ac8>,\n",
       "  <matplotlib.lines.Line2D at 0x1f54acdc288>,\n",
       "  <matplotlib.lines.Line2D at 0x1f54aced7c8>,\n",
       "  <matplotlib.lines.Line2D at 0x1f54ad0dac8>,\n",
       "  <matplotlib.lines.Line2D at 0x1f54ad15288>,\n",
       "  <matplotlib.lines.Line2D at 0x1f54ad267c8>,\n",
       "  <matplotlib.lines.Line2D at 0x1f54ad47ac8>,\n",
       "  <matplotlib.lines.Line2D at 0x1f54ad4d288>,\n",
       "  <matplotlib.lines.Line2D at 0x1f54ad5e7c8>,\n",
       "  <matplotlib.lines.Line2D at 0x1f54ad7fac8>,\n",
       "  <matplotlib.lines.Line2D at 0x1f54ad82288>],\n",
       " 'medians': [<matplotlib.lines.Line2D at 0x1f54ab8ad88>,\n",
       "  <matplotlib.lines.Line2D at 0x1f54ab99fc8>,\n",
       "  <matplotlib.lines.Line2D at 0x1f54abadd48>,\n",
       "  <matplotlib.lines.Line2D at 0x1f54abbe3c8>,\n",
       "  <matplotlib.lines.Line2D at 0x1f54abcf3c8>,\n",
       "  <matplotlib.lines.Line2D at 0x1f54abe6748>,\n",
       "  <matplotlib.lines.Line2D at 0x1f54abf6c88>,\n",
       "  <matplotlib.lines.Line2D at 0x1f54ac063c8>,\n",
       "  <matplotlib.lines.Line2D at 0x1f54ac1d6c8>,\n",
       "  <matplotlib.lines.Line2D at 0x1f54ac30348>,\n",
       "  <matplotlib.lines.Line2D at 0x1f54ac402c8>,\n",
       "  <matplotlib.lines.Line2D at 0x1f54ac51808>,\n",
       "  <matplotlib.lines.Line2D at 0x1f54ac66348>,\n",
       "  <matplotlib.lines.Line2D at 0x1f54ac772c8>,\n",
       "  <matplotlib.lines.Line2D at 0x1f54ac84f88>,\n",
       "  <matplotlib.lines.Line2D at 0x1f54ac9cb08>,\n",
       "  <matplotlib.lines.Line2D at 0x1f54acb0d48>,\n",
       "  <matplotlib.lines.Line2D at 0x1f54acc0648>,\n",
       "  <matplotlib.lines.Line2D at 0x1f54acd2348>,\n",
       "  <matplotlib.lines.Line2D at 0x1f54ace8108>,\n",
       "  <matplotlib.lines.Line2D at 0x1f54acf5808>,\n",
       "  <matplotlib.lines.Line2D at 0x1f54ad09b88>,\n",
       "  <matplotlib.lines.Line2D at 0x1f54ad20108>,\n",
       "  <matplotlib.lines.Line2D at 0x1f54ad30648>,\n",
       "  <matplotlib.lines.Line2D at 0x1f54ad41348>,\n",
       "  <matplotlib.lines.Line2D at 0x1f54ad512c8>,\n",
       "  <matplotlib.lines.Line2D at 0x1f54ad68648>,\n",
       "  <matplotlib.lines.Line2D at 0x1f54ad78348>,\n",
       "  <matplotlib.lines.Line2D at 0x1f54ad8f108>,\n",
       "  <matplotlib.lines.Line2D at 0x1f54ad9a808>],\n",
       " 'fliers': [<matplotlib.lines.Line2D at 0x1f54ab8aec8>,\n",
       "  <matplotlib.lines.Line2D at 0x1f54ab9ffc8>,\n",
       "  <matplotlib.lines.Line2D at 0x1f54abb2cc8>,\n",
       "  <matplotlib.lines.Line2D at 0x1f54abbe588>,\n",
       "  <matplotlib.lines.Line2D at 0x1f54abd49c8>,\n",
       "  <matplotlib.lines.Line2D at 0x1f54abe6ec8>,\n",
       "  <matplotlib.lines.Line2D at 0x1f54abf6748>,\n",
       "  <matplotlib.lines.Line2D at 0x1f54ac0c148>,\n",
       "  <matplotlib.lines.Line2D at 0x1f54abd4b48>,\n",
       "  <matplotlib.lines.Line2D at 0x1f54ac30508>,\n",
       "  <matplotlib.lines.Line2D at 0x1f54ac45048>,\n",
       "  <matplotlib.lines.Line2D at 0x1f54ac55dc8>,\n",
       "  <matplotlib.lines.Line2D at 0x1f54ac66508>,\n",
       "  <matplotlib.lines.Line2D at 0x1f54ac7b048>,\n",
       "  <matplotlib.lines.Line2D at 0x1f54ac8cf08>,\n",
       "  <matplotlib.lines.Line2D at 0x1f54aca0a88>,\n",
       "  <matplotlib.lines.Line2D at 0x1f54acb0e88>,\n",
       "  <matplotlib.lines.Line2D at 0x1f54acc0dc8>,\n",
       "  <matplotlib.lines.Line2D at 0x1f54acd2508>,\n",
       "  <matplotlib.lines.Line2D at 0x1f54ace2b88>,\n",
       "  <matplotlib.lines.Line2D at 0x1f54acfadc8>,\n",
       "  <matplotlib.lines.Line2D at 0x1f54ad09648>,\n",
       "  <matplotlib.lines.Line2D at 0x1f54ad1bb88>,\n",
       "  <matplotlib.lines.Line2D at 0x1f54ad30dc8>,\n",
       "  <matplotlib.lines.Line2D at 0x1f54ad41508>,\n",
       "  <matplotlib.lines.Line2D at 0x1f54ad58048>,\n",
       "  <matplotlib.lines.Line2D at 0x1f54ad68dc8>,\n",
       "  <matplotlib.lines.Line2D at 0x1f54ad78508>,\n",
       "  <matplotlib.lines.Line2D at 0x1f54ad89b88>,\n",
       "  <matplotlib.lines.Line2D at 0x1f54ad9fdc8>],\n",
       " 'means': []}"
      ]
     },
     "execution_count": 6,
     "metadata": {},
     "output_type": "execute_result"
    },
    {
     "data": {
      "image/png": "[encoded data removed]",
      "text/plain": [
       "<Figure size 432x288 with 1 Axes>"
      ]
     },
     "metadata": {
      "needs_background": "light"
     },
     "output_type": "display_data"
    }
   ],
   "source": [
    "###############################Data pre procesing and Cleaning#######################\n",
    "plt.boxplot(Salary_Data) # many boxplot "
   ]
  },
  {
   "cell_type": "code",
   "execution_count": 7,
   "metadata": {},
   "outputs": [
    {
     "data": {
      "text/plain": [
       "{'whiskers': [<matplotlib.lines.Line2D at 0x1f54aeaab48>,\n",
       "  <matplotlib.lines.Line2D at 0x1f54aea4648>],\n",
       " 'caps': [<matplotlib.lines.Line2D at 0x1f54aeadc88>,\n",
       "  <matplotlib.lines.Line2D at 0x1f54aeb0c48>],\n",
       " 'boxes': [<matplotlib.lines.Line2D at 0x1f54aeaa988>],\n",
       " 'medians': [<matplotlib.lines.Line2D at 0x1f54aeb0d88>],\n",
       " 'fliers': [<matplotlib.lines.Line2D at 0x1f54aeb7d08>],\n",
       " 'means': []}"
      ]
     },
     "execution_count": 7,
     "metadata": {},
     "output_type": "execute_result"
    },
    {
     "data": {
      "image/png": "[encoded data removed]",
      "text/plain": [
       "<Figure size 432x288 with 1 Axes>"
      ]
     },
     "metadata": {
      "needs_background": "light"
     },
     "output_type": "display_data"
    }
   ],
   "source": [
    "plt.boxplot(Salary_Data.YearsExperience)# no outliers\n"
   ]
  },
  {
   "cell_type": "code",
   "execution_count": 8,
   "metadata": {},
   "outputs": [
    {
     "data": {
      "text/plain": [
       "{'whiskers': [<matplotlib.lines.Line2D at 0x1f54af1e288>,\n",
       "  <matplotlib.lines.Line2D at 0x1f54af1ea48>],\n",
       " 'caps': [<matplotlib.lines.Line2D at 0x1f54af1eb88>,\n",
       "  <matplotlib.lines.Line2D at 0x1f54af229c8>],\n",
       " 'boxes': [<matplotlib.lines.Line2D at 0x1f54af1b848>],\n",
       " 'medians': [<matplotlib.lines.Line2D at 0x1f54af22b08>],\n",
       " 'fliers': [<matplotlib.lines.Line2D at 0x1f54af27948>],\n",
       " 'means': []}"
      ]
     },
     "execution_count": 8,
     "metadata": {},
     "output_type": "execute_result"
    },
    {
     "data": {
      "image/png": "[encoded data removed]",
      "text/plain": [
       "<Figure size 432x288 with 1 Axes>"
      ]
     },
     "metadata": {
      "needs_background": "light"
     },
     "output_type": "display_data"
    }
   ],
   "source": [
    "plt.boxplot(Salary_Data.Salary)"
   ]
  },
  {
   "cell_type": "code",
   "execution_count": 9,
   "metadata": {},
   "outputs": [],
   "source": [
    "# DATA pre processing checking for na values "
   ]
  },
  {
   "cell_type": "code",
   "execution_count": 10,
   "metadata": {},
   "outputs": [
    {
     "data": {
      "text/plain": [
       "0     True\n",
       "1     True\n",
       "2     True\n",
       "3     True\n",
       "4     True\n",
       "5     True\n",
       "6     True\n",
       "7     True\n",
       "8     True\n",
       "9     True\n",
       "10    True\n",
       "11    True\n",
       "12    True\n",
       "13    True\n",
       "14    True\n",
       "15    True\n",
       "16    True\n",
       "17    True\n",
       "18    True\n",
       "19    True\n",
       "20    True\n",
       "21    True\n",
       "22    True\n",
       "23    True\n",
       "24    True\n",
       "25    True\n",
       "26    True\n",
       "27    True\n",
       "28    True\n",
       "29    True\n",
       "dtype: bool"
      ]
     },
     "execution_count": 10,
     "metadata": {},
     "output_type": "execute_result"
    }
   ],
   "source": [
    "Salary_Data.all(axis = 'columns') # true value exist"
   ]
  },
  {
   "cell_type": "code",
   "execution_count": 11,
   "metadata": {},
   "outputs": [
    {
     "data": {
      "text/plain": [
       "True"
      ]
     },
     "execution_count": 11,
     "metadata": {},
     "output_type": "execute_result"
    }
   ],
   "source": [
    "Salary_Data.all(axis=None) # there is no na or black Na exits "
   ]
  },
  {
   "cell_type": "code",
   "execution_count": 12,
   "metadata": {},
   "outputs": [
    {
     "data": {
      "text/html": [
       "<div>\n",
       "<style scoped>\n",
       "    .dataframe tbody tr th:only-of-type {\n",
       "        vertical-align: middle;\n",
       "    }\n",
       "\n",
       "    .dataframe tbody tr th {\n",
       "        vertical-align: top;\n",
       "    }\n",
       "\n",
       "    .dataframe thead th {\n",
       "        text-align: right;\n",
       "    }\n",
       "</style>\n",
       "<table border=\"1\" class=\"dataframe\">\n",
       "  <thead>\n",
       "    <tr style=\"text-align: right;\">\n",
       "      <th></th>\n",
       "      <th>YearsExperience</th>\n",
       "      <th>Salary</th>\n",
       "    </tr>\n",
       "  </thead>\n",
       "  <tbody>\n",
       "    <tr>\n",
       "      <td>count</td>\n",
       "      <td>30.000000</td>\n",
       "      <td>30.000000</td>\n",
       "    </tr>\n",
       "    <tr>\n",
       "      <td>mean</td>\n",
       "      <td>5.313333</td>\n",
       "      <td>76003.000000</td>\n",
       "    </tr>\n",
       "    <tr>\n",
       "      <td>std</td>\n",
       "      <td>2.837888</td>\n",
       "      <td>27414.429785</td>\n",
       "    </tr>\n",
       "    <tr>\n",
       "      <td>min</td>\n",
       "      <td>1.100000</td>\n",
       "      <td>37731.000000</td>\n",
       "    </tr>\n",
       "    <tr>\n",
       "      <td>25%</td>\n",
       "      <td>3.200000</td>\n",
       "      <td>56720.750000</td>\n",
       "    </tr>\n",
       "    <tr>\n",
       "      <td>50%</td>\n",
       "      <td>4.700000</td>\n",
       "      <td>65237.000000</td>\n",
       "    </tr>\n",
       "    <tr>\n",
       "      <td>75%</td>\n",
       "      <td>7.700000</td>\n",
       "      <td>100544.750000</td>\n",
       "    </tr>\n",
       "    <tr>\n",
       "      <td>max</td>\n",
       "      <td>10.500000</td>\n",
       "      <td>122391.000000</td>\n",
       "    </tr>\n",
       "  </tbody>\n",
       "</table>\n",
       "</div>"
      ],
      "text/plain": [
       "       YearsExperience         Salary\n",
       "count        30.000000      30.000000\n",
       "mean          5.313333   76003.000000\n",
       "std           2.837888   27414.429785\n",
       "min           1.100000   37731.000000\n",
       "25%           3.200000   56720.750000\n",
       "50%           4.700000   65237.000000\n",
       "75%           7.700000  100544.750000\n",
       "max          10.500000  122391.000000"
      ]
     },
     "execution_count": 12,
     "metadata": {},
     "output_type": "execute_result"
    }
   ],
   "source": [
    "Salary_Data.describe()# summary stat"
   ]
  },
  {
   "cell_type": "code",
   "execution_count": 13,
   "metadata": {},
   "outputs": [],
   "source": [
    "#####################Exploratory DATA Annalyis##################################\n",
    "# Univariate annalysis "
   ]
  },
  {
   "cell_type": "code",
   "execution_count": 14,
   "metadata": {},
   "outputs": [
    {
     "name": "stdout",
     "output_type": "stream",
     "text": [
      "<class 'pandas.core.frame.DataFrame'>\n",
      "RangeIndex: 30 entries, 0 to 29\n",
      "Data columns (total 2 columns):\n",
      "YearsExperience    30 non-null float64\n",
      "Salary             30 non-null float64\n",
      "dtypes: float64(2)\n",
      "memory usage: 608.0 bytes\n"
     ]
    },
    {
     "data": {
      "text/plain": [
       "0      37731.0\n",
       "1      39343.0\n",
       "2      39891.0\n",
       "3      43525.0\n",
       "4      46205.0\n",
       "5      54445.0\n",
       "6      55794.0\n",
       "7      56642.0\n",
       "8      56957.0\n",
       "9      57081.0\n",
       "10     57189.0\n",
       "11     60150.0\n",
       "12     61111.0\n",
       "13     63218.0\n",
       "14     64445.0\n",
       "15     66029.0\n",
       "16     67938.0\n",
       "17     81363.0\n",
       "18     83088.0\n",
       "19     91738.0\n",
       "20     93940.0\n",
       "21     98273.0\n",
       "22    101302.0\n",
       "23    105582.0\n",
       "24    109431.0\n",
       "25    112635.0\n",
       "26    113812.0\n",
       "27    116969.0\n",
       "28    121872.0\n",
       "29    122391.0\n",
       "dtype: float64"
      ]
     },
     "execution_count": 14,
     "metadata": {},
     "output_type": "execute_result"
    }
   ],
   "source": [
    "Salary_Data.info() # number of columns and rows index \n",
    "#median\n",
    "Salary_Data.YearsExperience.median()# median is 90.8\n",
    "Salary_Data.Salary.median()#  96.54\n",
    "# mode exists\n",
    "Salary_Data.YearsExperience.mode() # mode  0     94.5 ,1    106.0 ,2    108.5\n",
    "Salary_Data.Salary.mode() # mode  0    121.0 ,1    123.0"
   ]
  },
  {
   "cell_type": "code",
   "execution_count": 15,
   "metadata": {},
   "outputs": [
    {
     "data": {
      "text/plain": [
       "76003.0"
      ]
     },
     "execution_count": 15,
     "metadata": {},
     "output_type": "execute_result"
    }
   ],
   "source": [
    "#mean\n",
    "Salary_Data.YearsExperience.mean() # YearsExperience returning mean 76003.0\n"
   ]
  },
  {
   "cell_type": "code",
   "execution_count": 16,
   "metadata": {},
   "outputs": [
    {
     "data": {
      "text/plain": [
       "76003.0"
      ]
     },
     "execution_count": 16,
     "metadata": {},
     "output_type": "execute_result"
    }
   ],
   "source": [
    "Salary_Data.Salary.mean() #Salary returning mean 76003.0"
   ]
  },
  {
   "cell_type": "code",
   "execution_count": 17,
   "metadata": {},
   "outputs": [
    {
     "data": {
      "text/plain": [
       "65237.0"
      ]
     },
     "execution_count": 17,
     "metadata": {},
     "output_type": "execute_result"
    }
   ],
   "source": [
    "#median\n",
    "Salary_Data.YearsExperience.median()# median is 65237.0\n"
   ]
  },
  {
   "cell_type": "code",
   "execution_count": 18,
   "metadata": {},
   "outputs": [
    {
     "data": {
      "text/plain": [
       "65237.0"
      ]
     },
     "execution_count": 18,
     "metadata": {},
     "output_type": "execute_result"
    }
   ],
   "source": [
    "Salary_Data.Salary.median()#  65237.0"
   ]
  },
  {
   "cell_type": "code",
   "execution_count": 21,
   "metadata": {},
   "outputs": [
    {
     "data": {
      "text/plain": [
       "0    3.2\n",
       "1    4.0\n",
       "dtype: float64"
      ]
     },
     "execution_count": 21,
     "metadata": {},
     "output_type": "execute_result"
    }
   ],
   "source": [
    "# mode exists\n",
    "Salary_Data.YearsExperience.mode() "
   ]
  },
  {
   "cell_type": "code",
   "execution_count": 22,
   "metadata": {},
   "outputs": [
    {
     "data": {
      "text/plain": [
       "0      37731.0\n",
       "1      39343.0\n",
       "2      39891.0\n",
       "3      43525.0\n",
       "4      46205.0\n",
       "5      54445.0\n",
       "6      55794.0\n",
       "7      56642.0\n",
       "8      56957.0\n",
       "9      57081.0\n",
       "10     57189.0\n",
       "11     60150.0\n",
       "12     61111.0\n",
       "13     63218.0\n",
       "14     64445.0\n",
       "15     66029.0\n",
       "16     67938.0\n",
       "17     81363.0\n",
       "18     83088.0\n",
       "19     91738.0\n",
       "20     93940.0\n",
       "21     98273.0\n",
       "22    101302.0\n",
       "23    105582.0\n",
       "24    109431.0\n",
       "25    112635.0\n",
       "26    113812.0\n",
       "27    116969.0\n",
       "28    121872.0\n",
       "29    122391.0\n",
       "dtype: float64"
      ]
     },
     "execution_count": 22,
     "metadata": {},
     "output_type": "execute_result"
    }
   ],
   "source": [
    "\n",
    "Salary_Data.Salary.mode()"
   ]
  },
  {
   "cell_type": "code",
   "execution_count": 27,
   "metadata": {},
   "outputs": [
    {
     "data": {
      "text/plain": [
       "<BarContainer object of 30 artists>"
      ]
     },
     "execution_count": 27,
     "metadata": {},
     "output_type": "execute_result"
    },
    {
     "data": {
      "image/png": "[encoded data removed]",
      "text/plain": [
       "<Figure size 432x288 with 1 Axes>"
      ]
     },
     "metadata": {
      "needs_background": "light"
     },
     "output_type": "display_data"
    }
   ],
   "source": [
    "# Basic Bar plot \n",
    "plt.bar(x= Salary_Data[\"YearsExperience\"],height = Salary_Data[\"Salary\"]) # barplot visualization x and y as height\n",
    "\n"
   ]
  },
  {
   "cell_type": "code",
   "execution_count": 25,
   "metadata": {},
   "outputs": [
    {
     "data": {
      "text/plain": [
       "<BarContainer object of 30 artists>"
      ]
     },
     "execution_count": 25,
     "metadata": {},
     "output_type": "execute_result"
    },
    {
     "data": {
      "image/png": "[encoded data removed]",
      "text/plain": [
       "<Figure size 432x288 with 1 Axes>"
      ]
     },
     "metadata": {
      "needs_background": "light"
     },
     "output_type": "display_data"
    }
   ],
   "source": [
    "plt.bar(x= Salary_Data[\"YearsExperience\"],height = Salary_Data[\"YearsExperience\"]) # barplot visualization x column increasing order"
   ]
  },
  {
   "cell_type": "code",
   "execution_count": 31,
   "metadata": {},
   "outputs": [
    {
     "data": {
      "text/plain": [
       "<matplotlib.axes._subplots.AxesSubplot at 0x1f54c662d48>"
      ]
     },
     "execution_count": 31,
     "metadata": {},
     "output_type": "execute_result"
    },
    {
     "data": {
      "image/png": "[encoded data removed]",
      "text/plain": [
       "<Figure size 576x432 with 1 Axes>"
      ]
     },
     "metadata": {
      "needs_background": "light"
     },
     "output_type": "display_data"
    },
    {
     "data": {
      "image/png": "[encoded data removed]",
      "text/plain": [
       "<Figure size 576x432 with 1 Axes>"
      ]
     },
     "metadata": {
      "needs_background": "light"
     },
     "output_type": "display_data"
    }
   ],
   "source": [
    "# Basic line plot bi variate annalysis\n",
    "Salary_Data.plot.line(x='YearsExperience',y = 'Salary', figsize=(8,6)) # line plot x and y data visualization\n",
    "Salary_Data.plot.line(x='Salary',y = 'YearsExperience', figsize=(8,6)) # line plot y and x data visualization"
   ]
  },
  {
   "cell_type": "code",
   "execution_count": 32,
   "metadata": {},
   "outputs": [
    {
     "data": {
      "text/plain": [
       "<matplotlib.axes._subplots.AxesSubplot at 0x1f54c64cdc8>"
      ]
     },
     "execution_count": 32,
     "metadata": {},
     "output_type": "execute_result"
    },
    {
     "data": {
      "image/png": "[encoded data removed]",
      "text/plain": [
       "<Figure size 576x432 with 1 Axes>"
      ]
     },
     "metadata": {
      "needs_background": "light"
     },
     "output_type": "display_data"
    },
    {
     "data": {
      "image/png": "[encoded data removed]",
      "text/plain": [
       "<Figure size 576x432 with 1 Axes>"
      ]
     },
     "metadata": {
      "needs_background": "light"
     },
     "output_type": "display_data"
    }
   ],
   "source": [
    "#Scattar plot to see each sided data visualization bi-variate in uni\n",
    "Salary_Data.plot.scatter(x='YearsExperience',y = 'Salary', figsize=(8,6)) # Scatter plot x and y data visualization\n",
    "Salary_Data.plot.scatter(x='Salary',y = 'YearsExperience',figsize =(8,6)) # Scatter plot y and x Data visualization"
   ]
  },
  {
   "cell_type": "code",
   "execution_count": 33,
   "metadata": {},
   "outputs": [
    {
     "data": {
      "text/plain": [
       "<matplotlib.axes._subplots.AxesSubplot at 0x1f54c656a08>"
      ]
     },
     "execution_count": 33,
     "metadata": {},
     "output_type": "execute_result"
    },
    {
     "data": {
      "image/png": "[encoded data removed]",
      "text/plain": [
       "<Figure size 720x576 with 1 Axes>"
      ]
     },
     "metadata": {
      "needs_background": "light"
     },
     "output_type": "display_data"
    }
   ],
   "source": [
    "#Basic Box plot to see the data visualization \n",
    "Salary_Data.plot.box(figsize=(10,8)) # YearsExperience wiscer is small and Salary wiscer it too long there is no outliers"
   ]
  },
  {
   "cell_type": "code",
   "execution_count": 34,
   "metadata": {},
   "outputs": [
    {
     "data": {
      "text/plain": [
       "<matplotlib.axes._subplots.AxesSubplot at 0x1f54c927588>"
      ]
     },
     "execution_count": 34,
     "metadata": {},
     "output_type": "execute_result"
    },
    {
     "data": {
      "image/png": "[encoded data removed]",
      "text/plain": [
       "<Figure size 432x288 with 1 Axes>"
      ]
     },
     "metadata": {
      "needs_background": "light"
     },
     "output_type": "display_data"
    }
   ],
   "source": [
    "# Basic Density plot normal visuality\n",
    "Salary_Data['YearsExperience'].plot.kde() # to see how data is distributed in normal view in each column\n",
    "Salary_Data['Salary'].plot.kde() # to see how data is distributed like as normal distribution\n"
   ]
  },
  {
   "cell_type": "code",
   "execution_count": 42,
   "metadata": {},
   "outputs": [
    {
     "data": {
      "text/plain": [
       "<matplotlib.axes._subplots.AxesSubplot at 0x1f556a5d408>"
      ]
     },
     "execution_count": 42,
     "metadata": {},
     "output_type": "execute_result"
    },
    {
     "data": {
      "image/png": "[encoded data removed]",
      "text/plain": [
       "<Figure size 432x288 with 1 Axes>"
      ]
     },
     "metadata": {
      "needs_background": "light"
     },
     "output_type": "display_data"
    }
   ],
   "source": [
    "# histogram annalysis \n",
    "Salary_Data['YearsExperience'].hist() # visualising histogram of waist data \n",
    "Salary_Data['Salary'].hist() # we can have ide about how data is spread\n",
    "Salary_Data['YearsExperience'].plot(kind ='hist',bins =20) # bin size reduced visualization\n",
    "Salary_Data['Salary'].plot(kind ='hist',bins =20)\n"
   ]
  },
  {
   "cell_type": "code",
   "execution_count": 44,
   "metadata": {},
   "outputs": [
    {
     "data": {
      "text/plain": [
       "<matplotlib.axes._subplots.AxesSubplot at 0x1f556be3c88>"
      ]
     },
     "execution_count": 44,
     "metadata": {},
     "output_type": "execute_result"
    },
    {
     "data": {
      "image/png": "[encoded data removed]",
      "text/plain": [
       "<Figure size 432x288 with 1 Axes>"
      ]
     },
     "metadata": {
      "needs_background": "light"
     },
     "output_type": "display_data"
    }
   ],
   "source": [
    "# histogram annalysis \n",
    "Salary_Data['YearsExperience'].hist() # visualising histogram of waist data \n",
    "\n",
    "Salary_Data['YearsExperience'].plot(kind ='hist',bins =20) # bin size reduced visualization\n"
   ]
  },
  {
   "cell_type": "code",
   "execution_count": 47,
   "metadata": {},
   "outputs": [
    {
     "data": {
      "text/plain": [
       "<matplotlib.axes._subplots.AxesSubplot at 0x1f5572c7e08>"
      ]
     },
     "execution_count": 47,
     "metadata": {},
     "output_type": "execute_result"
    },
    {
     "data": {
      "image/png": "[encoded data removed]",
      "text/plain": [
       "<Figure size 432x288 with 1 Axes>"
      ]
     },
     "metadata": {
      "needs_background": "light"
     },
     "output_type": "display_data"
    }
   ],
   "source": [
    "Salary_Data['Salary'].hist() # we can have ide about how data is spread"
   ]
  },
  {
   "cell_type": "code",
   "execution_count": 48,
   "metadata": {},
   "outputs": [
    {
     "data": {
      "text/plain": [
       "<matplotlib.axes._subplots.AxesSubplot at 0x1f557359fc8>"
      ]
     },
     "execution_count": 48,
     "metadata": {},
     "output_type": "execute_result"
    },
    {
     "data": {
      "image/png": "[encoded data removed]",
      "text/plain": [
       "<Figure size 432x288 with 1 Axes>"
      ]
     },
     "metadata": {
      "needs_background": "light"
     },
     "output_type": "display_data"
    }
   ],
   "source": [
    "Salary_Data['Salary'].plot(kind ='hist',bins =20)\n",
    "Salary_Data['YearsExperience'].plot(kind ='hist',bins =20) # bin size reduced visualization"
   ]
  },
  {
   "cell_type": "code",
   "execution_count": 49,
   "metadata": {},
   "outputs": [
    {
     "data": {
      "text/plain": [
       "<matplotlib.axes._subplots.AxesSubplot at 0x1f557430f08>"
      ]
     },
     "execution_count": 49,
     "metadata": {},
     "output_type": "execute_result"
    },
    {
     "data": {
      "image/png": "[encoded data removed]",
      "text/plain": [
       "<Figure size 432x288 with 1 Axes>"
      ]
     },
     "metadata": {
      "needs_background": "light"
     },
     "output_type": "display_data"
    }
   ],
   "source": [
    "Salary_Data['YearsExperience'].plot(kind ='hist',bins =20) # bin size reduced visualization"
   ]
  },
  {
   "cell_type": "code",
   "execution_count": 45,
   "metadata": {},
   "outputs": [
    {
     "data": {
      "text/plain": [
       "<matplotlib.axes._subplots.AxesSubplot at 0x1f556f32bc8>"
      ]
     },
     "execution_count": 45,
     "metadata": {},
     "output_type": "execute_result"
    },
    {
     "data": {
      "image/png": "[encoded data removed]",
      "text/plain": [
       "<Figure size 432x288 with 1 Axes>"
      ]
     },
     "metadata": {
      "needs_background": "light"
     },
     "output_type": "display_data"
    },
    {
     "data": {
      "image/png": "[encoded data removed]",
      "text/plain": [
       "<Figure size 432x288 with 1 Axes>"
      ]
     },
     "metadata": {
      "needs_background": "light"
     },
     "output_type": "display_data"
    },
    {
     "data": {
      "image/png": "[encoded data removed]",
      "text/plain": [
       "<Figure size 432x288 with 1 Axes>"
      ]
     },
     "metadata": {
      "needs_background": "light"
     },
     "output_type": "display_data"
    },
    {
     "data": {
      "image/png": "[encoded data removed]",
      "text/plain": [
       "<Figure size 432x288 with 1 Axes>"
      ]
     },
     "metadata": {
      "needs_background": "light"
     },
     "output_type": "display_data"
    },
    {
     "data": {
      "image/png": "[encoded data removed]",
      "text/plain": [
       "<Figure size 432x288 with 1 Axes>"
      ]
     },
     "metadata": {
      "needs_background": "light"
     },
     "output_type": "display_data"
    },
    {
     "data": {
      "image/png": "[encoded data removed]",
      "text/plain": [
       "<Figure size 432x288 with 1 Axes>"
      ]
     },
     "metadata": {
      "needs_background": "light"
     },
     "output_type": "display_data"
    }
   ],
   "source": [
    "#Bi-Variate annalysis of data \n",
    "Salary_Data.plot.area() # as we can visualize each area wise data how it is spread\n",
    "Salary_Data.plot.line()# line spread of data visualization \n",
    "Salary_Data.plot.scatter(x='YearsExperience',y ='Salary') # simple scattar digram visualization \n",
    "Salary_Data.plot.bar() # simple bar plot simple togeather barplot visualization \n",
    "Salary_Data.plot.bar(stacked =True)# simple barplot with stacked data # stacked barplot vsualization \n",
    "Salary_Data.plot.box()# simple boxplot visualization "
   ]
  },
  {
   "cell_type": "code",
   "execution_count": 50,
   "metadata": {},
   "outputs": [
    {
     "data": {
      "text/plain": [
       "<matplotlib.axes._subplots.AxesSubplot at 0x1f557552808>"
      ]
     },
     "execution_count": 50,
     "metadata": {},
     "output_type": "execute_result"
    },
    {
     "data": {
      "image/png": "[encoded data removed]",
      "text/plain": [
       "<Figure size 576x432 with 2 Axes>"
      ]
     },
     "metadata": {
      "needs_background": "light"
     },
     "output_type": "display_data"
    },
    {
     "data": {
      "image/png": "[encoded data removed]",
      "text/plain": [
       "<Figure size 576x432 with 2 Axes>"
      ]
     },
     "metadata": {
      "needs_background": "light"
     },
     "output_type": "display_data"
    }
   ],
   "source": [
    "#Hexagon intersection plot to see more data point joints bi variate annalysis\n",
    "Salary_Data.plot.hexbin(x='YearsExperience', y='Salary', gridsize=30, figsize=(8,6)) # intersecting point is more darker \n",
    "Salary_Data.plot.hexbin(x='Salary', y='YearsExperience', gridsize=30, figsize=(8,6)) # intersecting point is more darker \n"
   ]
  },
  {
   "cell_type": "code",
   "execution_count": 51,
   "metadata": {},
   "outputs": [
    {
     "data": {
      "text/plain": [
       "<matplotlib.axes._subplots.AxesSubplot at 0x1f5586422c8>"
      ]
     },
     "execution_count": 51,
     "metadata": {},
     "output_type": "execute_result"
    },
    {
     "data": {
      "image/png": "[encoded data removed]",
      "text/plain": [
       "<Figure size 576x288 with 1 Axes>"
      ]
     },
     "metadata": {
      "needs_background": "light"
     },
     "output_type": "display_data"
    },
    {
     "data": {
      "image/png": "[encoded data removed]",
      "text/plain": [
       "<Figure size 432x288 with 1 Axes>"
      ]
     },
     "metadata": {
      "needs_background": "light"
     },
     "output_type": "display_data"
    }
   ],
   "source": [
    "#Bi-variate histogram annalysis \n",
    "\"\"\" Histogram Bi-plot annalys prelim \"\"\"\n",
    "fig =plt.figure(figsize=(8,4))  # histogram to visualize data to see\n",
    "ax1 =fig.add_subplot(121) # it looks like unit b value is more as compared to a\n",
    "ax1.set_xlabel(\"YearsExperience\")\n",
    "ax1.set_ylabel(\"Salary\")\n",
    "ax1.set_title(\"Salary_Data\")\n",
    "Salary_Data.plot(kind=\"hist\")"
   ]
  },
  {
   "cell_type": "code",
   "execution_count": 52,
   "metadata": {},
   "outputs": [
    {
     "data": {
      "text/plain": [
       "((array([-1.99833768, -1.59452553, -1.35103668, -1.1686393 , -1.01855497,\n",
       "         -0.8884856 , -0.77194854, -0.66506298, -0.56529149, -0.47085985,\n",
       "         -0.38045711, -0.29306636, -0.20786198, -0.12414301, -0.04128669,\n",
       "          0.04128669,  0.12414301,  0.20786198,  0.29306636,  0.38045711,\n",
       "          0.47085985,  0.56529149,  0.66506298,  0.77194854,  0.8884856 ,\n",
       "          1.01855497,  1.1686393 ,  1.35103668,  1.59452553,  1.99833768]),\n",
       "  array([ 37731.,  39343.,  39891.,  43525.,  46205.,  54445.,  55794.,\n",
       "          56642.,  56957.,  57081.,  57189.,  60150.,  61111.,  63218.,\n",
       "          64445.,  66029.,  67938.,  81363.,  83088.,  91738.,  93940.,\n",
       "          98273., 101302., 105582., 109431., 112635., 113812., 116969.,\n",
       "         121872., 122391.])),\n",
       " (27455.69527696773, 76003.0, 0.9636361737531801))"
      ]
     },
     "execution_count": 52,
     "metadata": {},
     "output_type": "execute_result"
    },
    {
     "data": {
      "image/png": "[encoded data removed]",
      "text/plain": [
       "<Figure size 432x288 with 1 Axes>"
      ]
     },
     "metadata": {
      "needs_background": "light"
     },
     "output_type": "display_data"
    }
   ],
   "source": [
    "#############################Normality and Hypothesis checking########################3\n",
    "import scipy.stats as stats\n",
    "import pylab\n",
    "# checking normality using line qqline ,qqplot of disttribution of data \n",
    "stats.probplot(Salary_Data.YearsExperience,dist =\"norm\",plot = pylab) # Data differs from normality\n",
    "stats.probplot(Salary_Data.Salary,dist =\"norm\",plot =pylab,rvalue =True) # Data is not normal"
   ]
  },
  {
   "cell_type": "code",
   "execution_count": 53,
   "metadata": {},
   "outputs": [
    {
     "name": "stdout",
     "output_type": "stream",
     "text": [
      "(0.9420625567436218, 0.10337652266025543)\n",
      "(0.9103151559829712, 0.015155306085944176)\n",
      "Help on function shapiro in module scipy.stats.morestats:\n",
      "\n",
      "shapiro(x)\n",
      "    Perform the Shapiro-Wilk test for normality.\n",
      "    \n",
      "    The Shapiro-Wilk test tests the null hypothesis that the\n",
      "    data was drawn from a normal distribution.\n",
      "    \n",
      "    Parameters\n",
      "    ----------\n",
      "    x : array_like\n",
      "        Array of sample data.\n",
      "    \n",
      "    Returns\n",
      "    -------\n",
      "    W : float\n",
      "        The test statistic.\n",
      "    p-value : float\n",
      "        The p-value for the hypothesis test.\n",
      "    \n",
      "    See Also\n",
      "    --------\n",
      "    anderson : The Anderson-Darling test for normality\n",
      "    kstest : The Kolmogorov-Smirnov test for goodness of fit.\n",
      "    \n",
      "    Notes\n",
      "    -----\n",
      "    The algorithm used is described in [4]_ but censoring parameters as\n",
      "    described are not implemented. For N > 5000 the W test statistic is accurate\n",
      "    but the p-value may not be.\n",
      "    \n",
      "    The chance of rejecting the null hypothesis when it is true is close to 5%\n",
      "    regardless of sample size.\n",
      "    \n",
      "    References\n",
      "    ----------\n",
      "    .. [1] https://www.itl.nist.gov/div898/handbook/prc/section2/prc213.htm\n",
      "    .. [2] Shapiro, S. S. & Wilk, M.B (1965). An analysis of variance test for\n",
      "           normality (complete samples), Biometrika, Vol. 52, pp. 591-611.\n",
      "    .. [3] Razali, N. M. & Wah, Y. B. (2011) Power comparisons of Shapiro-Wilk,\n",
      "           Kolmogorov-Smirnov, Lilliefors and Anderson-Darling tests, Journal of\n",
      "           Statistical Modeling and Analytics, Vol. 2, pp. 21-33.\n",
      "    .. [4] ALGORITHM AS R94 APPL. STATIST. (1995) VOL. 44, NO. 4.\n",
      "    \n",
      "    Examples\n",
      "    --------\n",
      "    >>> from scipy import stats\n",
      "    >>> np.random.seed(12345678)\n",
      "    >>> x = stats.norm.rvs(loc=5, scale=3, size=100)\n",
      "    >>> stats.shapiro(x)\n",
      "    (0.9772805571556091, 0.08144091814756393)\n",
      "\n"
     ]
    },
    {
     "data": {
      "text/plain": [
       "' Data is not normal in both cases as it is below p value is less from above test \\nhence it could be rejected .....in future annalysis i will learn a lot more how to transforem data into normal\\nafter tranforming and learning how to make it as normal then carr out my obervation'"
      ]
     },
     "execution_count": 53,
     "metadata": {},
     "output_type": "execute_result"
    }
   ],
   "source": [
    "#Now Data Normality check  shapiro test\n",
    "\n",
    "print(stats.shapiro(Salary_Data.YearsExperience)) # Data is not normal\n",
    "print(stats.shapiro(Salary_Data.Salary)) # same is here data is not normal\n",
    "help(stats.shapiro)\n",
    "\"\"\" Data is not normal in both cases as it is below p value is less from above test \n",
    "hence it could be rejected .....in future annalysis i will learn a lot more how to transforem data into normal\n",
    "after tranforming and learning how to make it as normal then carr out my obervation\"\"\""
   ]
  },
  {
   "cell_type": "code",
   "execution_count": 54,
   "metadata": {},
   "outputs": [
    {
     "name": "stderr",
     "output_type": "stream",
     "text": [
      "C:\\ProgramData\\Anaconda3\\lib\\site-packages\\numpy\\core\\fromnumeric.py:2389: FutureWarning: Method .ptp is deprecated and will be removed in a future version. Use numpy.ptp instead.\n",
      "  return ptp(axis=axis, out=out, **kwargs)\n"
     ]
    },
    {
     "data": {
      "image/png": "[encoded data removed]",
      "text/plain": [
       "<Figure size 640x480 with 1 Axes>"
      ]
     },
     "metadata": {},
     "output_type": "display_data"
    },
    {
     "data": {
      "text/plain": [
       "<ggplot: (-9223371902274125392)>"
      ]
     },
     "execution_count": 54,
     "metadata": {},
     "output_type": "execute_result"
    }
   ],
   "source": [
    "############################## MoSalary_Data Buiding############################################ \n",
    "import numpy as np\n",
    "#import statsmodels.api as sm\n",
    "import statsmodels.formula.api as smf\n",
    "from plotnine import *\n",
    "(ggplot(Salary_Data,aes(\"YearsExperience\",\"Salary\"))+geom_point())+stat_smooth(method = 'lm') # Scattarplot and with abline \n"
   ]
  },
  {
   "cell_type": "code",
   "execution_count": 55,
   "metadata": {},
   "outputs": [
    {
     "data": {
      "text/html": [
       "<table class=\"simpletable\">\n",
       "<caption>OLS Regression Results</caption>\n",
       "<tr>\n",
       "  <th>Dep. Variable:</th>         <td>Salary</td>      <th>  R-squared:         </th> <td>   0.957</td>\n",
       "</tr>\n",
       "<tr>\n",
       "  <th>Model:</th>                   <td>OLS</td>       <th>  Adj. R-squared:    </th> <td>   0.955</td>\n",
       "</tr>\n",
       "<tr>\n",
       "  <th>Method:</th>             <td>Least Squares</td>  <th>  F-statistic:       </th> <td>   622.5</td>\n",
       "</tr>\n",
       "<tr>\n",
       "  <th>Date:</th>             <td>Sat, 16 May 2020</td> <th>  Prob (F-statistic):</th> <td>1.14e-20</td>\n",
       "</tr>\n",
       "<tr>\n",
       "  <th>Time:</th>                 <td>19:07:21</td>     <th>  Log-Likelihood:    </th> <td> -301.44</td>\n",
       "</tr>\n",
       "<tr>\n",
       "  <th>No. Observations:</th>      <td>    30</td>      <th>  AIC:               </th> <td>   606.9</td>\n",
       "</tr>\n",
       "<tr>\n",
       "  <th>Df Residuals:</th>          <td>    28</td>      <th>  BIC:               </th> <td>   609.7</td>\n",
       "</tr>\n",
       "<tr>\n",
       "  <th>Df Model:</th>              <td>     1</td>      <th>                     </th>     <td> </td>   \n",
       "</tr>\n",
       "<tr>\n",
       "  <th>Covariance Type:</th>      <td>nonrobust</td>    <th>                     </th>     <td> </td>   \n",
       "</tr>\n",
       "</table>\n",
       "<table class=\"simpletable\">\n",
       "<tr>\n",
       "         <td></td>            <th>coef</th>     <th>std err</th>      <th>t</th>      <th>P>|t|</th>  <th>[0.025</th>    <th>0.975]</th>  \n",
       "</tr>\n",
       "<tr>\n",
       "  <th>Intercept</th>       <td> 2.579e+04</td> <td> 2273.053</td> <td>   11.347</td> <td> 0.000</td> <td> 2.11e+04</td> <td> 3.04e+04</td>\n",
       "</tr>\n",
       "<tr>\n",
       "  <th>YearsExperience</th> <td> 9449.9623</td> <td>  378.755</td> <td>   24.950</td> <td> 0.000</td> <td> 8674.119</td> <td> 1.02e+04</td>\n",
       "</tr>\n",
       "</table>\n",
       "<table class=\"simpletable\">\n",
       "<tr>\n",
       "  <th>Omnibus:</th>       <td> 2.140</td> <th>  Durbin-Watson:     </th> <td>   1.648</td>\n",
       "</tr>\n",
       "<tr>\n",
       "  <th>Prob(Omnibus):</th> <td> 0.343</td> <th>  Jarque-Bera (JB):  </th> <td>   1.569</td>\n",
       "</tr>\n",
       "<tr>\n",
       "  <th>Skew:</th>          <td> 0.363</td> <th>  Prob(JB):          </th> <td>   0.456</td>\n",
       "</tr>\n",
       "<tr>\n",
       "  <th>Kurtosis:</th>      <td> 2.147</td> <th>  Cond. No.          </th> <td>    13.2</td>\n",
       "</tr>\n",
       "</table><br/><br/>Warnings:<br/>[1] Standard Errors assume that the covariance matrix of the errors is correctly specified."
      ],
      "text/plain": [
       "<class 'statsmodels.iolib.summary.Summary'>\n",
       "\"\"\"\n",
       "                            OLS Regression Results                            \n",
       "==============================================================================\n",
       "Dep. Variable:                 Salary   R-squared:                       0.957\n",
       "Model:                            OLS   Adj. R-squared:                  0.955\n",
       "Method:                 Least Squares   F-statistic:                     622.5\n",
       "Date:                Sat, 16 May 2020   Prob (F-statistic):           1.14e-20\n",
       "Time:                        19:07:21   Log-Likelihood:                -301.44\n",
       "No. Observations:                  30   AIC:                             606.9\n",
       "Df Residuals:                      28   BIC:                             609.7\n",
       "Df Model:                           1                                         \n",
       "Covariance Type:            nonrobust                                         \n",
       "===================================================================================\n",
       "                      coef    std err          t      P>|t|      [0.025      0.975]\n",
       "-----------------------------------------------------------------------------------\n",
       "Intercept        2.579e+04   2273.053     11.347      0.000    2.11e+04    3.04e+04\n",
       "YearsExperience  9449.9623    378.755     24.950      0.000    8674.119    1.02e+04\n",
       "==============================================================================\n",
       "Omnibus:                        2.140   Durbin-Watson:                   1.648\n",
       "Prob(Omnibus):                  0.343   Jarque-Bera (JB):                1.569\n",
       "Skew:                           0.363   Prob(JB):                        0.456\n",
       "Kurtosis:                       2.147   Cond. No.                         13.2\n",
       "==============================================================================\n",
       "\n",
       "Warnings:\n",
       "[1] Standard Errors assume that the covariance matrix of the errors is correctly specified.\n",
       "\"\"\""
      ]
     },
     "execution_count": 55,
     "metadata": {},
     "output_type": "execute_result"
    },
    {
     "data": {
      "image/png": "[encoded data removed]",
      "text/plain": [
       "<Figure size 432x288 with 1 Axes>"
      ]
     },
     "metadata": {
      "needs_background": "light"
     },
     "output_type": "display_data"
    }
   ],
   "source": [
    "##### MODEL BUILDING ########\n",
    "#model 1 \n",
    "plt.scatter(x=Salary_Data['YearsExperience'], y=Salary_Data['Salary'],color='green')# Scatter plot\n",
    "np.corrcoef(Salary_Data.YearsExperience, Salary_Data.Salary) #correlation\n",
    "mod = smf.ols('Salary ~ YearsExperience', data=Salary_Data).fit()\n",
    "mod.summary() # to see the summary of out model"
   ]
  },
  {
   "cell_type": "code",
   "execution_count": 59,
   "metadata": {},
   "outputs": [
    {
     "data": {
      "text/plain": [
       "0      36187.158752\n",
       "1      38077.151217\n",
       "2      39967.143681\n",
       "3      44692.124842\n",
       "4      46582.117306\n",
       "5      53197.090931\n",
       "6      54142.087163\n",
       "7      56032.079627\n",
       "8      56032.079627\n",
       "9      60757.060788\n",
       "10     62647.053252\n",
       "11     63592.049484\n",
       "12     63592.049484\n",
       "13     64537.045717\n",
       "14     68317.030645\n",
       "15     72097.015574\n",
       "16     73987.008038\n",
       "17     75877.000502\n",
       "18     81546.977895\n",
       "19     82491.974127\n",
       "20     90051.943985\n",
       "21     92886.932681\n",
       "22    100446.902538\n",
       "23    103281.891235\n",
       "24    108006.872395\n",
       "25    110841.861092\n",
       "26    115566.842252\n",
       "27    116511.838485\n",
       "28    123126.812110\n",
       "29    125016.804574\n",
       "dtype: float64"
      ]
     },
     "execution_count": 59,
     "metadata": {},
     "output_type": "execute_result"
    }
   ],
   "source": [
    "pred1 = mod.predict(pd.DataFrame(Salary_Data['YearsExperience'])) # model prediction \n",
    "pred1\n",
    "\n"
   ]
  },
  {
   "cell_type": "code",
   "execution_count": 57,
   "metadata": {},
   "outputs": [
    {
     "name": "stdout",
     "output_type": "stream",
     "text": [
      "                            0             1\n",
      "Intercept        19511.156989  32073.243408\n",
      "YearsExperience   8403.364027  10496.560616\n"
     ]
    },
    {
     "data": {
      "text/plain": [
       "0      3155.841248\n",
       "1      8127.848783\n",
       "2     -2236.143681\n",
       "3     -1167.124842\n",
       "4     -6691.117306\n",
       "5      3444.909069\n",
       "6      6007.912837\n",
       "7     -1587.079627\n",
       "8      8412.920373\n",
       "9     -3568.060788\n",
       "10      570.946748\n",
       "11    -7798.049484\n",
       "12    -6635.049484\n",
       "13    -7456.045717\n",
       "14    -7206.030645\n",
       "15    -4159.015574\n",
       "16    -7958.008038\n",
       "17     7210.999498\n",
       "18     -183.977895\n",
       "19    11448.025873\n",
       "20     1686.056015\n",
       "21     5386.067319\n",
       "22      855.097462\n",
       "23    10530.108765\n",
       "24     1424.127605\n",
       "25    -5259.861092\n",
       "26     1402.157748\n",
       "27    -3876.838485\n",
       "28     -735.812110\n",
       "29    -3144.804574\n",
       "dtype: float64"
      ]
     },
     "execution_count": 57,
     "metadata": {},
     "output_type": "execute_result"
    }
   ],
   "source": [
    "#printing level of interval for confidence\n",
    "print (mod.conf_int(0.01)) # 99% confidence interval\n",
    "# residuals\n",
    "res = Salary_Data.Salary - pred1\n",
    "res"
   ]
  },
  {
   "cell_type": "code",
   "execution_count": 58,
   "metadata": {},
   "outputs": [
    {
     "data": {
      "text/plain": [
       "5592.043608760661"
      ]
     },
     "execution_count": 58,
     "metadata": {},
     "output_type": "execute_result"
    }
   ],
   "source": [
    "#rmse\n",
    "sqres = res*res\n",
    "mse = np.mean(sqres)\n",
    "rmse = np.sqrt(mse)\n",
    "rmse"
   ]
  },
  {
   "cell_type": "code",
   "execution_count": 60,
   "metadata": {},
   "outputs": [
    {
     "data": {
      "text/html": [
       "<table class=\"simpletable\">\n",
       "<caption>OLS Regression Results</caption>\n",
       "<tr>\n",
       "  <th>Dep. Variable:</th>         <td>Salary</td>      <th>  R-squared:         </th> <td>   0.854</td>\n",
       "</tr>\n",
       "<tr>\n",
       "  <th>Model:</th>                   <td>OLS</td>       <th>  Adj. R-squared:    </th> <td>   0.849</td>\n",
       "</tr>\n",
       "<tr>\n",
       "  <th>Method:</th>             <td>Least Squares</td>  <th>  F-statistic:       </th> <td>   163.6</td>\n",
       "</tr>\n",
       "<tr>\n",
       "  <th>Date:</th>             <td>Sat, 16 May 2020</td> <th>  Prob (F-statistic):</th> <td>3.25e-13</td>\n",
       "</tr>\n",
       "<tr>\n",
       "  <th>Time:</th>                 <td>19:08:23</td>     <th>  Log-Likelihood:    </th> <td> -319.77</td>\n",
       "</tr>\n",
       "<tr>\n",
       "  <th>No. Observations:</th>      <td>    30</td>      <th>  AIC:               </th> <td>   643.5</td>\n",
       "</tr>\n",
       "<tr>\n",
       "  <th>Df Residuals:</th>          <td>    28</td>      <th>  BIC:               </th> <td>   646.3</td>\n",
       "</tr>\n",
       "<tr>\n",
       "  <th>Df Model:</th>              <td>     1</td>      <th>                     </th>     <td> </td>   \n",
       "</tr>\n",
       "<tr>\n",
       "  <th>Covariance Type:</th>      <td>nonrobust</td>    <th>                     </th>     <td> </td>   \n",
       "</tr>\n",
       "</table>\n",
       "<table class=\"simpletable\">\n",
       "<tr>\n",
       "             <td></td>                <th>coef</th>     <th>std err</th>      <th>t</th>      <th>P>|t|</th>  <th>[0.025</th>    <th>0.975]</th>  \n",
       "</tr>\n",
       "<tr>\n",
       "  <th>Intercept</th>               <td> 1.493e+04</td> <td> 5156.226</td> <td>    2.895</td> <td> 0.007</td> <td> 4365.921</td> <td> 2.55e+04</td>\n",
       "</tr>\n",
       "<tr>\n",
       "  <th>np.log(YearsExperience)</th> <td> 4.058e+04</td> <td> 3172.453</td> <td>   12.792</td> <td> 0.000</td> <td> 3.41e+04</td> <td> 4.71e+04</td>\n",
       "</tr>\n",
       "</table>\n",
       "<table class=\"simpletable\">\n",
       "<tr>\n",
       "  <th>Omnibus:</th>       <td> 1.094</td> <th>  Durbin-Watson:     </th> <td>   0.512</td>\n",
       "</tr>\n",
       "<tr>\n",
       "  <th>Prob(Omnibus):</th> <td> 0.579</td> <th>  Jarque-Bera (JB):  </th> <td>   0.908</td>\n",
       "</tr>\n",
       "<tr>\n",
       "  <th>Skew:</th>          <td> 0.156</td> <th>  Prob(JB):          </th> <td>   0.635</td>\n",
       "</tr>\n",
       "<tr>\n",
       "  <th>Kurtosis:</th>      <td> 2.207</td> <th>  Cond. No.          </th> <td>    5.76</td>\n",
       "</tr>\n",
       "</table><br/><br/>Warnings:<br/>[1] Standard Errors assume that the covariance matrix of the errors is correctly specified."
      ],
      "text/plain": [
       "<class 'statsmodels.iolib.summary.Summary'>\n",
       "\"\"\"\n",
       "                            OLS Regression Results                            \n",
       "==============================================================================\n",
       "Dep. Variable:                 Salary   R-squared:                       0.854\n",
       "Model:                            OLS   Adj. R-squared:                  0.849\n",
       "Method:                 Least Squares   F-statistic:                     163.6\n",
       "Date:                Sat, 16 May 2020   Prob (F-statistic):           3.25e-13\n",
       "Time:                        19:08:23   Log-Likelihood:                -319.77\n",
       "No. Observations:                  30   AIC:                             643.5\n",
       "Df Residuals:                      28   BIC:                             646.3\n",
       "Df Model:                           1                                         \n",
       "Covariance Type:            nonrobust                                         \n",
       "===========================================================================================\n",
       "                              coef    std err          t      P>|t|      [0.025      0.975]\n",
       "-------------------------------------------------------------------------------------------\n",
       "Intercept                1.493e+04   5156.226      2.895      0.007    4365.921    2.55e+04\n",
       "np.log(YearsExperience)  4.058e+04   3172.453     12.792      0.000    3.41e+04    4.71e+04\n",
       "==============================================================================\n",
       "Omnibus:                        1.094   Durbin-Watson:                   0.512\n",
       "Prob(Omnibus):                  0.579   Jarque-Bera (JB):                0.908\n",
       "Skew:                           0.156   Prob(JB):                        0.635\n",
       "Kurtosis:                       2.207   Cond. No.                         5.76\n",
       "==============================================================================\n",
       "\n",
       "Warnings:\n",
       "[1] Standard Errors assume that the covariance matrix of the errors is correctly specified.\n",
       "\"\"\""
      ]
     },
     "execution_count": 60,
     "metadata": {},
     "output_type": "execute_result"
    },
    {
     "data": {
      "image/png": "[encoded data removed]",
      "text/plain": [
       "<Figure size 432x288 with 1 Axes>"
      ]
     },
     "metadata": {
      "needs_background": "light"
     },
     "output_type": "display_data"
    }
   ],
   "source": [
    "# model 2 \n",
    "######### MoSalary_Data building on Transformed Data\n",
    "\n",
    "# Log Transformation\n",
    "# x = log(waist); y = at\n",
    "plt.scatter(x=np.log(Salary_Data['YearsExperience']),y=Salary_Data['Salary'],color='brown')\n",
    "np.corrcoef(np.log(Salary_Data.YearsExperience), Salary_Data.Salary) #correlation\n",
    "# linear model 2 \n",
    "model2 = smf.ols('Salary ~ np.log(YearsExperience)',data=Salary_Data).fit()\n",
    "model2.summary()"
   ]
  },
  {
   "cell_type": "code",
   "execution_count": 61,
   "metadata": {},
   "outputs": [
    {
     "data": {
      "text/plain": [
       "0      18795.848339\n",
       "1      25575.235192\n",
       "2      31382.551905\n",
       "3      43057.262306\n",
       "4      46925.138875\n",
       "5      58136.050079\n",
       "6      59511.842441\n",
       "7      62130.943929\n",
       "8      62130.943929\n",
       "9      68022.718504\n",
       "10     70159.105863\n",
       "11     71186.552842\n",
       "12     71186.552842\n",
       "13     72188.628149\n",
       "14     75966.422577\n",
       "15     79422.295729\n",
       "16     81045.791737\n",
       "17     82606.829882\n",
       "18     86959.066704\n",
       "19     87641.132977\n",
       "20     92720.502137\n",
       "21     94472.514696\n",
       "22     98805.371390\n",
       "23    100317.918684\n",
       "24    102719.920751\n",
       "25    104095.713112\n",
       "26    106289.868435\n",
       "27    106714.814600\n",
       "28    109571.007247\n",
       "29    110351.454145\n",
       "dtype: float64"
      ]
     },
     "execution_count": 61,
     "metadata": {},
     "output_type": "execute_result"
    }
   ],
   "source": [
    "# prediction\n",
    "pred2 = model2.predict(pd.DataFrame(Salary_Data['YearsExperience']))\n",
    "pred2"
   ]
  },
  {
   "cell_type": "code",
   "execution_count": 62,
   "metadata": {},
   "outputs": [
    {
     "name": "stdout",
     "output_type": "stream",
     "text": [
      "                                    0             1\n",
      "Intercept                  679.965646  29175.977894\n",
      "np.log(YearsExperience)  31815.666558  49348.309362\n"
     ]
    }
   ],
   "source": [
    "# printing inter val level of confidence \n",
    "print(model2.conf_int(0.01)) # 99% confidence level"
   ]
  },
  {
   "cell_type": "code",
   "execution_count": 63,
   "metadata": {},
   "outputs": [
    {
     "data": {
      "text/plain": [
       "0     20547.151661\n",
       "1     20629.764808\n",
       "2      6348.448095\n",
       "3       467.737694\n",
       "4     -7034.138875\n",
       "5     -1494.050079\n",
       "6       638.157559\n",
       "7     -7685.943929\n",
       "8      2314.056071\n",
       "9    -10833.718504\n",
       "10    -6941.105863\n",
       "11   -15392.552842\n",
       "12   -14229.552842\n",
       "13   -15107.628149\n",
       "14   -14855.422577\n",
       "15   -11484.295729\n",
       "16   -15016.791737\n",
       "17      481.170118\n",
       "18    -5596.066704\n",
       "19     6298.867023\n",
       "20     -982.502137\n",
       "21     3800.485304\n",
       "22     2496.628610\n",
       "23    13494.081316\n",
       "24     6711.079249\n",
       "25     1486.286888\n",
       "26    10679.131565\n",
       "27     5920.185400\n",
       "28    12819.992753\n",
       "29    11520.545855\n",
       "dtype: float64"
      ]
     },
     "execution_count": 63,
     "metadata": {},
     "output_type": "execute_result"
    }
   ],
   "source": [
    "# residuals\n",
    "res2 = Salary_Data.Salary - pred2\n",
    "res2"
   ]
  },
  {
   "cell_type": "code",
   "execution_count": 64,
   "metadata": {},
   "outputs": [
    {
     "data": {
      "text/plain": [
       "10302.893706228308"
      ]
     },
     "execution_count": 64,
     "metadata": {},
     "output_type": "execute_result"
    }
   ],
   "source": [
    "# rmse of second model\n",
    "sqres2 = res2*res2\n",
    "mse2 = np.mean(sqres2)\n",
    "rmse2 = np.sqrt(mse2)\n",
    "rmse2"
   ]
  },
  {
   "cell_type": "code",
   "execution_count": 65,
   "metadata": {},
   "outputs": [
    {
     "data": {
      "text/html": [
       "<table class=\"simpletable\">\n",
       "<caption>OLS Regression Results</caption>\n",
       "<tr>\n",
       "  <th>Dep. Variable:</th>     <td>np.log(Salary)</td>  <th>  R-squared:         </th> <td>   0.932</td>\n",
       "</tr>\n",
       "<tr>\n",
       "  <th>Model:</th>                   <td>OLS</td>       <th>  Adj. R-squared:    </th> <td>   0.930</td>\n",
       "</tr>\n",
       "<tr>\n",
       "  <th>Method:</th>             <td>Least Squares</td>  <th>  F-statistic:       </th> <td>   383.6</td>\n",
       "</tr>\n",
       "<tr>\n",
       "  <th>Date:</th>             <td>Sat, 16 May 2020</td> <th>  Prob (F-statistic):</th> <td>7.03e-18</td>\n",
       "</tr>\n",
       "<tr>\n",
       "  <th>Time:</th>                 <td>19:09:40</td>     <th>  Log-Likelihood:    </th> <td>  28.183</td>\n",
       "</tr>\n",
       "<tr>\n",
       "  <th>No. Observations:</th>      <td>    30</td>      <th>  AIC:               </th> <td>  -52.37</td>\n",
       "</tr>\n",
       "<tr>\n",
       "  <th>Df Residuals:</th>          <td>    28</td>      <th>  BIC:               </th> <td>  -49.56</td>\n",
       "</tr>\n",
       "<tr>\n",
       "  <th>Df Model:</th>              <td>     1</td>      <th>                     </th>     <td> </td>   \n",
       "</tr>\n",
       "<tr>\n",
       "  <th>Covariance Type:</th>      <td>nonrobust</td>    <th>                     </th>     <td> </td>   \n",
       "</tr>\n",
       "</table>\n",
       "<table class=\"simpletable\">\n",
       "<tr>\n",
       "         <td></td>            <th>coef</th>     <th>std err</th>      <th>t</th>      <th>P>|t|</th>  <th>[0.025</th>    <th>0.975]</th>  \n",
       "</tr>\n",
       "<tr>\n",
       "  <th>Intercept</th>       <td>   10.5074</td> <td>    0.038</td> <td>  273.327</td> <td> 0.000</td> <td>   10.429</td> <td>   10.586</td>\n",
       "</tr>\n",
       "<tr>\n",
       "  <th>YearsExperience</th> <td>    0.1255</td> <td>    0.006</td> <td>   19.585</td> <td> 0.000</td> <td>    0.112</td> <td>    0.139</td>\n",
       "</tr>\n",
       "</table>\n",
       "<table class=\"simpletable\">\n",
       "<tr>\n",
       "  <th>Omnibus:</th>       <td> 0.826</td> <th>  Durbin-Watson:     </th> <td>   1.438</td>\n",
       "</tr>\n",
       "<tr>\n",
       "  <th>Prob(Omnibus):</th> <td> 0.661</td> <th>  Jarque-Bera (JB):  </th> <td>   0.812</td>\n",
       "</tr>\n",
       "<tr>\n",
       "  <th>Skew:</th>          <td> 0.187</td> <th>  Prob(JB):          </th> <td>   0.666</td>\n",
       "</tr>\n",
       "<tr>\n",
       "  <th>Kurtosis:</th>      <td> 2.286</td> <th>  Cond. No.          </th> <td>    13.2</td>\n",
       "</tr>\n",
       "</table><br/><br/>Warnings:<br/>[1] Standard Errors assume that the covariance matrix of the errors is correctly specified."
      ],
      "text/plain": [
       "<class 'statsmodels.iolib.summary.Summary'>\n",
       "\"\"\"\n",
       "                            OLS Regression Results                            \n",
       "==============================================================================\n",
       "Dep. Variable:         np.log(Salary)   R-squared:                       0.932\n",
       "Model:                            OLS   Adj. R-squared:                  0.930\n",
       "Method:                 Least Squares   F-statistic:                     383.6\n",
       "Date:                Sat, 16 May 2020   Prob (F-statistic):           7.03e-18\n",
       "Time:                        19:09:40   Log-Likelihood:                 28.183\n",
       "No. Observations:                  30   AIC:                            -52.37\n",
       "Df Residuals:                      28   BIC:                            -49.56\n",
       "Df Model:                           1                                         \n",
       "Covariance Type:            nonrobust                                         \n",
       "===================================================================================\n",
       "                      coef    std err          t      P>|t|      [0.025      0.975]\n",
       "-----------------------------------------------------------------------------------\n",
       "Intercept          10.5074      0.038    273.327      0.000      10.429      10.586\n",
       "YearsExperience     0.1255      0.006     19.585      0.000       0.112       0.139\n",
       "==============================================================================\n",
       "Omnibus:                        0.826   Durbin-Watson:                   1.438\n",
       "Prob(Omnibus):                  0.661   Jarque-Bera (JB):                0.812\n",
       "Skew:                           0.187   Prob(JB):                        0.666\n",
       "Kurtosis:                       2.286   Cond. No.                         13.2\n",
       "==============================================================================\n",
       "\n",
       "Warnings:\n",
       "[1] Standard Errors assume that the covariance matrix of the errors is correctly specified.\n",
       "\"\"\""
      ]
     },
     "execution_count": 65,
     "metadata": {},
     "output_type": "execute_result"
    },
    {
     "data": {
      "image/png": "[encoded data removed]",
      "text/plain": [
       "<Figure size 432x288 with 1 Axes>"
      ]
     },
     "metadata": {
      "needs_background": "light"
     },
     "output_type": "display_data"
    }
   ],
   "source": [
    "# Exponential transformation\n",
    "plt.scatter(x=Salary_Data['YearsExperience'], y=np.log(Salary_Data['Salary']),color='orange')\n",
    "\n",
    "np.corrcoef(Salary_Data.YearsExperience, np.log(Salary_Data.Salary)) #correlation\n",
    "\n",
    "model3 = smf.ols('np.log(Salary) ~ YearsExperience',data=Salary_Data).fit()\n",
    "model3.summary()"
   ]
  },
  {
   "cell_type": "code",
   "execution_count": 66,
   "metadata": {},
   "outputs": [
    {
     "data": {
      "text/plain": [
       "0     10.645400\n",
       "1     10.670491\n",
       "2     10.695581\n",
       "3     10.758308\n",
       "4     10.783398\n",
       "5     10.871215\n",
       "6     10.883761\n",
       "7     10.908851\n",
       "8     10.908851\n",
       "9     10.971578\n",
       "10    10.996668\n",
       "11    11.009213\n",
       "12    11.009213\n",
       "13    11.021759\n",
       "14    11.071940\n",
       "15    11.122121\n",
       "16    11.147212\n",
       "17    11.172302\n",
       "18    11.247574\n",
       "19    11.260119\n",
       "20    11.360482\n",
       "21    11.398117\n",
       "22    11.498480\n",
       "23    11.536116\n",
       "24    11.598842\n",
       "25    11.636478\n",
       "26    11.699204\n",
       "27    11.711750\n",
       "28    11.799567\n",
       "29    11.824657\n",
       "dtype: float64"
      ]
     },
     "execution_count": 66,
     "metadata": {},
     "output_type": "execute_result"
    }
   ],
   "source": [
    "# predictions\n",
    "pred_log = model3.predict(pd.DataFrame(Salary_Data['YearsExperience']))\n",
    "pred_log"
   ]
  },
  {
   "cell_type": "code",
   "execution_count": 67,
   "metadata": {},
   "outputs": [
    {
     "data": {
      "text/plain": [
       "0      41998.957468\n",
       "1      43066.066794\n",
       "2      44160.289228\n",
       "3      47019.029189\n",
       "4      48213.688474\n",
       "5      52639.142472\n",
       "6      53303.675386\n",
       "7      54658.014935\n",
       "8      54658.014935\n",
       "9      58196.330788\n",
       "10     59674.982903\n",
       "11     60428.338456\n",
       "12     60428.338456\n",
       "13     61191.204604\n",
       "14     64340.199291\n",
       "15     67651.246149\n",
       "16     69370.128712\n",
       "17     71132.684635\n",
       "18     76693.630780\n",
       "19     77661.835040\n",
       "20     85860.704208\n",
       "21     89153.725393\n",
       "22     98565.809591\n",
       "23    102346.110512\n",
       "24    108971.540758\n",
       "25    113150.933364\n",
       "26    120475.819601\n",
       "27    121996.743836\n",
       "28    133194.621344\n",
       "29    136578.829694\n",
       "dtype: float64"
      ]
     },
     "execution_count": 67,
     "metadata": {},
     "output_type": "execute_result"
    }
   ],
   "source": [
    "pred3 = np.exp(pred_log)\n",
    "pred3"
   ]
  },
  {
   "cell_type": "code",
   "execution_count": 68,
   "metadata": {},
   "outputs": [
    {
     "name": "stdout",
     "output_type": "stream",
     "text": [
      "                         0          1\n",
      "Intercept        10.401175  10.613629\n",
      "YearsExperience   0.107752   0.143153\n"
     ]
    }
   ],
   "source": [
    "# printing the confidence interval\n",
    "print(model3.conf_int(0.01)) # 99% confidence level"
   ]
  },
  {
   "cell_type": "code",
   "execution_count": 69,
   "metadata": {},
   "outputs": [
    {
     "data": {
      "text/plain": [
       "0     -2655.957468\n",
       "1      3138.933206\n",
       "2     -6429.289228\n",
       "3     -3494.029189\n",
       "4     -8322.688474\n",
       "5      4002.857528\n",
       "6      6846.324614\n",
       "7      -213.014935\n",
       "8      9786.985065\n",
       "9     -1007.330788\n",
       "10     3543.017097\n",
       "11    -4634.338456\n",
       "12    -3471.338456\n",
       "13    -4110.204604\n",
       "14    -3229.199291\n",
       "15      286.753851\n",
       "16    -3341.128712\n",
       "17    11955.315365\n",
       "18     4669.369220\n",
       "19    16278.164960\n",
       "20     5877.295792\n",
       "21     9119.274607\n",
       "22     2736.190409\n",
       "23    11465.889488\n",
       "24      459.459242\n",
       "25    -7568.933364\n",
       "26    -3506.819601\n",
       "27    -9361.743836\n",
       "28   -10803.621344\n",
       "29   -14706.829694\n",
       "dtype: float64"
      ]
     },
     "execution_count": 69,
     "metadata": {},
     "output_type": "execute_result"
    }
   ],
   "source": [
    "# residuals \n",
    "res3 = Salary_Data.Salary - pred3\n",
    "res3"
   ]
  },
  {
   "cell_type": "code",
   "execution_count": 70,
   "metadata": {},
   "outputs": [
    {
     "data": {
      "text/plain": [
       "7213.235076620129"
      ]
     },
     "execution_count": 70,
     "metadata": {},
     "output_type": "execute_result"
    }
   ],
   "source": [
    "#rmse of third \n",
    "sqres3 = res3*res3\n",
    "mse3 = np.mean(sqres3)\n",
    "rmse3 = np.sqrt(mse3)\n",
    "rmse3\n"
   ]
  },
  {
   "cell_type": "code",
   "execution_count": null,
   "metadata": {},
   "outputs": [],
   "source": []
  }
 ],
 "metadata": {
  "kernelspec": {
   "display_name": "Python 3",
   "language": "python",
   "name": "python3"
  },
  "language_info": {
   "codemirror_mode": {
    "name": "ipython",
    "version": 3
   },
   "file_extension": ".py",
   "mimetype": "text/x-python",
   "name": "python",
   "nbconvert_exporter": "python",
   "pygments_lexer": "ipython3",
   "version": "3.7.4"
  }
 },
 "nbformat": 4,
 "nbformat_minor": 2
}
