{
 "cells": [
  {
   "cell_type": "markdown",
   "metadata": {},
   "source": [
    "# Assignment modue no 7   In R"
   ]
  },
  {
   "cell_type": "markdown",
   "metadata": {},
   "source": [
    "CAR Data Cleaning and practicing   "
   ]
  },
  {
   "cell_type": "markdown",
   "metadata": {},
   "source": [
    "Description of dataset:- sourcing information is silent , dont know whrere is data came form, we hopind a imaginary car dataset,as It is a Car dataset we are more intrested into looking into MPG:- milage per gallon of dataset for gaining more and more inforamation out of it."
   ]
  },
  {
   "cell_type": "code",
   "execution_count": 1,
   "metadata": {},
   "outputs": [],
   "source": [
    "# Read CSV, note the delimiter (sep) shoud be given if it is required \n",
    "df <- read.csv('Cars.csv')"
   ]
  },
  {
   "cell_type": "code",
   "execution_count": 2,
   "metadata": {},
   "outputs": [
    {
     "data": {
      "text/html": [
       "<table>\n",
       "<caption>A data.frame: 6 × 5</caption>\n",
       "<thead>\n",
       "\t<tr><th></th><th scope=col>HP</th><th scope=col>MPG</th><th scope=col>VOL</th><th scope=col>SP</th><th scope=col>WT</th></tr>\n",
       "\t<tr><th></th><th scope=col>&lt;int&gt;</th><th scope=col>&lt;dbl&gt;</th><th scope=col>&lt;int&gt;</th><th scope=col>&lt;dbl&gt;</th><th scope=col>&lt;dbl&gt;</th></tr>\n",
       "</thead>\n",
       "<tbody>\n",
       "\t<tr><th scope=row>1</th><td>49</td><td>53.70068</td><td>89</td><td>104.1854</td><td>28.76206</td></tr>\n",
       "\t<tr><th scope=row>2</th><td>55</td><td>50.01340</td><td>92</td><td>105.4613</td><td>30.46683</td></tr>\n",
       "\t<tr><th scope=row>3</th><td>55</td><td>50.01340</td><td>92</td><td>105.4613</td><td>30.19360</td></tr>\n",
       "\t<tr><th scope=row>4</th><td>70</td><td>45.69632</td><td>92</td><td>113.4613</td><td>30.63211</td></tr>\n",
       "\t<tr><th scope=row>5</th><td>53</td><td>50.50423</td><td>92</td><td>104.4613</td><td>29.88915</td></tr>\n",
       "\t<tr><th scope=row>6</th><td>70</td><td>45.69632</td><td>89</td><td>113.1854</td><td>29.59177</td></tr>\n",
       "</tbody>\n",
       "</table>\n"
      ],
      "text/latex": [
       "A data.frame: 6 × 5\n",
       "\\begin{tabular}{r|lllll}\n",
       "  & HP & MPG & VOL & SP & WT\\\\\n",
       "  & <int> & <dbl> & <int> & <dbl> & <dbl>\\\\\n",
       "\\hline\n",
       "\t1 & 49 & 53.70068 & 89 & 104.1854 & 28.76206\\\\\n",
       "\t2 & 55 & 50.01340 & 92 & 105.4613 & 30.46683\\\\\n",
       "\t3 & 55 & 50.01340 & 92 & 105.4613 & 30.19360\\\\\n",
       "\t4 & 70 & 45.69632 & 92 & 113.4613 & 30.63211\\\\\n",
       "\t5 & 53 & 50.50423 & 92 & 104.4613 & 29.88915\\\\\n",
       "\t6 & 70 & 45.69632 & 89 & 113.1854 & 29.59177\\\\\n",
       "\\end{tabular}\n"
      ],
      "text/markdown": [
       "\n",
       "A data.frame: 6 × 5\n",
       "\n",
       "| <!--/--> | HP &lt;int&gt; | MPG &lt;dbl&gt; | VOL &lt;int&gt; | SP &lt;dbl&gt; | WT &lt;dbl&gt; |\n",
       "|---|---|---|---|---|---|\n",
       "| 1 | 49 | 53.70068 | 89 | 104.1854 | 28.76206 |\n",
       "| 2 | 55 | 50.01340 | 92 | 105.4613 | 30.46683 |\n",
       "| 3 | 55 | 50.01340 | 92 | 105.4613 | 30.19360 |\n",
       "| 4 | 70 | 45.69632 | 92 | 113.4613 | 30.63211 |\n",
       "| 5 | 53 | 50.50423 | 92 | 104.4613 | 29.88915 |\n",
       "| 6 | 70 | 45.69632 | 89 | 113.1854 | 29.59177 |\n",
       "\n"
      ],
      "text/plain": [
       "  HP MPG      VOL SP       WT      \n",
       "1 49 53.70068 89  104.1854 28.76206\n",
       "2 55 50.01340 92  105.4613 30.46683\n",
       "3 55 50.01340 92  105.4613 30.19360\n",
       "4 70 45.69632 92  113.4613 30.63211\n",
       "5 53 50.50423 92  104.4613 29.88915\n",
       "6 70 45.69632 89  113.1854 29.59177"
      ]
     },
     "metadata": {},
     "output_type": "display_data"
    }
   ],
   "source": [
    "head(df) # type of attributes and feature of my corresponnding data   "
   ]
  },
  {
   "cell_type": "markdown",
   "metadata": {},
   "source": [
    "What is menaing of meaning of data that shoud be understood first \n",
    "HP - Engine Horse power , MPG- Milage per galloon(Average miles per gallon) , VOL -Cubic feet of cab space , SP- Speed per hour , Wt - Weight of the vehicle \n",
    "\n",
    "But those data does not represent the vehicle items or car names From which the data came from , I am just taking each observation of index no 1 to 81 as like Numbers of  Cars in this dataset. \n"
   ]
  },
  {
   "cell_type": "code",
   "execution_count": 3,
   "metadata": {},
   "outputs": [
    {
     "data": {
      "text/plain": [
       "       HP             MPG             VOL               SP        \n",
       " Min.   : 49.0   Min.   :12.10   Min.   : 50.00   Min.   : 99.56  \n",
       " 1st Qu.: 84.0   1st Qu.:27.86   1st Qu.: 89.00   1st Qu.:113.83  \n",
       " Median :100.0   Median :35.15   Median :101.00   Median :118.21  \n",
       " Mean   :117.5   Mean   :34.42   Mean   : 98.77   Mean   :121.54  \n",
       " 3rd Qu.:140.0   3rd Qu.:39.53   3rd Qu.:113.00   3rd Qu.:126.40  \n",
       " Max.   :322.0   Max.   :53.70   Max.   :160.00   Max.   :169.60  \n",
       "       WT       \n",
       " Min.   :15.71  \n",
       " 1st Qu.:29.59  \n",
       " Median :32.73  \n",
       " Mean   :32.41  \n",
       " 3rd Qu.:37.39  \n",
       " Max.   :53.00  "
      ]
     },
     "metadata": {},
     "output_type": "display_data"
    }
   ],
   "source": [
    "summary(df) # this is the summary of our data ."
   ]
  },
  {
   "cell_type": "markdown",
   "metadata": {},
   "source": [
    "### Playing with Attributes of data "
   ]
  },
  {
   "cell_type": "code",
   "execution_count": 4,
   "metadata": {},
   "outputs": [
    {
     "name": "stdout",
     "output_type": "stream",
     "text": [
      "'data.frame':\t81 obs. of  5 variables:\n",
      " $ HP : int  49 55 55 70 53 70 55 62 62 80 ...\n",
      " $ MPG: num  53.7 50 50 45.7 50.5 ...\n",
      " $ VOL: int  89 92 92 92 92 89 92 50 50 94 ...\n",
      " $ SP : num  104 105 105 113 104 ...\n",
      " $ WT : num  28.8 30.5 30.2 30.6 29.9 ...\n"
     ]
    }
   ],
   "source": [
    "str(df) # we have the data types are of numeric and integer "
   ]
  },
  {
   "cell_type": "markdown",
   "metadata": {},
   "source": [
    "# Data preprocessing : clenaing >"
   ]
  },
  {
   "cell_type": "code",
   "execution_count": 10,
   "metadata": {},
   "outputs": [],
   "source": [
    "library(dplyr) # include lobrary dplyr"
   ]
  },
  {
   "cell_type": "code",
   "execution_count": 13,
   "metadata": {},
   "outputs": [
    {
     "name": "stdout",
     "output_type": "stream",
     "text": [
      "Rows: 81\n",
      "Columns: 5\n",
      "$ HP  \u001b[3m\u001b[90m<int>\u001b[39m\u001b[23m 49, 55, 55, 70, 53, 70, 55, 62, 62, 80, 73, 92, 92, 73, 66, 73,...\n",
      "$ MPG \u001b[3m\u001b[90m<dbl>\u001b[39m\u001b[23m 53.70068, 50.01340, 50.01340, 45.69632, 50.50423, 45.69632, 50....\n",
      "$ VOL \u001b[3m\u001b[90m<int>\u001b[39m\u001b[23m 89, 92, 92, 92, 92, 89, 92, 50, 50, 94, 89, 50, 99, 89, 89, 89,...\n",
      "$ SP  \u001b[3m\u001b[90m<dbl>\u001b[39m\u001b[23m 104.1854, 105.4613, 105.4613, 113.4613, 104.4613, 113.1854, 105...\n",
      "$ WT  \u001b[3m\u001b[90m<dbl>\u001b[39m\u001b[23m 28.76206, 30.46683, 30.19360, 30.63211, 29.88915, 29.59177, 30....\n"
     ]
    }
   ],
   "source": [
    "glimpse(df) # we also can check and process "
   ]
  },
  {
   "cell_type": "code",
   "execution_count": 15,
   "metadata": {},
   "outputs": [
    {
     "data": {
      "text/html": [
       "FALSE"
      ],
      "text/latex": [
       "FALSE"
      ],
      "text/markdown": [
       "FALSE"
      ],
      "text/plain": [
       "[1] FALSE"
      ]
     },
     "metadata": {},
     "output_type": "display_data"
    }
   ],
   "source": [
    "anyNA(df) # this means there is no navalue present no missing value to impute"
   ]
  },
  {
   "cell_type": "code",
   "execution_count": 17,
   "metadata": {},
   "outputs": [
    {
     "data": {
      "text/html": [
       "<table>\n",
       "<caption>A matrix: 5 × 5 of type dbl</caption>\n",
       "<thead>\n",
       "\t<tr><th></th><th scope=col>HP</th><th scope=col>MPG</th><th scope=col>VOL</th><th scope=col>SP</th><th scope=col>WT</th></tr>\n",
       "</thead>\n",
       "<tbody>\n",
       "\t<tr><th scope=row>HP</th><td>3261.95216</td><td>-378.12837</td><td>  98.66142</td><td>788.76944</td><td> 32.74306</td></tr>\n",
       "\t<tr><th scope=row>MPG</th><td>-378.12837</td><td>  83.38328</td><td>-107.73967</td><td>-88.98055</td><td>-36.04097</td></tr>\n",
       "\t<tr><th scope=row>VOL</th><td>  98.66142</td><td>-107.73967</td><td> 497.35679</td><td> 32.31302</td><td>166.96778</td></tr>\n",
       "\t<tr><th scope=row>SP</th><td> 788.76944</td><td> -88.98055</td><td>  32.31302</td><td>201.11300</td><td> 10.88507</td></tr>\n",
       "\t<tr><th scope=row>WT</th><td>  32.74306</td><td> -36.04097</td><td> 166.96778</td><td> 10.88507</td><td> 56.14225</td></tr>\n",
       "</tbody>\n",
       "</table>\n"
      ],
      "text/latex": [
       "A matrix: 5 × 5 of type dbl\n",
       "\\begin{tabular}{r|lllll}\n",
       "  & HP & MPG & VOL & SP & WT\\\\\n",
       "\\hline\n",
       "\tHP & 3261.95216 & -378.12837 &   98.66142 & 788.76944 &  32.74306\\\\\n",
       "\tMPG & -378.12837 &   83.38328 & -107.73967 & -88.98055 & -36.04097\\\\\n",
       "\tVOL &   98.66142 & -107.73967 &  497.35679 &  32.31302 & 166.96778\\\\\n",
       "\tSP &  788.76944 &  -88.98055 &   32.31302 & 201.11300 &  10.88507\\\\\n",
       "\tWT &   32.74306 &  -36.04097 &  166.96778 &  10.88507 &  56.14225\\\\\n",
       "\\end{tabular}\n"
      ],
      "text/markdown": [
       "\n",
       "A matrix: 5 × 5 of type dbl\n",
       "\n",
       "| <!--/--> | HP | MPG | VOL | SP | WT |\n",
       "|---|---|---|---|---|---|\n",
       "| HP | 3261.95216 | -378.12837 |   98.66142 | 788.76944 |  32.74306 |\n",
       "| MPG | -378.12837 |   83.38328 | -107.73967 | -88.98055 | -36.04097 |\n",
       "| VOL |   98.66142 | -107.73967 |  497.35679 |  32.31302 | 166.96778 |\n",
       "| SP |  788.76944 |  -88.98055 |   32.31302 | 201.11300 |  10.88507 |\n",
       "| WT |   32.74306 |  -36.04097 |  166.96778 |  10.88507 |  56.14225 |\n",
       "\n"
      ],
      "text/plain": [
       "    HP         MPG        VOL        SP        WT       \n",
       "HP  3261.95216 -378.12837   98.66142 788.76944  32.74306\n",
       "MPG -378.12837   83.38328 -107.73967 -88.98055 -36.04097\n",
       "VOL   98.66142 -107.73967  497.35679  32.31302 166.96778\n",
       "SP   788.76944  -88.98055   32.31302 201.11300  10.88507\n",
       "WT    32.74306  -36.04097  166.96778  10.88507  56.14225"
      ]
     },
     "metadata": {},
     "output_type": "display_data"
    }
   ],
   "source": [
    "var(df) # values varies from the mean"
   ]
  },
  {
   "cell_type": "markdown",
   "metadata": {},
   "source": [
    "some how i will findout intrepareation of different data in order to understand its feature i need to see its different corleantio point of each data types and correlaiion of each coulumns lets get numeric value of each column"
   ]
  },
  {
   "cell_type": "code",
   "execution_count": 20,
   "metadata": {},
   "outputs": [],
   "source": [
    "num_col  <- sapply(df,is.numeric)"
   ]
  },
  {
   "cell_type": "code",
   "execution_count": 22,
   "metadata": {
    "scrolled": true
   },
   "outputs": [
    {
     "data": {
      "text/html": [
       "<style>\n",
       ".dl-inline {width: auto; margin:0; padding: 0}\n",
       ".dl-inline>dt, .dl-inline>dd {float: none; width: auto; display: inline-block}\n",
       ".dl-inline>dt::after {content: \":\\0020\"; padding-right: .5ex}\n",
       ".dl-inline>dt:not(:first-of-type) {padding-left: .5ex}\n",
       "</style><dl class=dl-inline><dt>HP</dt><dd>TRUE</dd><dt>MPG</dt><dd>TRUE</dd><dt>VOL</dt><dd>TRUE</dd><dt>SP</dt><dd>TRUE</dd><dt>WT</dt><dd>TRUE</dd></dl>\n"
      ],
      "text/latex": [
       "\\begin{description*}\n",
       "\\item[HP] TRUE\n",
       "\\item[MPG] TRUE\n",
       "\\item[VOL] TRUE\n",
       "\\item[SP] TRUE\n",
       "\\item[WT] TRUE\n",
       "\\end{description*}\n"
      ],
      "text/markdown": [
       "HP\n",
       ":   TRUEMPG\n",
       ":   TRUEVOL\n",
       ":   TRUESP\n",
       ":   TRUEWT\n",
       ":   TRUE\n",
       "\n"
      ],
      "text/plain": [
       "  HP  MPG  VOL   SP   WT \n",
       "TRUE TRUE TRUE TRUE TRUE "
      ]
     },
     "metadata": {},
     "output_type": "display_data"
    }
   ],
   "source": [
    "num_col # got the numeric value as true"
   ]
  },
  {
   "cell_type": "code",
   "execution_count": 29,
   "metadata": {},
   "outputs": [],
   "source": [
    "cor.data  <- cor(df[,num_col]) # finding the correaltion between afte taking columns to row for comparision"
   ]
  },
  {
   "cell_type": "code",
   "execution_count": 30,
   "metadata": {},
   "outputs": [
    {
     "name": "stdout",
     "output_type": "stream",
     "text": [
      "             HP        MPG         VOL         SP          WT\n",
      "HP   1.00000000 -0.7250383  0.07745947  0.9738481  0.07651307\n",
      "MPG -0.72503835  1.0000000 -0.52905658 -0.6871246 -0.52675909\n",
      "VOL  0.07745947 -0.5290566  1.00000000  0.1021700  0.99920308\n",
      "SP   0.97384807 -0.6871246  0.10217001  1.0000000  0.10243919\n",
      "WT   0.07651307 -0.5267591  0.99920308  0.1024392  1.00000000\n"
     ]
    }
   ],
   "source": [
    "print(cor.data)"
   ]
  },
  {
   "cell_type": "code",
   "execution_count": 32,
   "metadata": {},
   "outputs": [
    {
     "data": {
      "text/html": [
       "<table>\n",
       "<caption>A matrix: 5 × 5 of type dbl</caption>\n",
       "<thead>\n",
       "\t<tr><th></th><th scope=col>HP</th><th scope=col>MPG</th><th scope=col>VOL</th><th scope=col>SP</th><th scope=col>WT</th></tr>\n",
       "</thead>\n",
       "<tbody>\n",
       "\t<tr><th scope=row>HP</th><td> 1.00000000</td><td>-0.7250383</td><td> 0.07745947</td><td> 0.9738481</td><td> 0.07651307</td></tr>\n",
       "\t<tr><th scope=row>MPG</th><td>-0.72503835</td><td> 1.0000000</td><td>-0.52905658</td><td>-0.6871246</td><td>-0.52675909</td></tr>\n",
       "\t<tr><th scope=row>VOL</th><td> 0.07745947</td><td>-0.5290566</td><td> 1.00000000</td><td> 0.1021700</td><td> 0.99920308</td></tr>\n",
       "\t<tr><th scope=row>SP</th><td> 0.97384807</td><td>-0.6871246</td><td> 0.10217001</td><td> 1.0000000</td><td> 0.10243919</td></tr>\n",
       "\t<tr><th scope=row>WT</th><td> 0.07651307</td><td>-0.5267591</td><td> 0.99920308</td><td> 0.1024392</td><td> 1.00000000</td></tr>\n",
       "</tbody>\n",
       "</table>\n"
      ],
      "text/latex": [
       "A matrix: 5 × 5 of type dbl\n",
       "\\begin{tabular}{r|lllll}\n",
       "  & HP & MPG & VOL & SP & WT\\\\\n",
       "\\hline\n",
       "\tHP &  1.00000000 & -0.7250383 &  0.07745947 &  0.9738481 &  0.07651307\\\\\n",
       "\tMPG & -0.72503835 &  1.0000000 & -0.52905658 & -0.6871246 & -0.52675909\\\\\n",
       "\tVOL &  0.07745947 & -0.5290566 &  1.00000000 &  0.1021700 &  0.99920308\\\\\n",
       "\tSP &  0.97384807 & -0.6871246 &  0.10217001 &  1.0000000 &  0.10243919\\\\\n",
       "\tWT &  0.07651307 & -0.5267591 &  0.99920308 &  0.1024392 &  1.00000000\\\\\n",
       "\\end{tabular}\n"
      ],
      "text/markdown": [
       "\n",
       "A matrix: 5 × 5 of type dbl\n",
       "\n",
       "| <!--/--> | HP | MPG | VOL | SP | WT |\n",
       "|---|---|---|---|---|---|\n",
       "| HP |  1.00000000 | -0.7250383 |  0.07745947 |  0.9738481 |  0.07651307 |\n",
       "| MPG | -0.72503835 |  1.0000000 | -0.52905658 | -0.6871246 | -0.52675909 |\n",
       "| VOL |  0.07745947 | -0.5290566 |  1.00000000 |  0.1021700 |  0.99920308 |\n",
       "| SP |  0.97384807 | -0.6871246 |  0.10217001 |  1.0000000 |  0.10243919 |\n",
       "| WT |  0.07651307 | -0.5267591 |  0.99920308 |  0.1024392 |  1.00000000 |\n",
       "\n"
      ],
      "text/plain": [
       "    HP          MPG        VOL         SP         WT         \n",
       "HP   1.00000000 -0.7250383  0.07745947  0.9738481  0.07651307\n",
       "MPG -0.72503835  1.0000000 -0.52905658 -0.6871246 -0.52675909\n",
       "VOL  0.07745947 -0.5290566  1.00000000  0.1021700  0.99920308\n",
       "SP   0.97384807 -0.6871246  0.10217001  1.0000000  0.10243919\n",
       "WT   0.07651307 -0.5267591  0.99920308  0.1024392  1.00000000"
      ]
     },
     "metadata": {},
     "output_type": "display_data"
    }
   ],
   "source": [
    "cor(df) # we can also find cortrelation of data as well "
   ]
  },
  {
   "cell_type": "code",
   "execution_count": 41,
   "metadata": {},
   "outputs": [],
   "source": [
    "library(corrplot)\n",
    "library(corrgram)"
   ]
  },
  {
   "cell_type": "markdown",
   "metadata": {},
   "source": [
    "# Exploratory data annalysis:-"
   ]
  },
  {
   "cell_type": "code",
   "execution_count": 42,
   "metadata": {},
   "outputs": [
    {
     "name": "stdout",
     "output_type": "stream",
     "text": [
      "             HP        MPG         VOL         SP          WT\n",
      "HP   1.00000000 -0.7250383  0.07745947  0.9738481  0.07651307\n",
      "MPG -0.72503835  1.0000000 -0.52905658 -0.6871246 -0.52675909\n",
      "VOL  0.07745947 -0.5290566  1.00000000  0.1021700  0.99920308\n",
      "SP   0.97384807 -0.6871246  0.10217001  1.0000000  0.10243919\n",
      "WT   0.07651307 -0.5267591  0.99920308  0.1024392  1.00000000\n"
     ]
    },
    {
     "data": {
      "image/png": "[encoded data removed]",
      "text/plain": [
       "Plot with title \"\""
      ]
     },
     "metadata": {
      "image/png": {
       "height": 420,
       "width": 420
      }
     },
     "output_type": "display_data"
    }
   ],
   "source": [
    "print(corrplot(cor.data,method = 'color'))"
   ]
  },
  {
   "cell_type": "markdown",
   "metadata": {},
   "source": [
    "looke here we find out there is high correaltion between hp as we can see it through digonally. it shows also there is some correlation exist between volume andn weight "
   ]
  },
  {
   "cell_type": "markdown",
   "metadata": {},
   "source": [
    "To visualise more meaningfull insite from the informaiton lets do corrgram"
   ]
  },
  {
   "cell_type": "code",
   "execution_count": 43,
   "metadata": {},
   "outputs": [
    {
     "name": "stdout",
     "output_type": "stream",
     "text": [
      "             HP        MPG         VOL         SP          WT\n",
      "HP   1.00000000 -0.7250383  0.07745947  0.9738481  0.07651307\n",
      "MPG -0.72503835  1.0000000 -0.52905658 -0.6871246 -0.52675909\n",
      "VOL  0.07745947 -0.5290566  1.00000000  0.1021700  0.99920308\n",
      "SP   0.97384807 -0.6871246  0.10217001  1.0000000  0.10243919\n",
      "WT   0.07651307 -0.5267591  0.99920308  0.1024392  1.00000000\n"
     ]
    },
    {
     "data": {
      "image/png": "[encoded data removed]",
      "text/plain": [
       "plot without title"
      ]
     },
     "metadata": {
      "image/png": {
       "height": 420,
       "width": 420
      }
     },
     "output_type": "display_data"
    }
   ],
   "source": [
    "print(corrgram(cor.data))"
   ]
  },
  {
   "cell_type": "code",
   "execution_count": 54,
   "metadata": {},
   "outputs": [
    {
     "data": {
      "image/png": "[encoded data removed]",
      "text/plain": [
       "plot without title"
      ]
     },
     "metadata": {
      "image/png": {
       "height": 420,
       "width": 420
      }
     },
     "output_type": "display_data"
    }
   ],
   "source": [
    "corrgram(df,order=TRUE,lower.panel = panel.shade,upper.panel = panel.ellipse,text.panel = panel.txt)"
   ]
  },
  {
   "cell_type": "code",
   "execution_count": 56,
   "metadata": {
    "scrolled": false
   },
   "outputs": [
    {
     "data": {
      "image/png": "[encoded data removed]",
      "text/plain": [
       "plot without title"
      ]
     },
     "metadata": {
      "image/png": {
       "height": 420,
       "width": 420
      }
     },
     "output_type": "display_data"
    }
   ],
   "source": [
    "corrgram(df,order=TRUE,lower.panel = panel.shade,upper.panel = panel.pie,text.panel = panel.txt)"
   ]
  },
  {
   "cell_type": "markdown",
   "metadata": {},
   "source": [
    "from the above weitht and volume perfectly correlated, and sp and sp also showes perfect correaltion aswell, as blue indicate posiitive correaltion and Hp and MPG negatively correalted as Red indicate negatice correaltinon\n"
   ]
  },
  {
   "cell_type": "code",
   "execution_count": 113,
   "metadata": {},
   "outputs": [
    {
     "name": "stderr",
     "output_type": "stream",
     "text": [
      "The following objects are masked from df (pos = 7):\n",
      "\n",
      "    HP, MPG, SP, VOL, WT\n",
      "\n",
      "\n",
      "The following objects are masked from df (pos = 8):\n",
      "\n",
      "    HP, MPG, SP, VOL, WT\n",
      "\n",
      "\n"
     ]
    }
   ],
   "source": [
    "attach(df)"
   ]
  },
  {
   "cell_type": "code",
   "execution_count": 62,
   "metadata": {},
   "outputs": [
    {
     "data": {
      "image/png": "[encoded data removed]",
      "text/plain": [
       "plot without title"
      ]
     },
     "metadata": {
      "image/png": {
       "height": 420,
       "width": 420
      }
     },
     "output_type": "display_data"
    }
   ],
   "source": [
    "plot(HP,MPG) # to see more visually at basice level also "
   ]
  },
  {
   "cell_type": "markdown",
   "metadata": {},
   "source": [
    "from the above we can see there is some correalation exist in the variable HP and MPG "
   ]
  },
  {
   "cell_type": "code",
   "execution_count": 64,
   "metadata": {},
   "outputs": [
    {
     "data": {
      "image/png": "[encoded data removed]",
      "text/plain": [
       "plot without title"
      ]
     },
     "metadata": {
      "image/png": {
       "height": 420,
       "width": 420
      }
     },
     "output_type": "display_data"
    }
   ],
   "source": [
    "plot(VOL,MPG)"
   ]
  },
  {
   "cell_type": "markdown",
   "metadata": {},
   "source": [
    "we can clearly see there is no realation shhip exist as points are not matching in VOL and MPG"
   ]
  },
  {
   "cell_type": "code",
   "execution_count": 66,
   "metadata": {},
   "outputs": [
    {
     "data": {
      "image/png": "[encoded data removed]",
      "text/plain": [
       "plot without title"
      ]
     },
     "metadata": {
      "image/png": {
       "height": 420,
       "width": 420
      }
     },
     "output_type": "display_data"
    }
   ],
   "source": [
    "plot(VOL,WT)"
   ]
  },
  {
   "cell_type": "markdown",
   "metadata": {},
   "source": [
    "we can see there is a perfect correaltion exist between Vol and WT"
   ]
  },
  {
   "cell_type": "code",
   "execution_count": 70,
   "metadata": {},
   "outputs": [
    {
     "data": {
      "image/png": "[encoded data removed]",
      "text/plain": [
       "plot without title"
      ]
     },
     "metadata": {
      "image/png": {
       "height": 420,
       "width": 420
      }
     },
     "output_type": "display_data"
    }
   ],
   "source": [
    "pairs(df) # a basic visualization of correaltion of each variable "
   ]
  },
  {
   "cell_type": "markdown",
   "metadata": {},
   "source": [
    "more visually we can see the correaltion of each variable both side shows positive and negative corealtion of each side"
   ]
  },
  {
   "cell_type": "code",
   "execution_count": 72,
   "metadata": {},
   "outputs": [
    {
     "data": {
      "image/png": "[encoded data removed]",
      "text/plain": [
       "plot without title"
      ]
     },
     "metadata": {
      "image/png": {
       "height": 420,
       "width": 420
      }
     },
     "output_type": "display_data"
    }
   ],
   "source": [
    "panel.cor <- function(x, y, digits=2, prefix=\"\", cex.cor)\n",
    "{\n",
    "  usr <- par(\"usr\"); on.exit(par(usr))\n",
    "  par(usr = c(0, 1, 0, 1))\n",
    "  r = (cor(x, y))\n",
    "  txt <- format(c(r, 0.123456789), digits=digits)[1]\n",
    "  txt <- paste(prefix, txt, sep=\"\")\n",
    "  if(missing(cex.cor)) cex <- 0.4/strwidth(txt)\n",
    "  text(0.5, 0.5, txt, cex = cex)\n",
    "}\n",
    "pairs(df, upper.panel=panel.cor,main=\"Scatter Plot Matrix with Correlation Coefficients\")\n",
    "#we "
   ]
  },
  {
   "cell_type": "markdown",
   "metadata": {},
   "source": [
    "we can see more insight about negative and positive correalion with numeric explanaiton and with representation."
   ]
  },
  {
   "cell_type": "markdown",
   "metadata": {},
   "source": [
    "Lets Checkout each variable are normal or not "
   ]
  },
  {
   "cell_type": "code",
   "execution_count": 91,
   "metadata": {},
   "outputs": [
    {
     "data": {
      "image/png": "[encoded data removed]",
      "text/plain": [
       "Plot with title \"Normal Q-Q Plot\""
      ]
     },
     "metadata": {
      "image/png": {
       "height": 420,
       "width": 420
      }
     },
     "output_type": "display_data"
    }
   ],
   "source": [
    "qqnorm(HP)\n",
    "qqline(HP)"
   ]
  },
  {
   "cell_type": "markdown",
   "metadata": {},
   "source": [
    "Though all the values are not on the line , it means it is not normal "
   ]
  },
  {
   "cell_type": "code",
   "execution_count": 94,
   "metadata": {},
   "outputs": [
    {
     "data": {
      "image/png": "[encoded data removed]",
      "text/plain": [
       "Plot with title \"Normal Q-Q Plot\""
      ]
     },
     "metadata": {
      "image/png": {
       "height": 420,
       "width": 420
      }
     },
     "output_type": "display_data"
    }
   ],
   "source": [
    "qqnorm(MPG)\n",
    "qqline(MPG)"
   ]
  },
  {
   "cell_type": "markdown",
   "metadata": {},
   "source": [
    "MPG is a normally distributed as its each points are little bit on the line "
   ]
  },
  {
   "cell_type": "code",
   "execution_count": 96,
   "metadata": {},
   "outputs": [
    {
     "data": {
      "image/png": "[encoded data removed]",
      "text/plain": [
       "Plot with title \"Normal Q-Q Plot\""
      ]
     },
     "metadata": {
      "image/png": {
       "height": 420,
       "width": 420
      }
     },
     "output_type": "display_data"
    }
   ],
   "source": [
    "qqnorm(VOL)\n",
    "qqline(VOL)"
   ]
  },
  {
   "cell_type": "markdown",
   "metadata": {},
   "source": [
    "VOl is also normally distributed from the above point we can see"
   ]
  },
  {
   "cell_type": "code",
   "execution_count": 99,
   "metadata": {},
   "outputs": [
    {
     "data": {
      "image/png": "[encoded data removed]",
      "text/plain": [
       "Plot with title \"Normal Q-Q Plot\""
      ]
     },
     "metadata": {
      "image/png": {
       "height": 420,
       "width": 420
      }
     },
     "output_type": "display_data"
    }
   ],
   "source": [
    "qqnorm(SP)\n",
    "qqline(SP)"
   ]
  },
  {
   "cell_type": "markdown",
   "metadata": {},
   "source": [
    "SP is not normally Distributed"
   ]
  },
  {
   "cell_type": "code",
   "execution_count": 103,
   "metadata": {},
   "outputs": [
    {
     "data": {
      "image/png": "[encoded data removed]",
      "text/plain": [
       "Plot with title \"Normal Q-Q Plot\""
      ]
     },
     "metadata": {
      "image/png": {
       "height": 420,
       "width": 420
      }
     },
     "output_type": "display_data"
    }
   ],
   "source": [
    "qqnorm(WT)\n",
    "qqline(WT)"
   ]
  },
  {
   "cell_type": "markdown",
   "metadata": {},
   "source": [
    "It looks like WT also normally distributed"
   ]
  },
  {
   "cell_type": "markdown",
   "metadata": {},
   "source": [
    "### Splitting our data into train and test "
   ]
  },
  {
   "cell_type": "code",
   "execution_count": 136,
   "metadata": {},
   "outputs": [],
   "source": [
    "library(ISLR)"
   ]
  },
  {
   "cell_type": "code",
   "execution_count": 138,
   "metadata": {},
   "outputs": [],
   "source": [
    "sample_siz = floor(0.70*nrow(df))"
   ]
  },
  {
   "cell_type": "code",
   "execution_count": 141,
   "metadata": {},
   "outputs": [
    {
     "data": {
      "text/html": [
       "56"
      ],
      "text/latex": [
       "56"
      ],
      "text/markdown": [
       "56"
      ],
      "text/plain": [
       "[1] 56"
      ]
     },
     "metadata": {},
     "output_type": "display_data"
    }
   ],
   "source": [
    "sample_siz # of 70 percent of 81 ovservation"
   ]
  },
  {
   "cell_type": "markdown",
   "metadata": {},
   "source": [
    "# Train test split for Random value will be selected each time "
   ]
  },
  {
   "cell_type": "code",
   "execution_count": 147,
   "metadata": {},
   "outputs": [],
   "source": [
    "set.seed(101) # this will give random value each time \n",
    "train_random = sample(seq_len(nrow(df)),size = sample_siz) # i have generated random data set\n",
    "train = df[train_random,] # i have now train and test data \n",
    "test = df[-train_random,] # after deduction from test random i got test data also\n"
   ]
  },
  {
   "cell_type": "code",
   "execution_count": 197,
   "metadata": {},
   "outputs": [
    {
     "data": {
      "text/plain": [
       "\n",
       "Call:\n",
       "lm(formula = MPG ~ WT + SP + VOL + HP, data = train)\n",
       "\n",
       "Coefficients:\n",
       "(Intercept)           WT           SP          VOL           HP  \n",
       "    12.5615      -0.2142       0.5964      -0.1440      -0.2507  \n"
      ]
     },
     "metadata": {},
     "output_type": "display_data"
    }
   ],
   "source": [
    "model = lm(MPG ~ WT+SP+VOL+HP,data = train) # created a linear model car \n",
    "model # we built our model ,now lets check summary of it and what we will gain form it"
   ]
  },
  {
   "cell_type": "code",
   "execution_count": 198,
   "metadata": {},
   "outputs": [
    {
     "data": {
      "text/plain": [
       "\n",
       "Call:\n",
       "lm(formula = MPG ~ WT + SP + VOL + HP, data = train)\n",
       "\n",
       "Residuals:\n",
       "     Min       1Q   Median       3Q      Max \n",
       "-10.2540  -2.5345  -0.8392   1.3699  14.5829 \n",
       "\n",
       "Coefficients:\n",
       "            Estimate Std. Error t value Pr(>|t|)    \n",
       "(Intercept) 12.56147   18.72330   0.671  0.50531    \n",
       "WT          -0.21420    2.05635  -0.104  0.91745    \n",
       "SP           0.59641    0.20051   2.975  0.00447 ** \n",
       "VOL         -0.14403    0.68910  -0.209  0.83527    \n",
       "HP          -0.25074    0.04929  -5.087 5.28e-06 ***\n",
       "---\n",
       "Signif. codes:  0 '***' 0.001 '**' 0.01 '*' 0.05 '.' 0.1 ' ' 1\n",
       "\n",
       "Residual standard error: 4.418 on 51 degrees of freedom\n",
       "Multiple R-squared:  0.8025,\tAdjusted R-squared:  0.787 \n",
       "F-statistic: 51.81 on 4 and 51 DF,  p-value: < 2.2e-16\n"
      ]
     },
     "metadata": {},
     "output_type": "display_data"
    }
   ],
   "source": [
    "summary(model)"
   ]
  },
  {
   "cell_type": "markdown",
   "metadata": {},
   "source": [
    "in our model we find adjusted R square of 0.78% , so need to make a better model lets check it with other variable "
   ]
  },
  {
   "cell_type": "markdown",
   "metadata": {},
   "source": [
    "lets predict our model what we made"
   ]
  },
  {
   "cell_type": "code",
   "execution_count": 201,
   "metadata": {},
   "outputs": [],
   "source": [
    "MPG.predict  <- predict.lm(model,test)"
   ]
  },
  {
   "cell_type": "code",
   "execution_count": 207,
   "metadata": {},
   "outputs": [
    {
     "name": "stdout",
     "output_type": "stream",
     "text": [
      "   Predicted   Acutal\n",
      "4   42.86710 45.69632\n",
      "5   41.92108 50.50423\n",
      "7   41.92620 50.01340\n",
      "11  41.46138 44.65283\n",
      "12  49.05476 39.35409\n",
      "15  41.43075 45.73489\n"
     ]
    }
   ],
   "source": [
    "result  <- cbind(MPG.predict,test$MPG) # im storing pridicted value with actual in resutl\n",
    "colnames(result)  <- c('Predicted','Acutal')# created predicted and actual column \n",
    "results  <- as.data.frame(result) # stored values in results a new vector\n",
    "print(head(results)) # and printing out actual and precicted "
   ]
  },
  {
   "cell_type": "markdown",
   "metadata": {},
   "source": [
    "we did and predicted our model too but is it correct as we think , lets check for any outlier , and any variable which actually influence or giving bad results , before going into it you must have some domain knowledge , here doimain knowledge comes into play without domain knowledge your all effort is useless "
   ]
  },
  {
   "cell_type": "markdown",
   "metadata": {},
   "source": [
    "## But here we will first identify outlier and remove it "
   ]
  },
  {
   "cell_type": "code",
   "execution_count": 199,
   "metadata": {},
   "outputs": [],
   "source": [
    "library(car) # to visualize our model in plotting method we use car plot "
   ]
  },
  {
   "cell_type": "code",
   "execution_count": 238,
   "metadata": {
    "scrolled": true
   },
   "outputs": [
    {
     "data": {
      "image/png": "[encoded data removed]",
      "text/plain": [
       "Plot with title \"\""
      ]
     },
     "metadata": {
      "image/png": {
       "height": 420,
       "width": 420
      }
     },
     "output_type": "display_data"
    }
   ],
   "source": [
    "par(mfrow = c(2,2)) # we created square row and column to visualse the summary\n",
    "plot(model)# 77 item is a outlier "
   ]
  },
  {
   "cell_type": "markdown",
   "metadata": {},
   "source": [
    " from above by plotting our model we find that in out model there is ourlier, standardised residials ,and leverage in our data value of 770 "
   ]
  },
  {
   "cell_type": "code",
   "execution_count": 213,
   "metadata": {},
   "outputs": [
    {
     "data": {
      "text/html": [
       "<style>\n",
       ".dl-inline {width: auto; margin:0; padding: 0}\n",
       ".dl-inline>dt, .dl-inline>dd {float: none; width: auto; display: inline-block}\n",
       ".dl-inline>dt::after {content: \":\\0020\"; padding-right: .5ex}\n",
       ".dl-inline>dt:not(:first-of-type) {padding-left: .5ex}\n",
       "</style><dl class=dl-inline><dt>71</dt><dd>18</dd><dt>77</dt><dd>25</dd></dl>\n"
      ],
      "text/latex": [
       "\\begin{description*}\n",
       "\\item[71] 18\n",
       "\\item[77] 25\n",
       "\\end{description*}\n"
      ],
      "text/markdown": [
       "71\n",
       ":   1877\n",
       ":   25\n",
       "\n"
      ],
      "text/plain": [
       "71 77 \n",
       "18 25 "
      ]
     },
     "metadata": {},
     "output_type": "display_data"
    },
    {
     "data": {
      "image/png": "[encoded data removed]",
      "text/plain": [
       "plot without title"
      ]
     },
     "metadata": {
      "image/png": {
       "height": 420,
       "width": 420
      }
     },
     "output_type": "display_data"
    }
   ],
   "source": [
    "qqPlot(model,identify.n=6) # QQ plots of studentized residuals, helps identify outliers\n",
    "# as we can see the value 77 is the outlier in our model\n",
    "# if you see both positive and negative side 77 th item on positive is highly influencing "
   ]
  },
  {
   "cell_type": "markdown",
   "metadata": {},
   "source": [
    "it looks like our model is the best after taking or removing out the outlier , but question cames how do we know our model is not influenced by any other variable unnecessaryly , at this we should know the practical or real world situation or example of variable , to determine, the capacity of variablity of variables "
   ]
  },
  {
   "cell_type": "markdown",
   "metadata": {},
   "source": [
    "What is the meaning of the above variable it is the superflows car that is generally impacting overall cars data as irrilivant means the general perfomance of all cars are some how little vary but this is drastically changing value of all other variables , so it is a ourlier we have to remove it , as it is not part of our investigatiosn. so we removing the 77 value car number "
   ]
  },
  {
   "cell_type": "code",
   "execution_count": 214,
   "metadata": {},
   "outputs": [
    {
     "data": {
      "text/plain": [
       "Influence measures of\n",
       "\t lm(formula = MPG ~ WT + SP + VOL + HP, data = train) :\n",
       "\n",
       "      dfb.1_   dfb.WT    dfb.SP  dfb.VOL    dfb.HP    dffit cov.r   cook.d\n",
       "73 -2.86e-03 -0.00323  0.001766  0.00345 -1.18e-03  0.00936 1.180 1.79e-05\n",
       "57 -2.21e-01 -0.03231  0.211764  0.03273 -1.97e-01 -0.25028 1.122 1.26e-02\n",
       "46 -3.58e-03 -0.02350 -0.001063  0.02356  4.61e-03 -0.05544 1.119 6.25e-04\n",
       "58 -4.96e-02  0.13256  0.057475 -0.13290 -5.37e-02 -0.18147 1.116 6.65e-03\n",
       "61  4.75e-02 -0.10716 -0.052950  0.10614  4.58e-02 -0.15862 1.136 5.09e-03\n",
       "60 -3.39e-02  0.04952  0.041302 -0.05194 -3.20e-02 -0.13395 1.097 3.63e-03\n",
       "59 -1.93e-01  0.06807  0.190025 -0.06764 -1.76e-01 -0.26281 1.056 1.38e-02\n",
       "3   8.80e-02  0.06289 -0.047834 -0.06507 -1.29e-02  0.41001 0.811 3.20e-02\n",
       "32  3.05e-02  0.02772 -0.023799 -0.02735  1.23e-02  0.10320 1.097 2.16e-03\n",
       "9  -5.79e-02 -0.03511  0.045724  0.03709 -4.01e-02 -0.09053 1.339 1.67e-03\n",
       "31 -5.99e-02 -0.24338  0.040779  0.24678 -6.23e-02  0.31874 1.067 2.02e-02\n",
       "76 -3.89e-02 -0.04552  0.044567  0.04337 -5.10e-02 -0.10141 1.193 2.09e-03\n",
       "53 -4.77e-03 -0.03080  0.000593  0.03154 -1.53e-03  0.04196 1.198 3.59e-04\n",
       "75 -1.83e-01 -0.05918  0.198714  0.05330 -1.99e-01 -0.26915 1.155 1.46e-02\n",
       "49  2.86e-01  0.07414 -0.311552 -0.06732  2.96e-01 -0.41285 0.909 3.30e-02\n",
       "14 -1.86e-03  0.08537  0.023074 -0.08701 -3.89e-02  0.16593 1.099 5.56e-03\n",
       "45 -8.13e-05  0.00176  0.000155 -0.00177 -1.70e-05 -0.00231 1.171 1.09e-06\n",
       "71  8.64e-01  0.51077 -0.935222 -0.46044  6.12e-01 -2.15511 0.699 7.98e-01\n",
       "6  -6.14e-02  0.11562  0.083282 -0.11717 -9.50e-02  0.18677 1.192 7.07e-03\n",
       "56  2.79e-02  0.02985 -0.022996 -0.03084  2.23e-02 -0.05562 1.170 6.31e-04\n",
       "26 -5.65e-02  0.02057 -0.048400  0.00392  6.51e-02 -0.74320 0.783 1.03e-01\n",
       "48 -8.65e-04 -0.00307  0.000268  0.00301  5.50e-04 -0.01062 1.130 2.30e-05\n",
       "69  1.16e-02  0.00644 -0.006254 -0.00765  1.20e-03 -0.05832 1.144 6.93e-04\n",
       "42  7.79e-04  0.00329 -0.000421 -0.00324 -4.75e-05  0.00615 1.141 7.72e-06\n",
       "77  1.24e-01  0.21525  0.005760 -0.29191  6.05e-01  3.55469 0.235 1.74e+00\n",
       "43 -2.91e-02 -0.13968  0.008671  0.14088 -2.18e-03 -0.17958 1.108 6.51e-03\n",
       "68  1.17e-02  0.02007 -0.007274 -0.02081  4.62e-03 -0.03836 1.181 3.00e-04\n",
       "21  4.29e-02  0.02077 -0.044380 -0.02054  4.66e-02 -0.05790 1.177 6.83e-04\n",
       "20 -1.27e-02 -0.01027  0.012563  0.01026 -1.33e-02  0.01825 1.201 6.80e-05\n",
       "66  2.58e-01 -0.14517 -0.233621  0.13395  2.58e-01  0.47752 1.238 4.56e-02\n",
       "8  -5.34e-02  0.01767  0.044074 -0.01543 -3.79e-02 -0.09437 1.304 1.82e-03\n",
       "51 -7.61e-02 -0.03049  0.072149  0.03006 -6.83e-02 -0.11998 1.087 2.91e-03\n",
       "55  8.72e-02 -0.01027 -0.085224  0.00952  7.53e-02 -0.12217 1.148 3.03e-03\n",
       "63 -8.90e-03 -0.02180  0.012230  0.02030 -1.30e-02 -0.05567 1.168 6.32e-04\n",
       "24 -6.00e-03  0.03792  0.012102 -0.03811 -1.62e-02  0.05644 1.167 6.49e-04\n",
       "39 -7.46e-02 -0.24346  0.039063  0.24625 -3.06e-02 -0.29432 1.097 1.73e-02\n",
       "10 -3.27e-02  0.00849  0.037583 -0.00891 -4.12e-02  0.05581 1.164 6.35e-04\n",
       "65 -2.63e-02 -0.06288  0.028023  0.06105 -3.18e-02 -0.10110 1.155 2.08e-03\n",
       "25  1.12e-01  0.11161 -0.115929 -0.10966  1.21e-01 -0.18156 1.165 6.68e-03\n",
       "80 -3.53e-01  0.18625  0.316301 -0.18311 -1.54e-01  0.91266 1.051 1.60e-01\n",
       "72 -1.74e-02 -0.03600  0.011161  0.03695 -8.85e-03  0.05127 1.261 5.36e-04\n",
       "81 -2.30e-01  0.02400  0.245494 -0.02531 -2.70e-01 -0.30025 1.509 1.83e-02\n",
       "37 -6.51e-03  0.00446  0.001852 -0.00378  2.08e-03 -0.04802 1.126 4.70e-04\n",
       "17 -3.33e-02 -0.03300  0.035658  0.03242 -3.96e-02  0.06219 1.176 7.88e-04\n",
       "64 -3.89e-02 -0.05552  0.043467  0.05287 -4.55e-02 -0.11968 1.133 2.91e-03\n",
       "35  9.07e-03 -0.11933 -0.013257  0.11964  1.40e-03  0.15636 1.148 4.96e-03\n",
       "78 -7.09e-03  0.01171  0.002084 -0.01113  1.35e-02  0.08961 1.207 1.64e-03\n",
       "41 -1.34e-03  0.03067  0.003205 -0.02982 -7.41e-03  0.05881 1.139 7.04e-04\n",
       "74  3.82e-02  0.02356 -0.056173 -0.01785  5.54e-02  0.16964 1.281 5.85e-03\n",
       "44 -2.74e-02  0.13979  0.026844 -0.13817 -1.84e-02 -0.18497 1.135 6.92e-03\n",
       "67 -2.71e-02 -0.14024  0.023659  0.13858 -3.48e-02 -0.17923 1.161 6.51e-03\n",
       "2   1.41e-01  0.32289 -0.080098 -0.32498  1.66e-02  0.52929 0.819 5.31e-02\n",
       "1   2.19e-04 -0.44360  0.023554  0.43860 -1.11e-01  0.73118 0.650 9.66e-02\n",
       "13  1.23e-01 -0.05215 -0.134431  0.05280  1.38e-01 -0.16465 1.265 5.51e-03\n",
       "22 -2.93e-02 -0.15493  0.024875  0.15720 -5.58e-02  0.28600 0.978 1.61e-02\n",
       "16  1.42e-02  0.17390  0.014369 -0.17556 -3.13e-02  0.22964 1.136 1.06e-02\n",
       "      hat inf\n",
       "73 0.0645    \n",
       "57 0.0822    \n",
       "46 0.0250    \n",
       "58 0.0602    \n",
       "61 0.0636    \n",
       "60 0.0382    \n",
       "59 0.0602    \n",
       "3  0.0438    \n",
       "32 0.0288    \n",
       "9  0.1787   *\n",
       "31 0.0791    \n",
       "76 0.0850    \n",
       "53 0.0806    \n",
       "75 0.1026    \n",
       "49 0.0608    \n",
       "14 0.0481    \n",
       "45 0.0572    \n",
       "71 0.3312   *\n",
       "6  0.1018    \n",
       "56 0.0609    \n",
       "26 0.1042    \n",
       "48 0.0232    \n",
       "69 0.0423    \n",
       "42 0.0324    \n",
       "77 0.3436   *\n",
       "43 0.0559    \n",
       "68 0.0668    \n",
       "21 0.0664    \n",
       "20 0.0811    \n",
       "66 0.1899    \n",
       "8  0.1574   *\n",
       "51 0.0300    \n",
       "55 0.0601    \n",
       "63 0.0596    \n",
       "24 0.0584    \n",
       "39 0.0836    \n",
       "10 0.0566    \n",
       "65 0.0597    \n",
       "25 0.0852    \n",
       "80 0.2164    \n",
       "72 0.1261    \n",
       "81 0.2848   *\n",
       "37 0.0278    \n",
       "17 0.0660    \n",
       "64 0.0509    \n",
       "35 0.0693    \n",
       "78 0.0923    \n",
       "41 0.0388    \n",
       "74 0.1520    \n",
       "44 0.0699    \n",
       "67 0.0824    \n",
       "2  0.0682    \n",
       "1  0.0763   *\n",
       "13 0.1412    \n",
       "22 0.0457    \n",
       "16 0.0830    "
      ]
     },
     "metadata": {},
     "output_type": "display_data"
    }
   ],
   "source": [
    "influence.measures(model) # ltes try some other method to find the influence factor too"
   ]
  },
  {
   "cell_type": "code",
   "execution_count": 182,
   "metadata": {},
   "outputs": [
    {
     "name": "stderr",
     "output_type": "stream",
     "text": [
      "Warning message in plot.window(...):\n",
      "\"\"identical\" is not a graphical parameter\"\n",
      "Warning message in plot.xy(xy, type, ...):\n",
      "\"\"identical\" is not a graphical parameter\"\n",
      "Warning message in axis(side = side, at = at, labels = labels, ...):\n",
      "\"\"identical\" is not a graphical parameter\"\n",
      "Warning message in axis(side = side, at = at, labels = labels, ...):\n",
      "\"\"identical\" is not a graphical parameter\"\n",
      "Warning message in box(...):\n",
      "\"\"identical\" is not a graphical parameter\"\n",
      "Warning message in title(...):\n",
      "\"\"identical\" is not a graphical parameter\"\n",
      "Warning message in plot.xy(xy.coords(x, y), type = type, ...):\n",
      "\"\"identical\" is not a graphical parameter\"\n",
      "Warning message in plot.xy(xy.coords(x, y), type = type, ...):\n",
      "\"\"identical\" is not a graphical parameter\"\n",
      "Warning message in plot.window(...):\n",
      "\"\"identical\" is not a graphical parameter\"\n",
      "Warning message in plot.xy(xy, type, ...):\n",
      "\"\"identical\" is not a graphical parameter\"\n",
      "Warning message in axis(side = side, at = at, labels = labels, ...):\n",
      "\"\"identical\" is not a graphical parameter\"\n",
      "Warning message in axis(side = side, at = at, labels = labels, ...):\n",
      "\"\"identical\" is not a graphical parameter\"\n",
      "Warning message in box(...):\n",
      "\"\"identical\" is not a graphical parameter\"\n",
      "Warning message in title(...):\n",
      "\"\"identical\" is not a graphical parameter\"\n",
      "Warning message in plot.xy(xy.coords(x, y), type = type, ...):\n",
      "\"\"identical\" is not a graphical parameter\"\n",
      "Warning message in plot.xy(xy.coords(x, y), type = type, ...):\n",
      "\"\"identical\" is not a graphical parameter\"\n",
      "Warning message in plot.window(...):\n",
      "\"\"identical\" is not a graphical parameter\"\n",
      "Warning message in plot.xy(xy, type, ...):\n",
      "\"\"identical\" is not a graphical parameter\"\n",
      "Warning message in axis(side = side, at = at, labels = labels, ...):\n",
      "\"\"identical\" is not a graphical parameter\"\n",
      "Warning message in axis(side = side, at = at, labels = labels, ...):\n",
      "\"\"identical\" is not a graphical parameter\"\n",
      "Warning message in box(...):\n",
      "\"\"identical\" is not a graphical parameter\"\n",
      "Warning message in title(...):\n",
      "\"\"identical\" is not a graphical parameter\"\n",
      "Warning message in plot.xy(xy.coords(x, y), type = type, ...):\n",
      "\"\"identical\" is not a graphical parameter\"\n",
      "Warning message in plot.xy(xy.coords(x, y), type = type, ...):\n",
      "\"\"identical\" is not a graphical parameter\"\n",
      "Warning message in plot.window(...):\n",
      "\"\"identical\" is not a graphical parameter\"\n",
      "Warning message in plot.xy(xy, type, ...):\n",
      "\"\"identical\" is not a graphical parameter\"\n",
      "Warning message in axis(side = side, at = at, labels = labels, ...):\n",
      "\"\"identical\" is not a graphical parameter\"\n",
      "Warning message in axis(side = side, at = at, labels = labels, ...):\n",
      "\"\"identical\" is not a graphical parameter\"\n",
      "Warning message in box(...):\n",
      "\"\"identical\" is not a graphical parameter\"\n",
      "Warning message in title(...):\n",
      "\"\"identical\" is not a graphical parameter\"\n",
      "Warning message in plot.xy(xy.coords(x, y), type = type, ...):\n",
      "\"\"identical\" is not a graphical parameter\"\n",
      "Warning message in plot.xy(xy.coords(x, y), type = type, ...):\n",
      "\"\"identical\" is not a graphical parameter\"\n"
     ]
    },
    {
     "data": {
      "image/png": "[encoded data removed]",
      "text/plain": [
       "plot without title"
      ]
     },
     "metadata": {
      "image/png": {
       "height": 420,
       "width": 420
      }
     },
     "output_type": "display_data"
    }
   ],
   "source": [
    "influenceIndexPlot(model,identical= 3) # we trying to find influence item upto 3 and found it "
   ]
  },
  {
   "cell_type": "code",
   "execution_count": 194,
   "metadata": {},
   "outputs": [
    {
     "name": "stderr",
     "output_type": "stream",
     "text": [
      "Warning message in plot.window(...):\n",
      "\"\"identify\" is not a graphical parameter\"\n",
      "Warning message in plot.xy(xy, type, ...):\n",
      "\"\"identify\" is not a graphical parameter\"\n",
      "Warning message in axis(side = side, at = at, labels = labels, ...):\n",
      "\"\"identify\" is not a graphical parameter\"\n",
      "Warning message in axis(side = side, at = at, labels = labels, ...):\n",
      "\"\"identify\" is not a graphical parameter\"\n",
      "Warning message in box(...):\n",
      "\"\"identify\" is not a graphical parameter\"\n",
      "Warning message in title(...):\n",
      "\"\"identify\" is not a graphical parameter\"\n",
      "Warning message in plot.xy(xy.coords(x, y), type = type, ...):\n",
      "\"\"identify\" is not a graphical parameter\"\n"
     ]
    },
    {
     "data": {
      "text/html": [
       "<table>\n",
       "<caption>A data.frame: 3 × 3</caption>\n",
       "<thead>\n",
       "\t<tr><th></th><th scope=col>StudRes</th><th scope=col>Hat</th><th scope=col>CookD</th></tr>\n",
       "\t<tr><th></th><th scope=col>&lt;dbl&gt;</th><th scope=col>&lt;dbl&gt;</th><th scope=col>&lt;dbl&gt;</th></tr>\n",
       "</thead>\n",
       "<tbody>\n",
       "\t<tr><th scope=row>1</th><td> 2.421762</td><td>0.05200781</td><td>0.06047977</td></tr>\n",
       "\t<tr><th scope=row>71</th><td>-2.100131</td><td>0.22253511</td><td>0.24164401</td></tr>\n",
       "\t<tr><th scope=row>77</th><td> 4.503603</td><td>0.25138750</td><td>1.08651940</td></tr>\n",
       "</tbody>\n",
       "</table>\n"
      ],
      "text/latex": [
       "A data.frame: 3 × 3\n",
       "\\begin{tabular}{r|lll}\n",
       "  & StudRes & Hat & CookD\\\\\n",
       "  & <dbl> & <dbl> & <dbl>\\\\\n",
       "\\hline\n",
       "\t1 &  2.421762 & 0.05200781 & 0.06047977\\\\\n",
       "\t71 & -2.100131 & 0.22253511 & 0.24164401\\\\\n",
       "\t77 &  4.503603 & 0.25138750 & 1.08651940\\\\\n",
       "\\end{tabular}\n"
      ],
      "text/markdown": [
       "\n",
       "A data.frame: 3 × 3\n",
       "\n",
       "| <!--/--> | StudRes &lt;dbl&gt; | Hat &lt;dbl&gt; | CookD &lt;dbl&gt; |\n",
       "|---|---|---|---|\n",
       "| 1 |  2.421762 | 0.05200781 | 0.06047977 |\n",
       "| 71 | -2.100131 | 0.22253511 | 0.24164401 |\n",
       "| 77 |  4.503603 | 0.25138750 | 1.08651940 |\n",
       "\n"
      ],
      "text/plain": [
       "   StudRes   Hat        CookD     \n",
       "1   2.421762 0.05200781 0.06047977\n",
       "71 -2.100131 0.22253511 0.24164401\n",
       "77  4.503603 0.25138750 1.08651940"
      ]
     },
     "metadata": {},
     "output_type": "display_data"
    },
    {
     "data": {
      "image/png": "[encoded data removed]",
      "text/plain": [
       "plot without title"
      ]
     },
     "metadata": {
      "image/png": {
       "height": 420,
       "width": 420
      }
     },
     "output_type": "display_data"
    }
   ],
   "source": [
    "influencePlot(model,identify = 3) # we identified 3 influencial cars as outliers again we have to remove 79 item"
   ]
  },
  {
   "cell_type": "markdown",
   "metadata": {},
   "source": [
    "From the above we managed to find the influencial car now it is time to remove the influence factor no 77th item "
   ]
  },
  {
   "cell_type": "code",
   "execution_count": 187,
   "metadata": {},
   "outputs": [
    {
     "data": {
      "text/plain": [
       "\n",
       "Call:\n",
       "lm(formula = MPG ~ WT + SP + VOL + HP, data = df[-77, ])\n",
       "\n",
       "Residuals:\n",
       "    Min      1Q  Median      3Q     Max \n",
       "-7.3943 -2.3555 -0.5913  1.8978 12.0184 \n",
       "\n",
       "Coefficients:\n",
       "            Estimate Std. Error t value Pr(>|t|)    \n",
       "(Intercept) 27.82675   13.32251   2.089  0.04013 *  \n",
       "WT           0.03754    1.51458   0.025  0.98029    \n",
       "SP           0.41189    0.14139   2.913  0.00471 ** \n",
       "VOL         -0.18546    0.50895  -0.364  0.71659    \n",
       "HP          -0.22664    0.03534  -6.413 1.14e-08 ***\n",
       "---\n",
       "Signif. codes:  0 '***' 0.001 '**' 0.01 '*' 0.05 '.' 0.1 ' ' 1\n",
       "\n",
       "Residual standard error: 4.008 on 75 degrees of freedom\n",
       "Multiple R-squared:  0.8192,\tAdjusted R-squared:  0.8096 \n",
       "F-statistic: 84.96 on 4 and 75 DF,  p-value: < 2.2e-16\n"
      ]
     },
     "metadata": {},
     "output_type": "display_data"
    }
   ],
   "source": [
    "model1  <-lm(MPG ~ WT+SP+VOL+HP,data = df[-77,]) # removing highly influencial data point 77 th row item  \n",
    "summary(model1)# when we removed the outlier our model impried  \n"
   ]
  },
  {
   "cell_type": "code",
   "execution_count": 189,
   "metadata": {},
   "outputs": [
    {
     "name": "stderr",
     "output_type": "stream",
     "text": [
      "Warning message in plot.window(...):\n",
      "\"\"id.n\" is not a graphical parameter\"\n",
      "Warning message in plot.xy(xy, type, ...):\n",
      "\"\"id.n\" is not a graphical parameter\"\n",
      "Warning message in axis(side = side, at = at, labels = labels, ...):\n",
      "\"\"id.n\" is not a graphical parameter\"\n",
      "Warning message in axis(side = side, at = at, labels = labels, ...):\n",
      "\"\"id.n\" is not a graphical parameter\"\n",
      "Warning message in box(...):\n",
      "\"\"id.n\" is not a graphical parameter\"\n",
      "Warning message in title(...):\n",
      "\"\"id.n\" is not a graphical parameter\"\n",
      "Warning message in plot.xy(xy.coords(x, y), type = type, ...):\n",
      "\"\"id.n\" is not a graphical parameter\"\n"
     ]
    },
    {
     "data": {
      "text/html": [
       "<table>\n",
       "<caption>A data.frame: 3 × 3</caption>\n",
       "<thead>\n",
       "\t<tr><th></th><th scope=col>StudRes</th><th scope=col>Hat</th><th scope=col>CookD</th></tr>\n",
       "\t<tr><th></th><th scope=col>&lt;dbl&gt;</th><th scope=col>&lt;dbl&gt;</th><th scope=col>&lt;dbl&gt;</th></tr>\n",
       "</thead>\n",
       "<tbody>\n",
       "\t<tr><th scope=row>71</th><td>-1.121154</td><td>0.2798972</td><td>0.09738206</td></tr>\n",
       "\t<tr><th scope=row>79</th><td> 3.738832</td><td>0.2454752</td><td>0.77538775</td></tr>\n",
       "\t<tr><th scope=row>80</th><td> 2.978118</td><td>0.1803653</td><td>0.35327645</td></tr>\n",
       "</tbody>\n",
       "</table>\n"
      ],
      "text/latex": [
       "A data.frame: 3 × 3\n",
       "\\begin{tabular}{r|lll}\n",
       "  & StudRes & Hat & CookD\\\\\n",
       "  & <dbl> & <dbl> & <dbl>\\\\\n",
       "\\hline\n",
       "\t71 & -1.121154 & 0.2798972 & 0.09738206\\\\\n",
       "\t79 &  3.738832 & 0.2454752 & 0.77538775\\\\\n",
       "\t80 &  2.978118 & 0.1803653 & 0.35327645\\\\\n",
       "\\end{tabular}\n"
      ],
      "text/markdown": [
       "\n",
       "A data.frame: 3 × 3\n",
       "\n",
       "| <!--/--> | StudRes &lt;dbl&gt; | Hat &lt;dbl&gt; | CookD &lt;dbl&gt; |\n",
       "|---|---|---|---|\n",
       "| 71 | -1.121154 | 0.2798972 | 0.09738206 |\n",
       "| 79 |  3.738832 | 0.2454752 | 0.77538775 |\n",
       "| 80 |  2.978118 | 0.1803653 | 0.35327645 |\n",
       "\n"
      ],
      "text/plain": [
       "   StudRes   Hat       CookD     \n",
       "71 -1.121154 0.2798972 0.09738206\n",
       "79  3.738832 0.2454752 0.77538775\n",
       "80  2.978118 0.1803653 0.35327645"
      ]
     },
     "metadata": {},
     "output_type": "display_data"
    },
    {
     "data": {
      "image/png": "[encoded data removed]",
      "text/plain": [
       "plot without title"
      ]
     },
     "metadata": {
      "image/png": {
       "height": 420,
       "width": 420
      }
     },
     "output_type": "display_data"
    }
   ],
   "source": [
    "influencePlot(model1,id.n=3) # but we will not removing as it it not highly influsinve value in our data "
   ]
  },
  {
   "cell_type": "markdown",
   "metadata": {},
   "source": [
    "Which variable is still influenced here in this synario we need to find out as well so inordeer to do that we will use variable infaltion factor to analysie about the variable "
   ]
  },
  {
   "cell_type": "markdown",
   "metadata": {},
   "source": [
    "Why we are doing this as can we remove any similar colinear variable existed in this model lets do this "
   ]
  },
  {
   "cell_type": "code",
   "execution_count": 276,
   "metadata": {},
   "outputs": [
    {
     "data": {
      "text/html": [
       "<style>\n",
       ".dl-inline {width: auto; margin:0; padding: 0}\n",
       ".dl-inline>dt, .dl-inline>dd {float: none; width: auto; display: inline-block}\n",
       ".dl-inline>dt::after {content: \":\\0020\"; padding-right: .5ex}\n",
       ".dl-inline>dt:not(:first-of-type) {padding-left: .5ex}\n",
       "</style><dl class=dl-inline><dt>WT</dt><dd>603.032816685317</dd><dt>SP</dt><dd>17.1107833890901</dd><dt>VOL</dt><dd>602.75063936754</dd><dt>HP</dt><dd>16.9936712862974</dd></dl>\n"
      ],
      "text/latex": [
       "\\begin{description*}\n",
       "\\item[WT] 603.032816685317\n",
       "\\item[SP] 17.1107833890901\n",
       "\\item[VOL] 602.75063936754\n",
       "\\item[HP] 16.9936712862974\n",
       "\\end{description*}\n"
      ],
      "text/markdown": [
       "WT\n",
       ":   603.032816685317SP\n",
       ":   17.1107833890901VOL\n",
       ":   602.75063936754HP\n",
       ":   16.9936712862974\n",
       "\n"
      ],
      "text/plain": [
       "       WT        SP       VOL        HP \n",
       "603.03282  17.11078 602.75064  16.99367 "
      ]
     },
     "metadata": {},
     "output_type": "display_data"
    }
   ],
   "source": [
    "vif(model1) # as we can see which variable is hurdle in colinearity factor over  here "
   ]
  },
  {
   "cell_type": "code",
   "execution_count": 235,
   "metadata": {},
   "outputs": [
    {
     "data": {
      "text/plain": [
       "\n",
       "Call:\n",
       "lm(formula = WT ~ VOL + HP + SP)\n",
       "\n",
       "Residuals:\n",
       "     Min       1Q   Median       3Q      Max \n",
       "-0.56581 -0.25193  0.07088  0.23244  0.51044 \n",
       "\n",
       "Coefficients:\n",
       "             Estimate Std. Error t value Pr(>|t|)    \n",
       "(Intercept) -1.882166   0.979497  -1.922   0.0584 .  \n",
       "VOL          0.335519   0.001529 219.396   <2e-16 ***\n",
       "HP          -0.003148   0.002615  -1.204   0.2322    \n",
       "SP           0.012563   0.010553   1.190   0.2375    \n",
       "---\n",
       "Signif. codes:  0 '***' 0.001 '**' 0.01 '*' 0.05 '.' 0.1 ' ' 1\n",
       "\n",
       "Residual standard error: 0.302 on 77 degrees of freedom\n",
       "Multiple R-squared:  0.9984,\tAdjusted R-squared:  0.9984 \n",
       "F-statistic: 1.639e+04 on 3 and 77 DF,  p-value: < 2.2e-16\n"
      ]
     },
     "metadata": {},
     "output_type": "display_data"
    }
   ],
   "source": [
    "VIFWT<-lm(WT~VOL+HP+SP) # checking wheathe weight is contributing in colinearity\n",
    "summary(VIFWT) # yes we can see it is showing r square value is best and it is highly co-related "
   ]
  },
  {
   "cell_type": "markdown",
   "metadata": {},
   "source": [
    "Here domain knowledge comes into play What is says Weight is directly co-related with volume means space or size avaliable for passenger ,HP horse power of engine ,speed ,it is proved to be true if all other 3 taken variable increases it alsoe increses the Weight of the car"
   ]
  },
  {
   "cell_type": "code",
   "execution_count": 233,
   "metadata": {},
   "outputs": [
    {
     "data": {
      "text/plain": [
       "\n",
       "Call:\n",
       "lm(formula = VOL ~ WT + HP + SP)\n",
       "\n",
       "Residuals:\n",
       "    Min      1Q  Median      3Q     Max \n",
       "-1.5374 -0.7056 -0.1961  0.7140  1.7380 \n",
       "\n",
       "Coefficients:\n",
       "             Estimate Std. Error t value Pr(>|t|)    \n",
       "(Intercept)  5.631671   2.916358   1.931   0.0572 .  \n",
       "WT           2.975701   0.013563 219.396   <2e-16 ***\n",
       "HP           0.009102   0.007791   1.168   0.2463    \n",
       "SP          -0.036083   0.031449  -1.147   0.2548    \n",
       "---\n",
       "Signif. codes:  0 '***' 0.001 '**' 0.01 '*' 0.05 '.' 0.1 ' ' 1\n",
       "\n",
       "Residual standard error: 0.8994 on 77 degrees of freedom\n",
       "Multiple R-squared:  0.9984,\tAdjusted R-squared:  0.9984 \n",
       "F-statistic: 1.637e+04 on 3 and 77 DF,  p-value: < 2.2e-16\n"
      ]
     },
     "metadata": {},
     "output_type": "display_data"
    }
   ],
   "source": [
    "VIFVOL<-lm(VOL~WT+HP+SP)\n",
    "summary(VIFV)"
   ]
  },
  {
   "cell_type": "markdown",
   "metadata": {},
   "source": [
    "Here we find the same problem with voume it is also highly related as adjusted R square value is showing 99 % \n",
    "so we have to drop one un related variable from it as it is same impact multicolinearity in the sence"
   ]
  },
  {
   "cell_type": "code",
   "execution_count": 231,
   "metadata": {},
   "outputs": [
    {
     "data": {
      "text/plain": [
       "\n",
       "Call:\n",
       "lm(formula = HP ~ VOL + WT + SP)\n",
       "\n",
       "Residuals:\n",
       "    Min      1Q  Median      3Q     Max \n",
       "-25.785 -10.988   0.561   7.634  45.697 \n",
       "\n",
       "Coefficients:\n",
       "             Estimate Std. Error t value Pr(>|t|)    \n",
       "(Intercept) -359.1891    14.1176 -25.443   <2e-16 ***\n",
       "VOL            1.9137     1.6380   1.168    0.246    \n",
       "WT            -5.8704     4.8754  -1.204    0.232    \n",
       "SP             3.9323     0.1034  38.045   <2e-16 ***\n",
       "---\n",
       "Signif. codes:  0 '***' 0.001 '**' 0.01 '*' 0.05 '.' 0.1 ' ' 1\n",
       "\n",
       "Residual standard error: 13.04 on 77 degrees of freedom\n",
       "Multiple R-squared:  0.9498,\tAdjusted R-squared:  0.9479 \n",
       "F-statistic: 485.8 on 3 and 77 DF,  p-value: < 2.2e-16\n"
      ]
     },
     "metadata": {},
     "output_type": "display_data"
    }
   ],
   "source": [
    "VIFHP<-lm(HP~VOL+WT+SP)\n",
    "summary(VIFHP)"
   ]
  },
  {
   "cell_type": "markdown",
   "metadata": {},
   "source": [
    "likely HP variable also showing 94% increased or influsing factor in our model, we have to take but related variable not similar variable which is unnecessaryly will increase colinearity"
   ]
  },
  {
   "cell_type": "code",
   "execution_count": 237,
   "metadata": {},
   "outputs": [
    {
     "data": {
      "text/plain": [
       "\n",
       "Call:\n",
       "lm(formula = SP ~ VOL + HP + WT)\n",
       "\n",
       "Residuals:\n",
       "     Min       1Q   Median       3Q      Max \n",
       "-10.1319  -1.4441  -0.2547   2.7924   6.2470 \n",
       "\n",
       "Coefficients:\n",
       "             Estimate Std. Error t value Pr(>|t|)    \n",
       "(Intercept) 92.560454   1.964324  47.121   <2e-16 ***\n",
       "VOL         -0.465851   0.406019  -1.147    0.255    \n",
       "HP           0.241460   0.006347  38.045   <2e-16 ***\n",
       "WT           1.438508   1.208380   1.190    0.238    \n",
       "---\n",
       "Signif. codes:  0 '***' 0.001 '**' 0.01 '*' 0.05 '.' 0.1 ' ' 1\n",
       "\n",
       "Residual standard error: 3.232 on 77 degrees of freedom\n",
       "Multiple R-squared:   0.95,\tAdjusted R-squared:  0.9481 \n",
       "F-statistic: 487.9 on 3 and 77 DF,  p-value: < 2.2e-16\n"
      ]
     },
     "metadata": {},
     "output_type": "display_data"
    }
   ],
   "source": [
    "VIFSP<-lm(SP~VOL+HP+WT)\n",
    "summary(VIFSP)"
   ]
  },
  {
   "cell_type": "markdown",
   "metadata": {},
   "source": [
    "it is also highly corelated "
   ]
  },
  {
   "cell_type": "markdown",
   "metadata": {},
   "source": [
    "if we plot against each variable what we already analysed during our  primiraly investiation , by corrgram that volume and weight are corealated each other"
   ]
  },
  {
   "cell_type": "code",
   "execution_count": 176,
   "metadata": {},
   "outputs": [
    {
     "data": {
      "image/png": "[encoded data removed]",
      "text/plain": [
       "plot without title"
      ]
     },
     "metadata": {
      "image/png": {
       "height": 420,
       "width": 420
      }
     },
     "output_type": "display_data"
    }
   ],
   "source": [
    "plot(WT,VOL) # we see the volume and weitght how co related with each other "
   ]
  },
  {
   "cell_type": "markdown",
   "metadata": {},
   "source": [
    "we can find multicolinearity by using some techinique in r also some packages available GGally"
   ]
  },
  {
   "cell_type": "code",
   "execution_count": 245,
   "metadata": {},
   "outputs": [
    {
     "data": {
      "image/png": "[encoded data removed]",
      "text/plain": [
       "plot without title"
      ]
     },
     "metadata": {
      "image/png": {
       "height": 420,
       "width": 420
      }
     },
     "output_type": "display_data"
    }
   ],
   "source": [
    "library(GGally)\n",
    "ggpairs(df)"
   ]
  },
  {
   "cell_type": "markdown",
   "metadata": {},
   "source": [
    "Volume and weight and HP and SP are Highly Corelated with each other very difficult to see and remove corelation variable "
   ]
  },
  {
   "cell_type": "markdown",
   "metadata": {},
   "source": [
    "To solve this high- colinearity we will use partial-corelation to see the influnsive variabel out"
   ]
  },
  {
   "cell_type": "code",
   "execution_count": 249,
   "metadata": {},
   "outputs": [],
   "source": [
    "library(corpcor)"
   ]
  },
  {
   "cell_type": "code",
   "execution_count": 251,
   "metadata": {},
   "outputs": [
    {
     "data": {
      "text/html": [
       "<table>\n",
       "<caption>A matrix: 5 × 5 of type dbl</caption>\n",
       "<thead>\n",
       "\t<tr><th></th><th scope=col>HP</th><th scope=col>MPG</th><th scope=col>VOL</th><th scope=col>SP</th><th scope=col>WT</th></tr>\n",
       "</thead>\n",
       "<tbody>\n",
       "\t<tr><th scope=row>HP</th><td> 1.00000000</td><td>-0.7250383</td><td> 0.07745947</td><td> 0.9738481</td><td> 0.07651307</td></tr>\n",
       "\t<tr><th scope=row>MPG</th><td>-0.72503835</td><td> 1.0000000</td><td>-0.52905658</td><td>-0.6871246</td><td>-0.52675909</td></tr>\n",
       "\t<tr><th scope=row>VOL</th><td> 0.07745947</td><td>-0.5290566</td><td> 1.00000000</td><td> 0.1021700</td><td> 0.99920308</td></tr>\n",
       "\t<tr><th scope=row>SP</th><td> 0.97384807</td><td>-0.6871246</td><td> 0.10217001</td><td> 1.0000000</td><td> 0.10243919</td></tr>\n",
       "\t<tr><th scope=row>WT</th><td> 0.07651307</td><td>-0.5267591</td><td> 0.99920308</td><td> 0.1024392</td><td> 1.00000000</td></tr>\n",
       "</tbody>\n",
       "</table>\n"
      ],
      "text/latex": [
       "A matrix: 5 × 5 of type dbl\n",
       "\\begin{tabular}{r|lllll}\n",
       "  & HP & MPG & VOL & SP & WT\\\\\n",
       "\\hline\n",
       "\tHP &  1.00000000 & -0.7250383 &  0.07745947 &  0.9738481 &  0.07651307\\\\\n",
       "\tMPG & -0.72503835 &  1.0000000 & -0.52905658 & -0.6871246 & -0.52675909\\\\\n",
       "\tVOL &  0.07745947 & -0.5290566 &  1.00000000 &  0.1021700 &  0.99920308\\\\\n",
       "\tSP &  0.97384807 & -0.6871246 &  0.10217001 &  1.0000000 &  0.10243919\\\\\n",
       "\tWT &  0.07651307 & -0.5267591 &  0.99920308 &  0.1024392 &  1.00000000\\\\\n",
       "\\end{tabular}\n"
      ],
      "text/markdown": [
       "\n",
       "A matrix: 5 × 5 of type dbl\n",
       "\n",
       "| <!--/--> | HP | MPG | VOL | SP | WT |\n",
       "|---|---|---|---|---|---|\n",
       "| HP |  1.00000000 | -0.7250383 |  0.07745947 |  0.9738481 |  0.07651307 |\n",
       "| MPG | -0.72503835 |  1.0000000 | -0.52905658 | -0.6871246 | -0.52675909 |\n",
       "| VOL |  0.07745947 | -0.5290566 |  1.00000000 |  0.1021700 |  0.99920308 |\n",
       "| SP |  0.97384807 | -0.6871246 |  0.10217001 |  1.0000000 |  0.10243919 |\n",
       "| WT |  0.07651307 | -0.5267591 |  0.99920308 |  0.1024392 |  1.00000000 |\n",
       "\n"
      ],
      "text/plain": [
       "    HP          MPG        VOL         SP         WT         \n",
       "HP   1.00000000 -0.7250383  0.07745947  0.9738481  0.07651307\n",
       "MPG -0.72503835  1.0000000 -0.52905658 -0.6871246 -0.52675909\n",
       "VOL  0.07745947 -0.5290566  1.00000000  0.1021700  0.99920308\n",
       "SP   0.97384807 -0.6871246  0.10217001  1.0000000  0.10243919\n",
       "WT   0.07651307 -0.5267591  0.99920308  0.1024392  1.00000000"
      ]
     },
     "metadata": {},
     "output_type": "display_data"
    }
   ],
   "source": [
    "cor(df)"
   ]
  },
  {
   "cell_type": "code",
   "execution_count": 253,
   "metadata": {},
   "outputs": [
    {
     "data": {
      "text/html": [
       "<table>\n",
       "<caption>A matrix: 5 × 5 of type dbl</caption>\n",
       "<tbody>\n",
       "\t<tr><td> 1.00000000</td><td>-0.51507804</td><td> 0.07802551</td><td> 0.9448373</td><td>-0.10251007</td></tr>\n",
       "\t<tr><td>-0.51507804</td><td> 1.00000000</td><td>-0.06763373</td><td> 0.2756467</td><td> 0.02712318</td></tr>\n",
       "\t<tr><td> 0.07802551</td><td>-0.06763373</td><td> 1.00000000</td><td>-0.1056994</td><td> 0.99838084</td></tr>\n",
       "\t<tr><td> 0.94483727</td><td> 0.27564673</td><td>-0.10569943</td><td> 1.0000000</td><td> 0.12170021</td></tr>\n",
       "\t<tr><td>-0.10251007</td><td> 0.02712318</td><td> 0.99838084</td><td> 0.1217002</td><td> 1.00000000</td></tr>\n",
       "</tbody>\n",
       "</table>\n"
      ],
      "text/latex": [
       "A matrix: 5 × 5 of type dbl\n",
       "\\begin{tabular}{lllll}\n",
       "\t  1.00000000 & -0.51507804 &  0.07802551 &  0.9448373 & -0.10251007\\\\\n",
       "\t -0.51507804 &  1.00000000 & -0.06763373 &  0.2756467 &  0.02712318\\\\\n",
       "\t  0.07802551 & -0.06763373 &  1.00000000 & -0.1056994 &  0.99838084\\\\\n",
       "\t  0.94483727 &  0.27564673 & -0.10569943 &  1.0000000 &  0.12170021\\\\\n",
       "\t -0.10251007 &  0.02712318 &  0.99838084 &  0.1217002 &  1.00000000\\\\\n",
       "\\end{tabular}\n"
      ],
      "text/markdown": [
       "\n",
       "A matrix: 5 × 5 of type dbl\n",
       "\n",
       "|  1.00000000 | -0.51507804 |  0.07802551 |  0.9448373 | -0.10251007 |\n",
       "| -0.51507804 |  1.00000000 | -0.06763373 |  0.2756467 |  0.02712318 |\n",
       "|  0.07802551 | -0.06763373 |  1.00000000 | -0.1056994 |  0.99838084 |\n",
       "|  0.94483727 |  0.27564673 | -0.10569943 |  1.0000000 |  0.12170021 |\n",
       "| -0.10251007 |  0.02712318 |  0.99838084 |  0.1217002 |  1.00000000 |\n",
       "\n"
      ],
      "text/plain": [
       "     [,1]        [,2]        [,3]        [,4]       [,5]       \n",
       "[1,]  1.00000000 -0.51507804  0.07802551  0.9448373 -0.10251007\n",
       "[2,] -0.51507804  1.00000000 -0.06763373  0.2756467  0.02712318\n",
       "[3,]  0.07802551 -0.06763373  1.00000000 -0.1056994  0.99838084\n",
       "[4,]  0.94483727  0.27564673 -0.10569943  1.0000000  0.12170021\n",
       "[5,] -0.10251007  0.02712318  0.99838084  0.1217002  1.00000000"
      ]
     },
     "metadata": {},
     "output_type": "display_data"
    }
   ],
   "source": [
    "cor2pcor(cor(df))"
   ]
  },
  {
   "cell_type": "code",
   "execution_count": 259,
   "metadata": {},
   "outputs": [],
   "source": [
    "library(car)"
   ]
  },
  {
   "cell_type": "markdown",
   "metadata": {},
   "source": [
    "its a prtiac corelation plot to see added difference between variables "
   ]
  },
  {
   "cell_type": "code",
   "execution_count": 277,
   "metadata": {},
   "outputs": [
    {
     "data": {
      "image/png": "[encoded data removed]",
      "text/plain": [
       "Plot with title \"\""
      ]
     },
     "metadata": {
      "image/png": {
       "height": 420,
       "width": 420
      }
     },
     "output_type": "display_data"
    }
   ],
   "source": [
    "avPlots(model1)"
   ]
  },
  {
   "cell_type": "code",
   "execution_count": 278,
   "metadata": {},
   "outputs": [
    {
     "name": "stderr",
     "output_type": "stream",
     "text": [
      "Warning message in plot.window(...):\n",
      "\"\"id.n\" is not a graphical parameter\"\n",
      "Warning message in plot.window(...):\n",
      "\"\"id.cex\" is not a graphical parameter\"\n",
      "Warning message in plot.xy(xy, type, ...):\n",
      "\"\"id.n\" is not a graphical parameter\"\n",
      "Warning message in plot.xy(xy, type, ...):\n",
      "\"\"id.cex\" is not a graphical parameter\"\n",
      "Warning message in axis(side = side, at = at, labels = labels, ...):\n",
      "\"\"id.n\" is not a graphical parameter\"\n",
      "Warning message in axis(side = side, at = at, labels = labels, ...):\n",
      "\"\"id.cex\" is not a graphical parameter\"\n",
      "Warning message in axis(side = side, at = at, labels = labels, ...):\n",
      "\"\"id.n\" is not a graphical parameter\"\n",
      "Warning message in axis(side = side, at = at, labels = labels, ...):\n",
      "\"\"id.cex\" is not a graphical parameter\"\n",
      "Warning message in box(...):\n",
      "\"\"id.n\" is not a graphical parameter\"\n",
      "Warning message in box(...):\n",
      "\"\"id.cex\" is not a graphical parameter\"\n",
      "Warning message in title(...):\n",
      "\"\"id.n\" is not a graphical parameter\"\n",
      "Warning message in title(...):\n",
      "\"\"id.cex\" is not a graphical parameter\"\n",
      "Warning message in plot.xy(xy.coords(x, y), type = type, ...):\n",
      "\"\"id.n\" is not a graphical parameter\"\n",
      "Warning message in plot.xy(xy.coords(x, y), type = type, ...):\n",
      "\"\"id.cex\" is not a graphical parameter\"\n",
      "Warning message in plot.window(...):\n",
      "\"\"id.n\" is not a graphical parameter\"\n",
      "Warning message in plot.window(...):\n",
      "\"\"id.cex\" is not a graphical parameter\"\n",
      "Warning message in plot.xy(xy, type, ...):\n",
      "\"\"id.n\" is not a graphical parameter\"\n",
      "Warning message in plot.xy(xy, type, ...):\n",
      "\"\"id.cex\" is not a graphical parameter\"\n",
      "Warning message in axis(side = side, at = at, labels = labels, ...):\n",
      "\"\"id.n\" is not a graphical parameter\"\n",
      "Warning message in axis(side = side, at = at, labels = labels, ...):\n",
      "\"\"id.cex\" is not a graphical parameter\"\n",
      "Warning message in axis(side = side, at = at, labels = labels, ...):\n",
      "\"\"id.n\" is not a graphical parameter\"\n",
      "Warning message in axis(side = side, at = at, labels = labels, ...):\n",
      "\"\"id.cex\" is not a graphical parameter\"\n",
      "Warning message in box(...):\n",
      "\"\"id.n\" is not a graphical parameter\"\n",
      "Warning message in box(...):\n",
      "\"\"id.cex\" is not a graphical parameter\"\n",
      "Warning message in title(...):\n",
      "\"\"id.n\" is not a graphical parameter\"\n",
      "Warning message in title(...):\n",
      "\"\"id.cex\" is not a graphical parameter\"\n",
      "Warning message in plot.xy(xy.coords(x, y), type = type, ...):\n",
      "\"\"id.n\" is not a graphical parameter\"\n",
      "Warning message in plot.xy(xy.coords(x, y), type = type, ...):\n",
      "\"\"id.cex\" is not a graphical parameter\"\n",
      "Warning message in plot.window(...):\n",
      "\"\"id.n\" is not a graphical parameter\"\n",
      "Warning message in plot.window(...):\n",
      "\"\"id.cex\" is not a graphical parameter\"\n",
      "Warning message in plot.xy(xy, type, ...):\n",
      "\"\"id.n\" is not a graphical parameter\"\n",
      "Warning message in plot.xy(xy, type, ...):\n",
      "\"\"id.cex\" is not a graphical parameter\"\n",
      "Warning message in axis(side = side, at = at, labels = labels, ...):\n",
      "\"\"id.n\" is not a graphical parameter\"\n",
      "Warning message in axis(side = side, at = at, labels = labels, ...):\n",
      "\"\"id.cex\" is not a graphical parameter\"\n",
      "Warning message in axis(side = side, at = at, labels = labels, ...):\n",
      "\"\"id.n\" is not a graphical parameter\"\n",
      "Warning message in axis(side = side, at = at, labels = labels, ...):\n",
      "\"\"id.cex\" is not a graphical parameter\"\n",
      "Warning message in box(...):\n",
      "\"\"id.n\" is not a graphical parameter\"\n",
      "Warning message in box(...):\n",
      "\"\"id.cex\" is not a graphical parameter\"\n",
      "Warning message in title(...):\n",
      "\"\"id.n\" is not a graphical parameter\"\n",
      "Warning message in title(...):\n",
      "\"\"id.cex\" is not a graphical parameter\"\n",
      "Warning message in plot.xy(xy.coords(x, y), type = type, ...):\n",
      "\"\"id.n\" is not a graphical parameter\"\n",
      "Warning message in plot.xy(xy.coords(x, y), type = type, ...):\n",
      "\"\"id.cex\" is not a graphical parameter\"\n",
      "Warning message in plot.window(...):\n",
      "\"\"id.n\" is not a graphical parameter\"\n",
      "Warning message in plot.window(...):\n",
      "\"\"id.cex\" is not a graphical parameter\"\n",
      "Warning message in plot.xy(xy, type, ...):\n",
      "\"\"id.n\" is not a graphical parameter\"\n",
      "Warning message in plot.xy(xy, type, ...):\n",
      "\"\"id.cex\" is not a graphical parameter\"\n",
      "Warning message in axis(side = side, at = at, labels = labels, ...):\n",
      "\"\"id.n\" is not a graphical parameter\"\n",
      "Warning message in axis(side = side, at = at, labels = labels, ...):\n",
      "\"\"id.cex\" is not a graphical parameter\"\n",
      "Warning message in axis(side = side, at = at, labels = labels, ...):\n",
      "\"\"id.n\" is not a graphical parameter\"\n",
      "Warning message in axis(side = side, at = at, labels = labels, ...):\n",
      "\"\"id.cex\" is not a graphical parameter\"\n",
      "Warning message in box(...):\n",
      "\"\"id.n\" is not a graphical parameter\"\n",
      "Warning message in box(...):\n",
      "\"\"id.cex\" is not a graphical parameter\"\n",
      "Warning message in title(...):\n",
      "\"\"id.n\" is not a graphical parameter\"\n",
      "Warning message in title(...):\n",
      "\"\"id.cex\" is not a graphical parameter\"\n",
      "Warning message in plot.xy(xy.coords(x, y), type = type, ...):\n",
      "\"\"id.n\" is not a graphical parameter\"\n",
      "Warning message in plot.xy(xy.coords(x, y), type = type, ...):\n",
      "\"\"id.cex\" is not a graphical parameter\"\n"
     ]
    },
    {
     "data": {
      "image/png": "[encoded data removed]",
      "text/plain": [
       "Plot with title \"\""
      ]
     },
     "metadata": {
      "image/png": {
       "height": 420,
       "width": 420
      }
     },
     "output_type": "display_data"
    }
   ],
   "source": [
    "avPlots(model1, id.n=2, id.cex=0.8, col=\"red\")"
   ]
  },
  {
   "cell_type": "markdown",
   "metadata": {},
   "source": [
    "When we having large models to choose out from it we will use this step AIC method "
   ]
  },
  {
   "cell_type": "code",
   "execution_count": 265,
   "metadata": {},
   "outputs": [],
   "source": [
    "library(\"MASS\")"
   ]
  },
  {
   "cell_type": "code",
   "execution_count": 267,
   "metadata": {},
   "outputs": [
    {
     "name": "stdout",
     "output_type": "stream",
     "text": [
      "Start:  AIC=171.15\n",
      "MPG ~ WT + SP + VOL + HP\n",
      "\n",
      "       Df Sum of Sq     RSS    AIC\n",
      "- WT    1      0.21  995.48 169.16\n",
      "- VOL   1      0.85  996.12 169.20\n",
      "<none>               995.27 171.15\n",
      "- SP    1    172.67 1167.94 178.11\n",
      "- HP    1    505.01 1500.28 192.13\n",
      "\n",
      "Step:  AIC=169.16\n",
      "MPG ~ SP + VOL + HP\n",
      "\n",
      "       Df Sum of Sq     RSS    AIC\n",
      "<none>               995.48 169.16\n",
      "- SP    1    173.68 1169.17 176.17\n",
      "- HP    1    509.51 1505.00 190.31\n",
      "- VOL   1   1376.60 2372.08 215.79\n"
     ]
    },
    {
     "data": {
      "text/plain": [
       "\n",
       "Call:\n",
       "lm(formula = MPG ~ SP + VOL + HP, data = train)\n",
       "\n",
       "Coefficients:\n",
       "(Intercept)           SP          VOL           HP  \n",
       "    12.9363       0.5939      -0.2158      -0.2501  \n"
      ]
     },
     "metadata": {},
     "output_type": "display_data"
    }
   ],
   "source": [
    "stepAIC(model) # backward"
   ]
  },
  {
   "cell_type": "markdown",
   "metadata": {},
   "source": [
    "Step AIC method is saying out to choose our variable which to reject "
   ]
  },
  {
   "cell_type": "code",
   "execution_count": 271,
   "metadata": {},
   "outputs": [
    {
     "data": {
      "text/plain": [
       "\n",
       "Call:\n",
       "lm(formula = MPG ~ SP + VOL + HP, data = train)\n",
       "\n",
       "Residuals:\n",
       "     Min       1Q   Median       3Q      Max \n",
       "-10.1912  -2.4985  -0.8598   1.3282  14.5665 \n",
       "\n",
       "Coefficients:\n",
       "            Estimate Std. Error t value Pr(>|t|)    \n",
       "(Intercept) 12.93635   18.19857   0.711    0.480    \n",
       "SP           0.59394    0.19719   3.012    0.004 ** \n",
       "VOL         -0.21576    0.02544  -8.480 2.24e-11 ***\n",
       "HP          -0.25014    0.04849  -5.159 3.94e-06 ***\n",
       "---\n",
       "Signif. codes:  0 '***' 0.001 '**' 0.01 '*' 0.05 '.' 0.1 ' ' 1\n",
       "\n",
       "Residual standard error: 4.375 on 52 degrees of freedom\n",
       "Multiple R-squared:  0.8025,\tAdjusted R-squared:  0.7911 \n",
       "F-statistic: 70.41 on 3 and 52 DF,  p-value: < 2.2e-16\n"
      ]
     },
     "metadata": {},
     "output_type": "display_data"
    }
   ],
   "source": [
    "model.final  <- lm(formula = MPG ~ SP + VOL + HP, data = train)\n",
    "summary(model.final)"
   ]
  },
  {
   "cell_type": "code",
   "execution_count": 274,
   "metadata": {},
   "outputs": [
    {
     "name": "stderr",
     "output_type": "stream",
     "text": [
      "Warning message in plot.window(...):\n",
      "\"\"id.n\" is not a graphical parameter\"\n",
      "Warning message in plot.window(...):\n",
      "\"\"id.cex\" is not a graphical parameter\"\n",
      "Warning message in plot.xy(xy, type, ...):\n",
      "\"\"id.n\" is not a graphical parameter\"\n",
      "Warning message in plot.xy(xy, type, ...):\n",
      "\"\"id.cex\" is not a graphical parameter\"\n",
      "Warning message in axis(side = side, at = at, labels = labels, ...):\n",
      "\"\"id.n\" is not a graphical parameter\"\n",
      "Warning message in axis(side = side, at = at, labels = labels, ...):\n",
      "\"\"id.cex\" is not a graphical parameter\"\n",
      "Warning message in axis(side = side, at = at, labels = labels, ...):\n",
      "\"\"id.n\" is not a graphical parameter\"\n",
      "Warning message in axis(side = side, at = at, labels = labels, ...):\n",
      "\"\"id.cex\" is not a graphical parameter\"\n",
      "Warning message in box(...):\n",
      "\"\"id.n\" is not a graphical parameter\"\n",
      "Warning message in box(...):\n",
      "\"\"id.cex\" is not a graphical parameter\"\n",
      "Warning message in title(...):\n",
      "\"\"id.n\" is not a graphical parameter\"\n",
      "Warning message in title(...):\n",
      "\"\"id.cex\" is not a graphical parameter\"\n",
      "Warning message in plot.xy(xy.coords(x, y), type = type, ...):\n",
      "\"\"id.n\" is not a graphical parameter\"\n",
      "Warning message in plot.xy(xy.coords(x, y), type = type, ...):\n",
      "\"\"id.cex\" is not a graphical parameter\"\n",
      "Warning message in plot.window(...):\n",
      "\"\"id.n\" is not a graphical parameter\"\n",
      "Warning message in plot.window(...):\n",
      "\"\"id.cex\" is not a graphical parameter\"\n",
      "Warning message in plot.xy(xy, type, ...):\n",
      "\"\"id.n\" is not a graphical parameter\"\n",
      "Warning message in plot.xy(xy, type, ...):\n",
      "\"\"id.cex\" is not a graphical parameter\"\n",
      "Warning message in axis(side = side, at = at, labels = labels, ...):\n",
      "\"\"id.n\" is not a graphical parameter\"\n",
      "Warning message in axis(side = side, at = at, labels = labels, ...):\n",
      "\"\"id.cex\" is not a graphical parameter\"\n",
      "Warning message in axis(side = side, at = at, labels = labels, ...):\n",
      "\"\"id.n\" is not a graphical parameter\"\n",
      "Warning message in axis(side = side, at = at, labels = labels, ...):\n",
      "\"\"id.cex\" is not a graphical parameter\"\n",
      "Warning message in box(...):\n",
      "\"\"id.n\" is not a graphical parameter\"\n",
      "Warning message in box(...):\n",
      "\"\"id.cex\" is not a graphical parameter\"\n",
      "Warning message in title(...):\n",
      "\"\"id.n\" is not a graphical parameter\"\n",
      "Warning message in title(...):\n",
      "\"\"id.cex\" is not a graphical parameter\"\n",
      "Warning message in plot.xy(xy.coords(x, y), type = type, ...):\n",
      "\"\"id.n\" is not a graphical parameter\"\n",
      "Warning message in plot.xy(xy.coords(x, y), type = type, ...):\n",
      "\"\"id.cex\" is not a graphical parameter\"\n",
      "Warning message in plot.window(...):\n",
      "\"\"id.n\" is not a graphical parameter\"\n",
      "Warning message in plot.window(...):\n",
      "\"\"id.cex\" is not a graphical parameter\"\n",
      "Warning message in plot.xy(xy, type, ...):\n",
      "\"\"id.n\" is not a graphical parameter\"\n",
      "Warning message in plot.xy(xy, type, ...):\n",
      "\"\"id.cex\" is not a graphical parameter\"\n",
      "Warning message in axis(side = side, at = at, labels = labels, ...):\n",
      "\"\"id.n\" is not a graphical parameter\"\n",
      "Warning message in axis(side = side, at = at, labels = labels, ...):\n",
      "\"\"id.cex\" is not a graphical parameter\"\n",
      "Warning message in axis(side = side, at = at, labels = labels, ...):\n",
      "\"\"id.n\" is not a graphical parameter\"\n",
      "Warning message in axis(side = side, at = at, labels = labels, ...):\n",
      "\"\"id.cex\" is not a graphical parameter\"\n",
      "Warning message in box(...):\n",
      "\"\"id.n\" is not a graphical parameter\"\n",
      "Warning message in box(...):\n",
      "\"\"id.cex\" is not a graphical parameter\"\n",
      "Warning message in title(...):\n",
      "\"\"id.n\" is not a graphical parameter\"\n",
      "Warning message in title(...):\n",
      "\"\"id.cex\" is not a graphical parameter\"\n",
      "Warning message in plot.xy(xy.coords(x, y), type = type, ...):\n",
      "\"\"id.n\" is not a graphical parameter\"\n",
      "Warning message in plot.xy(xy.coords(x, y), type = type, ...):\n",
      "\"\"id.cex\" is not a graphical parameter\"\n"
     ]
    },
    {
     "data": {
      "image/png": "[encoded data removed]",
      "text/plain": [
       "Plot with title \"\""
      ]
     },
     "metadata": {
      "image/png": {
       "height": 420,
       "width": 420
      }
     },
     "output_type": "display_data"
    }
   ],
   "source": [
    "avPlots(model.final, id.n=2, id.cex=0.8, col=\"red\")"
   ]
  },
  {
   "cell_type": "code",
   "execution_count": 275,
   "metadata": {},
   "outputs": [
    {
     "data": {
      "text/html": [
       "<style>\n",
       ".dl-inline {width: auto; margin:0; padding: 0}\n",
       ".dl-inline>dt, .dl-inline>dd {float: none; width: auto; display: inline-block}\n",
       ".dl-inline>dt::after {content: \":\\0020\"; padding-right: .5ex}\n",
       ".dl-inline>dt:not(:first-of-type) {padding-left: .5ex}\n",
       "</style><dl class=dl-inline><dt>SP</dt><dd>23.7542890473337</dd><dt>VOL</dt><dd>1.02747670376812</dd><dt>HP</dt><dd>23.6217824178906</dd></dl>\n"
      ],
      "text/latex": [
       "\\begin{description*}\n",
       "\\item[SP] 23.7542890473337\n",
       "\\item[VOL] 1.02747670376812\n",
       "\\item[HP] 23.6217824178906\n",
       "\\end{description*}\n"
      ],
      "text/markdown": [
       "SP\n",
       ":   23.7542890473337VOL\n",
       ":   1.02747670376812HP\n",
       ":   23.6217824178906\n",
       "\n"
      ],
      "text/plain": [
       "       SP       VOL        HP \n",
       "23.754289  1.027477 23.621782 "
      ]
     },
     "metadata": {},
     "output_type": "display_data"
    }
   ],
   "source": [
    "vif(model.final) # likely we built our final model"
   ]
  }
 ],
 "metadata": {
  "kernelspec": {
   "display_name": "R",
   "language": "R",
   "name": "ir"
  },
  "language_info": {
   "codemirror_mode": "r",
   "file_extension": ".r",
   "mimetype": "text/x-r-source",
   "name": "R",
   "pygments_lexer": "r",
   "version": "3.6.2"
  }
 },
 "nbformat": 4,
 "nbformat_minor": 4
}
