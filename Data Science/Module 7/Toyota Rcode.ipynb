{
 "cells": [
  {
   "cell_type": "markdown",
   "metadata": {},
   "source": [
    "# Assignment no 7 Toyota Rcode"
   ]
  },
  {
   "cell_type": "code",
   "execution_count": 2,
   "metadata": {},
   "outputs": [],
   "source": [
    "# Read CSV, note the delimiter (sep) shoud be given if it is required \n",
    "df <- read.csv('ToyotaCorolla.csv')"
   ]
  },
  {
   "cell_type": "code",
   "execution_count": 4,
   "metadata": {},
   "outputs": [
    {
     "data": {
      "text/html": [
       "<table>\n",
       "<caption>A data.frame: 6 × 38</caption>\n",
       "<thead>\n",
       "\t<tr><th></th><th scope=col>Id</th><th scope=col>Model</th><th scope=col>Price</th><th scope=col>Age_08_04</th><th scope=col>Mfg_Month</th><th scope=col>Mfg_Year</th><th scope=col>KM</th><th scope=col>Fuel_Type</th><th scope=col>HP</th><th scope=col>Met_Color</th><th scope=col>...</th><th scope=col>Central_Lock</th><th scope=col>Powered_Windows</th><th scope=col>Power_Steering</th><th scope=col>Radio</th><th scope=col>Mistlamps</th><th scope=col>Sport_Model</th><th scope=col>Backseat_Divider</th><th scope=col>Metallic_Rim</th><th scope=col>Radio_cassette</th><th scope=col>Tow_Bar</th></tr>\n",
       "\t<tr><th></th><th scope=col>&lt;int&gt;</th><th scope=col>&lt;fct&gt;</th><th scope=col>&lt;int&gt;</th><th scope=col>&lt;int&gt;</th><th scope=col>&lt;int&gt;</th><th scope=col>&lt;int&gt;</th><th scope=col>&lt;int&gt;</th><th scope=col>&lt;fct&gt;</th><th scope=col>&lt;int&gt;</th><th scope=col>&lt;int&gt;</th><th scope=col>...</th><th scope=col>&lt;int&gt;</th><th scope=col>&lt;int&gt;</th><th scope=col>&lt;int&gt;</th><th scope=col>&lt;int&gt;</th><th scope=col>&lt;int&gt;</th><th scope=col>&lt;int&gt;</th><th scope=col>&lt;int&gt;</th><th scope=col>&lt;int&gt;</th><th scope=col>&lt;int&gt;</th><th scope=col>&lt;int&gt;</th></tr>\n",
       "</thead>\n",
       "<tbody>\n",
       "\t<tr><th scope=row>1</th><td>1</td><td>TOYOTA Corolla 2.0 D4D HATCHB TERRA 2/3-Doors </td><td>13500</td><td>23</td><td>10</td><td>2002</td><td>46986</td><td>Diesel</td><td>90</td><td>1</td><td>...</td><td>1</td><td>1</td><td>1</td><td>0</td><td>0</td><td>0</td><td>1</td><td>0</td><td>0</td><td>0</td></tr>\n",
       "\t<tr><th scope=row>2</th><td>2</td><td>TOYOTA Corolla 2.0 D4D HATCHB TERRA 2/3-Doors </td><td>13750</td><td>23</td><td>10</td><td>2002</td><td>72937</td><td>Diesel</td><td>90</td><td>1</td><td>...</td><td>1</td><td>0</td><td>1</td><td>0</td><td>0</td><td>0</td><td>1</td><td>0</td><td>0</td><td>0</td></tr>\n",
       "\t<tr><th scope=row>3</th><td>3</td><td> TOYOTA Corolla 2.0 D4D HATCHB TERRA 2/3-Doors</td><td>13950</td><td>24</td><td> 9</td><td>2002</td><td>41711</td><td>Diesel</td><td>90</td><td>1</td><td>...</td><td>0</td><td>0</td><td>1</td><td>0</td><td>0</td><td>0</td><td>1</td><td>0</td><td>0</td><td>0</td></tr>\n",
       "\t<tr><th scope=row>4</th><td>4</td><td>TOYOTA Corolla 2.0 D4D HATCHB TERRA 2/3-Doors </td><td>14950</td><td>26</td><td> 7</td><td>2002</td><td>48000</td><td>Diesel</td><td>90</td><td>0</td><td>...</td><td>0</td><td>0</td><td>1</td><td>0</td><td>0</td><td>0</td><td>1</td><td>0</td><td>0</td><td>0</td></tr>\n",
       "\t<tr><th scope=row>5</th><td>5</td><td>TOYOTA Corolla 2.0 D4D HATCHB SOL 2/3-Doors   </td><td>13750</td><td>30</td><td> 3</td><td>2002</td><td>38500</td><td>Diesel</td><td>90</td><td>0</td><td>...</td><td>1</td><td>1</td><td>1</td><td>0</td><td>1</td><td>0</td><td>1</td><td>0</td><td>0</td><td>0</td></tr>\n",
       "\t<tr><th scope=row>6</th><td>6</td><td>TOYOTA Corolla 2.0 D4D HATCHB SOL 2/3-Doors   </td><td>12950</td><td>32</td><td> 1</td><td>2002</td><td>61000</td><td>Diesel</td><td>90</td><td>0</td><td>...</td><td>1</td><td>1</td><td>1</td><td>0</td><td>1</td><td>0</td><td>1</td><td>0</td><td>0</td><td>0</td></tr>\n",
       "</tbody>\n",
       "</table>\n"
      ],
      "text/latex": [
       "A data.frame: 6 × 38\n",
       "\\begin{tabular}{r|lllllllllllllllllllll}\n",
       "  & Id & Model & Price & Age\\_08\\_04 & Mfg\\_Month & Mfg\\_Year & KM & Fuel\\_Type & HP & Met\\_Color & ... & Central\\_Lock & Powered\\_Windows & Power\\_Steering & Radio & Mistlamps & Sport\\_Model & Backseat\\_Divider & Metallic\\_Rim & Radio\\_cassette & Tow\\_Bar\\\\\n",
       "  & <int> & <fct> & <int> & <int> & <int> & <int> & <int> & <fct> & <int> & <int> & ... & <int> & <int> & <int> & <int> & <int> & <int> & <int> & <int> & <int> & <int>\\\\\n",
       "\\hline\n",
       "\t1 & 1 & TOYOTA Corolla 2.0 D4D HATCHB TERRA 2/3-Doors  & 13500 & 23 & 10 & 2002 & 46986 & Diesel & 90 & 1 & ... & 1 & 1 & 1 & 0 & 0 & 0 & 1 & 0 & 0 & 0\\\\\n",
       "\t2 & 2 & TOYOTA Corolla 2.0 D4D HATCHB TERRA 2/3-Doors  & 13750 & 23 & 10 & 2002 & 72937 & Diesel & 90 & 1 & ... & 1 & 0 & 1 & 0 & 0 & 0 & 1 & 0 & 0 & 0\\\\\n",
       "\t3 & 3 &  TOYOTA Corolla 2.0 D4D HATCHB TERRA 2/3-Doors & 13950 & 24 &  9 & 2002 & 41711 & Diesel & 90 & 1 & ... & 0 & 0 & 1 & 0 & 0 & 0 & 1 & 0 & 0 & 0\\\\\n",
       "\t4 & 4 & TOYOTA Corolla 2.0 D4D HATCHB TERRA 2/3-Doors  & 14950 & 26 &  7 & 2002 & 48000 & Diesel & 90 & 0 & ... & 0 & 0 & 1 & 0 & 0 & 0 & 1 & 0 & 0 & 0\\\\\n",
       "\t5 & 5 & TOYOTA Corolla 2.0 D4D HATCHB SOL 2/3-Doors    & 13750 & 30 &  3 & 2002 & 38500 & Diesel & 90 & 0 & ... & 1 & 1 & 1 & 0 & 1 & 0 & 1 & 0 & 0 & 0\\\\\n",
       "\t6 & 6 & TOYOTA Corolla 2.0 D4D HATCHB SOL 2/3-Doors    & 12950 & 32 &  1 & 2002 & 61000 & Diesel & 90 & 0 & ... & 1 & 1 & 1 & 0 & 1 & 0 & 1 & 0 & 0 & 0\\\\\n",
       "\\end{tabular}\n"
      ],
      "text/markdown": [
       "\n",
       "A data.frame: 6 × 38\n",
       "\n",
       "| <!--/--> | Id &lt;int&gt; | Model &lt;fct&gt; | Price &lt;int&gt; | Age_08_04 &lt;int&gt; | Mfg_Month &lt;int&gt; | Mfg_Year &lt;int&gt; | KM &lt;int&gt; | Fuel_Type &lt;fct&gt; | HP &lt;int&gt; | Met_Color &lt;int&gt; | ... ... | Central_Lock &lt;int&gt; | Powered_Windows &lt;int&gt; | Power_Steering &lt;int&gt; | Radio &lt;int&gt; | Mistlamps &lt;int&gt; | Sport_Model &lt;int&gt; | Backseat_Divider &lt;int&gt; | Metallic_Rim &lt;int&gt; | Radio_cassette &lt;int&gt; | Tow_Bar &lt;int&gt; |\n",
       "|---|---|---|---|---|---|---|---|---|---|---|---|---|---|---|---|---|---|---|---|---|---|\n",
       "| 1 | 1 | TOYOTA Corolla 2.0 D4D HATCHB TERRA 2/3-Doors  | 13500 | 23 | 10 | 2002 | 46986 | Diesel | 90 | 1 | ... | 1 | 1 | 1 | 0 | 0 | 0 | 1 | 0 | 0 | 0 |\n",
       "| 2 | 2 | TOYOTA Corolla 2.0 D4D HATCHB TERRA 2/3-Doors  | 13750 | 23 | 10 | 2002 | 72937 | Diesel | 90 | 1 | ... | 1 | 0 | 1 | 0 | 0 | 0 | 1 | 0 | 0 | 0 |\n",
       "| 3 | 3 |  TOYOTA Corolla 2.0 D4D HATCHB TERRA 2/3-Doors | 13950 | 24 |  9 | 2002 | 41711 | Diesel | 90 | 1 | ... | 0 | 0 | 1 | 0 | 0 | 0 | 1 | 0 | 0 | 0 |\n",
       "| 4 | 4 | TOYOTA Corolla 2.0 D4D HATCHB TERRA 2/3-Doors  | 14950 | 26 |  7 | 2002 | 48000 | Diesel | 90 | 0 | ... | 0 | 0 | 1 | 0 | 0 | 0 | 1 | 0 | 0 | 0 |\n",
       "| 5 | 5 | TOYOTA Corolla 2.0 D4D HATCHB SOL 2/3-Doors    | 13750 | 30 |  3 | 2002 | 38500 | Diesel | 90 | 0 | ... | 1 | 1 | 1 | 0 | 1 | 0 | 1 | 0 | 0 | 0 |\n",
       "| 6 | 6 | TOYOTA Corolla 2.0 D4D HATCHB SOL 2/3-Doors    | 12950 | 32 |  1 | 2002 | 61000 | Diesel | 90 | 0 | ... | 1 | 1 | 1 | 0 | 1 | 0 | 1 | 0 | 0 | 0 |\n",
       "\n"
      ],
      "text/plain": [
       "  Id Model                                          Price Age_08_04 Mfg_Month\n",
       "1 1  TOYOTA Corolla 2.0 D4D HATCHB TERRA 2/3-Doors  13500 23        10       \n",
       "2 2  TOYOTA Corolla 2.0 D4D HATCHB TERRA 2/3-Doors  13750 23        10       \n",
       "3 3   TOYOTA Corolla 2.0 D4D HATCHB TERRA 2/3-Doors 13950 24         9       \n",
       "4 4  TOYOTA Corolla 2.0 D4D HATCHB TERRA 2/3-Doors  14950 26         7       \n",
       "5 5  TOYOTA Corolla 2.0 D4D HATCHB SOL 2/3-Doors    13750 30         3       \n",
       "6 6  TOYOTA Corolla 2.0 D4D HATCHB SOL 2/3-Doors    12950 32         1       \n",
       "  Mfg_Year KM    Fuel_Type HP Met_Color ... Central_Lock Powered_Windows\n",
       "1 2002     46986 Diesel    90 1         ... 1            1              \n",
       "2 2002     72937 Diesel    90 1         ... 1            0              \n",
       "3 2002     41711 Diesel    90 1         ... 0            0              \n",
       "4 2002     48000 Diesel    90 0         ... 0            0              \n",
       "5 2002     38500 Diesel    90 0         ... 1            1              \n",
       "6 2002     61000 Diesel    90 0         ... 1            1              \n",
       "  Power_Steering Radio Mistlamps Sport_Model Backseat_Divider Metallic_Rim\n",
       "1 1              0     0         0           1                0           \n",
       "2 1              0     0         0           1                0           \n",
       "3 1              0     0         0           1                0           \n",
       "4 1              0     0         0           1                0           \n",
       "5 1              0     1         0           1                0           \n",
       "6 1              0     1         0           1                0           \n",
       "  Radio_cassette Tow_Bar\n",
       "1 0              0      \n",
       "2 0              0      \n",
       "3 0              0      \n",
       "4 0              0      \n",
       "5 0              0      \n",
       "6 0              0      "
      ]
     },
     "metadata": {},
     "output_type": "display_data"
    }
   ],
   "source": [
    "head(df)"
   ]
  },
  {
   "cell_type": "code",
   "execution_count": 5,
   "metadata": {},
   "outputs": [
    {
     "data": {
      "text/plain": [
       "       Id                                                         Model     \n",
       " Min.   :   1.0   TOYOTA Corolla 1.6 16V HATCHB LINEA TERRA 2/3-Doors: 107  \n",
       " 1st Qu.: 361.8   TOYOTA Corolla 1.3 16V HATCHB LINEA TERRA 2/3-Doors:  83  \n",
       " Median : 721.5   TOYOTA Corolla 1.6 16V LIFTB LINEA LUNA 4/5-Doors  :  79  \n",
       " Mean   : 721.6   TOYOTA Corolla 1.6 16V LIFTB LINEA TERRA 4/5-Doors :  70  \n",
       " 3rd Qu.:1081.2   TOYOTA Corolla 1.6 16V SEDAN LINEA TERRA 4/5-Doors :  43  \n",
       " Max.   :1442.0   TOYOTA Corolla 1.4 16V VVT I HATCHB TERRA 2/3-Doors:  42  \n",
       "                  (Other)                                            :1012  \n",
       "     Price         Age_08_04       Mfg_Month         Mfg_Year   \n",
       " Min.   : 4350   Min.   : 1.00   Min.   : 1.000   Min.   :1998  \n",
       " 1st Qu.: 8450   1st Qu.:44.00   1st Qu.: 3.000   1st Qu.:1998  \n",
       " Median : 9900   Median :61.00   Median : 5.000   Median :1999  \n",
       " Mean   :10731   Mean   :55.95   Mean   : 5.549   Mean   :2000  \n",
       " 3rd Qu.:11950   3rd Qu.:70.00   3rd Qu.: 8.000   3rd Qu.:2001  \n",
       " Max.   :32500   Max.   :80.00   Max.   :12.000   Max.   :2004  \n",
       "                                                                \n",
       "       KM          Fuel_Type          HP          Met_Color          Color    \n",
       " Min.   :     1   CNG   :  17   Min.   : 69.0   Min.   :0.0000   Grey   :301  \n",
       " 1st Qu.: 43000   Diesel: 155   1st Qu.: 90.0   1st Qu.:0.0000   Blue   :283  \n",
       " Median : 63390   Petrol:1264   Median :110.0   Median :1.0000   Red    :278  \n",
       " Mean   : 68533                 Mean   :101.5   Mean   :0.6748   Green  :220  \n",
       " 3rd Qu.: 87021                 3rd Qu.:110.0   3rd Qu.:1.0000   Black  :191  \n",
       " Max.   :243000                 Max.   :192.0   Max.   :1.0000   Silver :122  \n",
       "                                                                 (Other): 41  \n",
       "   Automatic             cc            Doors         Cylinders     Gears      \n",
       " Min.   :0.00000   Min.   : 1300   Min.   :2.000   Min.   :4   Min.   :3.000  \n",
       " 1st Qu.:0.00000   1st Qu.: 1400   1st Qu.:3.000   1st Qu.:4   1st Qu.:5.000  \n",
       " Median :0.00000   Median : 1600   Median :4.000   Median :4   Median :5.000  \n",
       " Mean   :0.05571   Mean   : 1577   Mean   :4.033   Mean   :4   Mean   :5.026  \n",
       " 3rd Qu.:0.00000   3rd Qu.: 1600   3rd Qu.:5.000   3rd Qu.:4   3rd Qu.:5.000  \n",
       " Max.   :1.00000   Max.   :16000   Max.   :5.000   Max.   :4   Max.   :6.000  \n",
       "                                                                              \n",
       " Quarterly_Tax        Weight     Mfr_Guarantee    BOVAG_Guarantee \n",
       " Min.   : 19.00   Min.   :1000   Min.   :0.0000   Min.   :0.0000  \n",
       " 1st Qu.: 69.00   1st Qu.:1040   1st Qu.:0.0000   1st Qu.:1.0000  \n",
       " Median : 85.00   Median :1070   Median :0.0000   Median :1.0000  \n",
       " Mean   : 87.12   Mean   :1072   Mean   :0.4095   Mean   :0.8955  \n",
       " 3rd Qu.: 85.00   3rd Qu.:1085   3rd Qu.:1.0000   3rd Qu.:1.0000  \n",
       " Max.   :283.00   Max.   :1615   Max.   :1.0000   Max.   :1.0000  \n",
       "                                                                  \n",
       " Guarantee_Period      ABS            Airbag_1         Airbag_2     \n",
       " Min.   : 3.000   Min.   :0.0000   Min.   :0.0000   Min.   :0.0000  \n",
       " 1st Qu.: 3.000   1st Qu.:1.0000   1st Qu.:1.0000   1st Qu.:0.0000  \n",
       " Median : 3.000   Median :1.0000   Median :1.0000   Median :1.0000  \n",
       " Mean   : 3.815   Mean   :0.8134   Mean   :0.9708   Mean   :0.7228  \n",
       " 3rd Qu.: 3.000   3rd Qu.:1.0000   3rd Qu.:1.0000   3rd Qu.:1.0000  \n",
       " Max.   :36.000   Max.   :1.0000   Max.   :1.0000   Max.   :1.0000  \n",
       "                                                                    \n",
       "     Airco        Automatic_airco   Boardcomputer      CD_Player     \n",
       " Min.   :0.0000   Min.   :0.00000   Min.   :0.0000   Min.   :0.0000  \n",
       " 1st Qu.:0.0000   1st Qu.:0.00000   1st Qu.:0.0000   1st Qu.:0.0000  \n",
       " Median :1.0000   Median :0.00000   Median :0.0000   Median :0.0000  \n",
       " Mean   :0.5084   Mean   :0.05641   Mean   :0.2946   Mean   :0.2187  \n",
       " 3rd Qu.:1.0000   3rd Qu.:0.00000   3rd Qu.:1.0000   3rd Qu.:0.0000  \n",
       " Max.   :1.0000   Max.   :1.00000   Max.   :1.0000   Max.   :1.0000  \n",
       "                                                                     \n",
       "  Central_Lock    Powered_Windows Power_Steering       Radio       \n",
       " Min.   :0.0000   Min.   :0.000   Min.   :0.0000   Min.   :0.0000  \n",
       " 1st Qu.:0.0000   1st Qu.:0.000   1st Qu.:1.0000   1st Qu.:0.0000  \n",
       " Median :1.0000   Median :1.000   Median :1.0000   Median :0.0000  \n",
       " Mean   :0.5801   Mean   :0.562   Mean   :0.9777   Mean   :0.1462  \n",
       " 3rd Qu.:1.0000   3rd Qu.:1.000   3rd Qu.:1.0000   3rd Qu.:0.0000  \n",
       " Max.   :1.0000   Max.   :1.000   Max.   :1.0000   Max.   :1.0000  \n",
       "                                                                   \n",
       "   Mistlamps      Sport_Model     Backseat_Divider  Metallic_Rim   \n",
       " Min.   :0.000   Min.   :0.0000   Min.   :0.0000   Min.   :0.0000  \n",
       " 1st Qu.:0.000   1st Qu.:0.0000   1st Qu.:1.0000   1st Qu.:0.0000  \n",
       " Median :0.000   Median :0.0000   Median :1.0000   Median :0.0000  \n",
       " Mean   :0.257   Mean   :0.3001   Mean   :0.7702   Mean   :0.2047  \n",
       " 3rd Qu.:1.000   3rd Qu.:1.0000   3rd Qu.:1.0000   3rd Qu.:0.0000  \n",
       " Max.   :1.000   Max.   :1.0000   Max.   :1.0000   Max.   :1.0000  \n",
       "                                                                   \n",
       " Radio_cassette      Tow_Bar      \n",
       " Min.   :0.0000   Min.   :0.0000  \n",
       " 1st Qu.:0.0000   1st Qu.:0.0000  \n",
       " Median :0.0000   Median :0.0000  \n",
       " Mean   :0.1455   Mean   :0.2779  \n",
       " 3rd Qu.:0.0000   3rd Qu.:1.0000  \n",
       " Max.   :1.0000   Max.   :1.0000  \n",
       "                                  "
      ]
     },
     "metadata": {},
     "output_type": "display_data"
    }
   ],
   "source": [
    "summary(df) # this is the summary of our data ."
   ]
  },
  {
   "cell_type": "markdown",
   "metadata": {},
   "source": [
    "# Data preprocessing : clenaing >\n"
   ]
  },
  {
   "cell_type": "code",
   "execution_count": 7,
   "metadata": {},
   "outputs": [
    {
     "name": "stderr",
     "output_type": "stream",
     "text": [
      "Warning message:\n",
      "\"package 'dplyr' was built under R version 3.6.3\"\n",
      "\n",
      "Attaching package: 'dplyr'\n",
      "\n",
      "\n",
      "The following objects are masked from 'package:stats':\n",
      "\n",
      "    filter, lag\n",
      "\n",
      "\n",
      "The following objects are masked from 'package:base':\n",
      "\n",
      "    intersect, setdiff, setequal, union\n",
      "\n",
      "\n"
     ]
    }
   ],
   "source": [
    "library(dplyr) # include lobrary dplyr"
   ]
  },
  {
   "cell_type": "code",
   "execution_count": 8,
   "metadata": {},
   "outputs": [
    {
     "name": "stdout",
     "output_type": "stream",
     "text": [
      "Rows: 1,436\n",
      "Columns: 38\n",
      "$ Id               \u001b[3m\u001b[90m<int>\u001b[39m\u001b[23m 1, 2, 3, 4, 5, 6, 7, 8, 9, 10, 11, 12, 13, 14, 15,...\n",
      "$ Model            \u001b[3m\u001b[90m<fct>\u001b[39m\u001b[23m TOYOTA Corolla 2.0 D4D HATCHB TERRA 2/3-Doors, TOY...\n",
      "$ Price            \u001b[3m\u001b[90m<int>\u001b[39m\u001b[23m 13500, 13750, 13950, 14950, 13750, 12950, 16900, 1...\n",
      "$ Age_08_04        \u001b[3m\u001b[90m<int>\u001b[39m\u001b[23m 23, 23, 24, 26, 30, 32, 27, 30, 27, 23, 25, 22, 25...\n",
      "$ Mfg_Month        \u001b[3m\u001b[90m<int>\u001b[39m\u001b[23m 10, 10, 9, 7, 3, 1, 6, 3, 6, 10, 8, 11, 8, 2, 1, 5...\n",
      "$ Mfg_Year         \u001b[3m\u001b[90m<int>\u001b[39m\u001b[23m 2002, 2002, 2002, 2002, 2002, 2002, 2002, 2002, 20...\n",
      "$ KM               \u001b[3m\u001b[90m<int>\u001b[39m\u001b[23m 46986, 72937, 41711, 48000, 38500, 61000, 94612, 7...\n",
      "$ Fuel_Type        \u001b[3m\u001b[90m<fct>\u001b[39m\u001b[23m Diesel, Diesel, Diesel, Diesel, Diesel, Diesel, Di...\n",
      "$ HP               \u001b[3m\u001b[90m<int>\u001b[39m\u001b[23m 90, 90, 90, 90, 90, 90, 90, 90, 192, 69, 192, 192,...\n",
      "$ Met_Color        \u001b[3m\u001b[90m<int>\u001b[39m\u001b[23m 1, 1, 1, 0, 0, 0, 1, 1, 0, 0, 0, 0, 0, 1, 1, 0, 1,...\n",
      "$ Color            \u001b[3m\u001b[90m<fct>\u001b[39m\u001b[23m Blue, Silver, Blue, Black, Black, White, Grey, Gre...\n",
      "$ Automatic        \u001b[3m\u001b[90m<int>\u001b[39m\u001b[23m 0, 0, 0, 0, 0, 0, 0, 0, 0, 0, 0, 0, 0, 0, 0, 0, 0,...\n",
      "$ cc               \u001b[3m\u001b[90m<int>\u001b[39m\u001b[23m 2000, 2000, 2000, 2000, 2000, 2000, 2000, 2000, 18...\n",
      "$ Doors            \u001b[3m\u001b[90m<int>\u001b[39m\u001b[23m 3, 3, 3, 3, 3, 3, 3, 3, 3, 3, 3, 3, 3, 3, 3, 3, 3,...\n",
      "$ Cylinders        \u001b[3m\u001b[90m<int>\u001b[39m\u001b[23m 4, 4, 4, 4, 4, 4, 4, 4, 4, 4, 4, 4, 4, 4, 4, 4, 4,...\n",
      "$ Gears            \u001b[3m\u001b[90m<int>\u001b[39m\u001b[23m 5, 5, 5, 5, 5, 5, 5, 5, 5, 5, 6, 6, 6, 6, 6, 6, 5,...\n",
      "$ Quarterly_Tax    \u001b[3m\u001b[90m<int>\u001b[39m\u001b[23m 210, 210, 210, 210, 210, 210, 210, 210, 100, 185, ...\n",
      "$ Weight           \u001b[3m\u001b[90m<int>\u001b[39m\u001b[23m 1165, 1165, 1165, 1165, 1170, 1170, 1245, 1245, 11...\n",
      "$ Mfr_Guarantee    \u001b[3m\u001b[90m<int>\u001b[39m\u001b[23m 0, 0, 1, 1, 1, 0, 0, 1, 0, 0, 1, 1, 1, 1, 1, 0, 0,...\n",
      "$ BOVAG_Guarantee  \u001b[3m\u001b[90m<int>\u001b[39m\u001b[23m 1, 1, 1, 1, 1, 1, 1, 1, 1, 1, 1, 1, 1, 1, 1, 1, 1,...\n",
      "$ Guarantee_Period \u001b[3m\u001b[90m<int>\u001b[39m\u001b[23m 3, 3, 3, 3, 3, 3, 3, 3, 3, 3, 12, 3, 3, 3, 3, 3, 3...\n",
      "$ ABS              \u001b[3m\u001b[90m<int>\u001b[39m\u001b[23m 1, 1, 1, 1, 1, 1, 1, 1, 1, 1, 1, 1, 1, 1, 1, 1, 1,...\n",
      "$ Airbag_1         \u001b[3m\u001b[90m<int>\u001b[39m\u001b[23m 1, 1, 1, 1, 1, 1, 1, 1, 1, 1, 1, 1, 1, 1, 1, 1, 1,...\n",
      "$ Airbag_2         \u001b[3m\u001b[90m<int>\u001b[39m\u001b[23m 1, 1, 1, 1, 1, 1, 1, 1, 0, 1, 1, 1, 1, 1, 1, 1, 1,...\n",
      "$ Airco            \u001b[3m\u001b[90m<int>\u001b[39m\u001b[23m 0, 1, 0, 0, 1, 1, 1, 1, 1, 1, 1, 1, 1, 1, 1, 1, 1,...\n",
      "$ Automatic_airco  \u001b[3m\u001b[90m<int>\u001b[39m\u001b[23m 0, 0, 0, 0, 0, 0, 0, 0, 0, 0, 1, 1, 1, 1, 1, 1, 1,...\n",
      "$ Boardcomputer    \u001b[3m\u001b[90m<int>\u001b[39m\u001b[23m 1, 1, 1, 1, 1, 1, 1, 1, 0, 1, 0, 1, 1, 1, 1, 1, 1,...\n",
      "$ CD_Player        \u001b[3m\u001b[90m<int>\u001b[39m\u001b[23m 0, 1, 0, 0, 0, 0, 0, 1, 0, 0, 1, 0, 0, 1, 1, 0, 1,...\n",
      "$ Central_Lock     \u001b[3m\u001b[90m<int>\u001b[39m\u001b[23m 1, 1, 0, 0, 1, 1, 1, 1, 1, 0, 1, 1, 1, 1, 1, 1, 1,...\n",
      "$ Powered_Windows  \u001b[3m\u001b[90m<int>\u001b[39m\u001b[23m 1, 0, 0, 0, 1, 1, 1, 1, 1, 0, 1, 1, 1, 1, 1, 1, 1,...\n",
      "$ Power_Steering   \u001b[3m\u001b[90m<int>\u001b[39m\u001b[23m 1, 1, 1, 1, 1, 1, 1, 1, 1, 1, 1, 1, 1, 1, 1, 1, 1,...\n",
      "$ Radio            \u001b[3m\u001b[90m<int>\u001b[39m\u001b[23m 0, 0, 0, 0, 0, 0, 0, 0, 1, 0, 0, 0, 0, 0, 0, 0, 0,...\n",
      "$ Mistlamps        \u001b[3m\u001b[90m<int>\u001b[39m\u001b[23m 0, 0, 0, 0, 1, 1, 0, 0, 0, 0, 0, 1, 1, 1, 1, 1, 1,...\n",
      "$ Sport_Model      \u001b[3m\u001b[90m<int>\u001b[39m\u001b[23m 0, 0, 0, 0, 0, 0, 1, 0, 0, 0, 0, 1, 1, 1, 1, 1, 0,...\n",
      "$ Backseat_Divider \u001b[3m\u001b[90m<int>\u001b[39m\u001b[23m 1, 1, 1, 1, 1, 1, 1, 1, 0, 1, 0, 1, 1, 1, 1, 1, 1,...\n",
      "$ Metallic_Rim     \u001b[3m\u001b[90m<int>\u001b[39m\u001b[23m 0, 0, 0, 0, 0, 0, 0, 0, 1, 0, 1, 1, 1, 1, 1, 1, 1,...\n",
      "$ Radio_cassette   \u001b[3m\u001b[90m<int>\u001b[39m\u001b[23m 0, 0, 0, 0, 0, 0, 0, 0, 1, 0, 0, 0, 0, 0, 0, 0, 0,...\n",
      "$ Tow_Bar          \u001b[3m\u001b[90m<int>\u001b[39m\u001b[23m 0, 0, 0, 0, 0, 0, 0, 0, 0, 0, 0, 0, 0, 0, 0, 0, 0,...\n"
     ]
    }
   ],
   "source": [
    "glimpse(df) # we also can check and process "
   ]
  },
  {
   "cell_type": "code",
   "execution_count": 9,
   "metadata": {},
   "outputs": [
    {
     "data": {
      "text/html": [
       "FALSE"
      ],
      "text/latex": [
       "FALSE"
      ],
      "text/markdown": [
       "FALSE"
      ],
      "text/plain": [
       "[1] FALSE"
      ]
     },
     "metadata": {},
     "output_type": "display_data"
    }
   ],
   "source": [
    "anyNA(df) # this means there is no navalue present no missing value to impute"
   ]
  },
  {
   "cell_type": "code",
   "execution_count": 10,
   "metadata": {},
   "outputs": [
    {
     "data": {
      "text/html": [
       "0"
      ],
      "text/latex": [
       "0"
      ],
      "text/markdown": [
       "0"
      ],
      "text/plain": [
       "[1] 0"
      ]
     },
     "metadata": {},
     "output_type": "display_data"
    }
   ],
   "source": [
    "sum(is.na(df)==T)# it is showing that there is no na value present in our data it means no missing value"
   ]
  },
  {
   "cell_type": "code",
   "execution_count": 36,
   "metadata": {},
   "outputs": [],
   "source": [
    "num_col  <- sapply(df2,is.numeric)"
   ]
  },
  {
   "cell_type": "code",
   "execution_count": 37,
   "metadata": {},
   "outputs": [
    {
     "data": {
      "text/html": [
       "<style>\n",
       ".dl-inline {width: auto; margin:0; padding: 0}\n",
       ".dl-inline>dt, .dl-inline>dd {float: none; width: auto; display: inline-block}\n",
       ".dl-inline>dt::after {content: \":\\0020\"; padding-right: .5ex}\n",
       ".dl-inline>dt:not(:first-of-type) {padding-left: .5ex}\n",
       "</style><dl class=dl-inline><dt>Price</dt><dd>TRUE</dd><dt>Age_08_04</dt><dd>TRUE</dd><dt>KM</dt><dd>TRUE</dd><dt>HP</dt><dd>TRUE</dd><dt>cc</dt><dd>TRUE</dd><dt>Doors</dt><dd>TRUE</dd><dt>Gears</dt><dd>TRUE</dd><dt>Quarterly_Tax</dt><dd>TRUE</dd><dt>Weight</dt><dd>TRUE</dd></dl>\n"
      ],
      "text/latex": [
       "\\begin{description*}\n",
       "\\item[Price] TRUE\n",
       "\\item[Age\\textbackslash{}\\_08\\textbackslash{}\\_04] TRUE\n",
       "\\item[KM] TRUE\n",
       "\\item[HP] TRUE\n",
       "\\item[cc] TRUE\n",
       "\\item[Doors] TRUE\n",
       "\\item[Gears] TRUE\n",
       "\\item[Quarterly\\textbackslash{}\\_Tax] TRUE\n",
       "\\item[Weight] TRUE\n",
       "\\end{description*}\n"
      ],
      "text/markdown": [
       "Price\n",
       ":   TRUEAge_08_04\n",
       ":   TRUEKM\n",
       ":   TRUEHP\n",
       ":   TRUEcc\n",
       ":   TRUEDoors\n",
       ":   TRUEGears\n",
       ":   TRUEQuarterly_Tax\n",
       ":   TRUEWeight\n",
       ":   TRUE\n",
       "\n"
      ],
      "text/plain": [
       "        Price     Age_08_04            KM            HP            cc \n",
       "         TRUE          TRUE          TRUE          TRUE          TRUE \n",
       "        Doors         Gears Quarterly_Tax        Weight \n",
       "         TRUE          TRUE          TRUE          TRUE "
      ]
     },
     "metadata": {},
     "output_type": "display_data"
    }
   ],
   "source": [
    "num_col # got the numeric value as true"
   ]
  },
  {
   "cell_type": "code",
   "execution_count": 30,
   "metadata": {},
   "outputs": [],
   "source": [
    "keep <-  c(\"Price\",\"Age_08_04\",\"KM\",\"HP\",\"cc\",\"Doors\",\"Gears\",\"Quarterly_Tax\",\"Weight\")"
   ]
  },
  {
   "cell_type": "code",
   "execution_count": 31,
   "metadata": {},
   "outputs": [],
   "source": [
    "df2  <- df[,keep]"
   ]
  },
  {
   "cell_type": "code",
   "execution_count": 33,
   "metadata": {},
   "outputs": [
    {
     "data": {
      "text/html": [
       "<table>\n",
       "<caption>A data.frame: 6 × 9</caption>\n",
       "<thead>\n",
       "\t<tr><th></th><th scope=col>Price</th><th scope=col>Age_08_04</th><th scope=col>KM</th><th scope=col>HP</th><th scope=col>cc</th><th scope=col>Doors</th><th scope=col>Gears</th><th scope=col>Quarterly_Tax</th><th scope=col>Weight</th></tr>\n",
       "\t<tr><th></th><th scope=col>&lt;int&gt;</th><th scope=col>&lt;int&gt;</th><th scope=col>&lt;int&gt;</th><th scope=col>&lt;int&gt;</th><th scope=col>&lt;int&gt;</th><th scope=col>&lt;int&gt;</th><th scope=col>&lt;int&gt;</th><th scope=col>&lt;int&gt;</th><th scope=col>&lt;int&gt;</th></tr>\n",
       "</thead>\n",
       "<tbody>\n",
       "\t<tr><th scope=row>1</th><td>13500</td><td>23</td><td>46986</td><td>90</td><td>2000</td><td>3</td><td>5</td><td>210</td><td>1165</td></tr>\n",
       "\t<tr><th scope=row>2</th><td>13750</td><td>23</td><td>72937</td><td>90</td><td>2000</td><td>3</td><td>5</td><td>210</td><td>1165</td></tr>\n",
       "\t<tr><th scope=row>3</th><td>13950</td><td>24</td><td>41711</td><td>90</td><td>2000</td><td>3</td><td>5</td><td>210</td><td>1165</td></tr>\n",
       "\t<tr><th scope=row>4</th><td>14950</td><td>26</td><td>48000</td><td>90</td><td>2000</td><td>3</td><td>5</td><td>210</td><td>1165</td></tr>\n",
       "\t<tr><th scope=row>5</th><td>13750</td><td>30</td><td>38500</td><td>90</td><td>2000</td><td>3</td><td>5</td><td>210</td><td>1170</td></tr>\n",
       "\t<tr><th scope=row>6</th><td>12950</td><td>32</td><td>61000</td><td>90</td><td>2000</td><td>3</td><td>5</td><td>210</td><td>1170</td></tr>\n",
       "</tbody>\n",
       "</table>\n"
      ],
      "text/latex": [
       "A data.frame: 6 × 9\n",
       "\\begin{tabular}{r|lllllllll}\n",
       "  & Price & Age\\_08\\_04 & KM & HP & cc & Doors & Gears & Quarterly\\_Tax & Weight\\\\\n",
       "  & <int> & <int> & <int> & <int> & <int> & <int> & <int> & <int> & <int>\\\\\n",
       "\\hline\n",
       "\t1 & 13500 & 23 & 46986 & 90 & 2000 & 3 & 5 & 210 & 1165\\\\\n",
       "\t2 & 13750 & 23 & 72937 & 90 & 2000 & 3 & 5 & 210 & 1165\\\\\n",
       "\t3 & 13950 & 24 & 41711 & 90 & 2000 & 3 & 5 & 210 & 1165\\\\\n",
       "\t4 & 14950 & 26 & 48000 & 90 & 2000 & 3 & 5 & 210 & 1165\\\\\n",
       "\t5 & 13750 & 30 & 38500 & 90 & 2000 & 3 & 5 & 210 & 1170\\\\\n",
       "\t6 & 12950 & 32 & 61000 & 90 & 2000 & 3 & 5 & 210 & 1170\\\\\n",
       "\\end{tabular}\n"
      ],
      "text/markdown": [
       "\n",
       "A data.frame: 6 × 9\n",
       "\n",
       "| <!--/--> | Price &lt;int&gt; | Age_08_04 &lt;int&gt; | KM &lt;int&gt; | HP &lt;int&gt; | cc &lt;int&gt; | Doors &lt;int&gt; | Gears &lt;int&gt; | Quarterly_Tax &lt;int&gt; | Weight &lt;int&gt; |\n",
       "|---|---|---|---|---|---|---|---|---|---|\n",
       "| 1 | 13500 | 23 | 46986 | 90 | 2000 | 3 | 5 | 210 | 1165 |\n",
       "| 2 | 13750 | 23 | 72937 | 90 | 2000 | 3 | 5 | 210 | 1165 |\n",
       "| 3 | 13950 | 24 | 41711 | 90 | 2000 | 3 | 5 | 210 | 1165 |\n",
       "| 4 | 14950 | 26 | 48000 | 90 | 2000 | 3 | 5 | 210 | 1165 |\n",
       "| 5 | 13750 | 30 | 38500 | 90 | 2000 | 3 | 5 | 210 | 1170 |\n",
       "| 6 | 12950 | 32 | 61000 | 90 | 2000 | 3 | 5 | 210 | 1170 |\n",
       "\n"
      ],
      "text/plain": [
       "  Price Age_08_04 KM    HP cc   Doors Gears Quarterly_Tax Weight\n",
       "1 13500 23        46986 90 2000 3     5     210           1165  \n",
       "2 13750 23        72937 90 2000 3     5     210           1165  \n",
       "3 13950 24        41711 90 2000 3     5     210           1165  \n",
       "4 14950 26        48000 90 2000 3     5     210           1165  \n",
       "5 13750 30        38500 90 2000 3     5     210           1170  \n",
       "6 12950 32        61000 90 2000 3     5     210           1170  "
      ]
     },
     "metadata": {},
     "output_type": "display_data"
    }
   ],
   "source": [
    "head(df2)"
   ]
  },
  {
   "cell_type": "code",
   "execution_count": 39,
   "metadata": {},
   "outputs": [],
   "source": [
    "cor.data  <- cor(df2[,num_col]) # finding the correaltion between afte taking columns to row for comparision"
   ]
  },
  {
   "cell_type": "code",
   "execution_count": 40,
   "metadata": {},
   "outputs": [
    {
     "name": "stdout",
     "output_type": "stream",
     "text": [
      "                    Price    Age_08_04          KM          HP          cc\n",
      "Price          1.00000000 -0.876590497 -0.56996016  0.31498983  0.12638920\n",
      "Age_08_04     -0.87659050  1.000000000  0.50567218 -0.15662202 -0.09808374\n",
      "KM            -0.56996016  0.505672180  1.00000000 -0.33353795  0.10268289\n",
      "HP             0.31498983 -0.156622020 -0.33353795  1.00000000  0.03585580\n",
      "cc             0.12638920 -0.098083739  0.10268289  0.03585580  1.00000000\n",
      "Doors          0.18532555 -0.148359215 -0.03619661  0.09242450  0.07990330\n",
      "Gears          0.06310386 -0.005363947  0.01502333  0.20947715  0.01462935\n",
      "Quarterly_Tax  0.21919691 -0.198430508  0.27816470 -0.29843172  0.30699580\n",
      "Weight         0.58119759 -0.470253184 -0.02859846  0.08961406  0.33563740\n",
      "                    Doors        Gears Quarterly_Tax      Weight\n",
      "Price          0.18532555  0.063103857   0.219196911  0.58119759\n",
      "Age_08_04     -0.14835921 -0.005363947  -0.198430508 -0.47025318\n",
      "KM            -0.03619661  0.015023328   0.278164697 -0.02859846\n",
      "HP             0.09242450  0.209477146  -0.298431717  0.08961406\n",
      "cc             0.07990330  0.014629352   0.306995798  0.33563740\n",
      "Doors          1.00000000 -0.160141430   0.109363225  0.30261764\n",
      "Gears         -0.16014143  1.000000000  -0.005451955  0.02061328\n",
      "Quarterly_Tax  0.10936323 -0.005451955   1.000000000  0.62613373\n",
      "Weight         0.30261764  0.020613284   0.626133733  1.00000000\n"
     ]
    }
   ],
   "source": [
    "print(cor.data)"
   ]
  },
  {
   "cell_type": "code",
   "execution_count": 17,
   "metadata": {},
   "outputs": [
    {
     "name": "stderr",
     "output_type": "stream",
     "text": [
      "Warning message:\n",
      "\"package 'corrplot' was built under R version 3.6.3\"\n",
      "corrplot 0.84 loaded\n",
      "\n",
      "Warning message:\n",
      "\"package 'corrgram' was built under R version 3.6.3\"\n",
      "Registered S3 method overwritten by 'seriation':\n",
      "  method         from \n",
      "  reorder.hclust gclus\n",
      "\n"
     ]
    }
   ],
   "source": [
    "library(corrplot)\n",
    "library(corrgram)"
   ]
  },
  {
   "cell_type": "code",
   "execution_count": 41,
   "metadata": {},
   "outputs": [
    {
     "name": "stdout",
     "output_type": "stream",
     "text": [
      "                    Price    Age_08_04          KM          HP          cc\n",
      "Price          1.00000000 -0.876590497 -0.56996016  0.31498983  0.12638920\n",
      "Age_08_04     -0.87659050  1.000000000  0.50567218 -0.15662202 -0.09808374\n",
      "KM            -0.56996016  0.505672180  1.00000000 -0.33353795  0.10268289\n",
      "HP             0.31498983 -0.156622020 -0.33353795  1.00000000  0.03585580\n",
      "cc             0.12638920 -0.098083739  0.10268289  0.03585580  1.00000000\n",
      "Doors          0.18532555 -0.148359215 -0.03619661  0.09242450  0.07990330\n",
      "Gears          0.06310386 -0.005363947  0.01502333  0.20947715  0.01462935\n",
      "Quarterly_Tax  0.21919691 -0.198430508  0.27816470 -0.29843172  0.30699580\n",
      "Weight         0.58119759 -0.470253184 -0.02859846  0.08961406  0.33563740\n",
      "                    Doors        Gears Quarterly_Tax      Weight\n",
      "Price          0.18532555  0.063103857   0.219196911  0.58119759\n",
      "Age_08_04     -0.14835921 -0.005363947  -0.198430508 -0.47025318\n",
      "KM            -0.03619661  0.015023328   0.278164697 -0.02859846\n",
      "HP             0.09242450  0.209477146  -0.298431717  0.08961406\n",
      "cc             0.07990330  0.014629352   0.306995798  0.33563740\n",
      "Doors          1.00000000 -0.160141430   0.109363225  0.30261764\n",
      "Gears         -0.16014143  1.000000000  -0.005451955  0.02061328\n",
      "Quarterly_Tax  0.10936323 -0.005451955   1.000000000  0.62613373\n",
      "Weight         0.30261764  0.020613284   0.626133733  1.00000000\n"
     ]
    },
    {
     "data": {
      "image/png": "[encoded data removed]",
      "text/plain": [
       "Plot with title \"\""
      ]
     },
     "metadata": {
      "image/png": {
       "height": 420,
       "width": 420
      }
     },
     "output_type": "display_data"
    }
   ],
   "source": [
    "print(corrplot(cor.data,method = 'color'))"
   ]
  },
  {
   "cell_type": "code",
   "execution_count": 43,
   "metadata": {},
   "outputs": [
    {
     "data": {
      "image/png": "[encoded data removed]",
      "text/plain": [
       "plot without title"
      ]
     },
     "metadata": {
      "image/png": {
       "height": 420,
       "width": 420
      }
     },
     "output_type": "display_data"
    }
   ],
   "source": [
    "corrgram(df2,order=TRUE,lower.panel = panel.shade,upper.panel = panel.pie,text.panel = panel.txt)"
   ]
  },
  {
   "cell_type": "code",
   "execution_count": 44,
   "metadata": {},
   "outputs": [
    {
     "data": {
      "image/png": "[encoded data removed]",
      "text/plain": [
       "plot without title"
      ]
     },
     "metadata": {
      "image/png": {
       "height": 420,
       "width": 420
      }
     },
     "output_type": "display_data"
    }
   ],
   "source": [
    "pairs(df2)"
   ]
  },
  {
   "cell_type": "code",
   "execution_count": 45,
   "metadata": {},
   "outputs": [
    {
     "data": {
      "image/png": "[encoded data removed]",
      "text/plain": [
       "plot without title"
      ]
     },
     "metadata": {
      "image/png": {
       "height": 420,
       "width": 420
      }
     },
     "output_type": "display_data"
    }
   ],
   "source": [
    "panel.cor <- function(x, y, digits=2, prefix=\"\", cex.cor)\n",
    "{\n",
    "  usr <- par(\"usr\"); on.exit(par(usr))\n",
    "  par(usr = c(0, 1, 0, 1))\n",
    "  r = (cor(x, y))\n",
    "  txt <- format(c(r, 0.123456789), digits=digits)[1]\n",
    "  txt <- paste(prefix, txt, sep=\"\")\n",
    "  if(missing(cex.cor)) cex <- 0.4/strwidth(txt)\n",
    "  text(0.5, 0.5, txt, cex = cex)\n",
    "}\n",
    "pairs(df2, upper.panel=panel.cor,main=\"Scatter Plot Matrix with Correlation Coefficients\")\n",
    "#we "
   ]
  },
  {
   "cell_type": "markdown",
   "metadata": {},
   "source": [
    "# Splitting our data sample split"
   ]
  },
  {
   "cell_type": "code",
   "execution_count": 46,
   "metadata": {},
   "outputs": [
    {
     "name": "stderr",
     "output_type": "stream",
     "text": [
      "Warning message:\n",
      "\"package 'ISLR' was built under R version 3.6.3\"\n"
     ]
    }
   ],
   "source": [
    "library(ISLR)"
   ]
  },
  {
   "cell_type": "code",
   "execution_count": 47,
   "metadata": {},
   "outputs": [],
   "source": [
    "sample_siz = floor(0.70*nrow(df))"
   ]
  },
  {
   "cell_type": "code",
   "execution_count": 48,
   "metadata": {},
   "outputs": [
    {
     "data": {
      "text/html": [
       "1005"
      ],
      "text/latex": [
       "1005"
      ],
      "text/markdown": [
       "1005"
      ],
      "text/plain": [
       "[1] 1005"
      ]
     },
     "metadata": {},
     "output_type": "display_data"
    }
   ],
   "source": [
    "sample_siz"
   ]
  },
  {
   "cell_type": "code",
   "execution_count": 49,
   "metadata": {},
   "outputs": [],
   "source": [
    "set.seed(101) # this will give random value each time \n",
    "train_random = sample(seq_len(nrow(df)),size = sample_siz) # i have generated random data set\n",
    "train = df[train_random,] # i have now train and test data \n",
    "test = df[-train_random,] # after deduction from test random i got test data also\n"
   ]
  },
  {
   "cell_type": "code",
   "execution_count": 51,
   "metadata": {},
   "outputs": [],
   "source": [
    "model = lm('Price~ Age_08_04+KM+HP+cc+Doors+Gears+Quarterly_Tax+Weight',data = train) # created a linear model car "
   ]
  },
  {
   "cell_type": "code",
   "execution_count": 52,
   "metadata": {},
   "outputs": [
    {
     "name": "stdout",
     "output_type": "stream",
     "text": [
      "\n",
      "Call:\n",
      "lm(formula = \"Price~ Age_08_04+KM+HP+cc+Doors+Gears+Quarterly_Tax+Weight\", \n",
      "    data = train)\n",
      "\n",
      "Residuals:\n",
      "    Min      1Q  Median      3Q     Max \n",
      "-8194.2  -761.9   -52.9   816.3  6345.2 \n",
      "\n",
      "Coefficients:\n",
      "                Estimate Std. Error t value Pr(>|t|)    \n",
      "(Intercept)   -5.294e+03  1.685e+03  -3.142  0.00173 ** \n",
      "Age_08_04     -1.205e+02  3.087e+00 -39.055  < 2e-16 ***\n",
      "KM            -2.125e-02  1.482e-03 -14.342  < 2e-16 ***\n",
      "HP             3.732e+01  3.284e+00  11.364  < 2e-16 ***\n",
      "cc            -9.659e-02  9.163e-02  -1.054  0.29208    \n",
      "Doors         -4.886e+01  4.800e+01  -1.018  0.30887    \n",
      "Gears          2.869e+02  2.260e+02   1.270  0.20453    \n",
      "Quarterly_Tax  4.474e+00  1.510e+00   2.963  0.00312 ** \n",
      "Weight         1.768e+01  1.312e+00  13.475  < 2e-16 ***\n",
      "---\n",
      "Signif. codes:  0 '***' 0.001 '**' 0.01 '*' 0.05 '.' 0.1 ' ' 1\n",
      "\n",
      "Residual standard error: 1342 on 996 degrees of freedom\n",
      "Multiple R-squared:  0.8677,\tAdjusted R-squared:  0.8667 \n",
      "F-statistic: 816.8 on 8 and 996 DF,  p-value: < 2.2e-16\n",
      "\n"
     ]
    }
   ],
   "source": [
    "print(summary(model)) # R^2 is 86 % "
   ]
  },
  {
   "cell_type": "code",
   "execution_count": null,
   "metadata": {},
   "outputs": [],
   "source": [
    "toyota.predict =predict()"
   ]
  }
 ],
 "metadata": {
  "kernelspec": {
   "display_name": "R",
   "language": "R",
   "name": "ir"
  },
  "language_info": {
   "codemirror_mode": "r",
   "file_extension": ".r",
   "mimetype": "text/x-r-source",
   "name": "R",
   "pygments_lexer": "r",
   "version": "3.6.2"
  }
 },
 "nbformat": 4,
 "nbformat_minor": 4
}
