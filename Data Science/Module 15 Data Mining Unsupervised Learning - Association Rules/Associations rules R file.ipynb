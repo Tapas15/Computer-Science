{
 "cells": [
  {
   "cell_type": "markdown",
   "metadata": {},
   "source": [
    "## Association Rules Movies dataset"
   ]
  },
  {
   "cell_type": "code",
   "execution_count": 7,
   "metadata": {},
   "outputs": [],
   "source": [
    "#install.packages(\"arules\")\n",
    "#install.packages(\"arulesViz\")"
   ]
  },
  {
   "cell_type": "code",
   "execution_count": 8,
   "metadata": {},
   "outputs": [
    {
     "name": "stderr",
     "output_type": "stream",
     "text": [
      "Warning message:\n",
      "\"package 'arulesViz' was built under R version 3.6.3\"\n",
      "Loading required package: grid\n",
      "\n",
      "Registered S3 method overwritten by 'seriation':\n",
      "  method         from \n",
      "  reorder.hclust gclus\n",
      "\n"
     ]
    }
   ],
   "source": [
    "library(arules)\n",
    "library(arulesViz)"
   ]
  },
  {
   "cell_type": "code",
   "execution_count": 9,
   "metadata": {},
   "outputs": [],
   "source": [
    "data = read.csv('my_movies.csv')"
   ]
  },
  {
   "cell_type": "code",
   "execution_count": 10,
   "metadata": {},
   "outputs": [
    {
     "data": {
      "text/html": [
       "<table>\n",
       "<caption>A data.frame: 10 × 15</caption>\n",
       "<thead>\n",
       "\t<tr><th scope=col>V1</th><th scope=col>V2</th><th scope=col>V3</th><th scope=col>V4</th><th scope=col>V5</th><th scope=col>Sixth.Sense</th><th scope=col>Gladiator</th><th scope=col>LOTR1</th><th scope=col>Harry.Potter1</th><th scope=col>Patriot</th><th scope=col>LOTR2</th><th scope=col>Harry.Potter2</th><th scope=col>LOTR</th><th scope=col>Braveheart</th><th scope=col>Green.Mile</th></tr>\n",
       "\t<tr><th scope=col>&lt;fct&gt;</th><th scope=col>&lt;fct&gt;</th><th scope=col>&lt;fct&gt;</th><th scope=col>&lt;fct&gt;</th><th scope=col>&lt;fct&gt;</th><th scope=col>&lt;int&gt;</th><th scope=col>&lt;int&gt;</th><th scope=col>&lt;int&gt;</th><th scope=col>&lt;int&gt;</th><th scope=col>&lt;int&gt;</th><th scope=col>&lt;int&gt;</th><th scope=col>&lt;int&gt;</th><th scope=col>&lt;int&gt;</th><th scope=col>&lt;int&gt;</th><th scope=col>&lt;int&gt;</th></tr>\n",
       "</thead>\n",
       "<tbody>\n",
       "\t<tr><td>Sixth Sense  </td><td>LOTR1        </td><td>Harry Potter1</td><td>Green Mile</td><td>LOTR2</td><td>1</td><td>0</td><td>1</td><td>1</td><td>0</td><td>1</td><td>0</td><td>0</td><td>0</td><td>1</td></tr>\n",
       "\t<tr><td>Gladiator    </td><td>Patriot      </td><td>Braveheart   </td><td>          </td><td>     </td><td>0</td><td>1</td><td>0</td><td>0</td><td>1</td><td>0</td><td>0</td><td>0</td><td>1</td><td>0</td></tr>\n",
       "\t<tr><td>LOTR1        </td><td>LOTR2        </td><td>             </td><td>          </td><td>     </td><td>0</td><td>0</td><td>1</td><td>0</td><td>0</td><td>1</td><td>0</td><td>0</td><td>0</td><td>0</td></tr>\n",
       "\t<tr><td>Gladiator    </td><td>Patriot      </td><td>Sixth Sense  </td><td>          </td><td>     </td><td>1</td><td>1</td><td>0</td><td>0</td><td>1</td><td>0</td><td>0</td><td>0</td><td>0</td><td>0</td></tr>\n",
       "\t<tr><td>Gladiator    </td><td>Patriot      </td><td>Sixth Sense  </td><td>          </td><td>     </td><td>1</td><td>1</td><td>0</td><td>0</td><td>1</td><td>0</td><td>0</td><td>0</td><td>0</td><td>0</td></tr>\n",
       "\t<tr><td>Gladiator    </td><td>Patriot      </td><td>Sixth Sense  </td><td>          </td><td>     </td><td>1</td><td>1</td><td>0</td><td>0</td><td>1</td><td>0</td><td>0</td><td>0</td><td>0</td><td>0</td></tr>\n",
       "\t<tr><td>Harry Potter1</td><td>Harry Potter2</td><td>             </td><td>          </td><td>     </td><td>0</td><td>0</td><td>0</td><td>1</td><td>0</td><td>0</td><td>1</td><td>0</td><td>0</td><td>0</td></tr>\n",
       "\t<tr><td>Gladiator    </td><td>Patriot      </td><td>             </td><td>          </td><td>     </td><td>0</td><td>1</td><td>0</td><td>0</td><td>1</td><td>0</td><td>0</td><td>0</td><td>0</td><td>0</td></tr>\n",
       "\t<tr><td>Gladiator    </td><td>Patriot      </td><td>Sixth Sense  </td><td>          </td><td>     </td><td>1</td><td>1</td><td>0</td><td>0</td><td>1</td><td>0</td><td>0</td><td>0</td><td>0</td><td>0</td></tr>\n",
       "\t<tr><td>Sixth Sense  </td><td>LOTR         </td><td>Gladiator    </td><td>Green Mile</td><td>     </td><td>1</td><td>1</td><td>0</td><td>0</td><td>0</td><td>0</td><td>0</td><td>1</td><td>0</td><td>1</td></tr>\n",
       "</tbody>\n",
       "</table>\n"
      ],
      "text/latex": [
       "A data.frame: 10 × 15\n",
       "\\begin{tabular}{lllllllllllllll}\n",
       " V1 & V2 & V3 & V4 & V5 & Sixth.Sense & Gladiator & LOTR1 & Harry.Potter1 & Patriot & LOTR2 & Harry.Potter2 & LOTR & Braveheart & Green.Mile\\\\\n",
       " <fct> & <fct> & <fct> & <fct> & <fct> & <int> & <int> & <int> & <int> & <int> & <int> & <int> & <int> & <int> & <int>\\\\\n",
       "\\hline\n",
       "\t Sixth Sense   & LOTR1         & Harry Potter1 & Green Mile & LOTR2 & 1 & 0 & 1 & 1 & 0 & 1 & 0 & 0 & 0 & 1\\\\\n",
       "\t Gladiator     & Patriot       & Braveheart    &            &       & 0 & 1 & 0 & 0 & 1 & 0 & 0 & 0 & 1 & 0\\\\\n",
       "\t LOTR1         & LOTR2         &               &            &       & 0 & 0 & 1 & 0 & 0 & 1 & 0 & 0 & 0 & 0\\\\\n",
       "\t Gladiator     & Patriot       & Sixth Sense   &            &       & 1 & 1 & 0 & 0 & 1 & 0 & 0 & 0 & 0 & 0\\\\\n",
       "\t Gladiator     & Patriot       & Sixth Sense   &            &       & 1 & 1 & 0 & 0 & 1 & 0 & 0 & 0 & 0 & 0\\\\\n",
       "\t Gladiator     & Patriot       & Sixth Sense   &            &       & 1 & 1 & 0 & 0 & 1 & 0 & 0 & 0 & 0 & 0\\\\\n",
       "\t Harry Potter1 & Harry Potter2 &               &            &       & 0 & 0 & 0 & 1 & 0 & 0 & 1 & 0 & 0 & 0\\\\\n",
       "\t Gladiator     & Patriot       &               &            &       & 0 & 1 & 0 & 0 & 1 & 0 & 0 & 0 & 0 & 0\\\\\n",
       "\t Gladiator     & Patriot       & Sixth Sense   &            &       & 1 & 1 & 0 & 0 & 1 & 0 & 0 & 0 & 0 & 0\\\\\n",
       "\t Sixth Sense   & LOTR          & Gladiator     & Green Mile &       & 1 & 1 & 0 & 0 & 0 & 0 & 0 & 1 & 0 & 1\\\\\n",
       "\\end{tabular}\n"
      ],
      "text/markdown": [
       "\n",
       "A data.frame: 10 × 15\n",
       "\n",
       "| V1 &lt;fct&gt; | V2 &lt;fct&gt; | V3 &lt;fct&gt; | V4 &lt;fct&gt; | V5 &lt;fct&gt; | Sixth.Sense &lt;int&gt; | Gladiator &lt;int&gt; | LOTR1 &lt;int&gt; | Harry.Potter1 &lt;int&gt; | Patriot &lt;int&gt; | LOTR2 &lt;int&gt; | Harry.Potter2 &lt;int&gt; | LOTR &lt;int&gt; | Braveheart &lt;int&gt; | Green.Mile &lt;int&gt; |\n",
       "|---|---|---|---|---|---|---|---|---|---|---|---|---|---|---|\n",
       "| Sixth Sense   | LOTR1         | Harry Potter1 | Green Mile | LOTR2 | 1 | 0 | 1 | 1 | 0 | 1 | 0 | 0 | 0 | 1 |\n",
       "| Gladiator     | Patriot       | Braveheart    | <!----> | <!----> | 0 | 1 | 0 | 0 | 1 | 0 | 0 | 0 | 1 | 0 |\n",
       "| LOTR1         | LOTR2         | <!----> | <!----> | <!----> | 0 | 0 | 1 | 0 | 0 | 1 | 0 | 0 | 0 | 0 |\n",
       "| Gladiator     | Patriot       | Sixth Sense   | <!----> | <!----> | 1 | 1 | 0 | 0 | 1 | 0 | 0 | 0 | 0 | 0 |\n",
       "| Gladiator     | Patriot       | Sixth Sense   | <!----> | <!----> | 1 | 1 | 0 | 0 | 1 | 0 | 0 | 0 | 0 | 0 |\n",
       "| Gladiator     | Patriot       | Sixth Sense   | <!----> | <!----> | 1 | 1 | 0 | 0 | 1 | 0 | 0 | 0 | 0 | 0 |\n",
       "| Harry Potter1 | Harry Potter2 | <!----> | <!----> | <!----> | 0 | 0 | 0 | 1 | 0 | 0 | 1 | 0 | 0 | 0 |\n",
       "| Gladiator     | Patriot       | <!----> | <!----> | <!----> | 0 | 1 | 0 | 0 | 1 | 0 | 0 | 0 | 0 | 0 |\n",
       "| Gladiator     | Patriot       | Sixth Sense   | <!----> | <!----> | 1 | 1 | 0 | 0 | 1 | 0 | 0 | 0 | 0 | 0 |\n",
       "| Sixth Sense   | LOTR          | Gladiator     | Green Mile | <!----> | 1 | 1 | 0 | 0 | 0 | 0 | 0 | 1 | 0 | 1 |\n",
       "\n"
      ],
      "text/plain": [
       "   V1            V2            V3            V4         V5    Sixth.Sense\n",
       "1  Sixth Sense   LOTR1         Harry Potter1 Green Mile LOTR2 1          \n",
       "2  Gladiator     Patriot       Braveheart                     0          \n",
       "3  LOTR1         LOTR2                                        0          \n",
       "4  Gladiator     Patriot       Sixth Sense                    1          \n",
       "5  Gladiator     Patriot       Sixth Sense                    1          \n",
       "6  Gladiator     Patriot       Sixth Sense                    1          \n",
       "7  Harry Potter1 Harry Potter2                                0          \n",
       "8  Gladiator     Patriot                                      0          \n",
       "9  Gladiator     Patriot       Sixth Sense                    1          \n",
       "10 Sixth Sense   LOTR          Gladiator     Green Mile       1          \n",
       "   Gladiator LOTR1 Harry.Potter1 Patriot LOTR2 Harry.Potter2 LOTR Braveheart\n",
       "1  0         1     1             0       1     0             0    0         \n",
       "2  1         0     0             1       0     0             0    1         \n",
       "3  0         1     0             0       1     0             0    0         \n",
       "4  1         0     0             1       0     0             0    0         \n",
       "5  1         0     0             1       0     0             0    0         \n",
       "6  1         0     0             1       0     0             0    0         \n",
       "7  0         0     1             0       0     1             0    0         \n",
       "8  1         0     0             1       0     0             0    0         \n",
       "9  1         0     0             1       0     0             0    0         \n",
       "10 1         0     0             0       0     0             1    0         \n",
       "   Green.Mile\n",
       "1  1         \n",
       "2  0         \n",
       "3  0         \n",
       "4  0         \n",
       "5  0         \n",
       "6  0         \n",
       "7  0         \n",
       "8  0         \n",
       "9  0         \n",
       "10 1         "
      ]
     },
     "metadata": {},
     "output_type": "display_data"
    }
   ],
   "source": [
    "data"
   ]
  },
  {
   "cell_type": "code",
   "execution_count": 11,
   "metadata": {},
   "outputs": [
    {
     "data": {
      "text/html": [
       "'data.frame'"
      ],
      "text/latex": [
       "'data.frame'"
      ],
      "text/markdown": [
       "'data.frame'"
      ],
      "text/plain": [
       "[1] \"data.frame\""
      ]
     },
     "metadata": {},
     "output_type": "display_data"
    }
   ],
   "source": [
    "class(data)"
   ]
  },
  {
   "cell_type": "code",
   "execution_count": 12,
   "metadata": {},
   "outputs": [
    {
     "data": {
      "text/html": [
       "<style>\n",
       ".list-inline {list-style: none; margin:0; padding: 0}\n",
       ".list-inline>li {display: inline-block}\n",
       ".list-inline>li:not(:last-child)::after {content: \"\\00b7\"; padding: 0 .5ex}\n",
       "</style>\n",
       "<ol class=list-inline><li>'V1'</li><li>'V2'</li><li>'V3'</li><li>'V4'</li><li>'V5'</li><li>'Sixth.Sense'</li><li>'Gladiator'</li><li>'LOTR1'</li><li>'Harry.Potter1'</li><li>'Patriot'</li><li>'LOTR2'</li><li>'Harry.Potter2'</li><li>'LOTR'</li><li>'Braveheart'</li><li>'Green.Mile'</li></ol>\n"
      ],
      "text/latex": [
       "\\begin{enumerate*}\n",
       "\\item 'V1'\n",
       "\\item 'V2'\n",
       "\\item 'V3'\n",
       "\\item 'V4'\n",
       "\\item 'V5'\n",
       "\\item 'Sixth.Sense'\n",
       "\\item 'Gladiator'\n",
       "\\item 'LOTR1'\n",
       "\\item 'Harry.Potter1'\n",
       "\\item 'Patriot'\n",
       "\\item 'LOTR2'\n",
       "\\item 'Harry.Potter2'\n",
       "\\item 'LOTR'\n",
       "\\item 'Braveheart'\n",
       "\\item 'Green.Mile'\n",
       "\\end{enumerate*}\n"
      ],
      "text/markdown": [
       "1. 'V1'\n",
       "2. 'V2'\n",
       "3. 'V3'\n",
       "4. 'V4'\n",
       "5. 'V5'\n",
       "6. 'Sixth.Sense'\n",
       "7. 'Gladiator'\n",
       "8. 'LOTR1'\n",
       "9. 'Harry.Potter1'\n",
       "10. 'Patriot'\n",
       "11. 'LOTR2'\n",
       "12. 'Harry.Potter2'\n",
       "13. 'LOTR'\n",
       "14. 'Braveheart'\n",
       "15. 'Green.Mile'\n",
       "\n",
       "\n"
      ],
      "text/plain": [
       " [1] \"V1\"            \"V2\"            \"V3\"            \"V4\"           \n",
       " [5] \"V5\"            \"Sixth.Sense\"   \"Gladiator\"     \"LOTR1\"        \n",
       " [9] \"Harry.Potter1\" \"Patriot\"       \"LOTR2\"         \"Harry.Potter2\"\n",
       "[13] \"LOTR\"          \"Braveheart\"    \"Green.Mile\"   "
      ]
     },
     "metadata": {},
     "output_type": "display_data"
    }
   ],
   "source": [
    "colnames(data)"
   ]
  },
  {
   "cell_type": "code",
   "execution_count": 13,
   "metadata": {},
   "outputs": [],
   "source": [
    "data$Sixth.Sense <- factor(data$Sixth.Sense,levels = c(\"1\",\"0\"),labels = c(\"Sixth.Sense\",\"\"))\n",
    "data$Gladiator <- factor(data$Gladiator,levels = c(\"1\",\"0\"),labels = c(\"Gladiator\",\"\"))\n",
    "data$LOTR1 <- factor(data$LOTR1,levels = c(\"1\",\"0\"),labels = c(\"LOTR1\",\"\"))\n",
    "data$Harry.Potter1 <- factor(data$Harry.Potter1,levels = c(\"1\",\"0\"),labels = c(\"Harry.Potter1\",\"\"))\n",
    "data$Patriot <- factor(data$Patriot,levels = c(\"1\",\"0\"),labels = c(\"Patriot\",\"\"))\n",
    "data$LOTR2 <- factor(data$LOTR2,levels = c(\"1\",\"0\"),labels = c(\"LOTR2\",\"\"))\n",
    "data$Harry.Potter2 <- factor(data$Harry.Potter2,levels = c(\"1\",\"0\"),labels = c(\"Harry.Potter2\",\"\"))\n",
    "data$LOTR <- factor(data$LOTR,levels = c(\"1\",\"0\"),labels = c(\"LOTR\",\"\"))\n",
    "data$Braveheart <- factor(data$Braveheart,levels = c(\"1\",\"0\"),labels = c(\"Braveheart\",\"\"))\n",
    "data$Green.Mile <- factor(data$Green.Mile,levels = c(\"1\",\"0\"),labels = c(\"Green.Mile\",\"\"))\n"
   ]
  },
  {
   "cell_type": "code",
   "execution_count": 23,
   "metadata": {},
   "outputs": [
    {
     "data": {
      "text/html": [
       "<table>\n",
       "<caption>A data.frame: 10 × 15</caption>\n",
       "<thead>\n",
       "\t<tr><th scope=col>V1</th><th scope=col>V2</th><th scope=col>V3</th><th scope=col>V4</th><th scope=col>V5</th><th scope=col>Sixth.Sense</th><th scope=col>Gladiator</th><th scope=col>LOTR1</th><th scope=col>Harry.Potter1</th><th scope=col>Patriot</th><th scope=col>LOTR2</th><th scope=col>Harry.Potter2</th><th scope=col>LOTR</th><th scope=col>Braveheart</th><th scope=col>Green.Mile</th></tr>\n",
       "\t<tr><th scope=col>&lt;fct&gt;</th><th scope=col>&lt;fct&gt;</th><th scope=col>&lt;fct&gt;</th><th scope=col>&lt;fct&gt;</th><th scope=col>&lt;fct&gt;</th><th scope=col>&lt;fct&gt;</th><th scope=col>&lt;fct&gt;</th><th scope=col>&lt;fct&gt;</th><th scope=col>&lt;fct&gt;</th><th scope=col>&lt;fct&gt;</th><th scope=col>&lt;fct&gt;</th><th scope=col>&lt;fct&gt;</th><th scope=col>&lt;fct&gt;</th><th scope=col>&lt;fct&gt;</th><th scope=col>&lt;fct&gt;</th></tr>\n",
       "</thead>\n",
       "<tbody>\n",
       "\t<tr><td>Sixth Sense  </td><td>LOTR1        </td><td>Harry Potter1</td><td>Green Mile</td><td>LOTR2</td><td>Sixth.Sense</td><td>         </td><td>LOTR1</td><td>Harry.Potter1</td><td>       </td><td>LOTR2</td><td>             </td><td>    </td><td>          </td><td>Green.Mile</td></tr>\n",
       "\t<tr><td>Gladiator    </td><td>Patriot      </td><td>Braveheart   </td><td>          </td><td>     </td><td>           </td><td>Gladiator</td><td>     </td><td>             </td><td>Patriot</td><td>     </td><td>             </td><td>    </td><td>Braveheart</td><td>          </td></tr>\n",
       "\t<tr><td>LOTR1        </td><td>LOTR2        </td><td>             </td><td>          </td><td>     </td><td>           </td><td>         </td><td>LOTR1</td><td>             </td><td>       </td><td>LOTR2</td><td>             </td><td>    </td><td>          </td><td>          </td></tr>\n",
       "\t<tr><td>Gladiator    </td><td>Patriot      </td><td>Sixth Sense  </td><td>          </td><td>     </td><td>Sixth.Sense</td><td>Gladiator</td><td>     </td><td>             </td><td>Patriot</td><td>     </td><td>             </td><td>    </td><td>          </td><td>          </td></tr>\n",
       "\t<tr><td>Gladiator    </td><td>Patriot      </td><td>Sixth Sense  </td><td>          </td><td>     </td><td>Sixth.Sense</td><td>Gladiator</td><td>     </td><td>             </td><td>Patriot</td><td>     </td><td>             </td><td>    </td><td>          </td><td>          </td></tr>\n",
       "\t<tr><td>Gladiator    </td><td>Patriot      </td><td>Sixth Sense  </td><td>          </td><td>     </td><td>Sixth.Sense</td><td>Gladiator</td><td>     </td><td>             </td><td>Patriot</td><td>     </td><td>             </td><td>    </td><td>          </td><td>          </td></tr>\n",
       "\t<tr><td>Harry Potter1</td><td>Harry Potter2</td><td>             </td><td>          </td><td>     </td><td>           </td><td>         </td><td>     </td><td>Harry.Potter1</td><td>       </td><td>     </td><td>Harry.Potter2</td><td>    </td><td>          </td><td>          </td></tr>\n",
       "\t<tr><td>Gladiator    </td><td>Patriot      </td><td>             </td><td>          </td><td>     </td><td>           </td><td>Gladiator</td><td>     </td><td>             </td><td>Patriot</td><td>     </td><td>             </td><td>    </td><td>          </td><td>          </td></tr>\n",
       "\t<tr><td>Gladiator    </td><td>Patriot      </td><td>Sixth Sense  </td><td>          </td><td>     </td><td>Sixth.Sense</td><td>Gladiator</td><td>     </td><td>             </td><td>Patriot</td><td>     </td><td>             </td><td>    </td><td>          </td><td>          </td></tr>\n",
       "\t<tr><td>Sixth Sense  </td><td>LOTR         </td><td>Gladiator    </td><td>Green Mile</td><td>     </td><td>Sixth.Sense</td><td>Gladiator</td><td>     </td><td>             </td><td>       </td><td>     </td><td>             </td><td>LOTR</td><td>          </td><td>Green.Mile</td></tr>\n",
       "</tbody>\n",
       "</table>\n"
      ],
      "text/latex": [
       "A data.frame: 10 × 15\n",
       "\\begin{tabular}{lllllllllllllll}\n",
       " V1 & V2 & V3 & V4 & V5 & Sixth.Sense & Gladiator & LOTR1 & Harry.Potter1 & Patriot & LOTR2 & Harry.Potter2 & LOTR & Braveheart & Green.Mile\\\\\n",
       " <fct> & <fct> & <fct> & <fct> & <fct> & <fct> & <fct> & <fct> & <fct> & <fct> & <fct> & <fct> & <fct> & <fct> & <fct>\\\\\n",
       "\\hline\n",
       "\t Sixth Sense   & LOTR1         & Harry Potter1 & Green Mile & LOTR2 & Sixth.Sense &           & LOTR1 & Harry.Potter1 &         & LOTR2 &               &      &            & Green.Mile\\\\\n",
       "\t Gladiator     & Patriot       & Braveheart    &            &       &             & Gladiator &       &               & Patriot &       &               &      & Braveheart &           \\\\\n",
       "\t LOTR1         & LOTR2         &               &            &       &             &           & LOTR1 &               &         & LOTR2 &               &      &            &           \\\\\n",
       "\t Gladiator     & Patriot       & Sixth Sense   &            &       & Sixth.Sense & Gladiator &       &               & Patriot &       &               &      &            &           \\\\\n",
       "\t Gladiator     & Patriot       & Sixth Sense   &            &       & Sixth.Sense & Gladiator &       &               & Patriot &       &               &      &            &           \\\\\n",
       "\t Gladiator     & Patriot       & Sixth Sense   &            &       & Sixth.Sense & Gladiator &       &               & Patriot &       &               &      &            &           \\\\\n",
       "\t Harry Potter1 & Harry Potter2 &               &            &       &             &           &       & Harry.Potter1 &         &       & Harry.Potter2 &      &            &           \\\\\n",
       "\t Gladiator     & Patriot       &               &            &       &             & Gladiator &       &               & Patriot &       &               &      &            &           \\\\\n",
       "\t Gladiator     & Patriot       & Sixth Sense   &            &       & Sixth.Sense & Gladiator &       &               & Patriot &       &               &      &            &           \\\\\n",
       "\t Sixth Sense   & LOTR          & Gladiator     & Green Mile &       & Sixth.Sense & Gladiator &       &               &         &       &               & LOTR &            & Green.Mile\\\\\n",
       "\\end{tabular}\n"
      ],
      "text/markdown": [
       "\n",
       "A data.frame: 10 × 15\n",
       "\n",
       "| V1 &lt;fct&gt; | V2 &lt;fct&gt; | V3 &lt;fct&gt; | V4 &lt;fct&gt; | V5 &lt;fct&gt; | Sixth.Sense &lt;fct&gt; | Gladiator &lt;fct&gt; | LOTR1 &lt;fct&gt; | Harry.Potter1 &lt;fct&gt; | Patriot &lt;fct&gt; | LOTR2 &lt;fct&gt; | Harry.Potter2 &lt;fct&gt; | LOTR &lt;fct&gt; | Braveheart &lt;fct&gt; | Green.Mile &lt;fct&gt; |\n",
       "|---|---|---|---|---|---|---|---|---|---|---|---|---|---|---|\n",
       "| Sixth Sense   | LOTR1         | Harry Potter1 | Green Mile | LOTR2 | Sixth.Sense | <!----> | LOTR1 | Harry.Potter1 | <!----> | LOTR2 | <!----> | <!----> | <!----> | Green.Mile |\n",
       "| Gladiator     | Patriot       | Braveheart    | <!----> | <!----> | <!----> | Gladiator | <!----> | <!----> | Patriot | <!----> | <!----> | <!----> | Braveheart | <!----> |\n",
       "| LOTR1         | LOTR2         | <!----> | <!----> | <!----> | <!----> | <!----> | LOTR1 | <!----> | <!----> | LOTR2 | <!----> | <!----> | <!----> | <!----> |\n",
       "| Gladiator     | Patriot       | Sixth Sense   | <!----> | <!----> | Sixth.Sense | Gladiator | <!----> | <!----> | Patriot | <!----> | <!----> | <!----> | <!----> | <!----> |\n",
       "| Gladiator     | Patriot       | Sixth Sense   | <!----> | <!----> | Sixth.Sense | Gladiator | <!----> | <!----> | Patriot | <!----> | <!----> | <!----> | <!----> | <!----> |\n",
       "| Gladiator     | Patriot       | Sixth Sense   | <!----> | <!----> | Sixth.Sense | Gladiator | <!----> | <!----> | Patriot | <!----> | <!----> | <!----> | <!----> | <!----> |\n",
       "| Harry Potter1 | Harry Potter2 | <!----> | <!----> | <!----> | <!----> | <!----> | <!----> | Harry.Potter1 | <!----> | <!----> | Harry.Potter2 | <!----> | <!----> | <!----> |\n",
       "| Gladiator     | Patriot       | <!----> | <!----> | <!----> | <!----> | Gladiator | <!----> | <!----> | Patriot | <!----> | <!----> | <!----> | <!----> | <!----> |\n",
       "| Gladiator     | Patriot       | Sixth Sense   | <!----> | <!----> | Sixth.Sense | Gladiator | <!----> | <!----> | Patriot | <!----> | <!----> | <!----> | <!----> | <!----> |\n",
       "| Sixth Sense   | LOTR          | Gladiator     | Green Mile | <!----> | Sixth.Sense | Gladiator | <!----> | <!----> | <!----> | <!----> | <!----> | LOTR | <!----> | Green.Mile |\n",
       "\n"
      ],
      "text/plain": [
       "   V1            V2            V3            V4         V5    Sixth.Sense\n",
       "1  Sixth Sense   LOTR1         Harry Potter1 Green Mile LOTR2 Sixth.Sense\n",
       "2  Gladiator     Patriot       Braveheart                                \n",
       "3  LOTR1         LOTR2                                                   \n",
       "4  Gladiator     Patriot       Sixth Sense                    Sixth.Sense\n",
       "5  Gladiator     Patriot       Sixth Sense                    Sixth.Sense\n",
       "6  Gladiator     Patriot       Sixth Sense                    Sixth.Sense\n",
       "7  Harry Potter1 Harry Potter2                                           \n",
       "8  Gladiator     Patriot                                                 \n",
       "9  Gladiator     Patriot       Sixth Sense                    Sixth.Sense\n",
       "10 Sixth Sense   LOTR          Gladiator     Green Mile       Sixth.Sense\n",
       "   Gladiator LOTR1 Harry.Potter1 Patriot LOTR2 Harry.Potter2 LOTR Braveheart\n",
       "1            LOTR1 Harry.Potter1         LOTR2                              \n",
       "2  Gladiator                     Patriot                          Braveheart\n",
       "3            LOTR1                       LOTR2                              \n",
       "4  Gladiator                     Patriot                                    \n",
       "5  Gladiator                     Patriot                                    \n",
       "6  Gladiator                     Patriot                                    \n",
       "7                  Harry.Potter1               Harry.Potter2                \n",
       "8  Gladiator                     Patriot                                    \n",
       "9  Gladiator                     Patriot                                    \n",
       "10 Gladiator                                                 LOTR           \n",
       "   Green.Mile\n",
       "1  Green.Mile\n",
       "2            \n",
       "3            \n",
       "4            \n",
       "5            \n",
       "6            \n",
       "7            \n",
       "8            \n",
       "9            \n",
       "10 Green.Mile"
      ]
     },
     "metadata": {},
     "output_type": "display_data"
    }
   ],
   "source": [
    "data"
   ]
  },
  {
   "cell_type": "code",
   "execution_count": 21,
   "metadata": {},
   "outputs": [
    {
     "data": {
      "text/html": [
       "<table>\n",
       "<caption>A data.frame: 10 × 15</caption>\n",
       "<thead>\n",
       "\t<tr><th scope=col>V1</th><th scope=col>V2</th><th scope=col>V3</th><th scope=col>V4</th><th scope=col>V5</th><th scope=col>Sixth.Sense</th><th scope=col>Gladiator</th><th scope=col>LOTR1</th><th scope=col>Harry.Potter1</th><th scope=col>Patriot</th><th scope=col>LOTR2</th><th scope=col>Harry.Potter2</th><th scope=col>LOTR</th><th scope=col>Braveheart</th><th scope=col>Green.Mile</th></tr>\n",
       "\t<tr><th scope=col>&lt;fct&gt;</th><th scope=col>&lt;fct&gt;</th><th scope=col>&lt;fct&gt;</th><th scope=col>&lt;fct&gt;</th><th scope=col>&lt;fct&gt;</th><th scope=col>&lt;fct&gt;</th><th scope=col>&lt;fct&gt;</th><th scope=col>&lt;fct&gt;</th><th scope=col>&lt;fct&gt;</th><th scope=col>&lt;fct&gt;</th><th scope=col>&lt;fct&gt;</th><th scope=col>&lt;fct&gt;</th><th scope=col>&lt;fct&gt;</th><th scope=col>&lt;fct&gt;</th><th scope=col>&lt;fct&gt;</th></tr>\n",
       "</thead>\n",
       "<tbody>\n",
       "\t<tr><td>Sixth Sense  </td><td>LOTR1        </td><td>Harry Potter1</td><td>Green Mile</td><td>LOTR2</td><td>Sixth.Sense</td><td>         </td><td>LOTR1</td><td>Harry.Potter1</td><td>       </td><td>LOTR2</td><td>             </td><td>    </td><td>          </td><td>Green.Mile</td></tr>\n",
       "\t<tr><td>Gladiator    </td><td>Patriot      </td><td>Braveheart   </td><td>          </td><td>     </td><td>           </td><td>Gladiator</td><td>     </td><td>             </td><td>Patriot</td><td>     </td><td>             </td><td>    </td><td>Braveheart</td><td>          </td></tr>\n",
       "\t<tr><td>LOTR1        </td><td>LOTR2        </td><td>             </td><td>          </td><td>     </td><td>           </td><td>         </td><td>LOTR1</td><td>             </td><td>       </td><td>LOTR2</td><td>             </td><td>    </td><td>          </td><td>          </td></tr>\n",
       "\t<tr><td>Gladiator    </td><td>Patriot      </td><td>Sixth Sense  </td><td>          </td><td>     </td><td>Sixth.Sense</td><td>Gladiator</td><td>     </td><td>             </td><td>Patriot</td><td>     </td><td>             </td><td>    </td><td>          </td><td>          </td></tr>\n",
       "\t<tr><td>Gladiator    </td><td>Patriot      </td><td>Sixth Sense  </td><td>          </td><td>     </td><td>Sixth.Sense</td><td>Gladiator</td><td>     </td><td>             </td><td>Patriot</td><td>     </td><td>             </td><td>    </td><td>          </td><td>          </td></tr>\n",
       "\t<tr><td>Gladiator    </td><td>Patriot      </td><td>Sixth Sense  </td><td>          </td><td>     </td><td>Sixth.Sense</td><td>Gladiator</td><td>     </td><td>             </td><td>Patriot</td><td>     </td><td>             </td><td>    </td><td>          </td><td>          </td></tr>\n",
       "\t<tr><td>Harry Potter1</td><td>Harry Potter2</td><td>             </td><td>          </td><td>     </td><td>           </td><td>         </td><td>     </td><td>Harry.Potter1</td><td>       </td><td>     </td><td>Harry.Potter2</td><td>    </td><td>          </td><td>          </td></tr>\n",
       "\t<tr><td>Gladiator    </td><td>Patriot      </td><td>             </td><td>          </td><td>     </td><td>           </td><td>Gladiator</td><td>     </td><td>             </td><td>Patriot</td><td>     </td><td>             </td><td>    </td><td>          </td><td>          </td></tr>\n",
       "\t<tr><td>Gladiator    </td><td>Patriot      </td><td>Sixth Sense  </td><td>          </td><td>     </td><td>Sixth.Sense</td><td>Gladiator</td><td>     </td><td>             </td><td>Patriot</td><td>     </td><td>             </td><td>    </td><td>          </td><td>          </td></tr>\n",
       "\t<tr><td>Sixth Sense  </td><td>LOTR         </td><td>Gladiator    </td><td>Green Mile</td><td>     </td><td>Sixth.Sense</td><td>Gladiator</td><td>     </td><td>             </td><td>       </td><td>     </td><td>             </td><td>LOTR</td><td>          </td><td>Green.Mile</td></tr>\n",
       "</tbody>\n",
       "</table>\n"
      ],
      "text/latex": [
       "A data.frame: 10 × 15\n",
       "\\begin{tabular}{lllllllllllllll}\n",
       " V1 & V2 & V3 & V4 & V5 & Sixth.Sense & Gladiator & LOTR1 & Harry.Potter1 & Patriot & LOTR2 & Harry.Potter2 & LOTR & Braveheart & Green.Mile\\\\\n",
       " <fct> & <fct> & <fct> & <fct> & <fct> & <fct> & <fct> & <fct> & <fct> & <fct> & <fct> & <fct> & <fct> & <fct> & <fct>\\\\\n",
       "\\hline\n",
       "\t Sixth Sense   & LOTR1         & Harry Potter1 & Green Mile & LOTR2 & Sixth.Sense &           & LOTR1 & Harry.Potter1 &         & LOTR2 &               &      &            & Green.Mile\\\\\n",
       "\t Gladiator     & Patriot       & Braveheart    &            &       &             & Gladiator &       &               & Patriot &       &               &      & Braveheart &           \\\\\n",
       "\t LOTR1         & LOTR2         &               &            &       &             &           & LOTR1 &               &         & LOTR2 &               &      &            &           \\\\\n",
       "\t Gladiator     & Patriot       & Sixth Sense   &            &       & Sixth.Sense & Gladiator &       &               & Patriot &       &               &      &            &           \\\\\n",
       "\t Gladiator     & Patriot       & Sixth Sense   &            &       & Sixth.Sense & Gladiator &       &               & Patriot &       &               &      &            &           \\\\\n",
       "\t Gladiator     & Patriot       & Sixth Sense   &            &       & Sixth.Sense & Gladiator &       &               & Patriot &       &               &      &            &           \\\\\n",
       "\t Harry Potter1 & Harry Potter2 &               &            &       &             &           &       & Harry.Potter1 &         &       & Harry.Potter2 &      &            &           \\\\\n",
       "\t Gladiator     & Patriot       &               &            &       &             & Gladiator &       &               & Patriot &       &               &      &            &           \\\\\n",
       "\t Gladiator     & Patriot       & Sixth Sense   &            &       & Sixth.Sense & Gladiator &       &               & Patriot &       &               &      &            &           \\\\\n",
       "\t Sixth Sense   & LOTR          & Gladiator     & Green Mile &       & Sixth.Sense & Gladiator &       &               &         &       &               & LOTR &            & Green.Mile\\\\\n",
       "\\end{tabular}\n"
      ],
      "text/markdown": [
       "\n",
       "A data.frame: 10 × 15\n",
       "\n",
       "| V1 &lt;fct&gt; | V2 &lt;fct&gt; | V3 &lt;fct&gt; | V4 &lt;fct&gt; | V5 &lt;fct&gt; | Sixth.Sense &lt;fct&gt; | Gladiator &lt;fct&gt; | LOTR1 &lt;fct&gt; | Harry.Potter1 &lt;fct&gt; | Patriot &lt;fct&gt; | LOTR2 &lt;fct&gt; | Harry.Potter2 &lt;fct&gt; | LOTR &lt;fct&gt; | Braveheart &lt;fct&gt; | Green.Mile &lt;fct&gt; |\n",
       "|---|---|---|---|---|---|---|---|---|---|---|---|---|---|---|\n",
       "| Sixth Sense   | LOTR1         | Harry Potter1 | Green Mile | LOTR2 | Sixth.Sense | <!----> | LOTR1 | Harry.Potter1 | <!----> | LOTR2 | <!----> | <!----> | <!----> | Green.Mile |\n",
       "| Gladiator     | Patriot       | Braveheart    | <!----> | <!----> | <!----> | Gladiator | <!----> | <!----> | Patriot | <!----> | <!----> | <!----> | Braveheart | <!----> |\n",
       "| LOTR1         | LOTR2         | <!----> | <!----> | <!----> | <!----> | <!----> | LOTR1 | <!----> | <!----> | LOTR2 | <!----> | <!----> | <!----> | <!----> |\n",
       "| Gladiator     | Patriot       | Sixth Sense   | <!----> | <!----> | Sixth.Sense | Gladiator | <!----> | <!----> | Patriot | <!----> | <!----> | <!----> | <!----> | <!----> |\n",
       "| Gladiator     | Patriot       | Sixth Sense   | <!----> | <!----> | Sixth.Sense | Gladiator | <!----> | <!----> | Patriot | <!----> | <!----> | <!----> | <!----> | <!----> |\n",
       "| Gladiator     | Patriot       | Sixth Sense   | <!----> | <!----> | Sixth.Sense | Gladiator | <!----> | <!----> | Patriot | <!----> | <!----> | <!----> | <!----> | <!----> |\n",
       "| Harry Potter1 | Harry Potter2 | <!----> | <!----> | <!----> | <!----> | <!----> | <!----> | Harry.Potter1 | <!----> | <!----> | Harry.Potter2 | <!----> | <!----> | <!----> |\n",
       "| Gladiator     | Patriot       | <!----> | <!----> | <!----> | <!----> | Gladiator | <!----> | <!----> | Patriot | <!----> | <!----> | <!----> | <!----> | <!----> |\n",
       "| Gladiator     | Patriot       | Sixth Sense   | <!----> | <!----> | Sixth.Sense | Gladiator | <!----> | <!----> | Patriot | <!----> | <!----> | <!----> | <!----> | <!----> |\n",
       "| Sixth Sense   | LOTR          | Gladiator     | Green Mile | <!----> | Sixth.Sense | Gladiator | <!----> | <!----> | <!----> | <!----> | <!----> | LOTR | <!----> | Green.Mile |\n",
       "\n"
      ],
      "text/plain": [
       "   V1            V2            V3            V4         V5    Sixth.Sense\n",
       "1  Sixth Sense   LOTR1         Harry Potter1 Green Mile LOTR2 Sixth.Sense\n",
       "2  Gladiator     Patriot       Braveheart                                \n",
       "3  LOTR1         LOTR2                                                   \n",
       "4  Gladiator     Patriot       Sixth Sense                    Sixth.Sense\n",
       "5  Gladiator     Patriot       Sixth Sense                    Sixth.Sense\n",
       "6  Gladiator     Patriot       Sixth Sense                    Sixth.Sense\n",
       "7  Harry Potter1 Harry Potter2                                           \n",
       "8  Gladiator     Patriot                                                 \n",
       "9  Gladiator     Patriot       Sixth Sense                    Sixth.Sense\n",
       "10 Sixth Sense   LOTR          Gladiator     Green Mile       Sixth.Sense\n",
       "   Gladiator LOTR1 Harry.Potter1 Patriot LOTR2 Harry.Potter2 LOTR Braveheart\n",
       "1            LOTR1 Harry.Potter1         LOTR2                              \n",
       "2  Gladiator                     Patriot                          Braveheart\n",
       "3            LOTR1                       LOTR2                              \n",
       "4  Gladiator                     Patriot                                    \n",
       "5  Gladiator                     Patriot                                    \n",
       "6  Gladiator                     Patriot                                    \n",
       "7                  Harry.Potter1               Harry.Potter2                \n",
       "8  Gladiator                     Patriot                                    \n",
       "9  Gladiator                     Patriot                                    \n",
       "10 Gladiator                                                 LOTR           \n",
       "   Green.Mile\n",
       "1  Green.Mile\n",
       "2            \n",
       "3            \n",
       "4            \n",
       "5            \n",
       "6            \n",
       "7            \n",
       "8            \n",
       "9            \n",
       "10 Green.Mile"
      ]
     },
     "metadata": {},
     "output_type": "display_data"
    }
   ],
   "source": [
    "data"
   ]
  },
  {
   "cell_type": "code",
   "execution_count": 14,
   "metadata": {},
   "outputs": [],
   "source": [
    "data1 <- as(data,\"transactions\")\n"
   ]
  },
  {
   "cell_type": "code",
   "execution_count": 15,
   "metadata": {},
   "outputs": [
    {
     "data": {
      "image/png": "[encoded data removed]",
      "text/plain": [
       "plot without title"
      ]
     },
     "metadata": {
      "image/png": {
       "height": 420,
       "width": 420
      }
     },
     "output_type": "display_data"
    }
   ],
   "source": [
    "itemFrequencyPlot(data1,topN=15)"
   ]
  },
  {
   "cell_type": "code",
   "execution_count": 16,
   "metadata": {},
   "outputs": [
    {
     "name": "stdout",
     "output_type": "stream",
     "text": [
      "Apriori\n",
      "\n",
      "Parameter specification:\n",
      " confidence minval smax arem  aval originalSupport maxtime support minlen\n",
      "        0.5    0.1    1 none FALSE            TRUE       5   0.005      2\n",
      " maxlen target  ext\n",
      "      3  rules TRUE\n",
      "\n",
      "Algorithmic control:\n",
      " filter tree heap memopt load sort verbose\n",
      "    0.1 TRUE TRUE  FALSE TRUE    2    TRUE\n",
      "\n",
      "Absolute minimum support count: 0 \n",
      "\n",
      "set item appearances ...[0 item(s)] done [0.00s].\n",
      "set transactions ...[38 item(s), 10 transaction(s)] done [0.00s].\n",
      "sorting and recoding items ... [38 item(s)] done [0.00s].\n",
      "creating transaction tree ... done [0.00s].\n",
      "checking subsets of size 1 2 3"
     ]
    },
    {
     "name": "stderr",
     "output_type": "stream",
     "text": [
      "Warning message in apriori(data1, parameter = list(supp = 0.005, confidence = 0.5, :\n",
      "\"Mining stopped (maxlen reached). Only patterns up to a length of 3 returned!\"\n"
     ]
    },
    {
     "name": "stdout",
     "output_type": "stream",
     "text": [
      " done [0.01s].\n",
      "writing ... [6338 rule(s)] done [0.00s].\n",
      "creating S4 object  ... done [0.00s].\n"
     ]
    }
   ],
   "source": [
    "rules <- apriori(data1, parameter = list(supp = 0.005, confidence = 0.50, minlen = 2, maxlen = 3))"
   ]
  },
  {
   "cell_type": "code",
   "execution_count": 17,
   "metadata": {},
   "outputs": [
    {
     "name": "stdout",
     "output_type": "stream",
     "text": [
      "     lhs                 rhs              support confidence coverage lift    \n",
      "[1]  {LOTR1=}         => {LOTR2=}         0.8     1.0000000  0.8      1.250000\n",
      "[2]  {LOTR2=}         => {LOTR1=}         0.8     1.0000000  0.8      1.250000\n",
      "[3]  {LOTR1=}         => {V5=}            0.8     1.0000000  0.8      1.111111\n",
      "[4]  {V5=}            => {LOTR1=}         0.8     0.8888889  0.9      1.111111\n",
      "[5]  {Harry.Potter1=} => {Harry.Potter2=} 0.8     1.0000000  0.8      1.111111\n",
      "[6]  {Harry.Potter2=} => {Harry.Potter1=} 0.8     0.8888889  0.9      1.111111\n",
      "[7]  {Harry.Potter1=} => {V5=}            0.8     1.0000000  0.8      1.111111\n",
      "[8]  {V5=}            => {Harry.Potter1=} 0.8     0.8888889  0.9      1.111111\n",
      "[9]  {LOTR2=}         => {V5=}            0.8     1.0000000  0.8      1.111111\n",
      "[10] {V5=}            => {LOTR2=}         0.8     0.8888889  0.9      1.111111\n",
      "     count\n",
      "[1]  8    \n",
      "[2]  8    \n",
      "[3]  8    \n",
      "[4]  8    \n",
      "[5]  8    \n",
      "[6]  8    \n",
      "[7]  8    \n",
      "[8]  8    \n",
      "[9]  8    \n",
      "[10] 8    \n"
     ]
    }
   ],
   "source": [
    "inspect(head(sort(rules), n = 10))"
   ]
  },
  {
   "cell_type": "code",
   "execution_count": 18,
   "metadata": {},
   "outputs": [
    {
     "data": {
      "image/png": "[encoded data removed]",
      "text/plain": [
       "Plot with title \"Graph for 10 rules\""
      ]
     },
     "metadata": {
      "image/png": {
       "height": 420,
       "width": 420
      }
     },
     "output_type": "display_data"
    }
   ],
   "source": [
    "plot(head(sort(rules, by = \"lift\"), n = 10), method = \"graph\", control = list(cex = 1.0)) #cex = font size"
   ]
  },
  {
   "cell_type": "code",
   "execution_count": null,
   "metadata": {},
   "outputs": [],
   "source": []
  }
 ],
 "metadata": {
  "kernelspec": {
   "display_name": "R",
   "language": "R",
   "name": "ir"
  },
  "language_info": {
   "codemirror_mode": "r",
   "file_extension": ".r",
   "mimetype": "text/x-r-source",
   "name": "R",
   "pygments_lexer": "r",
   "version": "3.6.2"
  }
 },
 "nbformat": 4,
 "nbformat_minor": 4
}
