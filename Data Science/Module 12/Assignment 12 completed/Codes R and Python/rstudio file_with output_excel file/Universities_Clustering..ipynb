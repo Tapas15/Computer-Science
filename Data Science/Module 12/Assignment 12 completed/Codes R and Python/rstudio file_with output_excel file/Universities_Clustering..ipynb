{
 "cells": [
  {
   "cell_type": "markdown",
   "metadata": {},
   "source": [
    "# Hirarcical clustering of University data set\n",
    "\n"
   ]
  },
  {
   "cell_type": "markdown",
   "metadata": {},
   "source": [
    "# Data Pre processing "
   ]
  },
  {
   "cell_type": "code",
   "execution_count": 20,
   "metadata": {},
   "outputs": [],
   "source": [
    "mydata <-  read.csv(file.choose()) # import data for annalysis\n"
   ]
  },
  {
   "cell_type": "code",
   "execution_count": 21,
   "metadata": {},
   "outputs": [
    {
     "name": "stdout",
     "output_type": "stream",
     "text": [
      "'data.frame':\t25 obs. of  7 variables:\n",
      " $ Univ    : Factor w/ 25 levels \"Brown\",\"CalTech\",..: 1 2 3 4 5 6 7 8 9 10 ...\n",
      " $ SAT     : int  1310 1415 1260 1310 1280 1340 1315 1255 1400 1305 ...\n",
      " $ Top10   : int  89 100 62 76 83 89 90 74 91 75 ...\n",
      " $ Accept  : int  22 25 59 24 33 23 30 24 14 44 ...\n",
      " $ SFRatio : int  13 6 9 12 13 10 12 12 11 7 ...\n",
      " $ Expenses: int  22704 63575 25026 31510 21864 32162 31585 20126 39525 58691 ...\n",
      " $ GradRate: int  94 81 72 88 90 95 95 92 97 87 ...\n"
     ]
    }
   ],
   "source": [
    "str(mydata)"
   ]
  },
  {
   "cell_type": "code",
   "execution_count": 22,
   "metadata": {},
   "outputs": [
    {
     "data": {
      "text/plain": [
       "        Univ         SAT           Top10            Accept        SFRatio     \n",
       " Brown    : 1   Min.   :1005   Min.   : 28.00   Min.   :14.0   Min.   : 6.00  \n",
       " CalTech  : 1   1st Qu.:1240   1st Qu.: 74.00   1st Qu.:24.0   1st Qu.:11.00  \n",
       " CMU      : 1   Median :1285   Median : 81.00   Median :36.0   Median :12.00  \n",
       " Columbia : 1   Mean   :1266   Mean   : 76.48   Mean   :39.2   Mean   :12.72  \n",
       " Cornell  : 1   3rd Qu.:1340   3rd Qu.: 90.00   3rd Qu.:50.0   3rd Qu.:14.00  \n",
       " Dartmouth: 1   Max.   :1415   Max.   :100.00   Max.   :90.0   Max.   :25.00  \n",
       " (Other)  :19                                                                 \n",
       "    Expenses        GradRate    \n",
       " Min.   : 8704   Min.   :67.00  \n",
       " 1st Qu.:15140   1st Qu.:81.00  \n",
       " Median :27553   Median :90.00  \n",
       " Mean   :27388   Mean   :86.72  \n",
       " 3rd Qu.:34870   3rd Qu.:94.00  \n",
       " Max.   :63575   Max.   :97.00  \n",
       "                                "
      ]
     },
     "metadata": {},
     "output_type": "display_data"
    }
   ],
   "source": [
    "summary(mydata)"
   ]
  },
  {
   "cell_type": "code",
   "execution_count": 23,
   "metadata": {},
   "outputs": [
    {
     "data": {
      "text/html": [
       "<style>\n",
       ".list-inline {list-style: none; margin:0; padding: 0}\n",
       ".list-inline>li {display: inline-block}\n",
       ".list-inline>li:not(:last-child)::after {content: \"\\00b7\"; padding: 0 .5ex}\n",
       "</style>\n",
       "<ol class=list-inline><li>'Univ'</li><li>'SAT'</li><li>'Top10'</li><li>'Accept'</li><li>'SFRatio'</li><li>'Expenses'</li><li>'GradRate'</li></ol>\n"
      ],
      "text/latex": [
       "\\begin{enumerate*}\n",
       "\\item 'Univ'\n",
       "\\item 'SAT'\n",
       "\\item 'Top10'\n",
       "\\item 'Accept'\n",
       "\\item 'SFRatio'\n",
       "\\item 'Expenses'\n",
       "\\item 'GradRate'\n",
       "\\end{enumerate*}\n"
      ],
      "text/markdown": [
       "1. 'Univ'\n",
       "2. 'SAT'\n",
       "3. 'Top10'\n",
       "4. 'Accept'\n",
       "5. 'SFRatio'\n",
       "6. 'Expenses'\n",
       "7. 'GradRate'\n",
       "\n",
       "\n"
      ],
      "text/plain": [
       "[1] \"Univ\"     \"SAT\"      \"Top10\"    \"Accept\"   \"SFRatio\"  \"Expenses\" \"GradRate\""
      ]
     },
     "metadata": {},
     "output_type": "display_data"
    },
    {
     "data": {
      "text/html": [
       "<style>\n",
       ".list-inline {list-style: none; margin:0; padding: 0}\n",
       ".list-inline>li {display: inline-block}\n",
       ".list-inline>li:not(:last-child)::after {content: \"\\00b7\"; padding: 0 .5ex}\n",
       "</style>\n",
       "<ol class=list-inline><li>'1'</li><li>'2'</li><li>'3'</li><li>'4'</li><li>'5'</li><li>'6'</li><li>'7'</li><li>'8'</li><li>'9'</li><li>'10'</li><li>'11'</li><li>'12'</li><li>'13'</li><li>'14'</li><li>'15'</li><li>'16'</li><li>'17'</li><li>'18'</li><li>'19'</li><li>'20'</li><li>'21'</li><li>'22'</li><li>'23'</li><li>'24'</li><li>'25'</li></ol>\n"
      ],
      "text/latex": [
       "\\begin{enumerate*}\n",
       "\\item '1'\n",
       "\\item '2'\n",
       "\\item '3'\n",
       "\\item '4'\n",
       "\\item '5'\n",
       "\\item '6'\n",
       "\\item '7'\n",
       "\\item '8'\n",
       "\\item '9'\n",
       "\\item '10'\n",
       "\\item '11'\n",
       "\\item '12'\n",
       "\\item '13'\n",
       "\\item '14'\n",
       "\\item '15'\n",
       "\\item '16'\n",
       "\\item '17'\n",
       "\\item '18'\n",
       "\\item '19'\n",
       "\\item '20'\n",
       "\\item '21'\n",
       "\\item '22'\n",
       "\\item '23'\n",
       "\\item '24'\n",
       "\\item '25'\n",
       "\\end{enumerate*}\n"
      ],
      "text/markdown": [
       "1. '1'\n",
       "2. '2'\n",
       "3. '3'\n",
       "4. '4'\n",
       "5. '5'\n",
       "6. '6'\n",
       "7. '7'\n",
       "8. '8'\n",
       "9. '9'\n",
       "10. '10'\n",
       "11. '11'\n",
       "12. '12'\n",
       "13. '13'\n",
       "14. '14'\n",
       "15. '15'\n",
       "16. '16'\n",
       "17. '17'\n",
       "18. '18'\n",
       "19. '19'\n",
       "20. '20'\n",
       "21. '21'\n",
       "22. '22'\n",
       "23. '23'\n",
       "24. '24'\n",
       "25. '25'\n",
       "\n",
       "\n"
      ],
      "text/plain": [
       " [1] \"1\"  \"2\"  \"3\"  \"4\"  \"5\"  \"6\"  \"7\"  \"8\"  \"9\"  \"10\" \"11\" \"12\" \"13\" \"14\" \"15\"\n",
       "[16] \"16\" \"17\" \"18\" \"19\" \"20\" \"21\" \"22\" \"23\" \"24\" \"25\""
      ]
     },
     "metadata": {},
     "output_type": "display_data"
    },
    {
     "data": {
      "text/html": [
       "<style>\n",
       ".list-inline {list-style: none; margin:0; padding: 0}\n",
       ".list-inline>li {display: inline-block}\n",
       ".list-inline>li:not(:last-child)::after {content: \"\\00b7\"; padding: 0 .5ex}\n",
       "</style>\n",
       "<ol class=list-inline><li>Brown</li><li>CalTech</li><li>CMU</li><li>Columbia</li><li>Cornell</li><li>Dartmouth</li><li>Duke</li><li>Georgetown</li><li>Harvard</li><li>JohnsHopkins</li><li>MIT</li><li>Northwestern</li><li>NotreDame</li><li>PennState</li><li>Princeton</li><li>Purdue</li><li>Stanford</li><li>TexasA&amp;M</li><li>UCBerkeley</li><li>UChicago</li><li>UMichigan</li><li>UPenn</li><li>UVA</li><li>UWisconsin</li><li>Yale</li></ol>\n",
       "\n",
       "<details>\n",
       "\t<summary style=display:list-item;cursor:pointer>\n",
       "\t\t<strong>Levels</strong>:\n",
       "\t</summary>\n",
       "\t<style>\n",
       "\t.list-inline {list-style: none; margin:0; padding: 0}\n",
       "\t.list-inline>li {display: inline-block}\n",
       "\t.list-inline>li:not(:last-child)::after {content: \"\\00b7\"; padding: 0 .5ex}\n",
       "\t</style>\n",
       "\t<ol class=list-inline><li>'Brown'</li><li>'CalTech'</li><li>'CMU'</li><li>'Columbia'</li><li>'Cornell'</li><li>'Dartmouth'</li><li>'Duke'</li><li>'Georgetown'</li><li>'Harvard'</li><li>'JohnsHopkins'</li><li>'MIT'</li><li>'Northwestern'</li><li>'NotreDame'</li><li>'PennState'</li><li>'Princeton'</li><li>'Purdue'</li><li>'Stanford'</li><li>'TexasA&amp;M'</li><li>'UCBerkeley'</li><li>'UChicago'</li><li>'UMichigan'</li><li>'UPenn'</li><li>'UVA'</li><li>'UWisconsin'</li><li>'Yale'</li></ol>\n",
       "</details>"
      ],
      "text/latex": [
       "\\begin{enumerate*}\n",
       "\\item Brown\n",
       "\\item CalTech\n",
       "\\item CMU\n",
       "\\item Columbia\n",
       "\\item Cornell\n",
       "\\item Dartmouth\n",
       "\\item Duke\n",
       "\\item Georgetown\n",
       "\\item Harvard\n",
       "\\item JohnsHopkins\n",
       "\\item MIT\n",
       "\\item Northwestern\n",
       "\\item NotreDame\n",
       "\\item PennState\n",
       "\\item Princeton\n",
       "\\item Purdue\n",
       "\\item Stanford\n",
       "\\item TexasA\\&M\n",
       "\\item UCBerkeley\n",
       "\\item UChicago\n",
       "\\item UMichigan\n",
       "\\item UPenn\n",
       "\\item UVA\n",
       "\\item UWisconsin\n",
       "\\item Yale\n",
       "\\end{enumerate*}\n",
       "\n",
       "\\emph{Levels}: \\begin{enumerate*}\n",
       "\\item 'Brown'\n",
       "\\item 'CalTech'\n",
       "\\item 'CMU'\n",
       "\\item 'Columbia'\n",
       "\\item 'Cornell'\n",
       "\\item 'Dartmouth'\n",
       "\\item 'Duke'\n",
       "\\item 'Georgetown'\n",
       "\\item 'Harvard'\n",
       "\\item 'JohnsHopkins'\n",
       "\\item 'MIT'\n",
       "\\item 'Northwestern'\n",
       "\\item 'NotreDame'\n",
       "\\item 'PennState'\n",
       "\\item 'Princeton'\n",
       "\\item 'Purdue'\n",
       "\\item 'Stanford'\n",
       "\\item 'TexasA\\&M'\n",
       "\\item 'UCBerkeley'\n",
       "\\item 'UChicago'\n",
       "\\item 'UMichigan'\n",
       "\\item 'UPenn'\n",
       "\\item 'UVA'\n",
       "\\item 'UWisconsin'\n",
       "\\item 'Yale'\n",
       "\\end{enumerate*}\n"
      ],
      "text/markdown": [
       "1. Brown\n",
       "2. CalTech\n",
       "3. CMU\n",
       "4. Columbia\n",
       "5. Cornell\n",
       "6. Dartmouth\n",
       "7. Duke\n",
       "8. Georgetown\n",
       "9. Harvard\n",
       "10. JohnsHopkins\n",
       "11. MIT\n",
       "12. Northwestern\n",
       "13. NotreDame\n",
       "14. PennState\n",
       "15. Princeton\n",
       "16. Purdue\n",
       "17. Stanford\n",
       "18. TexasA&amp;M\n",
       "19. UCBerkeley\n",
       "20. UChicago\n",
       "21. UMichigan\n",
       "22. UPenn\n",
       "23. UVA\n",
       "24. UWisconsin\n",
       "25. Yale\n",
       "\n",
       "\n",
       "\n",
       "**Levels**: 1. 'Brown'\n",
       "2. 'CalTech'\n",
       "3. 'CMU'\n",
       "4. 'Columbia'\n",
       "5. 'Cornell'\n",
       "6. 'Dartmouth'\n",
       "7. 'Duke'\n",
       "8. 'Georgetown'\n",
       "9. 'Harvard'\n",
       "10. 'JohnsHopkins'\n",
       "11. 'MIT'\n",
       "12. 'Northwestern'\n",
       "13. 'NotreDame'\n",
       "14. 'PennState'\n",
       "15. 'Princeton'\n",
       "16. 'Purdue'\n",
       "17. 'Stanford'\n",
       "18. 'TexasA&amp;M'\n",
       "19. 'UCBerkeley'\n",
       "20. 'UChicago'\n",
       "21. 'UMichigan'\n",
       "22. 'UPenn'\n",
       "23. 'UVA'\n",
       "24. 'UWisconsin'\n",
       "25. 'Yale'\n",
       "\n",
       "\n"
      ],
      "text/plain": [
       " [1] Brown        CalTech      CMU          Columbia     Cornell     \n",
       " [6] Dartmouth    Duke         Georgetown   Harvard      JohnsHopkins\n",
       "[11] MIT          Northwestern NotreDame    PennState    Princeton   \n",
       "[16] Purdue       Stanford     TexasA&M     UCBerkeley   UChicago    \n",
       "[21] UMichigan    UPenn        UVA          UWisconsin   Yale        \n",
       "25 Levels: Brown CalTech CMU Columbia Cornell Dartmouth Duke ... Yale"
      ]
     },
     "metadata": {},
     "output_type": "display_data"
    }
   ],
   "source": [
    "colnames(mydata) # names of different columns \n",
    "rownames(mydata) # we can see the row names below\n",
    "mydata[,1] # voewing level in 1st column  level as facto view different university present "
   ]
  },
  {
   "cell_type": "code",
   "execution_count": 24,
   "metadata": {},
   "outputs": [
    {
     "data": {
      "text/html": [
       "<style>\n",
       ".list-inline {list-style: none; margin:0; padding: 0}\n",
       ".list-inline>li {display: inline-block}\n",
       ".list-inline>li:not(:last-child)::after {content: \"\\00b7\"; padding: 0 .5ex}\n",
       "</style>\n",
       "<ol class=list-inline><li>'1'</li><li>'2'</li><li>'3'</li><li>'4'</li><li>'5'</li><li>'6'</li><li>'7'</li><li>'8'</li><li>'9'</li><li>'10'</li><li>'11'</li><li>'12'</li><li>'13'</li><li>'14'</li><li>'15'</li><li>'16'</li><li>'17'</li><li>'18'</li><li>'19'</li><li>'20'</li><li>'21'</li><li>'22'</li><li>'23'</li><li>'24'</li><li>'25'</li></ol>\n"
      ],
      "text/latex": [
       "\\begin{enumerate*}\n",
       "\\item '1'\n",
       "\\item '2'\n",
       "\\item '3'\n",
       "\\item '4'\n",
       "\\item '5'\n",
       "\\item '6'\n",
       "\\item '7'\n",
       "\\item '8'\n",
       "\\item '9'\n",
       "\\item '10'\n",
       "\\item '11'\n",
       "\\item '12'\n",
       "\\item '13'\n",
       "\\item '14'\n",
       "\\item '15'\n",
       "\\item '16'\n",
       "\\item '17'\n",
       "\\item '18'\n",
       "\\item '19'\n",
       "\\item '20'\n",
       "\\item '21'\n",
       "\\item '22'\n",
       "\\item '23'\n",
       "\\item '24'\n",
       "\\item '25'\n",
       "\\end{enumerate*}\n"
      ],
      "text/markdown": [
       "1. '1'\n",
       "2. '2'\n",
       "3. '3'\n",
       "4. '4'\n",
       "5. '5'\n",
       "6. '6'\n",
       "7. '7'\n",
       "8. '8'\n",
       "9. '9'\n",
       "10. '10'\n",
       "11. '11'\n",
       "12. '12'\n",
       "13. '13'\n",
       "14. '14'\n",
       "15. '15'\n",
       "16. '16'\n",
       "17. '17'\n",
       "18. '18'\n",
       "19. '19'\n",
       "20. '20'\n",
       "21. '21'\n",
       "22. '22'\n",
       "23. '23'\n",
       "24. '24'\n",
       "25. '25'\n",
       "\n",
       "\n"
      ],
      "text/plain": [
       " [1] \"1\"  \"2\"  \"3\"  \"4\"  \"5\"  \"6\"  \"7\"  \"8\"  \"9\"  \"10\" \"11\" \"12\" \"13\" \"14\" \"15\"\n",
       "[16] \"16\" \"17\" \"18\" \"19\" \"20\" \"21\" \"22\" \"23\" \"24\" \"25\""
      ]
     },
     "metadata": {},
     "output_type": "display_data"
    }
   ],
   "source": [
    "# our first column leves convert it to tow transpose method but i will make column as index\n",
    "row.names(mydata) #currently we have numbers as rownames lets change it"
   ]
  },
  {
   "cell_type": "code",
   "execution_count": 25,
   "metadata": {},
   "outputs": [
    {
     "data": {
      "text/html": [
       "0"
      ],
      "text/latex": [
       "0"
      ],
      "text/markdown": [
       "0"
      ],
      "text/plain": [
       "[1] 0"
      ]
     },
     "metadata": {},
     "output_type": "display_data"
    }
   ],
   "source": [
    "sum(na.omit(mydata)==T) # thre is no NA value we have checked our data \n"
   ]
  },
  {
   "cell_type": "code",
   "execution_count": 26,
   "metadata": {},
   "outputs": [],
   "source": [
    "row.names(mydata)  <- mydata[,1] # column names changed "
   ]
  },
  {
   "cell_type": "code",
   "execution_count": 27,
   "metadata": {},
   "outputs": [
    {
     "data": {
      "text/html": [
       "<table>\n",
       "<caption>A data.frame: 6 × 7</caption>\n",
       "<thead>\n",
       "\t<tr><th></th><th scope=col>Univ</th><th scope=col>SAT</th><th scope=col>Top10</th><th scope=col>Accept</th><th scope=col>SFRatio</th><th scope=col>Expenses</th><th scope=col>GradRate</th></tr>\n",
       "\t<tr><th></th><th scope=col>&lt;fct&gt;</th><th scope=col>&lt;int&gt;</th><th scope=col>&lt;int&gt;</th><th scope=col>&lt;int&gt;</th><th scope=col>&lt;int&gt;</th><th scope=col>&lt;int&gt;</th><th scope=col>&lt;int&gt;</th></tr>\n",
       "</thead>\n",
       "<tbody>\n",
       "\t<tr><th scope=row>Brown</th><td>Brown    </td><td>1310</td><td> 89</td><td>22</td><td>13</td><td>22704</td><td>94</td></tr>\n",
       "\t<tr><th scope=row>CalTech</th><td>CalTech  </td><td>1415</td><td>100</td><td>25</td><td> 6</td><td>63575</td><td>81</td></tr>\n",
       "\t<tr><th scope=row>CMU</th><td>CMU      </td><td>1260</td><td> 62</td><td>59</td><td> 9</td><td>25026</td><td>72</td></tr>\n",
       "\t<tr><th scope=row>Columbia</th><td>Columbia </td><td>1310</td><td> 76</td><td>24</td><td>12</td><td>31510</td><td>88</td></tr>\n",
       "\t<tr><th scope=row>Cornell</th><td>Cornell  </td><td>1280</td><td> 83</td><td>33</td><td>13</td><td>21864</td><td>90</td></tr>\n",
       "\t<tr><th scope=row>Dartmouth</th><td>Dartmouth</td><td>1340</td><td> 89</td><td>23</td><td>10</td><td>32162</td><td>95</td></tr>\n",
       "</tbody>\n",
       "</table>\n"
      ],
      "text/latex": [
       "A data.frame: 6 × 7\n",
       "\\begin{tabular}{r|lllllll}\n",
       "  & Univ & SAT & Top10 & Accept & SFRatio & Expenses & GradRate\\\\\n",
       "  & <fct> & <int> & <int> & <int> & <int> & <int> & <int>\\\\\n",
       "\\hline\n",
       "\tBrown & Brown     & 1310 &  89 & 22 & 13 & 22704 & 94\\\\\n",
       "\tCalTech & CalTech   & 1415 & 100 & 25 &  6 & 63575 & 81\\\\\n",
       "\tCMU & CMU       & 1260 &  62 & 59 &  9 & 25026 & 72\\\\\n",
       "\tColumbia & Columbia  & 1310 &  76 & 24 & 12 & 31510 & 88\\\\\n",
       "\tCornell & Cornell   & 1280 &  83 & 33 & 13 & 21864 & 90\\\\\n",
       "\tDartmouth & Dartmouth & 1340 &  89 & 23 & 10 & 32162 & 95\\\\\n",
       "\\end{tabular}\n"
      ],
      "text/markdown": [
       "\n",
       "A data.frame: 6 × 7\n",
       "\n",
       "| <!--/--> | Univ &lt;fct&gt; | SAT &lt;int&gt; | Top10 &lt;int&gt; | Accept &lt;int&gt; | SFRatio &lt;int&gt; | Expenses &lt;int&gt; | GradRate &lt;int&gt; |\n",
       "|---|---|---|---|---|---|---|---|\n",
       "| Brown | Brown     | 1310 |  89 | 22 | 13 | 22704 | 94 |\n",
       "| CalTech | CalTech   | 1415 | 100 | 25 |  6 | 63575 | 81 |\n",
       "| CMU | CMU       | 1260 |  62 | 59 |  9 | 25026 | 72 |\n",
       "| Columbia | Columbia  | 1310 |  76 | 24 | 12 | 31510 | 88 |\n",
       "| Cornell | Cornell   | 1280 |  83 | 33 | 13 | 21864 | 90 |\n",
       "| Dartmouth | Dartmouth | 1340 |  89 | 23 | 10 | 32162 | 95 |\n",
       "\n"
      ],
      "text/plain": [
       "          Univ      SAT  Top10 Accept SFRatio Expenses GradRate\n",
       "Brown     Brown     1310  89   22     13      22704    94      \n",
       "CalTech   CalTech   1415 100   25      6      63575    81      \n",
       "CMU       CMU       1260  62   59      9      25026    72      \n",
       "Columbia  Columbia  1310  76   24     12      31510    88      \n",
       "Cornell   Cornell   1280  83   33     13      21864    90      \n",
       "Dartmouth Dartmouth 1340  89   23     10      32162    95      "
      ]
     },
     "metadata": {},
     "output_type": "display_data"
    }
   ],
   "source": [
    "head(mydata) # as we can see successfully changed column to row by names"
   ]
  },
  {
   "cell_type": "code",
   "execution_count": 28,
   "metadata": {},
   "outputs": [],
   "source": [
    "mydata  <- mydata[,-1] # removing first columns from the data which is factor "
   ]
  },
  {
   "cell_type": "code",
   "execution_count": 29,
   "metadata": {},
   "outputs": [
    {
     "data": {
      "text/html": [
       "<table>\n",
       "<caption>A data.frame: 6 × 6</caption>\n",
       "<thead>\n",
       "\t<tr><th></th><th scope=col>SAT</th><th scope=col>Top10</th><th scope=col>Accept</th><th scope=col>SFRatio</th><th scope=col>Expenses</th><th scope=col>GradRate</th></tr>\n",
       "\t<tr><th></th><th scope=col>&lt;int&gt;</th><th scope=col>&lt;int&gt;</th><th scope=col>&lt;int&gt;</th><th scope=col>&lt;int&gt;</th><th scope=col>&lt;int&gt;</th><th scope=col>&lt;int&gt;</th></tr>\n",
       "</thead>\n",
       "<tbody>\n",
       "\t<tr><th scope=row>UChicago</th><td>1290</td><td>75</td><td>50</td><td>13</td><td>38380</td><td>87</td></tr>\n",
       "\t<tr><th scope=row>UMichigan</th><td>1180</td><td>65</td><td>68</td><td>16</td><td>15470</td><td>85</td></tr>\n",
       "\t<tr><th scope=row>UPenn</th><td>1285</td><td>80</td><td>36</td><td>11</td><td>27553</td><td>90</td></tr>\n",
       "\t<tr><th scope=row>UVA</th><td>1225</td><td>77</td><td>44</td><td>14</td><td>13349</td><td>92</td></tr>\n",
       "\t<tr><th scope=row>UWisconsin</th><td>1085</td><td>40</td><td>69</td><td>15</td><td>11857</td><td>71</td></tr>\n",
       "\t<tr><th scope=row>Yale</th><td>1375</td><td>95</td><td>19</td><td>11</td><td>43514</td><td>96</td></tr>\n",
       "</tbody>\n",
       "</table>\n"
      ],
      "text/latex": [
       "A data.frame: 6 × 6\n",
       "\\begin{tabular}{r|llllll}\n",
       "  & SAT & Top10 & Accept & SFRatio & Expenses & GradRate\\\\\n",
       "  & <int> & <int> & <int> & <int> & <int> & <int>\\\\\n",
       "\\hline\n",
       "\tUChicago & 1290 & 75 & 50 & 13 & 38380 & 87\\\\\n",
       "\tUMichigan & 1180 & 65 & 68 & 16 & 15470 & 85\\\\\n",
       "\tUPenn & 1285 & 80 & 36 & 11 & 27553 & 90\\\\\n",
       "\tUVA & 1225 & 77 & 44 & 14 & 13349 & 92\\\\\n",
       "\tUWisconsin & 1085 & 40 & 69 & 15 & 11857 & 71\\\\\n",
       "\tYale & 1375 & 95 & 19 & 11 & 43514 & 96\\\\\n",
       "\\end{tabular}\n"
      ],
      "text/markdown": [
       "\n",
       "A data.frame: 6 × 6\n",
       "\n",
       "| <!--/--> | SAT &lt;int&gt; | Top10 &lt;int&gt; | Accept &lt;int&gt; | SFRatio &lt;int&gt; | Expenses &lt;int&gt; | GradRate &lt;int&gt; |\n",
       "|---|---|---|---|---|---|---|\n",
       "| UChicago | 1290 | 75 | 50 | 13 | 38380 | 87 |\n",
       "| UMichigan | 1180 | 65 | 68 | 16 | 15470 | 85 |\n",
       "| UPenn | 1285 | 80 | 36 | 11 | 27553 | 90 |\n",
       "| UVA | 1225 | 77 | 44 | 14 | 13349 | 92 |\n",
       "| UWisconsin | 1085 | 40 | 69 | 15 | 11857 | 71 |\n",
       "| Yale | 1375 | 95 | 19 | 11 | 43514 | 96 |\n",
       "\n"
      ],
      "text/plain": [
       "           SAT  Top10 Accept SFRatio Expenses GradRate\n",
       "UChicago   1290 75    50     13      38380    87      \n",
       "UMichigan  1180 65    68     16      15470    85      \n",
       "UPenn      1285 80    36     11      27553    90      \n",
       "UVA        1225 77    44     14      13349    92      \n",
       "UWisconsin 1085 40    69     15      11857    71      \n",
       "Yale       1375 95    19     11      43514    96      "
      ]
     },
     "metadata": {},
     "output_type": "display_data"
    }
   ],
   "source": [
    "tail(mydata)# checking tail and checking also data is adjusted or not\n",
    "# as we can see the data SAT ,Expeses are showing higer value and othe are type % and ratio\n",
    "# to do further annalysis we need to make the huge difference to some same kind  of unit \n",
    "# a comparable unit so it is needed to normalize our data before further processing "
   ]
  },
  {
   "cell_type": "code",
   "execution_count": 30,
   "metadata": {},
   "outputs": [
    {
     "name": "stdout",
     "output_type": "stream",
     "text": [
      "'data.frame':\t25 obs. of  6 variables:\n",
      " $ SAT     : int  1310 1415 1260 1310 1280 1340 1315 1255 1400 1305 ...\n",
      " $ Top10   : int  89 100 62 76 83 89 90 74 91 75 ...\n",
      " $ Accept  : int  22 25 59 24 33 23 30 24 14 44 ...\n",
      " $ SFRatio : int  13 6 9 12 13 10 12 12 11 7 ...\n",
      " $ Expenses: int  22704 63575 25026 31510 21864 32162 31585 20126 39525 58691 ...\n",
      " $ GradRate: int  94 81 72 88 90 95 95 92 97 87 ...\n"
     ]
    }
   ],
   "source": [
    "str(mydata) # all data are of integer type  we have now 6 int value and it is shifted to row "
   ]
  },
  {
   "cell_type": "code",
   "execution_count": 31,
   "metadata": {},
   "outputs": [],
   "source": [
    "# primary data correlation visualization to see the reationship \n",
    "#SAT relation ship exist with other variables "
   ]
  },
  {
   "cell_type": "markdown",
   "metadata": {},
   "source": [
    "# Correlation plot Annalysis"
   ]
  },
  {
   "cell_type": "code",
   "execution_count": 32,
   "metadata": {},
   "outputs": [
    {
     "name": "stderr",
     "output_type": "stream",
     "text": [
      "corrplot 0.84 loaded\n",
      "\n"
     ]
    },
    {
     "data": {
      "text/html": [
       "<table>\n",
       "<caption>A matrix: 6 × 6 of type dbl</caption>\n",
       "<thead>\n",
       "\t<tr><th></th><th scope=col>SAT</th><th scope=col>Top10</th><th scope=col>Accept</th><th scope=col>SFRatio</th><th scope=col>Expenses</th><th scope=col>GradRate</th></tr>\n",
       "</thead>\n",
       "<tbody>\n",
       "\t<tr><th scope=row>SAT</th><td> 1.0000000</td><td> 0.9225222</td><td>-0.8858496</td><td>-0.8125517</td><td> 0.7789760</td><td> 0.7477120</td></tr>\n",
       "\t<tr><th scope=row>Top10</th><td> 0.9225222</td><td> 1.0000000</td><td>-0.8591811</td><td>-0.6434351</td><td> 0.6114666</td><td> 0.7459420</td></tr>\n",
       "\t<tr><th scope=row>Accept</th><td>-0.8858496</td><td>-0.8591811</td><td> 1.0000000</td><td> 0.6316636</td><td>-0.5584395</td><td>-0.8195495</td></tr>\n",
       "\t<tr><th scope=row>SFRatio</th><td>-0.8125517</td><td>-0.6434351</td><td> 0.6316636</td><td> 1.0000000</td><td>-0.7818394</td><td>-0.5609217</td></tr>\n",
       "\t<tr><th scope=row>Expenses</th><td> 0.7789760</td><td> 0.6114666</td><td>-0.5584395</td><td>-0.7818394</td><td> 1.0000000</td><td> 0.3935914</td></tr>\n",
       "\t<tr><th scope=row>GradRate</th><td> 0.7477120</td><td> 0.7459420</td><td>-0.8195495</td><td>-0.5609217</td><td> 0.3935914</td><td> 1.0000000</td></tr>\n",
       "</tbody>\n",
       "</table>\n"
      ],
      "text/latex": [
       "A matrix: 6 × 6 of type dbl\n",
       "\\begin{tabular}{r|llllll}\n",
       "  & SAT & Top10 & Accept & SFRatio & Expenses & GradRate\\\\\n",
       "\\hline\n",
       "\tSAT &  1.0000000 &  0.9225222 & -0.8858496 & -0.8125517 &  0.7789760 &  0.7477120\\\\\n",
       "\tTop10 &  0.9225222 &  1.0000000 & -0.8591811 & -0.6434351 &  0.6114666 &  0.7459420\\\\\n",
       "\tAccept & -0.8858496 & -0.8591811 &  1.0000000 &  0.6316636 & -0.5584395 & -0.8195495\\\\\n",
       "\tSFRatio & -0.8125517 & -0.6434351 &  0.6316636 &  1.0000000 & -0.7818394 & -0.5609217\\\\\n",
       "\tExpenses &  0.7789760 &  0.6114666 & -0.5584395 & -0.7818394 &  1.0000000 &  0.3935914\\\\\n",
       "\tGradRate &  0.7477120 &  0.7459420 & -0.8195495 & -0.5609217 &  0.3935914 &  1.0000000\\\\\n",
       "\\end{tabular}\n"
      ],
      "text/markdown": [
       "\n",
       "A matrix: 6 × 6 of type dbl\n",
       "\n",
       "| <!--/--> | SAT | Top10 | Accept | SFRatio | Expenses | GradRate |\n",
       "|---|---|---|---|---|---|---|\n",
       "| SAT |  1.0000000 |  0.9225222 | -0.8858496 | -0.8125517 |  0.7789760 |  0.7477120 |\n",
       "| Top10 |  0.9225222 |  1.0000000 | -0.8591811 | -0.6434351 |  0.6114666 |  0.7459420 |\n",
       "| Accept | -0.8858496 | -0.8591811 |  1.0000000 |  0.6316636 | -0.5584395 | -0.8195495 |\n",
       "| SFRatio | -0.8125517 | -0.6434351 |  0.6316636 |  1.0000000 | -0.7818394 | -0.5609217 |\n",
       "| Expenses |  0.7789760 |  0.6114666 | -0.5584395 | -0.7818394 |  1.0000000 |  0.3935914 |\n",
       "| GradRate |  0.7477120 |  0.7459420 | -0.8195495 | -0.5609217 |  0.3935914 |  1.0000000 |\n",
       "\n"
      ],
      "text/plain": [
       "         SAT        Top10      Accept     SFRatio    Expenses   GradRate  \n",
       "SAT       1.0000000  0.9225222 -0.8858496 -0.8125517  0.7789760  0.7477120\n",
       "Top10     0.9225222  1.0000000 -0.8591811 -0.6434351  0.6114666  0.7459420\n",
       "Accept   -0.8858496 -0.8591811  1.0000000  0.6316636 -0.5584395 -0.8195495\n",
       "SFRatio  -0.8125517 -0.6434351  0.6316636  1.0000000 -0.7818394 -0.5609217\n",
       "Expenses  0.7789760  0.6114666 -0.5584395 -0.7818394  1.0000000  0.3935914\n",
       "GradRate  0.7477120  0.7459420 -0.8195495 -0.5609217  0.3935914  1.0000000"
      ]
     },
     "metadata": {},
     "output_type": "display_data"
    },
    {
     "data": {
      "image/png": "[encoded data removed]",
      "text/plain": [
       "Plot with title \"\""
      ]
     },
     "metadata": {
      "image/png": {
       "height": 420,
       "width": 420
      },
      "text/plain": {
       "height": 420,
       "width": 420
      }
     },
     "output_type": "display_data"
    }
   ],
   "source": [
    "# priliminary data corelation visualization \n",
    "library(corrplot)\n",
    "cor <- cor(mydata)\n",
    "cor # correlatio of each variable\n",
    "corrplot(cor,method = 'circle') # asd we can see the realtionship between variables\n",
    "# likeky we can see the SAT is some hwo increasing to decreasing relationship from Top10 to GradRate "
   ]
  },
  {
   "cell_type": "code",
   "execution_count": 33,
   "metadata": {},
   "outputs": [
    {
     "data": {
      "text/html": [
       "<table>\n",
       "<caption>A matrix: 6 × 6 of type dbl</caption>\n",
       "<thead>\n",
       "\t<tr><th></th><th scope=col>SAT</th><th scope=col>Top10</th><th scope=col>Accept</th><th scope=col>SFRatio</th><th scope=col>Expenses</th><th scope=col>GradRate</th></tr>\n",
       "</thead>\n",
       "<tbody>\n",
       "\t<tr><th scope=row>Brown</th><td> 0.40199420</td><td> 0.6442349</td><td>-0.8718879</td><td> 0.0688409</td><td>-0.3247167</td><td> 0.8037292</td></tr>\n",
       "\t<tr><th scope=row>CalTech</th><td> 1.37098850</td><td> 1.2102560</td><td>-0.7198144</td><td>-1.6521815</td><td> 2.5086512</td><td>-0.6315015</td></tr>\n",
       "\t<tr><th scope=row>CMU</th><td>-0.05943165</td><td>-0.7450896</td><td> 1.0036849</td><td>-0.9146005</td><td>-0.1637448</td><td>-1.6251227</td></tr>\n",
       "\t<tr><th scope=row>Columbia</th><td> 0.40199420</td><td>-0.0246991</td><td>-0.7705055</td><td>-0.1770194</td><td> 0.2857562</td><td> 0.1413150</td></tr>\n",
       "\t<tr><th scope=row>Cornell</th><td> 0.12513869</td><td> 0.3354961</td><td>-0.3142852</td><td> 0.0688409</td><td>-0.3829494</td><td> 0.3621197</td></tr>\n",
       "\t<tr><th scope=row>Dartmouth</th><td> 0.67884972</td><td> 0.6442349</td><td>-0.8211967</td><td>-0.6687401</td><td> 0.3309559</td><td> 0.9141315</td></tr>\n",
       "</tbody>\n",
       "</table>\n"
      ],
      "text/latex": [
       "A matrix: 6 × 6 of type dbl\n",
       "\\begin{tabular}{r|llllll}\n",
       "  & SAT & Top10 & Accept & SFRatio & Expenses & GradRate\\\\\n",
       "\\hline\n",
       "\tBrown &  0.40199420 &  0.6442349 & -0.8718879 &  0.0688409 & -0.3247167 &  0.8037292\\\\\n",
       "\tCalTech &  1.37098850 &  1.2102560 & -0.7198144 & -1.6521815 &  2.5086512 & -0.6315015\\\\\n",
       "\tCMU & -0.05943165 & -0.7450896 &  1.0036849 & -0.9146005 & -0.1637448 & -1.6251227\\\\\n",
       "\tColumbia &  0.40199420 & -0.0246991 & -0.7705055 & -0.1770194 &  0.2857562 &  0.1413150\\\\\n",
       "\tCornell &  0.12513869 &  0.3354961 & -0.3142852 &  0.0688409 & -0.3829494 &  0.3621197\\\\\n",
       "\tDartmouth &  0.67884972 &  0.6442349 & -0.8211967 & -0.6687401 &  0.3309559 &  0.9141315\\\\\n",
       "\\end{tabular}\n"
      ],
      "text/markdown": [
       "\n",
       "A matrix: 6 × 6 of type dbl\n",
       "\n",
       "| <!--/--> | SAT | Top10 | Accept | SFRatio | Expenses | GradRate |\n",
       "|---|---|---|---|---|---|---|\n",
       "| Brown |  0.40199420 |  0.6442349 | -0.8718879 |  0.0688409 | -0.3247167 |  0.8037292 |\n",
       "| CalTech |  1.37098850 |  1.2102560 | -0.7198144 | -1.6521815 |  2.5086512 | -0.6315015 |\n",
       "| CMU | -0.05943165 | -0.7450896 |  1.0036849 | -0.9146005 | -0.1637448 | -1.6251227 |\n",
       "| Columbia |  0.40199420 | -0.0246991 | -0.7705055 | -0.1770194 |  0.2857562 |  0.1413150 |\n",
       "| Cornell |  0.12513869 |  0.3354961 | -0.3142852 |  0.0688409 | -0.3829494 |  0.3621197 |\n",
       "| Dartmouth |  0.67884972 |  0.6442349 | -0.8211967 | -0.6687401 |  0.3309559 |  0.9141315 |\n",
       "\n"
      ],
      "text/plain": [
       "          SAT         Top10      Accept     SFRatio    Expenses   GradRate  \n",
       "Brown      0.40199420  0.6442349 -0.8718879  0.0688409 -0.3247167  0.8037292\n",
       "CalTech    1.37098850  1.2102560 -0.7198144 -1.6521815  2.5086512 -0.6315015\n",
       "CMU       -0.05943165 -0.7450896  1.0036849 -0.9146005 -0.1637448 -1.6251227\n",
       "Columbia   0.40199420 -0.0246991 -0.7705055 -0.1770194  0.2857562  0.1413150\n",
       "Cornell    0.12513869  0.3354961 -0.3142852  0.0688409 -0.3829494  0.3621197\n",
       "Dartmouth  0.67884972  0.6442349 -0.8211967 -0.6687401  0.3309559  0.9141315"
      ]
     },
     "metadata": {},
     "output_type": "display_data"
    }
   ],
   "source": [
    "# Scaling my data to normal \n",
    "mydata_normal  <-  scale(mydata)\n",
    "head(mydata_normal) # we can see all column and university data as normal "
   ]
  },
  {
   "cell_type": "code",
   "execution_count": 34,
   "metadata": {},
   "outputs": [],
   "source": [
    "#dist(mydata_normal) # looking at distance of normal data what we made"
   ]
  },
  {
   "cell_type": "code",
   "execution_count": 35,
   "metadata": {},
   "outputs": [
    {
     "data": {
      "text/html": [
       "<table>\n",
       "<caption>A matrix: 6 × 25 of type dbl</caption>\n",
       "<thead>\n",
       "\t<tr><th></th><th scope=col>Brown</th><th scope=col>CalTech</th><th scope=col>CMU</th><th scope=col>Columbia</th><th scope=col>Cornell</th><th scope=col>Dartmouth</th><th scope=col>Duke</th><th scope=col>Georgetown</th><th scope=col>Harvard</th><th scope=col>JohnsHopkins</th><th scope=col>...</th><th scope=col>Purdue</th><th scope=col>Stanford</th><th scope=col>TexasA&amp;M</th><th scope=col>UCBerkeley</th><th scope=col>UChicago</th><th scope=col>UMichigan</th><th scope=col>UPenn</th><th scope=col>UVA</th><th scope=col>UWisconsin</th><th scope=col>Yale</th></tr>\n",
       "</thead>\n",
       "<tbody>\n",
       "\t<tr><th scope=row>Brown</th><td>0.0000000</td><td>3.785794</td><td>3.543064</td><td>1.1531123</td><td>0.8254086</td><td>1.032153</td><td>0.7879842</td><td>1.0023943</td><td>1.6050500</td><td>3.280561</td><td>...</td><td>6.351737</td><td>1.0984372</td><td>5.716208</td><td>2.389059</td><td>2.084664</td><td>3.191313</td><td>1.1494113</td><td>1.664355</td><td>4.857991</td><td>1.6882067</td></tr>\n",
       "\t<tr><th scope=row>CalTech</th><td>3.7857938</td><td>0.000000</td><td>4.184846</td><td>3.1908062</td><td>3.8460831</td><td>2.984662</td><td>3.2655674</td><td>4.0861104</td><td>2.8206003</td><td>2.055932</td><td>...</td><td>8.071500</td><td>2.8379459</td><td>7.742413</td><td>4.685166</td><td>3.323102</td><td>5.482610</td><td>3.3976259</td><td>4.782244</td><td>6.538419</td><td>2.5461162</td></tr>\n",
       "\t<tr><th scope=row>CMU</th><td>3.5430636</td><td>4.184846</td><td>0.000000</td><td>2.7831649</td><td>2.8112483</td><td>3.543792</td><td>3.4195166</td><td>3.0109877</td><td>4.2390400</td><td>3.103067</td><td>...</td><td>4.294960</td><td>3.6581824</td><td>4.537210</td><td>2.936362</td><td>2.301935</td><td>2.497537</td><td>2.5479464</td><td>2.884473</td><td>2.677390</td><td>4.1262865</td></tr>\n",
       "\t<tr><th scope=row>Columbia</th><td>1.1531123</td><td>3.190806</td><td>2.783165</td><td>0.0000000</td><td>0.9853405</td><td>1.169517</td><td>1.1003951</td><td>1.0421418</td><td>1.7026482</td><td>2.471158</td><td>...</td><td>5.916000</td><td>1.0931552</td><td>5.429096</td><td>2.459450</td><td>1.439868</td><td>3.007946</td><td>0.8062669</td><td>1.915126</td><td>4.343872</td><td>1.7067347</td></tr>\n",
       "\t<tr><th scope=row>Cornell</th><td>0.8254086</td><td>3.846083</td><td>2.811248</td><td>0.9853405</td><td>0.0000000</td><td>1.420309</td><td>1.0375485</td><td>0.7743085</td><td>2.1590538</td><td>3.055702</td><td>...</td><td>5.580073</td><td>1.5171256</td><td>5.059139</td><td>1.892899</td><td>1.530108</td><td>2.429508</td><td>0.6681441</td><td>1.059019</td><td>4.072776</td><td>2.1416714</td></tr>\n",
       "\t<tr><th scope=row>Dartmouth</th><td>1.0321529</td><td>2.984662</td><td>3.543792</td><td>1.1695165</td><td>1.4203093</td><td>0.000000</td><td>0.6520549</td><td>1.5037735</td><td>0.9460827</td><td>2.542228</td><td>...</td><td>6.829665</td><td>0.6623822</td><td>6.402583</td><td>3.092982</td><td>2.028552</td><td>3.693614</td><td>1.1720119</td><td>2.327786</td><td>5.276907</td><td>0.9657764</td></tr>\n",
       "</tbody>\n",
       "</table>\n"
      ],
      "text/latex": [
       "A matrix: 6 × 25 of type dbl\n",
       "\\begin{tabular}{r|lllllllllllllllllllll}\n",
       "  & Brown & CalTech & CMU & Columbia & Cornell & Dartmouth & Duke & Georgetown & Harvard & JohnsHopkins & ... & Purdue & Stanford & TexasA\\&M & UCBerkeley & UChicago & UMichigan & UPenn & UVA & UWisconsin & Yale\\\\\n",
       "\\hline\n",
       "\tBrown & 0.0000000 & 3.785794 & 3.543064 & 1.1531123 & 0.8254086 & 1.032153 & 0.7879842 & 1.0023943 & 1.6050500 & 3.280561 & ... & 6.351737 & 1.0984372 & 5.716208 & 2.389059 & 2.084664 & 3.191313 & 1.1494113 & 1.664355 & 4.857991 & 1.6882067\\\\\n",
       "\tCalTech & 3.7857938 & 0.000000 & 4.184846 & 3.1908062 & 3.8460831 & 2.984662 & 3.2655674 & 4.0861104 & 2.8206003 & 2.055932 & ... & 8.071500 & 2.8379459 & 7.742413 & 4.685166 & 3.323102 & 5.482610 & 3.3976259 & 4.782244 & 6.538419 & 2.5461162\\\\\n",
       "\tCMU & 3.5430636 & 4.184846 & 0.000000 & 2.7831649 & 2.8112483 & 3.543792 & 3.4195166 & 3.0109877 & 4.2390400 & 3.103067 & ... & 4.294960 & 3.6581824 & 4.537210 & 2.936362 & 2.301935 & 2.497537 & 2.5479464 & 2.884473 & 2.677390 & 4.1262865\\\\\n",
       "\tColumbia & 1.1531123 & 3.190806 & 2.783165 & 0.0000000 & 0.9853405 & 1.169517 & 1.1003951 & 1.0421418 & 1.7026482 & 2.471158 & ... & 5.916000 & 1.0931552 & 5.429096 & 2.459450 & 1.439868 & 3.007946 & 0.8062669 & 1.915126 & 4.343872 & 1.7067347\\\\\n",
       "\tCornell & 0.8254086 & 3.846083 & 2.811248 & 0.9853405 & 0.0000000 & 1.420309 & 1.0375485 & 0.7743085 & 2.1590538 & 3.055702 & ... & 5.580073 & 1.5171256 & 5.059139 & 1.892899 & 1.530108 & 2.429508 & 0.6681441 & 1.059019 & 4.072776 & 2.1416714\\\\\n",
       "\tDartmouth & 1.0321529 & 2.984662 & 3.543792 & 1.1695165 & 1.4203093 & 0.000000 & 0.6520549 & 1.5037735 & 0.9460827 & 2.542228 & ... & 6.829665 & 0.6623822 & 6.402583 & 3.092982 & 2.028552 & 3.693614 & 1.1720119 & 2.327786 & 5.276907 & 0.9657764\\\\\n",
       "\\end{tabular}\n"
      ],
      "text/markdown": [
       "\n",
       "A matrix: 6 × 25 of type dbl\n",
       "\n",
       "| <!--/--> | Brown | CalTech | CMU | Columbia | Cornell | Dartmouth | Duke | Georgetown | Harvard | JohnsHopkins | ... | Purdue | Stanford | TexasA&amp;M | UCBerkeley | UChicago | UMichigan | UPenn | UVA | UWisconsin | Yale |\n",
       "|---|---|---|---|---|---|---|---|---|---|---|---|---|---|---|---|---|---|---|---|---|---|\n",
       "| Brown | 0.0000000 | 3.785794 | 3.543064 | 1.1531123 | 0.8254086 | 1.032153 | 0.7879842 | 1.0023943 | 1.6050500 | 3.280561 | ... | 6.351737 | 1.0984372 | 5.716208 | 2.389059 | 2.084664 | 3.191313 | 1.1494113 | 1.664355 | 4.857991 | 1.6882067 |\n",
       "| CalTech | 3.7857938 | 0.000000 | 4.184846 | 3.1908062 | 3.8460831 | 2.984662 | 3.2655674 | 4.0861104 | 2.8206003 | 2.055932 | ... | 8.071500 | 2.8379459 | 7.742413 | 4.685166 | 3.323102 | 5.482610 | 3.3976259 | 4.782244 | 6.538419 | 2.5461162 |\n",
       "| CMU | 3.5430636 | 4.184846 | 0.000000 | 2.7831649 | 2.8112483 | 3.543792 | 3.4195166 | 3.0109877 | 4.2390400 | 3.103067 | ... | 4.294960 | 3.6581824 | 4.537210 | 2.936362 | 2.301935 | 2.497537 | 2.5479464 | 2.884473 | 2.677390 | 4.1262865 |\n",
       "| Columbia | 1.1531123 | 3.190806 | 2.783165 | 0.0000000 | 0.9853405 | 1.169517 | 1.1003951 | 1.0421418 | 1.7026482 | 2.471158 | ... | 5.916000 | 1.0931552 | 5.429096 | 2.459450 | 1.439868 | 3.007946 | 0.8062669 | 1.915126 | 4.343872 | 1.7067347 |\n",
       "| Cornell | 0.8254086 | 3.846083 | 2.811248 | 0.9853405 | 0.0000000 | 1.420309 | 1.0375485 | 0.7743085 | 2.1590538 | 3.055702 | ... | 5.580073 | 1.5171256 | 5.059139 | 1.892899 | 1.530108 | 2.429508 | 0.6681441 | 1.059019 | 4.072776 | 2.1416714 |\n",
       "| Dartmouth | 1.0321529 | 2.984662 | 3.543792 | 1.1695165 | 1.4203093 | 0.000000 | 0.6520549 | 1.5037735 | 0.9460827 | 2.542228 | ... | 6.829665 | 0.6623822 | 6.402583 | 3.092982 | 2.028552 | 3.693614 | 1.1720119 | 2.327786 | 5.276907 | 0.9657764 |\n",
       "\n"
      ],
      "text/plain": [
       "          Brown     CalTech  CMU      Columbia  Cornell   Dartmouth Duke     \n",
       "Brown     0.0000000 3.785794 3.543064 1.1531123 0.8254086 1.032153  0.7879842\n",
       "CalTech   3.7857938 0.000000 4.184846 3.1908062 3.8460831 2.984662  3.2655674\n",
       "CMU       3.5430636 4.184846 0.000000 2.7831649 2.8112483 3.543792  3.4195166\n",
       "Columbia  1.1531123 3.190806 2.783165 0.0000000 0.9853405 1.169517  1.1003951\n",
       "Cornell   0.8254086 3.846083 2.811248 0.9853405 0.0000000 1.420309  1.0375485\n",
       "Dartmouth 1.0321529 2.984662 3.543792 1.1695165 1.4203093 0.000000  0.6520549\n",
       "          Georgetown Harvard   JohnsHopkins ... Purdue   Stanford  TexasA&M\n",
       "Brown     1.0023943  1.6050500 3.280561     ... 6.351737 1.0984372 5.716208\n",
       "CalTech   4.0861104  2.8206003 2.055932     ... 8.071500 2.8379459 7.742413\n",
       "CMU       3.0109877  4.2390400 3.103067     ... 4.294960 3.6581824 4.537210\n",
       "Columbia  1.0421418  1.7026482 2.471158     ... 5.916000 1.0931552 5.429096\n",
       "Cornell   0.7743085  2.1590538 3.055702     ... 5.580073 1.5171256 5.059139\n",
       "Dartmouth 1.5037735  0.9460827 2.542228     ... 6.829665 0.6623822 6.402583\n",
       "          UCBerkeley UChicago UMichigan UPenn     UVA      UWisconsin Yale     \n",
       "Brown     2.389059   2.084664 3.191313  1.1494113 1.664355 4.857991   1.6882067\n",
       "CalTech   4.685166   3.323102 5.482610  3.3976259 4.782244 6.538419   2.5461162\n",
       "CMU       2.936362   2.301935 2.497537  2.5479464 2.884473 2.677390   4.1262865\n",
       "Columbia  2.459450   1.439868 3.007946  0.8062669 1.915126 4.343872   1.7067347\n",
       "Cornell   1.892899   1.530108 2.429508  0.6681441 1.059019 4.072776   2.1416714\n",
       "Dartmouth 3.092982   2.028552 3.693614  1.1720119 2.327786 5.276907   0.9657764"
      ]
     },
     "metadata": {},
     "output_type": "display_data"
    }
   ],
   "source": [
    "dist_mat  <- as.matrix(dist(mydata_normal)) # converted our data into a distance matrix form\n",
    "head(dist_mat) # distance matrix of our data"
   ]
  },
  {
   "cell_type": "code",
   "execution_count": 36,
   "metadata": {},
   "outputs": [
    {
     "data": {
      "text/html": [
       "<table>\n",
       "<caption>A matrix: 6 × 25 of type dbl</caption>\n",
       "<thead>\n",
       "\t<tr><th></th><th scope=col>Brown</th><th scope=col>CalTech</th><th scope=col>CMU</th><th scope=col>Columbia</th><th scope=col>Cornell</th><th scope=col>Dartmouth</th><th scope=col>Duke</th><th scope=col>Georgetown</th><th scope=col>Harvard</th><th scope=col>JohnsHopkins</th><th scope=col>...</th><th scope=col>Purdue</th><th scope=col>Stanford</th><th scope=col>TexasA&amp;M</th><th scope=col>UCBerkeley</th><th scope=col>UChicago</th><th scope=col>UMichigan</th><th scope=col>UPenn</th><th scope=col>UVA</th><th scope=col>UWisconsin</th><th scope=col>Yale</th></tr>\n",
       "</thead>\n",
       "<tbody>\n",
       "\t<tr><th scope=row>Brown</th><td>1.000000e+05</td><td>3.785794e+00</td><td>3.543064e+00</td><td>1.153112e+00</td><td>8.254086e-01</td><td>1.032153e+00</td><td>0.7879842</td><td>1.0023943</td><td>1.6050500</td><td>3.280561</td><td>...</td><td>6.351737</td><td>1.0984372</td><td>5.716208</td><td>2.389059</td><td>2.084664</td><td>3.191313</td><td>1.1494113</td><td>1.664355</td><td>4.857991</td><td>1.6882067</td></tr>\n",
       "\t<tr><th scope=row>CalTech</th><td>3.785794e+00</td><td>1.000000e+05</td><td>4.184846e+00</td><td>3.190806e+00</td><td>3.846083e+00</td><td>2.984662e+00</td><td>3.2655674</td><td>4.0861104</td><td>2.8206003</td><td>2.055932</td><td>...</td><td>8.071500</td><td>2.8379459</td><td>7.742413</td><td>4.685166</td><td>3.323102</td><td>5.482610</td><td>3.3976259</td><td>4.782244</td><td>6.538419</td><td>2.5461162</td></tr>\n",
       "\t<tr><th scope=row>CMU</th><td>3.543064e+00</td><td>4.184846e+00</td><td>1.000000e+05</td><td>2.783165e+00</td><td>2.811248e+00</td><td>3.543792e+00</td><td>3.4195166</td><td>3.0109877</td><td>4.2390400</td><td>3.103067</td><td>...</td><td>4.294960</td><td>3.6581824</td><td>4.537210</td><td>2.936362</td><td>2.301935</td><td>2.497537</td><td>2.5479464</td><td>2.884473</td><td>2.677390</td><td>4.1262865</td></tr>\n",
       "\t<tr><th scope=row>Columbia</th><td>1.153112e+00</td><td>3.190806e+00</td><td>2.783165e+00</td><td>1.000000e+05</td><td>9.853405e-01</td><td>1.169517e+00</td><td>1.1003951</td><td>1.0421418</td><td>1.7026482</td><td>2.471158</td><td>...</td><td>5.916000</td><td>1.0931552</td><td>5.429096</td><td>2.459450</td><td>1.439868</td><td>3.007946</td><td>0.8062669</td><td>1.915126</td><td>4.343872</td><td>1.7067347</td></tr>\n",
       "\t<tr><th scope=row>Cornell</th><td>8.254086e-01</td><td>3.846083e+00</td><td>2.811248e+00</td><td>9.853405e-01</td><td>1.000000e+05</td><td>1.420309e+00</td><td>1.0375485</td><td>0.7743085</td><td>2.1590538</td><td>3.055702</td><td>...</td><td>5.580073</td><td>1.5171256</td><td>5.059139</td><td>1.892899</td><td>1.530108</td><td>2.429508</td><td>0.6681441</td><td>1.059019</td><td>4.072776</td><td>2.1416714</td></tr>\n",
       "\t<tr><th scope=row>Dartmouth</th><td>1.032153e+00</td><td>2.984662e+00</td><td>3.543792e+00</td><td>1.169517e+00</td><td>1.420309e+00</td><td>1.000000e+05</td><td>0.6520549</td><td>1.5037735</td><td>0.9460827</td><td>2.542228</td><td>...</td><td>6.829665</td><td>0.6623822</td><td>6.402583</td><td>3.092982</td><td>2.028552</td><td>3.693614</td><td>1.1720119</td><td>2.327786</td><td>5.276907</td><td>0.9657764</td></tr>\n",
       "</tbody>\n",
       "</table>\n"
      ],
      "text/latex": [
       "A matrix: 6 × 25 of type dbl\n",
       "\\begin{tabular}{r|lllllllllllllllllllll}\n",
       "  & Brown & CalTech & CMU & Columbia & Cornell & Dartmouth & Duke & Georgetown & Harvard & JohnsHopkins & ... & Purdue & Stanford & TexasA\\&M & UCBerkeley & UChicago & UMichigan & UPenn & UVA & UWisconsin & Yale\\\\\n",
       "\\hline\n",
       "\tBrown & 1.000000e+05 & 3.785794e+00 & 3.543064e+00 & 1.153112e+00 & 8.254086e-01 & 1.032153e+00 & 0.7879842 & 1.0023943 & 1.6050500 & 3.280561 & ... & 6.351737 & 1.0984372 & 5.716208 & 2.389059 & 2.084664 & 3.191313 & 1.1494113 & 1.664355 & 4.857991 & 1.6882067\\\\\n",
       "\tCalTech & 3.785794e+00 & 1.000000e+05 & 4.184846e+00 & 3.190806e+00 & 3.846083e+00 & 2.984662e+00 & 3.2655674 & 4.0861104 & 2.8206003 & 2.055932 & ... & 8.071500 & 2.8379459 & 7.742413 & 4.685166 & 3.323102 & 5.482610 & 3.3976259 & 4.782244 & 6.538419 & 2.5461162\\\\\n",
       "\tCMU & 3.543064e+00 & 4.184846e+00 & 1.000000e+05 & 2.783165e+00 & 2.811248e+00 & 3.543792e+00 & 3.4195166 & 3.0109877 & 4.2390400 & 3.103067 & ... & 4.294960 & 3.6581824 & 4.537210 & 2.936362 & 2.301935 & 2.497537 & 2.5479464 & 2.884473 & 2.677390 & 4.1262865\\\\\n",
       "\tColumbia & 1.153112e+00 & 3.190806e+00 & 2.783165e+00 & 1.000000e+05 & 9.853405e-01 & 1.169517e+00 & 1.1003951 & 1.0421418 & 1.7026482 & 2.471158 & ... & 5.916000 & 1.0931552 & 5.429096 & 2.459450 & 1.439868 & 3.007946 & 0.8062669 & 1.915126 & 4.343872 & 1.7067347\\\\\n",
       "\tCornell & 8.254086e-01 & 3.846083e+00 & 2.811248e+00 & 9.853405e-01 & 1.000000e+05 & 1.420309e+00 & 1.0375485 & 0.7743085 & 2.1590538 & 3.055702 & ... & 5.580073 & 1.5171256 & 5.059139 & 1.892899 & 1.530108 & 2.429508 & 0.6681441 & 1.059019 & 4.072776 & 2.1416714\\\\\n",
       "\tDartmouth & 1.032153e+00 & 2.984662e+00 & 3.543792e+00 & 1.169517e+00 & 1.420309e+00 & 1.000000e+05 & 0.6520549 & 1.5037735 & 0.9460827 & 2.542228 & ... & 6.829665 & 0.6623822 & 6.402583 & 3.092982 & 2.028552 & 3.693614 & 1.1720119 & 2.327786 & 5.276907 & 0.9657764\\\\\n",
       "\\end{tabular}\n"
      ],
      "text/markdown": [
       "\n",
       "A matrix: 6 × 25 of type dbl\n",
       "\n",
       "| <!--/--> | Brown | CalTech | CMU | Columbia | Cornell | Dartmouth | Duke | Georgetown | Harvard | JohnsHopkins | ... | Purdue | Stanford | TexasA&amp;M | UCBerkeley | UChicago | UMichigan | UPenn | UVA | UWisconsin | Yale |\n",
       "|---|---|---|---|---|---|---|---|---|---|---|---|---|---|---|---|---|---|---|---|---|---|\n",
       "| Brown | 1.000000e+05 | 3.785794e+00 | 3.543064e+00 | 1.153112e+00 | 8.254086e-01 | 1.032153e+00 | 0.7879842 | 1.0023943 | 1.6050500 | 3.280561 | ... | 6.351737 | 1.0984372 | 5.716208 | 2.389059 | 2.084664 | 3.191313 | 1.1494113 | 1.664355 | 4.857991 | 1.6882067 |\n",
       "| CalTech | 3.785794e+00 | 1.000000e+05 | 4.184846e+00 | 3.190806e+00 | 3.846083e+00 | 2.984662e+00 | 3.2655674 | 4.0861104 | 2.8206003 | 2.055932 | ... | 8.071500 | 2.8379459 | 7.742413 | 4.685166 | 3.323102 | 5.482610 | 3.3976259 | 4.782244 | 6.538419 | 2.5461162 |\n",
       "| CMU | 3.543064e+00 | 4.184846e+00 | 1.000000e+05 | 2.783165e+00 | 2.811248e+00 | 3.543792e+00 | 3.4195166 | 3.0109877 | 4.2390400 | 3.103067 | ... | 4.294960 | 3.6581824 | 4.537210 | 2.936362 | 2.301935 | 2.497537 | 2.5479464 | 2.884473 | 2.677390 | 4.1262865 |\n",
       "| Columbia | 1.153112e+00 | 3.190806e+00 | 2.783165e+00 | 1.000000e+05 | 9.853405e-01 | 1.169517e+00 | 1.1003951 | 1.0421418 | 1.7026482 | 2.471158 | ... | 5.916000 | 1.0931552 | 5.429096 | 2.459450 | 1.439868 | 3.007946 | 0.8062669 | 1.915126 | 4.343872 | 1.7067347 |\n",
       "| Cornell | 8.254086e-01 | 3.846083e+00 | 2.811248e+00 | 9.853405e-01 | 1.000000e+05 | 1.420309e+00 | 1.0375485 | 0.7743085 | 2.1590538 | 3.055702 | ... | 5.580073 | 1.5171256 | 5.059139 | 1.892899 | 1.530108 | 2.429508 | 0.6681441 | 1.059019 | 4.072776 | 2.1416714 |\n",
       "| Dartmouth | 1.032153e+00 | 2.984662e+00 | 3.543792e+00 | 1.169517e+00 | 1.420309e+00 | 1.000000e+05 | 0.6520549 | 1.5037735 | 0.9460827 | 2.542228 | ... | 6.829665 | 0.6623822 | 6.402583 | 3.092982 | 2.028552 | 3.693614 | 1.1720119 | 2.327786 | 5.276907 | 0.9657764 |\n",
       "\n"
      ],
      "text/plain": [
       "          Brown        CalTech      CMU          Columbia     Cornell     \n",
       "Brown     1.000000e+05 3.785794e+00 3.543064e+00 1.153112e+00 8.254086e-01\n",
       "CalTech   3.785794e+00 1.000000e+05 4.184846e+00 3.190806e+00 3.846083e+00\n",
       "CMU       3.543064e+00 4.184846e+00 1.000000e+05 2.783165e+00 2.811248e+00\n",
       "Columbia  1.153112e+00 3.190806e+00 2.783165e+00 1.000000e+05 9.853405e-01\n",
       "Cornell   8.254086e-01 3.846083e+00 2.811248e+00 9.853405e-01 1.000000e+05\n",
       "Dartmouth 1.032153e+00 2.984662e+00 3.543792e+00 1.169517e+00 1.420309e+00\n",
       "          Dartmouth    Duke      Georgetown Harvard   JohnsHopkins ... Purdue  \n",
       "Brown     1.032153e+00 0.7879842 1.0023943  1.6050500 3.280561     ... 6.351737\n",
       "CalTech   2.984662e+00 3.2655674 4.0861104  2.8206003 2.055932     ... 8.071500\n",
       "CMU       3.543792e+00 3.4195166 3.0109877  4.2390400 3.103067     ... 4.294960\n",
       "Columbia  1.169517e+00 1.1003951 1.0421418  1.7026482 2.471158     ... 5.916000\n",
       "Cornell   1.420309e+00 1.0375485 0.7743085  2.1590538 3.055702     ... 5.580073\n",
       "Dartmouth 1.000000e+05 0.6520549 1.5037735  0.9460827 2.542228     ... 6.829665\n",
       "          Stanford  TexasA&M UCBerkeley UChicago UMichigan UPenn     UVA     \n",
       "Brown     1.0984372 5.716208 2.389059   2.084664 3.191313  1.1494113 1.664355\n",
       "CalTech   2.8379459 7.742413 4.685166   3.323102 5.482610  3.3976259 4.782244\n",
       "CMU       3.6581824 4.537210 2.936362   2.301935 2.497537  2.5479464 2.884473\n",
       "Columbia  1.0931552 5.429096 2.459450   1.439868 3.007946  0.8062669 1.915126\n",
       "Cornell   1.5171256 5.059139 1.892899   1.530108 2.429508  0.6681441 1.059019\n",
       "Dartmouth 0.6623822 6.402583 3.092982   2.028552 3.693614  1.1720119 2.327786\n",
       "          UWisconsin Yale     \n",
       "Brown     4.857991   1.6882067\n",
       "CalTech   6.538419   2.5461162\n",
       "CMU       2.677390   4.1262865\n",
       "Columbia  4.343872   1.7067347\n",
       "Cornell   4.072776   2.1416714\n",
       "Dartmouth 5.276907   0.9657764"
      ]
     },
     "metadata": {},
     "output_type": "display_data"
    }
   ],
   "source": [
    " diag(dist_mat) <- diag(dist_mat) + 100000 # removing digonal from matrix data considreation from both side to calculate minimum and maximum points \n",
    " head(dist_mat) # all value will change "
   ]
  },
  {
   "cell_type": "code",
   "execution_count": 37,
   "metadata": {},
   "outputs": [
    {
     "data": {
      "text/html": [
       "<table>\n",
       "<caption>A matrix: 2 × 2 of type int</caption>\n",
       "<thead>\n",
       "\t<tr><th></th><th scope=col>row</th><th scope=col>col</th></tr>\n",
       "</thead>\n",
       "<tbody>\n",
       "\t<tr><th scope=row>UPenn</th><td>22</td><td>12</td></tr>\n",
       "\t<tr><th scope=row>Northwestern</th><td>12</td><td>22</td></tr>\n",
       "</tbody>\n",
       "</table>\n"
      ],
      "text/latex": [
       "A matrix: 2 × 2 of type int\n",
       "\\begin{tabular}{r|ll}\n",
       "  & row & col\\\\\n",
       "\\hline\n",
       "\tUPenn & 22 & 12\\\\\n",
       "\tNorthwestern & 12 & 22\\\\\n",
       "\\end{tabular}\n"
      ],
      "text/markdown": [
       "\n",
       "A matrix: 2 × 2 of type int\n",
       "\n",
       "| <!--/--> | row | col |\n",
       "|---|---|---|\n",
       "| UPenn | 22 | 12 |\n",
       "| Northwestern | 12 | 22 |\n",
       "\n"
      ],
      "text/plain": [
       "             row col\n",
       "UPenn        22  12 \n",
       "Northwestern 12  22 "
      ]
     },
     "metadata": {},
     "output_type": "display_data"
    }
   ],
   "source": [
    " # find out index of minimum distance\n",
    " ind <- which(dist_mat == min(dist_mat), arr.ind = TRUE)\n",
    " ind"
   ]
  },
  {
   "cell_type": "code",
   "execution_count": 38,
   "metadata": {},
   "outputs": [
    {
     "data": {
      "image/png": "[encoded data removed]",
      "text/plain": [
       "plot without title"
      ]
     },
     "metadata": {
      "image/png": {
       "height": 420,
       "width": 420
      },
      "text/plain": {
       "height": 420,
       "width": 420
      }
     },
     "output_type": "display_data"
    }
   ],
   "source": [
    "#Viewing my data points and distance view assumptions at scatter digramatic view \n",
    "plot(mydata_normal, col = \"blue\", pch = 19, cex = 2) # plot to view "
   ]
  },
  {
   "cell_type": "markdown",
   "metadata": {},
   "source": [
    "# Model Building"
   ]
  },
  {
   "cell_type": "code",
   "execution_count": 39,
   "metadata": {},
   "outputs": [
    {
     "name": "stderr",
     "output_type": "stream",
     "text": [
      "\n",
      "Attaching package: 'dplyr'\n",
      "\n",
      "\n",
      "The following objects are masked from 'package:stats':\n",
      "\n",
      "    filter, lag\n",
      "\n",
      "\n",
      "The following objects are masked from 'package:base':\n",
      "\n",
      "    intersect, setdiff, setequal, union\n",
      "\n",
      "\n"
     ]
    },
    {
     "data": {
      "image/png": "[encoded data removed]",
      "text/plain": [
       "plot without title"
      ]
     },
     "metadata": {
      "image/png": {
       "height": 420,
       "width": 420
      },
      "text/plain": {
       "height": 420,
       "width": 420
      }
     },
     "output_type": "display_data"
    },
    {
     "data": {
      "image/png": "[encoded data removed]",
      "text/plain": [
       "Plot with title \"Begin building tree\""
      ]
     },
     "metadata": {
      "image/png": {
       "height": 420,
       "width": 420
      },
      "text/plain": {
       "height": 420,
       "width": 420
      }
     },
     "output_type": "display_data"
    }
   ],
   "source": [
    "# implementing and dignostinc dendogram to findout outliere university \n",
    "library(dplyr) # we are doing in dyplyr method of clustering \n",
    " hcluster <- dist(mydata_normal) %>% hclust\n",
    " dendro <- as.dendrogram(hcluster)\n",
    " plot(dendro)# dendogram plotted \n",
    " cutDendro <- cut(dendro, h = (hcluster$height[3] + 0.01))\n",
    " plot(cutDendro$lower[[3]], yaxt = \"n\", main = \"Begin building tree\") # dendo university which is outsider at height cluster 3\n",
    "# you can change height 1,2,3,4 , max height and cluster to outider data "
   ]
  },
  {
   "cell_type": "code",
   "execution_count": 40,
   "metadata": {},
   "outputs": [
    {
     "data": {
      "text/html": [
       "<table>\n",
       "<caption>A matrix: 1 × 2 of type int</caption>\n",
       "<thead>\n",
       "\t<tr><th></th><th scope=col>row</th><th scope=col>col</th></tr>\n",
       "</thead>\n",
       "<tbody>\n",
       "\t<tr><th scope=row>TexasA&amp;M</th><td>18</td><td>6</td></tr>\n",
       "</tbody>\n",
       "</table>\n"
      ],
      "text/latex": [
       "A matrix: 1 × 2 of type int\n",
       "\\begin{tabular}{r|ll}\n",
       "  & row & col\\\\\n",
       "\\hline\n",
       "\tTexasA\\&M & 18 & 6\\\\\n",
       "\\end{tabular}\n"
      ],
      "text/markdown": [
       "\n",
       "A matrix: 1 × 2 of type int\n",
       "\n",
       "| <!--/--> | row | col |\n",
       "|---|---|---|\n",
       "| TexasA&amp;M | 18 | 6 |\n",
       "\n"
      ],
      "text/plain": [
       "         row col\n",
       "TexasA&M 18  6  "
      ]
     },
     "metadata": {},
     "output_type": "display_data"
    }
   ],
   "source": [
    "# multiple dencity plot to check the dencity of each variable\n",
    " nextmin <- mydata_normal[order(mydata_normal)][3]\n",
    " ind <- which(mydata_normal == nextmin,arr.ind=TRUE)\n",
    " ind"
   ]
  },
  {
   "cell_type": "code",
   "execution_count": 41,
   "metadata": {},
   "outputs": [
    {
     "data": {
      "image/png": "[encoded data removed]",
      "text/plain": [
       "Plot with title \"Cluster Dendrogram\""
      ]
     },
     "metadata": {
      "image/png": {
       "height": 420,
       "width": 420
      },
      "text/plain": {
       "height": 420,
       "width": 420
      }
     },
     "output_type": "display_data"
    }
   ],
   "source": [
    " hClustering <- data.frame(mydata_normal) %>% dist %>% hclust\n",
    " plot(hClustering)\n",
    "# Normal Hclust default complet function view "
   ]
  },
  {
   "cell_type": "code",
   "execution_count": 42,
   "metadata": {},
   "outputs": [
    {
     "data": {
      "image/png": "[encoded data removed]",
      "text/plain": [
       "plot without title"
      ]
     },
     "metadata": {
      "image/png": {
       "height": 420,
       "width": 420
      },
      "text/plain": {
       "height": 420,
       "width": 420
      }
     },
     "output_type": "display_data"
    }
   ],
   "source": [
    "dataMatrix <- data.frame(mydata_normal) %>% data.matrix\n",
    " heatmap(dataMatrix) # headmat view of our data how each variable with university associated expressed \n",
    "#in one color tone lighter to dark"
   ]
  },
  {
   "cell_type": "code",
   "execution_count": 43,
   "metadata": {},
   "outputs": [
    {
     "data": {
      "image/png": "[encoded data removed]",
      "text/plain": [
       "Plot with title \"Cluster Dendrogram\""
      ]
     },
     "metadata": {
      "image/png": {
       "height": 420,
       "width": 420
      },
      "text/plain": {
       "height": 420,
       "width": 420
      }
     },
     "output_type": "display_data"
    }
   ],
   "source": [
    "# trying to find out different method of clusters optimal clusterdistance using dendogram \n",
    "# method 1 euclidean , lets check other method as well\n",
    "d <- dist(mydata_normal,method = \"euclidean\")\n",
    "hward <- hclust(d,method = \"ward.D\")\n",
    "plot(hward)\n",
    "# here we are doing exploratory way of hirarcial dendoragam\n"
   ]
  },
  {
   "cell_type": "code",
   "execution_count": 44,
   "metadata": {},
   "outputs": [
    {
     "data": {
      "image/png": "[encoded data removed]",
      "text/plain": [
       "Plot with title \"Cluster Dendrogram\""
      ]
     },
     "metadata": {
      "image/png": {
       "height": 420,
       "width": 420
      },
      "text/plain": {
       "height": 420,
       "width": 420
      }
     },
     "output_type": "display_data"
    }
   ],
   "source": [
    "#method 2 # seeing clusters from center distance how it looks \n",
    "cen <- hclust(d,method = \"centroid\")\n",
    "plot(cen) # plot in method of centrild of distanc"
   ]
  },
  {
   "cell_type": "code",
   "execution_count": 45,
   "metadata": {},
   "outputs": [
    {
     "data": {
      "image/png": "[encoded data removed]",
      "text/plain": [
       "Plot with title \"Cluster Dendrogram\""
      ]
     },
     "metadata": {
      "image/png": {
       "height": 420,
       "width": 420
      },
      "text/plain": {
       "height": 420,
       "width": 420
      }
     },
     "output_type": "display_data"
    }
   ],
   "source": [
    "#method 3 # avareage distance of eah clusters \n",
    "avg <- hclust(d,method = \"average\")\n",
    "plot(avg)"
   ]
  },
  {
   "cell_type": "code",
   "execution_count": 46,
   "metadata": {},
   "outputs": [
    {
     "data": {
      "image/png": "[encoded data removed]",
      "text/plain": [
       "Plot with title \"Cluster Dendrogram\""
      ]
     },
     "metadata": {
      "image/png": {
       "height": 420,
       "width": 420
      },
      "text/plain": {
       "height": 420,
       "width": 420
      }
     },
     "output_type": "display_data"
    }
   ],
   "source": [
    "#method 4\n",
    "med <- hclust(d,method = \"median\")\n",
    "plot(med)"
   ]
  },
  {
   "cell_type": "code",
   "execution_count": 47,
   "metadata": {},
   "outputs": [],
   "source": [
    "# as we can see there are different hirarchy cluster digram you can choose any according to your findings and basis of your findings\n",
    "# above you can choose any cluster i am going with method 1 ward.D \n"
   ]
  },
  {
   "cell_type": "code",
   "execution_count": 48,
   "metadata": {},
   "outputs": [
    {
     "data": {
      "image/png": "[encoded data removed]",
      "text/plain": [
       "Plot with title \"Cluster Dendrogram\""
      ]
     },
     "metadata": {
      "image/png": {
       "height": 420,
       "width": 420
      },
      "text/plain": {
       "height": 420,
       "width": 420
      }
     },
     "output_type": "display_data"
    }
   ],
   "source": [
    "# trying to find out different method of clusters optimal clusterdistance using dendogram \n",
    "# method 1 euclidean , lets check other method as well\n",
    "d <- dist(mydata_normal,method = \"euclidean\")\n",
    "hward1 <- hclust(d,method = \"ward.D\")\n",
    "plot(hward1)"
   ]
  },
  {
   "cell_type": "code",
   "execution_count": 49,
   "metadata": {},
   "outputs": [
    {
     "data": {
      "text/html": [
       "<style>\n",
       ".dl-inline {width: auto; margin:0; padding: 0}\n",
       ".dl-inline>dt, .dl-inline>dd {float: none; width: auto; display: inline-block}\n",
       ".dl-inline>dt::after {content: \":\\0020\"; padding-right: .5ex}\n",
       ".dl-inline>dt:not(:first-of-type) {padding-left: .5ex}\n",
       "</style><dl class=dl-inline><dt>Brown</dt><dd>1</dd><dt>CalTech</dt><dd>2</dd><dt>CMU</dt><dd>1</dd><dt>Columbia</dt><dd>1</dd><dt>Cornell</dt><dd>1</dd><dt>Dartmouth</dt><dd>3</dd><dt>Duke</dt><dd>3</dd><dt>Georgetown</dt><dd>1</dd><dt>Harvard</dt><dd>3</dd><dt>JohnsHopkins</dt><dd>2</dd><dt>MIT</dt><dd>3</dd><dt>Northwestern</dt><dd>1</dd><dt>NotreDame</dt><dd>1</dd><dt>PennState</dt><dd>4</dd><dt>Princeton</dt><dd>3</dd><dt>Purdue</dt><dd>4</dd><dt>Stanford</dt><dd>3</dd><dt>TexasA&amp;M</dt><dd>4</dd><dt>UCBerkeley</dt><dd>1</dd><dt>UChicago</dt><dd>1</dd><dt>UMichigan</dt><dd>1</dd><dt>UPenn</dt><dd>1</dd><dt>UVA</dt><dd>1</dd><dt>UWisconsin</dt><dd>4</dd><dt>Yale</dt><dd>3</dd></dl>\n"
      ],
      "text/latex": [
       "\\begin{description*}\n",
       "\\item[Brown] 1\n",
       "\\item[CalTech] 2\n",
       "\\item[CMU] 1\n",
       "\\item[Columbia] 1\n",
       "\\item[Cornell] 1\n",
       "\\item[Dartmouth] 3\n",
       "\\item[Duke] 3\n",
       "\\item[Georgetown] 1\n",
       "\\item[Harvard] 3\n",
       "\\item[JohnsHopkins] 2\n",
       "\\item[MIT] 3\n",
       "\\item[Northwestern] 1\n",
       "\\item[NotreDame] 1\n",
       "\\item[PennState] 4\n",
       "\\item[Princeton] 3\n",
       "\\item[Purdue] 4\n",
       "\\item[Stanford] 3\n",
       "\\item[TexasA\\textbackslash{}\\&M] 4\n",
       "\\item[UCBerkeley] 1\n",
       "\\item[UChicago] 1\n",
       "\\item[UMichigan] 1\n",
       "\\item[UPenn] 1\n",
       "\\item[UVA] 1\n",
       "\\item[UWisconsin] 4\n",
       "\\item[Yale] 3\n",
       "\\end{description*}\n"
      ],
      "text/markdown": [
       "Brown\n",
       ":   1CalTech\n",
       ":   2CMU\n",
       ":   1Columbia\n",
       ":   1Cornell\n",
       ":   1Dartmouth\n",
       ":   3Duke\n",
       ":   3Georgetown\n",
       ":   1Harvard\n",
       ":   3JohnsHopkins\n",
       ":   2MIT\n",
       ":   3Northwestern\n",
       ":   1NotreDame\n",
       ":   1PennState\n",
       ":   4Princeton\n",
       ":   3Purdue\n",
       ":   4Stanford\n",
       ":   3TexasA&amp;amp;M\n",
       ":   4UCBerkeley\n",
       ":   1UChicago\n",
       ":   1UMichigan\n",
       ":   1UPenn\n",
       ":   1UVA\n",
       ":   1UWisconsin\n",
       ":   4Yale\n",
       ":   3\n",
       "\n"
      ],
      "text/plain": [
       "       Brown      CalTech          CMU     Columbia      Cornell    Dartmouth \n",
       "           1            2            1            1            1            3 \n",
       "        Duke   Georgetown      Harvard JohnsHopkins          MIT Northwestern \n",
       "           3            1            3            2            3            1 \n",
       "   NotreDame    PennState    Princeton       Purdue     Stanford     TexasA&M \n",
       "           1            4            3            4            3            4 \n",
       "  UCBerkeley     UChicago    UMichigan        UPenn          UVA   UWisconsin \n",
       "           1            1            1            1            1            4 \n",
       "        Yale \n",
       "           3 "
      ]
     },
     "metadata": {},
     "output_type": "display_data"
    },
    {
     "data": {
      "image/png": "[encoded data removed]",
      "text/plain": [
       "Plot with title \"Cluster Dendrogram\""
      ]
     },
     "metadata": {
      "image/png": {
       "height": 420,
       "width": 420
      },
      "text/plain": {
       "height": 420,
       "width": 420
      }
     },
     "output_type": "display_data"
    },
    {
     "data": {
      "image/png": "[encoded data removed]",
      "text/plain": [
       "plot without title"
      ]
     },
     "metadata": {
      "image/png": {
       "height": 420,
       "width": 420
      },
      "text/plain": {
       "height": 420,
       "width": 420
      }
     },
     "output_type": "display_data"
    }
   ],
   "source": [
    "# im cutting the cluster\n",
    "plot(hward1)\n",
    "cut_red <- cutree(hward1,k=4) # cutting c cludter\n",
    "cut_red # cutting it as appropriate clster \n",
    "plot(cut_red) # if we cut it into 3 wecan see distance value under each cutted which university lies in which distance easy \n",
    "# finding the distace"
   ]
  },
  {
   "cell_type": "code",
   "execution_count": 50,
   "metadata": {},
   "outputs": [
    {
     "data": {
      "image/png": "[encoded data removed]",
      "text/plain": [
       "Plot with title \"Cluster Dendrogram\""
      ]
     },
     "metadata": {
      "image/png": {
       "height": 420,
       "width": 420
      },
      "text/plain": {
       "height": 420,
       "width": 420
      }
     },
     "output_type": "display_data"
    }
   ],
   "source": [
    "# here we can clearly seen the clutting area under red distance cut\n",
    "plot(hward1)\n",
    "rect.hclust(hward,k=3,border = 'red')"
   ]
  },
  {
   "cell_type": "code",
   "execution_count": 51,
   "metadata": {},
   "outputs": [
    {
     "data": {
      "text/html": [
       "<table>\n",
       "<caption>A matrix: 25 × 1 of type int</caption>\n",
       "<tbody>\n",
       "\t<tr><th scope=row>Brown</th><td>1</td></tr>\n",
       "\t<tr><th scope=row>CalTech</th><td>2</td></tr>\n",
       "\t<tr><th scope=row>CMU</th><td>1</td></tr>\n",
       "\t<tr><th scope=row>Columbia</th><td>1</td></tr>\n",
       "\t<tr><th scope=row>Cornell</th><td>1</td></tr>\n",
       "\t<tr><th scope=row>Dartmouth</th><td>3</td></tr>\n",
       "\t<tr><th scope=row>Duke</th><td>3</td></tr>\n",
       "\t<tr><th scope=row>Georgetown</th><td>1</td></tr>\n",
       "\t<tr><th scope=row>Harvard</th><td>3</td></tr>\n",
       "\t<tr><th scope=row>JohnsHopkins</th><td>2</td></tr>\n",
       "\t<tr><th scope=row>MIT</th><td>3</td></tr>\n",
       "\t<tr><th scope=row>Northwestern</th><td>1</td></tr>\n",
       "\t<tr><th scope=row>NotreDame</th><td>1</td></tr>\n",
       "\t<tr><th scope=row>PennState</th><td>4</td></tr>\n",
       "\t<tr><th scope=row>Princeton</th><td>3</td></tr>\n",
       "\t<tr><th scope=row>Purdue</th><td>4</td></tr>\n",
       "\t<tr><th scope=row>Stanford</th><td>3</td></tr>\n",
       "\t<tr><th scope=row>TexasA&amp;M</th><td>4</td></tr>\n",
       "\t<tr><th scope=row>UCBerkeley</th><td>1</td></tr>\n",
       "\t<tr><th scope=row>UChicago</th><td>1</td></tr>\n",
       "\t<tr><th scope=row>UMichigan</th><td>1</td></tr>\n",
       "\t<tr><th scope=row>UPenn</th><td>1</td></tr>\n",
       "\t<tr><th scope=row>UVA</th><td>1</td></tr>\n",
       "\t<tr><th scope=row>UWisconsin</th><td>4</td></tr>\n",
       "\t<tr><th scope=row>Yale</th><td>3</td></tr>\n",
       "</tbody>\n",
       "</table>\n"
      ],
      "text/latex": [
       "A matrix: 25 × 1 of type int\n",
       "\\begin{tabular}{r|l}\n",
       "\tBrown & 1\\\\\n",
       "\tCalTech & 2\\\\\n",
       "\tCMU & 1\\\\\n",
       "\tColumbia & 1\\\\\n",
       "\tCornell & 1\\\\\n",
       "\tDartmouth & 3\\\\\n",
       "\tDuke & 3\\\\\n",
       "\tGeorgetown & 1\\\\\n",
       "\tHarvard & 3\\\\\n",
       "\tJohnsHopkins & 2\\\\\n",
       "\tMIT & 3\\\\\n",
       "\tNorthwestern & 1\\\\\n",
       "\tNotreDame & 1\\\\\n",
       "\tPennState & 4\\\\\n",
       "\tPrinceton & 3\\\\\n",
       "\tPurdue & 4\\\\\n",
       "\tStanford & 3\\\\\n",
       "\tTexasA\\&M & 4\\\\\n",
       "\tUCBerkeley & 1\\\\\n",
       "\tUChicago & 1\\\\\n",
       "\tUMichigan & 1\\\\\n",
       "\tUPenn & 1\\\\\n",
       "\tUVA & 1\\\\\n",
       "\tUWisconsin & 4\\\\\n",
       "\tYale & 3\\\\\n",
       "\\end{tabular}\n"
      ],
      "text/markdown": [
       "\n",
       "A matrix: 25 × 1 of type int\n",
       "\n",
       "| Brown | 1 |\n",
       "| CalTech | 2 |\n",
       "| CMU | 1 |\n",
       "| Columbia | 1 |\n",
       "| Cornell | 1 |\n",
       "| Dartmouth | 3 |\n",
       "| Duke | 3 |\n",
       "| Georgetown | 1 |\n",
       "| Harvard | 3 |\n",
       "| JohnsHopkins | 2 |\n",
       "| MIT | 3 |\n",
       "| Northwestern | 1 |\n",
       "| NotreDame | 1 |\n",
       "| PennState | 4 |\n",
       "| Princeton | 3 |\n",
       "| Purdue | 4 |\n",
       "| Stanford | 3 |\n",
       "| TexasA&amp;M | 4 |\n",
       "| UCBerkeley | 1 |\n",
       "| UChicago | 1 |\n",
       "| UMichigan | 1 |\n",
       "| UPenn | 1 |\n",
       "| UVA | 1 |\n",
       "| UWisconsin | 4 |\n",
       "| Yale | 3 |\n",
       "\n"
      ],
      "text/plain": [
       "             [,1]\n",
       "Brown        1   \n",
       "CalTech      2   \n",
       "CMU          1   \n",
       "Columbia     1   \n",
       "Cornell      1   \n",
       "Dartmouth    3   \n",
       "Duke         3   \n",
       "Georgetown   1   \n",
       "Harvard      3   \n",
       "JohnsHopkins 2   \n",
       "MIT          3   \n",
       "Northwestern 1   \n",
       "NotreDame    1   \n",
       "PennState    4   \n",
       "Princeton    3   \n",
       "Purdue       4   \n",
       "Stanford     3   \n",
       "TexasA&M     4   \n",
       "UCBerkeley   1   \n",
       "UChicago     1   \n",
       "UMichigan    1   \n",
       "UPenn        1   \n",
       "UVA          1   \n",
       "UWisconsin   4   \n",
       "Yale         3   "
      ]
     },
     "metadata": {},
     "output_type": "display_data"
    }
   ],
   "source": [
    "university<-as.matrix(cut_red) # now founded the cluster data \n",
    "university # keeping university the method we cut into each cluster catagory "
   ]
  },
  {
   "cell_type": "code",
   "execution_count": 52,
   "metadata": {},
   "outputs": [
    {
     "data": {
      "text/html": [
       "<table>\n",
       "<caption>A data.frame: 6 × 7</caption>\n",
       "<thead>\n",
       "\t<tr><th></th><th scope=col>SAT</th><th scope=col>Top10</th><th scope=col>Accept</th><th scope=col>SFRatio</th><th scope=col>Expenses</th><th scope=col>GradRate</th><th scope=col>university</th></tr>\n",
       "\t<tr><th></th><th scope=col>&lt;int&gt;</th><th scope=col>&lt;int&gt;</th><th scope=col>&lt;int&gt;</th><th scope=col>&lt;int&gt;</th><th scope=col>&lt;int&gt;</th><th scope=col>&lt;int&gt;</th><th scope=col>&lt;int&gt;</th></tr>\n",
       "</thead>\n",
       "<tbody>\n",
       "\t<tr><th scope=row>Brown</th><td>1310</td><td> 89</td><td>22</td><td>13</td><td>22704</td><td>94</td><td>1</td></tr>\n",
       "\t<tr><th scope=row>CalTech</th><td>1415</td><td>100</td><td>25</td><td> 6</td><td>63575</td><td>81</td><td>2</td></tr>\n",
       "\t<tr><th scope=row>CMU</th><td>1260</td><td> 62</td><td>59</td><td> 9</td><td>25026</td><td>72</td><td>1</td></tr>\n",
       "\t<tr><th scope=row>Columbia</th><td>1310</td><td> 76</td><td>24</td><td>12</td><td>31510</td><td>88</td><td>1</td></tr>\n",
       "\t<tr><th scope=row>Cornell</th><td>1280</td><td> 83</td><td>33</td><td>13</td><td>21864</td><td>90</td><td>1</td></tr>\n",
       "\t<tr><th scope=row>Dartmouth</th><td>1340</td><td> 89</td><td>23</td><td>10</td><td>32162</td><td>95</td><td>3</td></tr>\n",
       "</tbody>\n",
       "</table>\n"
      ],
      "text/latex": [
       "A data.frame: 6 × 7\n",
       "\\begin{tabular}{r|lllllll}\n",
       "  & SAT & Top10 & Accept & SFRatio & Expenses & GradRate & university\\\\\n",
       "  & <int> & <int> & <int> & <int> & <int> & <int> & <int>\\\\\n",
       "\\hline\n",
       "\tBrown & 1310 &  89 & 22 & 13 & 22704 & 94 & 1\\\\\n",
       "\tCalTech & 1415 & 100 & 25 &  6 & 63575 & 81 & 2\\\\\n",
       "\tCMU & 1260 &  62 & 59 &  9 & 25026 & 72 & 1\\\\\n",
       "\tColumbia & 1310 &  76 & 24 & 12 & 31510 & 88 & 1\\\\\n",
       "\tCornell & 1280 &  83 & 33 & 13 & 21864 & 90 & 1\\\\\n",
       "\tDartmouth & 1340 &  89 & 23 & 10 & 32162 & 95 & 3\\\\\n",
       "\\end{tabular}\n"
      ],
      "text/markdown": [
       "\n",
       "A data.frame: 6 × 7\n",
       "\n",
       "| <!--/--> | SAT &lt;int&gt; | Top10 &lt;int&gt; | Accept &lt;int&gt; | SFRatio &lt;int&gt; | Expenses &lt;int&gt; | GradRate &lt;int&gt; | university &lt;int&gt; |\n",
       "|---|---|---|---|---|---|---|---|\n",
       "| Brown | 1310 |  89 | 22 | 13 | 22704 | 94 | 1 |\n",
       "| CalTech | 1415 | 100 | 25 |  6 | 63575 | 81 | 2 |\n",
       "| CMU | 1260 |  62 | 59 |  9 | 25026 | 72 | 1 |\n",
       "| Columbia | 1310 |  76 | 24 | 12 | 31510 | 88 | 1 |\n",
       "| Cornell | 1280 |  83 | 33 | 13 | 21864 | 90 | 1 |\n",
       "| Dartmouth | 1340 |  89 | 23 | 10 | 32162 | 95 | 3 |\n",
       "\n"
      ],
      "text/plain": [
       "          SAT  Top10 Accept SFRatio Expenses GradRate university\n",
       "Brown     1310  89   22     13      22704    94       1         \n",
       "CalTech   1415 100   25      6      63575    81       2         \n",
       "CMU       1260  62   59      9      25026    72       1         \n",
       "Columbia  1310  76   24     12      31510    88       1         \n",
       "Cornell   1280  83   33     13      21864    90       1         \n",
       "Dartmouth 1340  89   23     10      32162    95       3         "
      ]
     },
     "metadata": {},
     "output_type": "display_data"
    }
   ],
   "source": [
    "# finalizing university data what found to a final list of file\n",
    "final <- data.frame(mydata, university) # final data \n",
    "head(final)"
   ]
  },
  {
   "cell_type": "code",
   "execution_count": 53,
   "metadata": {},
   "outputs": [
    {
     "data": {
      "text/html": [
       "<table>\n",
       "<caption>A data.frame: 6 × 7</caption>\n",
       "<thead>\n",
       "\t<tr><th></th><th scope=col>university</th><th scope=col>SAT</th><th scope=col>Top10</th><th scope=col>Accept</th><th scope=col>SFRatio</th><th scope=col>Expenses</th><th scope=col>GradRate</th></tr>\n",
       "\t<tr><th></th><th scope=col>&lt;int&gt;</th><th scope=col>&lt;int&gt;</th><th scope=col>&lt;int&gt;</th><th scope=col>&lt;int&gt;</th><th scope=col>&lt;int&gt;</th><th scope=col>&lt;int&gt;</th><th scope=col>&lt;int&gt;</th></tr>\n",
       "</thead>\n",
       "<tbody>\n",
       "\t<tr><th scope=row>Brown</th><td>1</td><td>1310</td><td> 89</td><td>22</td><td>13</td><td>22704</td><td>94</td></tr>\n",
       "\t<tr><th scope=row>CalTech</th><td>2</td><td>1415</td><td>100</td><td>25</td><td> 6</td><td>63575</td><td>81</td></tr>\n",
       "\t<tr><th scope=row>CMU</th><td>1</td><td>1260</td><td> 62</td><td>59</td><td> 9</td><td>25026</td><td>72</td></tr>\n",
       "\t<tr><th scope=row>Columbia</th><td>1</td><td>1310</td><td> 76</td><td>24</td><td>12</td><td>31510</td><td>88</td></tr>\n",
       "\t<tr><th scope=row>Cornell</th><td>1</td><td>1280</td><td> 83</td><td>33</td><td>13</td><td>21864</td><td>90</td></tr>\n",
       "\t<tr><th scope=row>Dartmouth</th><td>3</td><td>1340</td><td> 89</td><td>23</td><td>10</td><td>32162</td><td>95</td></tr>\n",
       "</tbody>\n",
       "</table>\n"
      ],
      "text/latex": [
       "A data.frame: 6 × 7\n",
       "\\begin{tabular}{r|lllllll}\n",
       "  & university & SAT & Top10 & Accept & SFRatio & Expenses & GradRate\\\\\n",
       "  & <int> & <int> & <int> & <int> & <int> & <int> & <int>\\\\\n",
       "\\hline\n",
       "\tBrown & 1 & 1310 &  89 & 22 & 13 & 22704 & 94\\\\\n",
       "\tCalTech & 2 & 1415 & 100 & 25 &  6 & 63575 & 81\\\\\n",
       "\tCMU & 1 & 1260 &  62 & 59 &  9 & 25026 & 72\\\\\n",
       "\tColumbia & 1 & 1310 &  76 & 24 & 12 & 31510 & 88\\\\\n",
       "\tCornell & 1 & 1280 &  83 & 33 & 13 & 21864 & 90\\\\\n",
       "\tDartmouth & 3 & 1340 &  89 & 23 & 10 & 32162 & 95\\\\\n",
       "\\end{tabular}\n"
      ],
      "text/markdown": [
       "\n",
       "A data.frame: 6 × 7\n",
       "\n",
       "| <!--/--> | university &lt;int&gt; | SAT &lt;int&gt; | Top10 &lt;int&gt; | Accept &lt;int&gt; | SFRatio &lt;int&gt; | Expenses &lt;int&gt; | GradRate &lt;int&gt; |\n",
       "|---|---|---|---|---|---|---|---|\n",
       "| Brown | 1 | 1310 |  89 | 22 | 13 | 22704 | 94 |\n",
       "| CalTech | 2 | 1415 | 100 | 25 |  6 | 63575 | 81 |\n",
       "| CMU | 1 | 1260 |  62 | 59 |  9 | 25026 | 72 |\n",
       "| Columbia | 1 | 1310 |  76 | 24 | 12 | 31510 | 88 |\n",
       "| Cornell | 1 | 1280 |  83 | 33 | 13 | 21864 | 90 |\n",
       "| Dartmouth | 3 | 1340 |  89 | 23 | 10 | 32162 | 95 |\n",
       "\n"
      ],
      "text/plain": [
       "          university SAT  Top10 Accept SFRatio Expenses GradRate\n",
       "Brown     1          1310  89   22     13      22704    94      \n",
       "CalTech   2          1415 100   25      6      63575    81      \n",
       "CMU       1          1260  62   59      9      25026    72      \n",
       "Columbia  1          1310  76   24     12      31510    88      \n",
       "Cornell   1          1280  83   33     13      21864    90      \n",
       "Dartmouth 3          1340  89   23     10      32162    95      "
      ]
     },
     "metadata": {},
     "output_type": "display_data"
    }
   ],
   "source": [
    "final1 <- final[,c(ncol(final),1:(ncol(final)-1))] # membership cluster column added\n",
    "head(final1) # we replace the final column and bring it to the first folumn"
   ]
  },
  {
   "cell_type": "code",
   "execution_count": 54,
   "metadata": {},
   "outputs": [],
   "source": [
    "write.csv(final1, file=\"University.csv\") # writing the file "
   ]
  },
  {
   "cell_type": "code",
   "execution_count": 55,
   "metadata": {},
   "outputs": [
    {
     "data": {
      "text/html": [
       "'C:/Users/Home/Desktop/Workspace for jupiter/rstudio file'"
      ],
      "text/latex": [
       "'C:/Users/Home/Desktop/Workspace for jupiter/rstudio file'"
      ],
      "text/markdown": [
       "'C:/Users/Home/Desktop/Workspace for jupiter/rstudio file'"
      ],
      "text/plain": [
       "[1] \"C:/Users/Home/Desktop/Workspace for jupiter/rstudio file\""
      ]
     },
     "metadata": {},
     "output_type": "display_data"
    }
   ],
   "source": [
    "getwd() # get the data with cluster file in working directory "
   ]
  },
  {
   "cell_type": "markdown",
   "metadata": {},
   "source": [
    "# Second method"
   ]
  },
  {
   "cell_type": "code",
   "execution_count": 59,
   "metadata": {},
   "outputs": [],
   "source": [
    "#exploratiory data annalysis of my data \n",
    "#install.packages(\"factoextra\") # for visualization\n",
    "#install.packages(\"cluster\") # for cluster\n",
    "#install.packages(\"magrittr\") # library of ggplot 2\n",
    "\n",
    "library(\"cluster\")\n",
    "library(\"factoextra\")\n",
    "library(\"magrittr\")  # library included\n",
    "#dist(mydata) # when data is not normal"
   ]
  },
  {
   "cell_type": "code",
   "execution_count": 60,
   "metadata": {},
   "outputs": [],
   "source": [
    "res.dist <-get_dist(mydata, stand = TRUE, method = \"euclidean\")\n",
    "#res.dist # same as like scale funca=tion below as normalization \n"
   ]
  },
  {
   "cell_type": "code",
   "execution_count": 61,
   "metadata": {},
   "outputs": [
    {
     "data": {
      "image/png": "[encoded data removed]",
      "text/plain": [
       "plot without title"
      ]
     },
     "metadata": {
      "image/png": {
       "height": 420,
       "width": 420
      },
      "text/plain": {
       "height": 420,
       "width": 420
      }
     },
     "output_type": "display_data"
    }
   ],
   "source": [
    "fviz_dist(res.dist, \n",
    "          gradient = list(low = \"#00AFBB\", mid = \"white\", high = \"#FC4E07\"))\n",
    "#Color code visualisation low medium and high"
   ]
  },
  {
   "cell_type": "code",
   "execution_count": 62,
   "metadata": {},
   "outputs": [
    {
     "data": {
      "image/png": "[encoded data removed]",
      "text/plain": [
       "plot without title"
      ]
     },
     "metadata": {
      "image/png": {
       "height": 420,
       "width": 420
      },
      "text/plain": {
       "height": 420,
       "width": 420
      }
     },
     "output_type": "display_data"
    }
   ],
   "source": [
    "fviz_nbclust(mydata, kmeans, method = \"gap_stat\") # it tells about optimum numbers of cluster to capture all values \n",
    "# this givs an idea how many optimal cluster can be made"
   ]
  },
  {
   "cell_type": "code",
   "execution_count": 63,
   "metadata": {},
   "outputs": [],
   "source": [
    "set.seed(123)\n",
    "km.res <- kmeans(mydata, 3, nstart = 25)"
   ]
  },
  {
   "cell_type": "code",
   "execution_count": 64,
   "metadata": {},
   "outputs": [
    {
     "data": {
      "image/png": "[encoded data removed]",
      "text/plain": [
       "plot without title"
      ]
     },
     "metadata": {
      "image/png": {
       "height": 420,
       "width": 420
      },
      "text/plain": {
       "height": 420,
       "width": 420
      }
     },
     "output_type": "display_data"
    }
   ],
   "source": [
    "# Visualize\n",
    "library(\"factoextra\") # we can visualize the distance point in cluster also\n",
    "fviz_cluster(km.res, data = mydata,\n",
    "             ellipse.type = \"convex\",\n",
    "             palette = \"jco\",\n",
    "             ggtheme = theme_minimal())"
   ]
  },
  {
   "cell_type": "code",
   "execution_count": null,
   "metadata": {},
   "outputs": [],
   "source": []
  },
  {
   "cell_type": "code",
   "execution_count": null,
   "metadata": {},
   "outputs": [],
   "source": []
  }
 ],
 "metadata": {
  "kernelspec": {
   "display_name": "R",
   "language": "R",
   "name": "ir"
  },
  "language_info": {
   "codemirror_mode": "r",
   "file_extension": ".r",
   "mimetype": "text/x-r-source",
   "name": "R",
   "pygments_lexer": "r",
   "version": "3.6.3"
  }
 },
 "nbformat": 4,
 "nbformat_minor": 2
}
