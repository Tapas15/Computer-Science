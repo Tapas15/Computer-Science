{
 "cells": [
  {
   "cell_type": "code",
   "execution_count": 1,
   "metadata": {},
   "outputs": [],
   "source": [
    "#Assignment module 6 Simple linear regression sorting_time data \n",
    "\n",
    "# lets import files Delivery_time and calories \n",
    "del <- read.csv(file.choose())"
   ]
  },
  {
   "cell_type": "code",
   "execution_count": 2,
   "metadata": {},
   "outputs": [
    {
     "data": {
      "text/html": [
       "<table>\n",
       "<caption>A data.frame: 21 × 2</caption>\n",
       "<thead>\n",
       "\t<tr><th scope=col>Delivery.Time</th><th scope=col>Sorting.Time</th></tr>\n",
       "\t<tr><th scope=col>&lt;dbl&gt;</th><th scope=col>&lt;int&gt;</th></tr>\n",
       "</thead>\n",
       "<tbody>\n",
       "\t<tr><td>21.00</td><td>10</td></tr>\n",
       "\t<tr><td>13.50</td><td> 4</td></tr>\n",
       "\t<tr><td>19.75</td><td> 6</td></tr>\n",
       "\t<tr><td>24.00</td><td> 9</td></tr>\n",
       "\t<tr><td>29.00</td><td>10</td></tr>\n",
       "\t<tr><td>15.35</td><td> 6</td></tr>\n",
       "\t<tr><td>19.00</td><td> 7</td></tr>\n",
       "\t<tr><td> 9.50</td><td> 3</td></tr>\n",
       "\t<tr><td>17.90</td><td>10</td></tr>\n",
       "\t<tr><td>18.75</td><td> 9</td></tr>\n",
       "\t<tr><td>19.83</td><td> 8</td></tr>\n",
       "\t<tr><td>10.75</td><td> 4</td></tr>\n",
       "\t<tr><td>16.68</td><td> 7</td></tr>\n",
       "\t<tr><td>11.50</td><td> 3</td></tr>\n",
       "\t<tr><td>12.03</td><td> 3</td></tr>\n",
       "\t<tr><td>14.88</td><td> 4</td></tr>\n",
       "\t<tr><td>13.75</td><td> 6</td></tr>\n",
       "\t<tr><td>18.11</td><td> 7</td></tr>\n",
       "\t<tr><td> 8.00</td><td> 2</td></tr>\n",
       "\t<tr><td>17.83</td><td> 7</td></tr>\n",
       "\t<tr><td>21.50</td><td> 5</td></tr>\n",
       "</tbody>\n",
       "</table>\n"
      ],
      "text/latex": [
       "A data.frame: 21 × 2\n",
       "\\begin{tabular}{ll}\n",
       " Delivery.Time & Sorting.Time\\\\\n",
       " <dbl> & <int>\\\\\n",
       "\\hline\n",
       "\t 21.00 & 10\\\\\n",
       "\t 13.50 &  4\\\\\n",
       "\t 19.75 &  6\\\\\n",
       "\t 24.00 &  9\\\\\n",
       "\t 29.00 & 10\\\\\n",
       "\t 15.35 &  6\\\\\n",
       "\t 19.00 &  7\\\\\n",
       "\t  9.50 &  3\\\\\n",
       "\t 17.90 & 10\\\\\n",
       "\t 18.75 &  9\\\\\n",
       "\t 19.83 &  8\\\\\n",
       "\t 10.75 &  4\\\\\n",
       "\t 16.68 &  7\\\\\n",
       "\t 11.50 &  3\\\\\n",
       "\t 12.03 &  3\\\\\n",
       "\t 14.88 &  4\\\\\n",
       "\t 13.75 &  6\\\\\n",
       "\t 18.11 &  7\\\\\n",
       "\t  8.00 &  2\\\\\n",
       "\t 17.83 &  7\\\\\n",
       "\t 21.50 &  5\\\\\n",
       "\\end{tabular}\n"
      ],
      "text/markdown": [
       "\n",
       "A data.frame: 21 × 2\n",
       "\n",
       "| Delivery.Time &lt;dbl&gt; | Sorting.Time &lt;int&gt; |\n",
       "|---|---|\n",
       "| 21.00 | 10 |\n",
       "| 13.50 |  4 |\n",
       "| 19.75 |  6 |\n",
       "| 24.00 |  9 |\n",
       "| 29.00 | 10 |\n",
       "| 15.35 |  6 |\n",
       "| 19.00 |  7 |\n",
       "|  9.50 |  3 |\n",
       "| 17.90 | 10 |\n",
       "| 18.75 |  9 |\n",
       "| 19.83 |  8 |\n",
       "| 10.75 |  4 |\n",
       "| 16.68 |  7 |\n",
       "| 11.50 |  3 |\n",
       "| 12.03 |  3 |\n",
       "| 14.88 |  4 |\n",
       "| 13.75 |  6 |\n",
       "| 18.11 |  7 |\n",
       "|  8.00 |  2 |\n",
       "| 17.83 |  7 |\n",
       "| 21.50 |  5 |\n",
       "\n"
      ],
      "text/plain": [
       "   Delivery.Time Sorting.Time\n",
       "1  21.00         10          \n",
       "2  13.50          4          \n",
       "3  19.75          6          \n",
       "4  24.00          9          \n",
       "5  29.00         10          \n",
       "6  15.35          6          \n",
       "7  19.00          7          \n",
       "8   9.50          3          \n",
       "9  17.90         10          \n",
       "10 18.75          9          \n",
       "11 19.83          8          \n",
       "12 10.75          4          \n",
       "13 16.68          7          \n",
       "14 11.50          3          \n",
       "15 12.03          3          \n",
       "16 14.88          4          \n",
       "17 13.75          6          \n",
       "18 18.11          7          \n",
       "19  8.00          2          \n",
       "20 17.83          7          \n",
       "21 21.50          5          "
      ]
     },
     "metadata": {},
     "output_type": "display_data"
    }
   ],
   "source": [
    "del ########################### DATA pre processing #############################################################"
   ]
  },
  {
   "cell_type": "code",
   "execution_count": 3,
   "metadata": {},
   "outputs": [
    {
     "name": "stdout",
     "output_type": "stream",
     "text": [
      "'data.frame':\t21 obs. of  2 variables:\n",
      " $ Delivery.Time: num  21 13.5 19.8 24 29 ...\n",
      " $ Sorting.Time : int  10 4 6 9 10 6 7 3 10 9 ...\n"
     ]
    },
    {
     "data": {
      "text/plain": [
       " Delivery.Time    Sorting.Time  \n",
       " Min.   : 8.00   Min.   : 2.00  \n",
       " 1st Qu.:13.50   1st Qu.: 4.00  \n",
       " Median :17.83   Median : 6.00  \n",
       " Mean   :16.79   Mean   : 6.19  \n",
       " 3rd Qu.:19.75   3rd Qu.: 8.00  \n",
       " Max.   :29.00   Max.   :10.00  "
      ]
     },
     "metadata": {},
     "output_type": "display_data"
    }
   ],
   "source": [
    "# structure of data frame , it is the data relating to weight and calories \n",
    "str(del) # data type is integer \n",
    "attach(del)\n",
    "summary(del)\n"
   ]
  },
  {
   "cell_type": "code",
   "execution_count": 4,
   "metadata": {},
   "outputs": [
    {
     "data": {
      "text/html": [
       "<style>\n",
       ".list-inline {list-style: none; margin:0; padding: 0}\n",
       ".list-inline>li {display: inline-block}\n",
       ".list-inline>li:not(:last-child)::after {content: \"\\00b7\"; padding: 0 .5ex}\n",
       "</style>\n",
       "<ol class=list-inline><li>'Delivery.Time'</li><li>'Sorting.Time'</li></ol>\n"
      ],
      "text/latex": [
       "\\begin{enumerate*}\n",
       "\\item 'Delivery.Time'\n",
       "\\item 'Sorting.Time'\n",
       "\\end{enumerate*}\n"
      ],
      "text/markdown": [
       "1. 'Delivery.Time'\n",
       "2. 'Sorting.Time'\n",
       "\n",
       "\n"
      ],
      "text/plain": [
       "[1] \"Delivery.Time\" \"Sorting.Time\" "
      ]
     },
     "metadata": {},
     "output_type": "display_data"
    }
   ],
   "source": [
    "colnames(del) # Viewing and checking column names "
   ]
  },
  {
   "cell_type": "code",
   "execution_count": 5,
   "metadata": {},
   "outputs": [
    {
     "data": {
      "text/html": [
       "<table>\n",
       "<caption>A data.frame: 21 × 2</caption>\n",
       "<thead>\n",
       "\t<tr><th scope=col>Delivery_time</th><th scope=col>Sorting_time</th></tr>\n",
       "\t<tr><th scope=col>&lt;dbl&gt;</th><th scope=col>&lt;int&gt;</th></tr>\n",
       "</thead>\n",
       "<tbody>\n",
       "\t<tr><td>21.00</td><td>10</td></tr>\n",
       "\t<tr><td>13.50</td><td> 4</td></tr>\n",
       "\t<tr><td>19.75</td><td> 6</td></tr>\n",
       "\t<tr><td>24.00</td><td> 9</td></tr>\n",
       "\t<tr><td>29.00</td><td>10</td></tr>\n",
       "\t<tr><td>15.35</td><td> 6</td></tr>\n",
       "\t<tr><td>19.00</td><td> 7</td></tr>\n",
       "\t<tr><td> 9.50</td><td> 3</td></tr>\n",
       "\t<tr><td>17.90</td><td>10</td></tr>\n",
       "\t<tr><td>18.75</td><td> 9</td></tr>\n",
       "\t<tr><td>19.83</td><td> 8</td></tr>\n",
       "\t<tr><td>10.75</td><td> 4</td></tr>\n",
       "\t<tr><td>16.68</td><td> 7</td></tr>\n",
       "\t<tr><td>11.50</td><td> 3</td></tr>\n",
       "\t<tr><td>12.03</td><td> 3</td></tr>\n",
       "\t<tr><td>14.88</td><td> 4</td></tr>\n",
       "\t<tr><td>13.75</td><td> 6</td></tr>\n",
       "\t<tr><td>18.11</td><td> 7</td></tr>\n",
       "\t<tr><td> 8.00</td><td> 2</td></tr>\n",
       "\t<tr><td>17.83</td><td> 7</td></tr>\n",
       "\t<tr><td>21.50</td><td> 5</td></tr>\n",
       "</tbody>\n",
       "</table>\n"
      ],
      "text/latex": [
       "A data.frame: 21 × 2\n",
       "\\begin{tabular}{ll}\n",
       " Delivery\\_time & Sorting\\_time\\\\\n",
       " <dbl> & <int>\\\\\n",
       "\\hline\n",
       "\t 21.00 & 10\\\\\n",
       "\t 13.50 &  4\\\\\n",
       "\t 19.75 &  6\\\\\n",
       "\t 24.00 &  9\\\\\n",
       "\t 29.00 & 10\\\\\n",
       "\t 15.35 &  6\\\\\n",
       "\t 19.00 &  7\\\\\n",
       "\t  9.50 &  3\\\\\n",
       "\t 17.90 & 10\\\\\n",
       "\t 18.75 &  9\\\\\n",
       "\t 19.83 &  8\\\\\n",
       "\t 10.75 &  4\\\\\n",
       "\t 16.68 &  7\\\\\n",
       "\t 11.50 &  3\\\\\n",
       "\t 12.03 &  3\\\\\n",
       "\t 14.88 &  4\\\\\n",
       "\t 13.75 &  6\\\\\n",
       "\t 18.11 &  7\\\\\n",
       "\t  8.00 &  2\\\\\n",
       "\t 17.83 &  7\\\\\n",
       "\t 21.50 &  5\\\\\n",
       "\\end{tabular}\n"
      ],
      "text/markdown": [
       "\n",
       "A data.frame: 21 × 2\n",
       "\n",
       "| Delivery_time &lt;dbl&gt; | Sorting_time &lt;int&gt; |\n",
       "|---|---|\n",
       "| 21.00 | 10 |\n",
       "| 13.50 |  4 |\n",
       "| 19.75 |  6 |\n",
       "| 24.00 |  9 |\n",
       "| 29.00 | 10 |\n",
       "| 15.35 |  6 |\n",
       "| 19.00 |  7 |\n",
       "|  9.50 |  3 |\n",
       "| 17.90 | 10 |\n",
       "| 18.75 |  9 |\n",
       "| 19.83 |  8 |\n",
       "| 10.75 |  4 |\n",
       "| 16.68 |  7 |\n",
       "| 11.50 |  3 |\n",
       "| 12.03 |  3 |\n",
       "| 14.88 |  4 |\n",
       "| 13.75 |  6 |\n",
       "| 18.11 |  7 |\n",
       "|  8.00 |  2 |\n",
       "| 17.83 |  7 |\n",
       "| 21.50 |  5 |\n",
       "\n"
      ],
      "text/plain": [
       "   Delivery_time Sorting_time\n",
       "1  21.00         10          \n",
       "2  13.50          4          \n",
       "3  19.75          6          \n",
       "4  24.00          9          \n",
       "5  29.00         10          \n",
       "6  15.35          6          \n",
       "7  19.00          7          \n",
       "8   9.50          3          \n",
       "9  17.90         10          \n",
       "10 18.75          9          \n",
       "11 19.83          8          \n",
       "12 10.75          4          \n",
       "13 16.68          7          \n",
       "14 11.50          3          \n",
       "15 12.03          3          \n",
       "16 14.88          4          \n",
       "17 13.75          6          \n",
       "18 18.11          7          \n",
       "19  8.00          2          \n",
       "20 17.83          7          \n",
       "21 21.50          5          "
      ]
     },
     "metadata": {},
     "output_type": "display_data"
    }
   ],
   "source": [
    "# Rename column where names is \"Sepal.Length\"\n",
    "names(del)[names(del) == 'Delivery.Time'] <- \"Delivery_time\" # renaming column name for convinience\n",
    "names(del)[names(del) == 'Sorting.Time'] <- \"Sorting_time\"\n",
    "del\n",
    "attach(del) # afte changing attaching value"
   ]
  },
  {
   "cell_type": "code",
   "execution_count": 6,
   "metadata": {},
   "outputs": [
    {
     "data": {
      "text/html": [
       "0.326702631656108"
      ],
      "text/latex": [
       "0.326702631656108"
      ],
      "text/markdown": [
       "0.326702631656108"
      ],
      "text/plain": [
       "[1] 0.3267026"
      ]
     },
     "metadata": {},
     "output_type": "display_data"
    },
    {
     "data": {
      "text/html": [
       "0.0436809949831079"
      ],
      "text/latex": [
       "0.0436809949831079"
      ],
      "text/markdown": [
       "0.0436809949831079"
      ],
      "text/plain": [
       "[1] 0.04368099"
      ]
     },
     "metadata": {},
     "output_type": "display_data"
    },
    {
     "data": {
      "image/png": "[encoded data removed]",
      "text/plain": [
       "plot without title"
      ]
     },
     "metadata": {
      "image/png": {
       "height": 420,
       "width": 420
      },
      "text/plain": {
       "height": 420,
       "width": 420
      }
     },
     "output_type": "display_data"
    }
   ],
   "source": [
    "# priliminary investigation for outliers \n",
    "boxplot(del)\n",
    "# as there is no outliers we can see \n",
    "library(moments) # both aer positive skewness \n",
    "skewness(Delivery_time)\n",
    "skewness(Sorting_time)"
   ]
  },
  {
   "cell_type": "code",
   "execution_count": 7,
   "metadata": {},
   "outputs": [
    {
     "data": {
      "image/png": "[encoded data removed]",
      "text/plain": [
       "plot without title"
      ]
     },
     "metadata": {
      "image/png": {
       "height": 420,
       "width": 420
      },
      "text/plain": {
       "height": 420,
       "width": 420
      }
     },
     "output_type": "display_data"
    }
   ],
   "source": [
    "plot(Sorting_time,Delivery_time)\n"
   ]
  },
  {
   "cell_type": "code",
   "execution_count": 8,
   "metadata": {},
   "outputs": [
    {
     "data": {
      "text/html": [
       "<style>\n",
       ".list-inline {list-style: none; margin:0; padding: 0}\n",
       ".list-inline>li {display: inline-block}\n",
       ".list-inline>li:not(:last-child)::after {content: \"\\00b7\"; padding: 0 .5ex}\n",
       "</style>\n",
       "<ol class=list-inline><li>21</li><li>2</li></ol>\n"
      ],
      "text/latex": [
       "\\begin{enumerate*}\n",
       "\\item 21\n",
       "\\item 2\n",
       "\\end{enumerate*}\n"
      ],
      "text/markdown": [
       "1. 21\n",
       "2. 2\n",
       "\n",
       "\n"
      ],
      "text/plain": [
       "[1] 21  2"
      ]
     },
     "metadata": {},
     "output_type": "display_data"
    },
    {
     "name": "stdout",
     "output_type": "stream",
     "text": [
      "'data.frame':\t21 obs. of  2 variables:\n",
      " $ Delivery_time: num  21 13.5 19.8 24 29 ...\n",
      " $ Sorting_time : int  10 4 6 9 10 6 7 3 10 9 ...\n"
     ]
    },
    {
     "data": {
      "text/html": [
       "0"
      ],
      "text/latex": [
       "0"
      ],
      "text/markdown": [
       "0"
      ],
      "text/plain": [
       "[1] 0"
      ]
     },
     "metadata": {},
     "output_type": "display_data"
    },
    {
     "data": {
      "text/html": [
       "16.7909523809524"
      ],
      "text/latex": [
       "16.7909523809524"
      ],
      "text/markdown": [
       "16.7909523809524"
      ],
      "text/plain": [
       "[1] 16.79095"
      ]
     },
     "metadata": {},
     "output_type": "display_data"
    },
    {
     "data": {
      "text/html": [
       "6.19047619047619"
      ],
      "text/latex": [
       "6.19047619047619"
      ],
      "text/markdown": [
       "6.19047619047619"
      ],
      "text/plain": [
       "[1] 6.190476"
      ]
     },
     "metadata": {},
     "output_type": "display_data"
    }
   ],
   "source": [
    "# Pre porcessing data checking for NA values \n",
    "dim(del)\n",
    "str(del)  # data frame \n",
    "sum(is.na(del)==T) # as there is no NA value if 0 there is no na value exist\n",
    "\n",
    "mean(Delivery_time) # checking if perfectly mean is coming or not \n",
    "mean(Sorting_time) # mean is proof there is no NA value"
   ]
  },
  {
   "cell_type": "code",
   "execution_count": 9,
   "metadata": {},
   "outputs": [
    {
     "data": {
      "image/png": "[encoded data removed]",
      "text/plain": [
       "Plot with title \"Normal Q-Q Plot\""
      ]
     },
     "metadata": {
      "image/png": {
       "height": 420,
       "width": 420
      },
      "text/plain": {
       "height": 420,
       "width": 420
      }
     },
     "output_type": "display_data"
    },
    {
     "data": {
      "text/html": [
       "0.825997260795533"
      ],
      "text/latex": [
       "0.825997260795533"
      ],
      "text/markdown": [
       "0.825997260795533"
      ],
      "text/plain": [
       "[1] 0.8259973"
      ]
     },
     "metadata": {},
     "output_type": "display_data"
    },
    {
     "data": {
      "image/png": "[encoded data removed]",
      "text/plain": [
       "Plot with title \"Normal Q-Q Plot\""
      ]
     },
     "metadata": {
      "image/png": {
       "height": 420,
       "width": 420
      },
      "text/plain": {
       "height": 420,
       "width": 420
      }
     },
     "output_type": "display_data"
    }
   ],
   "source": [
    "# Just checking how normally data is distributed\n",
    "qqnorm(Delivery_time)\n",
    "qqline(Delivery_time)\n",
    "qqnorm(Sorting_time)\n",
    "qqline(Sorting_time)\n",
    "cor(Delivery_time,Sorting_time) # correlation is 0.825997260795533"
   ]
  },
  {
   "cell_type": "code",
   "execution_count": 10,
   "metadata": {},
   "outputs": [
    {
     "name": "stderr",
     "output_type": "stream",
     "text": [
      "The following objects are masked from del (pos = 5):\n",
      "\n",
      "    Delivery_time, Sorting_time\n",
      "\n",
      "\n"
     ]
    },
    {
     "data": {
      "text/html": [
       "10"
      ],
      "text/latex": [
       "10"
      ],
      "text/markdown": [
       "10"
      ],
      "text/plain": [
       "[1] 10"
      ]
     },
     "metadata": {},
     "output_type": "display_data"
    }
   ],
   "source": [
    "#sample split data into train test 50:50 ratio as dat ais less\n",
    "library(ISLR)\n",
    "attach(del)\n",
    "smp_siz = floor(0.50*nrow(del))  # creates a value for dividing the data into train and test. In this case the value is defined as 75% of the number of rows in the dataset\n",
    "smp_siz  # shows the value of the sample size"
   ]
  },
  {
   "cell_type": "code",
   "execution_count": 11,
   "metadata": {},
   "outputs": [],
   "source": [
    "set.seed(123)   # set seed to ensure you always have same random numbers generated\n",
    "train_ind = sample(seq_len(nrow(del)),size = smp_siz)  # Randomly identifies therows equal to sample size ( defined in previous instruction) from  all the rows of Smarket dataset and stores the row number in train_ind\n",
    "train =del[train_ind,] #creates the training dataset with row numbers stored in train_ind\n",
    "test=del[-train_ind,]  # creates the test dataset excluding the row numbers mentioned in train_ind"
   ]
  },
  {
   "cell_type": "code",
   "execution_count": 12,
   "metadata": {},
   "outputs": [
    {
     "data": {
      "text/html": [
       "<table>\n",
       "<caption>A data.frame: 11 × 2</caption>\n",
       "<thead>\n",
       "\t<tr><th></th><th scope=col>Delivery_time</th><th scope=col>Sorting_time</th></tr>\n",
       "\t<tr><th></th><th scope=col>&lt;dbl&gt;</th><th scope=col>&lt;int&gt;</th></tr>\n",
       "</thead>\n",
       "<tbody>\n",
       "\t<tr><th scope=row>1</th><td>21.00</td><td>10</td></tr>\n",
       "\t<tr><th scope=row>7</th><td>19.00</td><td> 7</td></tr>\n",
       "\t<tr><th scope=row>8</th><td> 9.50</td><td> 3</td></tr>\n",
       "\t<tr><th scope=row>9</th><td>17.90</td><td>10</td></tr>\n",
       "\t<tr><th scope=row>12</th><td>10.75</td><td> 4</td></tr>\n",
       "\t<tr><th scope=row>13</th><td>16.68</td><td> 7</td></tr>\n",
       "\t<tr><th scope=row>16</th><td>14.88</td><td> 4</td></tr>\n",
       "\t<tr><th scope=row>17</th><td>13.75</td><td> 6</td></tr>\n",
       "\t<tr><th scope=row>18</th><td>18.11</td><td> 7</td></tr>\n",
       "\t<tr><th scope=row>20</th><td>17.83</td><td> 7</td></tr>\n",
       "\t<tr><th scope=row>21</th><td>21.50</td><td> 5</td></tr>\n",
       "</tbody>\n",
       "</table>\n"
      ],
      "text/latex": [
       "A data.frame: 11 × 2\n",
       "\\begin{tabular}{r|ll}\n",
       "  & Delivery\\_time & Sorting\\_time\\\\\n",
       "  & <dbl> & <int>\\\\\n",
       "\\hline\n",
       "\t1 & 21.00 & 10\\\\\n",
       "\t7 & 19.00 &  7\\\\\n",
       "\t8 &  9.50 &  3\\\\\n",
       "\t9 & 17.90 & 10\\\\\n",
       "\t12 & 10.75 &  4\\\\\n",
       "\t13 & 16.68 &  7\\\\\n",
       "\t16 & 14.88 &  4\\\\\n",
       "\t17 & 13.75 &  6\\\\\n",
       "\t18 & 18.11 &  7\\\\\n",
       "\t20 & 17.83 &  7\\\\\n",
       "\t21 & 21.50 &  5\\\\\n",
       "\\end{tabular}\n"
      ],
      "text/markdown": [
       "\n",
       "A data.frame: 11 × 2\n",
       "\n",
       "| <!--/--> | Delivery_time &lt;dbl&gt; | Sorting_time &lt;int&gt; |\n",
       "|---|---|---|\n",
       "| 1 | 21.00 | 10 |\n",
       "| 7 | 19.00 |  7 |\n",
       "| 8 |  9.50 |  3 |\n",
       "| 9 | 17.90 | 10 |\n",
       "| 12 | 10.75 |  4 |\n",
       "| 13 | 16.68 |  7 |\n",
       "| 16 | 14.88 |  4 |\n",
       "| 17 | 13.75 |  6 |\n",
       "| 18 | 18.11 |  7 |\n",
       "| 20 | 17.83 |  7 |\n",
       "| 21 | 21.50 |  5 |\n",
       "\n"
      ],
      "text/plain": [
       "   Delivery_time Sorting_time\n",
       "1  21.00         10          \n",
       "7  19.00          7          \n",
       "8   9.50          3          \n",
       "9  17.90         10          \n",
       "12 10.75          4          \n",
       "13 16.68          7          \n",
       "16 14.88          4          \n",
       "17 13.75          6          \n",
       "18 18.11          7          \n",
       "20 17.83          7          \n",
       "21 21.50          5          "
      ]
     },
     "metadata": {},
     "output_type": "display_data"
    },
    {
     "data": {
      "text/html": [
       "<table>\n",
       "<caption>A data.frame: 10 × 2</caption>\n",
       "<thead>\n",
       "\t<tr><th></th><th scope=col>Delivery_time</th><th scope=col>Sorting_time</th></tr>\n",
       "\t<tr><th></th><th scope=col>&lt;dbl&gt;</th><th scope=col>&lt;int&gt;</th></tr>\n",
       "</thead>\n",
       "<tbody>\n",
       "\t<tr><th scope=row>15</th><td>12.03</td><td> 3</td></tr>\n",
       "\t<tr><th scope=row>19</th><td> 8.00</td><td> 2</td></tr>\n",
       "\t<tr><th scope=row>14</th><td>11.50</td><td> 3</td></tr>\n",
       "\t<tr><th scope=row>3</th><td>19.75</td><td> 6</td></tr>\n",
       "\t<tr><th scope=row>10</th><td>18.75</td><td> 9</td></tr>\n",
       "\t<tr><th scope=row>2</th><td>13.50</td><td> 4</td></tr>\n",
       "\t<tr><th scope=row>6</th><td>15.35</td><td> 6</td></tr>\n",
       "\t<tr><th scope=row>11</th><td>19.83</td><td> 8</td></tr>\n",
       "\t<tr><th scope=row>5</th><td>29.00</td><td>10</td></tr>\n",
       "\t<tr><th scope=row>4</th><td>24.00</td><td> 9</td></tr>\n",
       "</tbody>\n",
       "</table>\n"
      ],
      "text/latex": [
       "A data.frame: 10 × 2\n",
       "\\begin{tabular}{r|ll}\n",
       "  & Delivery\\_time & Sorting\\_time\\\\\n",
       "  & <dbl> & <int>\\\\\n",
       "\\hline\n",
       "\t15 & 12.03 &  3\\\\\n",
       "\t19 &  8.00 &  2\\\\\n",
       "\t14 & 11.50 &  3\\\\\n",
       "\t3 & 19.75 &  6\\\\\n",
       "\t10 & 18.75 &  9\\\\\n",
       "\t2 & 13.50 &  4\\\\\n",
       "\t6 & 15.35 &  6\\\\\n",
       "\t11 & 19.83 &  8\\\\\n",
       "\t5 & 29.00 & 10\\\\\n",
       "\t4 & 24.00 &  9\\\\\n",
       "\\end{tabular}\n"
      ],
      "text/markdown": [
       "\n",
       "A data.frame: 10 × 2\n",
       "\n",
       "| <!--/--> | Delivery_time &lt;dbl&gt; | Sorting_time &lt;int&gt; |\n",
       "|---|---|---|\n",
       "| 15 | 12.03 |  3 |\n",
       "| 19 |  8.00 |  2 |\n",
       "| 14 | 11.50 |  3 |\n",
       "| 3 | 19.75 |  6 |\n",
       "| 10 | 18.75 |  9 |\n",
       "| 2 | 13.50 |  4 |\n",
       "| 6 | 15.35 |  6 |\n",
       "| 11 | 19.83 |  8 |\n",
       "| 5 | 29.00 | 10 |\n",
       "| 4 | 24.00 |  9 |\n",
       "\n"
      ],
      "text/plain": [
       "   Delivery_time Sorting_time\n",
       "15 12.03          3          \n",
       "19  8.00          2          \n",
       "14 11.50          3          \n",
       "3  19.75          6          \n",
       "10 18.75          9          \n",
       "2  13.50          4          \n",
       "6  15.35          6          \n",
       "11 19.83          8          \n",
       "5  29.00         10          \n",
       "4  24.00          9          "
      ]
     },
     "metadata": {},
     "output_type": "display_data"
    }
   ],
   "source": [
    "test\n",
    "\n",
    "train"
   ]
  },
  {
   "cell_type": "code",
   "execution_count": 13,
   "metadata": {},
   "outputs": [
    {
     "data": {
      "text/html": [
       "2.79165032706176"
      ],
      "text/latex": [
       "2.79165032706176"
      ],
      "text/markdown": [
       "2.79165032706176"
      ],
      "text/plain": [
       "[1] 2.79165"
      ]
     },
     "metadata": {},
     "output_type": "display_data"
    },
    {
     "data": {
      "image/png": "[encoded data removed]",
      "text/plain": [
       "plot without title"
      ]
     },
     "metadata": {
      "image/png": {
       "height": 420,
       "width": 420
      },
      "text/plain": {
       "height": 420,
       "width": 420
      }
     },
     "output_type": "display_data"
    }
   ],
   "source": [
    "# we trying to fit a linear regression line  by plotting linear model \n",
    "lm <- lm(Delivery_time~Sorting_time,data=del) # linear model\n",
    "rmse <- sqrt(mean(lm$residuals^2))\n",
    "rmse # rmse is too high value \n",
    "plot( Sorting_time,Delivery_time) # scatter plot X is Waist and y is AT\n",
    "abline(lm(Delivery_time~Sorting_time,data = del),col = 'red') # made a regression line "
   ]
  },
  {
   "cell_type": "code",
   "execution_count": 14,
   "metadata": {},
   "outputs": [
    {
     "data": {
      "image/png": "[encoded data removed]",
      "text/plain": [
       "Plot with title \"Normal Q-Q Plot\""
      ]
     },
     "metadata": {
      "image/png": {
       "height": 420,
       "width": 420
      },
      "text/plain": {
       "height": 420,
       "width": 420
      }
     },
     "output_type": "display_data"
    },
    {
     "data": {
      "image/png": "[encoded data removed]",
      "text/plain": [
       "Plot with title \"Normal Q-Q Plot\""
      ]
     },
     "metadata": {
      "image/png": {
       "height": 420,
       "width": 420
      },
      "text/plain": {
       "height": 420,
       "width": 420
      }
     },
     "output_type": "display_data"
    },
    {
     "data": {
      "image/png": "[encoded data removed]",
      "text/plain": [
       "Plot with title \"Normal Q-Q Plot\""
      ]
     },
     "metadata": {
      "image/png": {
       "height": 420,
       "width": 420
      },
      "text/plain": {
       "height": 420,
       "width": 420
      }
     },
     "output_type": "display_data"
    },
    {
     "data": {
      "image/png": "[encoded data removed]",
      "text/plain": [
       "Plot with title \"Normal Q-Q Plot\""
      ]
     },
     "metadata": {
      "image/png": {
       "height": 420,
       "width": 420
      },
      "text/plain": {
       "height": 420,
       "width": 420
      }
     },
     "output_type": "display_data"
    },
    {
     "data": {
      "image/png": "[encoded data removed]",
      "text/plain": [
       "Plot with title \"Normal Q-Q Plot\""
      ]
     },
     "metadata": {
      "image/png": {
       "height": 420,
       "width": 420
      },
      "text/plain": {
       "height": 420,
       "width": 420
      }
     },
     "output_type": "display_data"
    },
    {
     "data": {
      "image/png": "[encoded data removed]",
      "text/plain": [
       "Plot with title \"Normal Q-Q Plot\""
      ]
     },
     "metadata": {
      "image/png": {
       "height": 420,
       "width": 420
      },
      "text/plain": {
       "height": 420,
       "width": 420
      }
     },
     "output_type": "display_data"
    },
    {
     "data": {
      "image/png": "[encoded data removed]",
      "text/plain": [
       "Plot with title \"Normal Q-Q Plot\""
      ]
     },
     "metadata": {
      "image/png": {
       "height": 420,
       "width": 420
      },
      "text/plain": {
       "height": 420,
       "width": 420
      }
     },
     "output_type": "display_data"
    }
   ],
   "source": [
    "# Dignosis of model in qqnorm mothod\n",
    "qqnorm(resid(lm))# checking linearity residuals of linear model\n",
    "qqline(resid(lm)) # trying to fitting a line on the model made\n",
    "qqnorm(fitted(lm)) # checking fittled \n",
    "qqline(fitted(lm)) # linear model fitting line\n",
    "qqnorm(fitted.values(lm))# checking fitted values\n",
    "qqline(fitted.values(lm))# checking fitted values\n",
    "qqnorm(residuals(lm))# checking residials \n",
    "qqline(residuals(lm))# fitting line on residuals\n",
    "qqnorm(effects(lm)) # effects of lm in quantiles\n",
    "qqline(effects(lm)) # fitting line on effects\n",
    "qqnorm(df.residual(lm)) # checking digree of freedom\n",
    "qqnorm(coefficients(lm))# checking cofficnent point on lm. \n"
   ]
  },
  {
   "cell_type": "code",
   "execution_count": 15,
   "metadata": {},
   "outputs": [
    {
     "data": {
      "image/png": "[encoded data removed]",
      "text/plain": [
       "Plot with title \"\""
      ]
     },
     "metadata": {
      "image/png": {
       "height": 420,
       "width": 420
      },
      "text/plain": {
       "height": 420,
       "width": 420
      }
     },
     "output_type": "display_data"
    }
   ],
   "source": [
    "# dignostic plot togeather all need to increase size \n",
    "par(mfrow = c(2, 2))\n",
    "plot(lm)\n"
   ]
  },
  {
   "cell_type": "code",
   "execution_count": 16,
   "metadata": {},
   "outputs": [
    {
     "name": "stderr",
     "output_type": "stream",
     "text": [
      "-- \u001b[1mAttaching packages\u001b[22m --------------------------------------- tidyverse 1.3.0 --\n",
      "\n",
      "\u001b[32mv\u001b[39m \u001b[34mggplot2\u001b[39m 3.3.0     \u001b[32mv\u001b[39m \u001b[34mpurrr  \u001b[39m 0.3.3\n",
      "\u001b[32mv\u001b[39m \u001b[34mtibble \u001b[39m 3.0.1     \u001b[32mv\u001b[39m \u001b[34mdplyr  \u001b[39m 0.8.5\n",
      "\u001b[32mv\u001b[39m \u001b[34mtidyr  \u001b[39m 1.0.2     \u001b[32mv\u001b[39m \u001b[34mstringr\u001b[39m 1.4.0\n",
      "\u001b[32mv\u001b[39m \u001b[34mreadr  \u001b[39m 1.3.1     \u001b[32mv\u001b[39m \u001b[34mforcats\u001b[39m 0.5.0\n",
      "\n",
      "-- \u001b[1mConflicts\u001b[22m ------------------------------------------ tidyverse_conflicts() --\n",
      "\u001b[31mx\u001b[39m \u001b[34mdplyr\u001b[39m::\u001b[32mfilter()\u001b[39m masks \u001b[34mstats\u001b[39m::filter()\n",
      "\u001b[31mx\u001b[39m \u001b[34mdplyr\u001b[39m::\u001b[32mlag()\u001b[39m    masks \u001b[34mstats\u001b[39m::lag()\n",
      "\n",
      "\n",
      "Attaching package: 'broom'\n",
      "\n",
      "\n",
      "The following object is masked from 'package:modelr':\n",
      "\n",
      "    bootstrap\n",
      "\n",
      "\n"
     ]
    },
    {
     "name": "stdout",
     "output_type": "stream",
     "text": [
      "Potentially influential observations of\n",
      "\t lm(formula = Delivery_time ~ Sorting_time, data = del) :\n",
      "\n",
      "   dfb.1_ dfb.Srt_ dffit   cov.r   cook.d hat  \n",
      "5  -0.62   0.91     1.08_*  0.74    0.46   0.16\n",
      "21  0.50  -0.29     0.67    0.60_*  0.17   0.06\n"
     ]
    },
    {
     "data": {
      "image/png": "[encoded data removed]",
      "text/plain": [
       "plot without title"
      ]
     },
     "metadata": {
      "image/png": {
       "height": 420,
       "width": 420
      },
      "text/plain": {
       "height": 420,
       "width": 420
      }
     },
     "output_type": "display_data"
    }
   ],
   "source": [
    "#dignostic plot togeather with outliers with autopilot\n",
    "#install.packages(\"ggfortify\")\n",
    "# second method of dignostic plot ggplot 2 \n",
    "library(\"tidyverse\")\n",
    "library(\"modelr\")\n",
    "library(\"broom\")\n",
    "library(\"ggfortify\")\n",
    "autoplot(lm)\n",
    "summary(influence.measures(lm)) # we can have influence measure of cookr and hat value"
   ]
  },
  {
   "cell_type": "code",
   "execution_count": 17,
   "metadata": {},
   "outputs": [
    {
     "data": {
      "text/plain": [
       "\n",
       "Call:\n",
       "lm(formula = Delivery_time ~ Sorting_time, data = del)\n",
       "\n",
       "Residuals:\n",
       "    Min      1Q  Median      3Q     Max \n",
       "-5.1729 -2.0298 -0.0298  0.8741  6.6722 \n",
       "\n",
       "Coefficients:\n",
       "             Estimate Std. Error t value Pr(>|t|)    \n",
       "(Intercept)    6.5827     1.7217   3.823  0.00115 ** \n",
       "Sorting_time   1.6490     0.2582   6.387 3.98e-06 ***\n",
       "---\n",
       "Signif. codes:  0 '***' 0.001 '**' 0.01 '*' 0.05 '.' 0.1 ' ' 1\n",
       "\n",
       "Residual standard error: 2.935 on 19 degrees of freedom\n",
       "Multiple R-squared:  0.6823,\tAdjusted R-squared:  0.6655 \n",
       "F-statistic:  40.8 on 1 and 19 DF,  p-value: 3.983e-06\n"
      ]
     },
     "metadata": {},
     "output_type": "display_data"
    },
    {
     "data": {
      "image/png": "[encoded data removed]",
      "text/plain": [
       "plot without title"
      ]
     },
     "metadata": {
      "image/png": {
       "height": 420,
       "width": 420
      },
      "text/plain": {
       "height": 420,
       "width": 420
      }
     },
     "output_type": "display_data"
    }
   ],
   "source": [
    "# adding regression line with ggplot2 A scattar plot \n",
    "ggplot(del,aes(x=Sorting_time,y=Delivery_time)) +geom_point()+geom_abline(intercept = -625.75236  ,slope =  0.42016 ,color ='red',size =.65 )# visualizsing geoom point \n",
    "\n",
    "summary(lm)"
   ]
  },
  {
   "cell_type": "code",
   "execution_count": 7,
   "metadata": {},
   "outputs": [
    {
     "data": {
      "text/html": [
       "19.7747"
      ],
      "text/latex": [
       "19.7747"
      ],
      "text/markdown": [
       "19.7747"
      ],
      "text/plain": [
       "[1] 19.7747"
      ]
     },
     "metadata": {},
     "output_type": "display_data"
    }
   ],
   "source": [
    "Y =  6.5827  + 1.6490 *8\n",
    "Y"
   ]
  },
  {
   "cell_type": "code",
   "execution_count": 18,
   "metadata": {},
   "outputs": [
    {
     "data": {
      "text/plain": [
       "\n",
       "\tShapiro-Wilk normality test\n",
       "\n",
       "data:  Delivery_time\n",
       "W = 0.97813, p-value = 0.8963\n"
      ]
     },
     "metadata": {},
     "output_type": "display_data"
    },
    {
     "data": {
      "text/plain": [
       "\n",
       "\tShapiro-Wilk normality test\n",
       "\n",
       "data:  Sorting_time\n",
       "W = 0.93678, p-value = 0.1881\n"
      ]
     },
     "metadata": {},
     "output_type": "display_data"
    }
   ],
   "source": [
    "# Data normality check\n",
    "shapiro.test(Delivery_time) # Data is normal \n",
    "shapiro.test(Sorting_time) #  Data is normal\n"
   ]
  },
  {
   "cell_type": "code",
   "execution_count": 19,
   "metadata": {},
   "outputs": [
    {
     "data": {
      "text/html": [
       "2.79165032706176"
      ],
      "text/latex": [
       "2.79165032706176"
      ],
      "text/markdown": [
       "2.79165032706176"
      ],
      "text/plain": [
       "[1] 2.79165"
      ]
     },
     "metadata": {},
     "output_type": "display_data"
    },
    {
     "data": {
      "text/plain": [
       "\n",
       "Call:\n",
       "lm(formula = Delivery_time ~ Sorting_time, data = train)\n",
       "\n",
       "Residuals:\n",
       "    Min      1Q  Median      3Q     Max \n",
       "-4.5126 -1.3138  0.4053  0.8973  3.7069 \n",
       "\n",
       "Coefficients:\n",
       "             Estimate Std. Error t value Pr(>|t|)    \n",
       "(Intercept)    4.9878     1.8729   2.663   0.0287 *  \n",
       "Sorting_time   2.0305     0.2836   7.159 9.63e-05 ***\n",
       "---\n",
       "Signif. codes:  0 '***' 0.001 '**' 0.01 '*' 0.05 '.' 0.1 ' ' 1\n",
       "\n",
       "Residual standard error: 2.473 on 8 degrees of freedom\n",
       "Multiple R-squared:  0.865,\tAdjusted R-squared:  0.8481 \n",
       "F-statistic: 51.25 on 1 and 8 DF,  p-value: 9.625e-05\n"
      ]
     },
     "metadata": {},
     "output_type": "display_data"
    },
    {
     "data": {
      "image/png": "[encoded data removed]",
      "text/plain": [
       "plot without title"
      ]
     },
     "metadata": {
      "image/png": {
       "height": 420,
       "width": 420
      },
      "text/plain": {
       "height": 420,
       "width": 420
      }
     },
     "output_type": "display_data"
    }
   ],
   "source": [
    "# lets make a linear model With training data set and test it \n",
    "# we trying to fit a linear regression line  by plotting linear model \n",
    "lm_train <- lm(Delivery_time~Sorting_time,data=train) # linear model\n",
    "rmse_train <- sqrt(mean(lm$residuals^2))\n",
    "rmse_train # priliminary model gives rmse 32 which is error is higher \n",
    "plot(Sorting_time, Delivery_time) # scatter plot X is Waist and y is AT\n",
    "abline(lm(Delivery_time~Sorting_time,data = train),col = 'red') # made a regression line \n",
    "summary(lm_train)"
   ]
  },
  {
   "cell_type": "code",
   "execution_count": 20,
   "metadata": {},
   "outputs": [
    {
     "data": {
      "text/html": [
       "<table>\n",
       "<caption>A matrix: 2 × 2 of type dbl</caption>\n",
       "<thead>\n",
       "\t<tr><th></th><th scope=col>2.5 %</th><th scope=col>97.5 %</th></tr>\n",
       "</thead>\n",
       "<tbody>\n",
       "\t<tr><th scope=row>(Intercept)</th><td>0.668989</td><td>9.306695</td></tr>\n",
       "\t<tr><th scope=row>Sorting_time</th><td>1.376455</td><td>2.684598</td></tr>\n",
       "</tbody>\n",
       "</table>\n"
      ],
      "text/latex": [
       "A matrix: 2 × 2 of type dbl\n",
       "\\begin{tabular}{r|ll}\n",
       "  & 2.5 \\% & 97.5 \\%\\\\\n",
       "\\hline\n",
       "\t(Intercept) & 0.668989 & 9.306695\\\\\n",
       "\tSorting\\_time & 1.376455 & 2.684598\\\\\n",
       "\\end{tabular}\n"
      ],
      "text/markdown": [
       "\n",
       "A matrix: 2 × 2 of type dbl\n",
       "\n",
       "| <!--/--> | 2.5 % | 97.5 % |\n",
       "|---|---|---|\n",
       "| (Intercept) | 0.668989 | 9.306695 |\n",
       "| Sorting_time | 1.376455 | 2.684598 |\n",
       "\n"
      ],
      "text/plain": [
       "             2.5 %    97.5 %  \n",
       "(Intercept)  0.668989 9.306695\n",
       "Sorting_time 1.376455 2.684598"
      ]
     },
     "metadata": {},
     "output_type": "display_data"
    },
    {
     "data": {
      "text/html": [
       "<table>\n",
       "<caption>A matrix: 10 × 3 of type dbl</caption>\n",
       "<thead>\n",
       "\t<tr><th></th><th scope=col>fit</th><th scope=col>lwr</th><th scope=col>upr</th></tr>\n",
       "</thead>\n",
       "<tbody>\n",
       "\t<tr><th scope=row>15</th><td>11.079421</td><td> 8.414531</td><td>13.74431</td></tr>\n",
       "\t<tr><th scope=row>19</th><td> 9.048895</td><td> 5.871427</td><td>12.22636</td></tr>\n",
       "\t<tr><th scope=row>14</th><td>11.079421</td><td> 8.414531</td><td>13.74431</td></tr>\n",
       "\t<tr><th scope=row>3</th><td>17.171000</td><td>15.367849</td><td>18.97415</td></tr>\n",
       "\t<tr><th scope=row>10</th><td>23.262579</td><td>20.597689</td><td>25.92747</td></tr>\n",
       "\t<tr><th scope=row>2</th><td>13.109947</td><td>10.882260</td><td>15.33763</td></tr>\n",
       "\t<tr><th scope=row>6</th><td>17.171000</td><td>15.367849</td><td>18.97415</td></tr>\n",
       "\t<tr><th scope=row>11</th><td>21.232053</td><td>19.004366</td><td>23.45974</td></tr>\n",
       "\t<tr><th scope=row>5</th><td>25.293105</td><td>22.115637</td><td>28.47057</td></tr>\n",
       "\t<tr><th scope=row>4</th><td>23.262579</td><td>20.597689</td><td>25.92747</td></tr>\n",
       "</tbody>\n",
       "</table>\n"
      ],
      "text/latex": [
       "A matrix: 10 × 3 of type dbl\n",
       "\\begin{tabular}{r|lll}\n",
       "  & fit & lwr & upr\\\\\n",
       "\\hline\n",
       "\t15 & 11.079421 &  8.414531 & 13.74431\\\\\n",
       "\t19 &  9.048895 &  5.871427 & 12.22636\\\\\n",
       "\t14 & 11.079421 &  8.414531 & 13.74431\\\\\n",
       "\t3 & 17.171000 & 15.367849 & 18.97415\\\\\n",
       "\t10 & 23.262579 & 20.597689 & 25.92747\\\\\n",
       "\t2 & 13.109947 & 10.882260 & 15.33763\\\\\n",
       "\t6 & 17.171000 & 15.367849 & 18.97415\\\\\n",
       "\t11 & 21.232053 & 19.004366 & 23.45974\\\\\n",
       "\t5 & 25.293105 & 22.115637 & 28.47057\\\\\n",
       "\t4 & 23.262579 & 20.597689 & 25.92747\\\\\n",
       "\\end{tabular}\n"
      ],
      "text/markdown": [
       "\n",
       "A matrix: 10 × 3 of type dbl\n",
       "\n",
       "| <!--/--> | fit | lwr | upr |\n",
       "|---|---|---|---|\n",
       "| 15 | 11.079421 |  8.414531 | 13.74431 |\n",
       "| 19 |  9.048895 |  5.871427 | 12.22636 |\n",
       "| 14 | 11.079421 |  8.414531 | 13.74431 |\n",
       "| 3 | 17.171000 | 15.367849 | 18.97415 |\n",
       "| 10 | 23.262579 | 20.597689 | 25.92747 |\n",
       "| 2 | 13.109947 | 10.882260 | 15.33763 |\n",
       "| 6 | 17.171000 | 15.367849 | 18.97415 |\n",
       "| 11 | 21.232053 | 19.004366 | 23.45974 |\n",
       "| 5 | 25.293105 | 22.115637 | 28.47057 |\n",
       "| 4 | 23.262579 | 20.597689 | 25.92747 |\n",
       "\n"
      ],
      "text/plain": [
       "   fit       lwr       upr     \n",
       "15 11.079421  8.414531 13.74431\n",
       "19  9.048895  5.871427 12.22636\n",
       "14 11.079421  8.414531 13.74431\n",
       "3  17.171000 15.367849 18.97415\n",
       "10 23.262579 20.597689 25.92747\n",
       "2  13.109947 10.882260 15.33763\n",
       "6  17.171000 15.367849 18.97415\n",
       "11 21.232053 19.004366 23.45974\n",
       "5  25.293105 22.115637 28.47057\n",
       "4  23.262579 20.597689 25.92747"
      ]
     },
     "metadata": {},
     "output_type": "display_data"
    },
    {
     "data": {
      "text/html": [
       "<table>\n",
       "<caption>A matrix: 10 × 3 of type dbl</caption>\n",
       "<thead>\n",
       "\t<tr><th></th><th scope=col>fit</th><th scope=col>lwr</th><th scope=col>upr</th></tr>\n",
       "</thead>\n",
       "<tbody>\n",
       "\t<tr><th scope=row>15</th><td>6.482334e+04</td><td>4.512161e+03</td><td>9.312758e+05</td></tr>\n",
       "\t<tr><th scope=row>19</th><td>8.509128e+03</td><td>3.547548e+02</td><td>2.040995e+05</td></tr>\n",
       "\t<tr><th scope=row>14</th><td>6.482334e+04</td><td>4.512161e+03</td><td>9.312758e+05</td></tr>\n",
       "\t<tr><th scope=row>3</th><td>2.865963e+07</td><td>4.722503e+06</td><td>1.739277e+08</td></tr>\n",
       "\t<tr><th scope=row>10</th><td>1.267096e+10</td><td>8.819882e+08</td><td>1.820357e+11</td></tr>\n",
       "\t<tr><th scope=row>2</th><td>4.938304e+05</td><td>5.322377e+04</td><td>4.581946e+06</td></tr>\n",
       "\t<tr><th scope=row>6</th><td>2.865963e+07</td><td>4.722503e+06</td><td>1.739277e+08</td></tr>\n",
       "\t<tr><th scope=row>11</th><td>1.663272e+09</td><td>1.792632e+08</td><td>1.543247e+10</td></tr>\n",
       "\t<tr><th scope=row>5</th><td>9.652861e+10</td><td>4.024382e+09</td><td>2.315330e+12</td></tr>\n",
       "\t<tr><th scope=row>4</th><td>1.267096e+10</td><td>8.819882e+08</td><td>1.820357e+11</td></tr>\n",
       "</tbody>\n",
       "</table>\n"
      ],
      "text/latex": [
       "A matrix: 10 × 3 of type dbl\n",
       "\\begin{tabular}{r|lll}\n",
       "  & fit & lwr & upr\\\\\n",
       "\\hline\n",
       "\t15 & 6.482334e+04 & 4.512161e+03 & 9.312758e+05\\\\\n",
       "\t19 & 8.509128e+03 & 3.547548e+02 & 2.040995e+05\\\\\n",
       "\t14 & 6.482334e+04 & 4.512161e+03 & 9.312758e+05\\\\\n",
       "\t3 & 2.865963e+07 & 4.722503e+06 & 1.739277e+08\\\\\n",
       "\t10 & 1.267096e+10 & 8.819882e+08 & 1.820357e+11\\\\\n",
       "\t2 & 4.938304e+05 & 5.322377e+04 & 4.581946e+06\\\\\n",
       "\t6 & 2.865963e+07 & 4.722503e+06 & 1.739277e+08\\\\\n",
       "\t11 & 1.663272e+09 & 1.792632e+08 & 1.543247e+10\\\\\n",
       "\t5 & 9.652861e+10 & 4.024382e+09 & 2.315330e+12\\\\\n",
       "\t4 & 1.267096e+10 & 8.819882e+08 & 1.820357e+11\\\\\n",
       "\\end{tabular}\n"
      ],
      "text/markdown": [
       "\n",
       "A matrix: 10 × 3 of type dbl\n",
       "\n",
       "| <!--/--> | fit | lwr | upr |\n",
       "|---|---|---|---|\n",
       "| 15 | 6.482334e+04 | 4.512161e+03 | 9.312758e+05 |\n",
       "| 19 | 8.509128e+03 | 3.547548e+02 | 2.040995e+05 |\n",
       "| 14 | 6.482334e+04 | 4.512161e+03 | 9.312758e+05 |\n",
       "| 3 | 2.865963e+07 | 4.722503e+06 | 1.739277e+08 |\n",
       "| 10 | 1.267096e+10 | 8.819882e+08 | 1.820357e+11 |\n",
       "| 2 | 4.938304e+05 | 5.322377e+04 | 4.581946e+06 |\n",
       "| 6 | 2.865963e+07 | 4.722503e+06 | 1.739277e+08 |\n",
       "| 11 | 1.663272e+09 | 1.792632e+08 | 1.543247e+10 |\n",
       "| 5 | 9.652861e+10 | 4.024382e+09 | 2.315330e+12 |\n",
       "| 4 | 1.267096e+10 | 8.819882e+08 | 1.820357e+11 |\n",
       "\n"
      ],
      "text/plain": [
       "   fit          lwr          upr         \n",
       "15 6.482334e+04 4.512161e+03 9.312758e+05\n",
       "19 8.509128e+03 3.547548e+02 2.040995e+05\n",
       "14 6.482334e+04 4.512161e+03 9.312758e+05\n",
       "3  2.865963e+07 4.722503e+06 1.739277e+08\n",
       "10 1.267096e+10 8.819882e+08 1.820357e+11\n",
       "2  4.938304e+05 5.322377e+04 4.581946e+06\n",
       "6  2.865963e+07 4.722503e+06 1.739277e+08\n",
       "11 1.663272e+09 1.792632e+08 1.543247e+10\n",
       "5  9.652861e+10 4.024382e+09 2.315330e+12\n",
       "4  1.267096e+10 8.819882e+08 1.820357e+11"
      ]
     },
     "metadata": {},
     "output_type": "display_data"
    },
    {
     "name": "stderr",
     "output_type": "stream",
     "text": [
      "Warning message in lm_ex_ploy - Delivery_time:\n",
      "\"longer object length is not a multiple of shorter object length\"\n"
     ]
    },
    {
     "data": {
      "text/html": [
       "<table>\n",
       "<caption>A matrix: 10 × 3 of type dbl</caption>\n",
       "<thead>\n",
       "\t<tr><th></th><th scope=col>fit</th><th scope=col>lwr</th><th scope=col>upr</th></tr>\n",
       "</thead>\n",
       "<tbody>\n",
       "\t<tr><th scope=row>15</th><td>6.480234e+04</td><td>4.492331e+03</td><td>9.312543e+05</td></tr>\n",
       "\t<tr><th scope=row>19</th><td>8.495628e+03</td><td>3.440048e+02</td><td>2.040785e+05</td></tr>\n",
       "\t<tr><th scope=row>14</th><td>6.480359e+04</td><td>4.495481e+03</td><td>9.312623e+05</td></tr>\n",
       "\t<tr><th scope=row>3</th><td>2.865960e+07</td><td>4.722491e+06</td><td>1.739277e+08</td></tr>\n",
       "\t<tr><th scope=row>10</th><td>1.267096e+10</td><td>8.819882e+08</td><td>1.820357e+11</td></tr>\n",
       "\t<tr><th scope=row>2</th><td>4.938150e+05</td><td>5.320889e+04</td><td>4.581917e+06</td></tr>\n",
       "\t<tr><th scope=row>6</th><td>2.865961e+07</td><td>4.722489e+06</td><td>1.739277e+08</td></tr>\n",
       "\t<tr><th scope=row>11</th><td>1.663272e+09</td><td>1.792632e+08</td><td>1.543247e+10</td></tr>\n",
       "\t<tr><th scope=row>5</th><td>9.652861e+10</td><td>4.024382e+09</td><td>2.315330e+12</td></tr>\n",
       "\t<tr><th scope=row>4</th><td>1.267096e+10</td><td>8.819882e+08</td><td>1.820357e+11</td></tr>\n",
       "</tbody>\n",
       "</table>\n"
      ],
      "text/latex": [
       "A matrix: 10 × 3 of type dbl\n",
       "\\begin{tabular}{r|lll}\n",
       "  & fit & lwr & upr\\\\\n",
       "\\hline\n",
       "\t15 & 6.480234e+04 & 4.492331e+03 & 9.312543e+05\\\\\n",
       "\t19 & 8.495628e+03 & 3.440048e+02 & 2.040785e+05\\\\\n",
       "\t14 & 6.480359e+04 & 4.495481e+03 & 9.312623e+05\\\\\n",
       "\t3 & 2.865960e+07 & 4.722491e+06 & 1.739277e+08\\\\\n",
       "\t10 & 1.267096e+10 & 8.819882e+08 & 1.820357e+11\\\\\n",
       "\t2 & 4.938150e+05 & 5.320889e+04 & 4.581917e+06\\\\\n",
       "\t6 & 2.865961e+07 & 4.722489e+06 & 1.739277e+08\\\\\n",
       "\t11 & 1.663272e+09 & 1.792632e+08 & 1.543247e+10\\\\\n",
       "\t5 & 9.652861e+10 & 4.024382e+09 & 2.315330e+12\\\\\n",
       "\t4 & 1.267096e+10 & 8.819882e+08 & 1.820357e+11\\\\\n",
       "\\end{tabular}\n"
      ],
      "text/markdown": [
       "\n",
       "A matrix: 10 × 3 of type dbl\n",
       "\n",
       "| <!--/--> | fit | lwr | upr |\n",
       "|---|---|---|---|\n",
       "| 15 | 6.480234e+04 | 4.492331e+03 | 9.312543e+05 |\n",
       "| 19 | 8.495628e+03 | 3.440048e+02 | 2.040785e+05 |\n",
       "| 14 | 6.480359e+04 | 4.495481e+03 | 9.312623e+05 |\n",
       "| 3 | 2.865960e+07 | 4.722491e+06 | 1.739277e+08 |\n",
       "| 10 | 1.267096e+10 | 8.819882e+08 | 1.820357e+11 |\n",
       "| 2 | 4.938150e+05 | 5.320889e+04 | 4.581917e+06 |\n",
       "| 6 | 2.865961e+07 | 4.722489e+06 | 1.739277e+08 |\n",
       "| 11 | 1.663272e+09 | 1.792632e+08 | 1.543247e+10 |\n",
       "| 5 | 9.652861e+10 | 4.024382e+09 | 2.315330e+12 |\n",
       "| 4 | 1.267096e+10 | 8.819882e+08 | 1.820357e+11 |\n",
       "\n"
      ],
      "text/plain": [
       "   fit          lwr          upr         \n",
       "15 6.480234e+04 4.492331e+03 9.312543e+05\n",
       "19 8.495628e+03 3.440048e+02 2.040785e+05\n",
       "14 6.480359e+04 4.495481e+03 9.312623e+05\n",
       "3  2.865960e+07 4.722491e+06 1.739277e+08\n",
       "10 1.267096e+10 8.819882e+08 1.820357e+11\n",
       "2  4.938150e+05 5.320889e+04 4.581917e+06\n",
       "6  2.865961e+07 4.722489e+06 1.739277e+08\n",
       "11 1.663272e+09 1.792632e+08 1.543247e+10\n",
       "5  9.652861e+10 4.024382e+09 2.315330e+12\n",
       "4  1.267096e+10 8.819882e+08 1.820357e+11"
      ]
     },
     "metadata": {},
     "output_type": "display_data"
    },
    {
     "data": {
      "text/html": [
       "425712113178.824"
      ],
      "text/latex": [
       "425712113178.824"
      ],
      "text/markdown": [
       "425712113178.824"
      ],
      "text/plain": [
       "[1] 425712113179"
      ]
     },
     "metadata": {},
     "output_type": "display_data"
    },
    {
     "data": {
      "text/html": [
       "<style>\n",
       ".dl-inline {width: auto; margin:0; padding: 0}\n",
       ".dl-inline>dt, .dl-inline>dd {float: none; width: auto; display: inline-block}\n",
       ".dl-inline>dt::after {content: \":\\0020\"; padding-right: .5ex}\n",
       ".dl-inline>dt:not(:first-of-type) {padding-left: .5ex}\n",
       "</style><dl class=dl-inline><dt>15</dt><dd>0.950578947368422</dd><dt>19</dt><dd>-1.04889473684211</dd><dt>14</dt><dd>0.420578947368423</dd><dt>3</dt><dd>2.579</dd><dt>10</dt><dd>-4.51257894736842</dd><dt>2</dt><dd>0.390052631578949</dd><dt>6</dt><dd>-1.821</dd><dt>11</dt><dd>-1.40205263157895</dd><dt>5</dt><dd>3.7068947368421</dd><dt>4</dt><dd>0.737421052631579</dd></dl>\n"
      ],
      "text/latex": [
       "\\begin{description*}\n",
       "\\item[15] 0.950578947368422\n",
       "\\item[19] -1.04889473684211\n",
       "\\item[14] 0.420578947368423\n",
       "\\item[3] 2.579\n",
       "\\item[10] -4.51257894736842\n",
       "\\item[2] 0.390052631578949\n",
       "\\item[6] -1.821\n",
       "\\item[11] -1.40205263157895\n",
       "\\item[5] 3.7068947368421\n",
       "\\item[4] 0.737421052631579\n",
       "\\end{description*}\n"
      ],
      "text/markdown": [
       "15\n",
       ":   0.95057894736842219\n",
       ":   -1.0488947368421114\n",
       ":   0.4205789473684233\n",
       ":   2.57910\n",
       ":   -4.512578947368422\n",
       ":   0.3900526315789496\n",
       ":   -1.82111\n",
       ":   -1.402052631578955\n",
       ":   3.70689473684214\n",
       ":   0.737421052631579\n",
       "\n"
      ],
      "text/plain": [
       "        15         19         14          3         10          2          6 \n",
       " 0.9505789 -1.0488947  0.4205789  2.5790000 -4.5125789  0.3900526 -1.8210000 \n",
       "        11          5          4 \n",
       "-1.4020526  3.7068947  0.7374211 "
      ]
     },
     "metadata": {},
     "output_type": "display_data"
    }
   ],
   "source": [
    "confint(lm_train,level=0.95)\n",
    "lm_res  <-  predict(lm_train, interval = \"confidence\")\n",
    "lm_res\n",
    "lm_ex_ploy  <- exp(lm_res)\n",
    "lm_ex_ploy\n",
    "err_ploy  <- lm_ex_ploy-Delivery_time\n",
    "err_ploy\n",
    "rmse  <- sqrt(mean(err_ploy^2))\n",
    "rmse\n",
    "residual  <-  lm_train$residuals\n",
    "residual\n"
   ]
  },
  {
   "cell_type": "code",
   "execution_count": 21,
   "metadata": {},
   "outputs": [
    {
     "data": {
      "text/html": [
       "<style>\n",
       ".dl-inline {width: auto; margin:0; padding: 0}\n",
       ".dl-inline>dt, .dl-inline>dd {float: none; width: auto; display: inline-block}\n",
       ".dl-inline>dt::after {content: \":\\0020\"; padding-right: .5ex}\n",
       ".dl-inline>dt:not(:first-of-type) {padding-left: .5ex}\n",
       "</style><dl class=dl-inline><dt>1</dt><dd>25.2931052631579</dd><dt>7</dt><dd>19.2015263157895</dd><dt>8</dt><dd>11.0794210526316</dd><dt>9</dt><dd>25.2931052631579</dd><dt>12</dt><dd>13.109947368421</dd><dt>13</dt><dd>19.2015263157895</dd><dt>16</dt><dd>13.109947368421</dd><dt>17</dt><dd>17.171</dd><dt>18</dt><dd>19.2015263157895</dd><dt>20</dt><dd>19.2015263157895</dd><dt>21</dt><dd>15.1404736842105</dd></dl>\n"
      ],
      "text/latex": [
       "\\begin{description*}\n",
       "\\item[1] 25.2931052631579\n",
       "\\item[7] 19.2015263157895\n",
       "\\item[8] 11.0794210526316\n",
       "\\item[9] 25.2931052631579\n",
       "\\item[12] 13.109947368421\n",
       "\\item[13] 19.2015263157895\n",
       "\\item[16] 13.109947368421\n",
       "\\item[17] 17.171\n",
       "\\item[18] 19.2015263157895\n",
       "\\item[20] 19.2015263157895\n",
       "\\item[21] 15.1404736842105\n",
       "\\end{description*}\n"
      ],
      "text/markdown": [
       "1\n",
       ":   25.29310526315797\n",
       ":   19.20152631578958\n",
       ":   11.07942105263169\n",
       ":   25.293105263157912\n",
       ":   13.10994736842113\n",
       ":   19.201526315789516\n",
       ":   13.10994736842117\n",
       ":   17.17118\n",
       ":   19.201526315789520\n",
       ":   19.201526315789521\n",
       ":   15.1404736842105\n",
       "\n"
      ],
      "text/plain": [
       "       1        7        8        9       12       13       16       17 \n",
       "25.29311 19.20153 11.07942 25.29311 13.10995 19.20153 13.10995 17.17100 \n",
       "      18       20       21 \n",
       "19.20153 19.20153 15.14047 "
      ]
     },
     "metadata": {},
     "output_type": "display_data"
    }
   ],
   "source": [
    "pred1  <- predict(lm_train,test) # prediction points and visualizaton below\n",
    "pred1"
   ]
  },
  {
   "cell_type": "code",
   "execution_count": 22,
   "metadata": {},
   "outputs": [
    {
     "data": {
      "image/png": "[encoded data removed]",
      "text/plain": [
       "plot without title"
      ]
     },
     "metadata": {
      "image/png": {
       "height": 420,
       "width": 420
      },
      "text/plain": {
       "height": 420,
       "width": 420
      }
     },
     "output_type": "display_data"
    }
   ],
   "source": [
    "plot(pred1) # our prediction is working lets validate it "
   ]
  },
  {
   "cell_type": "code",
   "execution_count": 23,
   "metadata": {},
   "outputs": [
    {
     "data": {
      "text/html": [
       "<style>\n",
       ".dl-inline {width: auto; margin:0; padding: 0}\n",
       ".dl-inline>dt, .dl-inline>dd {float: none; width: auto; display: inline-block}\n",
       ".dl-inline>dt::after {content: \":\\0020\"; padding-right: .5ex}\n",
       ".dl-inline>dt:not(:first-of-type) {padding-left: .5ex}\n",
       "</style><dl class=dl-inline><dt>1</dt><dd>25.2931052631579</dd><dt>7</dt><dd>19.2015263157895</dd><dt>8</dt><dd>11.0794210526316</dd><dt>9</dt><dd>25.2931052631579</dd><dt>12</dt><dd>13.109947368421</dd><dt>13</dt><dd>19.2015263157895</dd><dt>16</dt><dd>13.109947368421</dd><dt>17</dt><dd>17.171</dd><dt>18</dt><dd>19.2015263157895</dd><dt>20</dt><dd>19.2015263157895</dd><dt>21</dt><dd>15.1404736842105</dd></dl>\n"
      ],
      "text/latex": [
       "\\begin{description*}\n",
       "\\item[1] 25.2931052631579\n",
       "\\item[7] 19.2015263157895\n",
       "\\item[8] 11.0794210526316\n",
       "\\item[9] 25.2931052631579\n",
       "\\item[12] 13.109947368421\n",
       "\\item[13] 19.2015263157895\n",
       "\\item[16] 13.109947368421\n",
       "\\item[17] 17.171\n",
       "\\item[18] 19.2015263157895\n",
       "\\item[20] 19.2015263157895\n",
       "\\item[21] 15.1404736842105\n",
       "\\end{description*}\n"
      ],
      "text/markdown": [
       "1\n",
       ":   25.29310526315797\n",
       ":   19.20152631578958\n",
       ":   11.07942105263169\n",
       ":   25.293105263157912\n",
       ":   13.10994736842113\n",
       ":   19.201526315789516\n",
       ":   13.10994736842117\n",
       ":   17.17118\n",
       ":   19.201526315789520\n",
       ":   19.201526315789521\n",
       ":   15.1404736842105\n",
       "\n"
      ],
      "text/plain": [
       "       1        7        8        9       12       13       16       17 \n",
       "25.29311 19.20153 11.07942 25.29311 13.10995 19.20153 13.10995 17.17100 \n",
       "      18       20       21 \n",
       "19.20153 19.20153 15.14047 "
      ]
     },
     "metadata": {},
     "output_type": "display_data"
    }
   ],
   "source": [
    "pred  <- predict(lm_train,test) # predicting 10 values \n",
    "pred # after prediction we are checking 10 values "
   ]
  },
  {
   "cell_type": "code",
   "execution_count": 24,
   "metadata": {},
   "outputs": [
    {
     "name": "stderr",
     "output_type": "stream",
     "text": [
      "\n",
      "Attaching package: 'caret'\n",
      "\n",
      "\n",
      "The following object is masked from 'package:purrr':\n",
      "\n",
      "    lift\n",
      "\n",
      "\n"
     ]
    },
    {
     "name": "stdout",
     "output_type": "stream",
     "text": [
      "+ Fold01: intercept=TRUE \n",
      "- Fold01: intercept=TRUE \n",
      "+ Fold02: intercept=TRUE \n",
      "- Fold02: intercept=TRUE \n",
      "+ Fold03: intercept=TRUE \n",
      "- Fold03: intercept=TRUE \n",
      "+ Fold04: intercept=TRUE \n",
      "- Fold04: intercept=TRUE \n",
      "+ Fold05: intercept=TRUE \n",
      "- Fold05: intercept=TRUE \n",
      "+ Fold06: intercept=TRUE \n",
      "- Fold06: intercept=TRUE \n",
      "+ Fold07: intercept=TRUE \n",
      "- Fold07: intercept=TRUE \n",
      "+ Fold08: intercept=TRUE \n",
      "- Fold08: intercept=TRUE \n",
      "+ Fold09: intercept=TRUE \n",
      "- Fold09: intercept=TRUE \n",
      "+ Fold10: intercept=TRUE \n",
      "- Fold10: intercept=TRUE \n"
     ]
    },
    {
     "name": "stderr",
     "output_type": "stream",
     "text": [
      "Warning message in nominalTrainWorkflow(x = x, y = y, wts = weights, info = trainInfo, :\n",
      "\"There were missing values in resampled performance measures.\"\n"
     ]
    },
    {
     "name": "stdout",
     "output_type": "stream",
     "text": [
      "Aggregating results\n",
      "Fitting final model on full training set\n"
     ]
    },
    {
     "data": {
      "text/html": [
       "<style>\n",
       ".dl-inline {width: auto; margin:0; padding: 0}\n",
       ".dl-inline>dt, .dl-inline>dd {float: none; width: auto; display: inline-block}\n",
       ".dl-inline>dt::after {content: \":\\0020\"; padding-right: .5ex}\n",
       ".dl-inline>dt:not(:first-of-type) {padding-left: .5ex}\n",
       "</style><dl class=dl-inline><dt>1</dt><dd>23.0729329403095</dd><dt>2</dt><dd>13.178813559322</dd><dt>3</dt><dd>16.4768533529845</dd><dt>4</dt><dd>21.4239130434783</dd><dt>5</dt><dd>23.0729329403095</dd><dt>6</dt><dd>16.4768533529845</dd><dt>7</dt><dd>18.1258732498158</dd><dt>8</dt><dd>11.5297936624908</dd><dt>9</dt><dd>23.0729329403095</dd><dt>10</dt><dd>21.4239130434783</dd></dl>\n"
      ],
      "text/latex": [
       "\\begin{description*}\n",
       "\\item[1] 23.0729329403095\n",
       "\\item[2] 13.178813559322\n",
       "\\item[3] 16.4768533529845\n",
       "\\item[4] 21.4239130434783\n",
       "\\item[5] 23.0729329403095\n",
       "\\item[6] 16.4768533529845\n",
       "\\item[7] 18.1258732498158\n",
       "\\item[8] 11.5297936624908\n",
       "\\item[9] 23.0729329403095\n",
       "\\item[10] 21.4239130434783\n",
       "\\end{description*}\n"
      ],
      "text/markdown": [
       "1\n",
       ":   23.07293294030952\n",
       ":   13.1788135593223\n",
       ":   16.47685335298454\n",
       ":   21.42391304347835\n",
       ":   23.07293294030956\n",
       ":   16.47685335298457\n",
       ":   18.12587324981588\n",
       ":   11.52979366249089\n",
       ":   23.072932940309510\n",
       ":   21.4239130434783\n",
       "\n"
      ],
      "text/plain": [
       "       1        2        3        4        5        6        7        8 \n",
       "23.07293 13.17881 16.47685 21.42391 23.07293 16.47685 18.12587 11.52979 \n",
       "       9       10 \n",
       "23.07293 21.42391 "
      ]
     },
     "metadata": {},
     "output_type": "display_data"
    },
    {
     "data": {
      "text/html": [
       "<table>\n",
       "<caption>A data.frame: 10 × 2</caption>\n",
       "<thead>\n",
       "\t<tr><th></th><th scope=col>Delivery_time</th><th scope=col>Sorting_time</th></tr>\n",
       "\t<tr><th></th><th scope=col>&lt;dbl&gt;</th><th scope=col>&lt;int&gt;</th></tr>\n",
       "</thead>\n",
       "<tbody>\n",
       "\t<tr><th scope=row>1</th><td>21.00</td><td>10</td></tr>\n",
       "\t<tr><th scope=row>2</th><td>13.50</td><td> 4</td></tr>\n",
       "\t<tr><th scope=row>3</th><td>19.75</td><td> 6</td></tr>\n",
       "\t<tr><th scope=row>4</th><td>24.00</td><td> 9</td></tr>\n",
       "\t<tr><th scope=row>5</th><td>29.00</td><td>10</td></tr>\n",
       "\t<tr><th scope=row>6</th><td>15.35</td><td> 6</td></tr>\n",
       "\t<tr><th scope=row>7</th><td>19.00</td><td> 7</td></tr>\n",
       "\t<tr><th scope=row>8</th><td> 9.50</td><td> 3</td></tr>\n",
       "\t<tr><th scope=row>9</th><td>17.90</td><td>10</td></tr>\n",
       "\t<tr><th scope=row>10</th><td>18.75</td><td> 9</td></tr>\n",
       "</tbody>\n",
       "</table>\n"
      ],
      "text/latex": [
       "A data.frame: 10 × 2\n",
       "\\begin{tabular}{r|ll}\n",
       "  & Delivery\\_time & Sorting\\_time\\\\\n",
       "  & <dbl> & <int>\\\\\n",
       "\\hline\n",
       "\t1 & 21.00 & 10\\\\\n",
       "\t2 & 13.50 &  4\\\\\n",
       "\t3 & 19.75 &  6\\\\\n",
       "\t4 & 24.00 &  9\\\\\n",
       "\t5 & 29.00 & 10\\\\\n",
       "\t6 & 15.35 &  6\\\\\n",
       "\t7 & 19.00 &  7\\\\\n",
       "\t8 &  9.50 &  3\\\\\n",
       "\t9 & 17.90 & 10\\\\\n",
       "\t10 & 18.75 &  9\\\\\n",
       "\\end{tabular}\n"
      ],
      "text/markdown": [
       "\n",
       "A data.frame: 10 × 2\n",
       "\n",
       "| <!--/--> | Delivery_time &lt;dbl&gt; | Sorting_time &lt;int&gt; |\n",
       "|---|---|---|\n",
       "| 1 | 21.00 | 10 |\n",
       "| 2 | 13.50 |  4 |\n",
       "| 3 | 19.75 |  6 |\n",
       "| 4 | 24.00 |  9 |\n",
       "| 5 | 29.00 | 10 |\n",
       "| 6 | 15.35 |  6 |\n",
       "| 7 | 19.00 |  7 |\n",
       "| 8 |  9.50 |  3 |\n",
       "| 9 | 17.90 | 10 |\n",
       "| 10 | 18.75 |  9 |\n",
       "\n"
      ],
      "text/plain": [
       "   Delivery_time Sorting_time\n",
       "1  21.00         10          \n",
       "2  13.50          4          \n",
       "3  19.75          6          \n",
       "4  24.00          9          \n",
       "5  29.00         10          \n",
       "6  15.35          6          \n",
       "7  19.00          7          \n",
       "8   9.50          3          \n",
       "9  17.90         10          \n",
       "10 18.75          9          "
      ]
     },
     "metadata": {},
     "output_type": "display_data"
    },
    {
     "data": {
      "text/html": [
       "3.11356793969594"
      ],
      "text/latex": [
       "3.11356793969594"
      ],
      "text/markdown": [
       "3.11356793969594"
      ],
      "text/plain": [
       "[1] 3.113568"
      ]
     },
     "metadata": {},
     "output_type": "display_data"
    },
    {
     "data": {
      "text/plain": [
       "Linear Regression \n",
       "\n",
       "21 samples\n",
       " 1 predictor\n",
       "\n",
       "No pre-processing\n",
       "Resampling: Cross-Validated (10 fold) \n",
       "Summary of sample sizes: 18, 19, 19, 19, 19, 19, ... \n",
       "Resampling results:\n",
       "\n",
       "  RMSE     Rsquared   MAE     \n",
       "  2.85648  0.9704223  2.483355\n",
       "\n",
       "Tuning parameter 'intercept' was held constant at a value of TRUE"
      ]
     },
     "metadata": {},
     "output_type": "display_data"
    },
    {
     "data": {
      "text/plain": [
       "\n",
       "Call:\n",
       "lm(formula = .outcome ~ ., data = dat)\n",
       "\n",
       "Residuals:\n",
       "    Min      1Q  Median      3Q     Max \n",
       "-5.1729 -2.0298 -0.0298  0.8741  6.6722 \n",
       "\n",
       "Coefficients:\n",
       "             Estimate Std. Error t value Pr(>|t|)    \n",
       "(Intercept)    6.5827     1.7217   3.823  0.00115 ** \n",
       "Sorting_time   1.6490     0.2582   6.387 3.98e-06 ***\n",
       "---\n",
       "Signif. codes:  0 '***' 0.001 '**' 0.01 '*' 0.05 '.' 0.1 ' ' 1\n",
       "\n",
       "Residual standard error: 2.935 on 19 degrees of freedom\n",
       "Multiple R-squared:  0.6823,\tAdjusted R-squared:  0.6655 \n",
       "F-statistic:  40.8 on 1 and 19 DF,  p-value: 3.983e-06\n"
      ]
     },
     "metadata": {},
     "output_type": "display_data"
    }
   ],
   "source": [
    "# K-10 Fold valdation model is ready\n",
    "library(lattice)\n",
    "library(caret) \n",
    "\n",
    "# Fit linear regression model\n",
    "Kfoldmodel <- train(Delivery_time ~ Sorting_time, del,\n",
    "                    method = \"lm\",\n",
    "                    trControl = trainControl(\n",
    "                      method = \"cv\", number = 10,\n",
    "                      verboseIter = TRUE\n",
    "                    )\n",
    ") \n",
    "\n",
    "predicted <- predict(Kfoldmodel,del[0:10,]) \n",
    "predicted\n",
    "del[0:10,]#he row predicted it worked AT is predicted \n",
    "#Evaluate error\n",
    "actual <- del[0:10, \"Delivery_time\"]\n",
    "err <-  sqrt(mean((predicted - actual)^2)) \n",
    "err\n",
    "\n",
    " #print the model\n",
    "Kfoldmodel\n",
    "\n",
    "summary(Kfoldmodel) # p value is too low so we rejecting this model\n",
    "\n"
   ]
  },
  {
   "cell_type": "code",
   "execution_count": 25,
   "metadata": {},
   "outputs": [
    {
     "data": {
      "text/html": [
       "<style>\n",
       ".dl-inline {width: auto; margin:0; padding: 0}\n",
       ".dl-inline>dt, .dl-inline>dd {float: none; width: auto; display: inline-block}\n",
       ".dl-inline>dt::after {content: \":\\0020\"; padding-right: .5ex}\n",
       ".dl-inline>dt:not(:first-of-type) {padding-left: .5ex}\n",
       "</style><dl class=dl-inline><dt>15</dt><dd>11.5297936624908</dd><dt>19</dt><dd>9.88077376565955</dd><dt>14</dt><dd>11.5297936624908</dd><dt>3</dt><dd>16.4768533529845</dd><dt>10</dt><dd>21.4239130434783</dd><dt>2</dt><dd>13.178813559322</dd><dt>6</dt><dd>16.4768533529845</dd><dt>11</dt><dd>19.774893146647</dd><dt>5</dt><dd>23.0729329403095</dd><dt>4</dt><dd>21.4239130434783</dd></dl>\n"
      ],
      "text/latex": [
       "\\begin{description*}\n",
       "\\item[15] 11.5297936624908\n",
       "\\item[19] 9.88077376565955\n",
       "\\item[14] 11.5297936624908\n",
       "\\item[3] 16.4768533529845\n",
       "\\item[10] 21.4239130434783\n",
       "\\item[2] 13.178813559322\n",
       "\\item[6] 16.4768533529845\n",
       "\\item[11] 19.774893146647\n",
       "\\item[5] 23.0729329403095\n",
       "\\item[4] 21.4239130434783\n",
       "\\end{description*}\n"
      ],
      "text/markdown": [
       "15\n",
       ":   11.529793662490819\n",
       ":   9.8807737656595514\n",
       ":   11.52979366249083\n",
       ":   16.476853352984510\n",
       ":   21.42391304347832\n",
       ":   13.1788135593226\n",
       ":   16.476853352984511\n",
       ":   19.7748931466475\n",
       ":   23.07293294030954\n",
       ":   21.4239130434783\n",
       "\n"
      ],
      "text/plain": [
       "       15        19        14         3        10         2         6        11 \n",
       "11.529794  9.880774 11.529794 16.476853 21.423913 13.178814 16.476853 19.774893 \n",
       "        5         4 \n",
       "23.072933 21.423913 "
      ]
     },
     "metadata": {},
     "output_type": "display_data"
    }
   ],
   "source": [
    "pred_train  <- predict(Kfoldmodel,train)\n",
    "pred_train # the predicted values of train data \n"
   ]
  },
  {
   "cell_type": "code",
   "execution_count": 26,
   "metadata": {},
   "outputs": [
    {
     "data": {
      "text/html": [
       "<style>\n",
       ".dl-inline {width: auto; margin:0; padding: 0}\n",
       ".dl-inline>dt, .dl-inline>dd {float: none; width: auto; display: inline-block}\n",
       ".dl-inline>dt::after {content: \":\\0020\"; padding-right: .5ex}\n",
       ".dl-inline>dt:not(:first-of-type) {padding-left: .5ex}\n",
       "</style><dl class=dl-inline><dt>1</dt><dd>23.0729329403095</dd><dt>7</dt><dd>18.1258732498158</dd><dt>8</dt><dd>11.5297936624908</dd><dt>9</dt><dd>23.0729329403095</dd><dt>12</dt><dd>13.178813559322</dd><dt>13</dt><dd>18.1258732498158</dd><dt>16</dt><dd>13.178813559322</dd><dt>17</dt><dd>16.4768533529845</dd><dt>18</dt><dd>18.1258732498158</dd><dt>20</dt><dd>18.1258732498158</dd><dt>21</dt><dd>14.8278334561533</dd></dl>\n"
      ],
      "text/latex": [
       "\\begin{description*}\n",
       "\\item[1] 23.0729329403095\n",
       "\\item[7] 18.1258732498158\n",
       "\\item[8] 11.5297936624908\n",
       "\\item[9] 23.0729329403095\n",
       "\\item[12] 13.178813559322\n",
       "\\item[13] 18.1258732498158\n",
       "\\item[16] 13.178813559322\n",
       "\\item[17] 16.4768533529845\n",
       "\\item[18] 18.1258732498158\n",
       "\\item[20] 18.1258732498158\n",
       "\\item[21] 14.8278334561533\n",
       "\\end{description*}\n"
      ],
      "text/markdown": [
       "1\n",
       ":   23.07293294030957\n",
       ":   18.12587324981588\n",
       ":   11.52979366249089\n",
       ":   23.072932940309512\n",
       ":   13.17881355932213\n",
       ":   18.125873249815816\n",
       ":   13.17881355932217\n",
       ":   16.476853352984518\n",
       ":   18.125873249815820\n",
       ":   18.125873249815821\n",
       ":   14.8278334561533\n",
       "\n"
      ],
      "text/plain": [
       "       1        7        8        9       12       13       16       17 \n",
       "23.07293 18.12587 11.52979 23.07293 13.17881 18.12587 13.17881 16.47685 \n",
       "      18       20       21 \n",
       "18.12587 18.12587 14.82783 "
      ]
     },
     "metadata": {},
     "output_type": "display_data"
    }
   ],
   "source": [
    "pred_test  <- predict(Kfoldmodel,test)\n",
    "pred_test # the predicted values of test data "
   ]
  },
  {
   "cell_type": "code",
   "execution_count": 27,
   "metadata": {},
   "outputs": [
    {
     "data": {
      "text/html": [
       "0.825997260795533"
      ],
      "text/latex": [
       "0.825997260795533"
      ],
      "text/markdown": [
       "0.825997260795533"
      ],
      "text/plain": [
       "[1] 0.8259973"
      ]
     },
     "metadata": {},
     "output_type": "display_data"
    },
    {
     "data": {
      "text/plain": [
       "\n",
       "Call:\n",
       "lm(formula = Delivery_time ~ Sorting_time)\n",
       "\n",
       "Residuals:\n",
       "    Min      1Q  Median      3Q     Max \n",
       "-5.1729 -2.0298 -0.0298  0.8741  6.6722 \n",
       "\n",
       "Coefficients:\n",
       "             Estimate Std. Error t value Pr(>|t|)    \n",
       "(Intercept)    6.5827     1.7217   3.823  0.00115 ** \n",
       "Sorting_time   1.6490     0.2582   6.387 3.98e-06 ***\n",
       "---\n",
       "Signif. codes:  0 '***' 0.001 '**' 0.01 '*' 0.05 '.' 0.1 ' ' 1\n",
       "\n",
       "Residual standard error: 2.935 on 19 degrees of freedom\n",
       "Multiple R-squared:  0.6823,\tAdjusted R-squared:  0.6655 \n",
       "F-statistic:  40.8 on 1 and 19 DF,  p-value: 3.983e-06\n"
      ]
     },
     "metadata": {},
     "output_type": "display_data"
    },
    {
     "data": {
      "image/png": "[encoded data removed]",
      "text/plain": [
       "plot without title"
      ]
     },
     "metadata": {
      "image/png": {
       "height": 420,
       "width": 420
      },
      "text/plain": {
       "height": 420,
       "width": 420
      }
     },
     "output_type": "display_data"
    },
    {
     "data": {
      "image/png": "[encoded data removed]",
      "text/plain": [
       "Plot with title \"Normal Q-Q Plot\""
      ]
     },
     "metadata": {
      "image/png": {
       "height": 420,
       "width": 420
      },
      "text/plain": {
       "height": 420,
       "width": 420
      }
     },
     "output_type": "display_data"
    },
    {
     "data": {
      "text/html": [
       "2.79165032706176"
      ],
      "text/latex": [
       "2.79165032706176"
      ],
      "text/markdown": [
       "2.79165032706176"
      ],
      "text/plain": [
       "[1] 2.79165"
      ]
     },
     "metadata": {},
     "output_type": "display_data"
    },
    {
     "data": {
      "text/plain": [
       "   Min. 1st Qu.  Median    Mean 3rd Qu.    Max. \n",
       "  2.792   2.792   2.792   2.792   2.792   2.792 "
      ]
     },
     "metadata": {},
     "output_type": "display_data"
    },
    {
     "data": {
      "image/png": "[encoded data removed]",
      "text/plain": [
       "Plot with title \"Normal Q-Q Plot\""
      ]
     },
     "metadata": {
      "image/png": {
       "height": 420,
       "width": 420
      },
      "text/plain": {
       "height": 420,
       "width": 420
      }
     },
     "output_type": "display_data"
    }
   ],
   "source": [
    "# Log model-1 # exponentioal model\n",
    "plot( Delivery_time,Sorting_time) \n",
    "cor(Delivery_time,Sorting_time)# cor relation little bit improved \n",
    "lm_Sorting_time <- lm(Delivery_time ~ Sorting_time) # log transformation\n",
    "summary(lm_Sorting_time) # after transformatin r square improved but not significant\n",
    "\n",
    "qqnorm(resid(lm_Sorting_time)) # checking residual value its not a linear\n",
    "qqline(resid(lm_Sorting_time)) # checking residual value its not a linear\n",
    "qqnorm(fitted.values(lm_Sorting_time)) # still it is not fitted values\n",
    "qqline(fitted.values(lm_Sorting_time)) # still it is not fitted values\n",
    "\n",
    "rmse_Sorting_time <- sqrt(mean(lm_Sorting_time$residuals^2))\n",
    "rmse_Sorting_time # rmse not imporved , residual errors is large\n",
    "summary(rmse_Sorting_time) # rmse need to imporved "
   ]
  },
  {
   "cell_type": "code",
   "execution_count": 28,
   "metadata": {},
   "outputs": [
    {
     "data": {
      "text/html": [
       "0.843177263722415"
      ],
      "text/latex": [
       "0.843177263722415"
      ],
      "text/markdown": [
       "0.843177263722415"
      ],
      "text/plain": [
       "[1] 0.8431773"
      ]
     },
     "metadata": {},
     "output_type": "display_data"
    },
    {
     "data": {
      "text/plain": [
       "\n",
       "Call:\n",
       "lm(formula = log(Delivery_time) ~ Sorting_time)\n",
       "\n",
       "Residuals:\n",
       "     Min       1Q   Median       3Q      Max \n",
       "-0.29209 -0.13364  0.02065  0.08421  0.41892 \n",
       "\n",
       "Coefficients:\n",
       "             Estimate Std. Error t value Pr(>|t|)    \n",
       "(Intercept)   2.12137    0.10297  20.601 1.86e-14 ***\n",
       "Sorting_time  0.10555    0.01544   6.836 1.59e-06 ***\n",
       "---\n",
       "Signif. codes:  0 '***' 0.001 '**' 0.01 '*' 0.05 '.' 0.1 ' ' 1\n",
       "\n",
       "Residual standard error: 0.1755 on 19 degrees of freedom\n",
       "Multiple R-squared:  0.7109,\tAdjusted R-squared:  0.6957 \n",
       "F-statistic: 46.73 on 1 and 19 DF,  p-value: 1.593e-06\n"
      ]
     },
     "metadata": {},
     "output_type": "display_data"
    },
    {
     "data": {
      "image/png": "[encoded data removed]",
      "text/plain": [
       "plot without title"
      ]
     },
     "metadata": {
      "image/png": {
       "height": 420,
       "width": 420
      },
      "text/plain": {
       "height": 420,
       "width": 420
      }
     },
     "output_type": "display_data"
    },
    {
     "data": {
      "image/png": "[encoded data removed]",
      "text/plain": [
       "Plot with title \"Normal Q-Q Plot\""
      ]
     },
     "metadata": {
      "image/png": {
       "height": 420,
       "width": 420
      },
      "text/plain": {
       "height": 420,
       "width": 420
      }
     },
     "output_type": "display_data"
    },
    {
     "data": {
      "text/html": [
       "0.166962761063029"
      ],
      "text/latex": [
       "0.166962761063029"
      ],
      "text/markdown": [
       "0.166962761063029"
      ],
      "text/plain": [
       "[1] 0.1669628"
      ]
     },
     "metadata": {},
     "output_type": "display_data"
    },
    {
     "data": {
      "text/plain": [
       "   Min. 1st Qu.  Median    Mean 3rd Qu.    Max. \n",
       "  0.167   0.167   0.167   0.167   0.167   0.167 "
      ]
     },
     "metadata": {},
     "output_type": "display_data"
    },
    {
     "data": {
      "image/png": "[encoded data removed]",
      "text/plain": [
       "Plot with title \"Normal Q-Q Plot\""
      ]
     },
     "metadata": {
      "image/png": {
       "height": 420,
       "width": 420
      },
      "text/plain": {
       "height": 420,
       "width": 420
      }
     },
     "output_type": "display_data"
    }
   ],
   "source": [
    "# log transformation  Exponential model 2 \n",
    "# Log model-2 \n",
    "plot(log(Delivery_time), Sorting_time) \n",
    "cor(log(Delivery_time), Sorting_time)\n",
    "lm_Log_Delivery_time <-lm(log(Delivery_time) ~ Sorting_time) # log transformation\n",
    "\n",
    "summary(lm_Log_Delivery_time) # after transformatin r square little bit improved but not find model\n",
    "\n",
    "qqnorm(resid(lm_Log_Delivery_time)) # checking residual value its not a linear\n",
    "qqline(resid(lm_Log_Delivery_time)) # checking residual value its not a linear\n",
    "qqnorm(fitted.values(lm_Log_Delivery_time)) # still it is not fitted values\n",
    "qqline(fitted.values(lm_Log_Delivery_time)) # still it is not fitted values\n",
    "\n",
    "rmse_Delivery_time <- sqrt(mean(lm_Log_Delivery_time$residuals^2))\n",
    "rmse_Delivery_time # rmse  imporved \n",
    "summary(rmse_Delivery_time)"
   ]
  },
  {
   "cell_type": "code",
   "execution_count": null,
   "metadata": {},
   "outputs": [],
   "source": []
  }
 ],
 "metadata": {
  "kernelspec": {
   "display_name": "R",
   "language": "R",
   "name": "ir"
  },
  "language_info": {
   "codemirror_mode": "r",
   "file_extension": ".r",
   "mimetype": "text/x-r-source",
   "name": "R",
   "pygments_lexer": "r",
   "version": "3.6.3"
  }
 },
 "nbformat": 4,
 "nbformat_minor": 2
}
