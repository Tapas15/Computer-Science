{
 "cells": [
  {
   "cell_type": "markdown",
   "metadata": {},
   "source": [
    "# Wcat data  annalysis "
   ]
  },
  {
   "cell_type": "code",
   "execution_count": 1,
   "metadata": {},
   "outputs": [],
   "source": [
    "# lets import files Wcat\n",
    "wcat <- read.csv(file.choose())"
   ]
  },
  {
   "cell_type": "code",
   "execution_count": 2,
   "metadata": {},
   "outputs": [
    {
     "data": {
      "text/html": [
       "<table>\n",
       "<caption>A data.frame: 10 × 2</caption>\n",
       "<thead>\n",
       "\t<tr><th></th><th scope=col>Waist</th><th scope=col>AT</th></tr>\n",
       "\t<tr><th></th><th scope=col>&lt;dbl&gt;</th><th scope=col>&lt;dbl&gt;</th></tr>\n",
       "</thead>\n",
       "<tbody>\n",
       "\t<tr><th scope=row>1</th><td>74.75</td><td>25.72</td></tr>\n",
       "\t<tr><th scope=row>2</th><td>72.60</td><td>25.89</td></tr>\n",
       "\t<tr><th scope=row>3</th><td>81.80</td><td>42.60</td></tr>\n",
       "\t<tr><th scope=row>4</th><td>83.95</td><td>42.80</td></tr>\n",
       "\t<tr><th scope=row>5</th><td>74.65</td><td>29.84</td></tr>\n",
       "\t<tr><th scope=row>6</th><td>71.85</td><td>21.68</td></tr>\n",
       "\t<tr><th scope=row>7</th><td>80.90</td><td>29.08</td></tr>\n",
       "\t<tr><th scope=row>8</th><td>83.40</td><td>32.98</td></tr>\n",
       "\t<tr><th scope=row>9</th><td>63.50</td><td>11.44</td></tr>\n",
       "\t<tr><th scope=row>10</th><td>73.20</td><td>32.22</td></tr>\n",
       "</tbody>\n",
       "</table>\n"
      ],
      "text/latex": [
       "A data.frame: 10 × 2\n",
       "\\begin{tabular}{r|ll}\n",
       "  & Waist & AT\\\\\n",
       "  & <dbl> & <dbl>\\\\\n",
       "\\hline\n",
       "\t1 & 74.75 & 25.72\\\\\n",
       "\t2 & 72.60 & 25.89\\\\\n",
       "\t3 & 81.80 & 42.60\\\\\n",
       "\t4 & 83.95 & 42.80\\\\\n",
       "\t5 & 74.65 & 29.84\\\\\n",
       "\t6 & 71.85 & 21.68\\\\\n",
       "\t7 & 80.90 & 29.08\\\\\n",
       "\t8 & 83.40 & 32.98\\\\\n",
       "\t9 & 63.50 & 11.44\\\\\n",
       "\t10 & 73.20 & 32.22\\\\\n",
       "\\end{tabular}\n"
      ],
      "text/markdown": [
       "\n",
       "A data.frame: 10 × 2\n",
       "\n",
       "| <!--/--> | Waist &lt;dbl&gt; | AT &lt;dbl&gt; |\n",
       "|---|---|---|\n",
       "| 1 | 74.75 | 25.72 |\n",
       "| 2 | 72.60 | 25.89 |\n",
       "| 3 | 81.80 | 42.60 |\n",
       "| 4 | 83.95 | 42.80 |\n",
       "| 5 | 74.65 | 29.84 |\n",
       "| 6 | 71.85 | 21.68 |\n",
       "| 7 | 80.90 | 29.08 |\n",
       "| 8 | 83.40 | 32.98 |\n",
       "| 9 | 63.50 | 11.44 |\n",
       "| 10 | 73.20 | 32.22 |\n",
       "\n"
      ],
      "text/plain": [
       "   Waist AT   \n",
       "1  74.75 25.72\n",
       "2  72.60 25.89\n",
       "3  81.80 42.60\n",
       "4  83.95 42.80\n",
       "5  74.65 29.84\n",
       "6  71.85 21.68\n",
       "7  80.90 29.08\n",
       "8  83.40 32.98\n",
       "9  63.50 11.44\n",
       "10 73.20 32.22"
      ]
     },
     "metadata": {},
     "output_type": "display_data"
    }
   ],
   "source": [
    "# viewing first 10 rows \n",
    "wcat[0:10,] "
   ]
  },
  {
   "cell_type": "code",
   "execution_count": 3,
   "metadata": {},
   "outputs": [
    {
     "name": "stdout",
     "output_type": "stream",
     "text": [
      "'data.frame':\t109 obs. of  2 variables:\n",
      " $ Waist: num  74.8 72.6 81.8 84 74.7 ...\n",
      " $ AT   : num  25.7 25.9 42.6 42.8 29.8 ...\n"
     ]
    },
    {
     "data": {
      "text/plain": [
       "     Waist             AT        \n",
       " Min.   : 63.5   Min.   : 11.44  \n",
       " 1st Qu.: 80.0   1st Qu.: 50.88  \n",
       " Median : 90.8   Median : 96.54  \n",
       " Mean   : 91.9   Mean   :101.89  \n",
       " 3rd Qu.:104.0   3rd Qu.:137.00  \n",
       " Max.   :121.0   Max.   :253.00  "
      ]
     },
     "metadata": {},
     "output_type": "display_data"
    }
   ],
   "source": [
    "# structure of data frame \n",
    "str(wcat)\n",
    "attach(wcat)\n",
    "summary(wcat)"
   ]
  },
  {
   "cell_type": "code",
   "execution_count": 4,
   "metadata": {},
   "outputs": [
    {
     "data": {
      "image/png": "[encoded data removed]",
      "text/plain": [
       "plot without title"
      ]
     },
     "metadata": {
      "image/png": {
       "height": 420,
       "width": 420
      },
      "text/plain": {
       "height": 420,
       "width": 420
      }
     },
     "output_type": "display_data"
    }
   ],
   "source": [
    "# priliminary investigation for outliers \n",
    "boxplot(wcat)\n",
    "# as there is no outliers we can see "
   ]
  },
  {
   "cell_type": "code",
   "execution_count": 5,
   "metadata": {
    "scrolled": true
   },
   "outputs": [
    {
     "data": {
      "text/html": [
       "0.576789697598786"
      ],
      "text/latex": [
       "0.576789697598786"
      ],
      "text/markdown": [
       "0.576789697598786"
      ],
      "text/plain": [
       "[1] 0.5767897"
      ]
     },
     "metadata": {},
     "output_type": "display_data"
    },
    {
     "data": {
      "text/html": [
       "0.132204176359288"
      ],
      "text/latex": [
       "0.132204176359288"
      ],
      "text/markdown": [
       "0.132204176359288"
      ],
      "text/plain": [
       "[1] 0.1322042"
      ]
     },
     "metadata": {},
     "output_type": "display_data"
    }
   ],
   "source": [
    "library(moments) # both aer positive skewness \n",
    "skewness(AT)\n",
    "skewness(Waist)"
   ]
  },
  {
   "cell_type": "code",
   "execution_count": 6,
   "metadata": {},
   "outputs": [
    {
     "data": {
      "image/png": "[encoded data removed]",
      "text/plain": [
       "plot without title"
      ]
     },
     "metadata": {
      "image/png": {
       "height": 420,
       "width": 420
      },
      "text/plain": {
       "height": 420,
       "width": 420
      }
     },
     "output_type": "display_data"
    },
    {
     "data": {
      "text/html": [
       "<dl>\n",
       "\t<dt>$stats</dt>\n",
       "\t\t<dd><table>\n",
       "<caption>A matrix: 5 × 1 of type dbl</caption>\n",
       "<tbody>\n",
       "\t<tr><td> 63.5</td></tr>\n",
       "\t<tr><td> 80.0</td></tr>\n",
       "\t<tr><td> 90.8</td></tr>\n",
       "\t<tr><td>104.0</td></tr>\n",
       "\t<tr><td>121.0</td></tr>\n",
       "</tbody>\n",
       "</table>\n",
       "</dd>\n",
       "\t<dt>$n</dt>\n",
       "\t\t<dd>109</dd>\n",
       "\t<dt>$conf</dt>\n",
       "\t\t<dd><table>\n",
       "<caption>A matrix: 2 × 1 of type dbl</caption>\n",
       "<tbody>\n",
       "\t<tr><td>87.16792</td></tr>\n",
       "\t<tr><td>94.43208</td></tr>\n",
       "</tbody>\n",
       "</table>\n",
       "</dd>\n",
       "\t<dt>$out</dt>\n",
       "\t\t<dd></dd>\n",
       "\t<dt>$group</dt>\n",
       "\t\t<dd></dd>\n",
       "\t<dt>$names</dt>\n",
       "\t\t<dd>'1'</dd>\n",
       "</dl>\n"
      ],
      "text/latex": [
       "\\begin{description}\n",
       "\\item[\\$stats] A matrix: 5 × 1 of type dbl\n",
       "\\begin{tabular}{l}\n",
       "\t  63.5\\\\\n",
       "\t  80.0\\\\\n",
       "\t  90.8\\\\\n",
       "\t 104.0\\\\\n",
       "\t 121.0\\\\\n",
       "\\end{tabular}\n",
       "\n",
       "\\item[\\$n] 109\n",
       "\\item[\\$conf] A matrix: 2 × 1 of type dbl\n",
       "\\begin{tabular}{l}\n",
       "\t 87.16792\\\\\n",
       "\t 94.43208\\\\\n",
       "\\end{tabular}\n",
       "\n",
       "\\item[\\$out] \n",
       "\\item[\\$group] \n",
       "\\item[\\$names] '1'\n",
       "\\end{description}\n"
      ],
      "text/markdown": [
       "$stats\n",
       ":   \n",
       "A matrix: 5 × 1 of type dbl\n",
       "\n",
       "|  63.5 |\n",
       "|  80.0 |\n",
       "|  90.8 |\n",
       "| 104.0 |\n",
       "| 121.0 |\n",
       "\n",
       "\n",
       "$n\n",
       ":   109\n",
       "$conf\n",
       ":   \n",
       "A matrix: 2 × 1 of type dbl\n",
       "\n",
       "| 87.16792 |\n",
       "| 94.43208 |\n",
       "\n",
       "\n",
       "$out\n",
       ":   \n",
       "$group\n",
       ":   \n",
       "$names\n",
       ":   '1'\n",
       "\n",
       "\n"
      ],
      "text/plain": [
       "$stats\n",
       "      [,1]\n",
       "[1,]  63.5\n",
       "[2,]  80.0\n",
       "[3,]  90.8\n",
       "[4,] 104.0\n",
       "[5,] 121.0\n",
       "\n",
       "$n\n",
       "[1] 109\n",
       "\n",
       "$conf\n",
       "         [,1]\n",
       "[1,] 87.16792\n",
       "[2,] 94.43208\n",
       "\n",
       "$out\n",
       "numeric(0)\n",
       "\n",
       "$group\n",
       "numeric(0)\n",
       "\n",
       "$names\n",
       "[1] \"1\"\n"
      ]
     },
     "metadata": {},
     "output_type": "display_data"
    },
    {
     "data": {
      "text/html": [
       "<dl>\n",
       "\t<dt>$stats</dt>\n",
       "\t\t<dd><table>\n",
       "<caption>A matrix: 5 × 1 of type dbl</caption>\n",
       "<tbody>\n",
       "\t<tr><td> 11.44</td></tr>\n",
       "\t<tr><td> 50.88</td></tr>\n",
       "\t<tr><td> 96.54</td></tr>\n",
       "\t<tr><td>137.00</td></tr>\n",
       "\t<tr><td>253.00</td></tr>\n",
       "</tbody>\n",
       "</table>\n",
       "</dd>\n",
       "\t<dt>$n</dt>\n",
       "\t\t<dd>109</dd>\n",
       "\t<dt>$conf</dt>\n",
       "\t\t<dd><table>\n",
       "<caption>A matrix: 2 × 1 of type dbl</caption>\n",
       "<tbody>\n",
       "\t<tr><td> 83.5069</td></tr>\n",
       "\t<tr><td>109.5731</td></tr>\n",
       "</tbody>\n",
       "</table>\n",
       "</dd>\n",
       "\t<dt>$out</dt>\n",
       "\t\t<dd></dd>\n",
       "\t<dt>$group</dt>\n",
       "\t\t<dd></dd>\n",
       "\t<dt>$names</dt>\n",
       "\t\t<dd>'1'</dd>\n",
       "</dl>\n"
      ],
      "text/latex": [
       "\\begin{description}\n",
       "\\item[\\$stats] A matrix: 5 × 1 of type dbl\n",
       "\\begin{tabular}{l}\n",
       "\t  11.44\\\\\n",
       "\t  50.88\\\\\n",
       "\t  96.54\\\\\n",
       "\t 137.00\\\\\n",
       "\t 253.00\\\\\n",
       "\\end{tabular}\n",
       "\n",
       "\\item[\\$n] 109\n",
       "\\item[\\$conf] A matrix: 2 × 1 of type dbl\n",
       "\\begin{tabular}{l}\n",
       "\t  83.5069\\\\\n",
       "\t 109.5731\\\\\n",
       "\\end{tabular}\n",
       "\n",
       "\\item[\\$out] \n",
       "\\item[\\$group] \n",
       "\\item[\\$names] '1'\n",
       "\\end{description}\n"
      ],
      "text/markdown": [
       "$stats\n",
       ":   \n",
       "A matrix: 5 × 1 of type dbl\n",
       "\n",
       "|  11.44 |\n",
       "|  50.88 |\n",
       "|  96.54 |\n",
       "| 137.00 |\n",
       "| 253.00 |\n",
       "\n",
       "\n",
       "$n\n",
       ":   109\n",
       "$conf\n",
       ":   \n",
       "A matrix: 2 × 1 of type dbl\n",
       "\n",
       "|  83.5069 |\n",
       "| 109.5731 |\n",
       "\n",
       "\n",
       "$out\n",
       ":   \n",
       "$group\n",
       ":   \n",
       "$names\n",
       ":   '1'\n",
       "\n",
       "\n"
      ],
      "text/plain": [
       "$stats\n",
       "       [,1]\n",
       "[1,]  11.44\n",
       "[2,]  50.88\n",
       "[3,]  96.54\n",
       "[4,] 137.00\n",
       "[5,] 253.00\n",
       "\n",
       "$n\n",
       "[1] 109\n",
       "\n",
       "$conf\n",
       "         [,1]\n",
       "[1,]  83.5069\n",
       "[2,] 109.5731\n",
       "\n",
       "$out\n",
       "numeric(0)\n",
       "\n",
       "$group\n",
       "numeric(0)\n",
       "\n",
       "$names\n",
       "[1] \"1\"\n"
      ]
     },
     "metadata": {},
     "output_type": "display_data"
    },
    {
     "data": {
      "image/png": "[encoded data removed]",
      "text/plain": [
       "plot without title"
      ]
     },
     "metadata": {
      "image/png": {
       "height": 420,
       "width": 420
      },
      "text/plain": {
       "height": 420,
       "width": 420
      }
     },
     "output_type": "display_data"
    }
   ],
   "source": [
    "waist_outlier <- boxplot(Waist) # still looking for outliers if present methology 2 part of data cleaning \n",
    "at_outlier <-  boxplot(AT)\n",
    "waist_outlier# to see the outliers at very begining \n",
    "at_outlier"
   ]
  },
  {
   "cell_type": "code",
   "execution_count": 7,
   "metadata": {},
   "outputs": [
    {
     "data": {
      "image/png": "[encoded data removed]",
      "text/plain": [
       "plot without title"
      ]
     },
     "metadata": {
      "image/png": {
       "height": 420,
       "width": 420
      },
      "text/plain": {
       "height": 420,
       "width": 420
      }
     },
     "output_type": "display_data"
    }
   ],
   "source": [
    "plot(Waist,AT ) # distance distance plot to see outliers both side"
   ]
  },
  {
   "cell_type": "markdown",
   "metadata": {},
   "source": [
    "################################(Basics-Statistics & Visualizations EDA)###############################################"
   ]
  },
  {
   "cell_type": "code",
   "execution_count": 8,
   "metadata": {},
   "outputs": [
    {
     "data": {
      "text/html": [
       "<style>\n",
       ".list-inline {list-style: none; margin:0; padding: 0}\n",
       ".list-inline>li {display: inline-block}\n",
       ".list-inline>li:not(:last-child)::after {content: \"\\00b7\"; padding: 0 .5ex}\n",
       "</style>\n",
       "<ol class=list-inline><li>109</li><li>2</li></ol>\n"
      ],
      "text/latex": [
       "\\begin{enumerate*}\n",
       "\\item 109\n",
       "\\item 2\n",
       "\\end{enumerate*}\n"
      ],
      "text/markdown": [
       "1. 109\n",
       "2. 2\n",
       "\n",
       "\n"
      ],
      "text/plain": [
       "[1] 109   2"
      ]
     },
     "metadata": {},
     "output_type": "display_data"
    },
    {
     "name": "stdout",
     "output_type": "stream",
     "text": [
      "'data.frame':\t109 obs. of  2 variables:\n",
      " $ Waist: num  74.8 72.6 81.8 84 74.7 ...\n",
      " $ AT   : num  25.7 25.9 42.6 42.8 29.8 ...\n"
     ]
    },
    {
     "data": {
      "text/html": [
       "0"
      ],
      "text/latex": [
       "0"
      ],
      "text/markdown": [
       "0"
      ],
      "text/plain": [
       "[1] 0"
      ]
     },
     "metadata": {},
     "output_type": "display_data"
    },
    {
     "data": {
      "text/html": [
       "91.9018348623853"
      ],
      "text/latex": [
       "91.9018348623853"
      ],
      "text/markdown": [
       "91.9018348623853"
      ],
      "text/plain": [
       "[1] 91.90183"
      ]
     },
     "metadata": {},
     "output_type": "display_data"
    },
    {
     "data": {
      "text/html": [
       "101.894036697248"
      ],
      "text/latex": [
       "101.894036697248"
      ],
      "text/markdown": [
       "101.894036697248"
      ],
      "text/plain": [
       "[1] 101.894"
      ]
     },
     "metadata": {},
     "output_type": "display_data"
    }
   ],
   "source": [
    "# Pre porcessing data checking for NA values \n",
    "dim(wcat)\n",
    "str(wcat)  # data frame \n",
    "sum(is.na(wcat)==T) # as there is no NA value if 0 there is no na value exist\n",
    "\n",
    "mean(wcat$Waist) # checking if perfectly mean is coming or not \n",
    "mean(wcat$AT) # mean is proof there is no NA value\n"
   ]
  },
  {
   "cell_type": "code",
   "execution_count": 9,
   "metadata": {},
   "outputs": [
    {
     "data": {
      "image/png": "[encoded data removed]",
      "text/plain": [
       "Plot with title \"Normal Q-Q Plot\""
      ]
     },
     "metadata": {
      "image/png": {
       "height": 420,
       "width": 420
      },
      "text/plain": {
       "height": 420,
       "width": 420
      }
     },
     "output_type": "display_data"
    }
   ],
   "source": [
    "#normality check basic it seems data is not normal  as points are not no line \n",
    "qqnorm(Waist)\n",
    "qqline(Waist)"
   ]
  },
  {
   "cell_type": "code",
   "execution_count": 10,
   "metadata": {},
   "outputs": [
    {
     "data": {
      "image/png": "[encoded data removed]",
      "text/plain": [
       "Plot with title \"Normal Q-Q Plot\""
      ]
     },
     "metadata": {
      "image/png": {
       "height": 420,
       "width": 420
      },
      "text/plain": {
       "height": 420,
       "width": 420
      }
     },
     "output_type": "display_data"
    }
   ],
   "source": [
    "# lests check basic normality of AT it seems fit to the  normal but still need  a fix \n",
    "qqnorm(AT)\n",
    "qqline(AT)"
   ]
  },
  {
   "cell_type": "code",
   "execution_count": 11,
   "metadata": {},
   "outputs": [
    {
     "data": {
      "text/html": [
       "0.818557812895853"
      ],
      "text/latex": [
       "0.818557812895853"
      ],
      "text/markdown": [
       "0.818557812895853"
      ],
      "text/plain": [
       "[1] 0.8185578"
      ]
     },
     "metadata": {},
     "output_type": "display_data"
    }
   ],
   "source": [
    "# lets check the cor-relation between those 2 variable \n",
    "cor(Waist,AT) # correlation is preety fine "
   ]
  },
  {
   "cell_type": "code",
   "execution_count": 12,
   "metadata": {},
   "outputs": [
    {
     "name": "stderr",
     "output_type": "stream",
     "text": [
      "The following objects are masked from wcat (pos = 5):\n",
      "\n",
      "    AT, Waist\n",
      "\n",
      "\n"
     ]
    },
    {
     "data": {
      "text/html": [
       "87"
      ],
      "text/latex": [
       "87"
      ],
      "text/markdown": [
       "87"
      ],
      "text/plain": [
       "[1] 87"
      ]
     },
     "metadata": {},
     "output_type": "display_data"
    }
   ],
   "source": [
    "#sample split data into train test 80:20 ration \n",
    "library(ISLR)\n",
    "attach(wcat)\n",
    "smp_siz = floor(0.80*nrow(wcat))  # creates a value for dividing the data into train and test. In this case the value is defined as 75% of the number of rows in the dataset\n",
    "smp_siz  # shows the value of the sample size"
   ]
  },
  {
   "cell_type": "code",
   "execution_count": 13,
   "metadata": {},
   "outputs": [],
   "source": [
    "set.seed(123)   # set seed to ensure you always have same random numbers generated\n",
    "train_ind = sample(seq_len(nrow(wcat)),size = smp_siz)  # Randomly identifies therows equal to sample size ( defined in previous instruction) from  all the rows of Smarket dataset and stores the row number in train_ind\n",
    "train =wcat[train_ind,] #creates the training dataset with row numbers stored in train_ind\n",
    "test=wcat[-train_ind,]  # creates the test dataset excluding the row numbers mentioned in train_ind"
   ]
  },
  {
   "cell_type": "code",
   "execution_count": 14,
   "metadata": {},
   "outputs": [
    {
     "data": {
      "text/html": [
       "<table>\n",
       "<caption>A data.frame: 22 × 2</caption>\n",
       "<thead>\n",
       "\t<tr><th></th><th scope=col>Waist</th><th scope=col>AT</th></tr>\n",
       "\t<tr><th></th><th scope=col>&lt;dbl&gt;</th><th scope=col>&lt;dbl&gt;</th></tr>\n",
       "</thead>\n",
       "<tbody>\n",
       "\t<tr><th scope=row>1</th><td> 74.75</td><td> 25.72</td></tr>\n",
       "\t<tr><th scope=row>2</th><td> 72.60</td><td> 25.89</td></tr>\n",
       "\t<tr><th scope=row>10</th><td> 73.20</td><td> 32.22</td></tr>\n",
       "\t<tr><th scope=row>11</th><td> 71.90</td><td> 28.32</td></tr>\n",
       "\t<tr><th scope=row>19</th><td> 73.80</td><td> 43.35</td></tr>\n",
       "\t<tr><th scope=row>20</th><td> 75.90</td><td> 29.31</td></tr>\n",
       "\t<tr><th scope=row>24</th><td> 89.20</td><td> 60.09</td></tr>\n",
       "\t<tr><th scope=row>28</th><td> 80.50</td><td> 84.30</td></tr>\n",
       "\t<tr><th scope=row>29</th><td> 86.00</td><td> 78.89</td></tr>\n",
       "\t<tr><th scope=row>40</th><td> 79.00</td><td> 55.48</td></tr>\n",
       "\t<tr><th scope=row>44</th><td> 86.50</td><td>140.00</td></tr>\n",
       "\t<tr><th scope=row>49</th><td> 79.70</td><td> 65.92</td></tr>\n",
       "\t<tr><th scope=row>55</th><td> 78.40</td><td> 41.71</td></tr>\n",
       "\t<tr><th scope=row>56</th><td> 78.60</td><td> 58.16</td></tr>\n",
       "\t<tr><th scope=row>58</th><td> 86.30</td><td>155.00</td></tr>\n",
       "\t<tr><th scope=row>61</th><td> 77.60</td><td> 57.05</td></tr>\n",
       "\t<tr><th scope=row>65</th><td>119.60</td><td> 90.41</td></tr>\n",
       "\t<tr><th scope=row>77</th><td>103.00</td><td>109.00</td></tr>\n",
       "\t<tr><th scope=row>85</th><td>108.50</td><td>183.00</td></tr>\n",
       "\t<tr><th scope=row>88</th><td>108.50</td><td>159.00</td></tr>\n",
       "\t<tr><th scope=row>95</th><td> 97.00</td><td>137.00</td></tr>\n",
       "\t<tr><th scope=row>103</th><td>115.00</td><td>253.00</td></tr>\n",
       "</tbody>\n",
       "</table>\n"
      ],
      "text/latex": [
       "A data.frame: 22 × 2\n",
       "\\begin{tabular}{r|ll}\n",
       "  & Waist & AT\\\\\n",
       "  & <dbl> & <dbl>\\\\\n",
       "\\hline\n",
       "\t1 &  74.75 &  25.72\\\\\n",
       "\t2 &  72.60 &  25.89\\\\\n",
       "\t10 &  73.20 &  32.22\\\\\n",
       "\t11 &  71.90 &  28.32\\\\\n",
       "\t19 &  73.80 &  43.35\\\\\n",
       "\t20 &  75.90 &  29.31\\\\\n",
       "\t24 &  89.20 &  60.09\\\\\n",
       "\t28 &  80.50 &  84.30\\\\\n",
       "\t29 &  86.00 &  78.89\\\\\n",
       "\t40 &  79.00 &  55.48\\\\\n",
       "\t44 &  86.50 & 140.00\\\\\n",
       "\t49 &  79.70 &  65.92\\\\\n",
       "\t55 &  78.40 &  41.71\\\\\n",
       "\t56 &  78.60 &  58.16\\\\\n",
       "\t58 &  86.30 & 155.00\\\\\n",
       "\t61 &  77.60 &  57.05\\\\\n",
       "\t65 & 119.60 &  90.41\\\\\n",
       "\t77 & 103.00 & 109.00\\\\\n",
       "\t85 & 108.50 & 183.00\\\\\n",
       "\t88 & 108.50 & 159.00\\\\\n",
       "\t95 &  97.00 & 137.00\\\\\n",
       "\t103 & 115.00 & 253.00\\\\\n",
       "\\end{tabular}\n"
      ],
      "text/markdown": [
       "\n",
       "A data.frame: 22 × 2\n",
       "\n",
       "| <!--/--> | Waist &lt;dbl&gt; | AT &lt;dbl&gt; |\n",
       "|---|---|---|\n",
       "| 1 |  74.75 |  25.72 |\n",
       "| 2 |  72.60 |  25.89 |\n",
       "| 10 |  73.20 |  32.22 |\n",
       "| 11 |  71.90 |  28.32 |\n",
       "| 19 |  73.80 |  43.35 |\n",
       "| 20 |  75.90 |  29.31 |\n",
       "| 24 |  89.20 |  60.09 |\n",
       "| 28 |  80.50 |  84.30 |\n",
       "| 29 |  86.00 |  78.89 |\n",
       "| 40 |  79.00 |  55.48 |\n",
       "| 44 |  86.50 | 140.00 |\n",
       "| 49 |  79.70 |  65.92 |\n",
       "| 55 |  78.40 |  41.71 |\n",
       "| 56 |  78.60 |  58.16 |\n",
       "| 58 |  86.30 | 155.00 |\n",
       "| 61 |  77.60 |  57.05 |\n",
       "| 65 | 119.60 |  90.41 |\n",
       "| 77 | 103.00 | 109.00 |\n",
       "| 85 | 108.50 | 183.00 |\n",
       "| 88 | 108.50 | 159.00 |\n",
       "| 95 |  97.00 | 137.00 |\n",
       "| 103 | 115.00 | 253.00 |\n",
       "\n"
      ],
      "text/plain": [
       "    Waist  AT    \n",
       "1    74.75  25.72\n",
       "2    72.60  25.89\n",
       "10   73.20  32.22\n",
       "11   71.90  28.32\n",
       "19   73.80  43.35\n",
       "20   75.90  29.31\n",
       "24   89.20  60.09\n",
       "28   80.50  84.30\n",
       "29   86.00  78.89\n",
       "40   79.00  55.48\n",
       "44   86.50 140.00\n",
       "49   79.70  65.92\n",
       "55   78.40  41.71\n",
       "56   78.60  58.16\n",
       "58   86.30 155.00\n",
       "61   77.60  57.05\n",
       "65  119.60  90.41\n",
       "77  103.00 109.00\n",
       "85  108.50 183.00\n",
       "88  108.50 159.00\n",
       "95   97.00 137.00\n",
       "103 115.00 253.00"
      ]
     },
     "metadata": {},
     "output_type": "display_data"
    }
   ],
   "source": [
    "test # we can see data is splitede 80:20 ration split"
   ]
  },
  {
   "cell_type": "code",
   "execution_count": 15,
   "metadata": {},
   "outputs": [
    {
     "data": {
      "text/html": [
       "32.7601774957551"
      ],
      "text/latex": [
       "32.7601774957551"
      ],
      "text/markdown": [
       "32.7601774957551"
      ],
      "text/plain": [
       "[1] 32.76018"
      ]
     },
     "metadata": {},
     "output_type": "display_data"
    },
    {
     "data": {
      "image/png": "[encoded data removed]",
      "text/plain": [
       "plot without title"
      ]
     },
     "metadata": {
      "image/png": {
       "height": 420,
       "width": 420
      },
      "text/plain": {
       "height": 420,
       "width": 420
      }
     },
     "output_type": "display_data"
    }
   ],
   "source": [
    "# we trying to fit a linear regression line  by plotting linear model \n",
    "lm <- lm(AT~Waist,data=wcat) # linear model\n",
    "rmse <- sqrt(mean(lm$residuals^2))\n",
    "rmse\n",
    "plot(Waist, AT) # scatter plot X is Waist and y is AT\n",
    "abline(lm(AT~Waist,data = wcat),col = 'red') # made a regression line "
   ]
  },
  {
   "cell_type": "code",
   "execution_count": 16,
   "metadata": {},
   "outputs": [
    {
     "data": {
      "image/png": "[encoded data removed]",
      "text/plain": [
       "Plot with title \"Normal Q-Q Plot\""
      ]
     },
     "metadata": {
      "image/png": {
       "height": 420,
       "width": 420
      },
      "text/plain": {
       "height": 420,
       "width": 420
      }
     },
     "output_type": "display_data"
    },
    {
     "data": {
      "image/png": "[encoded data removed]",
      "text/plain": [
       "Plot with title \"Normal Q-Q Plot\""
      ]
     },
     "metadata": {
      "image/png": {
       "height": 420,
       "width": 420
      },
      "text/plain": {
       "height": 420,
       "width": 420
      }
     },
     "output_type": "display_data"
    },
    {
     "data": {
      "image/png": "[encoded data removed]",
      "text/plain": [
       "Plot with title \"Normal Q-Q Plot\""
      ]
     },
     "metadata": {
      "image/png": {
       "height": 420,
       "width": 420
      },
      "text/plain": {
       "height": 420,
       "width": 420
      }
     },
     "output_type": "display_data"
    },
    {
     "data": {
      "image/png": "[encoded data removed]",
      "text/plain": [
       "Plot with title \"Normal Q-Q Plot\""
      ]
     },
     "metadata": {
      "image/png": {
       "height": 420,
       "width": 420
      },
      "text/plain": {
       "height": 420,
       "width": 420
      }
     },
     "output_type": "display_data"
    },
    {
     "data": {
      "image/png": "[encoded data removed]",
      "text/plain": [
       "Plot with title \"Normal Q-Q Plot\""
      ]
     },
     "metadata": {
      "image/png": {
       "height": 420,
       "width": 420
      },
      "text/plain": {
       "height": 420,
       "width": 420
      }
     },
     "output_type": "display_data"
    },
    {
     "data": {
      "image/png": "[encoded data removed]",
      "text/plain": [
       "Plot with title \"Normal Q-Q Plot\""
      ]
     },
     "metadata": {
      "image/png": {
       "height": 420,
       "width": 420
      },
      "text/plain": {
       "height": 420,
       "width": 420
      }
     },
     "output_type": "display_data"
    },
    {
     "data": {
      "image/png": "[encoded data removed]",
      "text/plain": [
       "Plot with title \"Normal Q-Q Plot\""
      ]
     },
     "metadata": {
      "image/png": {
       "height": 420,
       "width": 420
      },
      "text/plain": {
       "height": 420,
       "width": 420
      }
     },
     "output_type": "display_data"
    }
   ],
   "source": [
    "# Dignosis of model in qqnorm mothod\n",
    "\n",
    "qqnorm(resid(lm))# checking linearity residuals of linear model\n",
    "qqline(resid(lm)) # trying to fitting a line on the model made\n",
    "qqnorm(fitted(lm)) # checking fittled \n",
    "qqline(fitted(lm)) # linear model fitting line\n",
    "qqnorm(fitted.values(lm))# checking fitted values\n",
    "qqline(fitted.values(lm))# checking fitted values\n",
    "qqnorm(residuals(lm))# checking residials \n",
    "qqline(residuals(lm))# fitting line on residuals\n",
    "qqnorm(effects(lm)) # effects of lm in quantiles\n",
    "qqline(effects(lm)) # fitting line on effects\n",
    "qqnorm(df.residual(lm)) # checking digree of freedom\n",
    "qqnorm(coefficients(lm))# checking cofficnent point on lm. \n"
   ]
  },
  {
   "cell_type": "code",
   "execution_count": 17,
   "metadata": {},
   "outputs": [
    {
     "data": {
      "image/png": "[encoded data removed]",
      "text/plain": [
       "Plot with title \"\""
      ]
     },
     "metadata": {
      "image/png": {
       "height": 420,
       "width": 420
      },
      "text/plain": {
       "height": 420,
       "width": 420
      }
     },
     "output_type": "display_data"
    },
    {
     "data": {
      "image/png": "[encoded data removed]",
      "text/plain": [
       "Plot with title \"\""
      ]
     },
     "metadata": {
      "image/png": {
       "height": 420,
       "width": 420
      },
      "text/plain": {
       "height": 420,
       "width": 420
      }
     },
     "output_type": "display_data"
    },
    {
     "data": {
      "image/png": "[encoded data removed]",
      "text/plain": [
       "Plot with title \"\""
      ]
     },
     "metadata": {
      "image/png": {
       "height": 420,
       "width": 420
      },
      "text/plain": {
       "height": 420,
       "width": 420
      }
     },
     "output_type": "display_data"
    },
    {
     "data": {
      "image/png": "[encoded data removed]",
      "text/plain": [
       "Plot with title \"\""
      ]
     },
     "metadata": {
      "image/png": {
       "height": 420,
       "width": 420
      },
      "text/plain": {
       "height": 420,
       "width": 420
      }
     },
     "output_type": "display_data"
    },
    {
     "data": {
      "image/png": "[encoded data removed]",
      "text/plain": [
       "Plot with title \"\""
      ]
     },
     "metadata": {
      "image/png": {
       "height": 420,
       "width": 420
      },
      "text/plain": {
       "height": 420,
       "width": 420
      }
     },
     "output_type": "display_data"
    },
    {
     "data": {
      "image/png": "[encoded data removed]",
      "text/plain": [
       "Plot with title \"\""
      ]
     },
     "metadata": {
      "image/png": {
       "height": 420,
       "width": 420
      },
      "text/plain": {
       "height": 420,
       "width": 420
      }
     },
     "output_type": "display_data"
    }
   ],
   "source": [
    "# model dignostic plot Can be indivisually seen , we can see each value and Hetrocatasticity which is affecting out data set\n",
    "plot(lm,1) # (hetrocatasticity of data Residuals vs fitted red line visible)\n",
    "plot(lm,2)# 97 is visible as outlier is visible\n",
    "plot(lm,3)# Scale of values \n",
    "plot(lm,4)# cooks distance  visible as outliers excess value 65 , 66, 103\n",
    "plot(lm,5)# residual Vs fitted values \n",
    "plot(lm,6)# Cooks disctance vs liverage view of outliers how it is influensive\n"
   ]
  },
  {
   "cell_type": "code",
   "execution_count": 18,
   "metadata": {},
   "outputs": [
    {
     "data": {
      "image/png": "[encoded data removed]",
      "text/plain": [
       "Plot with title \"\""
      ]
     },
     "metadata": {
      "image/png": {
       "height": 420,
       "width": 420
      },
      "text/plain": {
       "height": 420,
       "width": 420
      }
     },
     "output_type": "display_data"
    }
   ],
   "source": [
    "# dignostic plot togeather all need to increase size \n",
    "par(mfrow = c(2, 2))\n",
    "plot(lm)"
   ]
  },
  {
   "cell_type": "code",
   "execution_count": 19,
   "metadata": {},
   "outputs": [
    {
     "name": "stderr",
     "output_type": "stream",
     "text": [
      "-- \u001b[1mAttaching packages\u001b[22m --------------------------------------- tidyverse 1.3.0 --\n",
      "\n",
      "\u001b[32mv\u001b[39m \u001b[34mggplot2\u001b[39m 3.3.0     \u001b[32mv\u001b[39m \u001b[34mpurrr  \u001b[39m 0.3.3\n",
      "\u001b[32mv\u001b[39m \u001b[34mtibble \u001b[39m 3.0.1     \u001b[32mv\u001b[39m \u001b[34mdplyr  \u001b[39m 0.8.5\n",
      "\u001b[32mv\u001b[39m \u001b[34mtidyr  \u001b[39m 1.0.2     \u001b[32mv\u001b[39m \u001b[34mstringr\u001b[39m 1.4.0\n",
      "\u001b[32mv\u001b[39m \u001b[34mreadr  \u001b[39m 1.3.1     \u001b[32mv\u001b[39m \u001b[34mforcats\u001b[39m 0.5.0\n",
      "\n",
      "-- \u001b[1mConflicts\u001b[22m ------------------------------------------ tidyverse_conflicts() --\n",
      "\u001b[31mx\u001b[39m \u001b[34mdplyr\u001b[39m::\u001b[32mfilter()\u001b[39m masks \u001b[34mstats\u001b[39m::filter()\n",
      "\u001b[31mx\u001b[39m \u001b[34mdplyr\u001b[39m::\u001b[32mlag()\u001b[39m    masks \u001b[34mstats\u001b[39m::lag()\n",
      "\n",
      "\n",
      "Attaching package: 'broom'\n",
      "\n",
      "\n",
      "The following object is masked from 'package:modelr':\n",
      "\n",
      "    bootstrap\n",
      "\n",
      "\n"
     ]
    },
    {
     "name": "stdout",
     "output_type": "stream",
     "text": [
      "Potentially influential observations of\n",
      "\t lm(formula = AT ~ Waist, data = wcat) :\n",
      "\n",
      "    dfb.1_ dfb.Wast dffit   cov.r   cook.d hat  \n",
      "9    0.05  -0.05     0.06    1.07_*  0.00   0.05\n",
      "58   0.12  -0.09     0.23    0.94_*  0.03   0.01\n",
      "65   0.65  -0.70    -0.78_*  0.86_*  0.28   0.05\n",
      "66   0.56  -0.61    -0.67_*  0.91_*  0.21   0.05\n",
      "97  -0.24   0.29     0.40    0.90_*  0.07   0.02\n",
      "103 -0.34   0.37     0.43_*  0.96    0.09   0.04\n"
     ]
    },
    {
     "data": {
      "image/png": "[encoded data removed]",
      "text/plain": [
       "plot without title"
      ]
     },
     "metadata": {
      "image/png": {
       "height": 420,
       "width": 420
      },
      "text/plain": {
       "height": 420,
       "width": 420
      }
     },
     "output_type": "display_data"
    }
   ],
   "source": [
    "#dignostic plot togeather with outliers with autopilot\n",
    "#install.packages(\"ggfortify\")\n",
    "# second method of dignostic plot ggplot 2 \n",
    "library(\"tidyverse\")\n",
    "library(\"modelr\")\n",
    "library(\"broom\")\n",
    "library(\"ggfortify\")\n",
    "autoplot(lm)\n",
    "summary(influence.measures(lm)) # we can have influence measure of cookr and hat value"
   ]
  },
  {
   "cell_type": "code",
   "execution_count": 20,
   "metadata": {},
   "outputs": [
    {
     "ename": "ERROR",
     "evalue": "Error in outlierTest(lm): could not find function \"outlierTest\"\n",
     "output_type": "error",
     "traceback": [
      "Error in outlierTest(lm): could not find function \"outlierTest\"\nTraceback:\n"
     ]
    }
   ],
   "source": [
    "# Exploring numbers and adding regrression line to daat \n",
    "outlierTest(lm) # to see the outliers we can see  65 as  outliers is it true\n",
    "plot(wcat$AT~wcat$Waist,col=\"lightblue\",pch =19,cex =2,data =wcat)\n",
    "text(AT ~Waist, labels=rownames(wcat),data=wcat, cex=0.9, font=2)\n",
    "abline(lm,col='red',lwd =3)"
   ]
  },
  {
   "cell_type": "code",
   "execution_count": 21,
   "metadata": {},
   "outputs": [
    {
     "data": {
      "text/plain": [
       "\n",
       "Call:\n",
       "lm(formula = AT ~ Waist, data = wcat)\n",
       "\n",
       "Residuals:\n",
       "     Min       1Q   Median       3Q      Max \n",
       "-107.288  -19.143   -2.939   16.376   90.342 \n",
       "\n",
       "Coefficients:\n",
       "             Estimate Std. Error t value Pr(>|t|)    \n",
       "(Intercept) -215.9815    21.7963  -9.909   <2e-16 ***\n",
       "Waist          3.4589     0.2347  14.740   <2e-16 ***\n",
       "---\n",
       "Signif. codes:  0 '***' 0.001 '**' 0.01 '*' 0.05 '.' 0.1 ' ' 1\n",
       "\n",
       "Residual standard error: 33.06 on 107 degrees of freedom\n",
       "Multiple R-squared:   0.67,\tAdjusted R-squared:  0.667 \n",
       "F-statistic: 217.3 on 1 and 107 DF,  p-value: < 2.2e-16\n"
      ]
     },
     "metadata": {},
     "output_type": "display_data"
    },
    {
     "data": {
      "image/png": "[encoded data removed]",
      "text/plain": [
       "plot without title"
      ]
     },
     "metadata": {
      "image/png": {
       "height": 420,
       "width": 420
      },
      "text/plain": {
       "height": 420,
       "width": 420
      }
     },
     "output_type": "display_data"
    }
   ],
   "source": [
    "# adding regression line with ggplot2 A scattar plot \n",
    "ggplot(wcat,aes(x=Waist,y=AT)) +geom_point()+geom_abline(intercept = -215.981488  ,slope =  3.458859,color ='red',size =.65 )# visualizsing geoom point \n",
    "\n",
    "summary(lm)"
   ]
  },
  {
   "cell_type": "code",
   "execution_count": 22,
   "metadata": {},
   "outputs": [
    {
     "data": {
      "image/png": "[encoded data removed]",
      "text/plain": [
       "plot without title"
      ]
     },
     "metadata": {
      "image/png": {
       "height": 420,
       "width": 420
      },
      "text/plain": {
       "height": 420,
       "width": 420
      }
     },
     "output_type": "display_data"
    }
   ],
   "source": [
    "# ggpoot2 to visualise data potint understanding each data point \n",
    "ggplot(wcat,aes(x=Waist,y=AT)) + geom_point(size=1) + geom_text(label = row.names(wcat))+geom_abline(intercept = -215.981488  ,slope =  3.458859,color ='red',size =1 )# visualizsing geoom point with line"
   ]
  },
  {
   "cell_type": "markdown",
   "metadata": {},
   "source": [
    "####################################### Checking normality of Data for further annalysis######################################"
   ]
  },
  {
   "cell_type": "code",
   "execution_count": null,
   "metadata": {},
   "outputs": [],
   "source": []
  },
  {
   "cell_type": "markdown",
   "metadata": {},
   "source": [
    "########################################## Model building #####################################################################"
   ]
  },
  {
   "cell_type": "code",
   "execution_count": 23,
   "metadata": {},
   "outputs": [
    {
     "data": {
      "text/html": [
       "32.7601774957551"
      ],
      "text/latex": [
       "32.7601774957551"
      ],
      "text/markdown": [
       "32.7601774957551"
      ],
      "text/plain": [
       "[1] 32.76018"
      ]
     },
     "metadata": {},
     "output_type": "display_data"
    },
    {
     "data": {
      "text/plain": [
       "\n",
       "Call:\n",
       "lm(formula = AT ~ Waist, data = train)\n",
       "\n",
       "Residuals:\n",
       "    Min      1Q  Median      3Q     Max \n",
       "-94.525 -19.918  -2.841  15.967  89.714 \n",
       "\n",
       "Coefficients:\n",
       "             Estimate Std. Error t value Pr(>|t|)    \n",
       "(Intercept) -224.1995    24.9464  -8.987 5.73e-14 ***\n",
       "Waist          3.5423     0.2653  13.351  < 2e-16 ***\n",
       "---\n",
       "Signif. codes:  0 '***' 0.001 '**' 0.01 '*' 0.05 '.' 0.1 ' ' 1\n",
       "\n",
       "Residual standard error: 32.07 on 85 degrees of freedom\n",
       "Multiple R-squared:  0.6771,\tAdjusted R-squared:  0.6733 \n",
       "F-statistic: 178.2 on 1 and 85 DF,  p-value: < 2.2e-16\n"
      ]
     },
     "metadata": {},
     "output_type": "display_data"
    },
    {
     "data": {
      "image/png": "[encoded data removed]",
      "text/plain": [
       "plot without title"
      ]
     },
     "metadata": {
      "image/png": {
       "height": 420,
       "width": 420
      },
      "text/plain": {
       "height": 420,
       "width": 420
      }
     },
     "output_type": "display_data"
    }
   ],
   "source": [
    "# lets make a linear model With training data set and test it \n",
    "# we trying to fit a linear regression line  by plotting linear model \n",
    "lm_train <- lm(AT~Waist,data=train) # linear model\n",
    "rmse_train <- sqrt(mean(lm$residuals^2))\n",
    "rmse_train # priliminary model gives rmse 32 which is error is higher \n",
    "plot(Waist, AT) # scatter plot X is Waist and y is AT\n",
    "abline(lm(AT~Waist,data = train),col = 'red') # made a regression line \n",
    "summary(lm_train)\n",
    "\n"
   ]
  },
  {
   "cell_type": "code",
   "execution_count": 24,
   "metadata": {},
   "outputs": [
    {
     "data": {
      "text/html": [
       "<table>\n",
       "<caption>A matrix: 2 × 2 of type dbl</caption>\n",
       "<thead>\n",
       "\t<tr><th></th><th scope=col>2.5 %</th><th scope=col>97.5 %</th></tr>\n",
       "</thead>\n",
       "<tbody>\n",
       "\t<tr><th scope=row>(Intercept)</th><td>-273.799598</td><td>-174.599404</td></tr>\n",
       "\t<tr><th scope=row>Waist</th><td>   3.014777</td><td>   4.069862</td></tr>\n",
       "</tbody>\n",
       "</table>\n"
      ],
      "text/latex": [
       "A matrix: 2 × 2 of type dbl\n",
       "\\begin{tabular}{r|ll}\n",
       "  & 2.5 \\% & 97.5 \\%\\\\\n",
       "\\hline\n",
       "\t(Intercept) & -273.799598 & -174.599404\\\\\n",
       "\tWaist &    3.014777 &    4.069862\\\\\n",
       "\\end{tabular}\n"
      ],
      "text/markdown": [
       "\n",
       "A matrix: 2 × 2 of type dbl\n",
       "\n",
       "| <!--/--> | 2.5 % | 97.5 % |\n",
       "|---|---|---|\n",
       "| (Intercept) | -273.799598 | -174.599404 |\n",
       "| Waist |    3.014777 |    4.069862 |\n",
       "\n"
      ],
      "text/plain": [
       "            2.5 %       97.5 %     \n",
       "(Intercept) -273.799598 -174.599404\n",
       "Waist          3.014777    4.069862"
      ]
     },
     "metadata": {},
     "output_type": "display_data"
    }
   ],
   "source": [
    "confint(lm_train,level=0.95)"
   ]
  },
  {
   "cell_type": "code",
   "execution_count": 25,
   "metadata": {},
   "outputs": [
    {
     "data": {
      "text/html": [
       "<table>\n",
       "<caption>A matrix: 87 × 3 of type dbl</caption>\n",
       "<thead>\n",
       "\t<tr><th></th><th scope=col>fit</th><th scope=col>lwr</th><th scope=col>upr</th></tr>\n",
       "</thead>\n",
       "<tbody>\n",
       "\t<tr><th scope=row>31</th><td> 71.584173</td><td> 63.06837</td><td> 80.09998</td></tr>\n",
       "\t<tr><th scope=row>79</th><td>151.286360</td><td>141.64854</td><td>160.92418</td></tr>\n",
       "\t<tr><th scope=row>51</th><td> 93.900785</td><td> 86.84254</td><td>100.95903</td></tr>\n",
       "\t<tr><th scope=row>14</th><td> 55.643735</td><td> 45.53143</td><td> 65.75604</td></tr>\n",
       "\t<tr><th scope=row>67</th><td>117.634326</td><td>110.56910</td><td>124.69955</td></tr>\n",
       "\t<tr><th scope=row>42</th><td> 45.016777</td><td> 33.68774</td><td> 56.34581</td></tr>\n",
       "\t<tr><th scope=row>50</th><td> 56.706431</td><td> 46.71016</td><td> 66.70270</td></tr>\n",
       "\t<tr><th scope=row>43</th><td> 60.957215</td><td> 51.41294</td><td> 70.50148</td></tr>\n",
       "\t<tr><th scope=row>101</th><td>151.286360</td><td>141.64854</td><td>160.92418</td></tr>\n",
       "\t<tr><th scope=row>106</th><td>106.298903</td><td> 99.46127</td><td>113.13654</td></tr>\n",
       "\t<tr><th scope=row>25</th><td> 66.270694</td><td> 57.26071</td><td> 75.28068</td></tr>\n",
       "\t<tr><th scope=row>90</th><td>161.913319</td><td>151.10159</td><td>172.72505</td></tr>\n",
       "\t<tr><th scope=row>91</th><td>121.176645</td><td>113.96035</td><td>128.39295</td></tr>\n",
       "\t<tr><th scope=row>69</th><td>147.744041</td><td>138.47048</td><td>157.01760</td></tr>\n",
       "\t<tr><th scope=row>97</th><td>151.286360</td><td>141.64854</td><td>160.92418</td></tr>\n",
       "\t<tr><th scope=row>57</th><td> 86.816147</td><td> 79.42482</td><td> 94.20748</td></tr>\n",
       "\t<tr><th scope=row>92</th><td>149.515201</td><td>140.06143</td><td>158.96897</td></tr>\n",
       "\t<tr><th scope=row>9</th><td>  0.737784</td><td>-16.32003</td><td> 17.79560</td></tr>\n",
       "\t<tr><th scope=row>72</th><td>133.574763</td><td>125.57414</td><td>141.57538</td></tr>\n",
       "\t<tr><th scope=row>26</th><td>101.693888</td><td> 94.83124</td><td>108.55654</td></tr>\n",
       "\t<tr><th scope=row>7</th><td> 62.374142</td><td> 52.97589</td><td> 71.77239</td></tr>\n",
       "\t<tr><th scope=row>104</th><td>133.574763</td><td>125.57414</td><td>141.57538</td></tr>\n",
       "\t<tr><th scope=row>93</th><td>122.947805</td><td>115.64284</td><td>130.25277</td></tr>\n",
       "\t<tr><th scope=row>83</th><td>165.455638</td><td>154.23028</td><td>176.68100</td></tr>\n",
       "\t<tr><th scope=row>36</th><td>110.549687</td><td>103.67423</td><td>117.42514</td></tr>\n",
       "\t<tr><th scope=row>78</th><td>144.201722</td><td>135.27610</td><td>153.12735</td></tr>\n",
       "\t<tr><th scope=row>81</th><td>142.430562</td><td>133.67217</td><td>151.18895</td></tr>\n",
       "\t<tr><th scope=row>102</th><td>162.267551</td><td>151.41490</td><td>173.12020</td></tr>\n",
       "\t<tr><th scope=row>76</th><td>130.032444</td><td>122.29266</td><td>137.77222</td></tr>\n",
       "\t<tr><th scope=row>15</th><td> 48.559097</td><td> 37.64606</td><td> 59.47213</td></tr>\n",
       "\t<tr><th scope=row>...</th><td>...</td><td>...</td><td>...</td></tr>\n",
       "\t<tr><th scope=row>109</th><td>160.14216</td><td>149.533452</td><td>170.75087</td></tr>\n",
       "\t<tr><th scope=row>16</th><td> 19.68919</td><td>  5.172955</td><td> 34.20543</td></tr>\n",
       "\t<tr><th scope=row>30</th><td> 68.04185</td><td> 59.201395</td><td> 76.88231</td></tr>\n",
       "\t<tr><th scope=row>6</th><td> 30.31615</td><td> 17.174852</td><td> 43.45745</td></tr>\n",
       "\t<tr><th scope=row>82</th><td>165.45564</td><td>154.230280</td><td>176.68100</td></tr>\n",
       "\t<tr><th scope=row>8</th><td> 71.22994</td><td> 62.682582</td><td> 79.77730</td></tr>\n",
       "\t<tr><th scope=row>22</th><td> 62.37414</td><td> 52.975892</td><td> 71.77239</td></tr>\n",
       "\t<tr><th scope=row>46</th><td>155.18291</td><td>145.127657</td><td>165.23817</td></tr>\n",
       "\t<tr><th scope=row>39</th><td> 59.18605</td><td> 49.455905</td><td> 68.91620</td></tr>\n",
       "\t<tr><th scope=row>52</th><td> 72.64687</td><td> 64.224458</td><td> 81.06928</td></tr>\n",
       "\t<tr><th scope=row>17</th><td> 44.83966</td><td> 33.489583</td><td> 56.18974</td></tr>\n",
       "\t<tr><th scope=row>66</th><td>200.52460</td><td>184.831285</td><td>216.21792</td></tr>\n",
       "\t<tr><th scope=row>4</th><td> 73.17822</td><td> 64.801771</td><td> 81.55466</td></tr>\n",
       "\t<tr><th scope=row>64</th><td>159.43370</td><td>148.905444</td><td>169.96195</td></tr>\n",
       "\t<tr><th scope=row>5</th><td> 40.23465</td><td> 28.329979</td><td> 52.13931</td></tr>\n",
       "\t<tr><th scope=row>59</th><td> 78.66881</td><td> 70.736654</td><td> 86.60097</td></tr>\n",
       "\t<tr><th scope=row>45</th><td> 69.81301</td><td> 61.137373</td><td> 78.48865</td></tr>\n",
       "\t<tr><th scope=row>37</th><td> 98.15157</td><td> 91.223392</td><td>105.07975</td></tr>\n",
       "\t<tr><th scope=row>108</th><td>158.01677</td><td>147.648078</td><td>168.38546</td></tr>\n",
       "\t<tr><th scope=row>35</th><td>137.11708</td><td>128.830209</td><td>145.40396</td></tr>\n",
       "\t<tr><th scope=row>75</th><td>158.37100</td><td>147.962591</td><td>168.77941</td></tr>\n",
       "\t<tr><th scope=row>3</th><td> 65.56223</td><td> 56.483175</td><td> 74.64128</td></tr>\n",
       "\t<tr><th scope=row>54</th><td> 43.24562</td><td> 31.705162</td><td> 54.78607</td></tr>\n",
       "\t<tr><th scope=row>107</th><td>136.40862</td><td>128.180904</td><td>144.63633</td></tr>\n",
       "\t<tr><th scope=row>12</th><td> 41.47446</td><td> 29.720465</td><td> 53.22845</td></tr>\n",
       "\t<tr><th scope=row>62</th><td> 76.54342</td><td> 68.446181</td><td> 84.64066</td></tr>\n",
       "\t<tr><th scope=row>100</th><td>138.88824</td><td>130.449512</td><td>147.32697</td></tr>\n",
       "\t<tr><th scope=row>48</th><td>110.54969</td><td>103.674231</td><td>117.42514</td></tr>\n",
       "\t<tr><th scope=row>96</th><td>147.74404</td><td>138.470481</td><td>157.01760</td></tr>\n",
       "\t<tr><th scope=row>70</th><td>154.82868</td><td>144.812043</td><td>164.84532</td></tr>\n",
       "</tbody>\n",
       "</table>\n"
      ],
      "text/latex": [
       "A matrix: 87 × 3 of type dbl\n",
       "\\begin{tabular}{r|lll}\n",
       "  & fit & lwr & upr\\\\\n",
       "\\hline\n",
       "\t31 &  71.584173 &  63.06837 &  80.09998\\\\\n",
       "\t79 & 151.286360 & 141.64854 & 160.92418\\\\\n",
       "\t51 &  93.900785 &  86.84254 & 100.95903\\\\\n",
       "\t14 &  55.643735 &  45.53143 &  65.75604\\\\\n",
       "\t67 & 117.634326 & 110.56910 & 124.69955\\\\\n",
       "\t42 &  45.016777 &  33.68774 &  56.34581\\\\\n",
       "\t50 &  56.706431 &  46.71016 &  66.70270\\\\\n",
       "\t43 &  60.957215 &  51.41294 &  70.50148\\\\\n",
       "\t101 & 151.286360 & 141.64854 & 160.92418\\\\\n",
       "\t106 & 106.298903 &  99.46127 & 113.13654\\\\\n",
       "\t25 &  66.270694 &  57.26071 &  75.28068\\\\\n",
       "\t90 & 161.913319 & 151.10159 & 172.72505\\\\\n",
       "\t91 & 121.176645 & 113.96035 & 128.39295\\\\\n",
       "\t69 & 147.744041 & 138.47048 & 157.01760\\\\\n",
       "\t97 & 151.286360 & 141.64854 & 160.92418\\\\\n",
       "\t57 &  86.816147 &  79.42482 &  94.20748\\\\\n",
       "\t92 & 149.515201 & 140.06143 & 158.96897\\\\\n",
       "\t9 &   0.737784 & -16.32003 &  17.79560\\\\\n",
       "\t72 & 133.574763 & 125.57414 & 141.57538\\\\\n",
       "\t26 & 101.693888 &  94.83124 & 108.55654\\\\\n",
       "\t7 &  62.374142 &  52.97589 &  71.77239\\\\\n",
       "\t104 & 133.574763 & 125.57414 & 141.57538\\\\\n",
       "\t93 & 122.947805 & 115.64284 & 130.25277\\\\\n",
       "\t83 & 165.455638 & 154.23028 & 176.68100\\\\\n",
       "\t36 & 110.549687 & 103.67423 & 117.42514\\\\\n",
       "\t78 & 144.201722 & 135.27610 & 153.12735\\\\\n",
       "\t81 & 142.430562 & 133.67217 & 151.18895\\\\\n",
       "\t102 & 162.267551 & 151.41490 & 173.12020\\\\\n",
       "\t76 & 130.032444 & 122.29266 & 137.77222\\\\\n",
       "\t15 &  48.559097 &  37.64606 &  59.47213\\\\\n",
       "\t... & ... & ... & ...\\\\\n",
       "\t109 & 160.14216 & 149.533452 & 170.75087\\\\\n",
       "\t16 &  19.68919 &   5.172955 &  34.20543\\\\\n",
       "\t30 &  68.04185 &  59.201395 &  76.88231\\\\\n",
       "\t6 &  30.31615 &  17.174852 &  43.45745\\\\\n",
       "\t82 & 165.45564 & 154.230280 & 176.68100\\\\\n",
       "\t8 &  71.22994 &  62.682582 &  79.77730\\\\\n",
       "\t22 &  62.37414 &  52.975892 &  71.77239\\\\\n",
       "\t46 & 155.18291 & 145.127657 & 165.23817\\\\\n",
       "\t39 &  59.18605 &  49.455905 &  68.91620\\\\\n",
       "\t52 &  72.64687 &  64.224458 &  81.06928\\\\\n",
       "\t17 &  44.83966 &  33.489583 &  56.18974\\\\\n",
       "\t66 & 200.52460 & 184.831285 & 216.21792\\\\\n",
       "\t4 &  73.17822 &  64.801771 &  81.55466\\\\\n",
       "\t64 & 159.43370 & 148.905444 & 169.96195\\\\\n",
       "\t5 &  40.23465 &  28.329979 &  52.13931\\\\\n",
       "\t59 &  78.66881 &  70.736654 &  86.60097\\\\\n",
       "\t45 &  69.81301 &  61.137373 &  78.48865\\\\\n",
       "\t37 &  98.15157 &  91.223392 & 105.07975\\\\\n",
       "\t108 & 158.01677 & 147.648078 & 168.38546\\\\\n",
       "\t35 & 137.11708 & 128.830209 & 145.40396\\\\\n",
       "\t75 & 158.37100 & 147.962591 & 168.77941\\\\\n",
       "\t3 &  65.56223 &  56.483175 &  74.64128\\\\\n",
       "\t54 &  43.24562 &  31.705162 &  54.78607\\\\\n",
       "\t107 & 136.40862 & 128.180904 & 144.63633\\\\\n",
       "\t12 &  41.47446 &  29.720465 &  53.22845\\\\\n",
       "\t62 &  76.54342 &  68.446181 &  84.64066\\\\\n",
       "\t100 & 138.88824 & 130.449512 & 147.32697\\\\\n",
       "\t48 & 110.54969 & 103.674231 & 117.42514\\\\\n",
       "\t96 & 147.74404 & 138.470481 & 157.01760\\\\\n",
       "\t70 & 154.82868 & 144.812043 & 164.84532\\\\\n",
       "\\end{tabular}\n"
      ],
      "text/markdown": [
       "\n",
       "A matrix: 87 × 3 of type dbl\n",
       "\n",
       "| <!--/--> | fit | lwr | upr |\n",
       "|---|---|---|---|\n",
       "| 31 |  71.584173 |  63.06837 |  80.09998 |\n",
       "| 79 | 151.286360 | 141.64854 | 160.92418 |\n",
       "| 51 |  93.900785 |  86.84254 | 100.95903 |\n",
       "| 14 |  55.643735 |  45.53143 |  65.75604 |\n",
       "| 67 | 117.634326 | 110.56910 | 124.69955 |\n",
       "| 42 |  45.016777 |  33.68774 |  56.34581 |\n",
       "| 50 |  56.706431 |  46.71016 |  66.70270 |\n",
       "| 43 |  60.957215 |  51.41294 |  70.50148 |\n",
       "| 101 | 151.286360 | 141.64854 | 160.92418 |\n",
       "| 106 | 106.298903 |  99.46127 | 113.13654 |\n",
       "| 25 |  66.270694 |  57.26071 |  75.28068 |\n",
       "| 90 | 161.913319 | 151.10159 | 172.72505 |\n",
       "| 91 | 121.176645 | 113.96035 | 128.39295 |\n",
       "| 69 | 147.744041 | 138.47048 | 157.01760 |\n",
       "| 97 | 151.286360 | 141.64854 | 160.92418 |\n",
       "| 57 |  86.816147 |  79.42482 |  94.20748 |\n",
       "| 92 | 149.515201 | 140.06143 | 158.96897 |\n",
       "| 9 |   0.737784 | -16.32003 |  17.79560 |\n",
       "| 72 | 133.574763 | 125.57414 | 141.57538 |\n",
       "| 26 | 101.693888 |  94.83124 | 108.55654 |\n",
       "| 7 |  62.374142 |  52.97589 |  71.77239 |\n",
       "| 104 | 133.574763 | 125.57414 | 141.57538 |\n",
       "| 93 | 122.947805 | 115.64284 | 130.25277 |\n",
       "| 83 | 165.455638 | 154.23028 | 176.68100 |\n",
       "| 36 | 110.549687 | 103.67423 | 117.42514 |\n",
       "| 78 | 144.201722 | 135.27610 | 153.12735 |\n",
       "| 81 | 142.430562 | 133.67217 | 151.18895 |\n",
       "| 102 | 162.267551 | 151.41490 | 173.12020 |\n",
       "| 76 | 130.032444 | 122.29266 | 137.77222 |\n",
       "| 15 |  48.559097 |  37.64606 |  59.47213 |\n",
       "| ... | ... | ... | ... |\n",
       "| 109 | 160.14216 | 149.533452 | 170.75087 |\n",
       "| 16 |  19.68919 |   5.172955 |  34.20543 |\n",
       "| 30 |  68.04185 |  59.201395 |  76.88231 |\n",
       "| 6 |  30.31615 |  17.174852 |  43.45745 |\n",
       "| 82 | 165.45564 | 154.230280 | 176.68100 |\n",
       "| 8 |  71.22994 |  62.682582 |  79.77730 |\n",
       "| 22 |  62.37414 |  52.975892 |  71.77239 |\n",
       "| 46 | 155.18291 | 145.127657 | 165.23817 |\n",
       "| 39 |  59.18605 |  49.455905 |  68.91620 |\n",
       "| 52 |  72.64687 |  64.224458 |  81.06928 |\n",
       "| 17 |  44.83966 |  33.489583 |  56.18974 |\n",
       "| 66 | 200.52460 | 184.831285 | 216.21792 |\n",
       "| 4 |  73.17822 |  64.801771 |  81.55466 |\n",
       "| 64 | 159.43370 | 148.905444 | 169.96195 |\n",
       "| 5 |  40.23465 |  28.329979 |  52.13931 |\n",
       "| 59 |  78.66881 |  70.736654 |  86.60097 |\n",
       "| 45 |  69.81301 |  61.137373 |  78.48865 |\n",
       "| 37 |  98.15157 |  91.223392 | 105.07975 |\n",
       "| 108 | 158.01677 | 147.648078 | 168.38546 |\n",
       "| 35 | 137.11708 | 128.830209 | 145.40396 |\n",
       "| 75 | 158.37100 | 147.962591 | 168.77941 |\n",
       "| 3 |  65.56223 |  56.483175 |  74.64128 |\n",
       "| 54 |  43.24562 |  31.705162 |  54.78607 |\n",
       "| 107 | 136.40862 | 128.180904 | 144.63633 |\n",
       "| 12 |  41.47446 |  29.720465 |  53.22845 |\n",
       "| 62 |  76.54342 |  68.446181 |  84.64066 |\n",
       "| 100 | 138.88824 | 130.449512 | 147.32697 |\n",
       "| 48 | 110.54969 | 103.674231 | 117.42514 |\n",
       "| 96 | 147.74404 | 138.470481 | 157.01760 |\n",
       "| 70 | 154.82868 | 144.812043 | 164.84532 |\n",
       "\n"
      ],
      "text/plain": [
       "    fit        lwr        upr      \n",
       "31   71.584173  63.06837   80.09998\n",
       "79  151.286360 141.64854  160.92418\n",
       "51   93.900785  86.84254  100.95903\n",
       "14   55.643735  45.53143   65.75604\n",
       "67  117.634326 110.56910  124.69955\n",
       "42   45.016777  33.68774   56.34581\n",
       "50   56.706431  46.71016   66.70270\n",
       "43   60.957215  51.41294   70.50148\n",
       "101 151.286360 141.64854  160.92418\n",
       "106 106.298903  99.46127  113.13654\n",
       "25   66.270694  57.26071   75.28068\n",
       "90  161.913319 151.10159  172.72505\n",
       "91  121.176645 113.96035  128.39295\n",
       "69  147.744041 138.47048  157.01760\n",
       "97  151.286360 141.64854  160.92418\n",
       "57   86.816147  79.42482   94.20748\n",
       "92  149.515201 140.06143  158.96897\n",
       "9     0.737784 -16.32003   17.79560\n",
       "72  133.574763 125.57414  141.57538\n",
       "26  101.693888  94.83124  108.55654\n",
       "7    62.374142  52.97589   71.77239\n",
       "104 133.574763 125.57414  141.57538\n",
       "93  122.947805 115.64284  130.25277\n",
       "83  165.455638 154.23028  176.68100\n",
       "36  110.549687 103.67423  117.42514\n",
       "78  144.201722 135.27610  153.12735\n",
       "81  142.430562 133.67217  151.18895\n",
       "102 162.267551 151.41490  173.12020\n",
       "76  130.032444 122.29266  137.77222\n",
       "15   48.559097  37.64606   59.47213\n",
       "... ...        ...        ...      \n",
       "109 160.14216  149.533452 170.75087\n",
       "16   19.68919    5.172955  34.20543\n",
       "30   68.04185   59.201395  76.88231\n",
       "6    30.31615   17.174852  43.45745\n",
       "82  165.45564  154.230280 176.68100\n",
       "8    71.22994   62.682582  79.77730\n",
       "22   62.37414   52.975892  71.77239\n",
       "46  155.18291  145.127657 165.23817\n",
       "39   59.18605   49.455905  68.91620\n",
       "52   72.64687   64.224458  81.06928\n",
       "17   44.83966   33.489583  56.18974\n",
       "66  200.52460  184.831285 216.21792\n",
       "4    73.17822   64.801771  81.55466\n",
       "64  159.43370  148.905444 169.96195\n",
       "5    40.23465   28.329979  52.13931\n",
       "59   78.66881   70.736654  86.60097\n",
       "45   69.81301   61.137373  78.48865\n",
       "37   98.15157   91.223392 105.07975\n",
       "108 158.01677  147.648078 168.38546\n",
       "35  137.11708  128.830209 145.40396\n",
       "75  158.37100  147.962591 168.77941\n",
       "3    65.56223   56.483175  74.64128\n",
       "54   43.24562   31.705162  54.78607\n",
       "107 136.40862  128.180904 144.63633\n",
       "12   41.47446   29.720465  53.22845\n",
       "62   76.54342   68.446181  84.64066\n",
       "100 138.88824  130.449512 147.32697\n",
       "48  110.54969  103.674231 117.42514\n",
       "96  147.74404  138.470481 157.01760\n",
       "70  154.82868  144.812043 164.84532"
      ]
     },
     "metadata": {},
     "output_type": "display_data"
    }
   ],
   "source": [
    "predict(lm_train, interval = \"confidence\")"
   ]
  },
  {
   "cell_type": "code",
   "execution_count": null,
   "metadata": {},
   "outputs": [],
   "source": [
    "plot(predict(lm_train, interval = \"confidence\"))"
   ]
  },
  {
   "cell_type": "code",
   "execution_count": null,
   "metadata": {},
   "outputs": [],
   "source": [
    "pred1  <- predict(lm_train,test) # prediction points and visualizaton below\n",
    "pred1"
   ]
  },
  {
   "cell_type": "code",
   "execution_count": null,
   "metadata": {},
   "outputs": [],
   "source": [
    "plot(pred1) # our prediction is working lets validate it \n",
    "# lets check 10 value of pred\n",
    "pred  <- predict(lm_train,test[0:10,]) # predicting 10 values \n",
    "pred # after prediction we are checking 10 values "
   ]
  },
  {
   "cell_type": "markdown",
   "metadata": {},
   "source": [
    "############################################  Cross Validation ############################################################"
   ]
  },
  {
   "cell_type": "code",
   "execution_count": null,
   "metadata": {},
   "outputs": [],
   "source": [
    "# K-10 Fold valdation model is ready\n",
    "library(lattice)\n",
    "library(caret) \n",
    "\n",
    "# Fit linear regression model\n",
    "Kfoldmodel <- train(AT ~ Waist, wcat,\n",
    "                    method = \"lm\",\n",
    "                    trControl = trainControl(\n",
    "                      method = \"cv\", number = 10,\n",
    "                      verboseIter = TRUE\n",
    "                    )\n",
    ") \n",
    "\n",
    "predicted <- predict(Kfoldmodel,wcat[0:10,]) \n",
    "predicted\n",
    "wcat[21:32,] # the row predicted it worked AT is predicted \n",
    "# Evaluate error\n",
    "actual <- wcat[0:10, \"AT\"]\n",
    "err <-  sqrt(mean((predicted - actual)^2)) \n",
    "err\n",
    "\n",
    "# print the model\n",
    "Kfoldmodel\n",
    "\n",
    "summary(Kfoldmodel) # p value is too low so we rejecting this model\n"
   ]
  },
  {
   "cell_type": "code",
   "execution_count": null,
   "metadata": {},
   "outputs": [],
   "source": [
    "pred_train  <- predict(Kfoldmodel,train)\n",
    "pred_train # the predicted values of train data \n",
    "\n",
    "pred_test  <- predict(Kfoldmodel,test)\n",
    "pred_test # the predicted values of test data \n",
    "\n"
   ]
  },
  {
   "cell_type": "code",
   "execution_count": null,
   "metadata": {},
   "outputs": [],
   "source": [
    "# Log model-1 # exponentioal model\n",
    "plot(log(Waist), AT) \n",
    "cor(log(Waist), AT)# cor relation little bit improved \n",
    "lm_Log_Waist <- lm(AT ~ log(Waist)) # log transformation\n",
    "summary(lm_Log_Waist) # after transformatin r square improved but not significant\n",
    "\n",
    "qqnorm(resid(lm_Log_Waist)) # checking residual value its not a linear\n",
    "qqnorm(fitted.values(lm_Log_Waist)) # still it is not fitted values\n",
    "\n",
    "rmse_waist <- sqrt(mean(lm_Log_Waist$residuals^2))\n",
    "rmse_waist # rmse not imporved , residual errors is large\n",
    "summary(rmse_waist) # rmse need to imporved "
   ]
  },
  {
   "cell_type": "code",
   "execution_count": null,
   "metadata": {},
   "outputs": [],
   "source": [
    "# log transformation 2  Exponential model 2 \n",
    "# Log model-2 \n",
    "plot(log(AT), Waist) \n",
    "cor(log(AT), Waist)\n",
    "lm_Log_AT <-lm(Waist ~ log(AT)) # log transformation\n",
    "\n",
    "summary(lm_Log_AT) # after transformatin r square little bit improved but not find model\n",
    "\n",
    "qqnorm(resid(lm_Log_AT)) # checking residual value its not a linear\n",
    "qqnorm(fitted.values(lm_Log_AT)) # still it is not fitted values\n",
    "\n",
    "rmse_AT <- sqrt(mean(lm_Log_AT$residuals^2))\n",
    "rmse_AT # rmse  imporved \n",
    "summary(rmse_waist)"
   ]
  },
  {
   "cell_type": "code",
   "execution_count": null,
   "metadata": {},
   "outputs": [],
   "source": [
    "# log model 3 both waist and AT \n",
    "plot(log(AT), log(Waist)) \n",
    "cor(log(AT), log(Waist)) # cor relation little bit imporved \n",
    "lm_Log_AT_Waist <-lm(log(Waist) ~ log(AT)) # log transformation\n",
    "\n",
    "summary(lm_Log_AT) # after transformatin r square little bit improved but not find model\n",
    "\n",
    "qqnorm(resid(lm_Log_AT_Waist)) # checking residual value its not a linear\n",
    "qqnorm(fitted.values(lm_Log_AT_Waist)) # still it is not fitted values\n",
    "\n",
    "rmse_AT_Waist <- sqrt(mean(lm_Log_AT_Waist$residuals^2))\n",
    "rmse_AT_Waist # rmse  imporved drastically reduced\n",
    "summary(rmse_AT_Waist)"
   ]
  },
  {
   "cell_type": "code",
   "execution_count": 1,
   "metadata": {},
   "outputs": [
    {
     "ename": "ERROR",
     "evalue": "Error in eval(predvars, data, env): object 'AT' not found\n",
     "output_type": "error",
     "traceback": [
      "Error in eval(predvars, data, env): object 'AT' not found\nTraceback:\n",
      "1. lm(log(AT) ~ Waist + I(Waist * Waist))",
      "2. eval(mf, parent.frame())",
      "3. eval(mf, parent.frame())",
      "4. stats::model.frame(formula = log(AT) ~ Waist + I(Waist * Waist), \n .     drop.unused.levels = TRUE)",
      "5. model.frame.default(formula = log(AT) ~ Waist + I(Waist * Waist), \n .     drop.unused.levels = TRUE)",
      "6. eval(predvars, data, env)",
      "7. eval(predvars, data, env)"
     ]
    }
   ],
   "source": [
    "# Polynomial transformation\n",
    "lm_3 <- lm(log(AT) ~ Waist + I(Waist * Waist))\n",
    "summary(lm_3)\n",
    "\n",
    "confint(lm_3,level=0.95)\n",
    "\n",
    "log_res <- predict(lm_3,interval=\"confidence\")\n",
    "atpoly <- exp(log_res)\n",
    "atpoly\n",
    "err_poly <- AT - atpoly\n",
    "err_poly\n",
    "\n",
    "rmse3 <- sqrt(mean(err_poly^2))\n",
    "rmse3\n",
    "\n"
   ]
  },
  {
   "cell_type": "code",
   "execution_count": null,
   "metadata": {},
   "outputs": [],
   "source": []
  },
  {
   "cell_type": "code",
   "execution_count": null,
   "metadata": {},
   "outputs": [],
   "source": []
  }
 ],
 "metadata": {
  "kernelspec": {
   "display_name": "R",
   "language": "R",
   "name": "ir"
  },
  "language_info": {
   "codemirror_mode": "r",
   "file_extension": ".r",
   "mimetype": "text/x-r-source",
   "name": "R",
   "pygments_lexer": "r",
   "version": "3.6.3"
  }
 },
 "nbformat": 4,
 "nbformat_minor": 2
}
