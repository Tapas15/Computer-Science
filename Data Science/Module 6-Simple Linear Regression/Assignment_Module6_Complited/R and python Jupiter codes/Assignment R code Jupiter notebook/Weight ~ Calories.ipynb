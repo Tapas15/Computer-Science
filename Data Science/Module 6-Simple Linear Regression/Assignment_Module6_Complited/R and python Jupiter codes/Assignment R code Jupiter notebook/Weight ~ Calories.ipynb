{
 "cells": [
  {
   "cell_type": "code",
   "execution_count": 25,
   "metadata": {},
   "outputs": [],
   "source": [
    "#Assignment module 6 Simple linear regression Calories data "
   ]
  },
  {
   "cell_type": "code",
   "execution_count": 3,
   "metadata": {},
   "outputs": [],
   "source": [
    "# lets import files Weight and calories \n",
    "cal <- read.csv(file.choose())"
   ]
  },
  {
   "cell_type": "code",
   "execution_count": 4,
   "metadata": {},
   "outputs": [
    {
     "data": {
      "text/html": [
       "<table>\n",
       "<caption>A data.frame: 14 × 2</caption>\n",
       "<thead>\n",
       "\t<tr><th scope=col>Weight.gained..grams.</th><th scope=col>Calories.Consumed</th></tr>\n",
       "\t<tr><th scope=col>&lt;int&gt;</th><th scope=col>&lt;int&gt;</th></tr>\n",
       "</thead>\n",
       "<tbody>\n",
       "\t<tr><td> 108</td><td>1500</td></tr>\n",
       "\t<tr><td> 200</td><td>2300</td></tr>\n",
       "\t<tr><td> 900</td><td>3400</td></tr>\n",
       "\t<tr><td> 200</td><td>2200</td></tr>\n",
       "\t<tr><td> 300</td><td>2500</td></tr>\n",
       "\t<tr><td> 110</td><td>1600</td></tr>\n",
       "\t<tr><td> 128</td><td>1400</td></tr>\n",
       "\t<tr><td>  62</td><td>1900</td></tr>\n",
       "\t<tr><td> 600</td><td>2800</td></tr>\n",
       "\t<tr><td>1100</td><td>3900</td></tr>\n",
       "\t<tr><td> 100</td><td>1670</td></tr>\n",
       "\t<tr><td> 150</td><td>1900</td></tr>\n",
       "\t<tr><td> 350</td><td>2700</td></tr>\n",
       "\t<tr><td> 700</td><td>3000</td></tr>\n",
       "</tbody>\n",
       "</table>\n"
      ],
      "text/latex": [
       "A data.frame: 14 × 2\n",
       "\\begin{tabular}{ll}\n",
       " Weight.gained..grams. & Calories.Consumed\\\\\n",
       " <int> & <int>\\\\\n",
       "\\hline\n",
       "\t  108 & 1500\\\\\n",
       "\t  200 & 2300\\\\\n",
       "\t  900 & 3400\\\\\n",
       "\t  200 & 2200\\\\\n",
       "\t  300 & 2500\\\\\n",
       "\t  110 & 1600\\\\\n",
       "\t  128 & 1400\\\\\n",
       "\t   62 & 1900\\\\\n",
       "\t  600 & 2800\\\\\n",
       "\t 1100 & 3900\\\\\n",
       "\t  100 & 1670\\\\\n",
       "\t  150 & 1900\\\\\n",
       "\t  350 & 2700\\\\\n",
       "\t  700 & 3000\\\\\n",
       "\\end{tabular}\n"
      ],
      "text/markdown": [
       "\n",
       "A data.frame: 14 × 2\n",
       "\n",
       "| Weight.gained..grams. &lt;int&gt; | Calories.Consumed &lt;int&gt; |\n",
       "|---|---|\n",
       "|  108 | 1500 |\n",
       "|  200 | 2300 |\n",
       "|  900 | 3400 |\n",
       "|  200 | 2200 |\n",
       "|  300 | 2500 |\n",
       "|  110 | 1600 |\n",
       "|  128 | 1400 |\n",
       "|   62 | 1900 |\n",
       "|  600 | 2800 |\n",
       "| 1100 | 3900 |\n",
       "|  100 | 1670 |\n",
       "|  150 | 1900 |\n",
       "|  350 | 2700 |\n",
       "|  700 | 3000 |\n",
       "\n"
      ],
      "text/plain": [
       "   Weight.gained..grams. Calories.Consumed\n",
       "1   108                  1500             \n",
       "2   200                  2300             \n",
       "3   900                  3400             \n",
       "4   200                  2200             \n",
       "5   300                  2500             \n",
       "6   110                  1600             \n",
       "7   128                  1400             \n",
       "8    62                  1900             \n",
       "9   600                  2800             \n",
       "10 1100                  3900             \n",
       "11  100                  1670             \n",
       "12  150                  1900             \n",
       "13  350                  2700             \n",
       "14  700                  3000             "
      ]
     },
     "metadata": {},
     "output_type": "display_data"
    }
   ],
   "source": [
    "cal ########################### DATA pre processing #############################################################"
   ]
  },
  {
   "cell_type": "code",
   "execution_count": 5,
   "metadata": {},
   "outputs": [
    {
     "name": "stdout",
     "output_type": "stream",
     "text": [
      "'data.frame':\t14 obs. of  2 variables:\n",
      " $ Weight.gained..grams.: int  108 200 900 200 300 110 128 62 600 1100 ...\n",
      " $ Calories.Consumed    : int  1500 2300 3400 2200 2500 1600 1400 1900 2800 3900 ...\n"
     ]
    },
    {
     "data": {
      "text/plain": [
       " Weight.gained..grams. Calories.Consumed\n",
       " Min.   :  62.0        Min.   :1400     \n",
       " 1st Qu.: 114.5        1st Qu.:1728     \n",
       " Median : 200.0        Median :2250     \n",
       " Mean   : 357.7        Mean   :2341     \n",
       " 3rd Qu.: 537.5        3rd Qu.:2775     \n",
       " Max.   :1100.0        Max.   :3900     "
      ]
     },
     "metadata": {},
     "output_type": "display_data"
    }
   ],
   "source": [
    "# structure of data frame , it is the data relating to weight and calories \n",
    "str(cal) # data type is integer \n",
    "attach(cal)\n",
    "summary(cal)"
   ]
  },
  {
   "cell_type": "code",
   "execution_count": 6,
   "metadata": {},
   "outputs": [
    {
     "data": {
      "text/html": [
       "<style>\n",
       ".list-inline {list-style: none; margin:0; padding: 0}\n",
       ".list-inline>li {display: inline-block}\n",
       ".list-inline>li:not(:last-child)::after {content: \"\\00b7\"; padding: 0 .5ex}\n",
       "</style>\n",
       "<ol class=list-inline><li>'Weight.gained..grams.'</li><li>'Calories.Consumed'</li></ol>\n"
      ],
      "text/latex": [
       "\\begin{enumerate*}\n",
       "\\item 'Weight.gained..grams.'\n",
       "\\item 'Calories.Consumed'\n",
       "\\end{enumerate*}\n"
      ],
      "text/markdown": [
       "1. 'Weight.gained..grams.'\n",
       "2. 'Calories.Consumed'\n",
       "\n",
       "\n"
      ],
      "text/plain": [
       "[1] \"Weight.gained..grams.\" \"Calories.Consumed\"    "
      ]
     },
     "metadata": {},
     "output_type": "display_data"
    }
   ],
   "source": [
    "colnames(cal) # Viewing and checking column names "
   ]
  },
  {
   "cell_type": "code",
   "execution_count": 7,
   "metadata": {},
   "outputs": [
    {
     "data": {
      "text/html": [
       "<table>\n",
       "<caption>A data.frame: 14 × 2</caption>\n",
       "<thead>\n",
       "\t<tr><th scope=col>Weight</th><th scope=col>Calories</th></tr>\n",
       "\t<tr><th scope=col>&lt;int&gt;</th><th scope=col>&lt;int&gt;</th></tr>\n",
       "</thead>\n",
       "<tbody>\n",
       "\t<tr><td> 108</td><td>1500</td></tr>\n",
       "\t<tr><td> 200</td><td>2300</td></tr>\n",
       "\t<tr><td> 900</td><td>3400</td></tr>\n",
       "\t<tr><td> 200</td><td>2200</td></tr>\n",
       "\t<tr><td> 300</td><td>2500</td></tr>\n",
       "\t<tr><td> 110</td><td>1600</td></tr>\n",
       "\t<tr><td> 128</td><td>1400</td></tr>\n",
       "\t<tr><td>  62</td><td>1900</td></tr>\n",
       "\t<tr><td> 600</td><td>2800</td></tr>\n",
       "\t<tr><td>1100</td><td>3900</td></tr>\n",
       "\t<tr><td> 100</td><td>1670</td></tr>\n",
       "\t<tr><td> 150</td><td>1900</td></tr>\n",
       "\t<tr><td> 350</td><td>2700</td></tr>\n",
       "\t<tr><td> 700</td><td>3000</td></tr>\n",
       "</tbody>\n",
       "</table>\n"
      ],
      "text/latex": [
       "A data.frame: 14 × 2\n",
       "\\begin{tabular}{ll}\n",
       " Weight & Calories\\\\\n",
       " <int> & <int>\\\\\n",
       "\\hline\n",
       "\t  108 & 1500\\\\\n",
       "\t  200 & 2300\\\\\n",
       "\t  900 & 3400\\\\\n",
       "\t  200 & 2200\\\\\n",
       "\t  300 & 2500\\\\\n",
       "\t  110 & 1600\\\\\n",
       "\t  128 & 1400\\\\\n",
       "\t   62 & 1900\\\\\n",
       "\t  600 & 2800\\\\\n",
       "\t 1100 & 3900\\\\\n",
       "\t  100 & 1670\\\\\n",
       "\t  150 & 1900\\\\\n",
       "\t  350 & 2700\\\\\n",
       "\t  700 & 3000\\\\\n",
       "\\end{tabular}\n"
      ],
      "text/markdown": [
       "\n",
       "A data.frame: 14 × 2\n",
       "\n",
       "| Weight &lt;int&gt; | Calories &lt;int&gt; |\n",
       "|---|---|\n",
       "|  108 | 1500 |\n",
       "|  200 | 2300 |\n",
       "|  900 | 3400 |\n",
       "|  200 | 2200 |\n",
       "|  300 | 2500 |\n",
       "|  110 | 1600 |\n",
       "|  128 | 1400 |\n",
       "|   62 | 1900 |\n",
       "|  600 | 2800 |\n",
       "| 1100 | 3900 |\n",
       "|  100 | 1670 |\n",
       "|  150 | 1900 |\n",
       "|  350 | 2700 |\n",
       "|  700 | 3000 |\n",
       "\n"
      ],
      "text/plain": [
       "   Weight Calories\n",
       "1   108   1500    \n",
       "2   200   2300    \n",
       "3   900   3400    \n",
       "4   200   2200    \n",
       "5   300   2500    \n",
       "6   110   1600    \n",
       "7   128   1400    \n",
       "8    62   1900    \n",
       "9   600   2800    \n",
       "10 1100   3900    \n",
       "11  100   1670    \n",
       "12  150   1900    \n",
       "13  350   2700    \n",
       "14  700   3000    "
      ]
     },
     "metadata": {},
     "output_type": "display_data"
    }
   ],
   "source": [
    "# Rename column where names is \"Sepal.Length\"\n",
    "names(cal)[names(cal) == 'Weight.gained..grams.'] <- \"Weight\" # renaming column name for convinience\n",
    "names(cal)[names(cal) == 'Calories.Consumed'] <- \"Calories\"\n",
    "cal\n",
    "attach(cal) # afte changing attaching value"
   ]
  },
  {
   "cell_type": "code",
   "execution_count": 8,
   "metadata": {},
   "outputs": [
    {
     "data": {
      "text/html": [
       "<style>\n",
       ".list-inline {list-style: none; margin:0; padding: 0}\n",
       ".list-inline>li {display: inline-block}\n",
       ".list-inline>li:not(:last-child)::after {content: \"\\00b7\"; padding: 0 .5ex}\n",
       "</style>\n",
       "<ol class=list-inline><li>108</li><li>200</li><li>900</li><li>200</li><li>300</li><li>110</li><li>128</li><li>62</li><li>600</li><li>1100</li><li>100</li><li>150</li><li>350</li><li>700</li></ol>\n"
      ],
      "text/latex": [
       "\\begin{enumerate*}\n",
       "\\item 108\n",
       "\\item 200\n",
       "\\item 900\n",
       "\\item 200\n",
       "\\item 300\n",
       "\\item 110\n",
       "\\item 128\n",
       "\\item 62\n",
       "\\item 600\n",
       "\\item 1100\n",
       "\\item 100\n",
       "\\item 150\n",
       "\\item 350\n",
       "\\item 700\n",
       "\\end{enumerate*}\n"
      ],
      "text/markdown": [
       "1. 108\n",
       "2. 200\n",
       "3. 900\n",
       "4. 200\n",
       "5. 300\n",
       "6. 110\n",
       "7. 128\n",
       "8. 62\n",
       "9. 600\n",
       "10. 1100\n",
       "11. 100\n",
       "12. 150\n",
       "13. 350\n",
       "14. 700\n",
       "\n",
       "\n"
      ],
      "text/plain": [
       " [1]  108  200  900  200  300  110  128   62  600 1100  100  150  350  700"
      ]
     },
     "metadata": {},
     "output_type": "display_data"
    },
    {
     "data": {
      "text/html": [
       "<style>\n",
       ".list-inline {list-style: none; margin:0; padding: 0}\n",
       ".list-inline>li {display: inline-block}\n",
       ".list-inline>li:not(:last-child)::after {content: \"\\00b7\"; padding: 0 .5ex}\n",
       "</style>\n",
       "<ol class=list-inline><li>1500</li><li>2300</li><li>3400</li><li>2200</li><li>2500</li><li>1600</li><li>1400</li><li>1900</li><li>2800</li><li>3900</li><li>1670</li><li>1900</li><li>2700</li><li>3000</li></ol>\n"
      ],
      "text/latex": [
       "\\begin{enumerate*}\n",
       "\\item 1500\n",
       "\\item 2300\n",
       "\\item 3400\n",
       "\\item 2200\n",
       "\\item 2500\n",
       "\\item 1600\n",
       "\\item 1400\n",
       "\\item 1900\n",
       "\\item 2800\n",
       "\\item 3900\n",
       "\\item 1670\n",
       "\\item 1900\n",
       "\\item 2700\n",
       "\\item 3000\n",
       "\\end{enumerate*}\n"
      ],
      "text/markdown": [
       "1. 1500\n",
       "2. 2300\n",
       "3. 3400\n",
       "4. 2200\n",
       "5. 2500\n",
       "6. 1600\n",
       "7. 1400\n",
       "8. 1900\n",
       "9. 2800\n",
       "10. 3900\n",
       "11. 1670\n",
       "12. 1900\n",
       "13. 2700\n",
       "14. 3000\n",
       "\n",
       "\n"
      ],
      "text/plain": [
       " [1] 1500 2300 3400 2200 2500 1600 1400 1900 2800 3900 1670 1900 2700 3000"
      ]
     },
     "metadata": {},
     "output_type": "display_data"
    }
   ],
   "source": [
    "Weight # fine its working \n",
    "Calories # fine its working "
   ]
  },
  {
   "cell_type": "code",
   "execution_count": 9,
   "metadata": {},
   "outputs": [
    {
     "data": {
      "text/html": [
       "1.11697671903688"
      ],
      "text/latex": [
       "1.11697671903688"
      ],
      "text/markdown": [
       "1.11697671903688"
      ],
      "text/plain": [
       "[1] 1.116977"
      ]
     },
     "metadata": {},
     "output_type": "display_data"
    },
    {
     "data": {
      "text/html": [
       "0.582559660023777"
      ],
      "text/latex": [
       "0.582559660023777"
      ],
      "text/markdown": [
       "0.582559660023777"
      ],
      "text/plain": [
       "[1] 0.5825597"
      ]
     },
     "metadata": {},
     "output_type": "display_data"
    },
    {
     "data": {
      "image/png": "[encoded data removed]",
      "text/plain": [
       "plot without title"
      ]
     },
     "metadata": {
      "image/png": {
       "height": 420,
       "width": 420
      },
      "text/plain": {
       "height": 420,
       "width": 420
      }
     },
     "output_type": "display_data"
    }
   ],
   "source": [
    "# priliminary investigation for outliers \n",
    "boxplot(cal)\n",
    "# as there is no outliers we can see \n",
    "library(moments) # both aer positive skewness \n",
    "skewness(Weight)\n",
    "skewness(Calories)"
   ]
  },
  {
   "cell_type": "code",
   "execution_count": 10,
   "metadata": {},
   "outputs": [
    {
     "data": {
      "image/png": "[encoded data removed]",
      "text/plain": [
       "plot without title"
      ]
     },
     "metadata": {
      "image/png": {
       "height": 420,
       "width": 420
      },
      "text/plain": {
       "height": 420,
       "width": 420
      }
     },
     "output_type": "display_data"
    }
   ],
   "source": [
    "plot(Weight,Calories)"
   ]
  },
  {
   "cell_type": "markdown",
   "metadata": {},
   "source": [
    "################################(Basics-Statistics & Visualizations EDA)###############################################"
   ]
  },
  {
   "cell_type": "code",
   "execution_count": 11,
   "metadata": {},
   "outputs": [
    {
     "data": {
      "text/html": [
       "<style>\n",
       ".list-inline {list-style: none; margin:0; padding: 0}\n",
       ".list-inline>li {display: inline-block}\n",
       ".list-inline>li:not(:last-child)::after {content: \"\\00b7\"; padding: 0 .5ex}\n",
       "</style>\n",
       "<ol class=list-inline><li>14</li><li>2</li></ol>\n"
      ],
      "text/latex": [
       "\\begin{enumerate*}\n",
       "\\item 14\n",
       "\\item 2\n",
       "\\end{enumerate*}\n"
      ],
      "text/markdown": [
       "1. 14\n",
       "2. 2\n",
       "\n",
       "\n"
      ],
      "text/plain": [
       "[1] 14  2"
      ]
     },
     "metadata": {},
     "output_type": "display_data"
    },
    {
     "name": "stdout",
     "output_type": "stream",
     "text": [
      "'data.frame':\t14 obs. of  2 variables:\n",
      " $ Weight  : int  108 200 900 200 300 110 128 62 600 1100 ...\n",
      " $ Calories: int  1500 2300 3400 2200 2500 1600 1400 1900 2800 3900 ...\n"
     ]
    },
    {
     "data": {
      "text/html": [
       "0"
      ],
      "text/latex": [
       "0"
      ],
      "text/markdown": [
       "0"
      ],
      "text/plain": [
       "[1] 0"
      ]
     },
     "metadata": {},
     "output_type": "display_data"
    },
    {
     "data": {
      "text/html": [
       "357.714285714286"
      ],
      "text/latex": [
       "357.714285714286"
      ],
      "text/markdown": [
       "357.714285714286"
      ],
      "text/plain": [
       "[1] 357.7143"
      ]
     },
     "metadata": {},
     "output_type": "display_data"
    },
    {
     "data": {
      "text/html": [
       "2340.71428571429"
      ],
      "text/latex": [
       "2340.71428571429"
      ],
      "text/markdown": [
       "2340.71428571429"
      ],
      "text/plain": [
       "[1] 2340.714"
      ]
     },
     "metadata": {},
     "output_type": "display_data"
    }
   ],
   "source": [
    "# Pre porcessing data checking for NA values \n",
    "dim(cal)\n",
    "str(cal)  # data frame \n",
    "sum(is.na(cal)==T) # as there is no NA value if 0 there is no na value exist\n",
    "\n",
    "mean(Weight) # checking if perfectly mean is coming or not \n",
    "mean(Calories) # mean is proof there is no NA value\n"
   ]
  },
  {
   "cell_type": "code",
   "execution_count": 12,
   "metadata": {},
   "outputs": [
    {
     "data": {
      "image/png": "[encoded data removed]",
      "text/plain": [
       "Plot with title \"Normal Q-Q Plot\""
      ]
     },
     "metadata": {
      "image/png": {
       "height": 420,
       "width": 420
      },
      "text/plain": {
       "height": 420,
       "width": 420
      }
     },
     "output_type": "display_data"
    },
    {
     "data": {
      "text/html": [
       "0.946991008855446"
      ],
      "text/latex": [
       "0.946991008855446"
      ],
      "text/markdown": [
       "0.946991008855446"
      ],
      "text/plain": [
       "[1] 0.946991"
      ]
     },
     "metadata": {},
     "output_type": "display_data"
    },
    {
     "data": {
      "image/png": "[encoded data removed]",
      "text/plain": [
       "Plot with title \"Normal Q-Q Plot\""
      ]
     },
     "metadata": {
      "image/png": {
       "height": 420,
       "width": 420
      },
      "text/plain": {
       "height": 420,
       "width": 420
      }
     },
     "output_type": "display_data"
    }
   ],
   "source": [
    "# Just checking how normally data is distributed\n",
    "qqnorm(Weight)\n",
    "qqline(Weight)\n",
    "qqnorm(Calories)\n",
    "qqline(Calories)\n",
    "cor(Weight,Calories) # correlation is 0.946991008855446"
   ]
  },
  {
   "cell_type": "code",
   "execution_count": 13,
   "metadata": {},
   "outputs": [
    {
     "name": "stderr",
     "output_type": "stream",
     "text": [
      "The following objects are masked from cal (pos = 5):\n",
      "\n",
      "    Calories, Weight\n",
      "\n",
      "\n"
     ]
    },
    {
     "data": {
      "text/html": [
       "7"
      ],
      "text/latex": [
       "7"
      ],
      "text/markdown": [
       "7"
      ],
      "text/plain": [
       "[1] 7"
      ]
     },
     "metadata": {},
     "output_type": "display_data"
    }
   ],
   "source": [
    "#sample split data into train test 50:50 ratio as dat ais less\n",
    "library(ISLR)\n",
    "attach(cal)\n",
    "smp_siz = floor(0.50*nrow(cal))  # creates a value for dividing the data into train and test. In this case the value is defined as 75% of the number of rows in the dataset\n",
    "smp_siz  # shows the value of the sample size"
   ]
  },
  {
   "cell_type": "code",
   "execution_count": 14,
   "metadata": {},
   "outputs": [],
   "source": [
    "set.seed(123)   # set seed to ensure you always have same random numbers generated\n",
    "train_ind = sample(seq_len(nrow(cal)),size = smp_siz)  # Randomly identifies therows equal to sample size ( defined in previous instruction) from  all the rows of Smarket dataset and stores the row number in train_ind\n",
    "train =cal[train_ind,] #creates the training dataset with row numbers stored in train_ind\n",
    "test=cal[-train_ind,]  # creates the test dataset excluding the row numbers mentioned in train_ind"
   ]
  },
  {
   "cell_type": "code",
   "execution_count": 15,
   "metadata": {},
   "outputs": [
    {
     "data": {
      "text/html": [
       "<table>\n",
       "<caption>A data.frame: 7 × 2</caption>\n",
       "<thead>\n",
       "\t<tr><th></th><th scope=col>Weight</th><th scope=col>Calories</th></tr>\n",
       "\t<tr><th></th><th scope=col>&lt;int&gt;</th><th scope=col>&lt;int&gt;</th></tr>\n",
       "</thead>\n",
       "<tbody>\n",
       "\t<tr><th scope=row>1</th><td>108</td><td>1500</td></tr>\n",
       "\t<tr><th scope=row>7</th><td>128</td><td>1400</td></tr>\n",
       "\t<tr><th scope=row>8</th><td> 62</td><td>1900</td></tr>\n",
       "\t<tr><th scope=row>9</th><td>600</td><td>2800</td></tr>\n",
       "\t<tr><th scope=row>11</th><td>100</td><td>1670</td></tr>\n",
       "\t<tr><th scope=row>12</th><td>150</td><td>1900</td></tr>\n",
       "\t<tr><th scope=row>13</th><td>350</td><td>2700</td></tr>\n",
       "</tbody>\n",
       "</table>\n"
      ],
      "text/latex": [
       "A data.frame: 7 × 2\n",
       "\\begin{tabular}{r|ll}\n",
       "  & Weight & Calories\\\\\n",
       "  & <int> & <int>\\\\\n",
       "\\hline\n",
       "\t1 & 108 & 1500\\\\\n",
       "\t7 & 128 & 1400\\\\\n",
       "\t8 &  62 & 1900\\\\\n",
       "\t9 & 600 & 2800\\\\\n",
       "\t11 & 100 & 1670\\\\\n",
       "\t12 & 150 & 1900\\\\\n",
       "\t13 & 350 & 2700\\\\\n",
       "\\end{tabular}\n"
      ],
      "text/markdown": [
       "\n",
       "A data.frame: 7 × 2\n",
       "\n",
       "| <!--/--> | Weight &lt;int&gt; | Calories &lt;int&gt; |\n",
       "|---|---|---|\n",
       "| 1 | 108 | 1500 |\n",
       "| 7 | 128 | 1400 |\n",
       "| 8 |  62 | 1900 |\n",
       "| 9 | 600 | 2800 |\n",
       "| 11 | 100 | 1670 |\n",
       "| 12 | 150 | 1900 |\n",
       "| 13 | 350 | 2700 |\n",
       "\n"
      ],
      "text/plain": [
       "   Weight Calories\n",
       "1  108    1500    \n",
       "7  128    1400    \n",
       "8   62    1900    \n",
       "9  600    2800    \n",
       "11 100    1670    \n",
       "12 150    1900    \n",
       "13 350    2700    "
      ]
     },
     "metadata": {},
     "output_type": "display_data"
    }
   ],
   "source": [
    "test"
   ]
  },
  {
   "cell_type": "code",
   "execution_count": 16,
   "metadata": {},
   "outputs": [
    {
     "data": {
      "text/html": [
       "<table>\n",
       "<caption>A data.frame: 7 × 2</caption>\n",
       "<thead>\n",
       "\t<tr><th></th><th scope=col>Weight</th><th scope=col>Calories</th></tr>\n",
       "\t<tr><th></th><th scope=col>&lt;int&gt;</th><th scope=col>&lt;int&gt;</th></tr>\n",
       "</thead>\n",
       "<tbody>\n",
       "\t<tr><th scope=row>3</th><td> 900</td><td>3400</td></tr>\n",
       "\t<tr><th scope=row>14</th><td> 700</td><td>3000</td></tr>\n",
       "\t<tr><th scope=row>10</th><td>1100</td><td>3900</td></tr>\n",
       "\t<tr><th scope=row>2</th><td> 200</td><td>2300</td></tr>\n",
       "\t<tr><th scope=row>6</th><td> 110</td><td>1600</td></tr>\n",
       "\t<tr><th scope=row>5</th><td> 300</td><td>2500</td></tr>\n",
       "\t<tr><th scope=row>4</th><td> 200</td><td>2200</td></tr>\n",
       "</tbody>\n",
       "</table>\n"
      ],
      "text/latex": [
       "A data.frame: 7 × 2\n",
       "\\begin{tabular}{r|ll}\n",
       "  & Weight & Calories\\\\\n",
       "  & <int> & <int>\\\\\n",
       "\\hline\n",
       "\t3 &  900 & 3400\\\\\n",
       "\t14 &  700 & 3000\\\\\n",
       "\t10 & 1100 & 3900\\\\\n",
       "\t2 &  200 & 2300\\\\\n",
       "\t6 &  110 & 1600\\\\\n",
       "\t5 &  300 & 2500\\\\\n",
       "\t4 &  200 & 2200\\\\\n",
       "\\end{tabular}\n"
      ],
      "text/markdown": [
       "\n",
       "A data.frame: 7 × 2\n",
       "\n",
       "| <!--/--> | Weight &lt;int&gt; | Calories &lt;int&gt; |\n",
       "|---|---|---|\n",
       "| 3 |  900 | 3400 |\n",
       "| 14 |  700 | 3000 |\n",
       "| 10 | 1100 | 3900 |\n",
       "| 2 |  200 | 2300 |\n",
       "| 6 |  110 | 1600 |\n",
       "| 5 |  300 | 2500 |\n",
       "| 4 |  200 | 2200 |\n",
       "\n"
      ],
      "text/plain": [
       "   Weight Calories\n",
       "3   900   3400    \n",
       "14  700   3000    \n",
       "10 1100   3900    \n",
       "2   200   2300    \n",
       "6   110   1600    \n",
       "5   300   2500    \n",
       "4   200   2200    "
      ]
     },
     "metadata": {},
     "output_type": "display_data"
    }
   ],
   "source": [
    "train"
   ]
  },
  {
   "cell_type": "code",
   "execution_count": 64,
   "metadata": {},
   "outputs": [
    {
     "data": {
      "text/html": [
       "103.302501947269"
      ],
      "text/latex": [
       "103.302501947269"
      ],
      "text/markdown": [
       "103.302501947269"
      ],
      "text/plain": [
       "[1] 103.3025"
      ]
     },
     "metadata": {},
     "output_type": "display_data"
    },
    {
     "data": {
      "image/png": "[encoded data removed]",
      "text/plain": [
       "plot without title"
      ]
     },
     "metadata": {
      "image/png": {
       "height": 420,
       "width": 420
      },
      "text/plain": {
       "height": 420,
       "width": 420
      }
     },
     "output_type": "display_data"
    }
   ],
   "source": [
    "# we trying to fit a linear regression line  by plotting linear model \n",
    "lm <- lm(Weight~Calories,data=cal) # linear model\n",
    "rmse <- sqrt(mean(lm$residuals^2))\n",
    "rmse # rmse is too high value \n",
    "plot( Calories,Weight) # scatter plot X is Waist and y is AT\n",
    "abline(lm(Weight~Calories,data = cal),col = 'red') # made a regression line "
   ]
  },
  {
   "cell_type": "code",
   "execution_count": 69,
   "metadata": {},
   "outputs": [
    {
     "data": {
      "text/plain": [
       "\n",
       "Call:\n",
       "lm(formula = Weight ~ Calories, data = cal)\n",
       "\n",
       "Residuals:\n",
       "    Min      1Q  Median      3Q     Max \n",
       "-158.67 -107.56   36.70   81.68  165.53 \n",
       "\n",
       "Coefficients:\n",
       "              Estimate Std. Error t value Pr(>|t|)    \n",
       "(Intercept) -625.75236  100.82293  -6.206 4.54e-05 ***\n",
       "Calories       0.42016    0.04115  10.211 2.86e-07 ***\n",
       "---\n",
       "Signif. codes:  0 '***' 0.001 '**' 0.01 '*' 0.05 '.' 0.1 ' ' 1\n",
       "\n",
       "Residual standard error: 111.6 on 12 degrees of freedom\n",
       "Multiple R-squared:  0.8968,\tAdjusted R-squared:  0.8882 \n",
       "F-statistic: 104.3 on 1 and 12 DF,  p-value: 2.856e-07\n"
      ]
     },
     "metadata": {},
     "output_type": "display_data"
    }
   ],
   "source": [
    "summary(lm)"
   ]
  },
  {
   "cell_type": "code",
   "execution_count": 82,
   "metadata": {
    "scrolled": true
   },
   "outputs": [
    {
     "data": {
      "text/html": [
       "1475.04764"
      ],
      "text/latex": [
       "1475.04764"
      ],
      "text/markdown": [
       "1475.04764"
      ],
      "text/plain": [
       "[1] 1475.048"
      ]
     },
     "metadata": {},
     "output_type": "display_data"
    }
   ],
   "source": [
    "# lets predict  Coff is  intercept-625.75236 b =   0.42016 x is  108\n",
    "y =  -625.75236 + 0.42016*5000\n",
    "y"
   ]
  },
  {
   "cell_type": "code",
   "execution_count": 67,
   "metadata": {},
   "outputs": [
    {
     "data": {
      "text/html": [
       "<style>\n",
       ".dl-inline {width: auto; margin:0; padding: 0}\n",
       ".dl-inline>dt, .dl-inline>dd {float: none; width: auto; display: inline-block}\n",
       ".dl-inline>dt::after {content: \":\\0020\"; padding-right: .5ex}\n",
       ".dl-inline>dt:not(:first-of-type) {padding-left: .5ex}\n",
       "</style><dl class=dl-inline><dt>1</dt><dd>4.48259912172375</dd><dt>2</dt><dd>340.607908368681</dd><dt>3</dt><dd>802.780208583248</dd><dt>4</dt><dd>298.592244712812</dd><dt>5</dt><dd>424.639235680421</dd><dt>6</dt><dd>46.4982627775934</dd><dt>7</dt><dd>-37.533064534146</dd><dt>8</dt><dd>172.545253745203</dd><dt>9</dt><dd>550.68622664803</dd><dt>10</dt><dd>1012.8585268626</dd><dt>11</dt><dd>75.9092273367022</dd><dt>12</dt><dd>172.545253745203</dd><dt>13</dt><dd>508.67056299216</dd><dt>14</dt><dd>634.717553959769</dd></dl>\n"
      ],
      "text/latex": [
       "\\begin{description*}\n",
       "\\item[1] 4.48259912172375\n",
       "\\item[2] 340.607908368681\n",
       "\\item[3] 802.780208583248\n",
       "\\item[4] 298.592244712812\n",
       "\\item[5] 424.639235680421\n",
       "\\item[6] 46.4982627775934\n",
       "\\item[7] -37.533064534146\n",
       "\\item[8] 172.545253745203\n",
       "\\item[9] 550.68622664803\n",
       "\\item[10] 1012.8585268626\n",
       "\\item[11] 75.9092273367022\n",
       "\\item[12] 172.545253745203\n",
       "\\item[13] 508.67056299216\n",
       "\\item[14] 634.717553959769\n",
       "\\end{description*}\n"
      ],
      "text/markdown": [
       "1\n",
       ":   4.482599121723752\n",
       ":   340.6079083686813\n",
       ":   802.7802085832484\n",
       ":   298.5922447128125\n",
       ":   424.6392356804216\n",
       ":   46.49826277759347\n",
       ":   -37.5330645341468\n",
       ":   172.5452537452039\n",
       ":   550.6862266480310\n",
       ":   1012.858526862611\n",
       ":   75.909227336702212\n",
       ":   172.54525374520313\n",
       ":   508.6705629921614\n",
       ":   634.717553959769\n",
       "\n"
      ],
      "text/plain": [
       "          1           2           3           4           5           6 \n",
       "   4.482599  340.607908  802.780209  298.592245  424.639236   46.498263 \n",
       "          7           8           9          10          11          12 \n",
       " -37.533065  172.545254  550.686227 1012.858527   75.909227  172.545254 \n",
       "         13          14 \n",
       " 508.670563  634.717554 "
      ]
     },
     "metadata": {},
     "output_type": "display_data"
    }
   ],
   "source": [
    "predi  <- predict(lm,data= cal.Weight[1:10,])\n",
    "predi"
   ]
  },
  {
   "cell_type": "code",
   "execution_count": 68,
   "metadata": {},
   "outputs": [
    {
     "data": {
      "image/png": "[encoded data removed]",
      "text/plain": [
       "Plot with title \"Normal Q-Q Plot\""
      ]
     },
     "metadata": {
      "image/png": {
       "height": 420,
       "width": 420
      },
      "text/plain": {
       "height": 420,
       "width": 420
      }
     },
     "output_type": "display_data"
    },
    {
     "data": {
      "image/png": "[encoded data removed]",
      "text/plain": [
       "Plot with title \"Normal Q-Q Plot\""
      ]
     },
     "metadata": {
      "image/png": {
       "height": 420,
       "width": 420
      },
      "text/plain": {
       "height": 420,
       "width": 420
      }
     },
     "output_type": "display_data"
    },
    {
     "data": {
      "image/png": "[encoded data removed]",
      "text/plain": [
       "Plot with title \"Normal Q-Q Plot\""
      ]
     },
     "metadata": {
      "image/png": {
       "height": 420,
       "width": 420
      },
      "text/plain": {
       "height": 420,
       "width": 420
      }
     },
     "output_type": "display_data"
    },
    {
     "data": {
      "image/png": "[encoded data removed]",
      "text/plain": [
       "Plot with title \"Normal Q-Q Plot\""
      ]
     },
     "metadata": {
      "image/png": {
       "height": 420,
       "width": 420
      },
      "text/plain": {
       "height": 420,
       "width": 420
      }
     },
     "output_type": "display_data"
    },
    {
     "data": {
      "image/png": "[encoded data removed]",
      "text/plain": [
       "Plot with title \"Normal Q-Q Plot\""
      ]
     },
     "metadata": {
      "image/png": {
       "height": 420,
       "width": 420
      },
      "text/plain": {
       "height": 420,
       "width": 420
      }
     },
     "output_type": "display_data"
    },
    {
     "data": {
      "image/png": "[encoded data removed]",
      "text/plain": [
       "Plot with title \"Normal Q-Q Plot\""
      ]
     },
     "metadata": {
      "image/png": {
       "height": 420,
       "width": 420
      },
      "text/plain": {
       "height": 420,
       "width": 420
      }
     },
     "output_type": "display_data"
    },
    {
     "data": {
      "image/png": "[encoded data removed]",
      "text/plain": [
       "Plot with title \"Normal Q-Q Plot\""
      ]
     },
     "metadata": {
      "image/png": {
       "height": 420,
       "width": 420
      },
      "text/plain": {
       "height": 420,
       "width": 420
      }
     },
     "output_type": "display_data"
    }
   ],
   "source": [
    "# Dignosis of model in qqnorm mothod\n",
    "\n",
    "qqnorm(resid(lm))# checking linearity residuals of linear model\n",
    "qqline(resid(lm)) # trying to fitting a line on the model made\n",
    "qqnorm(fitted(lm)) # checking fittled \n",
    "qqline(fitted(lm)) # linear model fitting line\n",
    "qqnorm(fitted.values(lm))# checking fitted values\n",
    "qqline(fitted.values(lm))# checking fitted values\n",
    "qqnorm(residuals(lm))# checking residials \n",
    "qqline(residuals(lm))# fitting line on residuals\n",
    "qqnorm(effects(lm)) # effects of lm in quantiles\n",
    "qqline(effects(lm)) # fitting line on effects\n",
    "qqnorm(df.residual(lm)) # checking digree of freedom\n",
    "qqnorm(coefficients(lm))# checking cofficnent point on lm. \n"
   ]
  },
  {
   "cell_type": "code",
   "execution_count": 20,
   "metadata": {},
   "outputs": [
    {
     "data": {
      "image/png": "[encoded data removed]",
      "text/plain": [
       "Plot with title \"\""
      ]
     },
     "metadata": {
      "image/png": {
       "height": 420,
       "width": 420
      },
      "text/plain": {
       "height": 420,
       "width": 420
      }
     },
     "output_type": "display_data"
    }
   ],
   "source": [
    "# dignostic plot togeather all need to increase size \n",
    "par(mfrow = c(2, 2))\n",
    "plot(lm)"
   ]
  },
  {
   "cell_type": "code",
   "execution_count": 21,
   "metadata": {},
   "outputs": [
    {
     "name": "stderr",
     "output_type": "stream",
     "text": [
      "-- \u001b[1mAttaching packages\u001b[22m --------------------------------------- tidyverse 1.3.0 --\n",
      "\n",
      "\u001b[32mv\u001b[39m \u001b[34mggplot2\u001b[39m 3.3.0     \u001b[32mv\u001b[39m \u001b[34mpurrr  \u001b[39m 0.3.3\n",
      "\u001b[32mv\u001b[39m \u001b[34mtibble \u001b[39m 3.0.1     \u001b[32mv\u001b[39m \u001b[34mdplyr  \u001b[39m 0.8.5\n",
      "\u001b[32mv\u001b[39m \u001b[34mtidyr  \u001b[39m 1.0.2     \u001b[32mv\u001b[39m \u001b[34mstringr\u001b[39m 1.4.0\n",
      "\u001b[32mv\u001b[39m \u001b[34mreadr  \u001b[39m 1.3.1     \u001b[32mv\u001b[39m \u001b[34mforcats\u001b[39m 0.5.0\n",
      "\n",
      "-- \u001b[1mConflicts\u001b[22m ------------------------------------------ tidyverse_conflicts() --\n",
      "\u001b[31mx\u001b[39m \u001b[34mdplyr\u001b[39m::\u001b[32mfilter()\u001b[39m masks \u001b[34mstats\u001b[39m::filter()\n",
      "\u001b[31mx\u001b[39m \u001b[34mdplyr\u001b[39m::\u001b[32mlag()\u001b[39m    masks \u001b[34mstats\u001b[39m::lag()\n",
      "\n",
      "\n",
      "Attaching package: 'broom'\n",
      "\n",
      "\n",
      "The following object is masked from 'package:modelr':\n",
      "\n",
      "    bootstrap\n",
      "\n",
      "\n"
     ]
    },
    {
     "name": "stdout",
     "output_type": "stream",
     "text": [
      "Potentially influential observations of\n",
      "\t lm(formula = Weight ~ Calories, data = cal) :\n",
      "\n",
      "   dfb.1_ dfb.Clrs dffit cov.r   cook.d hat  \n",
      "10 -0.61   0.75     0.83  1.67_*  0.34   0.40\n"
     ]
    },
    {
     "data": {
      "image/png": "[encoded data removed]",
      "text/plain": [
       "plot without title"
      ]
     },
     "metadata": {
      "image/png": {
       "height": 420,
       "width": 420
      },
      "text/plain": {
       "height": 420,
       "width": 420
      }
     },
     "output_type": "display_data"
    }
   ],
   "source": [
    "#dignostic plot togeather with outliers with autopilot\n",
    "#install.packages(\"ggfortify\")\n",
    "# second method of dignostic plot ggplot 2 \n",
    "library(\"tidyverse\")\n",
    "library(\"modelr\")\n",
    "library(\"broom\")\n",
    "library(\"ggfortify\")\n",
    "autoplot(lm)\n",
    "summary(influence.measures(lm)) # we can have influence measure of cookr and hat value"
   ]
  },
  {
   "cell_type": "code",
   "execution_count": 22,
   "metadata": {},
   "outputs": [
    {
     "data": {
      "text/plain": [
       "\n",
       "Call:\n",
       "lm(formula = Weight ~ Calories, data = cal)\n",
       "\n",
       "Residuals:\n",
       "    Min      1Q  Median      3Q     Max \n",
       "-158.67 -107.56   36.70   81.68  165.53 \n",
       "\n",
       "Coefficients:\n",
       "              Estimate Std. Error t value Pr(>|t|)    \n",
       "(Intercept) -625.75236  100.82293  -6.206 4.54e-05 ***\n",
       "Calories       0.42016    0.04115  10.211 2.86e-07 ***\n",
       "---\n",
       "Signif. codes:  0 '***' 0.001 '**' 0.01 '*' 0.05 '.' 0.1 ' ' 1\n",
       "\n",
       "Residual standard error: 111.6 on 12 degrees of freedom\n",
       "Multiple R-squared:  0.8968,\tAdjusted R-squared:  0.8882 \n",
       "F-statistic: 104.3 on 1 and 12 DF,  p-value: 2.856e-07\n"
      ]
     },
     "metadata": {},
     "output_type": "display_data"
    },
    {
     "data": {
      "image/png": "[encoded data removed]",
      "text/plain": [
       "plot without title"
      ]
     },
     "metadata": {
      "image/png": {
       "height": 420,
       "width": 420
      },
      "text/plain": {
       "height": 420,
       "width": 420
      }
     },
     "output_type": "display_data"
    }
   ],
   "source": [
    "\n",
    "# adding regression line with ggplot2 A scattar plot \n",
    "ggplot(cal,aes(x=Calories,y=Weight)) +geom_point()+geom_abline(intercept = -625.75236  ,slope =  0.42016 ,color ='red',size =.65 )# visualizsing geoom point \n",
    "\n",
    "summary(lm)"
   ]
  },
  {
   "cell_type": "markdown",
   "metadata": {},
   "source": [
    "####################################### Checking normality of Data for further annalysis######################################"
   ]
  },
  {
   "cell_type": "code",
   "execution_count": 23,
   "metadata": {},
   "outputs": [
    {
     "data": {
      "text/plain": [
       "\n",
       "\tShapiro-Wilk normality test\n",
       "\n",
       "data:  Weight\n",
       "W = 0.80997, p-value = 0.006646\n"
      ]
     },
     "metadata": {},
     "output_type": "display_data"
    },
    {
     "data": {
      "text/plain": [
       "\n",
       "\tShapiro-Wilk normality test\n",
       "\n",
       "data:  Calories\n",
       "W = 0.94518, p-value = 0.4887\n"
      ]
     },
     "metadata": {},
     "output_type": "display_data"
    }
   ],
   "source": [
    "shapiro.test(Weight) # weight is not normal \n",
    "shapiro.test(Calories) # calories follows normal pattern"
   ]
  },
  {
   "cell_type": "markdown",
   "metadata": {},
   "source": [
    "########################################## Model building #####################################################################"
   ]
  },
  {
   "cell_type": "code",
   "execution_count": 24,
   "metadata": {},
   "outputs": [
    {
     "data": {
      "text/html": [
       "103.302501947269"
      ],
      "text/latex": [
       "103.302501947269"
      ],
      "text/markdown": [
       "103.302501947269"
      ],
      "text/plain": [
       "[1] 103.3025"
      ]
     },
     "metadata": {},
     "output_type": "display_data"
    },
    {
     "data": {
      "text/plain": [
       "\n",
       "Call:\n",
       "lm(formula = Weight ~ Calories, data = train)\n",
       "\n",
       "Residuals:\n",
       "      3      14      10       2       6       5       4 \n",
       "  56.37   51.91   11.94 -105.89  146.32 -103.66  -57.00 \n",
       "\n",
       "Coefficients:\n",
       "              Estimate Std. Error t value Pr(>|t|)    \n",
       "(Intercept) -818.48991  149.51600  -5.474 0.002772 ** \n",
       "Calories       0.48886    0.05348   9.141 0.000263 ***\n",
       "---\n",
       "Signif. codes:  0 '***' 0.001 '**' 0.01 '*' 0.05 '.' 0.1 ' ' 1\n",
       "\n",
       "Residual standard error: 102.6 on 5 degrees of freedom\n",
       "Multiple R-squared:  0.9435,\tAdjusted R-squared:  0.9322 \n",
       "F-statistic: 83.55 on 1 and 5 DF,  p-value: 0.0002626\n"
      ]
     },
     "metadata": {},
     "output_type": "display_data"
    },
    {
     "data": {
      "image/png": "[encoded data removed]",
      "text/plain": [
       "plot without title"
      ]
     },
     "metadata": {
      "image/png": {
       "height": 420,
       "width": 420
      },
      "text/plain": {
       "height": 420,
       "width": 420
      }
     },
     "output_type": "display_data"
    }
   ],
   "source": [
    "# lets make a linear model With training data set and test it \n",
    "# we trying to fit a linear regression line  by plotting linear model \n",
    "lm_train <- lm(Weight~Calories,data=train) # linear model\n",
    "rmse_train <- sqrt(mean(lm$residuals^2))\n",
    "rmse_train # priliminary model gives rmse 32 which is error is higher \n",
    "plot(Calories, Weight) # scatter plot X is Waist and y is AT\n",
    "abline(lm(Weight~Calories,data = train),col = 'red') # made a regression line \n",
    "summary(lm_train)\n"
   ]
  },
  {
   "cell_type": "code",
   "execution_count": 66,
   "metadata": {},
   "outputs": [
    {
     "data": {
      "text/html": [
       "<table>\n",
       "<caption>A matrix: 2 × 2 of type dbl</caption>\n",
       "<thead>\n",
       "\t<tr><th></th><th scope=col>2.5 %</th><th scope=col>97.5 %</th></tr>\n",
       "</thead>\n",
       "<tbody>\n",
       "\t<tr><th scope=row>(Intercept)</th><td>-1202.8330102</td><td>-434.1468034</td></tr>\n",
       "\t<tr><th scope=row>Calories</th><td>    0.3513802</td><td>   0.6263372</td></tr>\n",
       "</tbody>\n",
       "</table>\n"
      ],
      "text/latex": [
       "A matrix: 2 × 2 of type dbl\n",
       "\\begin{tabular}{r|ll}\n",
       "  & 2.5 \\% & 97.5 \\%\\\\\n",
       "\\hline\n",
       "\t(Intercept) & -1202.8330102 & -434.1468034\\\\\n",
       "\tCalories &     0.3513802 &    0.6263372\\\\\n",
       "\\end{tabular}\n"
      ],
      "text/markdown": [
       "\n",
       "A matrix: 2 × 2 of type dbl\n",
       "\n",
       "| <!--/--> | 2.5 % | 97.5 % |\n",
       "|---|---|---|\n",
       "| (Intercept) | -1202.8330102 | -434.1468034 |\n",
       "| Calories |     0.3513802 |    0.6263372 |\n",
       "\n"
      ],
      "text/plain": [
       "            2.5 %         97.5 %      \n",
       "(Intercept) -1202.8330102 -434.1468034\n",
       "Calories        0.3513802    0.6263372"
      ]
     },
     "metadata": {},
     "output_type": "display_data"
    },
    {
     "data": {
      "text/html": [
       "<table>\n",
       "<caption>A matrix: 7 × 3 of type dbl</caption>\n",
       "<thead>\n",
       "\t<tr><th></th><th scope=col>fit</th><th scope=col>lwr</th><th scope=col>upr</th></tr>\n",
       "</thead>\n",
       "<tbody>\n",
       "\t<tr><th scope=row>3</th><td> 843.62966</td><td> 705.0752</td><td> 982.1841</td></tr>\n",
       "\t<tr><th scope=row>14</th><td> 648.08618</td><td> 540.2103</td><td> 755.9621</td></tr>\n",
       "\t<tr><th scope=row>10</th><td>1088.05901</td><td> 895.3088</td><td>1280.8093</td></tr>\n",
       "\t<tr><th scope=row>2</th><td> 305.88509</td><td> 192.0421</td><td> 419.7281</td></tr>\n",
       "\t<tr><th scope=row>6</th><td> -36.31599</td><td>-217.4391</td><td> 144.8071</td></tr>\n",
       "\t<tr><th scope=row>5</th><td> 403.65683</td><td> 300.2538</td><td> 507.0599</td></tr>\n",
       "\t<tr><th scope=row>4</th><td> 256.99922</td><td> 135.9155</td><td> 378.0829</td></tr>\n",
       "</tbody>\n",
       "</table>\n"
      ],
      "text/latex": [
       "A matrix: 7 × 3 of type dbl\n",
       "\\begin{tabular}{r|lll}\n",
       "  & fit & lwr & upr\\\\\n",
       "\\hline\n",
       "\t3 &  843.62966 &  705.0752 &  982.1841\\\\\n",
       "\t14 &  648.08618 &  540.2103 &  755.9621\\\\\n",
       "\t10 & 1088.05901 &  895.3088 & 1280.8093\\\\\n",
       "\t2 &  305.88509 &  192.0421 &  419.7281\\\\\n",
       "\t6 &  -36.31599 & -217.4391 &  144.8071\\\\\n",
       "\t5 &  403.65683 &  300.2538 &  507.0599\\\\\n",
       "\t4 &  256.99922 &  135.9155 &  378.0829\\\\\n",
       "\\end{tabular}\n"
      ],
      "text/markdown": [
       "\n",
       "A matrix: 7 × 3 of type dbl\n",
       "\n",
       "| <!--/--> | fit | lwr | upr |\n",
       "|---|---|---|---|\n",
       "| 3 |  843.62966 |  705.0752 |  982.1841 |\n",
       "| 14 |  648.08618 |  540.2103 |  755.9621 |\n",
       "| 10 | 1088.05901 |  895.3088 | 1280.8093 |\n",
       "| 2 |  305.88509 |  192.0421 |  419.7281 |\n",
       "| 6 |  -36.31599 | -217.4391 |  144.8071 |\n",
       "| 5 |  403.65683 |  300.2538 |  507.0599 |\n",
       "| 4 |  256.99922 |  135.9155 |  378.0829 |\n",
       "\n"
      ],
      "text/plain": [
       "   fit        lwr       upr      \n",
       "3   843.62966  705.0752  982.1841\n",
       "14  648.08618  540.2103  755.9621\n",
       "10 1088.05901  895.3088 1280.8093\n",
       "2   305.88509  192.0421  419.7281\n",
       "6   -36.31599 -217.4391  144.8071\n",
       "5   403.65683  300.2538  507.0599\n",
       "4   256.99922  135.9155  378.0829"
      ]
     },
     "metadata": {},
     "output_type": "display_data"
    },
    {
     "data": {
      "text/html": [
       "<table>\n",
       "<caption>A matrix: 7 × 3 of type dbl</caption>\n",
       "<thead>\n",
       "\t<tr><th></th><th scope=col>fit</th><th scope=col>lwr</th><th scope=col>upr</th></tr>\n",
       "</thead>\n",
       "<tbody>\n",
       "\t<tr><th scope=row>3</th><td>          Inf</td><td>1.622798e+306</td><td>          Inf</td></tr>\n",
       "\t<tr><th scope=row>14</th><td>2.885704e+281</td><td>4.077091e+234</td><td>          Inf</td></tr>\n",
       "\t<tr><th scope=row>10</th><td>          Inf</td><td>          Inf</td><td>          Inf</td></tr>\n",
       "\t<tr><th scope=row>2</th><td>6.985670e+132</td><td> 2.528243e+83</td><td>1.930178e+182</td></tr>\n",
       "\t<tr><th scope=row>6</th><td> 1.691081e-16</td><td> 3.693140e-95</td><td> 7.743421e+62</td></tr>\n",
       "\t<tr><th scope=row>5</th><td>2.022716e+175</td><td>2.503589e+130</td><td>1.634206e+220</td></tr>\n",
       "\t<tr><th scope=row>4</th><td>4.105298e+111</td><td> 1.065040e+59</td><td>1.582426e+164</td></tr>\n",
       "</tbody>\n",
       "</table>\n"
      ],
      "text/latex": [
       "A matrix: 7 × 3 of type dbl\n",
       "\\begin{tabular}{r|lll}\n",
       "  & fit & lwr & upr\\\\\n",
       "\\hline\n",
       "\t3 &           Inf & 1.622798e+306 &           Inf\\\\\n",
       "\t14 & 2.885704e+281 & 4.077091e+234 &           Inf\\\\\n",
       "\t10 &           Inf &           Inf &           Inf\\\\\n",
       "\t2 & 6.985670e+132 &  2.528243e+83 & 1.930178e+182\\\\\n",
       "\t6 &  1.691081e-16 &  3.693140e-95 &  7.743421e+62\\\\\n",
       "\t5 & 2.022716e+175 & 2.503589e+130 & 1.634206e+220\\\\\n",
       "\t4 & 4.105298e+111 &  1.065040e+59 & 1.582426e+164\\\\\n",
       "\\end{tabular}\n"
      ],
      "text/markdown": [
       "\n",
       "A matrix: 7 × 3 of type dbl\n",
       "\n",
       "| <!--/--> | fit | lwr | upr |\n",
       "|---|---|---|---|\n",
       "| 3 |           Inf | 1.622798e+306 |           Inf |\n",
       "| 14 | 2.885704e+281 | 4.077091e+234 |           Inf |\n",
       "| 10 |           Inf |           Inf |           Inf |\n",
       "| 2 | 6.985670e+132 |  2.528243e+83 | 1.930178e+182 |\n",
       "| 6 |  1.691081e-16 |  3.693140e-95 |  7.743421e+62 |\n",
       "| 5 | 2.022716e+175 | 2.503589e+130 | 1.634206e+220 |\n",
       "| 4 | 4.105298e+111 |  1.065040e+59 | 1.582426e+164 |\n",
       "\n"
      ],
      "text/plain": [
       "   fit           lwr           upr          \n",
       "3            Inf 1.622798e+306           Inf\n",
       "14 2.885704e+281 4.077091e+234           Inf\n",
       "10           Inf           Inf           Inf\n",
       "2  6.985670e+132  2.528243e+83 1.930178e+182\n",
       "6   1.691081e-16  3.693140e-95  7.743421e+62\n",
       "5  2.022716e+175 2.503589e+130 1.634206e+220\n",
       "4  4.105298e+111  1.065040e+59 1.582426e+164"
      ]
     },
     "metadata": {},
     "output_type": "display_data"
    },
    {
     "name": "stderr",
     "output_type": "stream",
     "text": [
      "Warning message in lm_ex_ploy - Weight:\n",
      "\"longer object length is not a multiple of shorter object length\"\n"
     ]
    },
    {
     "data": {
      "text/html": [
       "<table>\n",
       "<caption>A matrix: 7 × 3 of type dbl</caption>\n",
       "<thead>\n",
       "\t<tr><th></th><th scope=col>fit</th><th scope=col>lwr</th><th scope=col>upr</th></tr>\n",
       "</thead>\n",
       "<tbody>\n",
       "\t<tr><th scope=row>3</th><td>           Inf</td><td> 1.622798e+306</td><td>          Inf</td></tr>\n",
       "\t<tr><th scope=row>14</th><td> 2.885704e+281</td><td> 4.077091e+234</td><td>          Inf</td></tr>\n",
       "\t<tr><th scope=row>10</th><td>           Inf</td><td>           Inf</td><td>          Inf</td></tr>\n",
       "\t<tr><th scope=row>2</th><td> 6.985670e+132</td><td>  2.528243e+83</td><td>1.930178e+182</td></tr>\n",
       "\t<tr><th scope=row>6</th><td> -3.000000e+02</td><td> -1.500000e+02</td><td> 7.743421e+62</td></tr>\n",
       "\t<tr><th scope=row>5</th><td> 2.022716e+175</td><td> 2.503589e+130</td><td>1.634206e+220</td></tr>\n",
       "\t<tr><th scope=row>4</th><td> 4.105298e+111</td><td>  1.065040e+59</td><td>1.582426e+164</td></tr>\n",
       "</tbody>\n",
       "</table>\n"
      ],
      "text/latex": [
       "A matrix: 7 × 3 of type dbl\n",
       "\\begin{tabular}{r|lll}\n",
       "  & fit & lwr & upr\\\\\n",
       "\\hline\n",
       "\t3 &            Inf &  1.622798e+306 &           Inf\\\\\n",
       "\t14 &  2.885704e+281 &  4.077091e+234 &           Inf\\\\\n",
       "\t10 &            Inf &            Inf &           Inf\\\\\n",
       "\t2 &  6.985670e+132 &   2.528243e+83 & 1.930178e+182\\\\\n",
       "\t6 &  -3.000000e+02 &  -1.500000e+02 &  7.743421e+62\\\\\n",
       "\t5 &  2.022716e+175 &  2.503589e+130 & 1.634206e+220\\\\\n",
       "\t4 &  4.105298e+111 &   1.065040e+59 & 1.582426e+164\\\\\n",
       "\\end{tabular}\n"
      ],
      "text/markdown": [
       "\n",
       "A matrix: 7 × 3 of type dbl\n",
       "\n",
       "| <!--/--> | fit | lwr | upr |\n",
       "|---|---|---|---|\n",
       "| 3 |            Inf |  1.622798e+306 |           Inf |\n",
       "| 14 |  2.885704e+281 |  4.077091e+234 |           Inf |\n",
       "| 10 |            Inf |            Inf |           Inf |\n",
       "| 2 |  6.985670e+132 |   2.528243e+83 | 1.930178e+182 |\n",
       "| 6 |  -3.000000e+02 |  -1.500000e+02 |  7.743421e+62 |\n",
       "| 5 |  2.022716e+175 |  2.503589e+130 | 1.634206e+220 |\n",
       "| 4 |  4.105298e+111 |   1.065040e+59 | 1.582426e+164 |\n",
       "\n"
      ],
      "text/plain": [
       "   fit            lwr            upr          \n",
       "3             Inf  1.622798e+306           Inf\n",
       "14  2.885704e+281  4.077091e+234           Inf\n",
       "10            Inf            Inf           Inf\n",
       "2   6.985670e+132   2.528243e+83 1.930178e+182\n",
       "6   -3.000000e+02  -1.500000e+02  7.743421e+62\n",
       "5   2.022716e+175  2.503589e+130 1.634206e+220\n",
       "4   4.105298e+111   1.065040e+59 1.582426e+164"
      ]
     },
     "metadata": {},
     "output_type": "display_data"
    },
    {
     "data": {
      "text/html": [
       "Inf"
      ],
      "text/latex": [
       "Inf"
      ],
      "text/markdown": [
       "Inf"
      ],
      "text/plain": [
       "[1] Inf"
      ]
     },
     "metadata": {},
     "output_type": "display_data"
    },
    {
     "data": {
      "text/html": [
       "<style>\n",
       ".dl-inline {width: auto; margin:0; padding: 0}\n",
       ".dl-inline>dt, .dl-inline>dd {float: none; width: auto; display: inline-block}\n",
       ".dl-inline>dt::after {content: \":\\0020\"; padding-right: .5ex}\n",
       ".dl-inline>dt:not(:first-of-type) {padding-left: .5ex}\n",
       "</style><dl class=dl-inline><dt>3</dt><dd>56.3703416149069</dd><dt>14</dt><dd>51.9138198757766</dd><dt>10</dt><dd>11.9409937888198</dd><dt>2</dt><dd>-105.885093167702</dd><dt>6</dt><dd>146.31599378882</dd><dt>5</dt><dd>-103.656832298137</dd><dt>4</dt><dd>-56.9992236024845</dd></dl>\n"
      ],
      "text/latex": [
       "\\begin{description*}\n",
       "\\item[3] 56.3703416149069\n",
       "\\item[14] 51.9138198757766\n",
       "\\item[10] 11.9409937888198\n",
       "\\item[2] -105.885093167702\n",
       "\\item[6] 146.31599378882\n",
       "\\item[5] -103.656832298137\n",
       "\\item[4] -56.9992236024845\n",
       "\\end{description*}\n"
      ],
      "text/markdown": [
       "3\n",
       ":   56.370341614906914\n",
       ":   51.913819875776610\n",
       ":   11.94099378881982\n",
       ":   -105.8850931677026\n",
       ":   146.315993788825\n",
       ":   -103.6568322981374\n",
       ":   -56.9992236024845\n",
       "\n"
      ],
      "text/plain": [
       "         3         14         10          2          6          5          4 \n",
       "  56.37034   51.91382   11.94099 -105.88509  146.31599 -103.65683  -56.99922 "
      ]
     },
     "metadata": {},
     "output_type": "display_data"
    }
   ],
   "source": [
    "confint(lm_train,level=0.95)\n",
    "lm_res  <-  predict(lm_train, interval = \"confidence\")\n",
    "lm_res\n",
    "lm_ex_ploy  <- exp(lm_res)\n",
    "lm_ex_ploy\n",
    "err_ploy  <- lm_ex_ploy-Weight\n",
    "err_ploy\n",
    "rmse  <- sqrt(mean(err_ploy^2))\n",
    "rmse\n",
    "residual  <-  lm_train$residuals\n",
    "residual"
   ]
  },
  {
   "cell_type": "code",
   "execution_count": 67,
   "metadata": {},
   "outputs": [
    {
     "data": {
      "text/html": [
       "<style>\n",
       ".dl-inline {width: auto; margin:0; padding: 0}\n",
       ".dl-inline>dt, .dl-inline>dd {float: none; width: auto; display: inline-block}\n",
       ".dl-inline>dt::after {content: \":\\0020\"; padding-right: .5ex}\n",
       ".dl-inline>dt:not(:first-of-type) {padding-left: .5ex}\n",
       "</style><dl class=dl-inline><dt>1</dt><dd>-85.2018633540375</dd><dt>7</dt><dd>-134.087732919255</dd><dt>8</dt><dd>110.341614906832</dd><dt>9</dt><dd>550.314440993789</dd><dt>11</dt><dd>-2.09588509316802</dd><dt>12</dt><dd>110.341614906832</dd><dt>13</dt><dd>501.428571428571</dd></dl>\n"
      ],
      "text/latex": [
       "\\begin{description*}\n",
       "\\item[1] -85.2018633540375\n",
       "\\item[7] -134.087732919255\n",
       "\\item[8] 110.341614906832\n",
       "\\item[9] 550.314440993789\n",
       "\\item[11] -2.09588509316802\n",
       "\\item[12] 110.341614906832\n",
       "\\item[13] 501.428571428571\n",
       "\\end{description*}\n"
      ],
      "text/markdown": [
       "1\n",
       ":   -85.20186335403757\n",
       ":   -134.0877329192558\n",
       ":   110.3416149068329\n",
       ":   550.31444099378911\n",
       ":   -2.0958850931680212\n",
       ":   110.34161490683213\n",
       ":   501.428571428571\n",
       "\n"
      ],
      "text/plain": [
       "          1           7           8           9          11          12 \n",
       " -85.201863 -134.087733  110.341615  550.314441   -2.095885  110.341615 \n",
       "         13 \n",
       " 501.428571 "
      ]
     },
     "metadata": {},
     "output_type": "display_data"
    }
   ],
   "source": [
    "pred1  <- predict(lm_train,test) # prediction points and visualizaton below\n",
    "pred1"
   ]
  },
  {
   "cell_type": "code",
   "execution_count": 68,
   "metadata": {},
   "outputs": [
    {
     "data": {
      "text/html": [
       "<style>\n",
       ".dl-inline {width: auto; margin:0; padding: 0}\n",
       ".dl-inline>dt, .dl-inline>dd {float: none; width: auto; display: inline-block}\n",
       ".dl-inline>dt::after {content: \":\\0020\"; padding-right: .5ex}\n",
       ".dl-inline>dt:not(:first-of-type) {padding-left: .5ex}\n",
       "</style><dl class=dl-inline><dt>1</dt><dd>-85.2018633540375</dd><dt>7</dt><dd>-134.087732919255</dd><dt>8</dt><dd>110.341614906832</dd><dt>9</dt><dd>550.314440993789</dd><dt>11</dt><dd>-2.09588509316802</dd><dt>12</dt><dd>110.341614906832</dd><dt>13</dt><dd>501.428571428571</dd></dl>\n"
      ],
      "text/latex": [
       "\\begin{description*}\n",
       "\\item[1] -85.2018633540375\n",
       "\\item[7] -134.087732919255\n",
       "\\item[8] 110.341614906832\n",
       "\\item[9] 550.314440993789\n",
       "\\item[11] -2.09588509316802\n",
       "\\item[12] 110.341614906832\n",
       "\\item[13] 501.428571428571\n",
       "\\end{description*}\n"
      ],
      "text/markdown": [
       "1\n",
       ":   -85.20186335403757\n",
       ":   -134.0877329192558\n",
       ":   110.3416149068329\n",
       ":   550.31444099378911\n",
       ":   -2.0958850931680212\n",
       ":   110.34161490683213\n",
       ":   501.428571428571\n",
       "\n"
      ],
      "text/plain": [
       "          1           7           8           9          11          12 \n",
       " -85.201863 -134.087733  110.341615  550.314441   -2.095885  110.341615 \n",
       "         13 \n",
       " 501.428571 "
      ]
     },
     "metadata": {},
     "output_type": "display_data"
    },
    {
     "data": {
      "image/png": "[encoded data removed]",
      "text/plain": [
       "plot without title"
      ]
     },
     "metadata": {
      "image/png": {
       "height": 420,
       "width": 420
      },
      "text/plain": {
       "height": 420,
       "width": 420
      }
     },
     "output_type": "display_data"
    }
   ],
   "source": [
    "plot(pred1) # our prediction is working lets validate it \n",
    "# lets check 10 value of pred\n",
    "pred  <- predict(lm_train,test) # predicting 10 values \n",
    "pred # after prediction we are checking 10 values "
   ]
  },
  {
   "cell_type": "markdown",
   "metadata": {},
   "source": [
    "############################################ Cross Validation ############################################################"
   ]
  },
  {
   "cell_type": "code",
   "execution_count": 69,
   "metadata": {},
   "outputs": [
    {
     "name": "stdout",
     "output_type": "stream",
     "text": [
      "+ Fold01: intercept=TRUE \n",
      "- Fold01: intercept=TRUE \n",
      "+ Fold02: intercept=TRUE \n",
      "- Fold02: intercept=TRUE \n",
      "+ Fold03: intercept=TRUE \n",
      "- Fold03: intercept=TRUE \n",
      "+ Fold04: intercept=TRUE \n",
      "- Fold04: intercept=TRUE \n",
      "+ Fold05: intercept=TRUE \n",
      "- Fold05: intercept=TRUE \n",
      "+ Fold06: intercept=TRUE \n",
      "- Fold06: intercept=TRUE \n",
      "+ Fold07: intercept=TRUE \n",
      "- Fold07: intercept=TRUE \n",
      "+ Fold08: intercept=TRUE \n",
      "- Fold08: intercept=TRUE \n",
      "+ Fold09: intercept=TRUE \n",
      "- Fold09: intercept=TRUE \n",
      "+ Fold10: intercept=TRUE \n",
      "- Fold10: intercept=TRUE \n"
     ]
    },
    {
     "name": "stderr",
     "output_type": "stream",
     "text": [
      "Warning message in nominalTrainWorkflow(x = x, y = y, wts = weights, info = trainInfo, :\n",
      "\"There were missing values in resampled performance measures.\"\n"
     ]
    },
    {
     "name": "stdout",
     "output_type": "stream",
     "text": [
      "Aggregating results\n",
      "Fitting final model on full training set\n"
     ]
    },
    {
     "data": {
      "text/html": [
       "<style>\n",
       ".dl-inline {width: auto; margin:0; padding: 0}\n",
       ".dl-inline>dt, .dl-inline>dd {float: none; width: auto; display: inline-block}\n",
       ".dl-inline>dt::after {content: \":\\0020\"; padding-right: .5ex}\n",
       ".dl-inline>dt:not(:first-of-type) {padding-left: .5ex}\n",
       "</style><dl class=dl-inline><dt>1</dt><dd>4.48259912172375</dd><dt>2</dt><dd>340.607908368681</dd><dt>3</dt><dd>802.780208583248</dd><dt>4</dt><dd>298.592244712812</dd><dt>5</dt><dd>424.639235680421</dd><dt>6</dt><dd>46.4982627775934</dd><dt>7</dt><dd>-37.533064534146</dd><dt>8</dt><dd>172.545253745203</dd><dt>9</dt><dd>550.68622664803</dd><dt>10</dt><dd>1012.8585268626</dd></dl>\n"
      ],
      "text/latex": [
       "\\begin{description*}\n",
       "\\item[1] 4.48259912172375\n",
       "\\item[2] 340.607908368681\n",
       "\\item[3] 802.780208583248\n",
       "\\item[4] 298.592244712812\n",
       "\\item[5] 424.639235680421\n",
       "\\item[6] 46.4982627775934\n",
       "\\item[7] -37.533064534146\n",
       "\\item[8] 172.545253745203\n",
       "\\item[9] 550.68622664803\n",
       "\\item[10] 1012.8585268626\n",
       "\\end{description*}\n"
      ],
      "text/markdown": [
       "1\n",
       ":   4.482599121723752\n",
       ":   340.6079083686813\n",
       ":   802.7802085832484\n",
       ":   298.5922447128125\n",
       ":   424.6392356804216\n",
       ":   46.49826277759347\n",
       ":   -37.5330645341468\n",
       ":   172.5452537452039\n",
       ":   550.6862266480310\n",
       ":   1012.8585268626\n",
       "\n"
      ],
      "text/plain": [
       "          1           2           3           4           5           6 \n",
       "   4.482599  340.607908  802.780209  298.592245  424.639236   46.498263 \n",
       "          7           8           9          10 \n",
       " -37.533065  172.545254  550.686227 1012.858527 "
      ]
     },
     "metadata": {},
     "output_type": "display_data"
    },
    {
     "data": {
      "text/html": [
       "<table>\n",
       "<caption>A data.frame: 10 × 2</caption>\n",
       "<thead>\n",
       "\t<tr><th></th><th scope=col>Weight</th><th scope=col>Calories</th></tr>\n",
       "\t<tr><th></th><th scope=col>&lt;int&gt;</th><th scope=col>&lt;int&gt;</th></tr>\n",
       "</thead>\n",
       "<tbody>\n",
       "\t<tr><th scope=row>1</th><td> 108</td><td>1500</td></tr>\n",
       "\t<tr><th scope=row>2</th><td> 200</td><td>2300</td></tr>\n",
       "\t<tr><th scope=row>3</th><td> 900</td><td>3400</td></tr>\n",
       "\t<tr><th scope=row>4</th><td> 200</td><td>2200</td></tr>\n",
       "\t<tr><th scope=row>5</th><td> 300</td><td>2500</td></tr>\n",
       "\t<tr><th scope=row>6</th><td> 110</td><td>1600</td></tr>\n",
       "\t<tr><th scope=row>7</th><td> 128</td><td>1400</td></tr>\n",
       "\t<tr><th scope=row>8</th><td>  62</td><td>1900</td></tr>\n",
       "\t<tr><th scope=row>9</th><td> 600</td><td>2800</td></tr>\n",
       "\t<tr><th scope=row>10</th><td>1100</td><td>3900</td></tr>\n",
       "</tbody>\n",
       "</table>\n"
      ],
      "text/latex": [
       "A data.frame: 10 × 2\n",
       "\\begin{tabular}{r|ll}\n",
       "  & Weight & Calories\\\\\n",
       "  & <int> & <int>\\\\\n",
       "\\hline\n",
       "\t1 &  108 & 1500\\\\\n",
       "\t2 &  200 & 2300\\\\\n",
       "\t3 &  900 & 3400\\\\\n",
       "\t4 &  200 & 2200\\\\\n",
       "\t5 &  300 & 2500\\\\\n",
       "\t6 &  110 & 1600\\\\\n",
       "\t7 &  128 & 1400\\\\\n",
       "\t8 &   62 & 1900\\\\\n",
       "\t9 &  600 & 2800\\\\\n",
       "\t10 & 1100 & 3900\\\\\n",
       "\\end{tabular}\n"
      ],
      "text/markdown": [
       "\n",
       "A data.frame: 10 × 2\n",
       "\n",
       "| <!--/--> | Weight &lt;int&gt; | Calories &lt;int&gt; |\n",
       "|---|---|---|\n",
       "| 1 |  108 | 1500 |\n",
       "| 2 |  200 | 2300 |\n",
       "| 3 |  900 | 3400 |\n",
       "| 4 |  200 | 2200 |\n",
       "| 5 |  300 | 2500 |\n",
       "| 6 |  110 | 1600 |\n",
       "| 7 |  128 | 1400 |\n",
       "| 8 |   62 | 1900 |\n",
       "| 9 |  600 | 2800 |\n",
       "| 10 | 1100 | 3900 |\n",
       "\n"
      ],
      "text/plain": [
       "   Weight Calories\n",
       "1   108   1500    \n",
       "2   200   2300    \n",
       "3   900   3400    \n",
       "4   200   2200    \n",
       "5   300   2500    \n",
       "6   110   1600    \n",
       "7   128   1400    \n",
       "8    62   1900    \n",
       "9   600   2800    \n",
       "10 1100   3900    "
      ]
     },
     "metadata": {},
     "output_type": "display_data"
    },
    {
     "data": {
      "text/html": [
       "109.028848294717"
      ],
      "text/latex": [
       "109.028848294717"
      ],
      "text/markdown": [
       "109.028848294717"
      ],
      "text/plain": [
       "[1] 109.0288"
      ]
     },
     "metadata": {},
     "output_type": "display_data"
    },
    {
     "data": {
      "text/plain": [
       "Linear Regression \n",
       "\n",
       "14 samples\n",
       " 1 predictor\n",
       "\n",
       "No pre-processing\n",
       "Resampling: Cross-Validated (10 fold) \n",
       "Summary of sample sizes: 13, 13, 13, 13, 12, 12, ... \n",
       "Resampling results:\n",
       "\n",
       "  RMSE      Rsquared  MAE     \n",
       "  112.2879  1         108.4789\n",
       "\n",
       "Tuning parameter 'intercept' was held constant at a value of TRUE"
      ]
     },
     "metadata": {},
     "output_type": "display_data"
    },
    {
     "data": {
      "text/plain": [
       "\n",
       "Call:\n",
       "lm(formula = .outcome ~ ., data = dat)\n",
       "\n",
       "Residuals:\n",
       "    Min      1Q  Median      3Q     Max \n",
       "-158.67 -107.56   36.70   81.68  165.53 \n",
       "\n",
       "Coefficients:\n",
       "              Estimate Std. Error t value Pr(>|t|)    \n",
       "(Intercept) -625.75236  100.82293  -6.206 4.54e-05 ***\n",
       "Calories       0.42016    0.04115  10.211 2.86e-07 ***\n",
       "---\n",
       "Signif. codes:  0 '***' 0.001 '**' 0.01 '*' 0.05 '.' 0.1 ' ' 1\n",
       "\n",
       "Residual standard error: 111.6 on 12 degrees of freedom\n",
       "Multiple R-squared:  0.8968,\tAdjusted R-squared:  0.8882 \n",
       "F-statistic: 104.3 on 1 and 12 DF,  p-value: 2.856e-07\n"
      ]
     },
     "metadata": {},
     "output_type": "display_data"
    }
   ],
   "source": [
    "# K-10 Fold valdation model is ready\n",
    "library(lattice)\n",
    "library(caret) \n",
    "\n",
    "# Fit linear regression model\n",
    "Kfoldmodel <- train(Weight ~ Calories, cal,\n",
    "                    method = \"lm\",\n",
    "                    trControl = trainControl(\n",
    "                      method = \"cv\", number = 10,\n",
    "                      verboseIter = TRUE\n",
    "                    )\n",
    ") \n",
    "\n",
    "predicted <- predict(Kfoldmodel,cal[0:10,]) \n",
    "predicted\n",
    "cal[0:10,]#he row predicted it worked AT is predicted \n",
    "#Evaluate error\n",
    "actual <- cal[0:10, \"Weight\"]\n",
    "err <-  sqrt(mean((predicted - actual)^2)) \n",
    "err\n",
    "\n",
    " #print the model\n",
    "Kfoldmodel\n",
    "\n",
    "summary(Kfoldmodel) # p value is too low so we rejecting this model\n"
   ]
  },
  {
   "cell_type": "code",
   "execution_count": 70,
   "metadata": {},
   "outputs": [
    {
     "data": {
      "text/html": [
       "<style>\n",
       ".dl-inline {width: auto; margin:0; padding: 0}\n",
       ".dl-inline>dt, .dl-inline>dd {float: none; width: auto; display: inline-block}\n",
       ".dl-inline>dt::after {content: \":\\0020\"; padding-right: .5ex}\n",
       ".dl-inline>dt:not(:first-of-type) {padding-left: .5ex}\n",
       "</style><dl class=dl-inline><dt>3</dt><dd>802.780208583248</dd><dt>14</dt><dd>634.717553959769</dd><dt>10</dt><dd>1012.8585268626</dd><dt>2</dt><dd>340.607908368681</dd><dt>6</dt><dd>46.4982627775934</dd><dt>5</dt><dd>424.639235680421</dd><dt>4</dt><dd>298.592244712812</dd></dl>\n"
      ],
      "text/latex": [
       "\\begin{description*}\n",
       "\\item[3] 802.780208583248\n",
       "\\item[14] 634.717553959769\n",
       "\\item[10] 1012.8585268626\n",
       "\\item[2] 340.607908368681\n",
       "\\item[6] 46.4982627775934\n",
       "\\item[5] 424.639235680421\n",
       "\\item[4] 298.592244712812\n",
       "\\end{description*}\n"
      ],
      "text/markdown": [
       "3\n",
       ":   802.78020858324814\n",
       ":   634.71755395976910\n",
       ":   1012.85852686262\n",
       ":   340.6079083686816\n",
       ":   46.49826277759345\n",
       ":   424.6392356804214\n",
       ":   298.592244712812\n",
       "\n"
      ],
      "text/plain": [
       "         3         14         10          2          6          5          4 \n",
       " 802.78021  634.71755 1012.85853  340.60791   46.49826  424.63924  298.59224 "
      ]
     },
     "metadata": {},
     "output_type": "display_data"
    },
    {
     "data": {
      "text/html": [
       "<style>\n",
       ".dl-inline {width: auto; margin:0; padding: 0}\n",
       ".dl-inline>dt, .dl-inline>dd {float: none; width: auto; display: inline-block}\n",
       ".dl-inline>dt::after {content: \":\\0020\"; padding-right: .5ex}\n",
       ".dl-inline>dt:not(:first-of-type) {padding-left: .5ex}\n",
       "</style><dl class=dl-inline><dt>1</dt><dd>4.48259912172375</dd><dt>7</dt><dd>-37.533064534146</dd><dt>8</dt><dd>172.545253745203</dd><dt>9</dt><dd>550.68622664803</dd><dt>11</dt><dd>75.9092273367022</dd><dt>12</dt><dd>172.545253745203</dd><dt>13</dt><dd>508.67056299216</dd></dl>\n"
      ],
      "text/latex": [
       "\\begin{description*}\n",
       "\\item[1] 4.48259912172375\n",
       "\\item[7] -37.533064534146\n",
       "\\item[8] 172.545253745203\n",
       "\\item[9] 550.68622664803\n",
       "\\item[11] 75.9092273367022\n",
       "\\item[12] 172.545253745203\n",
       "\\item[13] 508.67056299216\n",
       "\\end{description*}\n"
      ],
      "text/markdown": [
       "1\n",
       ":   4.482599121723757\n",
       ":   -37.5330645341468\n",
       ":   172.5452537452039\n",
       ":   550.6862266480311\n",
       ":   75.909227336702212\n",
       ":   172.54525374520313\n",
       ":   508.67056299216\n",
       "\n"
      ],
      "text/plain": [
       "         1          7          8          9         11         12         13 \n",
       "  4.482599 -37.533065 172.545254 550.686227  75.909227 172.545254 508.670563 "
      ]
     },
     "metadata": {},
     "output_type": "display_data"
    }
   ],
   "source": [
    "pred_train  <- predict(Kfoldmodel,train)\n",
    "pred_train # the predicted values of train data \n",
    "\n",
    "pred_test  <- predict(Kfoldmodel,test)\n",
    "pred_test # the predicted values of test data \n",
    "\n"
   ]
  },
  {
   "cell_type": "code",
   "execution_count": 71,
   "metadata": {},
   "outputs": [
    {
     "data": {
      "text/html": [
       "0.946991008855446"
      ],
      "text/latex": [
       "0.946991008855446"
      ],
      "text/markdown": [
       "0.946991008855446"
      ],
      "text/plain": [
       "[1] 0.946991"
      ]
     },
     "metadata": {},
     "output_type": "display_data"
    },
    {
     "data": {
      "text/plain": [
       "\n",
       "Call:\n",
       "lm(formula = Weight ~ Calories)\n",
       "\n",
       "Residuals:\n",
       "    Min      1Q  Median      3Q     Max \n",
       "-158.67 -107.56   36.70   81.68  165.53 \n",
       "\n",
       "Coefficients:\n",
       "              Estimate Std. Error t value Pr(>|t|)    \n",
       "(Intercept) -625.75236  100.82293  -6.206 4.54e-05 ***\n",
       "Calories       0.42016    0.04115  10.211 2.86e-07 ***\n",
       "---\n",
       "Signif. codes:  0 '***' 0.001 '**' 0.01 '*' 0.05 '.' 0.1 ' ' 1\n",
       "\n",
       "Residual standard error: 111.6 on 12 degrees of freedom\n",
       "Multiple R-squared:  0.8968,\tAdjusted R-squared:  0.8882 \n",
       "F-statistic: 104.3 on 1 and 12 DF,  p-value: 2.856e-07\n"
      ]
     },
     "metadata": {},
     "output_type": "display_data"
    },
    {
     "data": {
      "image/png": "[encoded data removed]",
      "text/plain": [
       "plot without title"
      ]
     },
     "metadata": {
      "image/png": {
       "height": 420,
       "width": 420
      },
      "text/plain": {
       "height": 420,
       "width": 420
      }
     },
     "output_type": "display_data"
    },
    {
     "data": {
      "image/png": "[encoded data removed]",
      "text/plain": [
       "Plot with title \"Normal Q-Q Plot\""
      ]
     },
     "metadata": {
      "image/png": {
       "height": 420,
       "width": 420
      },
      "text/plain": {
       "height": 420,
       "width": 420
      }
     },
     "output_type": "display_data"
    },
    {
     "data": {
      "text/html": [
       "103.302501947269"
      ],
      "text/latex": [
       "103.302501947269"
      ],
      "text/markdown": [
       "103.302501947269"
      ],
      "text/plain": [
       "[1] 103.3025"
      ]
     },
     "metadata": {},
     "output_type": "display_data"
    },
    {
     "data": {
      "text/plain": [
       "   Min. 1st Qu.  Median    Mean 3rd Qu.    Max. \n",
       "  103.3   103.3   103.3   103.3   103.3   103.3 "
      ]
     },
     "metadata": {},
     "output_type": "display_data"
    },
    {
     "data": {
      "image/png": "[encoded data removed]",
      "text/plain": [
       "Plot with title \"Normal Q-Q Plot\""
      ]
     },
     "metadata": {
      "image/png": {
       "height": 420,
       "width": 420
      },
      "text/plain": {
       "height": 420,
       "width": 420
      }
     },
     "output_type": "display_data"
    }
   ],
   "source": [
    "# Log model-1 # exponentioal model\n",
    "plot( Weight,Calories) \n",
    "cor(Weight,Calories)# cor relation little bit improved \n",
    "lm_Calories <- lm(Weight ~ Calories) # log transformation\n",
    "summary(lm_Calories) # after transformatin r square improved but not significant\n",
    "\n",
    "qqnorm(resid(lm_Calories)) # checking residual value its not a linear\n",
    "qqline(resid(lm_Calories)) # checking residual value its not a linear\n",
    "qqnorm(fitted.values(lm_Calories)) # still it is not fitted values\n",
    "qqline(fitted.values(lm_Calories)) # still it is not fitted values\n",
    "\n",
    "rmse_Calories <- sqrt(mean(lm_Calories$residuals^2))\n",
    "rmse_Calories # rmse not imporved , residual errors is large\n",
    "summary(rmse_Calories) # rmse need to imporved "
   ]
  },
  {
   "cell_type": "code",
   "execution_count": 50,
   "metadata": {},
   "outputs": [
    {
     "data": {
      "text/html": [
       "0.936803690336472"
      ],
      "text/latex": [
       "0.936803690336472"
      ],
      "text/markdown": [
       "0.936803690336472"
      ],
      "text/plain": [
       "[1] 0.9368037"
      ]
     },
     "metadata": {},
     "output_type": "display_data"
    },
    {
     "data": {
      "text/plain": [
       "\n",
       "Call:\n",
       "lm(formula = log(Weight) ~ Calories)\n",
       "\n",
       "Residuals:\n",
       "     Min       1Q   Median       3Q      Max \n",
       "-0.86537 -0.10532  0.02462  0.13467  0.42632 \n",
       "\n",
       "Coefficients:\n",
       "             Estimate Std. Error t value Pr(>|t|)    \n",
       "(Intercept) 2.8386724  0.2994581   9.479 6.36e-07 ***\n",
       "Calories    0.0011336  0.0001222   9.276 8.02e-07 ***\n",
       "---\n",
       "Signif. codes:  0 '***' 0.001 '**' 0.01 '*' 0.05 '.' 0.1 ' ' 1\n",
       "\n",
       "Residual standard error: 0.3314 on 12 degrees of freedom\n",
       "Multiple R-squared:  0.8776,\tAdjusted R-squared:  0.8674 \n",
       "F-statistic: 86.04 on 1 and 12 DF,  p-value: 8.018e-07\n"
      ]
     },
     "metadata": {},
     "output_type": "display_data"
    },
    {
     "data": {
      "image/png": "[encoded data removed]",
      "text/plain": [
       "plot without title"
      ]
     },
     "metadata": {
      "image/png": {
       "height": 420,
       "width": 420
      },
      "text/plain": {
       "height": 420,
       "width": 420
      }
     },
     "output_type": "display_data"
    },
    {
     "data": {
      "image/png": "[encoded data removed]",
      "text/plain": [
       "Plot with title \"Normal Q-Q Plot\""
      ]
     },
     "metadata": {
      "image/png": {
       "height": 420,
       "width": 420
      },
      "text/plain": {
       "height": 420,
       "width": 420
      }
     },
     "output_type": "display_data"
    },
    {
     "data": {
      "text/html": [
       "0.306822815151027"
      ],
      "text/latex": [
       "0.306822815151027"
      ],
      "text/markdown": [
       "0.306822815151027"
      ],
      "text/plain": [
       "[1] 0.3068228"
      ]
     },
     "metadata": {},
     "output_type": "display_data"
    },
    {
     "data": {
      "text/plain": [
       "   Min. 1st Qu.  Median    Mean 3rd Qu.    Max. \n",
       " 0.3068  0.3068  0.3068  0.3068  0.3068  0.3068 "
      ]
     },
     "metadata": {},
     "output_type": "display_data"
    },
    {
     "data": {
      "image/png": "[encoded data removed]",
      "text/plain": [
       "Plot with title \"Normal Q-Q Plot\""
      ]
     },
     "metadata": {
      "image/png": {
       "height": 420,
       "width": 420
      },
      "text/plain": {
       "height": 420,
       "width": 420
      }
     },
     "output_type": "display_data"
    }
   ],
   "source": [
    "# log transformation  Exponential model 2 \n",
    "# Log model-2 \n",
    "plot(log(Weight), Calories) \n",
    "cor(log(Weight), Calories)\n",
    "lm_Log_Weight <-lm(log(Weight) ~ Calories) # log transformation\n",
    "\n",
    "summary(lm_Log_Weight) # after transformatin r square little bit improved but not find model\n",
    "\n",
    "qqnorm(resid(lm_Log_Weight)) # checking residual value its not a linear\n",
    "qqline(resid(lm_Log_Weight)) # checking residual value its not a linear\n",
    "qqnorm(fitted.values(lm_Log_Weight)) # still it is not fitted values\n",
    "qqline(fitted.values(lm_Log_Weight)) # still it is not fitted values\n",
    "\n",
    "rmse_Weight <- sqrt(mean(lm_Log_Weight$residuals^2))\n",
    "rmse_Weight # rmse  imporved \n",
    "summary(rmse_Weight)"
   ]
  },
  {
   "cell_type": "code",
   "execution_count": 51,
   "metadata": {},
   "outputs": [
    {
     "data": {
      "text/html": [
       "0.898725280528771"
      ],
      "text/latex": [
       "0.898725280528771"
      ],
      "text/markdown": [
       "0.898725280528771"
      ],
      "text/plain": [
       "[1] 0.8987253"
      ]
     },
     "metadata": {},
     "output_type": "display_data"
    },
    {
     "data": {
      "text/plain": [
       "\n",
       "Call:\n",
       "lm(formula = Weight ~ log(Calories))\n",
       "\n",
       "Residuals:\n",
       "    Min      1Q  Median      3Q     Max \n",
       "-187.44 -142.96   23.13  113.20  213.82 \n",
       "\n",
       "Coefficients:\n",
       "              Estimate Std. Error t value Pr(>|t|)    \n",
       "(Intercept)    -6955.7     1030.9  -6.747 2.05e-05 ***\n",
       "log(Calories)    948.4      133.6   7.100 1.25e-05 ***\n",
       "---\n",
       "Signif. codes:  0 '***' 0.001 '**' 0.01 '*' 0.05 '.' 0.1 ' ' 1\n",
       "\n",
       "Residual standard error: 152.3 on 12 degrees of freedom\n",
       "Multiple R-squared:  0.8077,\tAdjusted R-squared:  0.7917 \n",
       "F-statistic:  50.4 on 1 and 12 DF,  p-value: 1.248e-05\n"
      ]
     },
     "metadata": {},
     "output_type": "display_data"
    },
    {
     "data": {
      "image/png": "[encoded data removed]",
      "text/plain": [
       "plot without title"
      ]
     },
     "metadata": {
      "image/png": {
       "height": 420,
       "width": 420
      },
      "text/plain": {
       "height": 420,
       "width": 420
      }
     },
     "output_type": "display_data"
    },
    {
     "data": {
      "image/png": "[encoded data removed]",
      "text/plain": [
       "Plot with title \"Normal Q-Q Plot\""
      ]
     },
     "metadata": {
      "image/png": {
       "height": 420,
       "width": 420
      },
      "text/plain": {
       "height": 420,
       "width": 420
      }
     },
     "output_type": "display_data"
    },
    {
     "data": {
      "text/html": [
       "141.005381694251"
      ],
      "text/latex": [
       "141.005381694251"
      ],
      "text/markdown": [
       "141.005381694251"
      ],
      "text/plain": [
       "[1] 141.0054"
      ]
     },
     "metadata": {},
     "output_type": "display_data"
    },
    {
     "data": {
      "text/plain": [
       "   Min. 1st Qu.  Median    Mean 3rd Qu.    Max. \n",
       "    141     141     141     141     141     141 "
      ]
     },
     "metadata": {},
     "output_type": "display_data"
    },
    {
     "data": {
      "image/png": "[encoded data removed]",
      "text/plain": [
       "Plot with title \"Normal Q-Q Plot\""
      ]
     },
     "metadata": {
      "image/png": {
       "height": 420,
       "width": 420
      },
      "text/plain": {
       "height": 420,
       "width": 420
      }
     },
     "output_type": "display_data"
    }
   ],
   "source": [
    "# Log model-3 # exponentioal model\n",
    "plot( Weight,log(Calories)) \n",
    "cor(Weight,log(Calories))# cor relation little bit improved \n",
    "lm_log_Calories <- lm(Weight ~ log(Calories)) # log transformation\n",
    "summary(lm_log_Calories) # after transformatin r square improved but not significant\n",
    "\n",
    "qqnorm(resid(lm_log_Calories)) # checking residual value its not a linear\n",
    "qqline(resid(lm_log_Calories)) # checking residual value its not a linear\n",
    "qqnorm(fitted.values(lm_log_Calories)) # still it is not fitted values\n",
    "qqline(fitted.values(lm_log_Calories)) # still it is not fitted values\n",
    "\n",
    "rmse_log_Calories <- sqrt(mean(lm_log_Calories$residuals^2))\n",
    "rmse_log_Calories # rmse not imporved , residual errors is large\n",
    "summary(rmse_log_Calories) # rmse need to imporved "
   ]
  },
  {
   "cell_type": "code",
   "execution_count": 34,
   "metadata": {},
   "outputs": [
    {
     "data": {
      "text/html": [
       "0.920052040472718"
      ],
      "text/latex": [
       "0.920052040472718"
      ],
      "text/markdown": [
       "0.920052040472718"
      ],
      "text/plain": [
       "[1] 0.920052"
      ]
     },
     "metadata": {},
     "output_type": "display_data"
    },
    {
     "data": {
      "text/plain": [
       "\n",
       "Call:\n",
       "lm(formula = log(Weight) ~ log(Calories))\n",
       "\n",
       "Residuals:\n",
       "     Min       1Q   Median       3Q      Max \n",
       "-0.93630 -0.13114 -0.00868  0.23300  0.59723 \n",
       "\n",
       "Coefficients:\n",
       "              Estimate Std. Error t value Pr(>|t|)    \n",
       "(Intercept)   -14.9275     2.5121  -5.942 6.80e-05 ***\n",
       "log(Calories)   2.6479     0.3255   8.135 3.17e-06 ***\n",
       "---\n",
       "Signif. codes:  0 '***' 0.001 '**' 0.01 '*' 0.05 '.' 0.1 ' ' 1\n",
       "\n",
       "Residual standard error: 0.3711 on 12 degrees of freedom\n",
       "Multiple R-squared:  0.8465,\tAdjusted R-squared:  0.8337 \n",
       "F-statistic: 66.17 on 1 and 12 DF,  p-value: 3.168e-06\n"
      ]
     },
     "metadata": {},
     "output_type": "display_data"
    },
    {
     "data": {
      "image/png": "[encoded data removed]",
      "text/plain": [
       "plot without title"
      ]
     },
     "metadata": {
      "image/png": {
       "height": 420,
       "width": 420
      },
      "text/plain": {
       "height": 420,
       "width": 420
      }
     },
     "output_type": "display_data"
    },
    {
     "data": {
      "image/png": "[encoded data removed]",
      "text/plain": [
       "Plot with title \"Normal Q-Q Plot\""
      ]
     },
     "metadata": {
      "image/png": {
       "height": 420,
       "width": 420
      },
      "text/plain": {
       "height": 420,
       "width": 420
      }
     },
     "output_type": "display_data"
    },
    {
     "data": {
      "text/html": [
       "0.343604767508406"
      ],
      "text/latex": [
       "0.343604767508406"
      ],
      "text/markdown": [
       "0.343604767508406"
      ],
      "text/plain": [
       "[1] 0.3436048"
      ]
     },
     "metadata": {},
     "output_type": "display_data"
    },
    {
     "data": {
      "text/plain": [
       "   Min. 1st Qu.  Median    Mean 3rd Qu.    Max. \n",
       " 0.3436  0.3436  0.3436  0.3436  0.3436  0.3436 "
      ]
     },
     "metadata": {},
     "output_type": "display_data"
    },
    {
     "data": {
      "image/png": "[encoded data removed]",
      "text/plain": [
       "Plot with title \"Normal Q-Q Plot\""
      ]
     },
     "metadata": {
      "image/png": {
       "height": 420,
       "width": 420
      },
      "text/plain": {
       "height": 420,
       "width": 420
      }
     },
     "output_type": "display_data"
    }
   ],
   "source": [
    "# Log model-3 # exponentioal model\n",
    "plot( log(Weight),log(Calories)) \n",
    "cor(log(Weight),log(Calories))# cor relation little bit improved \n",
    "lm_log_model <- lm(log(Weight) ~ log(Calories)) # log transformation\n",
    "summary(lm_log_model) # after transformatin r square improved but not significant\n",
    "#confint(lm_log_model,level =0.95)\n",
    "\n",
    "qqnorm(resid(lm_log_model)) # checking residual value its not a linear\n",
    "qqline(resid(lm_log_model)) # checking residual value its not a linear\n",
    "qqnorm(fitted.values(lm_log_model)) # still it is not fitted values\n",
    "qqline(fitted.values(lm_log_model)) # still it is not fitted values\n",
    "\n",
    "rmse_log_model <- sqrt(mean(lm_log_model$residuals^2))\n",
    "rmse_log_model # rmse not imporved , residual errors is large\n",
    "summary(rmse_log_model) # rmse need to imporved "
   ]
  },
  {
   "cell_type": "code",
   "execution_count": 35,
   "metadata": {},
   "outputs": [
    {
     "data": {
      "text/plain": [
       "\n",
       "Call:\n",
       "lm(formula = log(Weight) ~ Calories + I(Calories * Calories))\n",
       "\n",
       "Residuals:\n",
       "     Min       1Q   Median       3Q      Max \n",
       "-0.86562 -0.10529  0.02403  0.13541  0.42759 \n",
       "\n",
       "Coefficients:\n",
       "                         Estimate Std. Error t value Pr(>|t|)  \n",
       "(Intercept)             2.829e+00  1.062e+00   2.664    0.022 *\n",
       "Calories                1.142e-03  8.807e-04   1.297    0.221  \n",
       "I(Calories * Calories) -1.675e-09  1.707e-07  -0.010    0.992  \n",
       "---\n",
       "Signif. codes:  0 '***' 0.001 '**' 0.01 '*' 0.05 '.' 0.1 ' ' 1\n",
       "\n",
       "Residual standard error: 0.3461 on 11 degrees of freedom\n",
       "Multiple R-squared:  0.8776,\tAdjusted R-squared:  0.8553 \n",
       "F-statistic: 39.44 on 2 and 11 DF,  p-value: 9.611e-06\n"
      ]
     },
     "metadata": {},
     "output_type": "display_data"
    },
    {
     "data": {
      "text/html": [
       "<table>\n",
       "<caption>A matrix: 3 × 2 of type dbl</caption>\n",
       "<thead>\n",
       "\t<tr><th></th><th scope=col>2.5 %</th><th scope=col>97.5 %</th></tr>\n",
       "</thead>\n",
       "<tbody>\n",
       "\t<tr><th scope=row>(Intercept)</th><td> 4.920101e-01</td><td>5.165429e+00</td></tr>\n",
       "\t<tr><th scope=row>Calories</th><td>-7.962832e-04</td><td>3.080576e-03</td></tr>\n",
       "\t<tr><th scope=row>I(Calories * Calories)</th><td>-3.774780e-07</td><td>3.741279e-07</td></tr>\n",
       "</tbody>\n",
       "</table>\n"
      ],
      "text/latex": [
       "A matrix: 3 × 2 of type dbl\n",
       "\\begin{tabular}{r|ll}\n",
       "  & 2.5 \\% & 97.5 \\%\\\\\n",
       "\\hline\n",
       "\t(Intercept) &  4.920101e-01 & 5.165429e+00\\\\\n",
       "\tCalories & -7.962832e-04 & 3.080576e-03\\\\\n",
       "\tI(Calories * Calories) & -3.774780e-07 & 3.741279e-07\\\\\n",
       "\\end{tabular}\n"
      ],
      "text/markdown": [
       "\n",
       "A matrix: 3 × 2 of type dbl\n",
       "\n",
       "| <!--/--> | 2.5 % | 97.5 % |\n",
       "|---|---|---|\n",
       "| (Intercept) |  4.920101e-01 | 5.165429e+00 |\n",
       "| Calories | -7.962832e-04 | 3.080576e-03 |\n",
       "| I(Calories * Calories) | -3.774780e-07 | 3.741279e-07 |\n",
       "\n"
      ],
      "text/plain": [
       "                       2.5 %         97.5 %      \n",
       "(Intercept)             4.920101e-01 5.165429e+00\n",
       "Calories               -7.962832e-04 3.080576e-03\n",
       "I(Calories * Calories) -3.774780e-07 3.741279e-07"
      ]
     },
     "metadata": {},
     "output_type": "display_data"
    },
    {
     "data": {
      "text/html": [
       "<table>\n",
       "<caption>A matrix: 14 × 3 of type dbl</caption>\n",
       "<thead>\n",
       "\t<tr><th></th><th scope=col>fit</th><th scope=col>lwr</th><th scope=col>upr</th></tr>\n",
       "</thead>\n",
       "<tbody>\n",
       "\t<tr><th scope=row>1</th><td>  93.51950</td><td> 64.51052</td><td> 135.5732</td></tr>\n",
       "\t<tr><th scope=row>2</th><td> 232.01333</td><td>175.53766</td><td> 306.6589</td></tr>\n",
       "\t<tr><th scope=row>3</th><td> 806.45910</td><td>559.87321</td><td>1161.6492</td></tr>\n",
       "\t<tr><th scope=row>4</th><td> 207.12738</td><td>158.64199</td><td> 270.4313</td></tr>\n",
       "\t<tr><th scope=row>5</th><td> 291.08521</td><td>216.04276</td><td> 392.1937</td></tr>\n",
       "\t<tr><th scope=row>6</th><td> 104.78025</td><td> 76.28691</td><td> 143.9159</td></tr>\n",
       "\t<tr><th scope=row>7</th><td>  83.46614</td><td> 53.84059</td><td> 129.3930</td></tr>\n",
       "\t<tr><th scope=row>8</th><td> 147.34111</td><td>115.38786</td><td> 188.1429</td></tr>\n",
       "\t<tr><th scope=row>9</th><td> 408.95151</td><td>300.67971</td><td> 556.2109</td></tr>\n",
       "\t<tr><th scope=row>10</th><td>1418.86480</td><td>723.70186</td><td>2781.7772</td></tr>\n",
       "\t<tr><th scope=row>11</th><td> 113.45793</td><td> 85.04896</td><td> 151.3564</td></tr>\n",
       "\t<tr><th scope=row>12</th><td> 147.34111</td><td>115.38786</td><td> 188.1429</td></tr>\n",
       "\t<tr><th scope=row>13</th><td> 365.14818</td><td>268.71363</td><td> 496.1907</td></tr>\n",
       "\t<tr><th scope=row>14</th><td> 512.90098</td><td>376.86087</td><td> 698.0492</td></tr>\n",
       "</tbody>\n",
       "</table>\n"
      ],
      "text/latex": [
       "A matrix: 14 × 3 of type dbl\n",
       "\\begin{tabular}{r|lll}\n",
       "  & fit & lwr & upr\\\\\n",
       "\\hline\n",
       "\t1 &   93.51950 &  64.51052 &  135.5732\\\\\n",
       "\t2 &  232.01333 & 175.53766 &  306.6589\\\\\n",
       "\t3 &  806.45910 & 559.87321 & 1161.6492\\\\\n",
       "\t4 &  207.12738 & 158.64199 &  270.4313\\\\\n",
       "\t5 &  291.08521 & 216.04276 &  392.1937\\\\\n",
       "\t6 &  104.78025 &  76.28691 &  143.9159\\\\\n",
       "\t7 &   83.46614 &  53.84059 &  129.3930\\\\\n",
       "\t8 &  147.34111 & 115.38786 &  188.1429\\\\\n",
       "\t9 &  408.95151 & 300.67971 &  556.2109\\\\\n",
       "\t10 & 1418.86480 & 723.70186 & 2781.7772\\\\\n",
       "\t11 &  113.45793 &  85.04896 &  151.3564\\\\\n",
       "\t12 &  147.34111 & 115.38786 &  188.1429\\\\\n",
       "\t13 &  365.14818 & 268.71363 &  496.1907\\\\\n",
       "\t14 &  512.90098 & 376.86087 &  698.0492\\\\\n",
       "\\end{tabular}\n"
      ],
      "text/markdown": [
       "\n",
       "A matrix: 14 × 3 of type dbl\n",
       "\n",
       "| <!--/--> | fit | lwr | upr |\n",
       "|---|---|---|---|\n",
       "| 1 |   93.51950 |  64.51052 |  135.5732 |\n",
       "| 2 |  232.01333 | 175.53766 |  306.6589 |\n",
       "| 3 |  806.45910 | 559.87321 | 1161.6492 |\n",
       "| 4 |  207.12738 | 158.64199 |  270.4313 |\n",
       "| 5 |  291.08521 | 216.04276 |  392.1937 |\n",
       "| 6 |  104.78025 |  76.28691 |  143.9159 |\n",
       "| 7 |   83.46614 |  53.84059 |  129.3930 |\n",
       "| 8 |  147.34111 | 115.38786 |  188.1429 |\n",
       "| 9 |  408.95151 | 300.67971 |  556.2109 |\n",
       "| 10 | 1418.86480 | 723.70186 | 2781.7772 |\n",
       "| 11 |  113.45793 |  85.04896 |  151.3564 |\n",
       "| 12 |  147.34111 | 115.38786 |  188.1429 |\n",
       "| 13 |  365.14818 | 268.71363 |  496.1907 |\n",
       "| 14 |  512.90098 | 376.86087 |  698.0492 |\n",
       "\n"
      ],
      "text/plain": [
       "   fit        lwr       upr      \n",
       "1    93.51950  64.51052  135.5732\n",
       "2   232.01333 175.53766  306.6589\n",
       "3   806.45910 559.87321 1161.6492\n",
       "4   207.12738 158.64199  270.4313\n",
       "5   291.08521 216.04276  392.1937\n",
       "6   104.78025  76.28691  143.9159\n",
       "7    83.46614  53.84059  129.3930\n",
       "8   147.34111 115.38786  188.1429\n",
       "9   408.95151 300.67971  556.2109\n",
       "10 1418.86480 723.70186 2781.7772\n",
       "11  113.45793  85.04896  151.3564\n",
       "12  147.34111 115.38786  188.1429\n",
       "13  365.14818 268.71363  496.1907\n",
       "14  512.90098 376.86087  698.0492"
      ]
     },
     "metadata": {},
     "output_type": "display_data"
    },
    {
     "data": {
      "text/html": [
       "<table>\n",
       "<caption>A matrix: 14 × 3 of type dbl</caption>\n",
       "<thead>\n",
       "\t<tr><th></th><th scope=col>fit</th><th scope=col>lwr</th><th scope=col>upr</th></tr>\n",
       "</thead>\n",
       "<tbody>\n",
       "\t<tr><th scope=row>1</th><td>  14.480503</td><td> 43.48948</td><td>  -27.573175</td></tr>\n",
       "\t<tr><th scope=row>2</th><td> -32.013330</td><td> 24.46234</td><td> -106.658891</td></tr>\n",
       "\t<tr><th scope=row>3</th><td>  93.540901</td><td>340.12679</td><td> -261.649228</td></tr>\n",
       "\t<tr><th scope=row>4</th><td>  -7.127381</td><td> 41.35801</td><td>  -70.431255</td></tr>\n",
       "\t<tr><th scope=row>5</th><td>   8.914791</td><td> 83.95724</td><td>  -92.193654</td></tr>\n",
       "\t<tr><th scope=row>6</th><td>   5.219749</td><td> 33.71309</td><td>  -33.915921</td></tr>\n",
       "\t<tr><th scope=row>7</th><td>  44.533857</td><td> 74.15941</td><td>   -1.393028</td></tr>\n",
       "\t<tr><th scope=row>8</th><td> -85.341113</td><td>-53.38786</td><td> -126.142875</td></tr>\n",
       "\t<tr><th scope=row>9</th><td> 191.048488</td><td>299.32029</td><td>   43.789078</td></tr>\n",
       "\t<tr><th scope=row>10</th><td>-318.864795</td><td>376.29814</td><td>-1681.777151</td></tr>\n",
       "\t<tr><th scope=row>11</th><td> -13.457933</td><td> 14.95104</td><td>  -51.356376</td></tr>\n",
       "\t<tr><th scope=row>12</th><td>   2.658887</td><td> 34.61214</td><td>  -38.142875</td></tr>\n",
       "\t<tr><th scope=row>13</th><td> -15.148180</td><td> 81.28637</td><td> -146.190655</td></tr>\n",
       "\t<tr><th scope=row>14</th><td> 187.099025</td><td>323.13913</td><td>    1.950846</td></tr>\n",
       "</tbody>\n",
       "</table>\n"
      ],
      "text/latex": [
       "A matrix: 14 × 3 of type dbl\n",
       "\\begin{tabular}{r|lll}\n",
       "  & fit & lwr & upr\\\\\n",
       "\\hline\n",
       "\t1 &   14.480503 &  43.48948 &   -27.573175\\\\\n",
       "\t2 &  -32.013330 &  24.46234 &  -106.658891\\\\\n",
       "\t3 &   93.540901 & 340.12679 &  -261.649228\\\\\n",
       "\t4 &   -7.127381 &  41.35801 &   -70.431255\\\\\n",
       "\t5 &    8.914791 &  83.95724 &   -92.193654\\\\\n",
       "\t6 &    5.219749 &  33.71309 &   -33.915921\\\\\n",
       "\t7 &   44.533857 &  74.15941 &    -1.393028\\\\\n",
       "\t8 &  -85.341113 & -53.38786 &  -126.142875\\\\\n",
       "\t9 &  191.048488 & 299.32029 &    43.789078\\\\\n",
       "\t10 & -318.864795 & 376.29814 & -1681.777151\\\\\n",
       "\t11 &  -13.457933 &  14.95104 &   -51.356376\\\\\n",
       "\t12 &    2.658887 &  34.61214 &   -38.142875\\\\\n",
       "\t13 &  -15.148180 &  81.28637 &  -146.190655\\\\\n",
       "\t14 &  187.099025 & 323.13913 &     1.950846\\\\\n",
       "\\end{tabular}\n"
      ],
      "text/markdown": [
       "\n",
       "A matrix: 14 × 3 of type dbl\n",
       "\n",
       "| <!--/--> | fit | lwr | upr |\n",
       "|---|---|---|---|\n",
       "| 1 |   14.480503 |  43.48948 |   -27.573175 |\n",
       "| 2 |  -32.013330 |  24.46234 |  -106.658891 |\n",
       "| 3 |   93.540901 | 340.12679 |  -261.649228 |\n",
       "| 4 |   -7.127381 |  41.35801 |   -70.431255 |\n",
       "| 5 |    8.914791 |  83.95724 |   -92.193654 |\n",
       "| 6 |    5.219749 |  33.71309 |   -33.915921 |\n",
       "| 7 |   44.533857 |  74.15941 |    -1.393028 |\n",
       "| 8 |  -85.341113 | -53.38786 |  -126.142875 |\n",
       "| 9 |  191.048488 | 299.32029 |    43.789078 |\n",
       "| 10 | -318.864795 | 376.29814 | -1681.777151 |\n",
       "| 11 |  -13.457933 |  14.95104 |   -51.356376 |\n",
       "| 12 |    2.658887 |  34.61214 |   -38.142875 |\n",
       "| 13 |  -15.148180 |  81.28637 |  -146.190655 |\n",
       "| 14 |  187.099025 | 323.13913 |     1.950846 |\n",
       "\n"
      ],
      "text/plain": [
       "   fit         lwr       upr         \n",
       "1    14.480503  43.48948   -27.573175\n",
       "2   -32.013330  24.46234  -106.658891\n",
       "3    93.540901 340.12679  -261.649228\n",
       "4    -7.127381  41.35801   -70.431255\n",
       "5     8.914791  83.95724   -92.193654\n",
       "6     5.219749  33.71309   -33.915921\n",
       "7    44.533857  74.15941    -1.393028\n",
       "8   -85.341113 -53.38786  -126.142875\n",
       "9   191.048488 299.32029    43.789078\n",
       "10 -318.864795 376.29814 -1681.777151\n",
       "11  -13.457933  14.95104   -51.356376\n",
       "12    2.658887  34.61214   -38.142875\n",
       "13  -15.148180  81.28637  -146.190655\n",
       "14  187.099025 323.13913     1.950846"
      ]
     },
     "metadata": {},
     "output_type": "display_data"
    },
    {
     "data": {
      "text/html": [
       "294.389999335914"
      ],
      "text/latex": [
       "294.389999335914"
      ],
      "text/markdown": [
       "294.389999335914"
      ],
      "text/plain": [
       "[1] 294.39"
      ]
     },
     "metadata": {},
     "output_type": "display_data"
    }
   ],
   "source": [
    "# Polynomial transformation 4 \n",
    "lm_3 <- lm(log(Weight) ~ Calories + I(Calories * Calories))\n",
    "summary(lm_3)\n",
    "\n",
    "confint(lm_3,level=0.95)# confidence interval\n",
    "\n",
    "log_res <- predict(lm_3,interval=\"confidence\") #predicted confidence\n",
    "atpoly <- exp(log_res) # expontial values at play \n",
    "atpoly\n",
    "err_poly <- Weight - atpoly  # error deducted from y\n",
    "err_poly\n",
    "\n",
    "rmse3 <- sqrt(mean(err_poly^2)) # rmse\n",
    "rmse3\n",
    "\n"
   ]
  },
  {
   "cell_type": "code",
   "execution_count": null,
   "metadata": {},
   "outputs": [],
   "source": []
  },
  {
   "cell_type": "code",
   "execution_count": null,
   "metadata": {},
   "outputs": [],
   "source": []
  }
 ],
 "metadata": {
  "kernelspec": {
   "display_name": "R",
   "language": "R",
   "name": "ir"
  },
  "language_info": {
   "codemirror_mode": "r",
   "file_extension": ".r",
   "mimetype": "text/x-r-source",
   "name": "R",
   "pygments_lexer": "r",
   "version": "3.6.3"
  }
 },
 "nbformat": 4,
 "nbformat_minor": 2
}
